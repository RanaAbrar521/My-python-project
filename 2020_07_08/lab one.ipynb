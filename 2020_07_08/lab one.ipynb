{
 "cells": [
  {
   "cell_type": "markdown",
   "id": "6e9ac1c3",
   "metadata": {},
   "source": [
    "# lab Assignment one"
   ]
  },
  {
   "cell_type": "markdown",
   "id": "d76d5fbb",
   "metadata": {},
   "source": [
    "# Q1.Write a function get_date(int) that takes a param number_of_days and if the number is \n",
    "odd return (current_date + number_of_days) else return (current_date - number_of_days)"
   ]
  },
  {
   "cell_type": "code",
   "execution_count": 1,
   "id": "8411b6b1",
   "metadata": {},
   "outputs": [
    {
     "name": "stdout",
     "output_type": "stream",
     "text": [
      "2021-07-09 13:18:45.480273\n"
     ]
    }
   ],
   "source": [
    "import datetime as dt\n",
    "from datetime import datetime, timedelta\n",
    "import time\n",
    "\n",
    "\n",
    "current_day = dt.datetime.now()\n",
    "today_date = dt.timedelta()\n",
    "\n",
    "\n",
    "no_of_days = 30\n",
    "\n",
    "def get_date(no_of_days):\n",
    "    \n",
    "    day = no_of_days % 2\n",
    "    if day != 0:\n",
    "        return (current_day + today_date )\n",
    "    else:\n",
    "        return (current_day - today_date)\n",
    "\n",
    "print(get_date(9))"
   ]
  },
  {
   "cell_type": "markdown",
   "id": "b1549be2",
   "metadata": {},
   "source": [
    "# Q2.Write a function stringify using map that takes a list of strings and a function and \n",
    "converts each string into separate string\n",
    "Input =['devnation', 'data science', 'requires', 'dedication']\n",
    "\n",
    "Output =[[‘d’,’e’,’v’,’n’,’a’,’t’,’i’,’o’,’n’],[‘d’,’a’,’t’,’a’,’s’,’i’,’e’,’n’,’c’,’e’],\n",
    "[‘r’,’e’,’q’,’u’,’i’,’r’,’e’,’s’],[‘d’,’e’,’d’,’i’,’c’,’a’,’t’,’i’,’o’,’n’]]"
   ]
  },
  {
   "cell_type": "code",
   "execution_count": 21,
   "id": "a04d95bb",
   "metadata": {},
   "outputs": [],
   "source": [
    "def stringify(mylist):\n",
    "    \n",
    "    l = list(map(list,mylist))\n",
    "    return l\n",
    "\n",
    "stringify(['devnation', 'data science', 'requires', 'dedication'])\n"
   ]
  },
  {
   "cell_type": "markdown",
   "id": "a5eb11ac",
   "metadata": {},
   "source": [
    "# Q3. Write a function string_case(list) using map that takes list of characters and return \n",
    "tuples of tuple with containing lower and upper case of that character’s list\n",
    "Final Output must contains unique tuples\n",
    "Sample = ['f', 'b', 'a',’a’]\n",
    "Result = ((‘F’,’F’),(‘B’,’b’),(‘A’,’a’))"
   ]
  },
  {
   "cell_type": "code",
   "execution_count": 29,
   "id": "0f61a70d",
   "metadata": {},
   "outputs": [],
   "source": [
    "def String_case(klist):\n",
    "\n",
    "    l =  ['f', 'b', 'a'] \n",
    "    K = list(map(list,klist))\n",
    "    return k\n",
    "    l = [element.lower() for element in l]"
   ]
  },
  {
   "cell_type": "code",
   "execution_count": null,
   "id": "5712591b",
   "metadata": {},
   "outputs": [],
   "source": []
  },
  {
   "cell_type": "code",
   "execution_count": null,
   "id": "d8505796",
   "metadata": {},
   "outputs": [],
   "source": []
  }
 ],
 "metadata": {
  "kernelspec": {
   "display_name": "Python 3",
   "language": "python",
   "name": "python3"
  },
  "language_info": {
   "codemirror_mode": {
    "name": "ipython",
    "version": 3
   },
   "file_extension": ".py",
   "mimetype": "text/x-python",
   "name": "python",
   "nbconvert_exporter": "python",
   "pygments_lexer": "ipython3",
   "version": "3.8.8"
  }
 },
 "nbformat": 4,
 "nbformat_minor": 5
}
