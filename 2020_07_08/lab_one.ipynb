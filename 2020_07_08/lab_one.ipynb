{
 "cells": [
  {
   "cell_type": "code",
   "execution_count": 1,
   "id": "c88c9661",
   "metadata": {},
   "outputs": [
    {
     "name": "stdout",
     "output_type": "stream",
     "text": [
      "10\n",
      "0\n",
      "15\n",
      "5.0\n",
      "4\n",
      "16\n",
      "194.87171000000012\n"
     ]
    }
   ],
   "source": [
    "# Addition, subtraction\n",
    "print(5 + 5)\n",
    "print(5 - 5)\n",
    "\n",
    "# Multiplication, division, modulo, and exponentiation\n",
    "print(3 * 5)\n",
    "print(10 / 2)\n",
    "print(18 % 7)\n",
    "print(4 ** 2)\n",
    "\n",
    "# How much is your $100 worth after 7 years?\n",
    "print (100 * 1.1** 7)"
   ]
  },
  {
   "cell_type": "markdown",
   "id": "980fae68",
   "metadata": {},
   "source": [
    "### practice intro to python"
   ]
  },
  {
   "cell_type": "code",
   "execution_count": 4,
   "id": "cae9aa80",
   "metadata": {},
   "outputs": [
    {
     "name": "stdout",
     "output_type": "stream",
     "text": [
      "<class 'int'>\n",
      "100\n",
      "<class 'int'>\n"
     ]
    }
   ],
   "source": [
    "#type\n",
    "\n",
    "savings = 100;\n",
    "\n",
    "print(type(savings));\n",
    "\n",
    "# Print out savings\n",
    "\n",
    "print(savings)\n",
    "print(type(savings))"
   ]
  },
  {
   "cell_type": "code",
   "execution_count": 6,
   "id": "602292f6",
   "metadata": {},
   "outputs": [
    {
     "name": "stdout",
     "output_type": "stream",
     "text": [
      "True\n"
     ]
    }
   ],
   "source": [
    "#booltype\n",
    "\n",
    "bool = 10 <11;\n",
    "print(bool)\n"
   ]
  },
  {
   "cell_type": "code",
   "execution_count": 8,
   "id": "362d1e17",
   "metadata": {},
   "outputs": [
    {
     "name": "stdout",
     "output_type": "stream",
     "text": [
      "<class 'float'>\n",
      "compound interest compound interest \n"
     ]
    }
   ],
   "source": [
    "#floattype\n",
    "\n",
    "sav = 100\n",
    "growth = 1.1\n",
    "dis = \"compound interest \"\n",
    "\n",
    "year1 = sav * growth\n",
    "\n",
    "print(type(year1))\n",
    "\n",
    "doubledis = dis + dis\n",
    "\n",
    "print(doubledis)"
   ]
  },
  {
   "cell_type": "markdown",
   "id": "35a2898e",
   "metadata": {},
   "source": [
    "-Type conversion\n",
    "\n",
    "Using the + operator to paste together two strings can be very useful in building custom messages.\n",
    "\n",
    "Suppose, for example, \n",
    "that you've calculated the return of your investment and want to summarize the results in a string. Assuming the integer savings and float result are defined, you can try something like this:\n",
    "\n",
    "print(\"I started with $\" + savings + \" and now have $\" + result + \". Awesome!\")\n",
    "This will not work, though, as you cannot simply sum strings and integers/floats.\n",
    "\n",
    "To fix the error, you'll need to explicitly convert the types of your variables. More specifically, you'll need str(), to convert a value into a string. str(savings), for example, will convert the integer savings to a string.\n",
    "\n",
    "Similar functions such as int(), float() and bool() will help you convert Python values into any type."
   ]
  },
  {
   "cell_type": "code",
   "execution_count": 14,
   "id": "af37276e",
   "metadata": {},
   "outputs": [
    {
     "name": "stdout",
     "output_type": "stream",
     "text": [
      "I started with $100 and now have $194.87171000000012. Awesome!\n",
      "1111.0\n"
     ]
    }
   ],
   "source": [
    "#converting into string\n",
    "sav = 100\n",
    "result = 100 * 1.10 ** 7\n",
    "\n",
    "# Fix the printout\n",
    "print(\"I started with $\" + str(sav) + \" and now have $\" + str(result) + \". Awesome!\")\n",
    "\n",
    "# Definition of pi_string\n",
    "pi_int = \"1111\"\n",
    "\n",
    "# Convert pi_string into float: pi_float\n",
    "pi_float = float(pi_int)\n",
    "print(pi_float)"
   ]
  },
  {
   "cell_type": "code",
   "execution_count": 15,
   "id": "be5eb6f5",
   "metadata": {},
   "outputs": [
    {
     "name": "stdout",
     "output_type": "stream",
     "text": [
      "['hallway', 11.25, 'kitchen', 18.0, 'living room', 20.0, 'bedroom', 10.75, 'bathroom', 9.5]\n"
     ]
    }
   ],
   "source": [
    "##lists\n",
    "# area variables\n",
    "hall = 11.25\n",
    "kit = 18.0\n",
    "liv = 20.0\n",
    "bed = 10.75\n",
    "bath = 9.50\n",
    "\n",
    "# Adapt list areas\n",
    "areas = [\"hallway\", hall, \"kitchen\", kit, \"living room\", liv, \"bedroom\", bed, \"bathroom\", bath]\n",
    "\n",
    "# Print areas\n",
    "print(areas)"
   ]
  },
  {
   "cell_type": "markdown",
   "id": "8d22e4d4",
   "metadata": {},
   "source": [
    "## Question no. 1"
   ]
  },
  {
   "cell_type": "code",
   "execution_count": 63,
   "id": "2c7e31b4",
   "metadata": {},
   "outputs": [
    {
     "data": {
      "text/plain": [
       "datetime.datetime(2021, 7, 8, 21, 4, 48, 309933)"
      ]
     },
     "execution_count": 63,
     "metadata": {},
     "output_type": "execute_result"
    }
   ],
   "source": [
    "#by using buildin function datetime\n",
    "\n",
    "import datetime\n",
    "\n",
    "def enterdate():\n",
    "    date = int(input(\"Enter today date : \"))\n",
    "    return int(date)\n",
    "    \n",
    "day = datetime.datetime.now()\n",
    "\n",
    "def get_date(day):\n",
    "    \n",
    "    if  8 == 8:\n",
    "        \n",
    "         return day \n",
    "    else:\n",
    "         return day\n",
    "        \n",
    "get_date(day)"
   ]
  },
  {
   "cell_type": "code",
   "execution_count": 63,
   "id": "cb555c48",
   "metadata": {},
   "outputs": [
    {
     "name": "stdout",
     "output_type": "stream",
     "text": [
      "2021-07-13\n"
     ]
    }
   ],
   "source": [
    "from datetime import timedelta, date\n",
    "\n",
    "Date_required = date.today() + timedelta(days=5)\n",
    "\n",
    "\n",
    "print(Date_required)"
   ]
  },
  {
   "cell_type": "markdown",
   "id": "319a2f1b",
   "metadata": {},
   "source": [
    "## Question no. 2 "
   ]
  },
  {
   "cell_type": "markdown",
   "id": "79977a78",
   "metadata": {},
   "source": [
    "Q2. Write a function stringify using map that takes a list of strings and a function and \n",
    "converts each string into separate string\n",
    "Input =['devnation', 'data science', 'requires', 'dedication']\n",
    "Output =[[‘d’,’e’,’v’,’n’,’a’,’t’,’i’,’o’,’n’],[‘d’,’a’,’t’,’a’,’s’,’i’,’e’,’n’,’c’,’e’],\n",
    "[‘r’,’e’,’q’,’u’,’i’,’r’,’e’,’s’],[‘d’,’e’,’d’,’i’,’c’,’a’,’t’,’i’,’o’,’n’]]\n",
    "\n",
    "\n",
    "\n"
   ]
  },
  {
   "cell_type": "code",
   "execution_count": 1,
   "id": "16d29e16",
   "metadata": {},
   "outputs": [
    {
     "name": "stdout",
     "output_type": "stream",
     "text": [
      "['devnation', 'data science ', 'required ', 'dedication']\n"
     ]
    }
   ],
   "source": [
    "txt = \"devnation, data science , required , dedication\"\n",
    "\n",
    "x = txt.split(\", \")\n",
    "\n",
    "print(x)"
   ]
  },
  {
   "cell_type": "code",
   "execution_count": 16,
   "id": "96eea24b",
   "metadata": {},
   "outputs": [
    {
     "ename": "error",
     "evalue": "missing ), unterminated subpattern at position 0",
     "output_type": "error",
     "traceback": [
      "\u001b[1;31m---------------------------------------------------------------------------\u001b[0m",
      "\u001b[1;31merror\u001b[0m                                     Traceback (most recent call last)",
      "\u001b[1;32m<ipython-input-16-b69006e12a94>\u001b[0m in \u001b[0;36m<module>\u001b[1;34m\u001b[0m\n\u001b[0;32m      6\u001b[0m \u001b[0mdev\u001b[0m \u001b[1;33m=\u001b[0m \u001b[1;34m\"'devnation', 'data science ', 'required ', 'dedication'\"\u001b[0m\u001b[1;33m\u001b[0m\u001b[1;33m\u001b[0m\u001b[0m\n\u001b[0;32m      7\u001b[0m \u001b[1;33m\u001b[0m\u001b[0m\n\u001b[1;32m----> 8\u001b[1;33m \u001b[0msep\u001b[0m \u001b[1;33m=\u001b[0m \u001b[0mre\u001b[0m\u001b[1;33m.\u001b[0m\u001b[0msplit\u001b[0m\u001b[1;33m(\u001b[0m\u001b[1;34m'('\u001b[0m\u001b[1;33m,\u001b[0m \u001b[1;34m')'\u001b[0m\u001b[1;33m,\u001b[0m \u001b[0mdev\u001b[0m\u001b[1;33m)\u001b[0m\u001b[1;33m\u001b[0m\u001b[1;33m\u001b[0m\u001b[0m\n\u001b[0m\u001b[0;32m      9\u001b[0m \u001b[1;33m\u001b[0m\u001b[0m\n\u001b[0;32m     10\u001b[0m \u001b[0mprint\u001b[0m\u001b[1;33m(\u001b[0m\u001b[0msep\u001b[0m\u001b[1;33m)\u001b[0m\u001b[1;33m\u001b[0m\u001b[1;33m\u001b[0m\u001b[0m\n",
      "\u001b[1;32mE:\\sotwares\\anaconda\\anaconda_pro\\lib\\re.py\u001b[0m in \u001b[0;36msplit\u001b[1;34m(pattern, string, maxsplit, flags)\u001b[0m\n\u001b[0;32m    229\u001b[0m     \u001b[1;32mand\u001b[0m \u001b[0mthe\u001b[0m \u001b[0mremainder\u001b[0m \u001b[0mof\u001b[0m \u001b[0mthe\u001b[0m \u001b[0mstring\u001b[0m \u001b[1;32mis\u001b[0m \u001b[0mreturned\u001b[0m \u001b[1;32mas\u001b[0m \u001b[0mthe\u001b[0m \u001b[0mfinal\u001b[0m \u001b[0melement\u001b[0m\u001b[1;33m\u001b[0m\u001b[1;33m\u001b[0m\u001b[0m\n\u001b[0;32m    230\u001b[0m     of the list.\"\"\"\n\u001b[1;32m--> 231\u001b[1;33m     \u001b[1;32mreturn\u001b[0m \u001b[0m_compile\u001b[0m\u001b[1;33m(\u001b[0m\u001b[0mpattern\u001b[0m\u001b[1;33m,\u001b[0m \u001b[0mflags\u001b[0m\u001b[1;33m)\u001b[0m\u001b[1;33m.\u001b[0m\u001b[0msplit\u001b[0m\u001b[1;33m(\u001b[0m\u001b[0mstring\u001b[0m\u001b[1;33m,\u001b[0m \u001b[0mmaxsplit\u001b[0m\u001b[1;33m)\u001b[0m\u001b[1;33m\u001b[0m\u001b[1;33m\u001b[0m\u001b[0m\n\u001b[0m\u001b[0;32m    232\u001b[0m \u001b[1;33m\u001b[0m\u001b[0m\n\u001b[0;32m    233\u001b[0m \u001b[1;32mdef\u001b[0m \u001b[0mfindall\u001b[0m\u001b[1;33m(\u001b[0m\u001b[0mpattern\u001b[0m\u001b[1;33m,\u001b[0m \u001b[0mstring\u001b[0m\u001b[1;33m,\u001b[0m \u001b[0mflags\u001b[0m\u001b[1;33m=\u001b[0m\u001b[1;36m0\u001b[0m\u001b[1;33m)\u001b[0m\u001b[1;33m:\u001b[0m\u001b[1;33m\u001b[0m\u001b[1;33m\u001b[0m\u001b[0m\n",
      "\u001b[1;32mE:\\sotwares\\anaconda\\anaconda_pro\\lib\\re.py\u001b[0m in \u001b[0;36m_compile\u001b[1;34m(pattern, flags)\u001b[0m\n\u001b[0;32m    302\u001b[0m     \u001b[1;32mif\u001b[0m \u001b[1;32mnot\u001b[0m \u001b[0msre_compile\u001b[0m\u001b[1;33m.\u001b[0m\u001b[0misstring\u001b[0m\u001b[1;33m(\u001b[0m\u001b[0mpattern\u001b[0m\u001b[1;33m)\u001b[0m\u001b[1;33m:\u001b[0m\u001b[1;33m\u001b[0m\u001b[1;33m\u001b[0m\u001b[0m\n\u001b[0;32m    303\u001b[0m         \u001b[1;32mraise\u001b[0m \u001b[0mTypeError\u001b[0m\u001b[1;33m(\u001b[0m\u001b[1;34m\"first argument must be string or compiled pattern\"\u001b[0m\u001b[1;33m)\u001b[0m\u001b[1;33m\u001b[0m\u001b[1;33m\u001b[0m\u001b[0m\n\u001b[1;32m--> 304\u001b[1;33m     \u001b[0mp\u001b[0m \u001b[1;33m=\u001b[0m \u001b[0msre_compile\u001b[0m\u001b[1;33m.\u001b[0m\u001b[0mcompile\u001b[0m\u001b[1;33m(\u001b[0m\u001b[0mpattern\u001b[0m\u001b[1;33m,\u001b[0m \u001b[0mflags\u001b[0m\u001b[1;33m)\u001b[0m\u001b[1;33m\u001b[0m\u001b[1;33m\u001b[0m\u001b[0m\n\u001b[0m\u001b[0;32m    305\u001b[0m     \u001b[1;32mif\u001b[0m \u001b[1;32mnot\u001b[0m \u001b[1;33m(\u001b[0m\u001b[0mflags\u001b[0m \u001b[1;33m&\u001b[0m \u001b[0mDEBUG\u001b[0m\u001b[1;33m)\u001b[0m\u001b[1;33m:\u001b[0m\u001b[1;33m\u001b[0m\u001b[1;33m\u001b[0m\u001b[0m\n\u001b[0;32m    306\u001b[0m         \u001b[1;32mif\u001b[0m \u001b[0mlen\u001b[0m\u001b[1;33m(\u001b[0m\u001b[0m_cache\u001b[0m\u001b[1;33m)\u001b[0m \u001b[1;33m>=\u001b[0m \u001b[0m_MAXCACHE\u001b[0m\u001b[1;33m:\u001b[0m\u001b[1;33m\u001b[0m\u001b[1;33m\u001b[0m\u001b[0m\n",
      "\u001b[1;32mE:\\sotwares\\anaconda\\anaconda_pro\\lib\\sre_compile.py\u001b[0m in \u001b[0;36mcompile\u001b[1;34m(p, flags)\u001b[0m\n\u001b[0;32m    762\u001b[0m     \u001b[1;32mif\u001b[0m \u001b[0misstring\u001b[0m\u001b[1;33m(\u001b[0m\u001b[0mp\u001b[0m\u001b[1;33m)\u001b[0m\u001b[1;33m:\u001b[0m\u001b[1;33m\u001b[0m\u001b[1;33m\u001b[0m\u001b[0m\n\u001b[0;32m    763\u001b[0m         \u001b[0mpattern\u001b[0m \u001b[1;33m=\u001b[0m \u001b[0mp\u001b[0m\u001b[1;33m\u001b[0m\u001b[1;33m\u001b[0m\u001b[0m\n\u001b[1;32m--> 764\u001b[1;33m         \u001b[0mp\u001b[0m \u001b[1;33m=\u001b[0m \u001b[0msre_parse\u001b[0m\u001b[1;33m.\u001b[0m\u001b[0mparse\u001b[0m\u001b[1;33m(\u001b[0m\u001b[0mp\u001b[0m\u001b[1;33m,\u001b[0m \u001b[0mflags\u001b[0m\u001b[1;33m)\u001b[0m\u001b[1;33m\u001b[0m\u001b[1;33m\u001b[0m\u001b[0m\n\u001b[0m\u001b[0;32m    765\u001b[0m     \u001b[1;32melse\u001b[0m\u001b[1;33m:\u001b[0m\u001b[1;33m\u001b[0m\u001b[1;33m\u001b[0m\u001b[0m\n\u001b[0;32m    766\u001b[0m         \u001b[0mpattern\u001b[0m \u001b[1;33m=\u001b[0m \u001b[1;32mNone\u001b[0m\u001b[1;33m\u001b[0m\u001b[1;33m\u001b[0m\u001b[0m\n",
      "\u001b[1;32mE:\\sotwares\\anaconda\\anaconda_pro\\lib\\sre_parse.py\u001b[0m in \u001b[0;36mparse\u001b[1;34m(str, flags, state)\u001b[0m\n\u001b[0;32m    946\u001b[0m \u001b[1;33m\u001b[0m\u001b[0m\n\u001b[0;32m    947\u001b[0m     \u001b[1;32mtry\u001b[0m\u001b[1;33m:\u001b[0m\u001b[1;33m\u001b[0m\u001b[1;33m\u001b[0m\u001b[0m\n\u001b[1;32m--> 948\u001b[1;33m         \u001b[0mp\u001b[0m \u001b[1;33m=\u001b[0m \u001b[0m_parse_sub\u001b[0m\u001b[1;33m(\u001b[0m\u001b[0msource\u001b[0m\u001b[1;33m,\u001b[0m \u001b[0mstate\u001b[0m\u001b[1;33m,\u001b[0m \u001b[0mflags\u001b[0m \u001b[1;33m&\u001b[0m \u001b[0mSRE_FLAG_VERBOSE\u001b[0m\u001b[1;33m,\u001b[0m \u001b[1;36m0\u001b[0m\u001b[1;33m)\u001b[0m\u001b[1;33m\u001b[0m\u001b[1;33m\u001b[0m\u001b[0m\n\u001b[0m\u001b[0;32m    949\u001b[0m     \u001b[1;32mexcept\u001b[0m \u001b[0mVerbose\u001b[0m\u001b[1;33m:\u001b[0m\u001b[1;33m\u001b[0m\u001b[1;33m\u001b[0m\u001b[0m\n\u001b[0;32m    950\u001b[0m         \u001b[1;31m# the VERBOSE flag was switched on inside the pattern.  to be\u001b[0m\u001b[1;33m\u001b[0m\u001b[1;33m\u001b[0m\u001b[1;33m\u001b[0m\u001b[0m\n",
      "\u001b[1;32mE:\\sotwares\\anaconda\\anaconda_pro\\lib\\sre_parse.py\u001b[0m in \u001b[0;36m_parse_sub\u001b[1;34m(source, state, verbose, nested)\u001b[0m\n\u001b[0;32m    441\u001b[0m     \u001b[0mstart\u001b[0m \u001b[1;33m=\u001b[0m \u001b[0msource\u001b[0m\u001b[1;33m.\u001b[0m\u001b[0mtell\u001b[0m\u001b[1;33m(\u001b[0m\u001b[1;33m)\u001b[0m\u001b[1;33m\u001b[0m\u001b[1;33m\u001b[0m\u001b[0m\n\u001b[0;32m    442\u001b[0m     \u001b[1;32mwhile\u001b[0m \u001b[1;32mTrue\u001b[0m\u001b[1;33m:\u001b[0m\u001b[1;33m\u001b[0m\u001b[1;33m\u001b[0m\u001b[0m\n\u001b[1;32m--> 443\u001b[1;33m         itemsappend(_parse(source, state, verbose, nested + 1,\n\u001b[0m\u001b[0;32m    444\u001b[0m                            not nested and not items))\n\u001b[0;32m    445\u001b[0m         \u001b[1;32mif\u001b[0m \u001b[1;32mnot\u001b[0m \u001b[0msourcematch\u001b[0m\u001b[1;33m(\u001b[0m\u001b[1;34m\"|\"\u001b[0m\u001b[1;33m)\u001b[0m\u001b[1;33m:\u001b[0m\u001b[1;33m\u001b[0m\u001b[1;33m\u001b[0m\u001b[0m\n",
      "\u001b[1;32mE:\\sotwares\\anaconda\\anaconda_pro\\lib\\sre_parse.py\u001b[0m in \u001b[0;36m_parse\u001b[1;34m(source, state, verbose, nested, first)\u001b[0m\n\u001b[0;32m    834\u001b[0m             \u001b[0mp\u001b[0m \u001b[1;33m=\u001b[0m \u001b[0m_parse_sub\u001b[0m\u001b[1;33m(\u001b[0m\u001b[0msource\u001b[0m\u001b[1;33m,\u001b[0m \u001b[0mstate\u001b[0m\u001b[1;33m,\u001b[0m \u001b[0msub_verbose\u001b[0m\u001b[1;33m,\u001b[0m \u001b[0mnested\u001b[0m \u001b[1;33m+\u001b[0m \u001b[1;36m1\u001b[0m\u001b[1;33m)\u001b[0m\u001b[1;33m\u001b[0m\u001b[1;33m\u001b[0m\u001b[0m\n\u001b[0;32m    835\u001b[0m             \u001b[1;32mif\u001b[0m \u001b[1;32mnot\u001b[0m \u001b[0msource\u001b[0m\u001b[1;33m.\u001b[0m\u001b[0mmatch\u001b[0m\u001b[1;33m(\u001b[0m\u001b[1;34m\")\"\u001b[0m\u001b[1;33m)\u001b[0m\u001b[1;33m:\u001b[0m\u001b[1;33m\u001b[0m\u001b[1;33m\u001b[0m\u001b[0m\n\u001b[1;32m--> 836\u001b[1;33m                 raise source.error(\"missing ), unterminated subpattern\",\n\u001b[0m\u001b[0;32m    837\u001b[0m                                    source.tell() - start)\n\u001b[0;32m    838\u001b[0m             \u001b[1;32mif\u001b[0m \u001b[0mgroup\u001b[0m \u001b[1;32mis\u001b[0m \u001b[1;32mnot\u001b[0m \u001b[1;32mNone\u001b[0m\u001b[1;33m:\u001b[0m\u001b[1;33m\u001b[0m\u001b[1;33m\u001b[0m\u001b[0m\n",
      "\u001b[1;31merror\u001b[0m: missing ), unterminated subpattern at position 0"
     ]
    }
   ],
   "source": [
    "dev = ['devnation', 'data science ', 'required ', 'dedication']\n",
    "\n",
    "import re\n",
    "     \n",
    "\n",
    "dev = ['devnation'\n",
    "\n",
    "sep = re.split('(', ')', dev)\n",
    "\n",
    "print(sep)\n"
   ]
  },
  {
   "cell_type": "markdown",
   "id": "d263ab97",
   "metadata": {},
   "source": [
    "# Write a function stringify using map that takes a list of strings and a function and \n",
    "converts each string into separate string\n",
    "Input =['devnation', 'data science', 'requires', 'dedication']\n",
    "Output =[[‘d’,’e’,’v’,’n’,’a’,’t’,’i’,’o’,’n’],[‘d’,’a’,’t’,’a’,’s’,’i’,’e’,’n’,’c’,’e’],\n",
    "[‘r’,’e’,’q’,’u’,’i’,’r’,’e’,’s’],[‘d’,’e’,’d’,’i’,’c’,’a’,’t’,’i’,’o’,’n’]\n"
   ]
  },
  {
   "cell_type": "code",
   "execution_count": 72,
   "id": "3af279c9",
   "metadata": {},
   "outputs": [
    {
     "data": {
      "text/plain": [
       "[['d', 'e', 'v', 'n', 'a', 't', 'i', 'o', 'n'],\n",
       " ['d', 'a', 't', 'a', ' ', 's', 'c', 'i', 'e', 'n', 'c', 'e'],\n",
       " ['r', 'e', 'q', 'u', 'i', 'r', 'e', 's'],\n",
       " ['d', 'e', 'd', 'i', 'c', 'a', 't', 'i', 'o', 'n']]"
      ]
     },
     "execution_count": 72,
     "metadata": {},
     "output_type": "execute_result"
    }
   ],
   "source": [
    "def stringify(mylist):\n",
    "    \n",
    "    l = list(map(list,mylist))\n",
    "    return l\n",
    "\n",
    "stringify(['devnation', 'data science', 'requires', 'dedication'])\n"
   ]
  },
  {
   "cell_type": "code",
   "execution_count": 45,
   "id": "c280e72c",
   "metadata": {},
   "outputs": [
    {
     "name": "stdout",
     "output_type": "stream",
     "text": [
      "________________BIOINformatics________________________________\n",
      "['chemistry1', 3.33, 'bioinformatics', 2.2, 'english', 6.7, 'R_languae', 5.5]\n",
      "['ch_pak', 1.1, 'c_language', 2.1, 'report_writting', 2.5, 'javafx', 6]\n",
      "['statics', 3.3, 'cellbiology', 4.4]\n",
      "['chemistry2', 2.333, 'biotechnology', 3.34]\n",
      "['pythonintro', 2.2, 'Genomics', 2.2]\n",
      "['chemistry3', 1.3, 'perllanguGE ', 4.0]\n",
      "['labtest', 1.22, 'wetlabs', 2, 'fyproject', 3.3]\n",
      "________________________________________________\n",
      "________________________________________________\n",
      "All Data is here : ['chemistry1', 3.33, 'bioinformatics', 2.2, 'english', 6.7, 'R_languae', 5.5, 'ch_pak', 1.1, 'c_language', 2.1, 'report_writting', 2.5, 'javafx', 6, 'statics', 3.3, 'cellbiology', 4.4, 'chemistry2', 2.333, 'biotechnology', 3.34, 'pythonintro', 2.2, 'Genomics', 2.2, 'chemistry3', 1.3, 'perllanguGE ', 4.0, 'labtest', 1.22, 'wetlabs', 2, 'fyproject', 3.3]\n"
     ]
    }
   ],
   "source": [
    "#grads of subjects\n",
    "bio     = 2.2\n",
    "ch      = 1.1\n",
    "c_lan   = 2.1\n",
    "report  = 2.5\n",
    "cell    = 4.4\n",
    "stat    = 3.3\n",
    "eng     = 6.7\n",
    "python  = 2.2\n",
    "java    = 6\n",
    "R       = 5.5\n",
    "perl    = 4.0\n",
    "biotech = 3.34\n",
    "genomics=2.2\n",
    "chem1   = 3.33\n",
    "chem2   = 2.333\n",
    "chem3   = 1.3\n",
    "lab     = 1.22\n",
    "wet     = 2\n",
    "fyp     = 3.3\n",
    "\n",
    "\n",
    "\n",
    "sem1 = [\"chemistry1\", chem1, \"bioinformatics\", bio , \"english\" ,eng, \"R_languae\", R  ]\n",
    "sem2 = [\"ch_pak\", ch ,\"c_language\", c_lan , \"report_writting\" , report , \"javafx\", java]\n",
    "sem3 = [\"statics\", stat , \"cellbiology\" , cell ]\n",
    "sem4 = [\"chemistry2\",  chem2 , \"biotechnology\" , biotech]\n",
    "sem5 = [\"pythonintro\", python, \"Genomics\", genomics]\n",
    "sem6 = [\"chemistry3\", chem3 ,\"perllanguGE \", perl]\n",
    "sem7 = [\"labtest\", lab , \"wetlabs\" , wet , \"fyproject\" , fyp]\n",
    "\n",
    "sem8 = sem1 + sem2 + sem3 + sem4 + sem5 + sem6 + sem7 \n",
    "\n",
    "print(\"________________BIOINformatics________________________________\")\n",
    "\n",
    "print(sem1)\n",
    "print(sem2)\n",
    "print(sem3)\n",
    "print(sem4)\n",
    "print(sem5)\n",
    "print(sem6)\n",
    "print(sem7)\n",
    "print(\"________________________________________________\")\n",
    "print(\"________________________________________________\")\n",
    "\n",
    "print(\"All Data is here :\",  sem8)"
   ]
  },
  {
   "cell_type": "code",
   "execution_count": null,
   "id": "0b10fd8d",
   "metadata": {},
   "outputs": [],
   "source": []
  },
  {
   "cell_type": "code",
   "execution_count": null,
   "id": "380faa44",
   "metadata": {},
   "outputs": [],
   "source": []
  },
  {
   "cell_type": "code",
   "execution_count": 48,
   "id": "bf512a84",
   "metadata": {},
   "outputs": [],
   "source": [
    "import pandas as pd\n",
    "\n",
    "\n",
    "\n",
    "sem1 = [\"chemistry1\", 5, \"bioinformatics\", 3, \"english\" , 2.2, \"R_languae\", 1.1  ]\n",
    "\n",
    "\n",
    "#convert list to DataFrame\n",
    "\n",
    "df = pd.DataFrame(sem1)"
   ]
  },
  {
   "cell_type": "code",
   "execution_count": 55,
   "id": "2093d42e",
   "metadata": {},
   "outputs": [
    {
     "ename": "FileNotFoundError",
     "evalue": "[Errno 2] No such file or directory: 'E:\\\\jupyter_notebook\\\\devnation_assi\\\\load.csv'",
     "output_type": "error",
     "traceback": [
      "\u001b[1;31m---------------------------------------------------------------------------\u001b[0m",
      "\u001b[1;31mFileNotFoundError\u001b[0m                         Traceback (most recent call last)",
      "\u001b[1;32m<ipython-input-55-5e81b903fded>\u001b[0m in \u001b[0;36m<module>\u001b[1;34m\u001b[0m\n\u001b[1;32m----> 1\u001b[1;33m \u001b[0mf\u001b[0m \u001b[1;33m=\u001b[0m \u001b[0mopen\u001b[0m\u001b[1;33m(\u001b[0m\u001b[1;34m'E:\\\\jupyter_notebook\\\\devnation_assi\\\\load.csv'\u001b[0m\u001b[1;33m)\u001b[0m\u001b[1;33m\u001b[0m\u001b[1;33m\u001b[0m\u001b[0m\n\u001b[0m\u001b[0;32m      2\u001b[0m \u001b[1;33m\u001b[0m\u001b[0m\n\u001b[0;32m      3\u001b[0m \u001b[0mfile\u001b[0m \u001b[1;33m=\u001b[0m \u001b[0mf\u001b[0m\u001b[1;33m.\u001b[0m\u001b[0mread\u001b[0m\u001b[1;33m(\u001b[0m\u001b[1;33m)\u001b[0m\u001b[1;33m\u001b[0m\u001b[1;33m\u001b[0m\u001b[0m\n\u001b[0;32m      4\u001b[0m \u001b[1;33m\u001b[0m\u001b[0m\n\u001b[0;32m      5\u001b[0m \u001b[0mprint\u001b[0m\u001b[1;33m(\u001b[0m\u001b[0mfile\u001b[0m\u001b[1;33m)\u001b[0m\u001b[1;33m\u001b[0m\u001b[1;33m\u001b[0m\u001b[0m\n",
      "\u001b[1;31mFileNotFoundError\u001b[0m: [Errno 2] No such file or directory: 'E:\\\\jupyter_notebook\\\\devnation_assi\\\\load.csv'"
     ]
    }
   ],
   "source": [
    "f = open('E:\\\\jupyter_notebook\\\\devnation_assi\\\\load.csv')\n",
    "\n",
    "file = f.read()\n",
    "\n",
    "print(file)"
   ]
  },
  {
   "cell_type": "markdown",
   "id": "7e5029bd",
   "metadata": {},
   "source": [
    "Q1"
   ]
  },
  {
   "cell_type": "code",
   "execution_count": 73,
   "id": "19c461ac",
   "metadata": {},
   "outputs": [
    {
     "name": "stdout",
     "output_type": "stream",
     "text": [
      "2021-07-08 22:39:11.735091\n"
     ]
    }
   ],
   "source": [
    "import datetime as dt\n",
    "from datetime import datetime, timedelta\n",
    "import time\n",
    "\n",
    "\n",
    "current_day = dt.datetime.now()\n",
    "today_date = dt.timedelta()\n",
    "\n",
    "\n",
    "no_of_days = 30\n",
    "\n",
    "def get_date(no_of_days):\n",
    "    \n",
    "    day = no_of_days % 2\n",
    "    if day != 0:\n",
    "        return (current_day + today_date )\n",
    "    else:\n",
    "        return (current_day - today_date)\n",
    "\n",
    "print(get_date(9))\n",
    "\n",
    "\n",
    "\n"
   ]
  },
  {
   "cell_type": "code",
   "execution_count": 65,
   "id": "0115c0fe",
   "metadata": {},
   "outputs": [
    {
     "data": {
      "text/plain": [
       "2021"
      ]
     },
     "execution_count": 65,
     "metadata": {},
     "output_type": "execute_result"
    }
   ],
   "source": [
    "day.year"
   ]
  },
  {
   "cell_type": "code",
   "execution_count": 47,
   "id": "a4ba70e9",
   "metadata": {},
   "outputs": [
    {
     "ename": "NameError",
     "evalue": "name 'dt' is not defined",
     "output_type": "error",
     "traceback": [
      "\u001b[1;31m---------------------------------------------------------------------------\u001b[0m",
      "\u001b[1;31mNameError\u001b[0m                                 Traceback (most recent call last)",
      "\u001b[1;32m<ipython-input-47-14ab0f299050>\u001b[0m in \u001b[0;36m<module>\u001b[1;34m\u001b[0m\n\u001b[1;32m----> 1\u001b[1;33m \u001b[0mdt\u001b[0m\u001b[1;33m.\u001b[0m\u001b[0mdate\u001b[0m\u001b[1;33m.\u001b[0m\u001b[0mday\u001b[0m\u001b[1;33m(\u001b[0m\u001b[1;33m)\u001b[0m\u001b[1;33m-\u001b[0m\u001b[0mdt\u001b[0m\u001b[1;33m.\u001b[0m\u001b[0mtimedelta\u001b[0m\u001b[1;33m(\u001b[0m\u001b[0mdays\u001b[0m\u001b[1;33m=\u001b[0m\u001b[1;36m100\u001b[0m\u001b[1;33m)\u001b[0m\u001b[1;33m\u001b[0m\u001b[1;33m\u001b[0m\u001b[0m\n\u001b[0m",
      "\u001b[1;31mNameError\u001b[0m: name 'dt' is not defined"
     ]
    }
   ],
   "source": [
    "timedate.date.day()-dt.timedelta(days=100)"
   ]
  },
  {
   "cell_type": "code",
   "execution_count": null,
   "id": "c08b51f0",
   "metadata": {},
   "outputs": [],
   "source": [
    "number_of_days = input(\"Enter number of days: \")\n",
    "\n",
    "def get_date(number_of_days):\n",
    "    day = number_of_days % 2\n",
    "    if day != 0:\n",
    "        return (current_date + number_of_days)\n",
    "    else:\n",
    "        return (current_date - number_of_days)\n",
    "\n",
    "print(get_date(5))\n"
   ]
  }
 ],
 "metadata": {
  "kernelspec": {
   "display_name": "Python 3",
   "language": "python",
   "name": "python3"
  },
  "language_info": {
   "codemirror_mode": {
    "name": "ipython",
    "version": 3
   },
   "file_extension": ".py",
   "mimetype": "text/x-python",
   "name": "python",
   "nbconvert_exporter": "python",
   "pygments_lexer": "ipython3",
   "version": "3.8.8"
  }
 },
 "nbformat": 4,
 "nbformat_minor": 5
}
