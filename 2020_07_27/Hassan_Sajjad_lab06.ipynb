{
 "cells": [
  {
   "cell_type": "code",
   "execution_count": 11,
   "id": "f7365cf7",
   "metadata": {},
   "outputs": [],
   "source": [
    "#Constructor\n",
    "#Initilization\n",
    "#add\n",
    "#sub\n",
    "#gt\n",
    "#lt\n"
   ]
  },
  {
   "cell_type": "code",
   "execution_count": 12,
   "id": "06055053",
   "metadata": {},
   "outputs": [],
   "source": [
    "class myType:\n",
    "    \n",
    "    def __init__(self,a,b):\n",
    "        self.a=a\n",
    "        self.b=b\n",
    "    \n",
    "    def __new__(cls,a,b):\n",
    "        if a<=500:\n",
    "            inst= object.__new__(cls)\n",
    "            return inst\n",
    "        \n",
    "    def __add__(self,obj):\n",
    "        t1 = self.a + obj.a\n",
    "        t2 = self.b + obj.b\n",
    "        return(t1,t2)\n",
    "    \n",
    "    def __sub__(self,obj2):\n",
    "        t1 = self.a - obj2.a\n",
    "        t2 = self.b - obj2.b\n",
    "        return(t1,t2)\n",
    "    \n",
    "    def __gt__(self,obj3):\n",
    "        if (self.a>obj3.a) and (self.b>obj3.a) :\n",
    "            return True\n",
    "        else:\n",
    "            return False\n",
    "        \n",
    "    def __lt__(self,obj4):\n",
    "        if (self.a<obj4.a) and (self.b<obj4.a) :\n",
    "            return True\n",
    "        else:\n",
    "            return False"
   ]
  },
  {
   "cell_type": "code",
   "execution_count": 13,
   "id": "ad69a3ab",
   "metadata": {},
   "outputs": [],
   "source": [
    "test = myType(2,3)"
   ]
  },
  {
   "cell_type": "code",
   "execution_count": 24,
   "id": "c98884bf",
   "metadata": {},
   "outputs": [],
   "source": [
    "t1 = myType(8,8)\n",
    "t2 = myType(7,5)"
   ]
  },
  {
   "cell_type": "code",
   "execution_count": 20,
   "id": "44b2cae2",
   "metadata": {},
   "outputs": [
    {
     "data": {
      "text/plain": [
       "(14, 4)"
      ]
     },
     "execution_count": 20,
     "metadata": {},
     "output_type": "execute_result"
    }
   ],
   "source": [
    "myType.__add__(t1,t2)"
   ]
  },
  {
   "cell_type": "code",
   "execution_count": 22,
   "id": "bd0dbe55",
   "metadata": {},
   "outputs": [
    {
     "data": {
      "text/plain": [
       "(0, -3)"
      ]
     },
     "execution_count": 22,
     "metadata": {},
     "output_type": "execute_result"
    }
   ],
   "source": [
    "myType.__sub__(t1,t2)"
   ]
  },
  {
   "cell_type": "code",
   "execution_count": 25,
   "id": "3022b4fc",
   "metadata": {},
   "outputs": [
    {
     "data": {
      "text/plain": [
       "True"
      ]
     },
     "execution_count": 25,
     "metadata": {},
     "output_type": "execute_result"
    }
   ],
   "source": [
    "myType.__gt__(t1,t2)"
   ]
  },
  {
   "cell_type": "code",
   "execution_count": 26,
   "id": "9a00f0c2",
   "metadata": {},
   "outputs": [
    {
     "data": {
      "text/plain": [
       "False"
      ]
     },
     "execution_count": 26,
     "metadata": {},
     "output_type": "execute_result"
    }
   ],
   "source": [
    "myType.__lt__(t1,t2)"
   ]
  },
  {
   "cell_type": "code",
   "execution_count": null,
   "id": "725303ff",
   "metadata": {},
   "outputs": [],
   "source": []
  },
  {
   "cell_type": "code",
   "execution_count": null,
   "id": "1bda6af0",
   "metadata": {},
   "outputs": [],
   "source": []
  },
  {
   "cell_type": "code",
   "execution_count": null,
   "id": "c6e758e6",
   "metadata": {},
   "outputs": [],
   "source": []
  },
  {
   "cell_type": "code",
   "execution_count": null,
   "id": "b69cd3f8",
   "metadata": {},
   "outputs": [],
   "source": []
  },
  {
   "cell_type": "code",
   "execution_count": null,
   "id": "4e74a980",
   "metadata": {},
   "outputs": [],
   "source": []
  },
  {
   "cell_type": "code",
   "execution_count": null,
   "id": "469347ab",
   "metadata": {},
   "outputs": [],
   "source": []
  }
 ],
 "metadata": {
  "kernelspec": {
   "display_name": "Python 3 (ipykernel)",
   "language": "python",
   "name": "python3"
  },
  "language_info": {
   "codemirror_mode": {
    "name": "ipython",
    "version": 3
   },
   "file_extension": ".py",
   "mimetype": "text/x-python",
   "name": "python",
   "nbconvert_exporter": "python",
   "pygments_lexer": "ipython3",
   "version": "3.7.10"
  }
 },
 "nbformat": 4,
 "nbformat_minor": 5
}
