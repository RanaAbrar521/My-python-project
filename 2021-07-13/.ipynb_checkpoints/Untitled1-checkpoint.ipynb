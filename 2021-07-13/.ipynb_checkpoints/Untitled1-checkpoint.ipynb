{
 "cells": [
  {
   "cell_type": "code",
   "execution_count": null,
   "id": "b95e8b7b",
   "metadata": {},
   "outputs": [],
   "source": [
    "                    DS_LAB_2021_07_13"
   ]
  },
  {
   "cell_type": "code",
   "execution_count": 24,
   "id": "d5aae234",
   "metadata": {},
   "outputs": [],
   "source": [
    "class Students:\n",
    "    def __init__(self,name,batch_no,adress,courses=[],courses_score=[]):\n",
    "        self.name=name\n",
    "        self.batch_no=batch_no\n",
    "        self.adress=adress\n",
    "        self.courses=courses\n",
    "        self.courses_score=courses_score\n",
    "        \n",
    "    def get_name(self):\n",
    "        return self.name\n",
    "    def get_batch_no(self):\n",
    "        return self.batch_no\n",
    "    def get_adress(self):\n",
    "        return self.adress\n",
    "    def get_courses(self):\n",
    "        return self.courses\n",
    "    def get_courses_score(self):\n",
    "        return self.courses_score\n",
    "        \n",
    "         \n",
    "    def set_name(self,x):\n",
    "        self.name=x\n",
    "    def set_batch_no(self,x):\n",
    "        self.batch_no=x\n",
    "    def set_adress(self,x):\n",
    "        self.adress=x\n",
    "    def set_courses(self,x):\n",
    "        self.courses=x\n",
    "    def set_courses_score(self,key,x):\n",
    "        if key in self.courses:\n",
    "            y={\"course\":key, \"marks\":x}\n",
    "            self.courses_score.append(y)\n",
    "        else:\n",
    "            return ('course does not exist')\n",
    "            "
   ]
  },
  {
   "cell_type": "code",
   "execution_count": 23,
   "id": "2081f413",
   "metadata": {},
   "outputs": [],
   "source": []
  },
  {
   "cell_type": "code",
   "execution_count": 44,
   "id": "efb062aa",
   "metadata": {},
   "outputs": [],
   "source": [
    "a = Students('Rana abrar','datascience','okara',['python','Ruby','R'])"
   ]
  },
  {
   "cell_type": "code",
   "execution_count": 45,
   "id": "3d1506b5",
   "metadata": {},
   "outputs": [
    {
     "data": {
      "text/plain": [
       "'Rana abrar'"
      ]
     },
     "execution_count": 45,
     "metadata": {},
     "output_type": "execute_result"
    }
   ],
   "source": [
    "a.get_name()"
   ]
  },
  {
   "cell_type": "code",
   "execution_count": 46,
   "id": "99ac9231",
   "metadata": {},
   "outputs": [
    {
     "data": {
      "text/plain": [
       "'datascience'"
      ]
     },
     "execution_count": 46,
     "metadata": {},
     "output_type": "execute_result"
    }
   ],
   "source": [
    "a.get_batch_no()\n"
   ]
  },
  {
   "cell_type": "code",
   "execution_count": 47,
   "id": "aa783cb6",
   "metadata": {},
   "outputs": [],
   "source": [
    "a.set_batch_no('Python')"
   ]
  },
  {
   "cell_type": "code",
   "execution_count": 48,
   "id": "cb943554",
   "metadata": {},
   "outputs": [
    {
     "data": {
      "text/plain": [
       "['python', 'Ruby', 'R']"
      ]
     },
     "execution_count": 48,
     "metadata": {},
     "output_type": "execute_result"
    }
   ],
   "source": [
    "a.get_courses()"
   ]
  },
  {
   "cell_type": "code",
   "execution_count": 49,
   "id": "c70d99ec",
   "metadata": {},
   "outputs": [
    {
     "data": {
      "text/plain": [
       "'course does not exist'"
      ]
     },
     "execution_count": 49,
     "metadata": {},
     "output_type": "execute_result"
    }
   ],
   "source": [
    "a.set_courses_score('html',31)"
   ]
  },
  {
   "cell_type": "code",
   "execution_count": 52,
   "id": "70496cea",
   "metadata": {},
   "outputs": [],
   "source": []
  }
 ],
 "metadata": {
  "kernelspec": {
   "display_name": "Python 3",
   "language": "python",
   "name": "python3"
  },
  "language_info": {
   "codemirror_mode": {
    "name": "ipython",
    "version": 3
   },
   "file_extension": ".py",
   "mimetype": "text/x-python",
   "name": "python",
   "nbconvert_exporter": "python",
   "pygments_lexer": "ipython3",
   "version": "3.8.8"
  }
 },
 "nbformat": 4,
 "nbformat_minor": 5
}
