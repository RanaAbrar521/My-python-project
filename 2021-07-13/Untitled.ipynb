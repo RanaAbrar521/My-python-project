{
 "cells": [
  {
   "cell_type": "code",
   "execution_count": 12,
   "id": "f9957248-cfe4-4f1a-a8b2-67b8049f5276",
   "metadata": {},
   "outputs": [],
   "source": [
    "class Student:\n",
    "    def __init__(self,name,batch,address,courses=[],course_score=[]):\n",
    "        self.name = name\n",
    "        self.batch = batch\n",
    "        self.address = address\n",
    "        self.courses = courses\n",
    "        self.course_score = course_score\n",
    "  # Setters Functions\n",
    "    def set_name(self,name):\n",
    "        self.name = name \n",
    "    def set_batch(self,batch):\n",
    "        self.batch = batch\n",
    "    def set_address(self,address):\n",
    "        self.address = address\n",
    "    def set_courses(self,courses):\n",
    "        self.courses = courses\n",
    "    def set_courses_score(self,courses_score):\n",
    "        if courses in courses_score:\n",
    "            courses.append([{\"course\": \"datascience\",\"marks\" 20},{\"course\":\"python\",\"marks\":20}])\n",
    "        else:\n",
    "            print(\"Not Exist in the List\")\n",
    "    def get_name(self):\n",
    "        return self.name\n",
    "    def get_batch(self):\n",
    "         return self.batch\n",
    "    def get_addres(self):\n",
    "        return self.address\n",
    "    def get_courses(self):\n",
    "        return self.courses\n",
    "    def get_courses_score(self):\n",
    "        return self.course_score"
   ]
  },
  {
   "cell_type": "code",
   "execution_count": 13,
   "id": "f4b69925-6838-40c5-b497-b578c18d8888",
   "metadata": {},
   "outputs": [],
   "source": [
    "obj = Student('Rana',5,\"okara\")"
   ]
  },
  {
   "cell_type": "code",
   "execution_count": null,
   "id": "79e70ccc-9e16-4dec-9233-09f8f69e8d4e",
   "metadata": {},
   "outputs": [],
   "source": [
    "obj.set_courses(['Python','C#','oop','java' ])\n",
    "obj.set_courses_score([{\"course\":'Python','marks':10},{\"course\":'c#','marks':40},{\"course\":'oop','marks':30}])"
   ]
  },
  {
   "cell_type": "code",
   "execution_count": 14,
   "id": "067eff6f-2830-45b3-9303-630de9e5717c",
   "metadata": {},
   "outputs": [],
   "source": [
    "obj.set_name(\"Rana ibrar\")\n"
   ]
  },
  {
   "cell_type": "code",
   "execution_count": 21,
   "id": "bce6240f-9a11-4e03-9994-2156728caf83",
   "metadata": {},
   "outputs": [
    {
     "data": {
      "text/plain": [
       "[]"
      ]
     },
     "execution_count": 21,
     "metadata": {},
     "output_type": "execute_result"
    }
   ],
   "source": [
    "obj.get_name()\n",
    "obj.get_courses()\n",
    "obj.get_courses_score()"
   ]
  },
  {
   "cell_type": "code",
   "execution_count": null,
   "id": "1ef4926f-719d-4109-85c1-2f9480a218ea",
   "metadata": {},
   "outputs": [],
   "source": []
  },
  {
   "cell_type": "code",
   "execution_count": 18,
   "id": "c9751149-7c25-4572-a132-c4f3379a0959",
   "metadata": {},
   "outputs": [],
   "source": [
    "class DevnationStudent(Student):\n",
    "    def __init__(self,name,batch,address,courses=[],course_score=[]):\n",
    "        super().__init__(self,name,batch,address,courses=[],course_score=[])"
   ]
  },
  {
   "cell_type": "code",
   "execution_count": 19,
   "id": "132d5089-9ad7-4834-986b-34047b5317cb",
   "metadata": {},
   "outputs": [],
   "source": [
    "dic = [{'course':'datascience','marks':30},{'course':'Fullstack','marks':30}]\n",
    "def set_courses(self,courses):\n",
    "    if [\"datascience\",\"Full stack\"] in courses:\n",
    "        courses.append(['Fullstack','C++'])\n",
    "def set_courses_score(self,courses_score):\n",
    "    self.courses_score = courses_score \n",
    "    if dic in courses:\n",
    "        courses_score.append(dic)"
   ]
  },
  {
   "cell_type": "code",
   "execution_count": 20,
   "id": "05941768-8e53-43f4-bf34-be4b76f4fc82",
   "metadata": {},
   "outputs": [],
   "source": [
    "def get_courses(self):\n",
    "    return self.courses\n",
    "def get_courses_score(self):\n",
    "    return set(self.course_score)"
   ]
  },
  {
   "cell_type": "code",
   "execution_count": null,
   "id": "76879983-64ba-4d61-a9fb-8ad72d375fec",
   "metadata": {},
   "outputs": [],
   "source": []
  }
 ],
 "metadata": {
  "kernelspec": {
   "display_name": "Python 3",
   "language": "python",
   "name": "python3"
  },
  "language_info": {
   "codemirror_mode": {
    "name": "ipython",
    "version": 3
   },
   "file_extension": ".py",
   "mimetype": "text/x-python",
   "name": "python",
   "nbconvert_exporter": "python",
   "pygments_lexer": "ipython3",
   "version": "3.8.8"
  }
 },
 "nbformat": 4,
 "nbformat_minor": 5
}
