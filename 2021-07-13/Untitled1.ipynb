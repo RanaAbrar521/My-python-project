{
 "cells": [
  {
   "cell_type": "code",
   "execution_count": null,
   "id": "b95e8b7b",
   "metadata": {},
   "outputs": [],
   "source": [
    "                    DS_LAB_2021_07_13"
   ]
  },
  {
   "cell_type": "code",
   "execution_count": 16,
   "id": "d5aae234",
   "metadata": {},
   "outputs": [],
   "source": [
    "class Students:\n",
    "    def __init__(self,name,batch_no,adress,courses=[],course_score=[]):\n",
    "        self.name=name\n",
    "        self.batch_no=batch_no\n",
    "        self.adress=adress \n",
    "        self.courses = courses\n",
    "        self.course_score = course_score\n",
    "            \n",
    "    def set_name(self,name ):\n",
    "        self.name=name\n",
    "    def set_batch_no(self,batch_no):\n",
    "        self.batch_no= batch_no\n",
    "    def set_adress(self,adress):\n",
    "        self.adress= adress\n",
    "    def set_courses(self,courses):\n",
    "        self.courses = courses\n",
    "    def set_courses_score(self,courses_score):\n",
    "        if courses in courses_score:\n",
    "            courses.append([{\"course\": \"datascience\",\"marks\":20},{\"course\":\"python\",\"marks\":20}])\n",
    "        else:\n",
    "            print(\"Not Exist in the List\")\n",
    "            \n",
    "    def get_name(self):\n",
    "        return self.name\n",
    "    def get_batch(self):\n",
    "         return self.batch\n",
    "    def get_addres(self):\n",
    "        return self.address\n",
    "    def get_courses(self):\n",
    "        return self.courses\n",
    "    def get_courses_score(self):\n",
    "        return self.course_score\n",
    "   \n",
    "        \n",
    "            "
   ]
  },
  {
   "cell_type": "code",
   "execution_count": 21,
   "id": "ce112ae9-12b9-4c48-b02b-56be908abfba",
   "metadata": {},
   "outputs": [],
   "source": [
    "obj = Students('Rana',1,\"okara\")"
   ]
  },
  {
   "cell_type": "code",
   "execution_count": 23,
   "id": "6c3a0aa6-1072-4e0c-9f84-c2d79adbe6bd",
   "metadata": {},
   "outputs": [
    {
     "ename": "AttributeError",
     "evalue": "'Students' object has no attribute 'set_batch'",
     "output_type": "error",
     "traceback": [
      "\u001b[1;31m---------------------------------------------------------------------------\u001b[0m",
      "\u001b[1;31mAttributeError\u001b[0m                            Traceback (most recent call last)",
      "\u001b[1;32m<ipython-input-23-13d24ffd0176>\u001b[0m in \u001b[0;36m<module>\u001b[1;34m\u001b[0m\n\u001b[0;32m      1\u001b[0m \u001b[0mobj\u001b[0m\u001b[1;33m.\u001b[0m\u001b[0mset_name\u001b[0m\u001b[1;33m(\u001b[0m\u001b[1;34m\"Rana\"\u001b[0m\u001b[1;33m)\u001b[0m\u001b[1;33m\u001b[0m\u001b[1;33m\u001b[0m\u001b[0m\n\u001b[1;32m----> 2\u001b[1;33m \u001b[0mobj\u001b[0m\u001b[1;33m.\u001b[0m\u001b[0mset_batch\u001b[0m\u001b[1;33m(\u001b[0m\u001b[1;36m2\u001b[0m\u001b[1;33m)\u001b[0m\u001b[1;33m\u001b[0m\u001b[1;33m\u001b[0m\u001b[0m\n\u001b[0m\u001b[0;32m      3\u001b[0m \u001b[0mobj\u001b[0m\u001b[1;33m.\u001b[0m\u001b[0mset_address\u001b[0m\u001b[1;33m(\u001b[0m\u001b[1;34m\"okara cantt\"\u001b[0m\u001b[1;33m)\u001b[0m\u001b[1;33m\u001b[0m\u001b[1;33m\u001b[0m\u001b[0m\n\u001b[0;32m      4\u001b[0m \u001b[0mobj\u001b[0m\u001b[1;33m.\u001b[0m\u001b[0mset_courses\u001b[0m\u001b[1;33m(\u001b[0m\u001b[1;33m[\u001b[0m\u001b[1;34m'Python'\u001b[0m\u001b[1;33m,\u001b[0m\u001b[1;34m'Stat'\u001b[0m\u001b[1;33m,\u001b[0m\u001b[1;34m'Nlp'\u001b[0m\u001b[1;33m,\u001b[0m\u001b[1;34m'ML'\u001b[0m \u001b[1;33m]\u001b[0m\u001b[1;33m)\u001b[0m\u001b[1;33m\u001b[0m\u001b[1;33m\u001b[0m\u001b[0m\n\u001b[0;32m      5\u001b[0m \u001b[0mobj\u001b[0m\u001b[1;33m.\u001b[0m\u001b[0mset_courses_score\u001b[0m\u001b[1;33m(\u001b[0m\u001b[1;33m[\u001b[0m\u001b[1;33m{\u001b[0m\u001b[1;34m\"course\"\u001b[0m\u001b[1;33m:\u001b[0m\u001b[1;34m'Python'\u001b[0m\u001b[1;33m,\u001b[0m\u001b[1;34m'marks'\u001b[0m\u001b[1;33m:\u001b[0m\u001b[1;36m14\u001b[0m\u001b[1;33m}\u001b[0m\u001b[1;33m,\u001b[0m\u001b[1;33m{\u001b[0m\u001b[1;34m\"course\"\u001b[0m\u001b[1;33m:\u001b[0m\u001b[1;34m'Nlp'\u001b[0m\u001b[1;33m,\u001b[0m\u001b[1;34m'marks'\u001b[0m\u001b[1;33m:\u001b[0m\u001b[1;36m64\u001b[0m\u001b[1;33m}\u001b[0m\u001b[1;33m,\u001b[0m\u001b[1;33m{\u001b[0m\u001b[1;34m\"course\"\u001b[0m\u001b[1;33m:\u001b[0m\u001b[1;34m'Stat'\u001b[0m\u001b[1;33m,\u001b[0m\u001b[1;34m'marks'\u001b[0m\u001b[1;33m:\u001b[0m\u001b[1;36m34\u001b[0m\u001b[1;33m}\u001b[0m\u001b[1;33m]\u001b[0m\u001b[1;33m)\u001b[0m\u001b[1;33m\u001b[0m\u001b[1;33m\u001b[0m\u001b[0m\n",
      "\u001b[1;31mAttributeError\u001b[0m: 'Students' object has no attribute 'set_batch'"
     ]
    }
   ],
   "source": [
    "obj.set_name(\"Rana\")\n",
    "obj.set_batch(2)\n",
    "obj.set_address(\"okara cantt\")\n",
    "obj.set_courses(['Python','Stat','Nlp','ML' ])\n",
    "obj.set_courses_score([{\"course\":'Python','marks':14},{\"course\":'Nlp','marks':64},{\"course\":'Stat','marks':34}])"
   ]
  },
  {
   "cell_type": "code",
   "execution_count": 14,
   "id": "2081f413",
   "metadata": {},
   "outputs": [
    {
     "ename": "IndentationError",
     "evalue": "unexpected indent (<ipython-input-14-99b521eea7e4>, line 2)",
     "output_type": "error",
     "traceback": [
      "\u001b[1;36m  File \u001b[1;32m\"<ipython-input-14-99b521eea7e4>\"\u001b[1;36m, line \u001b[1;32m2\u001b[0m\n\u001b[1;33m    def get_courses(courses=[‘datascience’,’Fullstack’]):\u001b[0m\n\u001b[1;37m    ^\u001b[0m\n\u001b[1;31mIndentationError\u001b[0m\u001b[1;31m:\u001b[0m unexpected indent\n"
     ]
    }
   ],
   "source": [
    "class devnation(Students):\n",
    "        def __init__(self,name,batch_no,adress, course=[],marks=[]):\n",
    "            super().__init__(name,batch_no,adress)\n",
    " # getter method \n",
    "    def get_courses(courses=[‘datascience’,’Fullstack’]):\n",
    "        if:\n",
    "            courses= [‘datascience’,’Fullstack’]\n",
    "            return \"self.courses+:”C++”\n",
    "            else:\n",
    "            return 'not found' "
   ]
  },
  {
   "cell_type": "code",
   "execution_count": null,
   "id": "e3f2fc4e-d4a0-48a6-9d86-12d51c2c7b30",
   "metadata": {},
   "outputs": [],
   "source": [
    " # setter method \n",
    "    def set_age(self, x): \n",
    "        self._age = x "
   ]
  },
  {
   "cell_type": "code",
   "execution_count": 44,
   "id": "efb062aa",
   "metadata": {},
   "outputs": [],
   "source": [
    "a = Students('Rana abrar','datascience','okara',['python','Ruby','R'])"
   ]
  },
  {
   "cell_type": "code",
   "execution_count": 45,
   "id": "3d1506b5",
   "metadata": {},
   "outputs": [
    {
     "data": {
      "text/plain": [
       "'Rana abrar'"
      ]
     },
     "execution_count": 45,
     "metadata": {},
     "output_type": "execute_result"
    }
   ],
   "source": [
    "a.get_name()"
   ]
  },
  {
   "cell_type": "code",
   "execution_count": 46,
   "id": "99ac9231",
   "metadata": {},
   "outputs": [
    {
     "data": {
      "text/plain": [
       "'datascience'"
      ]
     },
     "execution_count": 46,
     "metadata": {},
     "output_type": "execute_result"
    }
   ],
   "source": [
    "a.get_batch_no()\n"
   ]
  },
  {
   "cell_type": "code",
   "execution_count": 47,
   "id": "aa783cb6",
   "metadata": {},
   "outputs": [],
   "source": [
    "a.set_batch_no('Python')"
   ]
  },
  {
   "cell_type": "code",
   "execution_count": 48,
   "id": "cb943554",
   "metadata": {},
   "outputs": [
    {
     "data": {
      "text/plain": [
       "['python', 'Ruby', 'R']"
      ]
     },
     "execution_count": 48,
     "metadata": {},
     "output_type": "execute_result"
    }
   ],
   "source": [
    "a.get_courses()"
   ]
  },
  {
   "cell_type": "code",
   "execution_count": 49,
   "id": "c70d99ec",
   "metadata": {},
   "outputs": [
    {
     "data": {
      "text/plain": [
       "'course does not exist'"
      ]
     },
     "execution_count": 49,
     "metadata": {},
     "output_type": "execute_result"
    }
   ],
   "source": [
    "a.set_courses_score('html',31)"
   ]
  },
  {
   "cell_type": "code",
   "execution_count": 52,
   "id": "70496cea",
   "metadata": {},
   "outputs": [],
   "source": []
  }
 ],
 "metadata": {
  "kernelspec": {
   "display_name": "Python 3",
   "language": "python",
   "name": "python3"
  },
  "language_info": {
   "codemirror_mode": {
    "name": "ipython",
    "version": 3
   },
   "file_extension": ".py",
   "mimetype": "text/x-python",
   "name": "python",
   "nbconvert_exporter": "python",
   "pygments_lexer": "ipython3",
   "version": "3.8.8"
  }
 },
 "nbformat": 4,
 "nbformat_minor": 5
}
