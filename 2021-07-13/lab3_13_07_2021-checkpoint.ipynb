{
 "cells": [
  {
   "cell_type": "code",
   "execution_count": 76,
   "id": "449eb1e0",
   "metadata": {},
   "outputs": [],
   "source": [
    "### create class student ---> class Student:\n",
    "### create constructor with following attributes ---> def __init__(self,all attributes):\n",
    "### create setters for mandatory attributes\n",
    "### create getters for required attributes\n",
    "\n",
    "\n",
    "class Student:\n",
    "    def __init__(self,name,batch_no,address,courses=[],courses_score=[]):\n",
    "        self.name=name\n",
    "        self.batch_no=batch_no\n",
    "        self.address=address\n",
    "        self.courses=courses\n",
    "        self.courses_score=courses_score\n",
    "        \n",
    "    def set_name(self,name):\n",
    "        self.name=name\n",
    "        \n",
    "    def set_batch_no(self,batch_no):\n",
    "        self.batch_no=batch_no\n",
    "        \n",
    "    def set_address(self,address):\n",
    "        self.address=address\n",
    "        \n",
    "    def set_courses(self,courses):\n",
    "        self.courses=courses\n",
    "        \n",
    "    \n",
    "    def get_name(self):\n",
    "        return self.name\n",
    "    \n",
    "    def get_batch_no(self):\n",
    "        return self.batch_no\n",
    "    \n",
    "    def get_address(self):\n",
    "        return self.address\n",
    "    \n",
    "    def get_courses(self):\n",
    "        return self.courses\n",
    "    \n",
    "    def set_courses_score(self,courses,courses_score):\n",
    "        if courses in self.courses:\n",
    "            \n",
    "            self.courses_score.append({\"course\":courses,\"marks\":courses_score})\n",
    "        else:\n",
    "            print(\"not found\")\n",
    "    \n",
    "    def get_courses_score(self):\n",
    "        \n",
    "        return self.courses_score\n",
    "        \n",
    "    "
   ]
  },
  {
   "cell_type": "code",
   "execution_count": 77,
   "id": "5a8c8b53",
   "metadata": {},
   "outputs": [
    {
     "data": {
      "text/plain": [
       "['dataSciences', 'pythons']"
      ]
     },
     "execution_count": 77,
     "metadata": {},
     "output_type": "execute_result"
    }
   ],
   "source": [
    "obj=Student(\"zaid\",3,\"lahore\")\n",
    "obj.set_courses([\"dataSciences\",\"pythons\"])\n",
    "obj.get_courses()"
   ]
  },
  {
   "cell_type": "code",
   "execution_count": 80,
   "id": "08f66844",
   "metadata": {},
   "outputs": [
    {
     "name": "stdout",
     "output_type": "stream",
     "text": [
      "not found\n"
     ]
    }
   ],
   "source": [
    "obj.set_courses_score('full satck',30)"
   ]
  },
  {
   "cell_type": "code",
   "execution_count": 79,
   "id": "e3c7da34",
   "metadata": {},
   "outputs": [
    {
     "data": {
      "text/plain": [
       "[{'course': 'dataSciences', 'marks': 30}]"
      ]
     },
     "execution_count": 79,
     "metadata": {},
     "output_type": "execute_result"
    }
   ],
   "source": [
    "obj.get_courses_score()"
   ]
  },
  {
   "cell_type": "code",
   "execution_count": 25,
   "id": "8fe72ccc",
   "metadata": {},
   "outputs": [],
   "source": []
  },
  {
   "cell_type": "code",
   "execution_count": 60,
   "id": "b0e6a911",
   "metadata": {},
   "outputs": [],
   "source": []
  },
  {
   "cell_type": "code",
   "execution_count": 62,
   "id": "bb1214a7",
   "metadata": {},
   "outputs": [],
   "source": []
  },
  {
   "cell_type": "code",
   "execution_count": 63,
   "id": "d9e533a2",
   "metadata": {},
   "outputs": [],
   "source": []
  },
  {
   "cell_type": "code",
   "execution_count": null,
   "id": "e4da307e",
   "metadata": {},
   "outputs": [],
   "source": []
  },
  {
   "cell_type": "code",
   "execution_count": null,
   "id": "d918cad2",
   "metadata": {},
   "outputs": [],
   "source": []
  }
 ],
 "metadata": {
  "kernelspec": {
   "display_name": "Python 3",
   "language": "python",
   "name": "python3"
  },
  "language_info": {
   "codemirror_mode": {
    "name": "ipython",
    "version": 3
   },
   "file_extension": ".py",
   "mimetype": "text/x-python",
   "name": "python",
   "nbconvert_exporter": "python",
   "pygments_lexer": "ipython3",
   "version": "3.8.8"
  }
 },
 "nbformat": 4,
 "nbformat_minor": 5
}
