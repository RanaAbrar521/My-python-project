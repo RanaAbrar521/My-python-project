{
 "cells": [
  {
   "cell_type": "code",
   "execution_count": null,
   "metadata": {},
   "outputs": [],
   "source": [
    "###It is the simple Inheritance code \n",
    "###In which Students is the parent class and the Devnation is the child class"
   ]
  },
  {
   "cell_type": "code",
   "execution_count": 45,
   "metadata": {},
   "outputs": [],
   "source": [
    "##This is the parent class student\n",
    "class Students:\n",
    "    def __init__(self,name,batchno,address):\n",
    "        self.name = name\n",
    "        self.batchno = batchno\n",
    "        self.address = address\n",
    "        \n",
    "    ###In this we set the values\n",
    "    def set_name(self,name):\n",
    "        self.name = name\n",
    "    \n",
    "    def set_batchno(self,batchno):\n",
    "        self.batchno =batchno\n",
    "        \n",
    "    def set_address(self,address):\n",
    "        self.address = address\n",
    "    \n",
    "    ###In this we get the values\n",
    "    def get_name(self):\n",
    "        return self.name\n",
    "    \n",
    "    def get_batchno(self):\n",
    "        return self.batchno\n",
    "    \n",
    "    def get_address(self):\n",
    "        return self.address\n",
    "    \n",
    "##This is the child class of the student class\n",
    "class DevnationStudents(Students):\n",
    "    def __init__(self,name,batchno,address,add_course=[],course_marks=[]):\n",
    "        super().__init__(name,batchno,address)\n",
    "        self.add_course=add_course\n",
    "        self.course_marks=course_marks\n",
    "        \n",
    "    ###In this we set the course and its marks\n",
    "    def set_add_courses(self,courselist):\n",
    "        for course in courselist:\n",
    "            if course not in self.add_course:\n",
    "                self.add_course.append(course)\n",
    "        \n",
    "    \n",
    "    def set_courses_marks(self, course_marks_list):\n",
    "        for new_dict in course_marks_list:\n",
    "            for course in new_dict.values():\n",
    "                if type(course) == str:\n",
    "                    if course in self.add_course:\n",
    "                        if new_dict not in self.courses_marks_list:\n",
    "                            if new_dict.keys() == \"course\":\n",
    "                                self.courses_marks_list.append(new_dict)\n",
    "\n",
    "        \n",
    "    ###In this we get the course and its marks\n",
    "    def get_add_courses(self):\n",
    "        return self.add_course\n",
    "    \n",
    "    def get_course_marks(self):\n",
    "        return self.course_marks\n",
    "        \n",
    "    \n",
    "        \n",
    "    "
   ]
  },
  {
   "cell_type": "code",
   "execution_count": 46,
   "metadata": {},
   "outputs": [],
   "source": [
    "Student_child = DevnationStudents(\"Khurram Shahzad\",4,\"Sahiwal\",[\"DataScience\",\"OOP\",\"Stat\"],[\"50\",\"60\",\"80\"])"
   ]
  },
  {
   "cell_type": "code",
   "execution_count": 47,
   "metadata": {},
   "outputs": [],
   "source": [
    "Student_child.set_add_courses([\"DataScience\",\"OOP\",\"Stat\"])"
   ]
  },
  {
   "cell_type": "code",
   "execution_count": 48,
   "metadata": {},
   "outputs": [
    {
     "data": {
      "text/plain": [
       "['DataScience', 'OOP', 'Stat']"
      ]
     },
     "execution_count": 48,
     "metadata": {},
     "output_type": "execute_result"
    }
   ],
   "source": [
    "Student_child.get_add_courses()"
   ]
  },
  {
   "cell_type": "code",
   "execution_count": 49,
   "metadata": {},
   "outputs": [],
   "source": [
    "Student_child.set_add_courses([\"DataScience\",\"DataBase\",\"Game development\"])"
   ]
  },
  {
   "cell_type": "code",
   "execution_count": 50,
   "metadata": {},
   "outputs": [
    {
     "data": {
      "text/plain": [
       "['DataScience', 'OOP', 'Stat', 'DataBase', 'Game development']"
      ]
     },
     "execution_count": 50,
     "metadata": {},
     "output_type": "execute_result"
    }
   ],
   "source": [
    "Student_child.get_add_courses()"
   ]
  },
  {
   "cell_type": "code",
   "execution_count": 54,
   "metadata": {},
   "outputs": [
    {
     "ename": "SyntaxError",
     "evalue": "invalid syntax (<ipython-input-54-c1c6739bd8b7>, line 1)",
     "output_type": "error",
     "traceback": [
      "\u001b[1;36m  File \u001b[1;32m\"<ipython-input-54-c1c6739bd8b7>\"\u001b[1;36m, line \u001b[1;32m1\u001b[0m\n\u001b[1;33m    Student_child.set_courses_marks([{\"course\":\"DataScience\",\"marks\":\"50\"},{\"course\":\"Fullstack\":\"50\"}])\u001b[0m\n\u001b[1;37m                                                                                                ^\u001b[0m\n\u001b[1;31mSyntaxError\u001b[0m\u001b[1;31m:\u001b[0m invalid syntax\n"
     ]
    }
   ],
   "source": [
    "Student_child.set_courses_marks([{\"course\":\"DataScience\",\"marks\":\"50\"},{\"course\":\"Fullstack\":\"50\"}])"
   ]
  },
  {
   "cell_type": "code",
   "execution_count": null,
   "metadata": {},
   "outputs": [],
   "source": []
  }
 ],
 "metadata": {
  "kernelspec": {
   "display_name": "Python 3",
   "language": "python",
   "name": "python3"
  },
  "language_info": {
   "codemirror_mode": {
    "name": "ipython",
    "version": 3
   },
   "file_extension": ".py",
   "mimetype": "text/x-python",
   "name": "python",
   "nbconvert_exporter": "python",
   "pygments_lexer": "ipython3",
   "version": "3.8.5"
  }
 },
 "nbformat": 4,
 "nbformat_minor": 4
}
