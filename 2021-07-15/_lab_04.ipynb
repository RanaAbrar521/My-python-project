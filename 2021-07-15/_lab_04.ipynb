{
 "cells": [
  {
   "cell_type": "code",
   "execution_count": 18,
   "id": "da6c34cb",
   "metadata": {},
   "outputs": [],
   "source": [
    "class Student:\n",
    "    def __init__(self,name,batch_no,address):\n",
    "        self.name=name\n",
    "        self.batch_no=batch_no\n",
    "        self.address=address\n",
    "    def set_name(self,name):\n",
    "        self.name=name\n",
    "        \n",
    "    def set_batch_no(self,batch_no):\n",
    "        self.batch_no=batch_no\n",
    "        \n",
    "    def set_address(self,address):\n",
    "        self.address=address\n",
    "    \n",
    "    def get_name(self):\n",
    "        return self.name\n",
    "    \n",
    "    def get_batch_no(self):\n",
    "        return self.batch_no\n",
    "    \n",
    "    def get_address(self):\n",
    "        return self.address\n",
    "\n",
    "class DevnationStudents(Student):\n",
    "    def __init__(self,name,batch_no,address,courses=[],marks=[]):\n",
    "        super().__init__(name,batch_no,address)\n",
    "        self.courses=courses\n",
    "        self.marks=marks\n",
    "        \n",
    "    def set_courses(self,courses):\n",
    "        for x in courses:\n",
    "            if x not in self.courses:\n",
    "                self.courses.append(x)        \n",
    "    \n",
    "    def set_marks(self,courses,marks):\n",
    "        for x in courses:\n",
    "            if x in self.courses:\n",
    "                self.marks.append({\"course\":x,\"marks\":marks})\n",
    "            else:\n",
    "                print(\"course not found\")\n",
    "            \n",
    "    def get_courses(self):\n",
    "        return self.courses\n",
    "    \n",
    "    def get_marks(self):\n",
    "        return self.marks"
   ]
  },
  {
   "cell_type": "code",
   "execution_count": 19,
   "id": "105fd0b3",
   "metadata": {},
   "outputs": [
    {
     "data": {
      "text/plain": [
       "['datascience', 'Full Stack', 'C++', 'java', 'Python']"
      ]
     },
     "execution_count": 19,
     "metadata": {},
     "output_type": "execute_result"
    }
   ],
   "source": [
    "obj=DevnationStudents(\"ARS\",3,\"BWP\")\n",
    "obj.set_courses([\"datascience\",\"Full Stack\",\"C++\"])\n",
    "\n",
    "obj.get_courses()\n",
    "obj.set_courses([\"java\",\"C++\"])\n",
    "obj.get_courses()\n",
    "obj.set_courses([\"Python\"])\n",
    "obj.get_courses()\n"
   ]
  },
  {
   "cell_type": "code",
   "execution_count": null,
   "id": "d4988288",
   "metadata": {},
   "outputs": [],
   "source": [
    "obj.set_marks([\"java\"],40)\n",
    "obj.get_marks()"
   ]
  }
 ],
 "metadata": {
  "kernelspec": {
   "display_name": "Python 3",
   "language": "python",
   "name": "python3"
  },
  "language_info": {
   "codemirror_mode": {
    "name": "ipython",
    "version": 3
   },
   "file_extension": ".py",
   "mimetype": "text/x-python",
   "name": "python",
   "nbconvert_exporter": "python",
   "pygments_lexer": "ipython3",
   "version": "3.8.8"
  }
 },
 "nbformat": 4,
 "nbformat_minor": 5
}
