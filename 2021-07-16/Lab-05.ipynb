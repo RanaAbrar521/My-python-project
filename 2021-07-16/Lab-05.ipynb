{
 "cells": [
  {
   "cell_type": "raw",
   "metadata": {},
   "source": [
    "LAB TASK-05\n",
    "Q#01\n",
    "Create a class Salary with the following getters and setters\n",
    "Constructor\n",
    "a.Create an Object with following parameters\n",
    "    -Monthly income\n",
    "    -Currency\n",
    "    -Type (Cash or cheque)\n",
    "2.Setters\n",
    "    -Monthly income (Float)\n",
    "    -Currency (string)\n",
    "    -Type (string)\n",
    "3.Getters\n",
    "    -Monthly income (Float)\n",
    "    -Currency (string)\n",
    "    -Type (string)\n",
    "    -Annual Income\n"
   ]
  },
  {
   "cell_type": "code",
   "execution_count": 184,
   "metadata": {},
   "outputs": [],
   "source": [
    "##In which we create the class of salary\n",
    "class Salary:\n",
    "    ##constructor \n",
    "    def __init__ (self,monthly_income,currency,types):\n",
    "        self.monthly_income = monthly_income\n",
    "        self.currency = currency\n",
    "        self.types = types\n",
    "        \n",
    "    ##Set function use to set the values\n",
    "    def set_income(self,monthly_income):\n",
    "        self.monthly_income = monthly_income\n",
    "    \n",
    "    def set_currency(self,currency):\n",
    "        self.currency = currency\n",
    "    \n",
    "    def set_types(self,types):\n",
    "        self.types = types\n",
    "        \n",
    "    ##Get function use to get the values\n",
    "    def get_income(self):\n",
    "        return self.income\n",
    "    \n",
    "    def get_currency(self):\n",
    "        return self.currency\n",
    "    \n",
    "    def get_types(self):\n",
    "        return self.types\n",
    "    \n",
    "    def get_annual_income(self):\n",
    "        return self.monthly_income * 12\n",
    "   \n",
    "class Employee:\n",
    "    ##constructor\n",
    "    def __init__ (self,monthly_income,currency,types,bonus):\n",
    "        self.Monthly_income = Salary(monthly_income,currency,types)\n",
    "        self.bonus = bonus\n",
    "    ##Function to get the Annual_salary_bonus\n",
    "    def set_Annual_salary_bonus(self):\n",
    "        print(self.Monthly_income.get_annual_income()+self.bonus,\"is the total Annual Salary including Bonus\")\n",
    "    ##Function to get the Annual_salary_bonus\n",
    "    def get_annual(self):\n",
    "        print(\"Annual Salary is\",self.Monthly_income.get_annual_income(),self.Monthly_income.get_currency(),\"including\",self.bonus,\"Annual Bonus\")\n",
    "    ##Function to get the Annual_salary_bonus\n",
    "    def get_bonus(self):\n",
    "        print(self.bonus,\"is the bonus amount\")\n",
    "    ##Function to get the Annual_salary_bonus\n",
    "    def currency(self):\n",
    "        print(self.Monthly_income.get_currency(),\"are currency\")"
   ]
  },
  {
   "cell_type": "code",
   "execution_count": 191,
   "metadata": {},
   "outputs": [],
   "source": [
    "obj= Salary(5000,'Euro','Cash')"
   ]
  },
  {
   "cell_type": "code",
   "execution_count": 197,
   "metadata": {},
   "outputs": [],
   "source": [
    "obj1= Employee(5000,'Euro','Cash',2500)"
   ]
  },
  {
   "cell_type": "code",
   "execution_count": 198,
   "metadata": {},
   "outputs": [
    {
     "name": "stdout",
     "output_type": "stream",
     "text": [
      "Annual Salary is 60000 Euro including 2500 Annual Bonus\n"
     ]
    }
   ],
   "source": [
    "obj1.get_annual()"
   ]
  },
  {
   "cell_type": "code",
   "execution_count": 199,
   "metadata": {},
   "outputs": [
    {
     "name": "stdout",
     "output_type": "stream",
     "text": [
      "62500 is the total Annual Salary including Bonus\n"
     ]
    }
   ],
   "source": [
    "obj1.set_Annual_salary_bonus()"
   ]
  },
  {
   "cell_type": "code",
   "execution_count": 200,
   "metadata": {},
   "outputs": [
    {
     "name": "stdout",
     "output_type": "stream",
     "text": [
      "2500 is the bonus amount\n"
     ]
    }
   ],
   "source": [
    "obj1.get_bonus()"
   ]
  },
  {
   "cell_type": "code",
   "execution_count": 201,
   "metadata": {},
   "outputs": [
    {
     "name": "stdout",
     "output_type": "stream",
     "text": [
      "Euro are currency\n"
     ]
    }
   ],
   "source": [
    "obj1.currency()"
   ]
  },
  {
   "cell_type": "code",
   "execution_count": null,
   "metadata": {},
   "outputs": [],
   "source": []
  },
  {
   "cell_type": "code",
   "execution_count": null,
   "metadata": {},
   "outputs": [],
   "source": []
  }
 ],
 "metadata": {
  "kernelspec": {
   "display_name": "Python 3",
   "language": "python",
   "name": "python3"
  },
  "language_info": {
   "codemirror_mode": {
    "name": "ipython",
    "version": 3
   },
   "file_extension": ".py",
   "mimetype": "text/x-python",
   "name": "python",
   "nbconvert_exporter": "python",
   "pygments_lexer": "ipython3",
   "version": "3.8.5"
  }
 },
 "nbformat": 4,
 "nbformat_minor": 4
}
