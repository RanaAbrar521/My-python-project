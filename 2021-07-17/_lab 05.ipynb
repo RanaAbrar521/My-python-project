{
 "cells": [
  {
   "cell_type": "code",
   "execution_count": 60,
   "id": "f84c20ac",
   "metadata": {},
   "outputs": [],
   "source": [
    "class Salary:\n",
    "    def __init__(self,monthly_income,currency,types):\n",
    "        self.monthly_income=monthly_income\n",
    "        self.currency=currency\n",
    "        self.type=types\n",
    "            \n",
    "    def set_monthly_income(self,monthly_income):\n",
    "        self.monthly_income\n",
    "    def set_currency(self,currency):\n",
    "        self.currency\n",
    "    def set_types(self,types):\n",
    "        self.types\n",
    "            \n",
    "    def get_monthly_income(self):\n",
    "        return self.monthly_income\n",
    "    def get_currency(self):\n",
    "        return self.currency\n",
    "    def get_types(self):\n",
    "        return self.types\n",
    "        \n",
    "    def get_annual_income(self):\n",
    "        return self.monthly_income * 12\n",
    "        \n",
    "\n",
    "        \n",
    "class Employee:\n",
    "    def __init__(self,monthly_income,currency,types,bonus):\n",
    "        self.monthly_income=Salary(monthly_income,currency,types)\n",
    "        self.bonus = bonus\n",
    "        \n",
    "    def set_annual_salary_bonus(self):\n",
    "        self.monthly_income.get_annual_income() + self.bonus\n",
    "    def get_annual_salary_bonus(self):\n",
    "        return self.get_annual_salary_bonus\n",
    "    \n",
    "    \n",
    "    def get_bonus(self):\n",
    "        return self.bonus\n",
    "        \n",
    "        \n",
    "    "
   ]
  },
  {
   "cell_type": "code",
   "execution_count": 61,
   "id": "6bfc898a",
   "metadata": {},
   "outputs": [],
   "source": [
    "obj = Salary(5000,'euro','cash')"
   ]
  },
  {
   "cell_type": "code",
   "execution_count": 62,
   "id": "ecc074fa",
   "metadata": {},
   "outputs": [
    {
     "data": {
      "text/plain": [
       "60000"
      ]
     },
     "execution_count": 62,
     "metadata": {},
     "output_type": "execute_result"
    }
   ],
   "source": [
    "obj.get_annual_income()"
   ]
  },
  {
   "cell_type": "code",
   "execution_count": 63,
   "id": "6725e0e8",
   "metadata": {},
   "outputs": [],
   "source": [
    "obj2=Employee(5000,'euro','cash',2500)"
   ]
  },
  {
   "cell_type": "code",
   "execution_count": 64,
   "id": "4c7f61cd",
   "metadata": {},
   "outputs": [],
   "source": [
    "obj2.set_annual_salary_bonus()"
   ]
  },
  {
   "cell_type": "code",
   "execution_count": 48,
   "id": "04b8d8b4",
   "metadata": {},
   "outputs": [
    {
     "data": {
      "text/plain": [
       "<bound method Employee.get_annual_salary_bonus of <__main__.Employee object at 0x000000FAE17FD9A0>>"
      ]
     },
     "execution_count": 48,
     "metadata": {},
     "output_type": "execute_result"
    }
   ],
   "source": [
    "obj2.get_annual_salary_bonus()"
   ]
  },
  {
   "cell_type": "code",
   "execution_count": null,
   "id": "45c3ee86",
   "metadata": {},
   "outputs": [],
   "source": []
  }
 ],
 "metadata": {
  "kernelspec": {
   "display_name": "Python 3",
   "language": "python",
   "name": "python3"
  },
  "language_info": {
   "codemirror_mode": {
    "name": "ipython",
    "version": 3
   },
   "file_extension": ".py",
   "mimetype": "text/x-python",
   "name": "python",
   "nbconvert_exporter": "python",
   "pygments_lexer": "ipython3",
   "version": "3.8.8"
  }
 },
 "nbformat": 4,
 "nbformat_minor": 5
}
