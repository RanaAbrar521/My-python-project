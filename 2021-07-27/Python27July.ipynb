{
 "cells": [
  {
   "cell_type": "code",
   "execution_count": null,
   "id": "7ba31379",
   "metadata": {},
   "outputs": [],
   "source": [
    "#create class MyType\n",
    "#constructor with parameters (a,b)\n",
    "#new --> obj of MyType. if a > 500 , don't create obj\n",
    "#add --> two MyType objects add them correspondingly\n",
    "#sub --> two MyType objects sub them correspondingly\n",
    "#gt --> return true/false. if both elem of 1st greater than 2nd\n",
    "#lt --> return true/false. if both elem of 1st less than 2nd"
   ]
  },
  {
   "cell_type": "code",
   "execution_count": 124,
   "id": "9a421871",
   "metadata": {},
   "outputs": [],
   "source": [
    "class MyType:\n",
    "    def __new__(cls,a,b):\n",
    "        if a < 500:\n",
    "            inst = object.__new__(cls)\n",
    "            return inst\n",
    "        \n",
    "    def __init__(self,a,b):\n",
    "        self.a = a\n",
    "        self.b = b\n",
    "        \n",
    "    def __add__(self,obj):\n",
    "        return self.a + obj.a , self.b + obj.b\n",
    "    \n",
    "    def __sub__(self,obj):\n",
    "        return self.a - obj.a , self.b - obj.b\n",
    "    \n",
    "    def __gt__(self,obj):\n",
    "        \n",
    "        if (self.a > obj.a) & (self.b > obj.b):\n",
    "            return True\n",
    "        else:\n",
    "            return False\n",
    "    def __lt__(self,obj):\n",
    "        \n",
    "        if (self.a < obj.a) & (self.b < obj.b):\n",
    "            return True\n",
    "        else:\n",
    "            return False\n",
    "        "
   ]
  },
  {
   "cell_type": "code",
   "execution_count": 130,
   "id": "de012ce9",
   "metadata": {},
   "outputs": [],
   "source": [
    "t1 = MyType(1,2)\n",
    "t2 = MyType(8,4)"
   ]
  },
  {
   "cell_type": "code",
   "execution_count": 131,
   "id": "d6184647",
   "metadata": {},
   "outputs": [
    {
     "data": {
      "text/plain": [
       "(9, 6)"
      ]
     },
     "execution_count": 131,
     "metadata": {},
     "output_type": "execute_result"
    }
   ],
   "source": [
    "t1+t2"
   ]
  },
  {
   "cell_type": "code",
   "execution_count": 132,
   "id": "0c88573d",
   "metadata": {},
   "outputs": [
    {
     "data": {
      "text/plain": [
       "(-7, -2)"
      ]
     },
     "execution_count": 132,
     "metadata": {},
     "output_type": "execute_result"
    }
   ],
   "source": [
    "t1-t2"
   ]
  },
  {
   "cell_type": "code",
   "execution_count": 133,
   "id": "08d21faf",
   "metadata": {},
   "outputs": [
    {
     "data": {
      "text/plain": [
       "False"
      ]
     },
     "execution_count": 133,
     "metadata": {},
     "output_type": "execute_result"
    }
   ],
   "source": [
    "t1>t2"
   ]
  },
  {
   "cell_type": "code",
   "execution_count": 134,
   "id": "a733a575",
   "metadata": {},
   "outputs": [
    {
     "data": {
      "text/plain": [
       "True"
      ]
     },
     "execution_count": 134,
     "metadata": {},
     "output_type": "execute_result"
    }
   ],
   "source": [
    "t1<t2"
   ]
  },
  {
   "cell_type": "code",
   "execution_count": null,
   "id": "677d77c4",
   "metadata": {},
   "outputs": [],
   "source": []
  }
 ],
 "metadata": {
  "kernelspec": {
   "display_name": "Python 3",
   "language": "python",
   "name": "python3"
  },
  "language_info": {
   "codemirror_mode": {
    "name": "ipython",
    "version": 3
   },
   "file_extension": ".py",
   "mimetype": "text/x-python",
   "name": "python",
   "nbconvert_exporter": "python",
   "pygments_lexer": "ipython3",
   "version": "3.7.10"
  }
 },
 "nbformat": 4,
 "nbformat_minor": 5
}
