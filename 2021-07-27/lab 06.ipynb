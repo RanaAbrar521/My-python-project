{
 "cells": [
  {
   "cell_type": "code",
   "execution_count": 49,
   "id": "a8440d7c",
   "metadata": {},
   "outputs": [],
   "source": [
    "class myType:\n",
    "    def __new__(cls,a,b):\n",
    "        if a<500:\n",
    "            inst = object.__new__(cls)\n",
    "            return inst\n",
    "    \n",
    "    def __init__(self,a,b):\n",
    "        self.a = a\n",
    "        self.b = b\n",
    "        \n",
    "    def __add__(self,t2):\n",
    "        return (t1.a + t2.b),(t1.b + t2.b)\n",
    "    \n",
    "    def __sub__(self,t2):\n",
    "        return (t1.a - t2.b),(t1.b - t2.b)\n",
    "    \n",
    "    def __gt__(self,t2):\n",
    "        if t1.a>t2.a and t1.b>t2.b:\n",
    "            return True \n",
    "        else:\n",
    "            return False\n",
    "        \n",
    "    def __lt__(self,t2):\n",
    "        if t1.a<t2.a and t1.b<t2.b:\n",
    "            return True \n",
    "        else:\n",
    "            return False\n",
    "        \n",
    "    \n",
    "    \n",
    "    \n",
    "    \n",
    "    "
   ]
  },
  {
   "cell_type": "code",
   "execution_count": 50,
   "id": "006e94ad",
   "metadata": {},
   "outputs": [],
   "source": [
    "t1 = myType(1,2)\n",
    "t2 = myType(2,3)"
   ]
  },
  {
   "cell_type": "code",
   "execution_count": 51,
   "id": "7b0f812a",
   "metadata": {},
   "outputs": [
    {
     "data": {
      "text/plain": [
       "(4, 5)"
      ]
     },
     "execution_count": 51,
     "metadata": {},
     "output_type": "execute_result"
    }
   ],
   "source": [
    "myType.__add__(t1,t2)"
   ]
  },
  {
   "cell_type": "code",
   "execution_count": 52,
   "id": "e0ef72f6",
   "metadata": {},
   "outputs": [
    {
     "data": {
      "text/plain": [
       "(-2, -1)"
      ]
     },
     "execution_count": 52,
     "metadata": {},
     "output_type": "execute_result"
    }
   ],
   "source": [
    "myType.__sub__(t1,t2)"
   ]
  },
  {
   "cell_type": "code",
   "execution_count": 53,
   "id": "9ac531e8",
   "metadata": {},
   "outputs": [
    {
     "data": {
      "text/plain": [
       "False"
      ]
     },
     "execution_count": 53,
     "metadata": {},
     "output_type": "execute_result"
    }
   ],
   "source": [
    "myType.__gt__(t1,t2)"
   ]
  },
  {
   "cell_type": "code",
   "execution_count": 54,
   "id": "41b841be",
   "metadata": {},
   "outputs": [
    {
     "data": {
      "text/plain": [
       "True"
      ]
     },
     "execution_count": 54,
     "metadata": {},
     "output_type": "execute_result"
    }
   ],
   "source": [
    "myType.__lt__(t1,t2)"
   ]
  },
  {
   "cell_type": "code",
   "execution_count": null,
   "id": "bb83df0a",
   "metadata": {},
   "outputs": [],
   "source": []
  }
 ],
 "metadata": {
  "kernelspec": {
   "display_name": "Python 3",
   "language": "python",
   "name": "python3"
  },
  "language_info": {
   "codemirror_mode": {
    "name": "ipython",
    "version": 3
   },
   "file_extension": ".py",
   "mimetype": "text/x-python",
   "name": "python",
   "nbconvert_exporter": "python",
   "pygments_lexer": "ipython3",
   "version": "3.8.8"
  }
 },
 "nbformat": 4,
 "nbformat_minor": 5
}
