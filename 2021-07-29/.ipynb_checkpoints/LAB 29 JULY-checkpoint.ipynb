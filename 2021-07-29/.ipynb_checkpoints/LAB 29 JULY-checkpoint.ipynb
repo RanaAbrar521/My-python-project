{
 "cells": [
  {
   "cell_type": "markdown",
   "id": "65ac0c75-e97c-44ee-92f2-7af77b536f93",
   "metadata": {},
   "source": [
    "#Dev Nation\n",
    "#Data Science Lab-07\n"
   ]
  },
  {
   "cell_type": "code",
   "execution_count": null,
   "id": "95fdcd96-0aa2-4327-a0f8-221caeaa7da6",
   "metadata": {},
   "outputs": [],
   "source": [
    "#create a class singly linkedlist\n",
    "# contains data and next attribute \n",
    "# create two functions with a namne\n",
    "#1-  . Add_in_begginning\n",
    "# which recieve new data \n",
    "# add new node in the start of linkedlist\n",
    "#2-  .Add_at_particular_position\n",
    "#i. Add new data\n",
    "#ii. Add Position value\n",
    "#1. I.e if position value is 2 it means that add new node after 3rd node considering first node starts from 0 th position\n",
    "#Add_at_the_end\n",
    "#i. Receives new data\n",
    "#ii. Add new Node at the end of the linked list\n",
    "#d. Print Entire LinkedList\n",
    "\n",
    "\n",
    "0-->1-->2---10-->3-->4-->5-->8\n",
    "0\n"
   ]
  },
  {
   "cell_type": "code",
   "execution_count": null,
   "id": "677668b6-040f-46fb-be1b-07640f5fa025",
   "metadata": {},
   "outputs": [],
   "source": [
    "class Node:\n",
    "    def __init__(self, data):\n",
    "         self.data = data  \n",
    "        self.next = None \n",
    "        \n",
    "        \n",
    "class LinkedList:\n",
    "    def __init__(self):\n",
    "        self.head = None\n",
    "             \n",
    "    def Add_node_in_begginning(self,new_data):\n",
    "        new_node= node(new_data)\n",
    "        new_node.next=self.head\n",
    "        self.head=new_node\n",
    "        \n",
    "        \n",
    "    def Add_at_particular_position(self, position, data)\n",
    "    if (position < 3):       \n",
    "        print(\"Invalid position!\")\n",
    "    elif(position==3)\n",
    "    new_node.next=self.head.next\n",
    "    self.head.next=new_node\n",
    "       \n",
    "    def add_end_node(self, new_data):\n",
    " \n",
    "        new_node = Node(new_data)\n",
    " \n",
    "        if self.head is None:\n",
    "            self.head = new_node\n",
    "            return\n",
    "        last = self.head\n",
    "        while (last.next):\n",
    "        last = last.next\n",
    "        last.next =  new_node\n",
    "        \n",
    " \n",
    "    def print_linkedlist(self):\n",
    "        L1 = self.head\n",
    "        while (L1):\n",
    "            print L1.data,\n",
    "            L1 = L1.next"
   ]
  },
  {
   "cell_type": "code",
   "execution_count": 1,
   "id": "9f7b1ccd-e51c-4854-83a4-e35c6e93c8f3",
   "metadata": {},
   "outputs": [],
   "source": [
    "L1 = linkedlist()\n",
    "    "
   ]
  },
  {
   "cell_type": "code",
   "execution_count": null,
   "id": "35011242-47bc-4c28-bbb7-00f872b08b99",
   "metadata": {},
   "outputs": [],
   "source": [
    "L1.Add_node_in_begginning(0)\n",
    "L1.Add_node_in_begginning(1)\n",
    "L1.Add_node_in_begginning(2)\n"
   ]
  },
  {
   "cell_type": "code",
   "execution_count": null,
   "id": "b1839ff5-b4d0-43bc-a206-0906b0128e43",
   "metadata": {},
   "outputs": [],
   "source": [
    "L1.print_linkedlist()"
   ]
  },
  {
   "cell_type": "code",
   "execution_count": null,
   "id": "ea0e1be5-8bc8-452c-9217-bb20875f9a02",
   "metadata": {},
   "outputs": [],
   "source": [
    "add_end_node(4)"
   ]
  },
  {
   "cell_type": "code",
   "execution_count": null,
   "id": "3a67bdb6-5c01-44a2-8c4c-cdda433d2379",
   "metadata": {},
   "outputs": [],
   "source": [
    "L1.Add_at_particular_position(3,5)"
   ]
  },
  {
   "cell_type": "code",
   "execution_count": null,
   "id": "756901b0-22c6-4a1a-855a-34859e049285",
   "metadata": {},
   "outputs": [],
   "source": [
    "l1.print_linkedlist()"
   ]
  }
 ],
 "metadata": {
  "kernelspec": {
   "display_name": "Python 3",
   "language": "python",
   "name": "python3"
  },
  "language_info": {
   "codemirror_mode": {
    "name": "ipython",
    "version": 3
   },
   "file_extension": ".py",
   "mimetype": "text/x-python",
   "name": "python",
   "nbconvert_exporter": "python",
   "pygments_lexer": "ipython3",
   "version": "3.8.8"
  }
 },
 "nbformat": 4,
 "nbformat_minor": 5
}
