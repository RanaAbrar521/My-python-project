{
 "cells": [
  {
   "cell_type": "code",
   "execution_count": 82,
   "metadata": {},
   "outputs": [],
   "source": [
    "# Create Function Add_in_begginning \n",
    "# Create Function Add_at_particular_position \n",
    "# Create Function Add_at_the_end \n",
    "\n",
    "# Node class\n",
    "class Node:\n",
    " \n",
    "    # Function to initialise the node object\n",
    "    def __init__(self, data):\n",
    "        self.data = data  \n",
    "        self.next = None  \n",
    " \n",
    " \n",
    "# Linked List class contains a Node object\n",
    "class LinkedList:\n",
    "\n",
    "    def __init__(self):\n",
    "        self.head = None\n",
    "        \n",
    "    # Create Function Add_in_begginning \n",
    "    def add_node_in_begginning(self, new_data):\n",
    "\n",
    "        new_node = Node(new_data)\n",
    "        new_node.next = self.head\n",
    "        self.head = new_node\n",
    " \n",
    "    # Create Function Add_at_particular_position\n",
    "    def Add_at_particular_position(self, prev_node, new_data):\n",
    " \n",
    "        if prev_node is None:\n",
    "            print (\"The given previous node must in the LinkedList.\")\n",
    "            return\n",
    "        new_node = Node(new_data)\n",
    "        new_node.next = prev_node.next\n",
    "        prev_node.next = new_node\n",
    " \n",
    " \n",
    "    # Create Function Add_at_the_end \n",
    "    def Add_at_the_end(self, new_data):\n",
    "        new_node = Node(new_data)\n",
    " \n",
    "        if self.head is None:\n",
    "            self.head = new_node\n",
    "            return\n",
    "\n",
    "        last = self.head\n",
    "        while (last.next):\n",
    "            last = last.next\n",
    "        last.next =  new_node\n",
    " \n",
    "    def print_linkedlist(self):\n",
    "        l1=self.head\n",
    "        while(l1):\n",
    "            print(l1.data)\n",
    "            l1=l1.next\n",
    "            \n",
    " \n",
    " "
   ]
  },
  {
   "cell_type": "code",
   "execution_count": 84,
   "metadata": {},
   "outputs": [
    {
     "name": "stdout",
     "output_type": "stream",
     "text": [
      "Created linked list is:\n",
      "4\n",
      "2\n",
      "8\n",
      "4\n"
     ]
    }
   ],
   "source": [
    "l1 = LinkedList()\n",
    "l1.add_node_in_begginning(2);\n",
    "l1.add_node_in_begginning(4);\n",
    "l1.Add_at_the_end(4)\n",
    "l1.Add_at_particular_position(l1.head.next, 8)\n",
    " \n",
    "print (\"Created linked list is:\")\n",
    "l1.print_linkedlist()\n",
    " "
   ]
  },
  {
   "cell_type": "code",
   "execution_count": 63,
   "metadata": {},
   "outputs": [],
   "source": []
  }
 ],
 "metadata": {
  "kernelspec": {
   "display_name": "Python 3",
   "language": "python",
   "name": "python3"
  },
  "language_info": {
   "codemirror_mode": {
    "name": "ipython",
    "version": 3
   },
   "file_extension": ".py",
   "mimetype": "text/x-python",
   "name": "python",
   "nbconvert_exporter": "python",
   "pygments_lexer": "ipython3",
   "version": "3.8.5"
  }
 },
 "nbformat": 4,
 "nbformat_minor": 4
}
