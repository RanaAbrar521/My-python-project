{
 "cells": [
  {
   "cell_type": "code",
   "execution_count": 10,
   "id": "93fbf5e0-4fb6-4f70-a3e8-3a17b31ded66",
   "metadata": {},
   "outputs": [],
   "source": [
    "class Node(object):\n",
    "    # Each node has its data and a pointer that points to next node in the Linked List\n",
    "    def __init__(self, data, next = None, previous = None):\n",
    "        self.data = data;\n",
    "        self.next = next;\n",
    "        self.previous = previous\n",
    "\n",
    "class DoublyLinkedList(object):\n",
    "    def __init__(self):\n",
    "        self.head = None\n",
    "        \n",
    "# for inserting at beginning of linked list\n",
    "    def Add_in_begginning(self, new_data):\n",
    "        if self.head == None:\n",
    "            newNode = Node(new_data)\n",
    "            self.head = newNode\n",
    "        else:\n",
    "            newNode = Node(new_data)\n",
    "            self.head.previous = newNode\n",
    "            newNode.next = self.head\n",
    "            self.head = newNode \n",
    "            \n",
    " # for inserting at particular position in linked list           \n",
    "    def add_at_particular_position(self,new_data, position):\n",
    "        new_node = Node(new_data)\n",
    "        if self.head == None  :\n",
    "            self.add_node_in_biggining(new_data)\n",
    "        else:\n",
    "            temp = self.head\n",
    "            count_val = 1\n",
    "            while(temp):\n",
    "                if position == count_val:\n",
    "                    temp_node = temp.next\n",
    "                    temp.previous = new_node\n",
    "                    new_node.next = temp_node\n",
    "                    new_node.previous = new_node \n",
    "                    temp.next = new_node\n",
    "                    new_node.previous = temp\n",
    "                    count_val +=1\n",
    "                    temp = temp.next\n",
    "            \n",
    "# for inserting at end of linked list\n",
    "    def Add_at_the_end(self, new_data):\n",
    "        newNode = Node(new_data)\n",
    "        temp = self.head\n",
    "        while(temp.next != None):\n",
    "            temp = temp.next\n",
    "        temp.next = newNode\n",
    "        newNode.previous = temp\n",
    " # for printing the contents of linked lists\n",
    "    def printdll(self):\n",
    "        temp = self.head\n",
    "        while(temp != None):\n",
    "            print(temp.data, end=' ')\n",
    "            temp = temp.next\n",
    "\n",
    "   \n"
   ]
  },
  {
   "cell_type": "code",
   "execution_count": 11,
   "id": "4ee6d4c0-2a83-410f-a81a-ff365114eee8",
   "metadata": {},
   "outputs": [],
   "source": [
    "a =DoublyLinkedList()\n",
    "a.Add_in_begginning(1)\n",
    "a.Add_in_begginning(2)\n",
    "a.Add_at_the_end(6)\n",
    "a.Add_in_begginning(3)\n",
    "a.Add_in_begginning(4)"
   ]
  },
  {
   "cell_type": "code",
   "execution_count": 12,
   "id": "23538434-80e0-46bd-bc0b-5264971b06d7",
   "metadata": {},
   "outputs": [
    {
     "name": "stdout",
     "output_type": "stream",
     "text": [
      "4 3 2 1 6 "
     ]
    }
   ],
   "source": [
    "a.printdll()"
   ]
  },
  {
   "cell_type": "code",
   "execution_count": null,
   "id": "0875f5ae-a9fd-4a9c-b793-0b3f19bf6d6b",
   "metadata": {},
   "outputs": [],
   "source": [
    "a.add_at_particular_position(5,3)"
   ]
  },
  {
   "cell_type": "code",
   "execution_count": null,
   "id": "7c0c45ec-8b84-4b40-a311-ee44f80a16dc",
   "metadata": {},
   "outputs": [],
   "source": [
    "a.printdll()"
   ]
  },
  {
   "cell_type": "code",
   "execution_count": null,
   "id": "f886c79c-8cd1-42a5-bc92-bab345dbf1ff",
   "metadata": {},
   "outputs": [],
   "source": []
  }
 ],
 "metadata": {
  "kernelspec": {
   "display_name": "Python 3",
   "language": "python",
   "name": "python3"
  },
  "language_info": {
   "codemirror_mode": {
    "name": "ipython",
    "version": 3
   },
   "file_extension": ".py",
   "mimetype": "text/x-python",
   "name": "python",
   "nbconvert_exporter": "python",
   "pygments_lexer": "ipython3",
   "version": "3.8.8"
  }
 },
 "nbformat": 4,
 "nbformat_minor": 5
}
