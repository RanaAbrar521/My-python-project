{
 "cells": [
  {
   "cell_type": "code",
   "execution_count": 18,
   "id": "7f1cb14e",
   "metadata": {},
   "outputs": [],
   "source": [
    "class node:\n",
    "    def __init__(self,data):\n",
    "        self.data=data\n",
    "        self.next=None\n",
    "class linkedList:\n",
    "    def __init__(self):\n",
    "        self.head=None\n",
    "        \n",
    "    def add_new_node_in_beginnig(self,new_data):\n",
    "        new_node = node(new_data)\n",
    "        new_node.next = self.head\n",
    "        self.head = new_node\n",
    "        \n",
    "    def print_linkedList(self):\n",
    "        ll = self.head\n",
    "        while(ll):\n",
    "            print(ll.data)\n",
    "            ll = ll.next"
   ]
  },
  {
   "cell_type": "code",
   "execution_count": 19,
   "id": "69897343",
   "metadata": {},
   "outputs": [],
   "source": [
    "l1=linkedList()"
   ]
  },
  {
   "cell_type": "code",
   "execution_count": 20,
   "id": "b1e77b3d",
   "metadata": {},
   "outputs": [],
   "source": [
    "l1.add_new_node_in_beginnig(1)"
   ]
  },
  {
   "cell_type": "code",
   "execution_count": 21,
   "id": "b8f3baea",
   "metadata": {},
   "outputs": [],
   "source": [
    "l1.add_new_node_in_beginnig(2)"
   ]
  },
  {
   "cell_type": "code",
   "execution_count": 22,
   "id": "eda392f9",
   "metadata": {},
   "outputs": [],
   "source": [
    "l1.add_new_node_in_beginnig(3)"
   ]
  },
  {
   "cell_type": "code",
   "execution_count": 24,
   "id": "bfe66180",
   "metadata": {},
   "outputs": [
    {
     "name": "stdout",
     "output_type": "stream",
     "text": [
      "3\n",
      "2\n",
      "1\n"
     ]
    }
   ],
   "source": [
    "l1.print_linkedList()"
   ]
  },
  {
   "cell_type": "code",
   "execution_count": null,
   "id": "b222e47a",
   "metadata": {},
   "outputs": [],
   "source": [
    "    def add_node_at_particular_position(self,new_data):\n",
    "        \n",
    "        \n",
    "        \n",
    "        \n",
    "        \n",
    "        "
   ]
  }
 ],
 "metadata": {
  "kernelspec": {
   "display_name": "Python 3",
   "language": "python",
   "name": "python3"
  },
  "language_info": {
   "codemirror_mode": {
    "name": "ipython",
    "version": 3
   },
   "file_extension": ".py",
   "mimetype": "text/x-python",
   "name": "python",
   "nbconvert_exporter": "python",
   "pygments_lexer": "ipython3",
   "version": "3.8.8"
  }
 },
 "nbformat": 4,
 "nbformat_minor": 5
}
