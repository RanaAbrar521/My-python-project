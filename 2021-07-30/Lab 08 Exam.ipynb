{
 "cells": [
  {
   "cell_type": "markdown",
   "id": "3ac2a701",
   "metadata": {},
   "source": [
    "Q1. Create a function add_numbers which takes 4 parameters\n",
    "1. x (integer)\n",
    "2. y (integer)\n",
    "3. z (integer)\n",
    "4. flag (Boolean)\n",
    "z and flag are optional parameters\n",
    "if function receives z then function should return the sum of x y and z else\n",
    "return the sum of x and y\n",
    "if flag is True also print the statement\n",
    "“Flag is True”"
   ]
  },
  {
   "cell_type": "code",
   "execution_count": 96,
   "id": "b116ffea",
   "metadata": {},
   "outputs": [],
   "source": [
    "def add_numbers(x,y,z=0,flag=None):\n",
    "    print (x+y+z)\n",
    "     \n",
    "        \n",
    "    flag=True\n",
    "    print(\"Flag is True\")\n",
    "    "
   ]
  },
  {
   "cell_type": "code",
   "execution_count": 99,
   "id": "a683d967",
   "metadata": {},
   "outputs": [
    {
     "name": "stdout",
     "output_type": "stream",
     "text": [
      "5\n",
      "Flag is True\n"
     ]
    }
   ],
   "source": [
    "add_numbers(2,3)"
   ]
  },
  {
   "cell_type": "code",
   "execution_count": null,
   "id": "cb66be9e",
   "metadata": {},
   "outputs": [],
   "source": []
  },
  {
   "cell_type": "markdown",
   "id": "da5f7d4c",
   "metadata": {},
   "source": [
    "Q2. Write a function get_datetime(int) that takes a param number_of_days and\n",
    "if the number is divisible by 2 returns (current_datetime + number_of_days) and\n",
    "if number is divisible by 3 returns (current_datetime - number_of_days)\n",
    "else return current_datetime"
   ]
  },
  {
   "cell_type": "code",
   "execution_count": 141,
   "id": "1f27f74c",
   "metadata": {},
   "outputs": [],
   "source": [
    "import datetime as dt"
   ]
  },
  {
   "cell_type": "code",
   "execution_count": 156,
   "id": "09d996ac",
   "metadata": {},
   "outputs": [],
   "source": [
    "def get_datetime(number_of_days):\n",
    "    current_datetime = dt.datetime.today()\n",
    "    if number_of_days % 2 == 0:\n",
    "        return current_datetime + dt.timedelta(days=number_of_days)\n",
    "    if number_of_days % 3 == 0:\n",
    "        return current_datetime - dt.timedelta(days=number_of_days)\n",
    "    else:\n",
    "        return current_datetime\n"
   ]
  },
  {
   "cell_type": "code",
   "execution_count": 162,
   "id": "d69d88a6",
   "metadata": {},
   "outputs": [
    {
     "data": {
      "text/plain": [
       "datetime.datetime(2021, 7, 29, 22, 53, 11, 726216)"
      ]
     },
     "execution_count": 162,
     "metadata": {},
     "output_type": "execute_result"
    }
   ],
   "source": [
    "get_datetime(7)"
   ]
  },
  {
   "cell_type": "code",
   "execution_count": 163,
   "id": "cc2da025",
   "metadata": {},
   "outputs": [
    {
     "data": {
      "text/plain": [
       "datetime.datetime(2021, 8, 2, 22, 55, 6, 399179)"
      ]
     },
     "execution_count": 163,
     "metadata": {},
     "output_type": "execute_result"
    }
   ],
   "source": [
    "get_datetime(4)"
   ]
  },
  {
   "cell_type": "code",
   "execution_count": 164,
   "id": "5493b8b9",
   "metadata": {},
   "outputs": [
    {
     "data": {
      "text/plain": [
       "datetime.datetime(2021, 7, 26, 22, 55, 41, 298046)"
      ]
     },
     "execution_count": 164,
     "metadata": {},
     "output_type": "execute_result"
    }
   ],
   "source": [
    "get_datetime(3)"
   ]
  },
  {
   "cell_type": "code",
   "execution_count": null,
   "id": "0a85415f",
   "metadata": {},
   "outputs": [],
   "source": []
  },
  {
   "cell_type": "markdown",
   "id": "c0230881",
   "metadata": {},
   "source": [
    "Q3. Write a function concat_lst that takes two list as a parameter and combine two list together into single list\n",
    "and should not contains duplicate values.\n",
    "You must use loop to solve this question"
   ]
  },
  {
   "cell_type": "code",
   "execution_count": 213,
   "id": "8dc5f36a",
   "metadata": {},
   "outputs": [],
   "source": [
    "def concat_lst(lst1,lst2):\n",
    "    lst1 = [1,2,3,4]\n",
    "    lst2 = [3,4,5,6]\n",
    "    \n",
    "    for x in lst2:\n",
    "        if x not in lst1:\n",
    "            lst1.append(x)\n",
    "        \n",
    "    print (lst1)\n",
    "    "
   ]
  },
  {
   "cell_type": "code",
   "execution_count": 214,
   "id": "a428e91e",
   "metadata": {},
   "outputs": [
    {
     "name": "stdout",
     "output_type": "stream",
     "text": [
      "[1, 2, 3, 4, 5, 6]\n"
     ]
    }
   ],
   "source": [
    "concat_lst([1,2,3,4],[3,4,5,6])"
   ]
  },
  {
   "cell_type": "code",
   "execution_count": null,
   "id": "029d7d28",
   "metadata": {},
   "outputs": [],
   "source": []
  },
  {
   "cell_type": "markdown",
   "id": "ab8eddfa",
   "metadata": {},
   "source": [
    "Q4. Write a function string_case using map that takes list of characters and return\n",
    "List of tuples with containing lower and upper case of that character’s list\n",
    "Final Output must contain unique tuple element"
   ]
  },
  {
   "cell_type": "code",
   "execution_count": 215,
   "id": "a85b4506",
   "metadata": {},
   "outputs": [],
   "source": [
    "def string_case(my_list):\n",
    "    return tuple(set(map(lower_upper,my_list)))\n",
    "def lower_upper(x):\n",
    "    return x.upper(),x.lower()\n",
    "    "
   ]
  },
  {
   "cell_type": "code",
   "execution_count": 219,
   "id": "3b8db573",
   "metadata": {},
   "outputs": [
    {
     "data": {
      "text/plain": [
       "(('A', 'a'), ('C', 'c'), ('D', 'd'), ('B', 'b'))"
      ]
     },
     "execution_count": 219,
     "metadata": {},
     "output_type": "execute_result"
    }
   ],
   "source": [
    "string_case([\"a\",'B',\"c\",\"D\"])"
   ]
  },
  {
   "cell_type": "code",
   "execution_count": null,
   "id": "6c8c25df",
   "metadata": {},
   "outputs": [],
   "source": []
  },
  {
   "cell_type": "markdown",
   "id": "cc291862",
   "metadata": {},
   "source": [
    "Q10. Create a function remove_duplication that takes a list and remove duplication from list.\n",
    "You cannot use set function"
   ]
  },
  {
   "cell_type": "code",
   "execution_count": 220,
   "id": "5c4419b1",
   "metadata": {},
   "outputs": [
    {
     "name": "stdout",
     "output_type": "stream",
     "text": [
      "[1, 2, 3, 4, 5]\n"
     ]
    }
   ],
   "source": [
    "def remove_duplication(x):\n",
    "    return list (dict.fromkeys(x))\n",
    "\n",
    "my_list = remove_duplication([1,2,3,3,4,5,5]) \n",
    "print(my_list)\n"
   ]
  },
  {
   "cell_type": "code",
   "execution_count": null,
   "id": "c6729b2d",
   "metadata": {},
   "outputs": [],
   "source": []
  },
  {
   "cell_type": "markdown",
   "id": "6d31345e",
   "metadata": {},
   "source": [
    "Q4 # Write a function backward_number. That a receives a number and return the number in backwards\n",
    "Input = 1234\n",
    "Output = 4321"
   ]
  },
  {
   "cell_type": "code",
   "execution_count": 158,
   "id": "6780f121",
   "metadata": {},
   "outputs": [],
   "source": [
    "def backward_number(num):\n",
    "    rev_no = 0\n",
    "    while (num!=0):\n",
    "        reminder = num % 10\n",
    "        rev_no = (rev_no*10) + reminder\n",
    "        num = num // 10\n",
    "        \n",
    "    return rev_no\n",
    "        "
   ]
  },
  {
   "cell_type": "code",
   "execution_count": 160,
   "id": "8082045c",
   "metadata": {},
   "outputs": [
    {
     "data": {
      "text/plain": [
       "4321"
      ]
     },
     "execution_count": 160,
     "metadata": {},
     "output_type": "execute_result"
    }
   ],
   "source": [
    "backward_number(1234)"
   ]
  },
  {
   "cell_type": "code",
   "execution_count": null,
   "id": "17d75e57",
   "metadata": {},
   "outputs": [],
   "source": []
  },
  {
   "cell_type": "markdown",
   "id": "7ebd8193",
   "metadata": {},
   "source": [
    "Q8. Write a function get_indices that receives the list of integers nums and an integer target, return indices of\n",
    "the two numbers such that they add up to target. You may assume that each input would have exactly one\n",
    "solution, and you may not use the same element twice.\n",
    "You can return the answer in any order."
   ]
  },
  {
   "cell_type": "code",
   "execution_count": 161,
   "id": "0c566a72",
   "metadata": {},
   "outputs": [
    {
     "ename": "NameError",
     "evalue": "name 'List' is not defined",
     "output_type": "error",
     "traceback": [
      "\u001b[1;31m---------------------------------------------------------------------------\u001b[0m",
      "\u001b[1;31mNameError\u001b[0m                                 Traceback (most recent call last)",
      "\u001b[1;32m<ipython-input-161-5d566b5133a4>\u001b[0m in \u001b[0;36m<module>\u001b[1;34m\u001b[0m\n\u001b[1;32m----> 1\u001b[1;33m \u001b[1;32mdef\u001b[0m \u001b[0mtwoSum\u001b[0m\u001b[1;33m(\u001b[0m\u001b[0mself\u001b[0m\u001b[1;33m,\u001b[0m \u001b[0mnums\u001b[0m\u001b[1;33m:\u001b[0m \u001b[0mList\u001b[0m\u001b[1;33m[\u001b[0m\u001b[0mint\u001b[0m\u001b[1;33m]\u001b[0m\u001b[1;33m,\u001b[0m \u001b[0mtarget\u001b[0m\u001b[1;33m:\u001b[0m \u001b[0mint\u001b[0m\u001b[1;33m)\u001b[0m \u001b[1;33m->\u001b[0m \u001b[0mList\u001b[0m\u001b[1;33m[\u001b[0m\u001b[0mint\u001b[0m\u001b[1;33m]\u001b[0m\u001b[1;33m:\u001b[0m\u001b[1;33m\u001b[0m\u001b[1;33m\u001b[0m\u001b[0m\n\u001b[0m\u001b[0;32m      2\u001b[0m         \u001b[1;32mfor\u001b[0m \u001b[0mi\u001b[0m \u001b[1;32min\u001b[0m \u001b[0mrange\u001b[0m\u001b[1;33m(\u001b[0m\u001b[0mlen\u001b[0m\u001b[1;33m(\u001b[0m\u001b[0mnums\u001b[0m\u001b[1;33m)\u001b[0m\u001b[1;33m)\u001b[0m\u001b[1;33m:\u001b[0m\u001b[1;33m\u001b[0m\u001b[1;33m\u001b[0m\u001b[0m\n\u001b[0;32m      3\u001b[0m             \u001b[1;32mfor\u001b[0m \u001b[0mj\u001b[0m \u001b[1;32min\u001b[0m \u001b[0mrange\u001b[0m\u001b[1;33m(\u001b[0m\u001b[0mi\u001b[0m\u001b[1;33m+\u001b[0m\u001b[1;36m1\u001b[0m\u001b[1;33m,\u001b[0m \u001b[0mlen\u001b[0m\u001b[1;33m(\u001b[0m\u001b[0mnums\u001b[0m\u001b[1;33m)\u001b[0m\u001b[1;33m)\u001b[0m\u001b[1;33m:\u001b[0m\u001b[1;33m\u001b[0m\u001b[1;33m\u001b[0m\u001b[0m\n\u001b[0;32m      4\u001b[0m                 \u001b[1;32mif\u001b[0m \u001b[0mnums\u001b[0m\u001b[1;33m[\u001b[0m\u001b[0mi\u001b[0m\u001b[1;33m]\u001b[0m \u001b[1;33m+\u001b[0m \u001b[0mnums\u001b[0m\u001b[1;33m[\u001b[0m\u001b[0mj\u001b[0m\u001b[1;33m]\u001b[0m \u001b[1;33m==\u001b[0m \u001b[0mtarget\u001b[0m\u001b[1;33m:\u001b[0m\u001b[1;33m\u001b[0m\u001b[1;33m\u001b[0m\u001b[0m\n\u001b[0;32m      5\u001b[0m                     \u001b[1;32mreturn\u001b[0m \u001b[1;33m[\u001b[0m\u001b[0mi\u001b[0m\u001b[1;33m,\u001b[0m \u001b[0mj\u001b[0m\u001b[1;33m]\u001b[0m\u001b[1;33m\u001b[0m\u001b[1;33m\u001b[0m\u001b[0m\n",
      "\u001b[1;31mNameError\u001b[0m: name 'List' is not defined"
     ]
    }
   ],
   "source": [
    "def twoSum(self, nums, target: int):\n",
    "    for i in list:\n",
    "        if sum_of_indexes=targe\n",
    "    \n",
    "         "
   ]
  },
  {
   "cell_type": "code",
   "execution_count": null,
   "id": "b91f4fc5",
   "metadata": {},
   "outputs": [],
   "source": []
  },
  {
   "cell_type": "code",
   "execution_count": null,
   "id": "cdd378ef",
   "metadata": {},
   "outputs": [],
   "source": []
  },
  {
   "cell_type": "code",
   "execution_count": null,
   "id": "021f00b6",
   "metadata": {},
   "outputs": [],
   "source": []
  },
  {
   "cell_type": "markdown",
   "id": "9b200e9c",
   "metadata": {},
   "source": [
    "Q7. Create a class Student with the following getters and setters\n",
    "1. Constructor\n",
    "a. Create an Object with following parameters\n",
    "i. Name\n",
    "ii. Batch No\n",
    "iii. Address\n",
    "iv. Age\n",
    "v. Father Name\n",
    "vi. City\n",
    "\n",
    "2. New\n",
    "a. Students with age more than 18 are not allowed in the school\n",
    "b. Students of Lahore Islamabad Faisalabad Karachi are allowed\n",
    "3. Setters\n",
    "a. Name (str)\n",
    "b. Batch no (int)\n",
    "c. Address (str)\n",
    "d. Age (str)\n",
    "e. Father name (str)\n",
    "f. City (str)\n",
    "4. Getters\n",
    "a. Name\n",
    "b. Batch no\n",
    "c. Address\n",
    "d. Age\n",
    "e. Father name\n",
    "f. City\n",
    "5. Create a new class called DevnationStudents which is a child class of Student\n",
    "a. Write a constructor that\n",
    "i. That calls the Parent Class Constructor\n",
    "ii. Also save courses and marks as empty list in the child constructor\n",
    "b. Write setter functions\n",
    "i. Add courses\n",
    "1. Takes a list of courses\n",
    "2. Add only those courses in the list which are not already in the\n",
    "ii. Add courses_marks\n",
    "1. This takes the list of dictionaries\n",
    "2. If the particular exists in the courses lists then the particular dictionary\n",
    "should be added in the marks list\n",
    "3. Marks list should not contains duplicate entries of same courses\n",
    "\n",
    "c. Write getter functions\n",
    "i. Get courses\n",
    "ii. Get Marks"
   ]
  },
  {
   "cell_type": "code",
   "execution_count": 121,
   "id": "683b73dc",
   "metadata": {},
   "outputs": [],
   "source": [
    "class Student:\n",
    "    def __new__(cls,name,batch_no,address,age,father_name,city):\n",
    "        if age<18 :\n",
    "            \n",
    "            if city == \"Lahore\" or city == \"Islamabad\" or city == \"Karachi \" or city == \"Faslabad\":\n",
    "                \n",
    "                inst = object.__new__(cls)\n",
    "                \n",
    "                return inst\n",
    "    \n",
    "   \n"
   ]
  },
  {
   "cell_type": "code",
   "execution_count": 122,
   "id": "1d08c310",
   "metadata": {},
   "outputs": [],
   "source": [
    "class Student:\n",
    "    def __init__(self,name,batch_no,address,age,father_name,city):\n",
    "        self.name=name\n",
    "        self.batch_no=batch_no\n",
    "        self.address=address\n",
    "        self.age=age\n",
    "        self.father_name=father_name\n",
    "        self.city=city\n",
    "        \n",
    "    def set_name(self,name):\n",
    "        self.name=name\n",
    "        \n",
    "    def set_batch_no(self,batch_no):\n",
    "        self.batch_no=batch_no\n",
    "        \n",
    "    def set_address(self,address):\n",
    "        self.address=address\n",
    "        \n",
    "    def set_age(self,age):\n",
    "         self.age=age\n",
    "        \n",
    "    def set_father_name(self,father_name):\n",
    "        self.father_name=father_name\n",
    "        \n",
    "    def set_city(self,city):\n",
    "        self.city=city\n",
    "        \n",
    "    def get_name(self):\n",
    "        return self.name\n",
    "    \n",
    "    def get_batch_no(self):\n",
    "        return self.batch_no\n",
    "    \n",
    "    def get_address(self):\n",
    "        return self.address\n",
    "    \n",
    "    def get_age(self):\n",
    "         return self.age\n",
    "        \n",
    "    def get_father_name(self):\n",
    "        return self.father_name\n",
    "        \n",
    "    def get_city(self):\n",
    "        return self.city\n",
    "        \n",
    "        \n",
    "\n",
    "        "
   ]
  },
  {
   "cell_type": "code",
   "execution_count": 123,
   "id": "454cb1ee",
   "metadata": {},
   "outputs": [],
   "source": [
    "class DevnationStudents(Student):\n",
    "    def __init__(self,name,batch_no,address,age,father_name,city,courses=[],marks=[]):\n",
    "        super().__init__(name,batch_no,address,age,father_name,city)\n",
    "        self.courses=courses\n",
    "        self.marks=marks\n",
    "        \n",
    "    def set_courses(self,courses):\n",
    "        \n",
    "        for x in courses:\n",
    "            if x not in self.courses:\n",
    "                self.courses.append(x)\n",
    "                \n",
    "    def set_marks(self,courses,marks):\n",
    "        \n",
    "        for x in courses:\n",
    "            if x in self.courses:\n",
    "                self.marks.append({\"courses\":x,\"marks\":marks})\n",
    "            else:\n",
    "                print(\"not found\")\n",
    "                \n",
    "    def get_courses(self):\n",
    "        return self.courses\n",
    "    def get_marks(self):\n",
    "        return self.marks\n",
    "                "
   ]
  },
  {
   "cell_type": "code",
   "execution_count": 127,
   "id": "8e8b7dc7",
   "metadata": {
    "scrolled": true
   },
   "outputs": [
    {
     "data": {
      "text/plain": [
       "['fullstack', 'c++', 'datascience', 'python', 'java', 'script']"
      ]
     },
     "execution_count": 127,
     "metadata": {},
     "output_type": "execute_result"
    }
   ],
   "source": [
    "obj= DevnationStudents (\"AbdulRehman\",3,\"CTN\",17,\"Shoukat_Ali\",\"Karachi\")\n",
    "obj.set_courses({'datascience','fullstack','c++'})\n",
    "obj.get_courses()"
   ]
  },
  {
   "cell_type": "code",
   "execution_count": 128,
   "id": "5bd4797c",
   "metadata": {},
   "outputs": [
    {
     "data": {
      "text/plain": [
       "['fullstack', 'c++', 'datascience', 'python', 'java', 'script']"
      ]
     },
     "execution_count": 128,
     "metadata": {},
     "output_type": "execute_result"
    }
   ],
   "source": [
    "obj.set_courses({'java','python'})\n",
    "obj.get_courses()"
   ]
  },
  {
   "cell_type": "code",
   "execution_count": 129,
   "id": "0bdacebf",
   "metadata": {},
   "outputs": [
    {
     "data": {
      "text/plain": [
       "['fullstack', 'c++', 'datascience', 'python', 'java', 'script']"
      ]
     },
     "execution_count": 129,
     "metadata": {},
     "output_type": "execute_result"
    }
   ],
   "source": [
    "obj.set_courses({'java','python','script'})\n",
    "obj.get_courses()"
   ]
  },
  {
   "cell_type": "code",
   "execution_count": 130,
   "id": "99525c47",
   "metadata": {},
   "outputs": [
    {
     "data": {
      "text/plain": [
       "[{'courses': 'java', 'marks': 40}]"
      ]
     },
     "execution_count": 130,
     "metadata": {},
     "output_type": "execute_result"
    }
   ],
   "source": [
    "obj.set_marks([\"java\"],40)\n",
    "obj.get_marks()"
   ]
  },
  {
   "cell_type": "code",
   "execution_count": 115,
   "id": "d9e5f045",
   "metadata": {},
   "outputs": [
    {
     "data": {
      "text/plain": [
       "[{'courses': 'java', 'marks': 40}, {'courses': 'datascience', 'marks': 40}]"
      ]
     },
     "execution_count": 115,
     "metadata": {},
     "output_type": "execute_result"
    }
   ],
   "source": [
    "obj.set_marks([\"datascience\"],40)\n",
    "obj.get_marks()"
   ]
  },
  {
   "cell_type": "code",
   "execution_count": null,
   "id": "caad41ee",
   "metadata": {},
   "outputs": [],
   "source": []
  },
  {
   "cell_type": "code",
   "execution_count": null,
   "id": "2944a03b",
   "metadata": {},
   "outputs": [],
   "source": []
  },
  {
   "cell_type": "markdown",
   "id": "34c882cd",
   "metadata": {},
   "source": [
    "Q5. Write a function get_city_mpg_avg, that groups the cars by number of cylinders, and\n",
    "finding the average cty mpg for each group.\n",
    "Output should be in the list of tuples\n",
    "Output = [ (5,20),(4,18),(3,16) ]\n",
    "Note:\n",
    "1. Use MPG.csv file\n",
    "2. First index of tuple shows the number of cylinders and second index shows the average\n",
    "3. Result should be sorted by first tuple index by using lambda functions"
   ]
  },
  {
   "cell_type": "code",
   "execution_count": 35,
   "id": "11b5d8b8",
   "metadata": {},
   "outputs": [],
   "source": [
    "import csv\n",
    "def dist_cyl(mpg):\n",
    "    cylinders = []\n",
    "    for x in mpg:\n",
    "        cylinders.append(x['cyl'])\n",
    "    return list(set(cylinders))"
   ]
  },
  {
   "cell_type": "code",
   "execution_count": 38,
   "id": "93101b1b",
   "metadata": {},
   "outputs": [],
   "source": [
    "def get_city_mpg_avg():\n",
    "    with open('mpg.csv')as csvfile:\n",
    "        mpg = list(csv.DictReader(csvfile))"
   ]
  },
  {
   "cell_type": "code",
   "execution_count": null,
   "id": "564babe8",
   "metadata": {},
   "outputs": [],
   "source": []
  }
 ],
 "metadata": {
  "kernelspec": {
   "display_name": "Python 3",
   "language": "python",
   "name": "python3"
  },
  "language_info": {
   "codemirror_mode": {
    "name": "ipython",
    "version": 3
   },
   "file_extension": ".py",
   "mimetype": "text/x-python",
   "name": "python",
   "nbconvert_exporter": "python",
   "pygments_lexer": "ipython3",
   "version": "3.8.8"
  }
 },
 "nbformat": 4,
 "nbformat_minor": 5
}
