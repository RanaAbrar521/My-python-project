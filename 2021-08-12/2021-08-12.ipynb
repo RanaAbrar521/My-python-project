{
 "cells": [
  {
   "cell_type": "code",
   "execution_count": 27,
   "id": "e56b4827-4f0c-4a72-9f6d-1d0b6a6adc35",
   "metadata": {},
   "outputs": [],
   "source": [
    "class Queue:\n",
    "     # constructors\n",
    "    def __init__(self):\n",
    "        self.items = []\n",
    "    # function to check the Queue is empty\n",
    "    def isEmpty(self):\n",
    "        return self.items==[]\n",
    "    # function to add item in queue\n",
    "    def enqueue(self,item):\n",
    "        self.items.insert(0,item)\n",
    "    # function to pop item in queue\n",
    "    def dequeue(self):\n",
    "        return self.items.pop()\n",
    "    # function to return last item\n",
    "    def peek(self):\n",
    "        return self.items[-1]\n",
    "    # function to return size\n",
    "    def size(self):\n",
    "        return len(self.items)\n",
    "    def enqueue_without_using_insert(self,item):\n",
    "        new_list = []\n",
    "        new_list.insert(0, item)\n",
    "        for i in self.items:\n",
    "            new_list.append(i)\n",
    "        self.items = new_list\n",
    "    # function to print entire queue\n",
    "    def print_queue(self):\n",
    "        for i in self.items:\n",
    "            print(i)"
   ]
  },
  {
   "cell_type": "code",
   "execution_count": 28,
   "id": "3cd00a3b-2123-4e46-bc94-42d92500a090",
   "metadata": {},
   "outputs": [
    {
     "data": {
      "text/plain": [
       "True"
      ]
     },
     "execution_count": 28,
     "metadata": {},
     "output_type": "execute_result"
    }
   ],
   "source": [
    "q=Queue()\n",
    "q.isEmpty()"
   ]
  },
  {
   "cell_type": "code",
   "execution_count": 29,
   "id": "e82c8ca1-04c7-4125-9528-dc4eb78773ce",
   "metadata": {},
   "outputs": [],
   "source": [
    "q.enqueue(1)\n",
    "q.enqueue(2)\n",
    "q.enqueue(3)\n",
    "q.enqueue(4)\n",
    "q.enqueue(5)\n"
   ]
  },
  {
   "cell_type": "code",
   "execution_count": 30,
   "id": "fc37892f-82b3-4680-bc15-28d38777f5b9",
   "metadata": {},
   "outputs": [
    {
     "data": {
      "text/plain": [
       "1"
      ]
     },
     "execution_count": 30,
     "metadata": {},
     "output_type": "execute_result"
    }
   ],
   "source": [
    "q.dequeue()"
   ]
  },
  {
   "cell_type": "code",
   "execution_count": 31,
   "id": "be35d645-1378-40e9-873f-2c5d05d28613",
   "metadata": {},
   "outputs": [
    {
     "name": "stdout",
     "output_type": "stream",
     "text": [
      "5\n",
      "4\n",
      "3\n",
      "2\n"
     ]
    }
   ],
   "source": [
    "q. print_queue()"
   ]
  },
  {
   "cell_type": "code",
   "execution_count": 32,
   "id": "01f0bb5e-7779-473b-bc74-3228c819392d",
   "metadata": {},
   "outputs": [
    {
     "data": {
      "text/plain": [
       "2"
      ]
     },
     "execution_count": 32,
     "metadata": {},
     "output_type": "execute_result"
    }
   ],
   "source": [
    "q.peek()\n"
   ]
  },
  {
   "cell_type": "code",
   "execution_count": 33,
   "id": "1400f9f7-723e-4b5d-aa8f-12b1948ac410",
   "metadata": {},
   "outputs": [],
   "source": [
    "q.enqueue_without_using_insert(5)"
   ]
  },
  {
   "cell_type": "code",
   "execution_count": 34,
   "id": "dacf7f11-3dac-4fd3-a939-dc2dd06a2213",
   "metadata": {},
   "outputs": [
    {
     "data": {
      "text/plain": [
       "5"
      ]
     },
     "execution_count": 34,
     "metadata": {},
     "output_type": "execute_result"
    }
   ],
   "source": [
    "q.size()"
   ]
  },
  {
   "cell_type": "code",
   "execution_count": null,
   "id": "118f31ad-a706-4bbd-882e-42fd8c2c10e5",
   "metadata": {},
   "outputs": [],
   "source": []
  }
 ],
 "metadata": {
  "kernelspec": {
   "display_name": "Python 3",
   "language": "python",
   "name": "python3"
  },
  "language_info": {
   "codemirror_mode": {
    "name": "ipython",
    "version": 3
   },
   "file_extension": ".py",
   "mimetype": "text/x-python",
   "name": "python",
   "nbconvert_exporter": "python",
   "pygments_lexer": "ipython3",
   "version": "3.8.8"
  }
 },
 "nbformat": 4,
 "nbformat_minor": 5
}
