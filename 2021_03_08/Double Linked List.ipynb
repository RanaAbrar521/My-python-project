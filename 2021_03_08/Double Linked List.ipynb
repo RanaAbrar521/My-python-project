{
 "cells": [
  {
   "cell_type": "code",
   "execution_count": 13,
   "metadata": {},
   "outputs": [],
   "source": [
    "class Node:\n",
    "  #I Make the Constructor First; of the class Node\n",
    "  def __init__(self, data): \n",
    "    self.data = data\n",
    "    self.next = None\n",
    "    self.prev = None\n",
    "# This is my Double Linked List Class  \n",
    "class DoubleLinkedList:\n",
    "    def __init__(self):\n",
    "        self.head = None\n",
    "    def Add_in_begginning(self,new_data):\n",
    "        new_node = Node(new_data)\n",
    "        new_node.next = self.head\n",
    "        if self.head is not None:\n",
    "            self.head.prev = new_node\n",
    "        self.head = new_node\n",
    "\n",
    "      \n",
    "    def at_particular(self,position,new_data):\n",
    "        new_node = Node(new_data)\n",
    "        if self.head = None:\n",
    "            self.Add_in_begginning(new_data)\n",
    "        else:\n",
    "            temp = self.head\n",
    "            counter = 1\n",
    "            while(temp):\n",
    "                if position == counter:\n",
    "                    temp_node = temp_next\n",
    "                    new_node.next = temp_node\n",
    "                    temp.next = new_node\n",
    "                    temp_node = temp_prev\n",
    "                    new_node.prev = temp_node\n",
    "                     if new_node.next is not None:\n",
    "                        new_node.next.prev = new_node\n",
    " \n",
    "                counter += 1\n",
    "                temp = temp.next\n",
    "        \n",
    "    def Add_at_the_end(self,New_Data):\n",
    "        New_Node = Node(New_Data)\n",
    "        New_Node.next = self.head\n",
    "        self.head = New_Node\n",
    "    def print_list(self):\n",
    "        temp = self.head\n",
    "        while(temp)\n",
    "        print(temp.data)\n",
    "        temp = temp.next\n",
    "LL = DoubleLinkedList()\n",
    "LL.head = Node(77)\n",
    "print(LL.head.data)"
   ]
  },
  {
   "cell_type": "code",
   "execution_count": null,
   "metadata": {},
   "outputs": [],
   "source": []
  }
 ],
 "metadata": {
  "kernelspec": {
   "display_name": "Python 3",
   "language": "python",
   "name": "python3"
  },
  "language_info": {
   "codemirror_mode": {
    "name": "ipython",
    "version": 3
   },
   "file_extension": ".py",
   "mimetype": "text/x-python",
   "name": "python",
   "nbconvert_exporter": "python",
   "pygments_lexer": "ipython3",
   "version": "3.8.5"
  }
 },
 "nbformat": 4,
 "nbformat_minor": 4
}
