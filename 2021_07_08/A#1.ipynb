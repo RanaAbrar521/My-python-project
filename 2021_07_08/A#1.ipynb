{
 "cells": [
  {
   "cell_type": "markdown",
   "id": "e1265a30",
   "metadata": {},
   "source": [
    "# Q1 Write a function get_date(int) that takes a param number_of_days and if the  number is odd return (current_date + number_of_days) else return (current_date - number_of_days)"
   ]
  },
  {
   "cell_type": "code",
   "execution_count": 2,
   "id": "87def61a",
   "metadata": {},
   "outputs": [],
   "source": [
    "# fun name = get_date(number_of_days)\n",
    "# if number_of_days is odd\n",
    "#return (current_date + number_of_days)\n",
    "#else\n",
    "#(current_date - number_of_days)"
   ]
  },
  {
   "cell_type": "code",
   "execution_count": 1,
   "id": "7fbb1cf2",
   "metadata": {},
   "outputs": [
    {
     "data": {
      "text/plain": [
       "datetime.date(2021, 7, 20)"
      ]
     },
     "execution_count": 1,
     "metadata": {},
     "output_type": "execute_result"
    }
   ],
   "source": [
    "import datetime as dt\n",
    "def get_date(number_of_days):\n",
    "    if number_of_days % 2 != 0:\n",
    "        return dt.date.today() + dt.timedelta(number_of_days)\n",
    "    else:\n",
    "        return dt.date.today() - dt.timedelta(number_of_days)\n",
    "    \n",
    "get_date(10)"
   ]
  },
  {
   "cell_type": "markdown",
   "id": "852769c2",
   "metadata": {},
   "source": [
    "# Q2. Write a function stringify using map that takes a list of strings and a function and converts each string into separate string\n",
    "Input =['devnation', 'data science', 'requires', 'dedication']\n",
    "Output =[[‘d’,’e’,’v’,’n’,’a’,’t’,’i’,’o’,’n’],[‘d’,’a’,’t’,’a’,’s’,’i’,’e’,’n’,’c’,’e’],\n",
    "[‘r’,’e’,’q’,’u’,’i’,’r’,’e’,’s’],[‘d’,’e’,’d’,’i’,’c’,’a’,’t’,’i’,’o’,’n’]]"
   ]
  },
  {
   "cell_type": "code",
   "execution_count": null,
   "id": "2b4960a7",
   "metadata": {},
   "outputs": [],
   "source": [
    "# fun stringify\n",
    "# map \n",
    "#input list\n",
    "# convert string to seprate string"
   ]
  },
  {
   "cell_type": "code",
   "execution_count": 37,
   "id": "2686eeba",
   "metadata": {},
   "outputs": [
    {
     "data": {
      "text/plain": [
       "[['D', 'e', 'v', 'n', 'a', 't', 'i', 'o', 'n'],\n",
       " ['d', 'a', 't', 'a', ' ', 's', 'c', 'i', 'e', 'n', 'c', 'e']]"
      ]
     },
     "execution_count": 37,
     "metadata": {},
     "output_type": "execute_result"
    }
   ],
   "source": [
    "def stringify(list_of_string):\n",
    "    return list(map(list,list_of_string))\n",
    "    \n",
    "stringify(['Devnation','data science'])"
   ]
  },
  {
   "cell_type": "markdown",
   "id": "a44baf8d",
   "metadata": {},
   "source": [
    "# Q3. Write a function string_case(list) using map that takes list of characters and return tuples of tuple with containing lower and upper case of that character’s list Final Output must contains unique tuples\n",
    "Sample = ['f', 'b', 'a',’a’]\n",
    "Result = ((‘F’,’F’),(‘B’,’b’),(‘A’,’a’))"
   ]
  },
  {
   "cell_type": "markdown",
   "id": "45594823",
   "metadata": {},
   "source": [
    "fun string_case (list1)\n",
    "map(,list1)\n",
    "return unique(sets) \n",
    "output in tuple form"
   ]
  },
  {
   "cell_type": "code",
   "execution_count": 74,
   "id": "143e427e",
   "metadata": {},
   "outputs": [
    {
     "data": {
      "text/plain": [
       "(('A', 'a'), ('B', 'b'), ('F', 'f'))"
      ]
     },
     "execution_count": 74,
     "metadata": {},
     "output_type": "execute_result"
    }
   ],
   "source": [
    "def string_case(list1):\n",
    "    return tuple(set(map(upper_lower,list1)))\n",
    "\n",
    "def upper_lower(x):\n",
    "    return x.upper(),x.lower()\n",
    "\n",
    "string_case(['f','a','b'])"
   ]
  },
  {
   "cell_type": "markdown",
   "id": "5bcbc2ce",
   "metadata": {},
   "source": [
    "# Q4. Write a function str_join(list,str) that receives two parameters\n",
    "1. List of strings\n",
    "2. Single_string value\n",
    "By using lambda and map create a new list that concatenates the list elements with a string parameter\n",
    "Example:\n",
    "Param1 = [“a”,”b”,”c”]\n",
    "Param2 = “@”\n",
    "Output = [“a@”,”b@”,”c@”]\n"
   ]
  },
  {
   "cell_type": "markdown",
   "id": "305e28b3",
   "metadata": {},
   "source": [
    "str_join fun\n",
    "lmbd map concatenate\n",
    "return list"
   ]
  },
  {
   "cell_type": "code",
   "execution_count": 75,
   "id": "7266e100",
   "metadata": {},
   "outputs": [
    {
     "data": {
      "text/plain": [
       "['1@', '2@', '3@']"
      ]
     },
     "execution_count": 75,
     "metadata": {},
     "output_type": "execute_result"
    }
   ],
   "source": [
    "def str_jo(list_of_strings,single_value):\n",
    "    return list(map(lambda x : x + single_value,list_of_strings ))\n",
    "str_jo(['1','2','3'], '@')"
   ]
  },
  {
   "cell_type": "markdown",
   "id": "a5ab9e46",
   "metadata": {},
   "source": [
    "# Q5. Write a function get_city_mpg_avg, that groups the cars by number of cylinders, and finding the average cty mpg for each group.\n",
    "Output should be in the list of tuples\n",
    "Output = [ (5,20),(4,18),(3,16) ]\n",
    "Note:\n",
    "1. Use MPG.csv file\n",
    "2. First index of tuple shows the number of cylinders and second index shows the average\n",
    "3. Result should be sorted by first tuple index by using lambda functions"
   ]
  },
  {
   "cell_type": "code",
   "execution_count": 78,
   "id": "186ea0bd",
   "metadata": {},
   "outputs": [],
   "source": [
    "#\n",
    "#\n",
    "#output [(no of cyl,avg)]\n",
    "#\n",
    "#\n",
    "#\n",
    "#\n",
    "#\n",
    "#\n",
    "#\n",
    "#"
   ]
  },
  {
   "cell_type": "code",
   "execution_count": 1,
   "id": "0d97e4d1",
   "metadata": {},
   "outputs": [
    {
     "data": {
      "text/plain": [
       "[('4', 21.012345679012345),\n",
       " ('5', 20.5),\n",
       " ('6', 16.21518987341772),\n",
       " ('8', 12.571428571428571)]"
      ]
     },
     "execution_count": 1,
     "metadata": {},
     "output_type": "execute_result"
    }
   ],
   "source": [
    "import csv\n",
    "with open('mpg.csv') as csv_file:   \n",
    "      mpg=list(csv.DictReader(csv_file))\n",
    "def unique_cyl(mpg):\n",
    "    cylinders = []\n",
    "    for i in mpg:\n",
    "        cylinders.append(i['cyl'])\n",
    "        #print(cylinders)\n",
    "    return set(cylinders)\n",
    "def get_cty_mpg_avg():\n",
    "    with open('mpg.csv') as csv_file:\n",
    "        mpg=list(csv.DictReader(csv_file))\n",
    "    z =unique_cyl(mpg)\n",
    "    result=[]\n",
    "    for i in z:\n",
    "        add =0\n",
    "        count=0\n",
    "        for j in mpg:\n",
    "            if j['cyl']==i:\n",
    "                add = add + float(j['cty'])\n",
    "                \n",
    "                count = count+1\n",
    "                avg = add / count\n",
    "        result.append((i,avg))  \n",
    "        result.sort(key=lambda x:x[0])\n",
    "    # final_result=list(result)\n",
    "    return result\n",
    "get_cty_mpg_avg()"
   ]
  },
  {
   "cell_type": "markdown",
   "id": "42b090a9",
   "metadata": {},
   "source": [
    "# Q6. Write a function find_indexes(list,int) takes a list and integer value, if the value exists in the list return the list containing all the index where that integer exists else return “value don’t exist”"
   ]
  },
  {
   "cell_type": "code",
   "execution_count": 3,
   "id": "f42a1a6f",
   "metadata": {},
   "outputs": [
    {
     "data": {
      "text/plain": [
       "[2]"
      ]
     },
     "execution_count": 3,
     "metadata": {},
     "output_type": "execute_result"
    }
   ],
   "source": [
    "def find_indexes(list_value, int_value):\n",
    "# List comprehension  \n",
    "    index_pos_list = [ i for i in range(len(list_value)) if list_value[i] == int_value]\n",
    "    if index_pos_list:\n",
    "        return index_pos_list\n",
    "    else:\n",
    "        return \"value don’t exis\"\n",
    "find_indexes([1,2,3,4,2],3) \n"
   ]
  },
  {
   "cell_type": "code",
   "execution_count": null,
   "id": "63d7c785",
   "metadata": {},
   "outputs": [],
   "source": []
  },
  {
   "cell_type": "code",
   "execution_count": null,
   "id": "cf7dcbef",
   "metadata": {},
   "outputs": [],
   "source": []
  },
  {
   "cell_type": "code",
   "execution_count": null,
   "id": "01bbd08a",
   "metadata": {},
   "outputs": [],
   "source": []
  },
  {
   "cell_type": "code",
   "execution_count": null,
   "id": "88b5fef9",
   "metadata": {},
   "outputs": [],
   "source": []
  }
 ],
 "metadata": {
  "kernelspec": {
   "display_name": "Python 3",
   "language": "python",
   "name": "python3"
  },
  "language_info": {
   "codemirror_mode": {
    "name": "ipython",
    "version": 3
   },
   "file_extension": ".py",
   "mimetype": "text/x-python",
   "name": "python",
   "nbconvert_exporter": "python",
   "pygments_lexer": "ipython3",
   "version": "3.8.8"
  }
 },
 "nbformat": 4,
 "nbformat_minor": 5
}
