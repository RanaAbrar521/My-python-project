{
 "cells": [
  {
   "cell_type": "code",
   "execution_count": 12,
   "id": "677649a2-3fb8-431f-b686-ae6ed24db0bf",
   "metadata": {},
   "outputs": [
    {
     "name": "stdout",
     "output_type": "stream",
     "text": [
      "EVEN Date : 2021-07-02 20:17:04.796425\n",
      "ODD Date : 2021-07-17 20:17:04.796425\n"
     ]
    }
   ],
   "source": [
    "# Question # 01\n",
    "import datetime as dt\n",
    "import time as tm\n",
    "\n",
    "def get_date(days):\n",
    "    if (days % 2) != 0:\n",
    "        return dt.datetime.today() + dt.timedelta(days=days)\n",
    "    else:\n",
    "        return dt.datetime.today() - dt.timedelta(days=days)\n",
    "\n",
    "daysODD = 9\n",
    "daysEVEN = 6\n",
    "print(f\"EVEN Date : {get_date(daysEVEN)}\")\n",
    "print(f\"ODD Date : {get_date(daysODD)}\")"
   ]
  },
  {
   "cell_type": "code",
   "execution_count": 21,
   "id": "68ba14f6-05a4-4e56-a051-fed761d2cc39",
   "metadata": {},
   "outputs": [
    {
     "name": "stdout",
     "output_type": "stream",
     "text": [
      "[['d', 'e', 'v', 'n', 'a', 't', 'i', 'o', 'n'], ['d', 'a', 't', 'a', ' ', 's', 'c', 'i', 'e', 'n', 'c', 'e'], ['r', 'e', 'q', 'u', 'i', 'r', 'e', 's'], ['d', 'e', 'd', 'i', 'c', 'a', 't', 'i', 'o', 'n']]\n"
     ]
    }
   ],
   "source": [
    "# Question # 02\n",
    "def stringify(Input):\n",
    "    return list(Input)\n",
    "\n",
    "Input = ['devnation', 'data science', 'requires', 'dedication']\n",
    "x = map(stringify, Input)\n",
    "print(list(x))"
   ]
  },
  {
   "cell_type": "code",
   "execution_count": 45,
   "id": "5444091c-6c36-4366-8409-9c6122a6b4ee",
   "metadata": {},
   "outputs": [
    {
     "data": {
      "text/plain": [
       "(('b', 'B'), ('f', 'F'), ('a', 'A'))"
      ]
     },
     "execution_count": 45,
     "metadata": {},
     "output_type": "execute_result"
    }
   ],
   "source": [
    "# Question # 03\n",
    "def string_case(Sample):\n",
    "    return tuple(set(map(cal_low_up, Sample)))\n",
    "\n",
    "def cal_low_up(x):\n",
    "    return x.lower(), x.upper()\n",
    "\n",
    "Sample = ['f', 'b', 'a','a']\n",
    "string_case(Sample)"
   ]
  },
  {
   "cell_type": "code",
   "execution_count": 53,
   "id": "03429984-d389-4541-9343-33ab5783a33d",
   "metadata": {},
   "outputs": [
    {
     "ename": "SyntaxError",
     "evalue": "invalid syntax (<ipython-input-53-ac92b4e9990d>, line 9)",
     "output_type": "error",
     "traceback": [
      "\u001b[1;36m  File \u001b[1;32m\"<ipython-input-53-ac92b4e9990d>\"\u001b[1;36m, line \u001b[1;32m9\u001b[0m\n\u001b[1;33m    param1 = [\"a\",\"b,\"c\"]\u001b[0m\n\u001b[1;37m                      ^\u001b[0m\n\u001b[1;31mSyntaxError\u001b[0m\u001b[1;31m:\u001b[0m invalid syntax\n"
     ]
    }
   ],
   "source": [
    "# Question # 04\n",
    "# def str_join(param1,param2):\n",
    "\n",
    "#     return tuple(set(map(cal_low_up, Sample)))\n",
    "\n",
    "# def map_concate(x):\n",
    "#     return x.lower(), x.upper()\n",
    "\n",
    "param1 = [\"a\",\"b,\"c\"]\n",
    "param2 = \"@\"\n",
    "# string_case(Sample)\n",
    "          \n",
    "# concate_list =  lambda param1,param2 : Param1 + Param2\n",
    " \n",
    "final_list = list(map(lambda param1,param2: param1*2))\n",
    "print(final_list)"
   ]
  },
  {
   "cell_type": "code",
   "execution_count": 42,
   "id": "9f90aab8-bd98-4530-bfc0-935be38cbf3d",
   "metadata": {},
   "outputs": [
    {
     "data": {
      "text/plain": [
       "(('b', 'B'), ('f', 'F'), ('a', 'A'))"
      ]
     },
     "execution_count": 42,
     "metadata": {},
     "output_type": "execute_result"
    }
   ],
   "source": [
    "# Question # 04\n",
    "def string_case(Sample):\n",
    "    return tuple(set(map(cal_low_up, Sample)))\n",
    "\n",
    "def cal_low_up(x):\n",
    "    return x.lower(), x.upper()\n",
    "\n",
    "string_case(Sample)"
   ]
  },
  {
   "cell_type": "code",
   "execution_count": null,
   "id": "19684aa2-935e-4636-81c5-b72023a99252",
   "metadata": {},
   "outputs": [],
   "source": []
  }
 ],
 "metadata": {
  "kernelspec": {
   "display_name": "Python 3",
   "language": "python",
   "name": "python3"
  },
  "language_info": {
   "codemirror_mode": {
    "name": "ipython",
    "version": 3
   },
   "file_extension": ".py",
   "mimetype": "text/x-python",
   "name": "python",
   "nbconvert_exporter": "python",
   "pygments_lexer": "ipython3",
   "version": "3.9.5"
  }
 },
 "nbformat": 4,
 "nbformat_minor": 5
}
