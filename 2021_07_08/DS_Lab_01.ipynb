{
 "cells": [
  {
   "cell_type": "markdown",
   "id": "28d24e45-f8a6-43cb-9346-26a3d1a3cff1",
   "metadata": {},
   "source": [
    "## Q1. \n",
    "Write a function get_date(int) that takes a param number_of_days and if the number is\n",
    "odd return (current_date + number_of_days) else return (current_date - number_of_days)"
   ]
  },
  {
   "cell_type": "code",
   "execution_count": 1,
   "id": "655c5458-1aea-4d80-9d3b-7aebf42a9b5e",
   "metadata": {},
   "outputs": [],
   "source": [
    "import datetime as dt\n",
    "import time as tm\n",
    "\n",
    "def get_date(days):\n",
    "    if (days % 2) != 0:\n",
    "        return dt.datetime.today() + dt.timedelta(days=days)\n",
    "    else:\n",
    "        return dt.datetime.today() - dt.timedelta(days=days)"
   ]
  },
  {
   "cell_type": "code",
   "execution_count": 2,
   "id": "e94f4726-54a5-4e3b-8904-3e231c4c093a",
   "metadata": {},
   "outputs": [
    {
     "name": "stdout",
     "output_type": "stream",
     "text": [
      "EVEN Date : 2021-08-02 02:00:53.589399\n",
      "ODD Date : 2021-08-17 02:00:53.589399\n"
     ]
    }
   ],
   "source": [
    "daysODD = 9\n",
    "daysEVEN = 6\n",
    "print(f\"EVEN Date : {get_date(daysEVEN)}\")\n",
    "print(f\"ODD Date : {get_date(daysODD)}\")"
   ]
  },
  {
   "cell_type": "markdown",
   "id": "555afd8e-1227-40e6-9e39-b218a9d4d464",
   "metadata": {},
   "source": [
    "## Q2. \n",
    "Write a function stringify using map that takes a list of strings and a function and\n",
    "converts each string into separate string\n",
    "Input =['devnation', 'data science', 'requires', 'dedication']\n",
    "Output =[[‘d’,’e’,’v’,’n’,’a’,’t’,’i’,’o’,’n’],[‘d’,’a’,’t’,’a’,’s’,’i’,’e’,’n’,’c’,’e’],\n",
    "[‘r’,’e’,’q’,’u’,’i’,’r’,’e’,’s’],[‘d’,’e’,’d’,’i’,’c’,’a’,’t’,’i’,’o’,’n’]]"
   ]
  },
  {
   "cell_type": "code",
   "execution_count": 3,
   "id": "55b5158d-b043-4c55-a72f-a6a5568d0152",
   "metadata": {},
   "outputs": [
    {
     "name": "stdout",
     "output_type": "stream",
     "text": [
      "[['d', 'e', 'v', 'n', 'a', 't', 'i', 'o', 'n'], ['d', 'a', 't', 'a', ' ', 's', 'c', 'i', 'e', 'n', 'c', 'e'], ['r', 'e', 'q', 'u', 'i', 'r', 'e', 's'], ['d', 'e', 'd', 'i', 'c', 'a', 't', 'i', 'o', 'n']]\n"
     ]
    }
   ],
   "source": [
    "def stringify(Input):\n",
    "    return list(Input)\n",
    "\n",
    "Input = ['devnation', 'data science', 'requires', 'dedication']\n",
    "x = map(stringify, Input)\n",
    "print(list(x))"
   ]
  },
  {
   "cell_type": "markdown",
   "id": "3c5588e9-822c-44ce-ae48-8893eeaf4910",
   "metadata": {},
   "source": [
    "## Q3. \n",
    "Write a function string_case(list) using map that takes list of characters and return\n",
    "tuples of tuple with containing lower and upper case of that character’s list\n",
    "Final Output must contains unique tuples\n",
    "Sample = ['f', 'b', 'a',’a’]\n",
    "Result = ((‘F’,’F’),(‘B’,’b’),(‘A’,’a’))"
   ]
  },
  {
   "cell_type": "code",
   "execution_count": 4,
   "id": "1bfa3984-2068-45ee-be67-67b1fbd66a0b",
   "metadata": {},
   "outputs": [],
   "source": [
    "def string_case(Sample):\n",
    "    return tuple(set(map(cal_low_up, Sample)))\n",
    "\n",
    "def cal_low_up(x):\n",
    "    return x.upper(), x.lower()"
   ]
  },
  {
   "cell_type": "code",
   "execution_count": 5,
   "id": "bb18c4c6-10aa-4bc6-8163-417bb35b46c3",
   "metadata": {},
   "outputs": [
    {
     "data": {
      "text/plain": [
       "(('F', 'f'), ('A', 'a'), ('B', 'b'))"
      ]
     },
     "execution_count": 5,
     "metadata": {},
     "output_type": "execute_result"
    }
   ],
   "source": [
    "Sample = ['f', 'b', 'a','a']\n",
    "string_case(Sample)"
   ]
  },
  {
   "cell_type": "code",
   "execution_count": 6,
   "id": "33cd731f-9892-4f39-8567-facb393a8716",
   "metadata": {},
   "outputs": [
    {
     "data": {
      "text/plain": [
       "(('A', 'a'), ('H', 'h'), ('R', 'r'), ('M', 'm'))"
      ]
     },
     "execution_count": 6,
     "metadata": {},
     "output_type": "execute_result"
    }
   ],
   "source": [
    "Sample = ['A', 'r', 'h', 'a', 'm']\n",
    "string_case(Sample)"
   ]
  },
  {
   "cell_type": "markdown",
   "id": "a0c7d78e-a2fc-4713-b729-c7d1d087f479",
   "metadata": {},
   "source": [
    "## Q4. \n",
    "Write a function str_join(list,str) that receives two parameters\n",
    "1. List of strings\n",
    "2. Single_string value\n",
    "By using lambda and map create a new list that concatenates the list elements with a\n",
    "string parameter\n",
    "Example:\n",
    "Param1 = [“a”,”b”,”c”]\n",
    "Param2 = “@”\n",
    "Output = [“a@”,”b@”,”c@”]"
   ]
  },
  {
   "cell_type": "code",
   "execution_count": 7,
   "id": "99183550-e0f7-43a8-8c5e-432244ec493c",
   "metadata": {},
   "outputs": [
    {
     "data": {
      "text/plain": [
       "['a@', 'b@', 'c@']"
      ]
     },
     "execution_count": 7,
     "metadata": {},
     "output_type": "execute_result"
    }
   ],
   "source": [
    "def str_join(my_list, str_value):\n",
    "    return list(map(lambda x: x+str_value, my_list))\n",
    "\n",
    "param1 = [\"a\", \"b\", \"c\"]\n",
    "param2 = \"@\"\n",
    "\n",
    "str_join(param1,param2)"
   ]
  },
  {
   "cell_type": "markdown",
   "id": "d84bb888-6f04-4c8a-b45d-842f0a5e1c1e",
   "metadata": {},
   "source": [
    "## Q5. \n",
    "Write a function get_city_mpg_avg, that groups the cars by number of cylinders, and\n",
    "finding the average cty mpg for each group.\n",
    "Output should be in the list of tuples\n",
    "Output = [ (5,20),(4,18),(3,16) ]\n",
    "Note:\n",
    "1. Use MPG.csv file\n",
    "2. First index of tuple shows the number of cylinders and second index shows the average\n",
    "3. Result should be sorted by first tuple index by using lambda functions"
   ]
  },
  {
   "cell_type": "code",
   "execution_count": 8,
   "id": "8c8a9f93-a976-43a1-889e-e6b374c0e8d0",
   "metadata": {},
   "outputs": [],
   "source": [
    "import csv\n",
    "\n",
    "# Function to get unique cylinders\n",
    "def all_distinct_cylinders(csv_all_data):\n",
    "    all_cylinders_list = []\n",
    "    \n",
    "# Reading the whole data but appending only number of cylinders to list\n",
    "    for ele in csv_all_data:\n",
    "        all_cylinders_list.append(ele['cyl'])\n",
    "    \n",
    "# Prinitng first 10 number of cylinders from the list\n",
    "    print(f\"List of All Number of Cylinders -------> {all_cylinders_list[:15]}\")\n",
    "\n",
    "# Returning the list of unique number of cylinders\n",
    "    return list(set(all_cylinders_list))\n",
    "\n",
    "# Function to get Milage\n",
    "def get_city_mpg_avg():\n",
    "    \n",
    "#   Reading CSV file\n",
    "    with open('mpg.csv') as mpg_csv:\n",
    "        csv_all_data = list(csv.DictReader(mpg_csv))\n",
    "    \n",
    "    all_dist_cylinders = all_distinct_cylinders(csv_all_data)\n",
    "    \n",
    "    resultant_list = []\n",
    "    for cyl in all_dist_cylinders:\n",
    "        milage_sum = 0\n",
    "        car_counter = 0\n",
    "        \n",
    "        print(f\"Current Distinct Number of Cylinders -------> {cyl}\")\n",
    "        \n",
    "        for main_data_row in csv_all_data:\n",
    "            if main_data_row['cyl'] == cyl:\n",
    "                milage_sum += float(main_data_row['cty'])\n",
    "                car_counter += 1\n",
    "        \n",
    "        print(f\"Milage Sum for {cyl} Number of Cylinders -------> {milage_sum}\")\n",
    "        \n",
    "        resultant_list.append((cyl, milage_sum / car_counter))\n",
    "        resultant_list.sort(key=lambda x:x[0])\n",
    "\n",
    "    return resultant_list"
   ]
  },
  {
   "cell_type": "code",
   "execution_count": 9,
   "id": "c5a11f35-ce3c-416a-ac95-ac35ef191db4",
   "metadata": {},
   "outputs": [
    {
     "name": "stdout",
     "output_type": "stream",
     "text": [
      "--------Calculating City Milage Average----------\n",
      "List of All Number of Cylinders -------> ['4', '4', '4', '4', '6', '6', '6', '4', '4', '4', '4', '6', '6', '6', '6']\n",
      "Current Distinct Number of Cylinders -------> 6\n",
      "Milage Sum for 6 Number of Cylinders -------> 1281.0\n",
      "Current Distinct Number of Cylinders -------> 8\n",
      "Milage Sum for 8 Number of Cylinders -------> 880.0\n",
      "Current Distinct Number of Cylinders -------> 4\n",
      "Milage Sum for 4 Number of Cylinders -------> 1702.0\n",
      "Current Distinct Number of Cylinders -------> 5\n",
      "Milage Sum for 5 Number of Cylinders -------> 82.0\n",
      "-------Average Milage according to Number of Cylinders-----\n",
      " [('4', 21.012345679012345), ('5', 20.5), ('6', 16.21518987341772), ('8', 12.571428571428571)]\n"
     ]
    }
   ],
   "source": [
    "print(\"--------Calculating City Milage Average----------\")\n",
    "print(f\"-------Average Milage according to Number of Cylinders-----\\n {get_city_mpg_avg()}\")"
   ]
  },
  {
   "cell_type": "markdown",
   "id": "a843deac-9c50-4c7a-ad11-82e39def8bdc",
   "metadata": {},
   "source": [
    "## Q6. \n",
    "Write a function find_indexes(list,int) takes a list and integer value,\n",
    "if the value exists in the list return the list containing all the index where that integer exists\n",
    "else return “value don’t exist”"
   ]
  },
  {
   "cell_type": "code",
   "execution_count": 10,
   "id": "9253a12c-cd15-42c0-ab4a-df94716b9979",
   "metadata": {},
   "outputs": [],
   "source": [
    "def find_indices(int_list, target):\n",
    "    \n",
    "    ind_list = []\n",
    "    for num_idx in range(0, len(int_list)):\n",
    "        if (int_list[num_idx]) == target:\n",
    "            ind_list.append(num_idx)\n",
    "        else:\n",
    "            continue\n",
    "    \n",
    "    return ind_list"
   ]
  },
  {
   "cell_type": "code",
   "execution_count": 11,
   "id": "f5c4f279-2c68-4fa1-9816-7f4dcb2c5e12",
   "metadata": {},
   "outputs": [
    {
     "data": {
      "text/plain": [
       "[2, 5, 8, 10, 13, 17, 19, 21]"
      ]
     },
     "execution_count": 11,
     "metadata": {},
     "output_type": "execute_result"
    }
   ],
   "source": [
    "num_list = [1,2,7,5,6,7,3,5,7,8,7,6,5,7,3,5,2,7,8,7,2,7,3]\n",
    "target = 7\n",
    "find_indices(num_list, target)"
   ]
  },
  {
   "cell_type": "markdown",
   "id": "7c3a4112-b295-4c4d-aef7-3928604da94b",
   "metadata": {},
   "source": [
    "## Q7\n",
    "Write a function to get data from a dictionary.\n",
    "\n",
    "Let’s say this is the dictionary and I want you to get country name so we will pass list of keys like\n",
    "this. [‘address’, ‘addressCountry’, ‘name’], function should return “New Zealand”. Your function\n",
    "should be generaic, we can pass any dictionary and any list of keys according to that and if the\n",
    "data doesn’t exist then return default value we pass when we call the function.\n",
    "Sample Dictionary:\n",
    "\n",
    "{\"@context\":\"http:\\u002F\\u002Fschema.org\",\"@type\":\"LodgingBusiness\",\"name\":\"Seabreeze Holiday Park\",\"url\":\"\\u002FHotel_Review-g4475485-d2207450-Reviews-\n",
    "Seabreeze_Holiday_Park-Whenuakite_Coromandel_Peninsula_Waikato_Region_North_Island.html\",\"image\":\"https:\\u002F\\u002Fmedia-cdn.tripadvisor.com\\u002Fmedia\\u002Fphoto-\n",
    "s\\u002F09\\u002F66\\u002Fa0\\u002F92\\u002Fseabreeze-holiday-park.jpg\",\"priceRange\":\"$(Based on Average Nightly Rates for a Standard Room from our\n",
    "Partners)\",\"aggregateRating\":{\"@type\":\"AggregateRating\",\"ratingValue\":\"3.5\",\"reviewCount\":\"152\"},\"address\":{\"@type\":\"PostalAddress\",\"streetAddress\":\"1043 Tairua Whitianga Road\n",
    "Sh25\",\"addressLocality\":\"Whenuakite\",\"addressRegion\":\"NorthIsland\",\"postalCode\":\"3591\",\"addressCountry\":{\"@type\":\"Country\",\"name\":\"New Zealand\"}}}"
   ]
  },
  {
   "cell_type": "code",
   "execution_count": 12,
   "id": "033224f6-7df3-4fa9-9aed-9b6b9a9e37ba",
   "metadata": {},
   "outputs": [],
   "source": [
    "def get_value(sample_dict, keys_list, on_error=\"Not Found\"):\n",
    "    for key in keys_list:\n",
    "        if key in sample_dict:\n",
    "            sample_dict = sample_dict[key]\n",
    "        else:\n",
    "            return on_error\n",
    "    return sample_dict"
   ]
  },
  {
   "cell_type": "code",
   "execution_count": 13,
   "id": "6758dadc-3e7a-4cee-9067-0417a2abd6f6",
   "metadata": {},
   "outputs": [
    {
     "name": "stdout",
     "output_type": "stream",
     "text": [
      "New Zealand\n"
     ]
    }
   ],
   "source": [
    "sample_dict = {\"name\":\"Sea Park\",\"priceRange\":\"$1000\",\"address\":{\"postalCode\":\"3591\",\"addressCountry\":{\"@type\":\"Country\",\"name\":\"New Zealand\"}}}\n",
    "keys_list =  [\"address\", \"addressCountry\", \"name\"]\n",
    "\n",
    "result = get_value(sample_dict, keys_list)\n",
    "print(result)"
   ]
  },
  {
   "cell_type": "code",
   "execution_count": null,
   "id": "f124d4b6-dc9d-4cbf-b6ed-c751ead3b841",
   "metadata": {},
   "outputs": [],
   "source": []
  }
 ],
 "metadata": {
  "kernelspec": {
   "display_name": "Python 3 (ipykernel)",
   "language": "python",
   "name": "python3"
  },
  "language_info": {
   "codemirror_mode": {
    "name": "ipython",
    "version": 3
   },
   "file_extension": ".py",
   "mimetype": "text/x-python",
   "name": "python",
   "nbconvert_exporter": "python",
   "pygments_lexer": "ipython3",
   "version": "3.9.6"
  }
 },
 "nbformat": 4,
 "nbformat_minor": 5
}
