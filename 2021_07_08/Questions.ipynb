{
 "cells": [
  {
   "cell_type": "code",
   "execution_count": 1,
   "id": "01b1a68f",
   "metadata": {},
   "outputs": [
    {
     "name": "stdout",
     "output_type": "stream",
     "text": [
      "2021-07-18\n"
     ]
    }
   ],
   "source": [
    "import datetime as dt\n",
    "import time as tm\n",
    "\n",
    "def get_date(number_of_days):\n",
    "    todays_date = dt.date.today()\n",
    "    if number_of_days % 2 == 0:\n",
    "       return (todays_date + dt.timedelta(days=number_of_days))\n",
    "    else:\n",
    "       return (todays_date - dt.timedelta(days=number_of_days))\n",
    "number_of_days = 10\n",
    "print(get_date(number_of_days))"
   ]
  },
  {
   "cell_type": "code",
   "execution_count": null,
   "id": "ffbe97c9",
   "metadata": {},
   "outputs": [],
   "source": [
    "def stringify():\n",
    "    lst=[]\n",
    "    n = int(input('number of elements'))\n",
    "    for i in range (0,n):\n",
    "        name=input(\"Enter Word: \")\n",
    "        lst.append(name)\n",
    "    print(lst)\n",
    "    map_va=list(map(list,lst))\n",
    "    return map_va\n",
    "            \n",
    "stringify()\n"
   ]
  },
  {
   "cell_type": "code",
   "execution_count": 8,
   "id": "546e870e",
   "metadata": {},
   "outputs": [
    {
     "data": {
      "text/plain": [
       "(('a', 'A'), ('f', 'F'), ('b', 'B'))"
      ]
     },
     "execution_count": 8,
     "metadata": {},
     "output_type": "execute_result"
    }
   ],
   "source": [
    "def sting_case(newList):\n",
    "    e=tuple(set(map(upperLower,newList)))\n",
    "    return e\n",
    "def upperLower(r):\n",
    "    return r.lower(),r.upper()\n",
    "sting_case(['f','b','a','a'])"
   ]
  },
  {
   "cell_type": "code",
   "execution_count": 5,
   "id": "f1fcd331",
   "metadata": {},
   "outputs": [
    {
     "data": {
      "text/plain": [
       "['a@', 'b@', 'c@']"
      ]
     },
     "execution_count": 5,
     "metadata": {},
     "output_type": "execute_result"
    }
   ],
   "source": [
    "def str_join(myList,f):\n",
    "    lambda_func = lambda x: x+f\n",
    "    return list(map(lambda_func,myList))\n",
    "str_join(['a','b','c'],'@')"
   ]
  },
  {
   "cell_type": "code",
   "execution_count": 18,
   "id": "9ea35e12",
   "metadata": {},
   "outputs": [
    {
     "data": {
      "text/plain": [
       "'4'"
      ]
     },
     "execution_count": 18,
     "metadata": {},
     "output_type": "execute_result"
    }
   ],
   "source": [
    "import csv\n",
    "with open('mpg.csv') as csv_file:\n",
    "    mpg = list(csv.DictReader(csv_file))\n",
    "mpg[0]['cyl']"
   ]
  },
  {
   "cell_type": "code",
   "execution_count": null,
   "id": "c5b3f3df",
   "metadata": {},
   "outputs": [],
   "source": [
    "def find_indexes(myList,n):\n",
    "    lambda_func1 = "
   ]
  }
 ],
 "metadata": {
  "kernelspec": {
   "display_name": "Python 3",
   "language": "python",
   "name": "python3"
  },
  "language_info": {
   "codemirror_mode": {
    "name": "ipython",
    "version": 3
   },
   "file_extension": ".py",
   "mimetype": "text/x-python",
   "name": "python",
   "nbconvert_exporter": "python",
   "pygments_lexer": "ipython3",
   "version": "3.7.10"
  }
 },
 "nbformat": 4,
 "nbformat_minor": 5
}
