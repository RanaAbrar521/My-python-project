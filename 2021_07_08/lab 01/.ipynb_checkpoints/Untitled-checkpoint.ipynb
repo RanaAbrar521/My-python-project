{
 "cells": [
  {
   "cell_type": "code",
   "execution_count": 24,
   "id": "73212edc-b11f-497f-a36c-7afd83df1020",
   "metadata": {},
   "outputs": [],
   "source": [
    "class Salary:\n",
    "    \n",
    "#     Class constructor\n",
    "    def __init__(self,monthly_income,currency,currency_type):\n",
    "        self.monthly_income = monthly_income\n",
    "        self.currency = currency\n",
    "        self.Currency_type = Currency_type \n",
    "        \n",
    "                \n",
    "#Setters\n",
    "    def set_monthly_income(self,monthly_income):\n",
    "        self.monthly_income = float(monthly_income)\n",
    "        \n",
    "    def set_currency(self,currency):\n",
    "        self.currency = str(currency)\n",
    "        \n",
    "    def set_currency_type(self,currency_type):\n",
    "        self.currency_type = str(currency_type )                  \n",
    "               \n",
    "#Getters function\n",
    "    def get_monthly_income(self):\n",
    "        return self.monthly_income\n",
    "        \n",
    "    def get_currency(self):\n",
    "        return self.currency\n",
    "        \n",
    "    def get_currency_type(self):\n",
    "        return self.currency_type\n",
    "    \n",
    "    def get_annual_income(self):\n",
    "        return self.annual_income\n",
    "        \n",
    "\n",
    "\n",
    "class Employee:\n",
    "    def __init__(self,monthly_income,currency,currency_type,Bonus,annual_income=0):\n",
    "        self.Bonus=Bonus\n",
    "        self.monthly_income=monthly_income\n",
    "        self.obj_salary = Salary(self.monthly_income)\n",
    "    \n",
    "# setter function to get total salary\n",
    "    def set_total_salary(self):\n",
    "        return (self.monthly_income*12)\n",
    "#getter function\n",
    "    def get_total_annual_salary(self):\n",
    "        return \"Total salary is : \" + str(self.obj_salary.get_total() + self.bonus)\n",
    "    "
   ]
  },
  {
   "cell_type": "code",
   "execution_count": 25,
   "id": "86f1a768-410a-47a7-8a9a-2b0aba54490a",
   "metadata": {},
   "outputs": [],
   "source": [
    "employee_A = (100,\"USD\",\"cash\",200)"
   ]
  },
  {
   "cell_type": "code",
   "execution_count": 30,
   "id": "c79a2347-f68f-40c3-a817-5dc05521cb72",
   "metadata": {},
   "outputs": [
    {
     "ename": "AttributeError",
     "evalue": "'tuple' object has no attribute 'set_total_salary'",
     "output_type": "error",
     "traceback": [
      "\u001b[1;31m---------------------------------------------------------------------------\u001b[0m",
      "\u001b[1;31mAttributeError\u001b[0m                            Traceback (most recent call last)",
      "\u001b[1;32m<ipython-input-30-1df1139f96d2>\u001b[0m in \u001b[0;36m<module>\u001b[1;34m\u001b[0m\n\u001b[1;32m----> 1\u001b[1;33m \u001b[0memployee_A\u001b[0m\u001b[1;33m.\u001b[0m\u001b[0mset_total_salary\u001b[0m\u001b[1;33m(\u001b[0m\u001b[1;33m)\u001b[0m\u001b[1;33m\u001b[0m\u001b[1;33m\u001b[0m\u001b[0m\n\u001b[0m",
      "\u001b[1;31mAttributeError\u001b[0m: 'tuple' object has no attribute 'set_total_salary'"
     ]
    }
   ],
   "source": [
    "employee_A.set_total_salary()"
   ]
  },
  {
   "cell_type": "code",
   "execution_count": 31,
   "id": "b37f21a7-99d7-43d6-b675-204ac4c9d2c5",
   "metadata": {},
   "outputs": [
    {
     "ename": "AttributeError",
     "evalue": "'tuple' object has no attribute 'get_total_annual_salary'",
     "output_type": "error",
     "traceback": [
      "\u001b[1;31m---------------------------------------------------------------------------\u001b[0m",
      "\u001b[1;31mAttributeError\u001b[0m                            Traceback (most recent call last)",
      "\u001b[1;32m<ipython-input-31-db35a28ecc55>\u001b[0m in \u001b[0;36m<module>\u001b[1;34m\u001b[0m\n\u001b[1;32m----> 1\u001b[1;33m \u001b[0memployee_A\u001b[0m\u001b[1;33m.\u001b[0m\u001b[0mget_total_annual_salary\u001b[0m\u001b[1;33m(\u001b[0m\u001b[1;33m)\u001b[0m\u001b[1;33m\u001b[0m\u001b[1;33m\u001b[0m\u001b[0m\n\u001b[0m",
      "\u001b[1;31mAttributeError\u001b[0m: 'tuple' object has no attribute 'get_total_annual_salary'"
     ]
    }
   ],
   "source": [
    "employee_A.get_total_annual_salary()"
   ]
  },
  {
   "cell_type": "code",
   "execution_count": 36,
   "id": "6581149e-458c-4e27-a4e9-f514bd1d5057",
   "metadata": {},
   "outputs": [
    {
     "ename": "NameError",
     "evalue": "name 'Currency_type' is not defined",
     "output_type": "error",
     "traceback": [
      "\u001b[1;31m---------------------------------------------------------------------------\u001b[0m",
      "\u001b[1;31mNameError\u001b[0m                                 Traceback (most recent call last)",
      "\u001b[1;32m<ipython-input-36-90d2c8ad4e5d>\u001b[0m in \u001b[0;36m<module>\u001b[1;34m\u001b[0m\n\u001b[1;32m----> 1\u001b[1;33m \u001b[0mSalary_1\u001b[0m\u001b[1;33m=\u001b[0m\u001b[0mSalary\u001b[0m\u001b[1;33m(\u001b[0m\u001b[1;36m1000\u001b[0m\u001b[1;33m,\u001b[0m\u001b[1;34m\"usd\"\u001b[0m\u001b[1;33m,\u001b[0m\u001b[1;34m\"cash\"\u001b[0m\u001b[1;33m)\u001b[0m\u001b[1;33m\u001b[0m\u001b[1;33m\u001b[0m\u001b[0m\n\u001b[0m\u001b[0;32m      2\u001b[0m \u001b[0mSalary_1\u001b[0m\u001b[1;33m.\u001b[0m\u001b[0mget_monthly_income\u001b[0m\u001b[1;33m(\u001b[0m\u001b[1;33m)\u001b[0m\u001b[1;33m\u001b[0m\u001b[1;33m\u001b[0m\u001b[0m\n",
      "\u001b[1;32m<ipython-input-24-5ab983cd1906>\u001b[0m in \u001b[0;36m__init__\u001b[1;34m(self, monthly_income, currency, currency_type)\u001b[0m\n\u001b[0;32m      5\u001b[0m         \u001b[0mself\u001b[0m\u001b[1;33m.\u001b[0m\u001b[0mmonthly_income\u001b[0m \u001b[1;33m=\u001b[0m \u001b[0mmonthly_income\u001b[0m\u001b[1;33m\u001b[0m\u001b[1;33m\u001b[0m\u001b[0m\n\u001b[0;32m      6\u001b[0m         \u001b[0mself\u001b[0m\u001b[1;33m.\u001b[0m\u001b[0mcurrency\u001b[0m \u001b[1;33m=\u001b[0m \u001b[0mcurrency\u001b[0m\u001b[1;33m\u001b[0m\u001b[1;33m\u001b[0m\u001b[0m\n\u001b[1;32m----> 7\u001b[1;33m         \u001b[0mself\u001b[0m\u001b[1;33m.\u001b[0m\u001b[0mCurrency_type\u001b[0m \u001b[1;33m=\u001b[0m \u001b[0mCurrency_type\u001b[0m\u001b[1;33m\u001b[0m\u001b[1;33m\u001b[0m\u001b[0m\n\u001b[0m\u001b[0;32m      8\u001b[0m \u001b[1;33m\u001b[0m\u001b[0m\n\u001b[0;32m      9\u001b[0m \u001b[1;33m\u001b[0m\u001b[0m\n",
      "\u001b[1;31mNameError\u001b[0m: name 'Currency_type' is not defined"
     ]
    }
   ],
   "source": [
    "Salary_1=Salary(1000,\"usd\",\"cash\")\n",
    "Salary_1.get_monthly_income()"
   ]
  },
  {
   "cell_type": "code",
   "execution_count": null,
   "id": "b2328177-f067-4b97-a0cd-d975c4f8681f",
   "metadata": {},
   "outputs": [],
   "source": []
  }
 ],
 "metadata": {
  "kernelspec": {
   "display_name": "Python 3",
   "language": "python",
   "name": "python3"
  },
  "language_info": {
   "codemirror_mode": {
    "name": "ipython",
    "version": 3
   },
   "file_extension": ".py",
   "mimetype": "text/x-python",
   "name": "python",
   "nbconvert_exporter": "python",
   "pygments_lexer": "ipython3",
   "version": "3.8.8"
  }
 },
 "nbformat": 4,
 "nbformat_minor": 5
}
