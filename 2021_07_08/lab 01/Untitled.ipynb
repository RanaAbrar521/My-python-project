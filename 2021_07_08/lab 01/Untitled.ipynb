{
 "cells": [
  {
   "cell_type": "code",
   "execution_count": 22,
   "id": "73212edc-b11f-497f-a36c-7afd83df1020",
   "metadata": {},
   "outputs": [],
   "source": [
    "class Salary:\n",
    "    \n",
    "#     Class constructor\n",
    "    def __init__(self,monthly_income,currency,currency_type):\n",
    "        self.monthly_income = monthly_income\n",
    "        self.currency = currency\n",
    "        self.Currency_type = Currency_type \n",
    "        \n",
    "                \n",
    "#Setters\n",
    "    def set_monthly_income(self,monthly_income):\n",
    "        self.monthly_income = float(monthly_income)\n",
    "        \n",
    "    def set_currency(self,currency):\n",
    "        self.currency = str(currency)\n",
    "        \n",
    "    def set_currency_type(self,currency_type):\n",
    "        self.currency_type = str(currency_type )                  \n",
    "               \n",
    "#Getters function\n",
    "    def get_monthly_income(self):\n",
    "        return self.monthly_income\n",
    "        \n",
    "    def get_currency(self):\n",
    "        return self.currency\n",
    "        \n",
    "    def get_currency_type(self):\n",
    "        return self.currency_type\n",
    "    \n",
    "    def get_annual_income(self):\n",
    "        return self.annual_income\n",
    "        \n",
    "\n",
    "\n",
    "class Employee:\n",
    "    def __init__(self,monthly_income,currency,currency_type,Bonus,annual_income=0):\n",
    "        self.Bonus=Bonus\n",
    "        self.monthly_income=monthly_income\n",
    "        self.currency=currency\n",
    "        self.annual_income= annual_income\n",
    "        self.obj_salary = Salary(monthly_income,Currency, currency_Type)\n",
    "    \n",
    "# setter function to get total salary\n",
    "    def set_total_annual_salary(self):\n",
    "        self.annual_income= self.obj_salary.get_annual_income() + self.Bonus\n",
    "#getter function\n",
    "    def get_total_annual_salary(self):\n",
    "        return f\"Annual Salary is {self.annual_salary} {self.obj_salary.get_currency()} including {self.bonus} Annual Bonus\"\n",
    "   "
   ]
  },
  {
   "cell_type": "code",
   "execution_count": 23,
   "id": "86f1a768-410a-47a7-8a9a-2b0aba54490a",
   "metadata": {},
   "outputs": [
    {
     "ename": "NameError",
     "evalue": "name 'Currency' is not defined",
     "output_type": "error",
     "traceback": [
      "\u001b[1;31m---------------------------------------------------------------------------\u001b[0m",
      "\u001b[1;31mNameError\u001b[0m                                 Traceback (most recent call last)",
      "\u001b[1;32m<ipython-input-23-2826029034f8>\u001b[0m in \u001b[0;36m<module>\u001b[1;34m\u001b[0m\n\u001b[1;32m----> 1\u001b[1;33m \u001b[0memployee_1\u001b[0m \u001b[1;33m=\u001b[0m \u001b[0mEmployee\u001b[0m\u001b[1;33m(\u001b[0m\u001b[1;36m55000\u001b[0m\u001b[1;33m,\u001b[0m \u001b[1;34m\"PKR\"\u001b[0m\u001b[1;33m,\u001b[0m \u001b[1;34m\"Cash\"\u001b[0m\u001b[1;33m,\u001b[0m \u001b[1;36m2000\u001b[0m\u001b[1;33m)\u001b[0m\u001b[1;33m\u001b[0m\u001b[1;33m\u001b[0m\u001b[0m\n\u001b[0m",
      "\u001b[1;32m<ipython-input-22-1d5c337c0ecc>\u001b[0m in \u001b[0;36m__init__\u001b[1;34m(self, monthly_income, currency, currency_type, Bonus, annual_income)\u001b[0m\n\u001b[0;32m     39\u001b[0m         \u001b[0mself\u001b[0m\u001b[1;33m.\u001b[0m\u001b[0mcurrency\u001b[0m\u001b[1;33m=\u001b[0m\u001b[0mcurrency\u001b[0m\u001b[1;33m\u001b[0m\u001b[1;33m\u001b[0m\u001b[0m\n\u001b[0;32m     40\u001b[0m         \u001b[0mself\u001b[0m\u001b[1;33m.\u001b[0m\u001b[0mannual_income\u001b[0m\u001b[1;33m=\u001b[0m \u001b[0mannual_income\u001b[0m\u001b[1;33m\u001b[0m\u001b[1;33m\u001b[0m\u001b[0m\n\u001b[1;32m---> 41\u001b[1;33m         \u001b[0mself\u001b[0m\u001b[1;33m.\u001b[0m\u001b[0mobj_salary\u001b[0m \u001b[1;33m=\u001b[0m \u001b[0mSalary\u001b[0m\u001b[1;33m(\u001b[0m\u001b[0mmonthly_income\u001b[0m\u001b[1;33m,\u001b[0m\u001b[0mCurrency\u001b[0m\u001b[1;33m,\u001b[0m \u001b[0mcurrency_Type\u001b[0m\u001b[1;33m)\u001b[0m\u001b[1;33m\u001b[0m\u001b[1;33m\u001b[0m\u001b[0m\n\u001b[0m\u001b[0;32m     42\u001b[0m \u001b[1;33m\u001b[0m\u001b[0m\n\u001b[0;32m     43\u001b[0m \u001b[1;31m# setter function to get total salary\u001b[0m\u001b[1;33m\u001b[0m\u001b[1;33m\u001b[0m\u001b[1;33m\u001b[0m\u001b[0m\n",
      "\u001b[1;31mNameError\u001b[0m: name 'Currency' is not defined"
     ]
    }
   ],
   "source": [
    "employee_1 = Employee(55000, \"PKR\", \"Cash\", 2000)"
   ]
  },
  {
   "cell_type": "code",
   "execution_count": null,
   "id": "c79a2347-f68f-40c3-a817-5dc05521cb72",
   "metadata": {},
   "outputs": [],
   "source": []
  },
  {
   "cell_type": "code",
   "execution_count": null,
   "id": "b37f21a7-99d7-43d6-b675-204ac4c9d2c5",
   "metadata": {},
   "outputs": [],
   "source": []
  },
  {
   "cell_type": "code",
   "execution_count": null,
   "id": "6581149e-458c-4e27-a4e9-f514bd1d5057",
   "metadata": {},
   "outputs": [],
   "source": []
  },
  {
   "cell_type": "code",
   "execution_count": null,
   "id": "b2328177-f067-4b97-a0cd-d975c4f8681f",
   "metadata": {},
   "outputs": [],
   "source": []
  },
  {
   "cell_type": "code",
   "execution_count": null,
   "id": "e38c7588-d115-4c96-bca3-67d7e8e02d7d",
   "metadata": {},
   "outputs": [],
   "source": []
  }
 ],
 "metadata": {
  "kernelspec": {
   "display_name": "Python 3",
   "language": "python",
   "name": "python3"
  },
  "language_info": {
   "codemirror_mode": {
    "name": "ipython",
    "version": 3
   },
   "file_extension": ".py",
   "mimetype": "text/x-python",
   "name": "python",
   "nbconvert_exporter": "python",
   "pygments_lexer": "ipython3",
   "version": "3.8.8"
  }
 },
 "nbformat": 4,
 "nbformat_minor": 5
}
