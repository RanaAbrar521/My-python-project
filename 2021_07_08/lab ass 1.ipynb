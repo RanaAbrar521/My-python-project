{
 "cells": [
  {
   "cell_type": "code",
   "execution_count": null,
   "id": "4496ad24",
   "metadata": {},
   "outputs": [],
   "source": [
    "Q # 1"
   ]
  },
  {
   "cell_type": "code",
   "execution_count": 1,
   "id": "f555b8a3",
   "metadata": {},
   "outputs": [],
   "source": [
    "import datetime as dt\n",
    "import time as tm\n"
   ]
  },
  {
   "cell_type": "code",
   "execution_count": 2,
   "id": "d649a8f3",
   "metadata": {},
   "outputs": [],
   "source": [
    "def get_date(number_of_days):\n",
    "    if number_of_days % 2 !=0:\n",
    "        return dt.date.today() + dt.timedelta(days=50)\n",
    "    else:\n",
    "        return dt.date.today() -  dt.timedelta(days=50)"
   ]
  },
  {
   "cell_type": "code",
   "execution_count": 3,
   "id": "503591d8",
   "metadata": {},
   "outputs": [
    {
     "data": {
      "text/plain": [
       "datetime.date(2021, 8, 27)"
      ]
     },
     "execution_count": 3,
     "metadata": {},
     "output_type": "execute_result"
    }
   ],
   "source": [
    " get_date(5)"
   ]
  },
  {
   "cell_type": "markdown",
   "id": "9620151a",
   "metadata": {},
   "source": [
    "Q # 2 \n"
   ]
  },
  {
   "cell_type": "code",
   "execution_count": 4,
   "id": "cd85bb0a",
   "metadata": {},
   "outputs": [
    {
     "data": {
      "text/plain": [
       "[['d', 'e', 'v', 'n', 'a', 't', 'i', 'o', 'n'],\n",
       " ['d', 'a', 't', 'a', ' ', 's', 'c', 'i', 'e', 'n', 'c', 'e'],\n",
       " ['r', 'e', 'q', 'u', 'i', 'r', 'e', 's'],\n",
       " ['d', 'e', 'd', 'i', 'c', 'a', 't', 'i', 'o', 'n']]"
      ]
     },
     "execution_count": 4,
     "metadata": {},
     "output_type": "execute_result"
    }
   ],
   "source": [
    "def stringify(x):\n",
    "    x = map(list, x)\n",
    "\n",
    "    return list(x)\n",
    "\n",
    "\n",
    "stringify(['devnation', 'data science', 'requires', 'dedication'])"
   ]
  },
  {
   "cell_type": "markdown",
   "id": "d70c53dc",
   "metadata": {},
   "source": [
    "Q 3\n"
   ]
  },
  {
   "cell_type": "code",
   "execution_count": 5,
   "id": "d2e974a6",
   "metadata": {},
   "outputs": [
    {
     "data": {
      "text/plain": [
       "(('f',), ('b',), ('a',), ('a',))"
      ]
     },
     "execution_count": 5,
     "metadata": {},
     "output_type": "execute_result"
    }
   ],
   "source": [
    " def string_case(x):\n",
    "        x = map(tuple, x)\n",
    "        return tuple(x)\n",
    "    \n",
    "\n",
    "string_case(['f', 'b', 'a','a'])"
   ]
  },
  {
   "cell_type": "markdown",
   "id": "63dde5f6",
   "metadata": {},
   "source": [
    "\n",
    "Q 4\n"
   ]
  },
  {
   "cell_type": "code",
   "execution_count": 36,
   "id": "17887056",
   "metadata": {},
   "outputs": [
    {
     "ename": "SyntaxError",
     "evalue": "invalid syntax (<ipython-input-36-a01f576d9d5d>, line 3)",
     "output_type": "error",
     "traceback": [
      "\u001b[1;36m  File \u001b[1;32m\"<ipython-input-36-a01f576d9d5d>\"\u001b[1;36m, line \u001b[1;32m3\u001b[0m\n\u001b[1;33m    return list\u001b[0m\n\u001b[1;37m    ^\u001b[0m\n\u001b[1;31mSyntaxError\u001b[0m\u001b[1;31m:\u001b[0m invalid syntax\n"
     ]
    }
   ],
   "source": [
    "def str_join(a,b):\n",
    "    x = map(join, b.join(a)\n",
    "    return list\n",
    "    \n",
    "\n",
    "str_join([\"a\", \"b\",\"c\"],\"@\")\n",
    "\n"
   ]
  },
  {
   "cell_type": "code",
   "execution_count": 37,
   "id": "c814cea6",
   "metadata": {},
   "outputs": [],
   "source": [
    "str_join = lambda a,b: b.join(a)"
   ]
  },
  {
   "cell_type": "code",
   "execution_count": 15,
   "id": "2744fe31",
   "metadata": {},
   "outputs": [
    {
     "data": {
      "text/plain": [
       "'a@b@c'"
      ]
     },
     "execution_count": 15,
     "metadata": {},
     "output_type": "execute_result"
    }
   ],
   "source": [
    "str_join([\"a\",\"b\",\"c\"],\"@\")"
   ]
  },
  {
   "cell_type": "markdown",
   "id": "a2728674",
   "metadata": {},
   "source": [
    "Q # 6  . Write a function find_indexes(list,int) takes a list and integer value,\n",
    "if the value exists in the list return the list containing all the index where that integer exists \n",
    "else return “value don’t exist”"
   ]
  },
  {
   "cell_type": "code",
   "execution_count": 11,
   "id": "24e6bc00",
   "metadata": {},
   "outputs": [],
   "source": [
    "def find_indexes(A,B):\n",
    "    if B in A:\n",
    "        return list(B)\n",
    "    else:\n",
    "        return  \"value does not exist\"\n",
    "   \n",
    "        \n",
    "\n",
    "        \n",
    "  "
   ]
  },
  {
   "cell_type": "code",
   "execution_count": 14,
   "id": "c590a7d0",
   "metadata": {},
   "outputs": [
    {
     "data": {
      "text/plain": [
       "'value does not exist'"
      ]
     },
     "execution_count": 14,
     "metadata": {},
     "output_type": "execute_result"
    }
   ],
   "source": [
    "find_indexes([1,2,3,4,],5)"
   ]
  },
  {
   "cell_type": "markdown",
   "id": "22e32ccf",
   "metadata": {},
   "source": [
    "Q7. Write a function to get data from a dictionary.\n"
   ]
  },
  {
   "cell_type": "code",
   "execution_count": 15,
   "id": "7a826e3d",
   "metadata": {},
   "outputs": [],
   "source": []
  },
  {
   "cell_type": "code",
   "execution_count": 28,
   "id": "59c018ed",
   "metadata": {},
   "outputs": [],
   "source": [
    "Dict = {\"@context\":\"http:\\u002F\\u002Fschema.org\",\"@type\":\"LodgingBusiness\",\"name\":\"SeabreezeHolidayPark\",\"url\":\"\\u002FHotel_Review-g4475485-d2207450-Reviews-Seabreeze_Holiday_Park-Whenuakite_Coromandel_Peninsula_Waikato_Region_North_Island.html\",\"image\":\"https:\\\n",
    "u002F\\u002Fmedia-cdn.tripadvisor.com\\u002Fmedia\\u002Fphoto-s\\u002F09\\u002F66\\u002Fa0\\u002F92\\u002Fseabreeze-holiday-park.jpg\",\"priceRange\":\"$(Based on Average Nightly Rates for a Standard Room from ourPartners)\",\"aggregateRating\":{\"@type\":\"AggregateRating\",\"ratingValue\":\"3.5\",\"reviewCount\":\"152\"},\"address\":{\"@type\":\"PostalAddress\",\"streetAddress\":\"1043 Tairua Whitianga RoadSh25\",\"addressLocality\":\"Whenuakite\",\"addressRegion\":\"NorthIsland\",\"postalCode\":\"3591\",\"addressCountry\":{\"@type\":\"Country\",\"name\":\"NewZealand\"}}}\n",
    "\n",
    "\n",
    "def  get_data_from_dictionary (x):\n",
    "    for i in x:\n",
    "        return Dict[x]"
   ]
  },
  {
   "cell_type": "code",
   "execution_count": 31,
   "id": "c83dc0c3",
   "metadata": {},
   "outputs": [
    {
     "data": {
      "text/plain": [
       "'SeabreezeHolidayPark'"
      ]
     },
     "execution_count": 31,
     "metadata": {},
     "output_type": "execute_result"
    }
   ],
   "source": [
    "get_data_from_dictionary(\"name\")"
   ]
  },
  {
   "cell_type": "code",
   "execution_count": null,
   "id": "1d2e9245",
   "metadata": {},
   "outputs": [],
   "source": []
  },
  {
   "cell_type": "code",
   "execution_count": null,
   "id": "091505c8",
   "metadata": {},
   "outputs": [],
   "source": []
  }
 ],
 "metadata": {
  "kernelspec": {
   "display_name": "Python 3",
   "language": "python",
   "name": "python3"
  },
  "language_info": {
   "codemirror_mode": {
    "name": "ipython",
    "version": 3
   },
   "file_extension": ".py",
   "mimetype": "text/x-python",
   "name": "python",
   "nbconvert_exporter": "python",
   "pygments_lexer": "ipython3",
   "version": "3.8.8"
  }
 },
 "nbformat": 4,
 "nbformat_minor": 5
}
