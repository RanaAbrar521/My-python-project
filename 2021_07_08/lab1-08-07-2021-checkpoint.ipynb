{
 "cells": [
  {
   "cell_type": "code",
   "execution_count": 2,
   "id": "8fbd0b54",
   "metadata": {},
   "outputs": [
    {
     "name": "stdout",
     "output_type": "stream",
     "text": [
      "2021-07-19\n"
     ]
    }
   ],
   "source": [
    "import datetime\n",
    "from datetime import timedelta\n",
    "def get_date( number_of_days ):\n",
    "    current_date = datetime.date.today()\n",
    "    if number_of_days % 2 != 0:\n",
    "        return(current_date + timedelta(days=number_of_days))\n",
    "    \n",
    "    return( current_date - timedelta(days=number_of_days) )\n",
    "number_of_days=11\n",
    "print(get_date(number_of_days))"
   ]
  },
  {
   "cell_type": "code",
   "execution_count": null,
   "id": "a179401b",
   "metadata": {},
   "outputs": [],
   "source": [
    "def stringify():\n",
    "    lst=[]\n",
    "    n = int(input('enter number of elements'))\n",
    "    for i in range (0,n):\n",
    "        name=input()\n",
    "        lst.append(name)\n",
    "    print(lst)\n",
    "    map_va=list(map(list,lst))\n",
    "    return map_va\n",
    "            \n",
    "stringify()"
   ]
  },
  {
   "cell_type": "code",
   "execution_count": null,
   "id": "446c7b99",
   "metadata": {},
   "outputs": [],
   "source": [
    "def str_join(myList,f):\n",
    "    lambda_func = lambda x:x+f\n",
    "    return list(map(lambda_func,myList))\n",
    "str_join(['a','b','c'],'@')"
   ]
  },
  {
   "cell_type": "code",
   "execution_count": null,
   "id": "d9adeaaf",
   "metadata": {},
   "outputs": [],
   "source": [
    "def str_string(newList):\n",
    "    \n",
    "    e=tuple(set(map(upperLower,newList)))\n",
    "    return e"
   ]
  },
  {
   "cell_type": "code",
   "execution_count": null,
   "id": "5d9f4b5e",
   "metadata": {},
   "outputs": [],
   "source": [
    "def upperLower(r):\n",
    "    return r.lower(),r.upper()"
   ]
  },
  {
   "cell_type": "code",
   "execution_count": null,
   "id": "fa015c0d",
   "metadata": {},
   "outputs": [],
   "source": [
    "str_string(['f','a','b','b'])"
   ]
  },
  {
   "cell_type": "code",
   "execution_count": null,
   "id": "d0c8bb9a",
   "metadata": {},
   "outputs": [],
   "source": [
    "import csv\n",
    "with open('mpg.csv') as csv_file:\n",
    "    mpg = list(csv.DictReader(csv_file))\n",
    "mpg"
   ]
  }
 ],
 "metadata": {
  "kernelspec": {
   "display_name": "Python 3",
   "language": "python",
   "name": "python3"
  },
  "language_info": {
   "codemirror_mode": {
    "name": "ipython",
    "version": 3
   },
   "file_extension": ".py",
   "mimetype": "text/x-python",
   "name": "python",
   "nbconvert_exporter": "python",
   "pygments_lexer": "ipython3",
   "version": "3.8.8"
  }
 },
 "nbformat": 4,
 "nbformat_minor": 5
}
