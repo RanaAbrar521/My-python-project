{
 "cells": [
  {
   "cell_type": "code",
   "execution_count": 2,
   "id": "efd4f56d",
   "metadata": {},
   "outputs": [
    {
     "name": "stdout",
     "output_type": "stream",
     "text": [
      "2021-07-19\n"
     ]
    }
   ],
   "source": [
    "#q1\n",
    "import datetime\n",
    "from datetime import timedelta\n",
    "def get_date( number_of_days ):\n",
    "    current_date = datetime.date.today()\n",
    "    if number_of_days % 2 != 0:\n",
    "        return(current_date + timedelta(days=number_of_days))\n",
    "    \n",
    "    return( current_date - timedelta(days=number_of_days) )\n",
    "number_of_days=11\n",
    "print(get_date(number_of_days))"
   ]
  },
  {
   "cell_type": "code",
   "execution_count": null,
   "id": "876fd96a",
   "metadata": {},
   "outputs": [],
   "source": [
    "#q2\n",
    "def stringify():\n",
    "    lst=[]\n",
    "    n = int(input('enter number of elements'))\n",
    "    for i in range (0,n):\n",
    "        name=input()\n",
    "        lst.append(name)\n",
    "    print(lst)\n",
    "    map_va=list(map(list,lst))\n",
    "    return map_va\n",
    "            \n",
    "stringify()"
   ]
  },
  {
   "cell_type": "code",
   "execution_count": null,
   "id": "6ad22cbf",
   "metadata": {},
   "outputs": [],
   "source": [
    "#q3\n",
    "def str_join(myList,f):\n",
    "    lambda_func = lambda x:x+f\n",
    "    return list(map(lambda_func,myList))\n",
    "str_join(['a','b','c'],'@')"
   ]
  },
  {
   "cell_type": "code",
   "execution_count": null,
   "id": "0640a1a9",
   "metadata": {},
   "outputs": [],
   "source": [
    "#q4\n",
    "def str_string(newList):\n",
    "    \n",
    "    e=tuple(set(map(upperLower,newList)))\n",
    "    return e"
   ]
  },
  {
   "cell_type": "code",
   "execution_count": null,
   "id": "9a6a3e8b",
   "metadata": {},
   "outputs": [],
   "source": [
    "def upperLower(r):\n",
    "    return r.lower(),r.upper()"
   ]
  },
  {
   "cell_type": "code",
   "execution_count": null,
   "id": "90b8585b",
   "metadata": {},
   "outputs": [],
   "source": [
    "str_string(['f','a','b','b'])"
   ]
  },
  {
   "cell_type": "code",
   "execution_count": null,
   "id": "afff5c18",
   "metadata": {},
   "outputs": [],
   "source": [
    "#q5\n",
    "import csv\n",
    "with open('mpg.csv') as csv_file:\n",
    "    mpg = list(csv.DictReader(csv_file))\n",
    "mpg"
   ]
  },
  {
   "cell_type": "code",
   "execution_count": null,
   "id": "3d086a9c",
   "metadata": {},
   "outputs": [],
   "source": [
    "#q6\n",
    "\n",
    "def find_index(indList,numb ):\n",
    "    empList = []\n",
    "    for ind,x in enumerate(indList):\n",
    "        if x==numb:\n",
    "            empList.append(ind)\n",
    "    return empList\n",
    "find_index([10,11,12,18,12,3,12,9,8,12],12)"
   ]
  },
  {
   "cell_type": "code",
   "execution_count": null,
   "id": "da965967",
   "metadata": {},
   "outputs": [],
   "source": [
    "#q7\n",
    "\n",
    "def func_dict():\n",
    "    myBook={\n",
    "    \"@context\": \"http:\\u002F\\u002Fschema.org\",\n",
    "    \"@type\":\"LodgingBusiness\",\n",
    "    \"name\":\"Seabree ze Holiday Park\",\n",
    "    \"url\":\"\\u002FHotel_Review-g4475485-d2207450-Reviews- Seabreeze_Holiday_Park- Whenuakite_Coromandel_Peninsula_Waikato_Region_North_Island.html\",\n",
    "    \"image\":\"https:\\u002F\\u002Fmedia-cdn.tripadvisor.com\\u002Fmedia\\u002Fphoto- s\\u002F09\\u002F66\\u002Fa0\\u002F92\\u002Fseabreeze-holiday-park.jpg\",\n",
    "    \"priceRange\":\"$(Based on Average Nightly Rates for a Standard Room from our Partners)\",\n",
    "    \"aggregateRating\":{ \n",
    "        \"@type\":\"AggregateRating\",\n",
    "        \"ratingValue\":\"3.5\",\n",
    "        \"reviewCount\":\"152\"\n",
    "        },\n",
    "    \"address\":{\n",
    "        \"@type\":\"PostalAddress\",\n",
    "        \"streetAddress\":\"1043 Tairua Whitianga RoadSh25\",\n",
    "        \"addressLocality\":\"Whenuakite\",\n",
    "        \"addressRegion\":\"NorthIsland\",\n",
    "        \"postalCode\":\"3591\",\n",
    "        \"addressCountry\":{\n",
    "            \"@type\":\"Country\",\n",
    "            \"name\":\"New Zealand\"\n",
    "            }\n",
    "    }   \n",
    "}\n",
    "    requiredParameters = ['address','addressCountry','name']\n",
    "            \n",
    "    for _ in myBook:\n",
    "        x=myBook[_]\n",
    "    return x\n",
    "func_dict()"
   ]
  },
  {
   "cell_type": "code",
   "execution_count": null,
   "id": "4a368f78",
   "metadata": {},
   "outputs": [],
   "source": []
  }
 ],
 "metadata": {
  "kernelspec": {
   "display_name": "Python 3",
   "language": "python",
   "name": "python3"
  },
  "language_info": {
   "codemirror_mode": {
    "name": "ipython",
    "version": 3
   },
   "file_extension": ".py",
   "mimetype": "text/x-python",
   "name": "python",
   "nbconvert_exporter": "python",
   "pygments_lexer": "ipython3",
   "version": "3.8.8"
  }
 },
 "nbformat": 4,
 "nbformat_minor": 5
}
