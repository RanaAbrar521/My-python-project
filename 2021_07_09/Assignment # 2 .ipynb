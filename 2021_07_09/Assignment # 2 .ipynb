{
 "cells": [
  {
   "cell_type": "markdown",
   "id": "db08edb1",
   "metadata": {},
   "source": [
    " Q#7\n"
   ]
  },
  {
   "cell_type": "code",
   "execution_count": null,
   "id": "6b79fc01",
   "metadata": {},
   "outputs": [],
   "source": [
    "# function name = get_data from a dictionary\n",
    "\n",
    "## pass list of keys like this. [‘address’, ‘addressCountry’, ‘name’]\n",
    "\n",
    "## output  country name  New Zealand\n",
    "\n",
    "## if-else\n",
    "\n",
    "## adress country \n",
    "# loop in list\n",
    "## nested dict\n"
   ]
  },
  {
   "cell_type": "code",
   "execution_count": 5,
   "id": "4dc31b06",
   "metadata": {},
   "outputs": [],
   "source": [
    "Dict1 = {\"@context\":\"http:\\u002F\\u002Fschema.org\",\"@type\":\"LodgingBusiness\",\"name\":\"SeabreezeHolidayPark\",\"url\":\"\\u002FHotel_Review-g4475485-d2207450-Reviews-Seabreeze_Holiday_Park-Whenuakite_Coromandel_Peninsula_Waikato_Region_North_Island.html\",\"image\":\"https:\\\n",
    "u002F\\u002Fmedia-cdn.tripadvisor.com\\u002Fmedia\\u002Fphoto-s\\u002F09\\u002F66\\u002Fa0\\u002F92\\u002Fseabreeze-holiday-park.jpg\",\"priceRange\":\"$(Based on Average Nightly Rates for a Standard Room from ourPartners)\",\"aggregateRating\":{\"@type\":\"AggregateRating\",\"ratingValue\":\"3.5\",\"reviewCount\":\"152\"},\"address\":{\"@type\":\"PostalAddress\",\"streetAddress\":\"1043 Tairua Whitianga RoadSh25\",\"addressLocality\":\"Whenuakite\",\"addressRegion\":\"NorthIsland\",\"postalCode\":\"3591\",\"addressCountry\":{\"@type\":\"Country\",\"name\":\"NewZealand\"}}}\n",
    "\n",
    "\n"
   ]
  },
  {
   "cell_type": "code",
   "execution_count": 13,
   "id": "829166f2",
   "metadata": {},
   "outputs": [],
   "source": [
    "def Get_Data_from_Dict(Dict1):\n",
    "    for item in Dict1['address']:\n",
    "        for i in item:  \n",
    "            for j in i:\n",
    "                if Dict1['address']['addressCountry']['name'] == 'NewZealand':\n",
    "                    return \"NewZealand\"\n",
    "                else:\n",
    "                    return \"Not Exist\""
   ]
  },
  {
   "cell_type": "code",
   "execution_count": 14,
   "id": "fdc87d2d",
   "metadata": {},
   "outputs": [
    {
     "data": {
      "text/plain": [
       "'Not Exist'"
      ]
     },
     "execution_count": 14,
     "metadata": {},
     "output_type": "execute_result"
    }
   ],
   "source": [
    "Get_Data_from_Dict(Dict1)"
   ]
  },
  {
   "cell_type": "code",
   "execution_count": null,
   "id": "b84f21b0",
   "metadata": {},
   "outputs": [],
   "source": []
  },
  {
   "cell_type": "code",
   "execution_count": null,
   "id": "164a8921",
   "metadata": {},
   "outputs": [],
   "source": []
  }
 ],
 "metadata": {
  "kernelspec": {
   "display_name": "Python 3",
   "language": "python",
   "name": "python3"
  },
  "language_info": {
   "codemirror_mode": {
    "name": "ipython",
    "version": 3
   },
   "file_extension": ".py",
   "mimetype": "text/x-python",
   "name": "python",
   "nbconvert_exporter": "python",
   "pygments_lexer": "ipython3",
   "version": "3.8.8"
  }
 },
 "nbformat": 4,
 "nbformat_minor": 5
}
