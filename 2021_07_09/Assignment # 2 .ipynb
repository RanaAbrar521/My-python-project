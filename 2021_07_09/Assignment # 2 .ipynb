{
 "cells": [
  {
   "cell_type": "markdown",
   "id": "f812f198",
   "metadata": {},
   "source": [
    " Q#7\n"
   ]
  },
  {
   "cell_type": "code",
   "execution_count": 4,
   "id": "2808b213",
   "metadata": {},
   "outputs": [],
   "source": [
    "# function name = get_data from a dictionary\n",
    "\n",
    "## pass list of keys like this. [‘address’, ‘addressCountry’, ‘name’]\n",
    "\n",
    "## output  country name  New Zealand\n",
    "\n",
    "## if-else\n",
    "\n",
    "## adress country \n",
    "# loop in list\n",
    "## nested dict\n"
   ]
  },
  {
   "cell_type": "code",
   "execution_count": 5,
   "id": "16d43d22",
   "metadata": {},
   "outputs": [],
   "source": [
    "Dict1 = {\"@context\":\"http:\\u002F\\u002Fschema.org\",\"@type\":\"LodgingBusiness\",\"name\":\"SeabreezeHolidayPark\",\"url\":\"\\u002FHotel_Review-g4475485-d2207450-Reviews-Seabreeze_Holiday_Park-Whenuakite_Coromandel_Peninsula_Waikato_Region_North_Island.html\",\"image\":\"https:\\\n",
    "u002F\\u002Fmedia-cdn.tripadvisor.com\\u002Fmedia\\u002Fphoto-s\\u002F09\\u002F66\\u002Fa0\\u002F92\\u002Fseabreeze-holiday-park.jpg\",\"priceRange\":\"$(Based on Average Nightly Rates for a Standard Room from ourPartners)\",\"aggregateRating\":{\"@type\":\"AggregateRating\",\"ratingValue\":\"3.5\",\"reviewCount\":\"152\"},\"address\":{\"@type\":\"PostalAddress\",\"streetAddress\":\"1043 Tairua Whitianga RoadSh25\",\"addressLocality\":\"Whenuakite\",\"addressRegion\":\"NorthIsland\",\"postalCode\":\"3591\",\"addressCountry\":{\"@type\":\"Country\",\"name\":\"NewZealand\"}}}\n",
    "\n",
    "\n"
   ]
  },
  {
   "cell_type": "code",
   "execution_count": 6,
   "id": "ba9751c6",
   "metadata": {},
   "outputs": [],
   "source": [
    "my_list = ['address','addressCountry','name']\n",
    "def Get_Data_from_Dict(Dict1):\n",
    "    for i in my_list:\n",
    "        if i in Dict1:\n",
    "            Dict1 = Dict1[i]\n",
    "        else:\n",
    "            return 'Not Found'\n",
    "    return Dict1"
   ]
  },
  {
   "cell_type": "code",
   "execution_count": 7,
   "id": "5b314670",
   "metadata": {},
   "outputs": [
    {
     "data": {
      "text/plain": [
       "'NewZealand'"
      ]
     },
     "execution_count": 7,
     "metadata": {},
     "output_type": "execute_result"
    }
   ],
   "source": [
    "Get_Data_from_Dict(Dict1)"
   ]
  },
  {
   "cell_type": "code",
   "execution_count": null,
   "id": "4b7e464f",
   "metadata": {},
   "outputs": [],
   "source": []
  },
  {
   "cell_type": "code",
   "execution_count": null,
   "id": "8ca9f354",
   "metadata": {},
   "outputs": [],
   "source": []
  }
 ],
 "metadata": {
  "kernelspec": {
   "display_name": "Python 3",
   "language": "python",
   "name": "python3"
  },
  "language_info": {
   "codemirror_mode": {
    "name": "ipython",
    "version": 3
   },
   "file_extension": ".py",
   "mimetype": "text/x-python",
   "name": "python",
   "nbconvert_exporter": "python",
   "pygments_lexer": "ipython3",
   "version": "3.8.8"
  }
 },
 "nbformat": 4,
 "nbformat_minor": 5
}
