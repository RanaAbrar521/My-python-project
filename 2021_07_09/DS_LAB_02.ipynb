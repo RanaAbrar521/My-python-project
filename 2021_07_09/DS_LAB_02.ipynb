{
 "cells": [
  {
   "cell_type": "markdown",
   "id": "9660fd52-7c1d-4763-8f5d-ebbc14ddc04e",
   "metadata": {},
   "source": [
    "## Q1 Write a function to get data from a dictionary.\n",
    "\n",
    "Let’s say this is the dictionary and I want you to get country name so we will pass list of keys like\n",
    "this. [‘address’, ‘addressCountry’, ‘name’], function should return “New Zealand”. Your function\n",
    "should be generaic, we can pass any dictionary and any list of keys according to that and if the\n",
    "data doesn’t exist then return default value we pass when we call the function.\n",
    "Sample Dictionary:\n",
    "\n",
    "{\"@context\":\"http:\\u002F\\u002Fschema.org\",\"@type\":\"LodgingBusiness\",\"name\":\"Seabreeze Holiday Park\",\"url\":\"\\u002FHotel_Review-g4475485-d2207450-Reviews-\n",
    "Seabreeze_Holiday_Park-Whenuakite_Coromandel_Peninsula_Waikato_Region_North_Island.html\",\"image\":\"https:\\u002F\\u002Fmedia-cdn.tripadvisor.com\\u002Fmedia\\u002Fphoto-\n",
    "s\\u002F09\\u002F66\\u002Fa0\\u002F92\\u002Fseabreeze-holiday-park.jpg\",\"priceRange\":\"$(Based on Average Nightly Rates for a Standard Room from our\n",
    "Partners)\",\"aggregateRating\":{\"@type\":\"AggregateRating\",\"ratingValue\":\"3.5\",\"reviewCount\":\"152\"},\"address\":{\"@type\":\"PostalAddress\",\"streetAddress\":\"1043 Tairua Whitianga Road\n",
    "Sh25\",\"addressLocality\":\"Whenuakite\",\"addressRegion\":\"NorthIsland\",\"postalCode\":\"3591\",\"addressCountry\":{\"@type\":\"Country\",\"name\":\"New Zealand\"}}}"
   ]
  },
  {
   "cell_type": "code",
   "execution_count": 1,
   "id": "80c60591-1b40-44e9-bd1d-6cdee42e2e71",
   "metadata": {},
   "outputs": [],
   "source": [
    "def get_value(sample_dict, keys_list, on_error=\"Not Found\"):\n",
    "    for key in keys_list:\n",
    "        if key in sample_dict:\n",
    "            sample_dict = sample_dict[key]\n",
    "        else:\n",
    "            return on_error\n",
    "    return sample_dict"
   ]
  },
  {
   "cell_type": "code",
   "execution_count": 2,
   "id": "1ea2c9a0-6685-4250-8b02-7e38921c01df",
   "metadata": {},
   "outputs": [
    {
     "name": "stdout",
     "output_type": "stream",
     "text": [
      "New Zealand\n"
     ]
    }
   ],
   "source": [
    "sample_dict = {\"name\":\"Sea Park\",\"priceRange\":\"$1000\",\"address\":{\"postalCode\":\"3591\",\"addressCountry\":{\"@type\":\"Country\",\"name\":\"New Zealand\"}}}\n",
    "keys_list =  [\"address\", \"addressCountry\", \"name\"]\n",
    "\n",
    "result = get_value(sample_dict, keys_list)\n",
    "print(result)"
   ]
  },
  {
   "cell_type": "code",
   "execution_count": null,
   "id": "c24c8567-f892-47c1-95fb-ddd85c44f740",
   "metadata": {},
   "outputs": [],
   "source": []
  }
 ],
 "metadata": {
  "kernelspec": {
   "display_name": "Python 3 (ipykernel)",
   "language": "python",
   "name": "python3"
  },
  "language_info": {
   "codemirror_mode": {
    "name": "ipython",
    "version": 3
   },
   "file_extension": ".py",
   "mimetype": "text/x-python",
   "name": "python",
   "nbconvert_exporter": "python",
   "pygments_lexer": "ipython3",
   "version": "3.9.6"
  }
 },
 "nbformat": 4,
 "nbformat_minor": 5
}
