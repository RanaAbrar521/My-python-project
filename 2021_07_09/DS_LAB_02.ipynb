{
 "cells": [
  {
   "cell_type": "markdown",
   "id": "67c42f2d-c0e0-4b00-a5fb-c2970ca53e87",
   "metadata": {},
   "source": [
    "# Question # 01\n",
    "\n",
    "# Dictionary\n",
    "# Get Country Name\n",
    "# Pass list of keys [‘address’, ‘addressCountry’, ‘name’]\n",
    "# Return Country Name\n",
    "# Default Values\n",
    "# Find key for country_name\n",
    "# Get value against country_name\n",
    "# Main Dictionary\n",
    "# country_name_sample_dict =  {\"addressCountry\":{\"@type\":\"Country\",\"name\":\"New Zealand\"}}\n",
    "\n",
    "# Sample\n",
    "# \"address\":{\"@type\":\"PostalAddress\",\"streetAddress\":\"1043 Tairua Whitianga Road Sh25\",\"addressLocality\":\"Whenuakite\",\"addressRegion\":\"North\n",
    "# Island\",\"postalCode\":\"3591\",\"addressCountry\":{\"@type\":\"Country\",\"name\":\"New Zealand\"}}}\n"
   ]
  },
  {
   "cell_type": "code",
   "execution_count": 19,
   "id": "ca6a2dda-9724-42cd-bada-f3c1f00a74d1",
   "metadata": {},
   "outputs": [
    {
     "name": "stdout",
     "output_type": "stream",
     "text": [
      "{'postalCode': '3591', 'addressCountry': {'@type': 'Country', 'name': 'New Zealand'}}\n"
     ]
    }
   ],
   "source": [
    "def get_country(sample_dict,keys_list):\n",
    "    for key in keys_list:\n",
    "        if key in sample_dict.keys():\n",
    "            return sample_dict.get(key)\n",
    "        \n",
    "\n",
    "sample_dict = {\"name\":\"Sea Park\",\"priceRange\":\"$1000\",\"address\":{\"postalCode\":\"3591\",\"addressCountry\":{\"@type\":\"Country\",\"name\":\"New Zealand\"}}}\n",
    "keys_list =  [\"address\", \"addressCountry\", \"name\"]\n",
    "result = get_country(sample_dict,keys_list)\n",
    "print(result)\n"
   ]
  },
  {
   "cell_type": "code",
   "execution_count": null,
   "id": "dccd4ce6-abbf-4611-8918-b4aecb90ca32",
   "metadata": {},
   "outputs": [],
   "source": []
  }
 ],
 "metadata": {
  "kernelspec": {
   "display_name": "Python 3",
   "language": "python",
   "name": "python3"
  },
  "language_info": {
   "codemirror_mode": {
    "name": "ipython",
    "version": 3
   },
   "file_extension": ".py",
   "mimetype": "text/x-python",
   "name": "python",
   "nbconvert_exporter": "python",
   "pygments_lexer": "ipython3",
   "version": "3.9.5"
  }
 },
 "nbformat": 4,
 "nbformat_minor": 5
}
