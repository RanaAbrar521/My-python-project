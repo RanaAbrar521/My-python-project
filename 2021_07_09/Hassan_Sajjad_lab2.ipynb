{
 "cells": [
  {
   "cell_type": "code",
   "execution_count": 1,
   "id": "94bd2626",
   "metadata": {},
   "outputs": [
    {
     "name": "stdout",
     "output_type": "stream",
     "text": [
      "{'postalCode': '3591', 'addressCountry': {'@type': 'Country', 'name': 'New Zealand'}}\n"
     ]
    }
   ],
   "source": [
    "#Question No 07\n",
    "def get_country(sample_dict,keys_list):\n",
    "    for key in keys_list:\n",
    "        if key in sample_dict.keys():\n",
    "            return sample_dict.get(key)\n",
    "        \n",
    "\n",
    "sample_dict = {\"name\":\"Sea Park\",\"priceRange\":\"$1000\",\"address\":{\"postalCode\":\"3591\",\"addressCountry\":{\"@type\":\"Country\",\"name\":\"New Zealand\"}}}\n",
    "keys_list =  [\"address\", \"addressCountry\", \"name\"]\n",
    "result = get_country(sample_dict,keys_list)\n",
    "print(result)\n"
   ]
  },
  {
   "cell_type": "code",
   "execution_count": null,
   "id": "eb2a68ce",
   "metadata": {},
   "outputs": [],
   "source": [
    "def get_data(I,params):\n",
    "for I in params:\n",
    "    if I in x:\n",
    "        X=x[I]\n",
    "    else:\n",
    "        (\"Not found\")\n",
    "\n",
    "get_data()"
   ]
  }
 ],
 "metadata": {
  "kernelspec": {
   "display_name": "Python 3 (ipykernel)",
   "language": "python",
   "name": "python3"
  },
  "language_info": {
   "codemirror_mode": {
    "name": "ipython",
    "version": 3
   },
   "file_extension": ".py",
   "mimetype": "text/x-python",
   "name": "python",
   "nbconvert_exporter": "python",
   "pygments_lexer": "ipython3",
   "version": "3.7.10"
  }
 },
 "nbformat": 4,
 "nbformat_minor": 5
}
