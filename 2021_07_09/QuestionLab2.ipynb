{
 "cells": [
  {
   "cell_type": "code",
   "execution_count": 45,
   "id": "d96a5393",
   "metadata": {},
   "outputs": [],
   "source": [
    "dicti = {\"@context\":\"http:\\u002F\\u002Fschema.org\",\"@type\":\"LodgingBusiness\",\"name\":\"Seabreeze Holiday Park\",\"url\":\"\\u002FHotel_Review-g4475485-d2207450-ReviewsSeabreeze_Holiday_ParkWhenuakite_Coromandel_Peninsula_Waikato_Region_North_Island.html\",\"image\":\"https:\\u002F\\u002Fmedia-cdn.tripadvisor.com\\u002Fmedia\\u002Fphotos\\u002F09\\u002F66\\u002Fa0\\u002F92\\u002Fseabreeze-holiday-park.jpg\",\"priceRange\":\"$(Based on Average Nightly Rates for a Standard Room from ourPartners)\",\"aggregateRating\":{\"@type\":\"AggregateRating\",\"ratingValue\":\"3.5\",\"reviewCount\":\"152\"},\"address\":{\"@type\":\"PostalAddress\",\"streetAddress\":\"1043 Tairua Whitianga RoadSh25\",\"addressLocality\":\"Whenuakite\",\"addressRegion\":\"NorthIsland\",\"postalCode\":\"3591\",\"addressCountry\":{\"@type\":\"Country\",\"name\":\"New Zealand\"}}}\n",
    "\n",
    "myList = ['address', 'addressCountry', 'name']"
   ]
  },
  {
   "cell_type": "code",
   "execution_count": 39,
   "id": "bdfee9d4",
   "metadata": {},
   "outputs": [],
   "source": [
    "_keys_ = dicti['address']['addressCountry']['name']\n",
    "\n",
    "_name_ = 'New Zealand'"
   ]
  },
  {
   "cell_type": "code",
   "execution_count": 37,
   "id": "769f6b17",
   "metadata": {},
   "outputs": [],
   "source": [
    "keys = dicti.keys()\n",
    "values = dicti.values()"
   ]
  },
  {
   "cell_type": "code",
   "execution_count": 22,
   "id": "5e09e2a9",
   "metadata": {},
   "outputs": [
    {
     "data": {
      "text/plain": [
       "dict_keys(['@context', '@type', 'name', 'url', 'image', 'priceRange', 'aggregateRating', 'address'])"
      ]
     },
     "execution_count": 22,
     "metadata": {},
     "output_type": "execute_result"
    }
   ],
   "source": [
    "keys"
   ]
  },
  {
   "cell_type": "code",
   "execution_count": 38,
   "id": "29dab513",
   "metadata": {},
   "outputs": [],
   "source": [
    "def get_city(dicti):\n",
    "    for i in dicti['address']:\n",
    "        for j in i:\n",
    "            for k in j:\n",
    "                if _keys_ == _name_:\n",
    "                    return _name_\n",
    "                else:\n",
    "                    return 'No City'\n",
    "    "
   ]
  },
  {
   "cell_type": "code",
   "execution_count": 41,
   "id": "6c6368ef",
   "metadata": {},
   "outputs": [
    {
     "data": {
      "text/plain": [
       "'New Zealand'"
      ]
     },
     "execution_count": 41,
     "metadata": {},
     "output_type": "execute_result"
    }
   ],
   "source": [
    "get_city(dicti)"
   ]
  },
  {
   "cell_type": "code",
   "execution_count": 70,
   "id": "15dd2276",
   "metadata": {},
   "outputs": [],
   "source": [
    "def get_country(dicti,myList):\n",
    "    for i in myList:\n",
    "        if myList in list(dicti.values()):\n",
    "            return 'New Zealand'\n",
    "        else:\n",
    "            return 'Not Found'\n",
    "    return dicti"
   ]
  },
  {
   "cell_type": "code",
   "execution_count": 71,
   "id": "4249414c",
   "metadata": {},
   "outputs": [
    {
     "data": {
      "text/plain": [
       "'Not Found'"
      ]
     },
     "execution_count": 71,
     "metadata": {},
     "output_type": "execute_result"
    }
   ],
   "source": [
    "get_country(dicti,myList)"
   ]
  },
  {
   "cell_type": "code",
   "execution_count": null,
   "id": "093387b9",
   "metadata": {},
   "outputs": [],
   "source": []
  }
 ],
 "metadata": {
  "kernelspec": {
   "display_name": "Python 3",
   "language": "python",
   "name": "python3"
  },
  "language_info": {
   "codemirror_mode": {
    "name": "ipython",
    "version": 3
   },
   "file_extension": ".py",
   "mimetype": "text/x-python",
   "name": "python",
   "nbconvert_exporter": "python",
   "pygments_lexer": "ipython3",
   "version": "3.7.10"
  }
 },
 "nbformat": 4,
 "nbformat_minor": 5
}
