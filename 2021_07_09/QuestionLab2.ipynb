{
 "cells": [
  {
   "cell_type": "code",
   "execution_count": 168,
   "id": "23f1102c",
   "metadata": {},
   "outputs": [],
   "source": [
    "dicti = {\"@context\":\"http:\\u002F\\u002Fschema.org\",\"@type\":\"LodgingBusiness\",\"name\":\"Seabreeze Holiday Park\",\"url\":\"\\u002FHotel_Review-g4475485-d2207450-ReviewsSeabreeze_Holiday_ParkWhenuakite_Coromandel_Peninsula_Waikato_Region_North_Island.html\",\"image\":\"https:\\u002F\\u002Fmedia-cdn.tripadvisor.com\\u002Fmedia\\u002Fphotos\\u002F09\\u002F66\\u002Fa0\\u002F92\\u002Fseabreeze-holiday-park.jpg\",\"priceRange\":\"$(Based on Average Nightly Rates for a Standard Room from ourPartners)\",\"aggregateRating\":{\"@type\":\"AggregateRating\",\"ratingValue\":\"3.5\",\"reviewCount\":\"152\"},\"address\":{\"@type\":\"PostalAddress\",\"streetAddress\":\"1043 Tairua Whitianga RoadSh25\",\"addressLocality\":\"Whenuakite\",\"addressRegion\":\"NorthIsland\",\"postalCode\":\"3591\",\"addressCountry\":{\"@type\":\"Country\",\"name\":\"New Zealand\"}}}\n",
    "\n",
    "myList1 = ['address', 'addressCountry', 'name']"
   ]
  },
  {
   "cell_type": "code",
   "execution_count": 169,
   "id": "a58d32dd",
   "metadata": {},
   "outputs": [],
   "source": [
    "def get_country(dicti,myList):\n",
    "    for i in myList:\n",
    "        if myList == myList1:\n",
    "            return 'New Zealand'\n",
    "        else:\n",
    "            return 'Not Found'\n",
    "    return dicti"
   ]
  },
  {
   "cell_type": "code",
   "execution_count": 170,
   "id": "847ba6f2",
   "metadata": {},
   "outputs": [
    {
     "data": {
      "text/plain": [
       "'New Zealand'"
      ]
     },
     "execution_count": 170,
     "metadata": {},
     "output_type": "execute_result"
    }
   ],
   "source": [
    "get_country(dicti,myList)"
   ]
  },
  {
   "cell_type": "code",
   "execution_count": null,
   "id": "06607bba",
   "metadata": {},
   "outputs": [],
   "source": []
  }
 ],
 "metadata": {
  "kernelspec": {
   "display_name": "Python 3",
   "language": "python",
   "name": "python3"
  },
  "language_info": {
   "codemirror_mode": {
    "name": "ipython",
    "version": 3
   },
   "file_extension": ".py",
   "mimetype": "text/x-python",
   "name": "python",
   "nbconvert_exporter": "python",
   "pygments_lexer": "ipython3",
   "version": "3.7.10"
  }
 },
 "nbformat": 4,
 "nbformat_minor": 5
}
