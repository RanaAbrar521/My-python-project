{
 "cells": [
  {
   "cell_type": "code",
   "execution_count": 2,
   "id": "96f6e8d3",
   "metadata": {},
   "outputs": [
    {
     "data": {
      "text/plain": [
       "'New Zealand'"
      ]
     },
     "execution_count": 2,
     "metadata": {},
     "output_type": "execute_result"
    }
   ],
   "source": [
    "### function func_dict() ...\n",
    "### return country name\n",
    "### param = ['address','addressCountry','name'] ....\n",
    "### if !present\n",
    "### return default \n",
    "\n",
    "\n",
    "myBook={\n",
    "    \"@context\": \"http:\\u002F\\u002Fschema.org\",\n",
    "    \"@type\":\"LodgingBusiness\",\n",
    "    \"name\":\"Seabree ze Holiday Park\",\n",
    "    \"url\":\"\\u002FHotel_Review-g4475485-d2207450-Reviews- Seabreeze_Holiday_Park- Whenuakite_Coromandel_Peninsula_Waikato_Region_North_Island.html\",\n",
    "    \"image\":\"https:\\u002F\\u002Fmedia-cdn.tripadvisor.com\\u002Fmedia\\u002Fphoto- s\\u002F09\\u002F66\\u002Fa0\\u002F92\\u002Fseabreeze-holiday-park.jpg\",\n",
    "    \"priceRange\":\"$(Based on Average Nightly Rates for a Standard Room from our Partners)\",\n",
    "    \"aggregateRating\":{ \n",
    "        \"@type\":\"AggregateRating\",\n",
    "        \"ratingValue\":\"3.5\",\n",
    "        \"reviewCount\":\"152\"\n",
    "        },\n",
    "    \"address\":{\n",
    "        \"@type\":\"PostalAddress\",\n",
    "        \"streetAddress\":\"1043 Tairua Whitianga RoadSh25\",\n",
    "        \"addressLocality\":\"Whenuakite\",\n",
    "        \"addressRegion\":\"NorthIsland\",\n",
    "        \"postalCode\":\"3591\",\n",
    "        \"addressCountry\":{\n",
    "            \"@type\":\"Country\",\n",
    "            \"name\":\"New Zealand\"\n",
    "            }\n",
    "    }   \n",
    "}\n",
    "\n",
    "requiredParameters = ['address','addressCountry','name']\n",
    "\n",
    "def book_func(myDict,params,defaultValue):\n",
    "    x=myDict\n",
    "    for i in params:\n",
    "        if i in x:\n",
    "            x=x[i]\n",
    "        else:\n",
    "            return defaultValue\n",
    "    return x\n",
    "\n",
    "book_func(myBook,requiredParameters,'not Found')"
   ]
  },
  {
   "cell_type": "code",
   "execution_count": null,
   "id": "3c757a29",
   "metadata": {},
   "outputs": [],
   "source": []
  }
 ],
 "metadata": {
  "kernelspec": {
   "display_name": "Python 3",
   "language": "python",
   "name": "python3"
  },
  "language_info": {
   "codemirror_mode": {
    "name": "ipython",
    "version": 3
   },
   "file_extension": ".py",
   "mimetype": "text/x-python",
   "name": "python",
   "nbconvert_exporter": "python",
   "pygments_lexer": "ipython3",
   "version": "3.8.8"
  }
 },
 "nbformat": 4,
 "nbformat_minor": 5
}
