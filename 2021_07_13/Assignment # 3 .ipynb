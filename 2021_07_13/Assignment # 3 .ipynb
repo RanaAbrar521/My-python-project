{
 "cells": [
  {
   "cell_type": "code",
   "execution_count": 32,
   "id": "b7f7effa",
   "metadata": {},
   "outputs": [],
   "source": [
    "class Student:\n",
    "    def __init__(self, name, batch_no,Address, courses = [], Courses_score = []):        \n",
    "        self.name = name\n",
    "        self.batch_no = batch_no\n",
    "        self.courses = courses\n",
    "        self.Address = Address\n",
    "        self.courses = courses\n",
    "        self.Courses_score = Courses_score\n",
    "        \n",
    "    def set_name(self,name):\n",
    "        self.name = name \n",
    "    def set_batch_no(self,batch_no):\n",
    "        self.batch_no = batch_no \n",
    "    def set_Address(self,Address):\n",
    "        self.Address = Address\n",
    "    def set_courses(self,courses):\n",
    "        self.courses = courses\n",
    "    def set_Courses_score(self, list_of_dict):\n",
    "        for key in list_of_dict:\n",
    "            if key in self.courses:\n",
    "                self.Courses_score.append(key)\n",
    "\n",
    "        \n",
    "    def get_name(self):\n",
    "        return self.name\n",
    "    def get_batch_no(self):\n",
    "        return self.batch_no\n",
    "    def courses(self):\n",
    "        return self.courses\n",
    "    def get_name(self):\n",
    "        return self.name\n",
    "    def get_Courses_score(self):\n",
    "        return self.Courses_score\n",
    "\n",
    "        \n",
    "        \n",
    "        \n",
    "        "
   ]
  },
  {
   "cell_type": "code",
   "execution_count": 33,
   "id": "2fd55134",
   "metadata": {},
   "outputs": [],
   "source": [
    "e = Student('iqra',1, 'SWL',courses = ['python','java'])"
   ]
  },
  {
   "cell_type": "code",
   "execution_count": 34,
   "id": "00114081",
   "metadata": {},
   "outputs": [
    {
     "data": {
      "text/plain": [
       "['python']"
      ]
     },
     "execution_count": 34,
     "metadata": {},
     "output_type": "execute_result"
    }
   ],
   "source": [
    "e.set_Courses_score(['python'])\n",
    "e.get_Courses_score()"
   ]
  },
  {
   "cell_type": "code",
   "execution_count": null,
   "id": "21bf4ee0",
   "metadata": {},
   "outputs": [],
   "source": []
  },
  {
   "cell_type": "code",
   "execution_count": null,
   "id": "1e911e6c",
   "metadata": {},
   "outputs": [],
   "source": []
  },
  {
   "cell_type": "code",
   "execution_count": null,
   "id": "ed6ab833",
   "metadata": {},
   "outputs": [],
   "source": []
  }
 ],
 "metadata": {
  "kernelspec": {
   "display_name": "Python 3",
   "language": "python",
   "name": "python3"
  },
  "language_info": {
   "codemirror_mode": {
    "name": "ipython",
    "version": 3
   },
   "file_extension": ".py",
   "mimetype": "text/x-python",
   "name": "python",
   "nbconvert_exporter": "python",
   "pygments_lexer": "ipython3",
   "version": "3.8.8"
  }
 },
 "nbformat": 4,
 "nbformat_minor": 5
}
