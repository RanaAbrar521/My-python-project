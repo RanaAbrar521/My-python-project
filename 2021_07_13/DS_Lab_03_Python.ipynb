{
 "cells": [
  {
   "cell_type": "markdown",
   "id": "a4e5afa2-9ea0-4ae0-bbd3-7986fce815f9",
   "metadata": {},
   "source": [
    "### Q1. Create a class Student with the following getters and setters\n",
    "1. Constructor\n",
    "a. Create an Object with following parameters\n",
    "i. Name\n",
    "ii. Batch No\n",
    "iii. Address\n",
    "iv. Courses (save empty List)\n",
    "v. Courses_score (Save empty List)\n",
    "\n",
    "2. Setters\n",
    "a. Name (Str)\n",
    "b. Batch No (Int)\n",
    "c. Courses (list)\n",
    "d. Address (str)\n",
    "e. Courses scores (list of dictionaries) (Bonus)\n",
    "i. [{“course”: datascience,” marks”:30},{“course”:python,”marks”:30} ]\n",
    "ii. If the course name does not exist in the courses list, then it should not\n",
    "be inserted in courses_scores list of dictionaries\n",
    "\n",
    "3. Getters\n",
    "a. Name\n",
    "b. Batch No\n",
    "c. Courses\n",
    "d. Address\n",
    "e. Courses Scores (Bonus)"
   ]
  },
  {
   "cell_type": "code",
   "execution_count": 204,
   "id": "da6046e4-2028-478b-b249-4d1399e1a695",
   "metadata": {},
   "outputs": [],
   "source": [
    "class Student:\n",
    "    \n",
    "#     Class constructor\n",
    "    def __init__(self, name, batch_no, address, courses=[], courses_score=[]):\n",
    "        self.name = name\n",
    "        self.batch_no = int(batch_no)\n",
    "        self.address = address\n",
    "        self.courses = courses\n",
    "        self.courses_score = courses_score\n",
    "        \n",
    "        self.course_summary = []\n",
    "        self.res = {}\n",
    "        \n",
    "        \n",
    "    \n",
    "#     Setters\n",
    "    def set_name(self,name):\n",
    "        self.name = name\n",
    "        \n",
    "    def set_batch_no(self,batch_no):\n",
    "        self.batch_no = int(batch_no)\n",
    "        \n",
    "    def set_address(self,address):\n",
    "        self.address = address\n",
    "        \n",
    "    def set_courses(self,courses):\n",
    "        self.courses = courses\n",
    "        \n",
    "    def set_courses_score(self,course_name, course_marks):\n",
    "        if course_name in self.courses:\n",
    "#             self.res[course_name] = course_marks\n",
    "            self.course_summary.append({\"Course\":course_name, \"Marks\":course_marks})\n",
    "#             self.course_summary.append(tem_course)\n",
    "#         self.courses = self.courses\n",
    "#         self.courses_score = courses_score\n",
    "        \n",
    "#         for course in self.courses:\n",
    "#             for marks in courses_score:\n",
    "#                 self.res[course] = marks\n",
    "                \n",
    "#         print(self.res)\n",
    "                        \n",
    "        \n",
    "        \n",
    "#     Getters\n",
    "    def get_name(self):\n",
    "        return self.name\n",
    "        \n",
    "    def get_batch_no(self):\n",
    "        return self.batch_no\n",
    "        \n",
    "    def get_address(self):\n",
    "        return self.address\n",
    "        \n",
    "    def get_courses(self):\n",
    "        return self.courses\n",
    "        \n",
    "    def get_courses_score(self):\n",
    "        return self.course_summary\n",
    "    \n"
   ]
  },
  {
   "cell_type": "code",
   "execution_count": 205,
   "id": "e484239b-4de2-4ba0-8974-03620f5c5494",
   "metadata": {},
   "outputs": [],
   "source": [
    "student_1 = Student(\"Arham\", \"4\", \"Sahiwal\", [\"Data Science\", \"Web Developement\", \"Python\"], [92, 90, 89])"
   ]
  },
  {
   "cell_type": "code",
   "execution_count": 206,
   "id": "64694516-1ae4-4e74-b090-c744cc8a6f6d",
   "metadata": {},
   "outputs": [],
   "source": [
    "student_1.set_courses_score(\"Data Science\", 95)"
   ]
  },
  {
   "cell_type": "code",
   "execution_count": 207,
   "id": "67fab213-04d9-42b5-b3d6-cfd099095525",
   "metadata": {},
   "outputs": [],
   "source": [
    "student_1.set_courses_score(\"Python\", 91)"
   ]
  },
  {
   "cell_type": "code",
   "execution_count": 208,
   "id": "4fc2b3d3-3040-40ff-abf7-d8e2974f6ed6",
   "metadata": {},
   "outputs": [],
   "source": [
    "student_1.set_courses_score(\"SE\", 85)"
   ]
  },
  {
   "cell_type": "code",
   "execution_count": 209,
   "id": "d1f48d8b-dba3-4d72-b654-7be5e044de86",
   "metadata": {},
   "outputs": [
    {
     "data": {
      "text/plain": [
       "[{'Course': 'Data Science', 'Marks': 95}, {'Course': 'Python', 'Marks': 91}]"
      ]
     },
     "execution_count": 209,
     "metadata": {},
     "output_type": "execute_result"
    }
   ],
   "source": [
    "student_1.get_courses_score()"
   ]
  },
  {
   "cell_type": "code",
   "execution_count": 210,
   "id": "8bfcf06d-6079-4c08-a0e6-5e3e37125953",
   "metadata": {},
   "outputs": [
    {
     "data": {
      "text/plain": [
       "['Data Science', 'Web Developement', 'Python']"
      ]
     },
     "execution_count": 210,
     "metadata": {},
     "output_type": "execute_result"
    }
   ],
   "source": [
    "student_1.get_courses()"
   ]
  },
  {
   "cell_type": "code",
   "execution_count": 211,
   "id": "364be26e-19a3-4a43-88a5-2ffd3e9a13dd",
   "metadata": {},
   "outputs": [],
   "source": [
    "student_1.set_batch_no(\"3\")"
   ]
  },
  {
   "cell_type": "code",
   "execution_count": 212,
   "id": "ec7941ad-62f6-4500-9a08-95d56f18150e",
   "metadata": {},
   "outputs": [
    {
     "data": {
      "text/plain": [
       "3"
      ]
     },
     "execution_count": 212,
     "metadata": {},
     "output_type": "execute_result"
    }
   ],
   "source": [
    "student_1.get_batch_no()"
   ]
  },
  {
   "cell_type": "code",
   "execution_count": null,
   "id": "88607143-2d28-4b88-b36b-2f732dea394b",
   "metadata": {},
   "outputs": [],
   "source": []
  }
 ],
 "metadata": {
  "kernelspec": {
   "display_name": "Python 3",
   "language": "python",
   "name": "python3"
  },
  "language_info": {
   "codemirror_mode": {
    "name": "ipython",
    "version": 3
   },
   "file_extension": ".py",
   "mimetype": "text/x-python",
   "name": "python",
   "nbconvert_exporter": "python",
   "pygments_lexer": "ipython3",
   "version": "3.9.5"
  }
 },
 "nbformat": 4,
 "nbformat_minor": 5
}
