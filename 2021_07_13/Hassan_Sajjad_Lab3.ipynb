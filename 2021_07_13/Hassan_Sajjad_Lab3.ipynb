{
 "cells": [
  {
   "cell_type": "code",
   "execution_count": null,
   "id": "a9bdedd8",
   "metadata": {},
   "outputs": [],
   "source": [
    "# class\n",
    "#constructor\n",
    "#getter\n",
    "#setter\n",
    "#if course not exist not add in course score"
   ]
  },
  {
   "cell_type": "code",
   "execution_count": 164,
   "id": "86c48d46",
   "metadata": {},
   "outputs": [],
   "source": [
    "class Student:\n",
    "    def __init__(self,name,batch,address,courses=[],score=[]):\n",
    "        self.name=name\n",
    "        self.batch=batch\n",
    "        self.address=address\n",
    "        self.courses=courses\n",
    "        self.score=score\n",
    "        \n",
    "        \n",
    "    def set_name(self,name):\n",
    "        self.name=name\n",
    "        \n",
    "    def set_batch(self,batch): \n",
    "        self.batch=batch\n",
    "        \n",
    "    def set_address(self,address):\n",
    "        self.address=address\n",
    "    \n",
    "    def set_courses(self,courses):\n",
    "        self.courses=courses    \n",
    "        \n",
    "    def set_score(self,score):\n",
    "        self.score=score\n",
    "        \n",
    "        my_list=['bio','physics']\n",
    "        new_course = 'english'\n",
    "        \n",
    "        if new_course not in my_list:\n",
    "            print(\"there is bug\")\n",
    "        else:\n",
    "            score.append(new_course)\n",
    "            \n",
    "        \n",
    "        \n",
    "        \n",
    "    \n",
    "    def get_name(self):\n",
    "        return self.name\n",
    "    \n",
    "    def get_batch(self):\n",
    "        return self.batch\n",
    "    \n",
    "    def get_address(self):\n",
    "        return self.address\n",
    "    \n",
    "    def get_courses(self):\n",
    "        return self.courses\n",
    "    \n",
    "    def get_score(self):\n",
    "        return self.score\n",
    "\n",
    "        \n",
    "\n",
    "obj = Student(\"Hassan\",2,[\"house no 3\"],[\"Bio\"],[\"datascience\"])\n",
    "    "
   ]
  },
  {
   "cell_type": "code",
   "execution_count": 136,
   "id": "0d1e6b15",
   "metadata": {},
   "outputs": [
    {
     "data": {
      "text/plain": [
       "<__main__.Student at 0x240bb16e7c8>"
      ]
     },
     "execution_count": 136,
     "metadata": {},
     "output_type": "execute_result"
    }
   ],
   "source": [
    "obj"
   ]
  },
  {
   "cell_type": "markdown",
   "id": "a48d9a52",
   "metadata": {},
   "source": [
    "# Setter"
   ]
  },
  {
   "cell_type": "code",
   "execution_count": 137,
   "id": "bcfb57bf",
   "metadata": {},
   "outputs": [],
   "source": [
    "obj.set_name(\"Hassan Sajjad\")\n"
   ]
  },
  {
   "cell_type": "code",
   "execution_count": 138,
   "id": "5f6e0ef6",
   "metadata": {},
   "outputs": [],
   "source": [
    "obj.set_batch(1)"
   ]
  },
  {
   "cell_type": "code",
   "execution_count": 139,
   "id": "ee5167a1",
   "metadata": {},
   "outputs": [],
   "source": [
    "obj.set_address(\"Lahore\")"
   ]
  },
  {
   "cell_type": "code",
   "execution_count": 144,
   "id": "ea40347d",
   "metadata": {},
   "outputs": [],
   "source": [
    "obj.set_courses(['bio','physics'])"
   ]
  },
  {
   "cell_type": "code",
   "execution_count": 165,
   "id": "485be2f1",
   "metadata": {},
   "outputs": [
    {
     "name": "stdout",
     "output_type": "stream",
     "text": [
      "there is bug\n"
     ]
    }
   ],
   "source": [
    "obj.set_score([{\"course\": 'bio',\" marks\":30},{\"course\":'physics',\"marks\":30}])"
   ]
  },
  {
   "cell_type": "markdown",
   "id": "8043a04a",
   "metadata": {},
   "source": [
    "# Now Getter"
   ]
  },
  {
   "cell_type": "code",
   "execution_count": 142,
   "id": "a722a536",
   "metadata": {},
   "outputs": [
    {
     "data": {
      "text/plain": [
       "'Hassan Sajjad'"
      ]
     },
     "execution_count": 142,
     "metadata": {},
     "output_type": "execute_result"
    }
   ],
   "source": [
    "obj.get_name()"
   ]
  },
  {
   "cell_type": "code",
   "execution_count": 98,
   "id": "72ac3b0f",
   "metadata": {},
   "outputs": [
    {
     "data": {
      "text/plain": [
       "1"
      ]
     },
     "execution_count": 98,
     "metadata": {},
     "output_type": "execute_result"
    }
   ],
   "source": [
    "obj.get_batch()"
   ]
  },
  {
   "cell_type": "code",
   "execution_count": 99,
   "id": "a204b16e",
   "metadata": {},
   "outputs": [
    {
     "data": {
      "text/plain": [
       "'Lahore'"
      ]
     },
     "execution_count": 99,
     "metadata": {},
     "output_type": "execute_result"
    }
   ],
   "source": [
    "obj.get_address()"
   ]
  },
  {
   "cell_type": "code",
   "execution_count": 150,
   "id": "bac56a26",
   "metadata": {},
   "outputs": [
    {
     "data": {
      "text/plain": [
       "['Bio']"
      ]
     },
     "execution_count": 150,
     "metadata": {},
     "output_type": "execute_result"
    }
   ],
   "source": [
    "obj.get_courses()"
   ]
  },
  {
   "cell_type": "code",
   "execution_count": 166,
   "id": "db21d11a",
   "metadata": {},
   "outputs": [
    {
     "data": {
      "text/plain": [
       "[{'course': 'bio', ' marks': 30}, {'course': 'physics', 'marks': 30}]"
      ]
     },
     "execution_count": 166,
     "metadata": {},
     "output_type": "execute_result"
    }
   ],
   "source": [
    "obj.get_score()"
   ]
  },
  {
   "cell_type": "code",
   "execution_count": null,
   "id": "ea657f9a",
   "metadata": {},
   "outputs": [],
   "source": []
  },
  {
   "cell_type": "code",
   "execution_count": null,
   "id": "f9ef850f",
   "metadata": {},
   "outputs": [],
   "source": []
  }
 ],
 "metadata": {
  "kernelspec": {
   "display_name": "Python 3 (ipykernel)",
   "language": "python",
   "name": "python3"
  },
  "language_info": {
   "codemirror_mode": {
    "name": "ipython",
    "version": 3
   },
   "file_extension": ".py",
   "mimetype": "text/x-python",
   "name": "python",
   "nbconvert_exporter": "python",
   "pygments_lexer": "ipython3",
   "version": "3.7.10"
  }
 },
 "nbformat": 4,
 "nbformat_minor": 5
}
