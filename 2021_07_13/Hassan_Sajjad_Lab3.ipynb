{
 "cells": [
  {
   "cell_type": "code",
   "execution_count": null,
   "id": "f3a1bec9",
   "metadata": {},
   "outputs": [],
   "source": [
    "# class\n",
    "#constructor\n",
    "#getter\n",
    "#setter\n",
    "#if course not exist not add in course score"
   ]
  },
  {
   "cell_type": "code",
   "execution_count": 167,
   "id": "95b79b1d",
   "metadata": {},
   "outputs": [],
   "source": [
    "class Student:\n",
    "    def __init__(self,name,batch,address,courses=[],score=[]):\n",
    "        self.name=name\n",
    "        self.batch=batch\n",
    "        self.address=address\n",
    "        self.courses=courses\n",
    "        self.score=score\n",
    "        \n",
    "        \n",
    "    def set_name(self,name):\n",
    "        self.name=name\n",
    "        \n",
    "    def set_batch(self,batch): \n",
    "        self.batch=batch\n",
    "        \n",
    "    def set_address(self,address):\n",
    "        self.address=address\n",
    "    \n",
    "    def set_courses(self,courses):\n",
    "        self.courses=courses    \n",
    "        \n",
    "    def set_score(self,courses,score):\n",
    "        \n",
    "        if courses in self.courses:\n",
    "            \n",
    "            self.courses_score.append({\"course\":courses,\"marks\":courses_score})\n",
    "        else:\n",
    "            print(\"not found\")\n",
    "             \n",
    "    \n",
    "    def get_name(self):\n",
    "        return self.name\n",
    "    \n",
    "    def get_batch(self):\n",
    "        return self.batch\n",
    "    \n",
    "    def get_address(self):\n",
    "        return self.address\n",
    "    \n",
    "    def get_courses(self):\n",
    "        return self.courses\n",
    "    \n",
    "    def get_score(self):\n",
    "        return self.score\n",
    "\n",
    "        \n",
    "\n",
    "obj = Student(\"Hassan\",2,[\"house no 3\"],[\"Bio\"],[\"datascience\"])\n",
    "    "
   ]
  },
  {
   "cell_type": "code",
   "execution_count": 136,
   "id": "779ac674",
   "metadata": {},
   "outputs": [
    {
     "data": {
      "text/plain": [
       "<__main__.Student at 0x240bb16e7c8>"
      ]
     },
     "execution_count": 136,
     "metadata": {},
     "output_type": "execute_result"
    }
   ],
   "source": [
    "obj"
   ]
  },
  {
   "cell_type": "markdown",
   "id": "519e49b8",
   "metadata": {},
   "source": [
    "# Setter"
   ]
  },
  {
   "cell_type": "code",
   "execution_count": 137,
   "id": "6071ec81",
   "metadata": {},
   "outputs": [],
   "source": [
    "obj.set_name(\"Hassan Sajjad\")\n"
   ]
  },
  {
   "cell_type": "code",
   "execution_count": 138,
   "id": "1b149539",
   "metadata": {},
   "outputs": [],
   "source": [
    "obj.set_batch(1)"
   ]
  },
  {
   "cell_type": "code",
   "execution_count": 139,
   "id": "28d903e6",
   "metadata": {},
   "outputs": [],
   "source": [
    "obj.set_address(\"Lahore\")"
   ]
  },
  {
   "cell_type": "code",
   "execution_count": 144,
   "id": "5d4f3611",
   "metadata": {},
   "outputs": [],
   "source": [
    "obj.set_courses(['bio','physics'])"
   ]
  },
  {
   "cell_type": "code",
   "execution_count": 169,
   "id": "a7e4e567",
   "metadata": {},
   "outputs": [
    {
     "name": "stdout",
     "output_type": "stream",
     "text": [
      "not found\n"
     ]
    }
   ],
   "source": [
    "obj.set_score('dataSciences',30)"
   ]
  },
  {
   "cell_type": "markdown",
   "id": "854f1c14",
   "metadata": {},
   "source": [
    "# Now Getter"
   ]
  },
  {
   "cell_type": "code",
   "execution_count": 142,
   "id": "46804c85",
   "metadata": {},
   "outputs": [
    {
     "data": {
      "text/plain": [
       "'Hassan Sajjad'"
      ]
     },
     "execution_count": 142,
     "metadata": {},
     "output_type": "execute_result"
    }
   ],
   "source": [
    "obj.get_name()"
   ]
  },
  {
   "cell_type": "code",
   "execution_count": 98,
   "id": "4226096d",
   "metadata": {},
   "outputs": [
    {
     "data": {
      "text/plain": [
       "1"
      ]
     },
     "execution_count": 98,
     "metadata": {},
     "output_type": "execute_result"
    }
   ],
   "source": [
    "obj.get_batch()"
   ]
  },
  {
   "cell_type": "code",
   "execution_count": 99,
   "id": "b5bb9cf5",
   "metadata": {},
   "outputs": [
    {
     "data": {
      "text/plain": [
       "'Lahore'"
      ]
     },
     "execution_count": 99,
     "metadata": {},
     "output_type": "execute_result"
    }
   ],
   "source": [
    "obj.get_address()"
   ]
  },
  {
   "cell_type": "code",
   "execution_count": 150,
   "id": "8f2184a7",
   "metadata": {},
   "outputs": [
    {
     "data": {
      "text/plain": [
       "['Bio']"
      ]
     },
     "execution_count": 150,
     "metadata": {},
     "output_type": "execute_result"
    }
   ],
   "source": [
    "obj.get_courses()"
   ]
  },
  {
   "cell_type": "code",
   "execution_count": 170,
   "id": "64c94db9",
   "metadata": {},
   "outputs": [
    {
     "data": {
      "text/plain": [
       "['datascience']"
      ]
     },
     "execution_count": 170,
     "metadata": {},
     "output_type": "execute_result"
    }
   ],
   "source": [
    "obj.get_score()"
   ]
  },
  {
   "cell_type": "code",
   "execution_count": null,
   "id": "88fceab4",
   "metadata": {},
   "outputs": [],
   "source": []
  },
  {
   "cell_type": "code",
   "execution_count": null,
   "id": "4ab73a43",
   "metadata": {},
   "outputs": [],
   "source": []
  }
 ],
 "metadata": {
  "kernelspec": {
   "display_name": "Python 3 (ipykernel)",
   "language": "python",
   "name": "python3"
  },
  "language_info": {
   "codemirror_mode": {
    "name": "ipython",
    "version": 3
   },
   "file_extension": ".py",
   "mimetype": "text/x-python",
   "name": "python",
   "nbconvert_exporter": "python",
   "pygments_lexer": "ipython3",
   "version": "3.7.10"
  }
 },
 "nbformat": 4,
 "nbformat_minor": 5
}
