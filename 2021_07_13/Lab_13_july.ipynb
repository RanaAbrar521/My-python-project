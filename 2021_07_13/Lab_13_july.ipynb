{
 "cells": [
  {
   "cell_type": "markdown",
   "id": "e9f6a0fc-6f16-41c3-9f0f-98da6bcd0a5c",
   "metadata": {},
   "source": [
    "Q1. Create a class Student with the following getters and setters\n",
    "\n",
    "1. Constructor\n",
    "\n",
    "a. Create an Object with following parameters\n",
    "    i. Name\n",
    "    ii. Batch No\n",
    "    iii. Address\n",
    "    iv. Courses (save empty List)\n",
    "    v. Courses_score (Save empty List)\n",
    "\n",
    "2. Setters\n",
    "\n",
    "a. Name (Str)\n",
    "b. Batch No (Int)\n",
    "c. Courses (list)\n",
    "d. Address (str)\n",
    "e. Courses scores (list of dictionaries) (Bonus)\n",
    "    i. [{“course”: datascience,” marks”:30},{“course”:python,”marks”:30} ]\n",
    "    ii. If the course name does not exist in the courses list, then it should not be inserted in courses_scores list of dictionaries\n",
    "\n",
    "3. Getters\n",
    "a. Name\n",
    "b. Batch No\n",
    "c. Courses\n",
    "d. Address\n",
    "e. Courses Scores (Bonus)"
   ]
  },
  {
   "cell_type": "code",
   "execution_count": 7,
   "id": "5904f44e-957d-4396-a40e-3c25e4509d0f",
   "metadata": {},
   "outputs": [],
   "source": [
    "### create class student ---> class Student:\n",
    "### create constructor with following attributes ---> def __init__(self,all attributes):\n",
    "### create setters for mandatory attributes\n",
    "### create getters for required attributes\n",
    "\n",
    "\n",
    "class Student:\n",
    "    def __init__(self,name,batch_no,address,courses=[],courses_score=[]):\n",
    "        self.name=name\n",
    "        self.batch_no=batch_no\n",
    "        self.address=address\n",
    "        self.courses=courses\n",
    "        self.courses_score=courses_score\n",
    "        \n",
    "    def set_name(self,name):\n",
    "        self.name=name\n",
    "        \n",
    "    def set_batch_no(self,batch_no):\n",
    "        self.batch_no=batch_no\n",
    "        \n",
    "    def set_address(self,address):\n",
    "        self.address=address\n",
    "        \n",
    "    def set_courses(self,courses):\n",
    "        self.courses=courses\n",
    "        \n",
    "    \n",
    "    def get_name(self):\n",
    "        return self.name\n",
    "    \n",
    "    def get_batch_no(self):\n",
    "        return self.batch_no\n",
    "    \n",
    "    def get_address(self):\n",
    "        return self.address\n",
    "    \n",
    "    def get_courses(self):\n",
    "        return self.courses\n",
    "    \n",
    "    def set_courses_score(self,courses,courses_score):\n",
    "        if courses in self.courses:\n",
    "            \n",
    "            self.courses_score.append({\"course\":courses,\"marks\":courses_score})\n",
    "        else:\n",
    "            print(\"not found\")\n",
    "    \n",
    "    def get_courses_score(self):\n",
    "        \n",
    "        return self.courses_score\n",
    "        "
   ]
  },
  {
   "cell_type": "code",
   "execution_count": 8,
   "id": "5897feb1-56ec-46c0-8702-e2070a129814",
   "metadata": {},
   "outputs": [
    {
     "data": {
      "text/plain": [
       "['dataSciences', 'pythons']"
      ]
     },
     "execution_count": 8,
     "metadata": {},
     "output_type": "execute_result"
    }
   ],
   "source": [
    "obj=Student(\"zaid\",3,\"lahore\")\n",
    "obj.set_courses([\"dataSciences\",\"pythons\"])\n",
    "obj.get_courses()"
   ]
  },
  {
   "cell_type": "code",
   "execution_count": 9,
   "id": "dbe1e108-785f-4094-a7a7-67bf1f7fee01",
   "metadata": {},
   "outputs": [],
   "source": [
    "obj.set_courses_score('dataSciences',30)"
   ]
  },
  {
   "cell_type": "code",
   "execution_count": 10,
   "id": "05cfedf4-68d2-432e-b22c-9179df97986a",
   "metadata": {},
   "outputs": [
    {
     "data": {
      "text/plain": [
       "[{'course': 'dataSciences', 'marks': 30}]"
      ]
     },
     "execution_count": 10,
     "metadata": {},
     "output_type": "execute_result"
    }
   ],
   "source": [
    "obj.get_courses_score()"
   ]
  }
 ],
 "metadata": {
  "kernelspec": {
   "display_name": "Python 3",
   "language": "python",
   "name": "python3"
  },
  "language_info": {
   "codemirror_mode": {
    "name": "ipython",
    "version": 3
   },
   "file_extension": ".py",
   "mimetype": "text/x-python",
   "name": "python",
   "nbconvert_exporter": "python",
   "pygments_lexer": "ipython3",
   "version": "3.7.10"
  }
 },
 "nbformat": 4,
 "nbformat_minor": 5
}
