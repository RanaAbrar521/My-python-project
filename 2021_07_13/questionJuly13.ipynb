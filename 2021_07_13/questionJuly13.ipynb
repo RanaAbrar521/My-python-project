{
 "cells": [
  {
   "cell_type": "code",
   "execution_count": 186,
   "id": "8cdf0bcb",
   "metadata": {},
   "outputs": [],
   "source": [
    "class Students:\n",
    "    def __init__(self,name,batch_no,address,courses=[],courses_scores=[]):\n",
    "        self.name = name\n",
    "        self.batch_no = int(batch_no)\n",
    "        self.address = address\n",
    "        self.courses = courses\n",
    "        self.courses_scores = courses_scores\n",
    "        self.res = {}\n",
    "    \n",
    "    def set_name(self,name):\n",
    "        self.name = name\n",
    "    def set_batch_no(self,batch_no):\n",
    "        self.batch_no = int(batch_no)\n",
    "    def set_address(self,address):\n",
    "        self.address = address\n",
    "    def set_courses(self,courses):\n",
    "        self.courses = courses\n",
    "    def set_courses_scores(self,course_name , course_marks):\n",
    "        if course_name in self.courses:\n",
    "            self.res[course_name] = course_marks\n",
    "        \n",
    "            \n",
    "            \n",
    "            \n",
    "        \n",
    "    def get_name(self):\n",
    "        return self.name\n",
    "    def get_batch_no(self):\n",
    "        return self.batch_no\n",
    "    def get_address(self):\n",
    "        return self.address\n",
    "    def get_courses(self):\n",
    "        return self.courses\n",
    "    def get_courses_scores(self):\n",
    "        return self.res\n",
    "        "
   ]
  },
  {
   "cell_type": "code",
   "execution_count": 187,
   "id": "54b07587",
   "metadata": {},
   "outputs": [],
   "source": [
    "data = Students('hamza',33,\"lahore\",[\"data Science\",\"SE\",\"AI\"],[12,34,67])"
   ]
  },
  {
   "cell_type": "code",
   "execution_count": 188,
   "id": "424260bd",
   "metadata": {},
   "outputs": [],
   "source": [
    "data.set_courses_scores(\"data Science\", 98)\n",
    "data.set_courses_scores(\"web\", 98)\n",
    "data.set_courses_scores(\"SE\", 72)\n",
    "data.set_courses_scores(\"AI\", 32)"
   ]
  },
  {
   "cell_type": "code",
   "execution_count": 189,
   "id": "e203b71d",
   "metadata": {},
   "outputs": [
    {
     "data": {
      "text/plain": [
       "{'data Science': 98, 'SE': 72, 'AI': 32}"
      ]
     },
     "execution_count": 189,
     "metadata": {},
     "output_type": "execute_result"
    }
   ],
   "source": [
    "data.get_courses_scores()"
   ]
  },
  {
   "cell_type": "code",
   "execution_count": null,
   "id": "711cac43",
   "metadata": {},
   "outputs": [],
   "source": []
  }
 ],
 "metadata": {
  "kernelspec": {
   "display_name": "Python 3",
   "language": "python",
   "name": "python3"
  },
  "language_info": {
   "codemirror_mode": {
    "name": "ipython",
    "version": 3
   },
   "file_extension": ".py",
   "mimetype": "text/x-python",
   "name": "python",
   "nbconvert_exporter": "python",
   "pygments_lexer": "ipython3",
   "version": "3.7.10"
  }
 },
 "nbformat": 4,
 "nbformat_minor": 5
}
