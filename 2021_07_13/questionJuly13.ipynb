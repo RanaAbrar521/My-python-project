{
 "cells": [
  {
   "cell_type": "code",
   "execution_count": 152,
   "id": "9601465e",
   "metadata": {},
   "outputs": [],
   "source": [
    "class Students:\n",
    "    def __init__(self,name,batch_no,address,courses=[],courses_scores=[]):\n",
    "        self.name = name\n",
    "        self.batch_no = int(batch_no)\n",
    "        self.address = address\n",
    "        self.courses = courses\n",
    "        self.courses_scores = courses_scores\n",
    "        \n",
    "        self.course_summary = []\n",
    "        self.res = {}\n",
    "    \n",
    "    def set_name(self,name):\n",
    "        self.name = name\n",
    "    def set_batch_no(self,batch_no):\n",
    "        self.batch_no = int(batch_no)\n",
    "    def set_address(self,address):\n",
    "        self.address = address\n",
    "    def set_courses(self,courses):\n",
    "        self.courses = courses\n",
    "    def set_courses_scores(self,course_name , course_marks):\n",
    "        if course_name in self.courses:\n",
    "            self.res[course_name] = course_marks\n",
    "        \n",
    "            \n",
    "            \n",
    "            \n",
    "        \n",
    "    def get_name(self):\n",
    "        return self.name\n",
    "    def get_batch_no(self):\n",
    "        return self.batch_no\n",
    "    def get_address(self):\n",
    "        return self.address\n",
    "    def get_courses(self):\n",
    "        return self.courses\n",
    "    def get_courses_scores(self):\n",
    "        return self.res\n",
    "        "
   ]
  },
  {
   "cell_type": "code",
   "execution_count": 167,
   "id": "3ef25f14",
   "metadata": {},
   "outputs": [],
   "source": [
    "data = Students('hamza',\"33\",\"lahore\",[\"data Science\",\"SE\",\"AI\"],[12,34,67])"
   ]
  },
  {
   "cell_type": "code",
   "execution_count": 168,
   "id": "22991fe9",
   "metadata": {},
   "outputs": [],
   "source": [
    "data.set_courses_scores(\"data Science\", 98)\n",
    "data.set_courses_scores(\"web\", 98)\n",
    "data.set_courses_scores(\"SE\", 72)"
   ]
  },
  {
   "cell_type": "code",
   "execution_count": 173,
   "id": "7260b79f",
   "metadata": {},
   "outputs": [
    {
     "data": {
      "text/plain": [
       "{'data Science': 98, 'SE': 72}"
      ]
     },
     "execution_count": 173,
     "metadata": {},
     "output_type": "execute_result"
    }
   ],
   "source": [
    "data.get_courses_scores()"
   ]
  },
  {
   "cell_type": "code",
   "execution_count": 174,
   "id": "110c16e0",
   "metadata": {},
   "outputs": [
    {
     "data": {
      "text/plain": [
       "12"
      ]
     },
     "execution_count": 174,
     "metadata": {},
     "output_type": "execute_result"
    }
   ],
   "source": [
    "data.get_batch_no()"
   ]
  },
  {
   "cell_type": "code",
   "execution_count": null,
   "id": "815c8fae",
   "metadata": {},
   "outputs": [],
   "source": []
  }
 ],
 "metadata": {
  "kernelspec": {
   "display_name": "Python 3",
   "language": "python",
   "name": "python3"
  },
  "language_info": {
   "codemirror_mode": {
    "name": "ipython",
    "version": 3
   },
   "file_extension": ".py",
   "mimetype": "text/x-python",
   "name": "python",
   "nbconvert_exporter": "python",
   "pygments_lexer": "ipython3",
   "version": "3.7.10"
  }
 },
 "nbformat": 4,
 "nbformat_minor": 5
}
