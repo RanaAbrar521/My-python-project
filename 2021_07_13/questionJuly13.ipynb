{
 "cells": [
  {
   "cell_type": "code",
   "execution_count": 352,
   "id": "d0b5a7cb",
   "metadata": {},
   "outputs": [],
   "source": [
    "class Students:\n",
    "    def __init__(self,name,batch_no,address,courses=[],courses_scores=[]):\n",
    "        self.name = name\n",
    "        self.batch_no = int(batch_no)\n",
    "        self.address = address\n",
    "        self.courses = courses\n",
    "        self.courses_scores = courses_scores\n",
    "    \n",
    "    def set_name(self,name):\n",
    "        self.name = name\n",
    "    def set_batch_no(self,batch_no):\n",
    "        self.batch_no = int(batch_no)\n",
    "    def set_address(self,address):\n",
    "        self.address = address\n",
    "    def set_courses(self,courses):\n",
    "        self.courses = courses\n",
    "    def set_courses_scores(self,courses,courses_scores):\n",
    "        if courses in self.courses:\n",
    "            self.courses_scores.append({\"course\":courses,\"marks\":courses_scores})\n",
    "        else:\n",
    "            print(\"not found\")\n",
    "            \n",
    "        \n",
    "    def get_name(self):\n",
    "        return self.name\n",
    "    def get_batch_no(self):\n",
    "        return self.batch_no\n",
    "    def get_address(self):\n",
    "        return self.address\n",
    "    def get_courses(self):\n",
    "        return self.courses\n",
    "    def get_courses_scores(self):\n",
    "        return self.courses_scores\n",
    "        "
   ]
  },
  {
   "cell_type": "code",
   "execution_count": 356,
   "id": "5bd596df",
   "metadata": {},
   "outputs": [],
   "source": [
    "data = Students('hamza',33,\"lahore\")"
   ]
  },
  {
   "cell_type": "code",
   "execution_count": 353,
   "id": "4f43f948",
   "metadata": {},
   "outputs": [
    {
     "data": {
      "text/plain": [
       "['AI', 'SE']"
      ]
     },
     "execution_count": 353,
     "metadata": {},
     "output_type": "execute_result"
    }
   ],
   "source": [
    "data.set_courses([\"AI\",\"SE\"])\n",
    "data.get_courses()"
   ]
  },
  {
   "cell_type": "code",
   "execution_count": 354,
   "id": "bdc3d1b4",
   "metadata": {},
   "outputs": [],
   "source": [
    "data.set_courses_scores('AI',32)"
   ]
  },
  {
   "cell_type": "code",
   "execution_count": 355,
   "id": "4f364d7f",
   "metadata": {},
   "outputs": [
    {
     "data": {
      "text/plain": [
       "[{'course': 'AI', 'marks': 32}]"
      ]
     },
     "execution_count": 355,
     "metadata": {},
     "output_type": "execute_result"
    }
   ],
   "source": [
    "data.get_courses_scores()"
   ]
  },
  {
   "cell_type": "code",
   "execution_count": null,
   "id": "f120ee66",
   "metadata": {},
   "outputs": [],
   "source": []
  }
 ],
 "metadata": {
  "kernelspec": {
   "display_name": "Python 3",
   "language": "python",
   "name": "python3"
  },
  "language_info": {
   "codemirror_mode": {
    "name": "ipython",
    "version": 3
   },
   "file_extension": ".py",
   "mimetype": "text/x-python",
   "name": "python",
   "nbconvert_exporter": "python",
   "pygments_lexer": "ipython3",
   "version": "3.7.10"
  }
 },
 "nbformat": 4,
 "nbformat_minor": 5
}
