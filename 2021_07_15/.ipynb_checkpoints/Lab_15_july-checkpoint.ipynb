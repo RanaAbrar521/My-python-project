{
 "cells": [
  {
   "cell_type": "markdown",
   "id": "e9f6a0fc-6f16-41c3-9f0f-98da6bcd0a5c",
   "metadata": {},
   "source": [
    "Q1. Create a class Student with the following getters and setters\n",
    "1. Constructor\n",
    "a. Create an Object with following parameters\n",
    "    i. Name\n",
    "    ii. Batch No\n",
    "    iii. Address\n",
    "\n",
    "2. Setters\n",
    "a. Name (Str)\n",
    "b. Batch No (Int)\n",
    "c. Address (str)\n",
    "    \n",
    "3. Getters\n",
    "a. Name\n",
    "b. Batch No\n",
    "c. Address\n",
    "\n",
    "4. Create a new class called DevnationStudents which is a child class of Student\n",
    "a. Write a constructor that\n",
    "    i. That calls the Parent Class Constructor\n",
    "    ii. Also save courses and marks as empty list in the child constructor\n",
    "    \n",
    "b. Write setter functions\n",
    "\n",
    "i. Add courses\n",
    "    1. Takes a list of courses\n",
    "    2. Add only those courses in the list which are not already in the list. For example if the courses list contains\n",
    "    [‘datascience’,’Full stack’] and you pass the list [Full stack”,”C++”]\n",
    "    Final course list should be [“datascience”,”Full stack”,”C++”]\n",
    "    \n",
    "    \n",
    "ii. Add courses_marks\n",
    "    1. This takes the list of dictionaries I.e [{“course”:”datascience”,”marks”:”50”},{“course”:”Fullstack”:50}]\n",
    "    2. If the particular exists in the courses lists then the particular dictionary should be added in the marks list\n",
    "    3. Marks list should not contains duplicate entries of same courses\n",
    "\n",
    "c. Write getter functions\n",
    "i. Get courses\n",
    "ii. Get Marks"
   ]
  },
  {
   "cell_type": "code",
   "execution_count": 46,
   "id": "5904f44e-957d-4396-a40e-3c25e4509d0f",
   "metadata": {},
   "outputs": [],
   "source": [
    "#1.1 Create student class with constr. params (name,batchNo, Address)\n",
    "#1.2 create setters of name, batchno, address\n",
    "#1.3 create getters of name, batchno, address\n",
    "\n",
    "#1.4.a.1 create a child class of Devstudents , \n",
    "# create constr. and calls parent contr.\n",
    "\n",
    "#1.4.a.2 save empty courses and marks list in child constr.\n",
    "#1.4.b.1 add course\n",
    "#1.4.b.2 add course marks\n",
    "#1.4.c.1 get courses\n",
    "#1.4.c.2 get marks\n",
    "\n",
    "class Student:\n",
    "    #constructr\n",
    "    def __init__(self,name,batch_no,address):\n",
    "        self.name=name\n",
    "        self.batch_no=batch_no\n",
    "        self.address=address\n",
    "    # setters\n",
    "    def set_name(self,name):\n",
    "        self.name=name\n",
    "        \n",
    "    def set_batch_no(self,batch_no):\n",
    "        self.batch_no=batch_no\n",
    "        \n",
    "    def set_address(self,address):\n",
    "        self.address=address   \n",
    "    #getters\n",
    "    def get_name(self):\n",
    "        return self.name\n",
    "    \n",
    "    def get_batch_no(self):\n",
    "        return self.batch_no\n",
    "    \n",
    "    def get_address(self):\n",
    "        return self.address\n",
    "    \n",
    "    #child class\n",
    "class DevnationStudent(Student):\n",
    "    def __init__(self,name,batch_no,address, courses=[], courses_marks=[]): \n",
    "        super().__init__(name,batch_no,address)\n",
    "        self.courses=courses\n",
    "        self.courses_marks=courses_marks\n",
    "        \n",
    "    #setter\n",
    "    \n",
    "    def set_courses(self,courses):\n",
    "        for c in courses:\n",
    "            if c not in self.courses :\n",
    "                self.courses.append(c)\n",
    "        set(self.courses)\n",
    "\n",
    "        \n",
    "        #set(self.courses)\n",
    "    \n",
    "    \n",
    "#     def set_courses_marks(self,courses,courses_marks):\n",
    "#         if courses in self.courses:\n",
    "            \n",
    "#             self.courses_marks.append({\"course\":courses,\"marks\":courses_marks})\n",
    "\n",
    "    \n",
    "    \n",
    "    #getters\n",
    "    \n",
    "    def get_courses(self):\n",
    "        return self.courses\n",
    "    \n",
    "    def get_courses_score(self):\n",
    "        return self.courses_score\n",
    "        "
   ]
  },
  {
   "cell_type": "code",
   "execution_count": 47,
   "id": "5897feb1-56ec-46c0-8702-e2070a129814",
   "metadata": {},
   "outputs": [
    {
     "data": {
      "text/plain": [
       "['data science', 'full stack']"
      ]
     },
     "execution_count": 47,
     "metadata": {},
     "output_type": "execute_result"
    }
   ],
   "source": [
    "ds = DevnationStudent(\"naveed\",3 , \"lahore\")\n",
    "ds.set_courses([\"data science\",\"full stack\"])\n",
    "ds.get_courses()"
   ]
  },
  {
   "cell_type": "code",
   "execution_count": 48,
   "id": "dbe1e108-785f-4094-a7a7-67bf1f7fee01",
   "metadata": {},
   "outputs": [
    {
     "data": {
      "text/plain": [
       "['data science', 'full stack', 'java']"
      ]
     },
     "execution_count": 48,
     "metadata": {},
     "output_type": "execute_result"
    }
   ],
   "source": [
    "ds.set_courses([\"full stack\",\"java\"])\n",
    "ds.get_courses()"
   ]
  },
  {
   "cell_type": "code",
   "execution_count": null,
   "id": "05cfedf4-68d2-432e-b22c-9179df97986a",
   "metadata": {},
   "outputs": [],
   "source": []
  },
  {
   "cell_type": "code",
   "execution_count": null,
   "id": "984f3ed3-8859-4c92-91a2-9cf1ca05db03",
   "metadata": {},
   "outputs": [],
   "source": []
  }
 ],
 "metadata": {
  "kernelspec": {
   "display_name": "Python 3",
   "language": "python",
   "name": "python3"
  },
  "language_info": {
   "codemirror_mode": {
    "name": "ipython",
    "version": 3
   },
   "file_extension": ".py",
   "mimetype": "text/x-python",
   "name": "python",
   "nbconvert_exporter": "python",
   "pygments_lexer": "ipython3",
   "version": "3.8.8"
  }
 },
 "nbformat": 4,
 "nbformat_minor": 5
}
