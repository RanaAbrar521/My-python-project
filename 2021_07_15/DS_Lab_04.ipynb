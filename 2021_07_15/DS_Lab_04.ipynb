{
 "cells": [
  {
   "cell_type": "markdown",
   "id": "9660fd52-7c1d-4763-8f5d-ebbc14ddc04e",
   "metadata": {},
   "source": [
    "## Q1. \n",
    "Create a class Student with the following getters and setters\n",
    "1. Constructor\n",
    "a. Create an Object with following parameters\n",
    "i. Name\n",
    "ii. Batch No\n",
    "iii. Address\n",
    "\n",
    "2. Setters\n",
    "a. Name (Str)\n",
    "b. Batch No (Int)\n",
    "c. Address (str)\n",
    "3. Getters\n",
    "a. Name\n",
    "b. Batch No\n",
    "c. Address\n",
    "4. Create a new class called DevnationStudents which is a child class of Student\n",
    "a. Write a constructor that\n",
    "i. That calls the Parent Class Constructor\n",
    "ii. Also save courses and marks as empty list in the child constructor\n",
    "b. Write setter functions\n",
    "i. Add courses\n",
    "1. Takes a list of courses\n",
    "2. Add only those courses in the list which are not already in the\n",
    "list. For example if the courses list contains [‘datascience’,’Full\n",
    "stack’] and you pass the list [Full stack”,”C++”]\n",
    "Final course list should be [“datascience”,”Full stack”,”C++”]\n",
    "\n",
    "ii. Add courses_marks\n",
    "1. This takes the list of dictionaries I.e\n",
    "[{“course”:”datascience”,”marks”:”50”},{“course”:”Fullstack”:5\n",
    "0}]\n",
    "2. If the particular exists in the courses lists then the particular\n",
    "dictionary should be added in the marks list\n",
    "3. Marks list should not contains duplicate entries of same\n",
    "courses\n",
    "c. Write getter functions\n",
    "i. Get courses\n",
    "ii. Get Marks"
   ]
  },
  {
   "cell_type": "code",
   "execution_count": 1,
   "id": "80c60591-1b40-44e9-bd1d-6cdee42e2e71",
   "metadata": {},
   "outputs": [],
   "source": [
    "class Student:\n",
    "    \n",
    "#     Class constructor\n",
    "    def __init__(self, name, batch_no, address):\n",
    "        self.name = name\n",
    "        self.batch_no = int(batch_no)\n",
    "        self.address = address        \n",
    "        \n",
    "    \n",
    "#     Setters\n",
    "    def set_name(self,name):\n",
    "        self.name = name\n",
    "        \n",
    "    def set_batch_no(self,batch_no):\n",
    "        self.batch_no = int(batch_no)\n",
    "        \n",
    "    def set_address(self,address):\n",
    "        self.address = address                       \n",
    "        \n",
    "        \n",
    "#     Getters\n",
    "    def get_name(self):\n",
    "        return self.name\n",
    "        \n",
    "    def get_batch_no(self):\n",
    "        return self.batch_no\n",
    "        \n",
    "    def get_address(self):\n",
    "        return self.address\n",
    "        \n",
    "\n",
    "\n",
    "class DevnationStudents(Student):\n",
    "    \n",
    "#     Constructor\n",
    "    def __init__(self, name, batch_no, address, courses=[], marks=[]):\n",
    "        super().__init__(name, batch_no, address)\n",
    "        self.courses = courses\n",
    "        self.marks = marks\n",
    "        \n",
    "#     Setter\n",
    "    def set_add_course(self, courses_list):\n",
    "        for course in courses_list:\n",
    "            if course not in self.courses:\n",
    "                self.courses.append(course)\n",
    "        \n",
    "    def check_dup(self, value):\n",
    "        flag = False\n",
    "        for existing_dict in self.marks:\n",
    "            if existing_dict[\"course\"] == value:\n",
    "                flag = True\n",
    "        return flag\n",
    "    \n",
    "    def set_courses_marks(self, course_marks):\n",
    "        for new_dict in course_marks:\n",
    "            if new_dict[\"course\"] in self.courses:\n",
    "                if (self.check_dup(new_dict[\"course\"])):\n",
    "                    continue\n",
    "                else:\n",
    "                    self.marks.append(new_dict)\n",
    "    \n",
    "#     Getter\n",
    "    def get_courses(self):\n",
    "        return self.courses\n",
    "        \n",
    "    def get_course_marks(self):\n",
    "        return self.marks"
   ]
  },
  {
   "cell_type": "code",
   "execution_count": 2,
   "id": "1ea2c9a0-6685-4250-8b02-7e38921c01df",
   "metadata": {},
   "outputs": [],
   "source": [
    "student_1 = DevnationStudents(\"Arham\", \"4\", \"Sahiwal\")"
   ]
  },
  {
   "cell_type": "code",
   "execution_count": 3,
   "id": "f44e8ac6-6046-4550-9d77-613b8a1912fe",
   "metadata": {},
   "outputs": [
    {
     "data": {
      "text/plain": [
       "'Arham'"
      ]
     },
     "execution_count": 3,
     "metadata": {},
     "output_type": "execute_result"
    }
   ],
   "source": [
    "student_1.get_name()"
   ]
  },
  {
   "cell_type": "code",
   "execution_count": 4,
   "id": "25f61f63-ae11-4cb1-80fd-a46cdf37f278",
   "metadata": {},
   "outputs": [
    {
     "data": {
      "text/plain": [
       "4"
      ]
     },
     "execution_count": 4,
     "metadata": {},
     "output_type": "execute_result"
    }
   ],
   "source": [
    "student_1.get_batch_no()"
   ]
  },
  {
   "cell_type": "code",
   "execution_count": 5,
   "id": "04596810-18aa-4036-82e1-03c812872f3c",
   "metadata": {},
   "outputs": [
    {
     "data": {
      "text/plain": [
       "'Sahiwal'"
      ]
     },
     "execution_count": 5,
     "metadata": {},
     "output_type": "execute_result"
    }
   ],
   "source": [
    "student_1.get_address()"
   ]
  },
  {
   "cell_type": "code",
   "execution_count": 6,
   "id": "7e0cd133-43d8-4e92-84f7-90ea68892580",
   "metadata": {},
   "outputs": [],
   "source": [
    "student_1.set_add_course([\"Data Science\", \"Web Developement\", \"Python\"])"
   ]
  },
  {
   "cell_type": "code",
   "execution_count": 7,
   "id": "d1b67cc6-b249-47ff-8172-e560451f8af4",
   "metadata": {},
   "outputs": [
    {
     "data": {
      "text/plain": [
       "['Data Science', 'Web Developement', 'Python']"
      ]
     },
     "execution_count": 7,
     "metadata": {},
     "output_type": "execute_result"
    }
   ],
   "source": [
    "student_1.get_courses()"
   ]
  },
  {
   "cell_type": "code",
   "execution_count": 8,
   "id": "c24c8567-f892-47c1-95fb-ddd85c44f740",
   "metadata": {},
   "outputs": [],
   "source": [
    "student_1.set_courses_marks([{\"course\":\"Data Science\", \"marks\":\"95\"}])"
   ]
  },
  {
   "cell_type": "code",
   "execution_count": 9,
   "id": "4ec85485-e78b-47e4-b678-c98dd10e58f9",
   "metadata": {},
   "outputs": [
    {
     "data": {
      "text/plain": [
       "[{'course': 'Data Science', 'marks': '95'}]"
      ]
     },
     "execution_count": 9,
     "metadata": {},
     "output_type": "execute_result"
    }
   ],
   "source": [
    "student_1.get_course_marks()"
   ]
  },
  {
   "cell_type": "code",
   "execution_count": 10,
   "id": "9a474cfc-665e-47a7-b044-f25944d93a3d",
   "metadata": {},
   "outputs": [],
   "source": [
    "student_1.set_courses_marks([{\"course\":\"Data Science\", \"marks\":\"92\"}, {\"course\":\"SE\", \"marks\":\"95\"}])"
   ]
  },
  {
   "cell_type": "code",
   "execution_count": 11,
   "id": "679f5db0-ce17-4b64-99ae-6b43d4ac0f12",
   "metadata": {},
   "outputs": [
    {
     "data": {
      "text/plain": [
       "[{'course': 'Data Science', 'marks': '95'}]"
      ]
     },
     "execution_count": 11,
     "metadata": {},
     "output_type": "execute_result"
    }
   ],
   "source": [
    "student_1.get_course_marks()"
   ]
  },
  {
   "cell_type": "code",
   "execution_count": 12,
   "id": "c8bcf29c-4f85-4b0f-99c0-080f890d0f22",
   "metadata": {},
   "outputs": [],
   "source": [
    "student_1.set_courses_marks([{\"course\":\"Python\", \"marks\":\"90\"}])"
   ]
  },
  {
   "cell_type": "code",
   "execution_count": 13,
   "id": "3328370e-bf9b-4c12-9492-585c7165a629",
   "metadata": {},
   "outputs": [
    {
     "data": {
      "text/plain": [
       "[{'course': 'Data Science', 'marks': '95'},\n",
       " {'course': 'Python', 'marks': '90'}]"
      ]
     },
     "execution_count": 13,
     "metadata": {},
     "output_type": "execute_result"
    }
   ],
   "source": [
    "student_1.get_course_marks()"
   ]
  },
  {
   "cell_type": "code",
   "execution_count": null,
   "id": "5951155c-a2bf-4ec5-a900-dbcbcf7fcf22",
   "metadata": {},
   "outputs": [],
   "source": []
  }
 ],
 "metadata": {
  "kernelspec": {
   "display_name": "Python 3 (ipykernel)",
   "language": "python",
   "name": "python3"
  },
  "language_info": {
   "codemirror_mode": {
    "name": "ipython",
    "version": 3
   },
   "file_extension": ".py",
   "mimetype": "text/x-python",
   "name": "python",
   "nbconvert_exporter": "python",
   "pygments_lexer": "ipython3",
   "version": "3.9.6"
  }
 },
 "nbformat": 4,
 "nbformat_minor": 5
}
