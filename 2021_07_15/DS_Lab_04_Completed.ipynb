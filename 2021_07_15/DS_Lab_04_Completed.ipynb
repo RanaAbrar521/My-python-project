{
 "cells": [
  {
   "cell_type": "code",
   "execution_count": 1,
   "id": "663d20f8-a36e-4837-aaca-80c083d93508",
   "metadata": {},
   "outputs": [],
   "source": [
    "# Q1. Create a class Student with the following getters and setters\n",
    "# 1. Constructor\n",
    "# a. Create an Object with following parameters\n",
    "# i. Name\n",
    "# ii. Batch No\n",
    "# iii. Address\n",
    "\n",
    "# 2. Setters\n",
    "# a. Name (Str)\n",
    "# b. Batch No (Int)\n",
    "# c. Address (str)\n",
    "# 3. Getters\n",
    "# a. Name\n",
    "# b. Batch No\n",
    "# c. Address\n",
    "# 4. Create a new class called DevnationStudents which is a child class of Student\n",
    "# a. Write a constructor that\n",
    "# i. That calls the Parent Class Constructor\n",
    "# ii. Also save courses and marks as empty list in the child constructor\n",
    "# b. Write setter functions\n",
    "# i. Add courses\n",
    "# 1. Takes a list of courses\n",
    "# 2. Add only those courses in the list which are not already in the\n",
    "# list. For example if the courses list contains [‘datascience’,’Full\n",
    "# stack’] and you pass the list [Full stack”,”C++”]\n",
    "# Final course list should be [“datascience”,”Full stack”,”C++”]\n",
    "\n",
    "# ii. Add courses_marks\n",
    "# 1. This takes the list of dictionaries I.e\n",
    "# [{“course”:”datascience”,”marks”:”50”},{“course”:”Fullstack”:5\n",
    "# 0}]\n",
    "# 2. If the particular exists in the courses lists then the particular\n",
    "# dictionary should be added in the marks list\n",
    "# 3. Marks list should not contains duplicate entries of same\n",
    "# courses\n",
    "# c. Write getter functions\n",
    "# i. Get courses\n",
    "# ii. Get Marks"
   ]
  },
  {
   "cell_type": "code",
   "execution_count": 127,
   "id": "2608fb50-6045-4a95-8543-159b8939f32a",
   "metadata": {},
   "outputs": [],
   "source": [
    "class Student:\n",
    "    \n",
    "#     Class constructor\n",
    "    def __init__(self, name, batch_no, address):\n",
    "        self.name = name\n",
    "        self.batch_no = int(batch_no)\n",
    "        self.address = address        \n",
    "        \n",
    "    \n",
    "#     Setters\n",
    "    def set_name(self,name):\n",
    "        self.name = name\n",
    "        \n",
    "    def set_batch_no(self,batch_no):\n",
    "        self.batch_no = int(batch_no)\n",
    "        \n",
    "    def set_address(self,address):\n",
    "        self.address = address                       \n",
    "        \n",
    "        \n",
    "#     Getters\n",
    "    def get_name(self):\n",
    "        return self.name\n",
    "        \n",
    "    def get_batch_no(self):\n",
    "        return self.batch_no\n",
    "        \n",
    "    def get_address(self):\n",
    "        return self.address\n",
    "        \n",
    "\n",
    "\n",
    "class DevnationStudents(Student):\n",
    "    \n",
    "#     Constructor\n",
    "    def __init__(self, name, batch_no, address, courses=[], marks=[]):\n",
    "        super().__init__(name, batch_no, address)\n",
    "        self.courses = courses\n",
    "        self.marks = marks\n",
    "        \n",
    "        self.courses_marks_list = []\n",
    "        \n",
    "#     Setter\n",
    "    def set_add_course(self, courses_list):\n",
    "        for course in courses_list:\n",
    "            if course not in self.courses:\n",
    "                self.courses.append(course)\n",
    "        \n",
    "    def check_dup(self, value):\n",
    "        flag = False\n",
    "        for existing_dict in self.courses_marks_list:\n",
    "            if existing_dict[\"course\"] == value:\n",
    "                flag = True\n",
    "        return flag\n",
    "    \n",
    "    def set_courses_marks(self, course_marks_list):\n",
    "        for new_dict in course_marks_list:\n",
    "            if new_dict[\"course\"] in self.courses:\n",
    "                if (self.check_dup(new_dict[\"course\"])):\n",
    "                    continue\n",
    "                else:\n",
    "                    self.courses_marks_list.append(new_dict)\n",
    "    \n",
    "#     Getter\n",
    "    def get_course(self):\n",
    "        return self.courses\n",
    "        \n",
    "    def get_course_marks(self):\n",
    "        return self.courses_marks_list"
   ]
  },
  {
   "cell_type": "code",
   "execution_count": 128,
   "id": "9af2e921-9000-4c81-afa0-3d39d9f791f8",
   "metadata": {},
   "outputs": [],
   "source": [
    "student_1 = DevnationStudents(\"Arham\", 4, \"Sahiwal\", [\"Data Science\", \"Web Developement\", \"Python\"], [95, 90, 89])"
   ]
  },
  {
   "cell_type": "code",
   "execution_count": 129,
   "id": "b0db297e-0c05-4e8d-9df2-db4e274d7b6d",
   "metadata": {},
   "outputs": [
    {
     "data": {
      "text/plain": [
       "['Data Science', 'Web Developement', 'Python']"
      ]
     },
     "execution_count": 129,
     "metadata": {},
     "output_type": "execute_result"
    }
   ],
   "source": [
    "student_1.get_course()"
   ]
  },
  {
   "cell_type": "code",
   "execution_count": 130,
   "id": "e34ba7eb-98df-48c0-9b0d-286b7eb393b1",
   "metadata": {},
   "outputs": [],
   "source": [
    "student_1.set_add_course([\"Stats\", \"Python\", \"Software Engineering\"])"
   ]
  },
  {
   "cell_type": "code",
   "execution_count": 131,
   "id": "9b809f1c-4261-4871-9dff-858f0e3c3f43",
   "metadata": {},
   "outputs": [
    {
     "data": {
      "text/plain": [
       "['Data Science', 'Web Developement', 'Python', 'Stats', 'Software Engineering']"
      ]
     },
     "execution_count": 131,
     "metadata": {},
     "output_type": "execute_result"
    }
   ],
   "source": [
    "student_1.get_course()"
   ]
  },
  {
   "cell_type": "code",
   "execution_count": 132,
   "id": "43fd6212-a000-4857-9b31-42e45e213ed0",
   "metadata": {},
   "outputs": [],
   "source": [
    "student_1.set_courses_marks([{\"course\": \"Python\", \"marks\": \"92\"},{\"course\": \"Maths\", \"marks\": \"82\"}])"
   ]
  },
  {
   "cell_type": "code",
   "execution_count": 133,
   "id": "5b92d706-0b7b-4744-851b-88fb705b7bec",
   "metadata": {},
   "outputs": [
    {
     "data": {
      "text/plain": [
       "[{'course': 'Python', 'marks': '92'}]"
      ]
     },
     "execution_count": 133,
     "metadata": {},
     "output_type": "execute_result"
    }
   ],
   "source": [
    "student_1.get_course_marks()"
   ]
  },
  {
   "cell_type": "code",
   "execution_count": 134,
   "id": "5d3656f4-ff78-433c-9d1d-a48d0c0495d7",
   "metadata": {},
   "outputs": [],
   "source": [
    "student_1.set_courses_marks([{\"course\": \"Stats\", \"marks\": \"95\"},{\"course\": \"Python\", \"marks\": \"82\"}])"
   ]
  },
  {
   "cell_type": "code",
   "execution_count": 135,
   "id": "67a2b8b2-ec1a-4a7d-a0e6-af322dcc08c5",
   "metadata": {},
   "outputs": [
    {
     "data": {
      "text/plain": [
       "[{'course': 'Python', 'marks': '92'}, {'course': 'Stats', 'marks': '95'}]"
      ]
     },
     "execution_count": 135,
     "metadata": {},
     "output_type": "execute_result"
    }
   ],
   "source": [
    "student_1.get_course_marks()"
   ]
  },
  {
   "cell_type": "code",
   "execution_count": null,
   "id": "6a62fafe-a86b-4a4f-8d6f-a1a3c83052e1",
   "metadata": {},
   "outputs": [],
   "source": []
  }
 ],
 "metadata": {
  "kernelspec": {
   "display_name": "Python 3",
   "language": "python",
   "name": "python3"
  },
  "language_info": {
   "codemirror_mode": {
    "name": "ipython",
    "version": 3
   },
   "file_extension": ".py",
   "mimetype": "text/x-python",
   "name": "python",
   "nbconvert_exporter": "python",
   "pygments_lexer": "ipython3",
   "version": "3.9.5"
  }
 },
 "nbformat": 4,
 "nbformat_minor": 5
}
