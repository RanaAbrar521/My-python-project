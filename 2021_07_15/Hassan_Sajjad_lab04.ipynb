{
 "cells": [
  {
   "cell_type": "code",
   "execution_count": null,
   "id": "70ae1fd8",
   "metadata": {},
   "outputs": [],
   "source": [
    "#parent class\n",
    "#set fuction\n",
    "#get function\n",
    "#child class\n",
    "#add courses"
   ]
  },
  {
   "cell_type": "code",
   "execution_count": 94,
   "id": "be14007c",
   "metadata": {},
   "outputs": [],
   "source": [
    "class Student:\n",
    "    def __init__(self,name,batch,address):\n",
    "        self.name=name\n",
    "        self.batch = batch\n",
    "        self.address = address\n",
    "    \n",
    "    def set_name(self,name):\n",
    "        self.name=name\n",
    "        \n",
    "    def set_batch(self,batch): \n",
    "        self.batch=batch\n",
    "        \n",
    "    def set_address(self,address):\n",
    "        self.address=address\n",
    "        \n",
    "    \n",
    "    def get_name(self):\n",
    "        return self.name\n",
    "    \n",
    "    def get_batch(self):\n",
    "        return self.batch\n",
    "    \n",
    "    def get_address(self):\n",
    "        return self.address\n",
    "\n",
    "class DevnationStudents(Student):\n",
    "    def __init__(self,name,batch,address,courses=[],marks=[]):\n",
    "        super().__init__(name,batch,address)\n",
    "        \n",
    "    \n",
    "    def set_add_course(self,add_course):\n",
    "#         self.add_course = add_course\n",
    "        for i in add_course:\n",
    "            if i not in self.add_course:\n",
    "                self.add_course.append(i)\n",
    "\n",
    "    \n",
    "    \n",
    "    def set_add_course_marks(self,add_course_marks):\n",
    "        \n",
    "        self.add_course_marks= add_course_marks\n",
    "        \n",
    "        \n",
    "    def get_add_course(self):\n",
    "        return self.add_course\n",
    "    \n",
    "    def get_add_course_marks(self):\n",
    "        return self.add_course_marks\n",
    "        "
   ]
  },
  {
   "cell_type": "code",
   "execution_count": 57,
   "id": "34d42b9e",
   "metadata": {},
   "outputs": [],
   "source": [
    "s= Student(\"hassan\",\"3\",\"Lahore\")\n",
    "s.set_name(\"Hassan Sajjad\")"
   ]
  },
  {
   "cell_type": "code",
   "execution_count": 58,
   "id": "cbb8ca66",
   "metadata": {},
   "outputs": [
    {
     "data": {
      "text/plain": [
       "'Hassan Sajjad'"
      ]
     },
     "execution_count": 58,
     "metadata": {},
     "output_type": "execute_result"
    }
   ],
   "source": [
    "s.name"
   ]
  },
  {
   "cell_type": "code",
   "execution_count": 59,
   "id": "3e06ab72",
   "metadata": {},
   "outputs": [],
   "source": [
    "d = DevnationStudents(\"ali\",\"2\",\"Lahore\")"
   ]
  },
  {
   "cell_type": "code",
   "execution_count": 60,
   "id": "634c753d",
   "metadata": {},
   "outputs": [
    {
     "data": {
      "text/plain": [
       "'ali'"
      ]
     },
     "execution_count": 60,
     "metadata": {},
     "output_type": "execute_result"
    }
   ],
   "source": [
    "d.name"
   ]
  },
  {
   "cell_type": "code",
   "execution_count": 90,
   "id": "2c390f0f",
   "metadata": {},
   "outputs": [],
   "source": [
    "d.set_add_course(['datascience','full stack'])"
   ]
  },
  {
   "cell_type": "code",
   "execution_count": 92,
   "id": "3eabcc13",
   "metadata": {},
   "outputs": [
    {
     "data": {
      "text/plain": [
       "['datascience', 'full stack']"
      ]
     },
     "execution_count": 92,
     "metadata": {},
     "output_type": "execute_result"
    }
   ],
   "source": [
    "d.add_course"
   ]
  },
  {
   "cell_type": "code",
   "execution_count": null,
   "id": "c082bc95",
   "metadata": {},
   "outputs": [],
   "source": []
  },
  {
   "cell_type": "code",
   "execution_count": null,
   "id": "58298b35",
   "metadata": {},
   "outputs": [],
   "source": []
  }
 ],
 "metadata": {
  "kernelspec": {
   "display_name": "Python 3 (ipykernel)",
   "language": "python",
   "name": "python3"
  },
  "language_info": {
   "codemirror_mode": {
    "name": "ipython",
    "version": 3
   },
   "file_extension": ".py",
   "mimetype": "text/x-python",
   "name": "python",
   "nbconvert_exporter": "python",
   "pygments_lexer": "ipython3",
   "version": "3.7.10"
  }
 },
 "nbformat": 4,
 "nbformat_minor": 5
}
