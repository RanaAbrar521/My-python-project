{
 "cells": [
  {
   "cell_type": "code",
   "execution_count": 1,
   "id": "2e86f5de",
   "metadata": {},
   "outputs": [],
   "source": [
    "# constructors getters and setters\n",
    "# "
   ]
  },
  {
   "cell_type": "code",
   "execution_count": 112,
   "id": "38fccf9a",
   "metadata": {},
   "outputs": [],
   "source": [
    "class Student:\n",
    "    def __init__(self, name, batch_no, Address ):\n",
    "        self.name = name\n",
    "        self.batch_no = batch_no\n",
    "        self.Address = Address\n",
    "    def set_name(self,name):\n",
    "        self.name = name\n",
    "            \n",
    "    def set_batch_no(self,batch_no):\n",
    "        self.batch_no = batch_no \n",
    "    def set_Address(self,Address):\n",
    "        self.Address = Address\n",
    "\n",
    "    def get_name(self):\n",
    "        return self.name\n",
    "    def get_batch_no(self):\n",
    "        return self.batch_no\n",
    "    def get_Address(self):\n",
    "        return self.Address\n",
    "\n",
    "    \n",
    "class DevnationStudents(Student):\n",
    "    def __init__(self,  name, batch_no, Address, courses, marks):\n",
    "        Student.__init__(self,name, batch_no, Address)\n",
    "        self.courses = courses\n",
    "        self.marks = marks\n",
    "    def set_addcourse(coursename):\n",
    "        list1 = ['Data Science', 'Web Dev','C++']\n",
    "        if coursename != list1:\n",
    "            a = list1.append(coursename)\n",
    "            return list1\n",
    "    def set_courses_marks():\n",
    "        list_of_dictionaries = [{'course':'datascience','marks':'50'},{'course':'Fullstack', marks :'50'}]\n",
    "        if  list1 == list_of_dictionaries:\n",
    "            return list_of_dictionaries \n",
    "    \n",
    "    \n",
    "\n",
    "\n",
    "\n"
   ]
  },
  {
   "cell_type": "code",
   "execution_count": null,
   "id": "e7f69224",
   "metadata": {},
   "outputs": [],
   "source": []
  },
  {
   "cell_type": "code",
   "execution_count": 114,
   "id": "4c5987cb",
   "metadata": {},
   "outputs": [],
   "source": [
    "obj = DevnationStudents('iqra','1','SWL',[],[])"
   ]
  },
  {
   "cell_type": "code",
   "execution_count": 115,
   "id": "3d6b64f4",
   "metadata": {},
   "outputs": [
    {
     "name": "stdout",
     "output_type": "stream",
     "text": [
      "None\n",
      "None\n",
      "None\n",
      "iqra M\n",
      "3\n",
      "LHR\n"
     ]
    }
   ],
   "source": [
    "obj = Student('iqra',2,'swl')\n",
    "obj.name\n",
    "\n",
    "a = obj.set_name('iqra M')\n",
    "print(obj.set_batch_no('3'))\n",
    "print(obj.set_Address('LHR'))\n",
    "\n",
    "print(a)\n",
    "print(obj.get_name())\n",
    "print(obj.get_batch_no())\n",
    "print(obj.get_Address())"
   ]
  },
  {
   "cell_type": "code",
   "execution_count": null,
   "id": "5b971e94",
   "metadata": {},
   "outputs": [],
   "source": []
  },
  {
   "cell_type": "code",
   "execution_count": null,
   "id": "d51a5b69",
   "metadata": {},
   "outputs": [],
   "source": []
  },
  {
   "cell_type": "code",
   "execution_count": null,
   "id": "b40cbca4",
   "metadata": {},
   "outputs": [],
   "source": []
  },
  {
   "cell_type": "code",
   "execution_count": null,
   "id": "1419947d",
   "metadata": {},
   "outputs": [],
   "source": []
  },
  {
   "cell_type": "code",
   "execution_count": null,
   "id": "8de861b5",
   "metadata": {},
   "outputs": [],
   "source": []
  }
 ],
 "metadata": {
  "kernelspec": {
   "display_name": "Python 3",
   "language": "python",
   "name": "python3"
  },
  "language_info": {
   "codemirror_mode": {
    "name": "ipython",
    "version": 3
   },
   "file_extension": ".py",
   "mimetype": "text/x-python",
   "name": "python",
   "nbconvert_exporter": "python",
   "pygments_lexer": "ipython3",
   "version": "3.8.8"
  }
 },
 "nbformat": 4,
 "nbformat_minor": 5
}
