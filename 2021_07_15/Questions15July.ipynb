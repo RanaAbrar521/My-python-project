{
 "cells": [
  {
   "cell_type": "code",
   "execution_count": 120,
   "id": "2b835a54",
   "metadata": {},
   "outputs": [],
   "source": [
    "## Create a class Student with the respective setter and getter\n",
    "\n",
    "## Create a child class DevnationStudents\n",
    "     ## calls Parent classs Constructor\n",
    "    ## save courses & marks Empty list\n",
    "    \n",
    "    ## setter function\n",
    "        ## Add courses\n",
    "            ## takes a list of courses\n",
    "            ## add only those elements which are not present\n",
    "        \n",
    "        ## Add Courses_marks\n",
    "            ## takes list of dic [{“course”:”datascience”,”marks”:”50”},{“course”:”Fullstack”:50}]\n",
    "            ## if subject is in courses list , then add it in marks\n",
    "            ## no duplicates\n",
    "    \n",
    "    ## getter fucntion"
   ]
  },
  {
   "cell_type": "code",
   "execution_count": 174,
   "id": "fce94b6d",
   "metadata": {},
   "outputs": [],
   "source": [
    "class Students:\n",
    "    def __init__(self,name,batch_no,address):\n",
    "        self.name = name\n",
    "        self.batch_no = batch_no\n",
    "        self.address = address\n",
    "    \n",
    "    def set_name(self,name):\n",
    "        self.name = name\n",
    "    def set_batch_no(self,batch_no):\n",
    "        self.batch_no = int(batch_no)\n",
    "    def set_address(self,address):\n",
    "        self.address = address\n",
    "        \n",
    "    def get_name(self):\n",
    "        return self.name\n",
    "    def get_batch_no(self):\n",
    "        return self.batch_no\n",
    "    def get_address(self):\n",
    "        return self.address\n",
    "\n",
    "class DevnationStudents(Students):\n",
    "    def __init__(self,name,batch_no,address,courses=[],marks=[]):\n",
    "        super().__init__(name,batch_no,address)\n",
    "        self.courses = courses\n",
    "        self.marks = marks \n",
    "        \n",
    "    def set_courses(self,courses):\n",
    "        self.courses = courses\n",
    "        if courses in self.courses:\n",
    "            self.courses.append.set({\"courses\"})\n",
    "    \n",
    "    def set_marks(self,marks):\n",
    "        self.marks = marks\n",
    "    \n",
    "    \n",
    "    def get_courses(self):\n",
    "        return self.courses\n",
    "    \n",
    "    def get_marks(self):\n",
    "        return self.marks\n",
    "    "
   ]
  },
  {
   "cell_type": "code",
   "execution_count": 175,
   "id": "931be393",
   "metadata": {},
   "outputs": [],
   "source": [
    "parentdata = Students('hamza',33,\"lahore\")"
   ]
  },
  {
   "cell_type": "code",
   "execution_count": 176,
   "id": "03c84392",
   "metadata": {},
   "outputs": [
    {
     "data": {
      "text/plain": [
       "'hamza'"
      ]
     },
     "execution_count": 176,
     "metadata": {},
     "output_type": "execute_result"
    }
   ],
   "source": [
    "parentdata.get_name()"
   ]
  },
  {
   "cell_type": "code",
   "execution_count": 177,
   "id": "cb405887",
   "metadata": {},
   "outputs": [
    {
     "data": {
      "text/plain": [
       "33"
      ]
     },
     "execution_count": 177,
     "metadata": {},
     "output_type": "execute_result"
    }
   ],
   "source": [
    "parentdata.get_batch_no()"
   ]
  },
  {
   "cell_type": "code",
   "execution_count": 178,
   "id": "3da03d20",
   "metadata": {},
   "outputs": [
    {
     "data": {
      "text/plain": [
       "'lahore'"
      ]
     },
     "execution_count": 178,
     "metadata": {},
     "output_type": "execute_result"
    }
   ],
   "source": [
    "parentdata.get_address()"
   ]
  },
  {
   "cell_type": "code",
   "execution_count": 179,
   "id": "1083365d",
   "metadata": {},
   "outputs": [],
   "source": [
    "data = DevnationStudents('hamza',33,\"lahore\").set_courses(['DataScience'])"
   ]
  },
  {
   "cell_type": "code",
   "execution_count": 193,
   "id": "9c5dc6b9",
   "metadata": {},
   "outputs": [
    {
     "ename": "AttributeError",
     "evalue": "'NoneType' object has no attribute 'get_courses'",
     "output_type": "error",
     "traceback": [
      "\u001b[1;31m---------------------------------------------------------------------------\u001b[0m",
      "\u001b[1;31mAttributeError\u001b[0m                            Traceback (most recent call last)",
      "\u001b[1;32m<ipython-input-193-622029822725>\u001b[0m in \u001b[0;36m<module>\u001b[1;34m\u001b[0m\n\u001b[1;32m----> 1\u001b[1;33m \u001b[0mdata\u001b[0m\u001b[1;33m.\u001b[0m\u001b[0mget_courses\u001b[0m\u001b[1;33m(\u001b[0m\u001b[1;33m)\u001b[0m\u001b[1;33m\u001b[0m\u001b[1;33m\u001b[0m\u001b[0m\n\u001b[0m",
      "\u001b[1;31mAttributeError\u001b[0m: 'NoneType' object has no attribute 'get_courses'"
     ]
    }
   ],
   "source": [
    "data.get_courses()"
   ]
  },
  {
   "cell_type": "code",
   "execution_count": null,
   "id": "e38d8d2d",
   "metadata": {},
   "outputs": [],
   "source": []
  },
  {
   "cell_type": "code",
   "execution_count": null,
   "id": "9d11e3b8",
   "metadata": {},
   "outputs": [],
   "source": []
  }
 ],
 "metadata": {
  "kernelspec": {
   "display_name": "Python 3",
   "language": "python",
   "name": "python3"
  },
  "language_info": {
   "codemirror_mode": {
    "name": "ipython",
    "version": 3
   },
   "file_extension": ".py",
   "mimetype": "text/x-python",
   "name": "python",
   "nbconvert_exporter": "python",
   "pygments_lexer": "ipython3",
   "version": "3.7.10"
  }
 },
 "nbformat": 4,
 "nbformat_minor": 5
}
