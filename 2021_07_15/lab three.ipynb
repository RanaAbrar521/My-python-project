{
 "cells": [
  {
   "cell_type": "code",
   "execution_count": 31,
   "id": "8e753f7b",
   "metadata": {},
   "outputs": [
    {
     "name": "stdout",
     "output_type": "stream",
     "text": [
      "2021\n"
     ]
    }
   ],
   "source": [
    "class Person:\n",
    "    def __init__(self, fname, lname):\n",
    "        self.firstname = fname\n",
    "        self.lastname = lname\n",
    "\n",
    "    def printname(self):\n",
    "        print(self.firstname, self.lastname)\n",
    "\n",
    "class Student(Person):\n",
    "    def __init__(self, fname, lname, year):\n",
    "        super().__init__(fname, lname)\n",
    "        self.graduationyear = year\n",
    "\n",
    "x = Student(\"naz\", \"kashaf\", 2021)\n",
    "print(x.graduationyear)"
   ]
  },
  {
   "cell_type": "markdown",
   "id": "f16bdaec",
   "metadata": {},
   "source": [
    "# Question break down\n",
    "\n",
    "in this code we will  create a child class in which access parent class\n",
    "\n",
    "# creat a class \"student\"\n",
    "\n",
    "following parameter\n",
    "\"i. Name\n",
    "ii. Batch No\n",
    "iii. Address\"\n",
    "\n",
    "## creat new child class \"DevnationStudents\"\n",
    "\n",
    "1.in which we will call parent class const\n",
    "    save \"course\"\"marks\" list as empty\n",
    "2.Add only those courses in the list which are not already in the\n",
    "list\n",
    "3.add dict\n",
    "4.Marks list should not contains duplicate entries of same\n",
    "courses\n"
   ]
  },
  {
   "cell_type": "code",
   "execution_count": 43,
   "id": "a2104f1e",
   "metadata": {},
   "outputs": [],
   "source": [
    "class Student:\n",
    "    def __init__(self,name,batch_no,address):\n",
    "        self.name = name\n",
    "        self.batch_no = batch_no\n",
    "        self.address = address\n",
    "        \n",
    "    def set_name(self):\n",
    "        return self.name\n",
    "    def set_batch_no(self):\n",
    "        return self.batch_no\n",
    "    def set_adress(self):\n",
    "        return self.address\n",
    "\n",
    "    \n",
    "    def get_name(self):\n",
    "        return self.name\n",
    "    def get_batch_no(self):\n",
    "        return self.batch_no\n",
    "    def get_adress(self):\n",
    "        return self.adress\n",
    "\n",
    "class Devnationstudents(Student):\n",
    "    def __init__(self,name,batch_no, address, courses=[], marks=[]):\n",
    "        super().__init__(name,batch_no,address)\n",
    "        self.Devanationstudents = Devnationstudents\n",
    "        \n",
    "        \n",
    "    def set_courses(self,courses= ['data science','full stack']):\n",
    "        self.courses = cou\n",
    "        i = [\"full stack\", \"C++\"]\n",
    "        \n",
    "        for i in courses:\n",
    "            if i not in self.courses:\n",
    "                self.courses.append(i)\n",
    "              \n",
    "    def set_marks(self,marks):\n",
    "        if courses in self.courses:\n",
    "            \n",
    "            self.courses_marks.append({\"course\":courses,\"marks\":courses_marks})\n",
    "        else:\n",
    "            print(\"not found\")    \n",
    "\n",
    "    def get_courses(self):\n",
    "        return self.courses\n",
    "    def get_marks(self):\n",
    "        return self.marks "
   ]
  },
  {
   "cell_type": "code",
   "execution_count": 48,
   "id": "290a460f",
   "metadata": {},
   "outputs": [
    {
     "name": "stdout",
     "output_type": "stream",
     "text": [
      "<__main__.Devnationstudents object at 0x0000017765C8ED30>\n"
     ]
    }
   ],
   "source": [
    "x = Devnationstudents(\"kashaf\", \"naz\", \"swl\")\n",
    "print(x)"
   ]
  },
  {
   "cell_type": "code",
   "execution_count": null,
   "id": "d051c206",
   "metadata": {},
   "outputs": [],
   "source": []
  }
 ],
 "metadata": {
  "kernelspec": {
   "display_name": "Python 3",
   "language": "python",
   "name": "python3"
  },
  "language_info": {
   "codemirror_mode": {
    "name": "ipython",
    "version": 3
   },
   "file_extension": ".py",
   "mimetype": "text/x-python",
   "name": "python",
   "nbconvert_exporter": "python",
   "pygments_lexer": "ipython3",
   "version": "3.8.8"
  }
 },
 "nbformat": 4,
 "nbformat_minor": 5
}
