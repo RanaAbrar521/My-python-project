{
 "cells": [
  {
   "cell_type": "code",
   "execution_count": 113,
   "id": "b283f548",
   "metadata": {},
   "outputs": [],
   "source": [
    "### create class student ---> class Student:\n",
    "### create its constructor, setter and getters for the following parameters : name,batch_no,address\n",
    "### create child class DevnationStudents ---> class DevnationStudents(Student):\n",
    "### call parents parameters and add two new parameters in child : courses=[], marks=[]\n",
    "### setter function for child parameters and getters as well\n",
    "### take list of course and add only unique courses, we use set for it\n",
    "### then take list of dictionary and if the course exists add marks else course not found\n",
    "\n",
    "\n",
    "class Student:\n",
    "    def __init__(self,name,batch_no,address):\n",
    "        self.name=name\n",
    "        self.batch_no=batch_no\n",
    "        self.address=address\n",
    "    def set_name(self,name):\n",
    "        self.name=name\n",
    "        \n",
    "    def set_batch_no(self,batch_no):\n",
    "        self.batch_no=batch_no\n",
    "        \n",
    "    def set_address(self,address):\n",
    "        self.address=address\n",
    "    \n",
    "    def get_name(self):\n",
    "        return self.name\n",
    "    \n",
    "    def get_batch_no(self):\n",
    "        return self.batch_no\n",
    "    \n",
    "    def get_address(self):\n",
    "        return self.address\n",
    "\n",
    "class DevnationStudents(Student):\n",
    "    def __init__(self,name,batch_no,address,courses=[],marks=[]):\n",
    "        super().__init__(name,batch_no,address)\n",
    "        self.courses=courses\n",
    "        self.marks=marks\n",
    "        \n",
    "    def set_courses(self,courses):\n",
    "        for s in courses:\n",
    "            if s not in self.courses:\n",
    "                self.courses.append(s)        \n",
    "    \n",
    "    def set_marks(self,courses,marks):\n",
    "        for s in courses:\n",
    "            if s in self.courses:\n",
    "                self.marks.append({\"course\":s,\"marks\":marks})\n",
    "            else:\n",
    "                print(\"course not found\")\n",
    "            \n",
    "    def get_courses(self):\n",
    "        return self.courses\n",
    "    \n",
    "    def get_marks(self):\n",
    "        return self.marks\n",
    "        "
   ]
  },
  {
   "cell_type": "code",
   "execution_count": 118,
   "id": "4442febc",
   "metadata": {},
   "outputs": [
    {
     "data": {
      "text/plain": [
       "['datascience', 'Full Stack', 'C++', 'java', 'Python']"
      ]
     },
     "execution_count": 118,
     "metadata": {},
     "output_type": "execute_result"
    }
   ],
   "source": [
    "obj=DevnationStudents(\"zaid\",3,\"lahore\")\n",
    "obj.set_courses([\"datascience\",\"Full Stack\",\"C++\"])\n",
    "\n",
    "obj.get_courses()\n",
    "obj.set_courses([\"java\",\"C++\"])\n",
    "obj.get_courses()\n",
    "obj.set_courses([\"Python\"])\n",
    "obj.get_courses()\n",
    "\n"
   ]
  },
  {
   "cell_type": "code",
   "execution_count": 121,
   "id": "ec24bfd9",
   "metadata": {},
   "outputs": [
    {
     "data": {
      "text/plain": [
       "[{'course': 'java', 'marks': 40},\n",
       " {'course': 'C++', 'marks': 40},\n",
       " {'course': 'Python', 'marks': 40},\n",
       " {'course': 'java', 'marks': 40}]"
      ]
     },
     "execution_count": 121,
     "metadata": {},
     "output_type": "execute_result"
    }
   ],
   "source": [
    "obj.set_marks([\"java\"],40)\n",
    "obj.get_marks()"
   ]
  },
  {
   "cell_type": "code",
   "execution_count": null,
   "id": "ff28eac7",
   "metadata": {},
   "outputs": [],
   "source": []
  }
 ],
 "metadata": {
  "kernelspec": {
   "display_name": "Python 3",
   "language": "python",
   "name": "python3"
  },
  "language_info": {
   "codemirror_mode": {
    "name": "ipython",
    "version": 3
   },
   "file_extension": ".py",
   "mimetype": "text/x-python",
   "name": "python",
   "nbconvert_exporter": "python",
   "pygments_lexer": "ipython3",
   "version": "3.8.8"
  }
 },
 "nbformat": 4,
 "nbformat_minor": 5
}
