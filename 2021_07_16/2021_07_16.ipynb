{
 "cells": [
  {
   "cell_type": "markdown",
   "id": "1c7cab75",
   "metadata": {},
   "source": [
    "# Create a class Salary with the following getters and setters\n",
    "1. Constructor\n",
    "a. Create an Object with following parameters\n",
    "i. Monthly income\n",
    "ii. Currency\n",
    "iii. Type (Cash or cheque)\n",
    "#Create a new class called Employee which has-a `Salary`\n",
    "a. Write a constructor that takes\n",
    "\n"
   ]
  },
  {
   "cell_type": "code",
   "execution_count": 100,
   "id": "5f3da984",
   "metadata": {},
   "outputs": [],
   "source": [
    "class Salary:\n",
    "    def __init__(self , monthly_income,currency,cash):\n",
    "        self.monthly_income = monthly_income\n",
    "        self.currency = currency\n",
    "        self.cash = cash\n",
    "        \n",
    "    def set_monthly_income(self):\n",
    "        return self.monthly_income \n",
    "    def set_currency(self):\n",
    "        return self.currency\n",
    "    def set_cash(self):\n",
    "        return self.cash\n",
    "\n",
    "    \n",
    "    def get_monthly_income(self):\n",
    "        return self.monthly_income\n",
    "    def get_currency(self):\n",
    "        return self.currency\n",
    "    def get_cash(self):\n",
    "        return self.cash\n",
    "    def get_total(self):\n",
    "        return self.monthly_income * 12\n",
    "    \n",
    "class Employee:\n",
    "    def __init__(self , monthly_income, currency, cash , bonus , annual_salary = None):\n",
    "        self.bonus = bonus\n",
    "        self.new_obj = Salary(monthly_income, currency, cash)\n",
    "        self.annual_salary = annual_salary\n",
    "\n",
    "#     def set_bonus(self):\n",
    "#         return self.bonus\n",
    "        \n",
    "    def set_total_salary(self):\n",
    "        self.annual = self.new_obj.get_total()+self.bonus\n",
    "        \n",
    "    \n",
    "    def get_total_salary(self):\n",
    "        kashaf =  \"The annual salary for this employee is following :\",self.new_obj.get_currency(), self.annual_salary , self.new_obj.get_cash(), self.bonus    \n",
    "        return kashaf\n",
    "    \n",
    "        "
   ]
  },
  {
   "cell_type": "code",
   "execution_count": 101,
   "id": "4b1efbb3",
   "metadata": {},
   "outputs": [],
   "source": [
    "employee_ali = Employee(1000.0, \"$\", \"cash\" , 5000)"
   ]
  },
  {
   "cell_type": "code",
   "execution_count": 102,
   "id": "7d937f86",
   "metadata": {
    "scrolled": true
   },
   "outputs": [],
   "source": [
    "employee_ali.set_total_salary()"
   ]
  },
  {
   "cell_type": "code",
   "execution_count": 99,
   "id": "76d5eb8e",
   "metadata": {},
   "outputs": [
    {
     "data": {
      "text/plain": [
       "('The annual salary for this employee is following :', '$', None, 'cash', 5000)"
      ]
     },
     "execution_count": 99,
     "metadata": {},
     "output_type": "execute_result"
    }
   ],
   "source": [
    "employee_ali.get_total_salary()"
   ]
  },
  {
   "cell_type": "code",
   "execution_count": null,
   "id": "793e5b89",
   "metadata": {},
   "outputs": [],
   "source": []
  },
  {
   "cell_type": "code",
   "execution_count": null,
   "id": "c00aff4f",
   "metadata": {},
   "outputs": [],
   "source": []
  }
 ],
 "metadata": {
  "kernelspec": {
   "display_name": "Python 3",
   "language": "python",
   "name": "python3"
  },
  "language_info": {
   "codemirror_mode": {
    "name": "ipython",
    "version": 3
   },
   "file_extension": ".py",
   "mimetype": "text/x-python",
   "name": "python",
   "nbconvert_exporter": "python",
   "pygments_lexer": "ipython3",
   "version": "3.8.8"
  }
 },
 "nbformat": 4,
 "nbformat_minor": 5
}
