{
 "cells": [
  {
   "cell_type": "markdown",
   "id": "7ee42bb9",
   "metadata": {},
   "source": [
    "# Create a class Salary with the following getters and setters\n",
    "1. Constructor\n",
    "a. Create an Object with following parameters\n",
    "i. Monthly income\n",
    "ii. Currency\n",
    "iii. Type (Cash or cheque)\n",
    "#Create a new class called Employee which has-a `Salary`\n",
    "a. Write a constructor that takes\n",
    "\n"
   ]
  },
  {
   "cell_type": "code",
   "execution_count": 74,
   "id": "97ecc708",
   "metadata": {},
   "outputs": [],
   "source": [
    "class Salary:\n",
    "    def __init__(self , monthly_income,currency,cash):\n",
    "        self.monthly_income = monthly_income\n",
    "        self.currency = currency\n",
    "        self.cash = cash\n",
    "        \n",
    "    def set_monthly_income(self):\n",
    "        return self.monthly_income \n",
    "    def set_currency(self):\n",
    "        return self.currency\n",
    "    def set_cash(self):\n",
    "        return self.cash\n",
    "\n",
    "    \n",
    "    def get_monthly_income(self):\n",
    "        return self.monthly_income\n",
    "    def get_currency(self):\n",
    "        return self.currency\n",
    "    def get_cash(self):\n",
    "        return self.cash\n",
    "    def get_total(self):\n",
    "        return self.monthly_income * 12\n",
    "    \n",
    "class Employee:\n",
    "    def __init__(self , monthly_income, currency, cash , bonus , annual_salary = None):\n",
    "        self.bonus = bonus\n",
    "        self.new_obj = Salary(monthly_income, currency, cash)\n",
    "        self.annual_salary = annual_salary\n",
    "\n",
    "#     def set_bonus(self):\n",
    "#         return self.bonus\n",
    "        \n",
    "    def set_total_salary(self):\n",
    "        self.annual_salary = self.new_obj.get_total+self.bonus\n",
    "        \n",
    "    \n",
    "    def get_total_salary(self):\n",
    "        kashaf =  \"The annual salary for this employee is following :\",self.new_obj.get_currency(), self.annual_salary , self.new_obj.get_cash(), self.bonus    \n",
    "        return kashaf\n",
    "    \n",
    "        "
   ]
  },
  {
   "cell_type": "code",
   "execution_count": 75,
   "id": "8dd7726a",
   "metadata": {},
   "outputs": [],
   "source": [
    "employee_ali = Employee(1000.0, \"$\", \"cash\" , 5000)"
   ]
  },
  {
   "cell_type": "code",
   "execution_count": 76,
   "id": "f343a650",
   "metadata": {},
   "outputs": [
    {
     "ename": "TypeError",
     "evalue": "unsupported operand type(s) for +: 'method' and 'int'",
     "output_type": "error",
     "traceback": [
      "\u001b[1;31m---------------------------------------------------------------------------\u001b[0m",
      "\u001b[1;31mTypeError\u001b[0m                                 Traceback (most recent call last)",
      "\u001b[1;32m<ipython-input-76-2ec7373e9f84>\u001b[0m in \u001b[0;36m<module>\u001b[1;34m\u001b[0m\n\u001b[1;32m----> 1\u001b[1;33m \u001b[0memployee_ali\u001b[0m\u001b[1;33m.\u001b[0m\u001b[0mset_total_salary\u001b[0m\u001b[1;33m(\u001b[0m\u001b[1;33m)\u001b[0m\u001b[1;33m\u001b[0m\u001b[1;33m\u001b[0m\u001b[0m\n\u001b[0m",
      "\u001b[1;32m<ipython-input-74-ca3c7d664bbf>\u001b[0m in \u001b[0;36mset_total_salary\u001b[1;34m(self)\u001b[0m\n\u001b[0;32m     32\u001b[0m \u001b[1;33m\u001b[0m\u001b[0m\n\u001b[0;32m     33\u001b[0m     \u001b[1;32mdef\u001b[0m \u001b[0mset_total_salary\u001b[0m\u001b[1;33m(\u001b[0m\u001b[0mself\u001b[0m\u001b[1;33m)\u001b[0m\u001b[1;33m:\u001b[0m\u001b[1;33m\u001b[0m\u001b[1;33m\u001b[0m\u001b[0m\n\u001b[1;32m---> 34\u001b[1;33m         \u001b[0mself\u001b[0m\u001b[1;33m.\u001b[0m\u001b[0mannual_salary\u001b[0m \u001b[1;33m=\u001b[0m \u001b[0mself\u001b[0m\u001b[1;33m.\u001b[0m\u001b[0mnew_obj\u001b[0m\u001b[1;33m.\u001b[0m\u001b[0mget_total\u001b[0m\u001b[1;33m+\u001b[0m\u001b[0mself\u001b[0m\u001b[1;33m.\u001b[0m\u001b[0mbonus\u001b[0m\u001b[1;33m\u001b[0m\u001b[1;33m\u001b[0m\u001b[0m\n\u001b[0m\u001b[0;32m     35\u001b[0m \u001b[1;33m\u001b[0m\u001b[0m\n\u001b[0;32m     36\u001b[0m \u001b[1;33m\u001b[0m\u001b[0m\n",
      "\u001b[1;31mTypeError\u001b[0m: unsupported operand type(s) for +: 'method' and 'int'"
     ]
    }
   ],
   "source": [
    "employee_ali.set_total_salary()"
   ]
  },
  {
   "cell_type": "code",
   "execution_count": 77,
   "id": "b5ae99e5",
   "metadata": {},
   "outputs": [
    {
     "data": {
      "text/plain": [
       "('The annual salary for this employee is following :', '$', None, 'cash', 5000)"
      ]
     },
     "execution_count": 77,
     "metadata": {},
     "output_type": "execute_result"
    }
   ],
   "source": [
    "employee_ali.get_total_salary()"
   ]
  },
  {
   "cell_type": "code",
   "execution_count": null,
   "id": "ec1edcba",
   "metadata": {},
   "outputs": [],
   "source": []
  },
  {
   "cell_type": "code",
   "execution_count": null,
   "id": "0f949e55",
   "metadata": {},
   "outputs": [],
   "source": []
  }
 ],
 "metadata": {
  "kernelspec": {
   "display_name": "Python 3",
   "language": "python",
   "name": "python3"
  },
  "language_info": {
   "codemirror_mode": {
    "name": "ipython",
    "version": 3
   },
   "file_extension": ".py",
   "mimetype": "text/x-python",
   "name": "python",
   "nbconvert_exporter": "python",
   "pygments_lexer": "ipython3",
   "version": "3.8.8"
  }
 },
 "nbformat": 4,
 "nbformat_minor": 5
}
