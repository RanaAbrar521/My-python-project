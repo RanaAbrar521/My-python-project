{
 "cells": [
  {
   "cell_type": "markdown",
   "id": "dba7f953",
   "metadata": {},
   "source": [
    "# Data Science Lab-05\n"
   ]
  },
  {
   "cell_type": "code",
   "execution_count": 131,
   "id": "59b6ed92",
   "metadata": {},
   "outputs": [],
   "source": [
    "class Salary:\n",
    "    def __init__(self,monthly_income,Currency,Type):\n",
    "        self.monthly_income = monthly_income\n",
    "        self.Currency = Currency\n",
    "        self.Type = Type\n",
    "        \n",
    "    def set_monthly_income(self, monthly_income):\n",
    "        self.monthly_income = monthly_income    \n",
    "    def set_Currency(self, Currency):\n",
    "        self.Currency =Currency\n",
    "    def set_Type():\n",
    "        self.Type =Type\n",
    "        \n",
    "    def get_monthly_income(self):\n",
    "        return self.monthly_income\n",
    "    def get_Currency(self):\n",
    "        return self.Currency\n",
    "    def get_Type(self):\n",
    "        return self.Type      \n",
    "    def get_annual_income(self):\n",
    "        return self.monthly_income * 12\n",
    "    \n",
    "    \n",
    "    \n",
    "class Employee:\n",
    "    def __init__(self,monthly_income,bonus, Currency,Type, annual_salary = None):\n",
    "        self.monthly_income =monthly_income\n",
    "        self.bonus = bonus\n",
    "        self.annual_salary = annual_salary\n",
    "        \n",
    "        self.salary = Salary(monthly_income,Currency,Type)\n",
    "    \n",
    "    def set_ann_sal_inl_bonus(self):\n",
    "        self.annual_salary = self.salary.get_annual_income() + self.bonus\n",
    "    \n",
    "    def get_tatal_annual_salary(self):\n",
    "        a = 'Annual salary is' + str(self.annual_salary) + str(self.Currency) + 'including' + str(self.bonus) + 'Annual bonus'\n",
    "        return a\n",
    "    \n",
    "    \n",
    "    \n",
    "    \n",
    "    \n",
    "        "
   ]
  },
  {
   "cell_type": "code",
   "execution_count": 132,
   "id": "46dc1b5e",
   "metadata": {},
   "outputs": [],
   "source": [
    "#obj = Salary(100.00,\"Euro\", 'cash')\n",
    "obj1 = Employee(1000, 250,'Euros','cash')"
   ]
  },
  {
   "cell_type": "code",
   "execution_count": 133,
   "id": "a65f2e64",
   "metadata": {},
   "outputs": [
    {
     "ename": "AttributeError",
     "evalue": "'Employee' object has no attribute 'Currency'",
     "output_type": "error",
     "traceback": [
      "\u001b[1;31m---------------------------------------------------------------------------\u001b[0m",
      "\u001b[1;31mAttributeError\u001b[0m                            Traceback (most recent call last)",
      "\u001b[1;32m<ipython-input-133-0424493599ef>\u001b[0m in \u001b[0;36m<module>\u001b[1;34m\u001b[0m\n\u001b[1;32m----> 1\u001b[1;33m \u001b[0mobj1\u001b[0m\u001b[1;33m.\u001b[0m\u001b[0mget_tatal_annual_salary\u001b[0m\u001b[1;33m(\u001b[0m\u001b[1;33m)\u001b[0m\u001b[1;33m\u001b[0m\u001b[1;33m\u001b[0m\u001b[0m\n\u001b[0m",
      "\u001b[1;32m<ipython-input-131-074b5495675b>\u001b[0m in \u001b[0;36mget_tatal_annual_salary\u001b[1;34m(self)\u001b[0m\n\u001b[0;32m     35\u001b[0m \u001b[1;33m\u001b[0m\u001b[0m\n\u001b[0;32m     36\u001b[0m     \u001b[1;32mdef\u001b[0m \u001b[0mget_tatal_annual_salary\u001b[0m\u001b[1;33m(\u001b[0m\u001b[0mself\u001b[0m\u001b[1;33m)\u001b[0m\u001b[1;33m:\u001b[0m\u001b[1;33m\u001b[0m\u001b[1;33m\u001b[0m\u001b[0m\n\u001b[1;32m---> 37\u001b[1;33m         \u001b[0ma\u001b[0m \u001b[1;33m=\u001b[0m \u001b[1;34m'Annual salary is'\u001b[0m \u001b[1;33m+\u001b[0m \u001b[0mstr\u001b[0m\u001b[1;33m(\u001b[0m\u001b[0mself\u001b[0m\u001b[1;33m.\u001b[0m\u001b[0mannual_salary\u001b[0m\u001b[1;33m)\u001b[0m \u001b[1;33m+\u001b[0m \u001b[0mstr\u001b[0m\u001b[1;33m(\u001b[0m\u001b[0mself\u001b[0m\u001b[1;33m.\u001b[0m\u001b[0mCurrency\u001b[0m\u001b[1;33m)\u001b[0m \u001b[1;33m+\u001b[0m \u001b[1;34m'including'\u001b[0m \u001b[1;33m+\u001b[0m \u001b[0mstr\u001b[0m\u001b[1;33m(\u001b[0m\u001b[0mself\u001b[0m\u001b[1;33m.\u001b[0m\u001b[0mbonus\u001b[0m\u001b[1;33m)\u001b[0m \u001b[1;33m+\u001b[0m \u001b[1;34m'Annual bonus'\u001b[0m\u001b[1;33m\u001b[0m\u001b[1;33m\u001b[0m\u001b[0m\n\u001b[0m\u001b[0;32m     38\u001b[0m         \u001b[1;32mreturn\u001b[0m \u001b[0ma\u001b[0m\u001b[1;33m\u001b[0m\u001b[1;33m\u001b[0m\u001b[0m\n\u001b[0;32m     39\u001b[0m \u001b[1;33m\u001b[0m\u001b[0m\n",
      "\u001b[1;31mAttributeError\u001b[0m: 'Employee' object has no attribute 'Currency'"
     ]
    }
   ],
   "source": [
    "obj1.get_tatal_annual_salary()"
   ]
  },
  {
   "cell_type": "code",
   "execution_count": null,
   "id": "f16c10af",
   "metadata": {},
   "outputs": [],
   "source": []
  },
  {
   "cell_type": "code",
   "execution_count": null,
   "id": "6b6a6276",
   "metadata": {},
   "outputs": [],
   "source": []
  }
 ],
 "metadata": {
  "kernelspec": {
   "display_name": "Python 3",
   "language": "python",
   "name": "python3"
  },
  "language_info": {
   "codemirror_mode": {
    "name": "ipython",
    "version": 3
   },
   "file_extension": ".py",
   "mimetype": "text/x-python",
   "name": "python",
   "nbconvert_exporter": "python",
   "pygments_lexer": "ipython3",
   "version": "3.8.8"
  }
 },
 "nbformat": 4,
 "nbformat_minor": 5
}
