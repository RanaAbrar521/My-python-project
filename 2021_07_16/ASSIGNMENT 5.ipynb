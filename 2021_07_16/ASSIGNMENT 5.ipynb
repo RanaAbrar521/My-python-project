{
 "cells": [
  {
   "cell_type": "markdown",
   "id": "81e40fcd",
   "metadata": {},
   "source": [
    "# Data Science Lab-05\n"
   ]
  },
  {
   "cell_type": "code",
   "execution_count": 179,
   "id": "3ef3e751",
   "metadata": {},
   "outputs": [],
   "source": [
    "class Salary:\n",
    "    def __init__(self,monthly_income,Currency,Type):\n",
    "        self.monthly_income = monthly_income\n",
    "        self.Currency = Currency\n",
    "        self.Type = Type\n",
    "        \n",
    "    def set_monthly_income(self, monthly_income):\n",
    "        self.monthly_income = monthly_income    \n",
    "    def set_Currency(self, Currency):\n",
    "        self.Currency =Currency\n",
    "    def set_Type():\n",
    "        self.Type =Type\n",
    "        \n",
    "    def get_monthly_income(self):\n",
    "        return self.monthly_income\n",
    "    def get_Currency(self):\n",
    "        return self.Currency\n",
    "    def get_Type(self):\n",
    "        return self.Type      \n",
    "    def get_annual_income(self):\n",
    "        return self.monthly_income * 12\n",
    "    \n",
    "    \n",
    "    \n",
    "class Employee:\n",
    "    def __init__(self,monthly_income,bonus, Currency,Type, annual_salary = None):\n",
    "        self.monthly_income = monthly_income\n",
    "        self.bonus = bonus\n",
    "        self.Currency = Currency\n",
    "        self.annual_salary = annual_salary\n",
    "        \n",
    "        self.salary = Salary(monthly_income,Currency,Type)\n",
    "    \n",
    "    def set_ann_sal_inl_bonus(self):\n",
    "        self.annual_salary = self.salary.get_annual_income() + self.bonus\n",
    "    \n",
    "    def get_tatal_annual_salary(self):\n",
    "        a = 'Annual salary is ' + str(self.annual_salary) + str(self.Currency) + ' including ' + str(self.bonus) + ' Annual bonus'\n",
    "        return a\n",
    "    \n",
    "    \n",
    "    \n",
    "    \n",
    "    \n",
    "        "
   ]
  },
  {
   "cell_type": "code",
   "execution_count": 180,
   "id": "5ec7171e",
   "metadata": {},
   "outputs": [],
   "source": [
    "obj1 = Employee(1000, 250,'Euros','cash')"
   ]
  },
  {
   "cell_type": "code",
   "execution_count": 181,
   "id": "38127191",
   "metadata": {},
   "outputs": [],
   "source": [
    "obj1.set_ann_sal_inl_bonus()"
   ]
  },
  {
   "cell_type": "code",
   "execution_count": 182,
   "id": "04ea505d",
   "metadata": {},
   "outputs": [
    {
     "data": {
      "text/plain": [
       "'Annual salary is 12250Euros including 250 Annual bonus'"
      ]
     },
     "execution_count": 182,
     "metadata": {},
     "output_type": "execute_result"
    }
   ],
   "source": [
    "obj1.get_tatal_annual_salary()"
   ]
  },
  {
   "cell_type": "code",
   "execution_count": null,
   "id": "69f8f2da",
   "metadata": {},
   "outputs": [],
   "source": []
  }
 ],
 "metadata": {
  "kernelspec": {
   "display_name": "Python 3",
   "language": "python",
   "name": "python3"
  },
  "language_info": {
   "codemirror_mode": {
    "name": "ipython",
    "version": 3
   },
   "file_extension": ".py",
   "mimetype": "text/x-python",
   "name": "python",
   "nbconvert_exporter": "python",
   "pygments_lexer": "ipython3",
   "version": "3.8.8"
  }
 },
 "nbformat": 4,
 "nbformat_minor": 5
}
