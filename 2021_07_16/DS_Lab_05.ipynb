{
 "cells": [
  {
   "cell_type": "markdown",
   "id": "b0216302-dc9c-4b4b-b2e9-7357edc51a91",
   "metadata": {},
   "source": [
    "Q1. Create a class Salary with the following getters and setters\n",
    "1. Constructor\n",
    "a. Create an Object with following parameters\n",
    "i. Monthly income\n",
    "ii. Currency\n",
    "iii. Type (Cash or cheque)\n",
    "\n",
    "2. Setters\n",
    "a. Monthly income (Float)\n",
    "b. Currency (string)\n",
    "c. Type (string)\n",
    "3. Getters\n",
    "a. Monthly income (Float)\n",
    "b. Currency (string)\n",
    "c. Type (string)\n",
    "d. Annual Income\n",
    "4. Create a new class called Employee which has-a `Salary`\n",
    "a. Write a constructor that takes\n",
    "i. Monthly_income\n",
    "ii. Currency\n",
    "iii. Type\n",
    "iv. Bonus\n",
    "v. Annual Salary with empty value\n",
    "vi. Also creates a Salary object and initialize with Monthly_income\n",
    "b. Write setter functions\n",
    "i. Total Annual Salary including bonus\n",
    "c. Write getter functions\n",
    "i. Get Total Annual Salary\n",
    "1. Should return the statement in this form\n",
    "a. Annual Salary is 50000 Euros including 2500 Annual\n",
    "Bonus\n",
    "b. Here 50000 is the total Annual Salary Including Bonus\n",
    "c. 2500 is the bonus amount\n",
    "d. Euros are currency\n",
    "e. This statement should be created automatically with\n",
    "the values assigned in the object"
   ]
  },
  {
   "cell_type": "code",
   "execution_count": 119,
   "id": "6da903cc-3aad-4c00-b1e8-4a36cb9f1896",
   "metadata": {},
   "outputs": [],
   "source": [
    "class Salary:\n",
    "    \n",
    "#     Class constructor\n",
    "    def __init__(self, monthly_income, currency, pay_type):\n",
    "        self.monthly_income = monthly_income\n",
    "        self.currency = currency\n",
    "        self.pay_type = pay_type        \n",
    "        \n",
    "    \n",
    "#     Setters\n",
    "    def set_monthly_income(self, monthly_income):\n",
    "        self.monthly_income = monthly_income\n",
    "        \n",
    "    def set_currency(self,currency):\n",
    "        self.currency = currency\n",
    "        \n",
    "    def set_pay_type(self,pay_type):\n",
    "        self.pay_type = pay_type                       \n",
    "        \n",
    "        \n",
    "#     Getters\n",
    "    def get_monthly_income(self):\n",
    "        return self.monthly_income\n",
    "        \n",
    "    def get_currency(self):\n",
    "        return self.currency\n",
    "        \n",
    "    def get_pay_type(self):\n",
    "        return self.pay_type\n",
    "    \n",
    "    def get_annual_income(self):\n",
    "        return self.monthly_income * 12\n",
    "        \n",
    "\n",
    "\n",
    "class Employee:\n",
    "    \n",
    "#     Constructor\n",
    "    def __init__(self, monthly_income, currency, pay_type, bonus, annual_salary = 0):\n",
    "        self.bonus = bonus\n",
    "        self.monthly_income = monthly_income\n",
    "        self.salary_obj = Salary(monthly_income, currency, pay_type)\n",
    "        \n",
    "#     Setter\n",
    "    def set_total_annual_salary(self):\n",
    "        return self.salary_obj.get_annual_income() + self.bonus\n",
    "    \n",
    "#     Getter\n",
    "    def get_total_annual_salary(self):\n",
    "        return f\"Annual Salary is {self.set_total_annual_salary()} {self.salary_obj.get_currency()} including {self.bonus} Annual Bonus\""
   ]
  },
  {
   "cell_type": "code",
   "execution_count": 120,
   "id": "cf16f3a3-413b-4570-9f2a-7ac3eb9e8f24",
   "metadata": {},
   "outputs": [],
   "source": [
    "employee_1 = Employee(55000, \"PKR\", \"Cash\", 2000)"
   ]
  },
  {
   "cell_type": "code",
   "execution_count": 121,
   "id": "2daa2f5e-2ccc-4bed-baa1-f4fc9685a6fe",
   "metadata": {},
   "outputs": [
    {
     "data": {
      "text/plain": [
       "662000"
      ]
     },
     "execution_count": 121,
     "metadata": {},
     "output_type": "execute_result"
    }
   ],
   "source": [
    "employee_1.set_total_annual_salary()"
   ]
  },
  {
   "cell_type": "code",
   "execution_count": 122,
   "id": "6e98101f-cd18-4a71-98b4-1ee654e4fc4b",
   "metadata": {},
   "outputs": [
    {
     "data": {
      "text/plain": [
       "'Annual Salary is 662000 PKR including 2000 Annual Bonus'"
      ]
     },
     "execution_count": 122,
     "metadata": {},
     "output_type": "execute_result"
    }
   ],
   "source": [
    "employee_1.get_total_annual_salary()"
   ]
  },
  {
   "cell_type": "code",
   "execution_count": 123,
   "id": "c5d64b4c-dbf0-47ce-8491-5de81af93b24",
   "metadata": {},
   "outputs": [],
   "source": [
    "salary_1 = Salary(5000, \"PKR\", \"Cash\")"
   ]
  },
  {
   "cell_type": "code",
   "execution_count": 124,
   "id": "ac7bd426-adcf-4ab0-bc82-3976ed2f445a",
   "metadata": {},
   "outputs": [
    {
     "data": {
      "text/plain": [
       "5000"
      ]
     },
     "execution_count": 124,
     "metadata": {},
     "output_type": "execute_result"
    }
   ],
   "source": [
    "salary_1.get_monthly_income()"
   ]
  },
  {
   "cell_type": "code",
   "execution_count": 125,
   "id": "51c84cd7-b400-4021-b28e-d5ec246a20b0",
   "metadata": {},
   "outputs": [],
   "source": [
    "salary_1.set_monthly_income(4000)"
   ]
  },
  {
   "cell_type": "code",
   "execution_count": 126,
   "id": "0ae0c00d-fdbd-4bcb-b866-4aa03f46c4a3",
   "metadata": {},
   "outputs": [
    {
     "data": {
      "text/plain": [
       "48000"
      ]
     },
     "execution_count": 126,
     "metadata": {},
     "output_type": "execute_result"
    }
   ],
   "source": [
    "salary_1.get_annual_income()"
   ]
  },
  {
   "cell_type": "code",
   "execution_count": 127,
   "id": "0d395b57-d134-4b2f-baa0-b4aab5a4462e",
   "metadata": {},
   "outputs": [
    {
     "data": {
      "text/plain": [
       "662000"
      ]
     },
     "execution_count": 127,
     "metadata": {},
     "output_type": "execute_result"
    }
   ],
   "source": [
    "employee_1.set_total_annual_salary()"
   ]
  },
  {
   "cell_type": "code",
   "execution_count": 128,
   "id": "dccacf3c-2c43-4a44-ab0e-87b71cd1fe9d",
   "metadata": {},
   "outputs": [
    {
     "data": {
      "text/plain": [
       "'Annual Salary is 662000 PKR including 2000 Annual Bonus'"
      ]
     },
     "execution_count": 128,
     "metadata": {},
     "output_type": "execute_result"
    }
   ],
   "source": [
    "employee_1.get_total_annual_salary()"
   ]
  },
  {
   "cell_type": "code",
   "execution_count": null,
   "id": "f38602b0-2d43-4332-a6aa-fb27bebc12f9",
   "metadata": {},
   "outputs": [],
   "source": []
  }
 ],
 "metadata": {
  "kernelspec": {
   "display_name": "Python 3",
   "language": "python",
   "name": "python3"
  },
  "language_info": {
   "codemirror_mode": {
    "name": "ipython",
    "version": 3
   },
   "file_extension": ".py",
   "mimetype": "text/x-python",
   "name": "python",
   "nbconvert_exporter": "python",
   "pygments_lexer": "ipython3",
   "version": "3.9.5"
  }
 },
 "nbformat": 4,
 "nbformat_minor": 5
}
