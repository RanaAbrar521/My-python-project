{
 "cells": [
  {
   "cell_type": "code",
   "execution_count": 86,
   "id": "2da0f4af",
   "metadata": {},
   "outputs": [],
   "source": [
    "class Salary:\n",
    "    def __init__(self,montly_income,currency,cur_type):\n",
    "        self.monthly_income = monthly_income\n",
    "        self.currency = currency\n",
    "        self.cur_type = cur_type\n",
    "    \n",
    "    def set_monthly_income(self,monthly_income):\n",
    "        self.monthly_income = monthly_income\n",
    "    \n",
    "    def set_currency(self,currency):\n",
    "        self.currency = currency\n",
    "    \n",
    "    def set_cur_type(self,cur_type):\n",
    "        self.cur_type = cur_type\n",
    "        \n",
    "    def get_monthly_income(self):\n",
    "        return self.monthly_income\n",
    "    \n",
    "    def get_currency(self):\n",
    "        return self.currency\n",
    "    \n",
    "    def get_cur_type(self):\n",
    "        return self.cur_type\n",
    "    \n",
    "\n",
    "    def get_total(self):\n",
    "        return self.monthly_income * 12\n",
    "\n",
    "class Employee:\n",
    "    def __init__(self,montly_income,currency,cur_type,bonus,annual_salary):\n",
    "        \n",
    "        self.salary = Salary(monthly_income)\n",
    "        self.bonus = bonus\n",
    "        self.annual_salary = annual_salary\n",
    "        \n",
    "    def set_total_annual_salary(self):\n",
    "        self.annual_salary = self.annual_salary.get_total() + self.bonus() \n",
    "    \n",
    "    \n",
    "    def get_total_annual_salary(self):\n",
    "        total ='Annual salary is' + str(self.annual_salary) + str(currency) + 'including' + str(self.bonus) + 'Annual bonus'\n",
    "        return total\n",
    "    \n",
    "    \n",
    "\n",
    "\n",
    "        "
   ]
  },
  {
   "cell_type": "code",
   "execution_count": 88,
   "id": "705f555e",
   "metadata": {},
   "outputs": [],
   "source": [
    "s = Salary(1000,\"euro\",\"cash\")"
   ]
  },
  {
   "cell_type": "code",
   "execution_count": 69,
   "id": "792fedc1",
   "metadata": {},
   "outputs": [],
   "source": [
    "obj.set_monthly_income(1000)"
   ]
  },
  {
   "cell_type": "code",
   "execution_count": 70,
   "id": "01fcd108",
   "metadata": {},
   "outputs": [
    {
     "data": {
      "text/plain": [
       "1000"
      ]
     },
     "execution_count": 70,
     "metadata": {},
     "output_type": "execute_result"
    }
   ],
   "source": [
    "obj.get_monthly_income()"
   ]
  },
  {
   "cell_type": "code",
   "execution_count": 89,
   "id": "ff51ab07",
   "metadata": {},
   "outputs": [],
   "source": [
    "obj2 = Employee(10000,\"euro\",\"cash\",2500,50000)"
   ]
  },
  {
   "cell_type": "code",
   "execution_count": null,
   "id": "dc93c208",
   "metadata": {},
   "outputs": [],
   "source": [
    "obj2_set_total_annual_salary()"
   ]
  },
  {
   "cell_type": "code",
   "execution_count": null,
   "id": "4688ff00",
   "metadata": {},
   "outputs": [],
   "source": [
    "obj2_get_total_annual_salary()"
   ]
  }
 ],
 "metadata": {
  "kernelspec": {
   "display_name": "Python 3 (ipykernel)",
   "language": "python",
   "name": "python3"
  },
  "language_info": {
   "codemirror_mode": {
    "name": "ipython",
    "version": 3
   },
   "file_extension": ".py",
   "mimetype": "text/x-python",
   "name": "python",
   "nbconvert_exporter": "python",
   "pygments_lexer": "ipython3",
   "version": "3.7.10"
  }
 },
 "nbformat": 4,
 "nbformat_minor": 5
}
