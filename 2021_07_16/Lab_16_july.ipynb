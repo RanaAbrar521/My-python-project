{
 "cells": [
  {
   "cell_type": "markdown",
   "id": "bf61d657-e731-41a9-bbd7-3117234d463b",
   "metadata": {},
   "source": [
    "Q1"
   ]
  },
  {
   "cell_type": "code",
   "execution_count": 82,
   "id": "5cd8753f-68f9-48ad-9100-51d41875bca4",
   "metadata": {},
   "outputs": [],
   "source": [
    "#create Salary class\n",
    "class Salary :\n",
    "    #constructor\n",
    "    def __init__(self,Monthly_income, Currency, Type):\n",
    "        self.Monthly_income = Monthly_income\n",
    "        self.Currency = Currency\n",
    "        self.Type = Type\n",
    "    \n",
    "    \n",
    "    #setters\n",
    "    def set_Monthly_income(self, Monthly_income):\n",
    "        self.Monthly_income = Monthly_income\n",
    "    \n",
    "    def set_Currency(self, Currency):\n",
    "        self.Currency = Currency\n",
    "\n",
    "    def set_Type(self, Type):\n",
    "        self.Type = Type\n",
    "        \n",
    "    #getters\n",
    "    \n",
    "    def get_Monthly_income(self):\n",
    "        return self.Monthly_income\n",
    "    \n",
    "    def get_Currency(self):\n",
    "        return self.Currency\n",
    "    \n",
    "    def get_Type(self):\n",
    "        return self.Type\n",
    "    \n",
    "    def get_annual_income(self):   #getting the annual income\n",
    "        return self.Monthly_income * 12\n",
    "    \n",
    "    \n",
    "    #creating class of employee with has-a relationship with salary class\n",
    "    \n",
    "class Employee:\n",
    "    #constructor\n",
    "    def __init__(self,Monthly_income, Currency, Type, Bonus, Annual_salary= None):\n",
    "        self.salary = Salary(Monthly_income,Currency, Type)\n",
    "        self.Bonus = Bonus\n",
    "        self.Annual_salary = Annual_salary\n",
    "\n",
    "    #setters\n",
    "\n",
    "    def set_Annual_salary(self):\n",
    "        self.Annual_salary = self.salary.get_annual_income() + self.Bonus\n",
    "    #getters\n",
    "    \n",
    "    def get_Annual_Salary(self):\n",
    "        string = str(self.Annual_salary) + \" \" + self.salary.get_Currency() + \" Annual Salary with the Bonus of \" + str(self.Bonus) + \" \" + self.salary.get_Currency()\n",
    "        return string\n",
    "        \n",
    "        \n",
    "        \n",
    "    \n",
    "    \n",
    "    "
   ]
  },
  {
   "cell_type": "code",
   "execution_count": 83,
   "id": "9d48375b-5d64-4123-a114-da5d714a1095",
   "metadata": {},
   "outputs": [],
   "source": [
    "# s= Salary(1000,\"Euro\",\"Cash\")"
   ]
  },
  {
   "cell_type": "code",
   "execution_count": 84,
   "id": "da171bf2-d686-46ff-b880-ea56f20f0519",
   "metadata": {},
   "outputs": [
    {
     "data": {
      "text/plain": [
       "'12015 PKR Annual Salary with the Bonus of 15 PKR'"
      ]
     },
     "execution_count": 84,
     "metadata": {},
     "output_type": "execute_result"
    }
   ],
   "source": [
    "e=Employee(1000,\"PKR\", \"Cash\", 15)\n",
    "e.set_Annual_salary()\n",
    "e.get_Annual_Salary()"
   ]
  },
  {
   "cell_type": "code",
   "execution_count": null,
   "id": "9b0ea82a-3748-4834-951d-640380c08990",
   "metadata": {},
   "outputs": [],
   "source": []
  }
 ],
 "metadata": {
  "kernelspec": {
   "display_name": "Python 3",
   "language": "python",
   "name": "python3"
  },
  "language_info": {
   "codemirror_mode": {
    "name": "ipython",
    "version": 3
   },
   "file_extension": ".py",
   "mimetype": "text/x-python",
   "name": "python",
   "nbconvert_exporter": "python",
   "pygments_lexer": "ipython3",
   "version": "3.8.8"
  }
 },
 "nbformat": 4,
 "nbformat_minor": 5
}
