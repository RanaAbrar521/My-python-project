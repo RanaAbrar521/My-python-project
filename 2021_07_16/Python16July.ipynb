{
 "cells": [
  {
   "cell_type": "markdown",
   "id": "28aa54e6",
   "metadata": {},
   "source": [
    "create a classs Salary\n",
    "1. Constructor\n",
    "a. Create an Object with following parameters\n",
    "i. Monthly income\n",
    "ii. Currency\n",
    "iii. Type (Cash or cheque)\n",
    "\n",
    "2. Setters\n",
    "a. Monthly income (Float)\n",
    "b. Currency (string)\n",
    "c. Type (string)\n",
    "3. Getters\n",
    "a. Monthly income (Float)\n",
    "b. Currency (string)\n",
    "c. Type (string)\n",
    "d. Annual Income\n",
    "4. Create a new class called Employee which has-a `Salary`\n",
    "a. Write a constructor that takes\n",
    "i. Monthly_income\n",
    "ii. Currency\n",
    "iii. Type\n",
    "iv. Bonus\n",
    "v. Annual Salary with empty value\n",
    "vi. Also creates a Salary object and initialize with Monthly_income\n",
    "b. Write setter functions\n",
    "i. Total Annual Salary including bonus\n",
    "c. Write getter functions\n",
    "i. Get Total Annual Salary\n",
    "1. Should return the statement in this form\n",
    "a. Annual Salary is 50000 Euros including 2500 Annual\n",
    "Bonus\n",
    "b. Here 50000 is the total Annual Salary Including Bonus\n",
    "c. 2500 is the bonus amount\n",
    "d. Euros are currency\n",
    "e. This statement should be created automatically with\n",
    "the values assigned in the object"
   ]
  },
  {
   "cell_type": "code",
   "execution_count": null,
   "id": "609ae620",
   "metadata": {},
   "outputs": [],
   "source": [
    "## Create a Class Salary\n",
    "## Constructor with following parameters: Monthly income , currency , type(cash or cheque)\n",
    "## Setters with following parameters: Monthly income , currency , type(cash or cheque)\n",
    "## getters with following parameters: Monthly income , currency , type(cash or cheque) and annual income\n",
    "\n",
    "## Create a new class called Employee which has-a Salary\n",
    "## Constructor with following parameters: Monthly income , currency , type(cash or cheque) and bonus , \n",
    "## annual salary with empty value, create salary object and initialize monthly income\n",
    "\n",
    "## setter with total annual salary with bonus\n",
    "\n",
    "## getter functions: total annual salary\n",
    "## getter function form : Annual Salary is \"total salary\" \"Currency\" including \"Bonus\" Annual bonus"
   ]
  },
  {
   "cell_type": "code",
   "execution_count": 222,
   "id": "800704e3",
   "metadata": {},
   "outputs": [],
   "source": [
    "class Salary:\n",
    "    def __init__(self,monthly_income , currency , income_type):\n",
    "        self.monthly_income = monthly_income\n",
    "        self.currency = currency\n",
    "        self.income_type = income_type\n",
    "    \n",
    "    def set_monthly_income(self,monthly_income):\n",
    "        self.monthly_income = monthly_income\n",
    "    def set_currency(self,currency):\n",
    "        self.currency = currency\n",
    "    def set_income_type(self,income_type):\n",
    "          self.income_type = income_type\n",
    "    \n",
    "    def get_monthly_income(self):\n",
    "        return self.monthly_income\n",
    "    def get_currency(self):\n",
    "        return self.currency\n",
    "    def get_income_type(self):\n",
    "        return self.income_type\n",
    "    def get_annual_income(self):\n",
    "        return self.monthly_income * 12\n",
    "\n",
    "class Employee:\n",
    "    def __init__(self,monthly_income, currency , income_type,bonus,annual_salary = 0):\n",
    "        self.class_salary = Salary(monthly_income , currency , income_type)\n",
    "        self.bonus = bonus\n",
    "        self.annual_salary = annual_salary\n",
    "        \n",
    "    def set_total_annual_salary(self):\n",
    "         return self.class_salary.get_annual_income() + self.bonus\n",
    "    \n",
    "    def get_total_salary(self):\n",
    "        return f\"Annual Salary is {self.class_salary.get_annual_income()}{self.class_salary.get_currency()} including {self.bonus}{self.class_salary.get_currency()} Annual Bonus\""
   ]
  },
  {
   "cell_type": "code",
   "execution_count": 227,
   "id": "b1f37139",
   "metadata": {},
   "outputs": [],
   "source": [
    "sal = Salary(10000,\"EURO\",'Cash')"
   ]
  },
  {
   "cell_type": "code",
   "execution_count": 228,
   "id": "16d819d2",
   "metadata": {},
   "outputs": [
    {
     "data": {
      "text/plain": [
       "10000"
      ]
     },
     "execution_count": 228,
     "metadata": {},
     "output_type": "execute_result"
    }
   ],
   "source": [
    "sal.get_monthly_income()"
   ]
  },
  {
   "cell_type": "code",
   "execution_count": 229,
   "id": "775f9743",
   "metadata": {},
   "outputs": [
    {
     "data": {
      "text/plain": [
       "120000"
      ]
     },
     "execution_count": 229,
     "metadata": {},
     "output_type": "execute_result"
    }
   ],
   "source": [
    "sal.get_annual_income()"
   ]
  },
  {
   "cell_type": "code",
   "execution_count": 223,
   "id": "1d9161b6",
   "metadata": {},
   "outputs": [],
   "source": [
    "em = Employee(10000,\"EURO\",'CASH',5000)"
   ]
  },
  {
   "cell_type": "code",
   "execution_count": 224,
   "id": "e4d6da5b",
   "metadata": {},
   "outputs": [
    {
     "data": {
      "text/plain": [
       "125000"
      ]
     },
     "execution_count": 224,
     "metadata": {},
     "output_type": "execute_result"
    }
   ],
   "source": [
    "em.set_total_annual_salary()"
   ]
  },
  {
   "cell_type": "code",
   "execution_count": 225,
   "id": "6493621f",
   "metadata": {},
   "outputs": [
    {
     "data": {
      "text/plain": [
       "'Annual Salary is 120000EURO including 5000EURO Annual Bonus'"
      ]
     },
     "execution_count": 225,
     "metadata": {},
     "output_type": "execute_result"
    }
   ],
   "source": [
    "em.get_total_salary()"
   ]
  },
  {
   "cell_type": "code",
   "execution_count": null,
   "id": "1437092f",
   "metadata": {},
   "outputs": [],
   "source": []
  }
 ],
 "metadata": {
  "kernelspec": {
   "display_name": "Python 3",
   "language": "python",
   "name": "python3"
  },
  "language_info": {
   "codemirror_mode": {
    "name": "ipython",
    "version": 3
   },
   "file_extension": ".py",
   "mimetype": "text/x-python",
   "name": "python",
   "nbconvert_exporter": "python",
   "pygments_lexer": "ipython3",
   "version": "3.7.10"
  }
 },
 "nbformat": 4,
 "nbformat_minor": 5
}
