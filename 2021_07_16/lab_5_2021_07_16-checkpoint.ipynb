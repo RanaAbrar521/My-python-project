{
 "cells": [
  {
   "cell_type": "code",
   "execution_count": 41,
   "id": "ba901d1e",
   "metadata": {},
   "outputs": [],
   "source": [
    "### create class Salary:\n",
    "### attributes(monthly_income,currency,type)\n",
    "### setters and getters\n",
    "### getter includes extra function annual salary\n",
    "\n",
    "### create Employee class with composition with salary\n",
    "### create constructor and attributes\n",
    "\n",
    "\n",
    "\n",
    "class Salary:\n",
    "    def __init__(self,monthly_income,currency,types):\n",
    "        self.monthly_income=monthly_income\n",
    "        self.currency=currency\n",
    "        self.types=types\n",
    "        \n",
    "    def set_monthly_income(self,monthly_income):\n",
    "        self.monthly_income=monthly_income\n",
    "        \n",
    "    def set_currency(Self,currency):\n",
    "        self.currency=currency\n",
    "        \n",
    "    def set_types(self,types):\n",
    "        self.types=types\n",
    "        \n",
    "    def get_monthly_income(self):\n",
    "        return self.monthly_income\n",
    "    \n",
    "    def get_currency(self):\n",
    "        return self.currency\n",
    "    \n",
    "    def get_types(self):\n",
    "        return self.types\n",
    "    \n",
    "    def get_annual_salary(self):\n",
    "        return self.monthly_income * 12\n",
    "    \n",
    "class Employee:\n",
    "    def __init__(self,monthly_income,currency,types,bonus,annual=None):\n",
    "        self.bonus=bonus\n",
    "        self.obj_salary=Salary(monthly_income,currency,types)\n",
    "        self.annual=annual\n",
    "        \n",
    "    def set_total_annual_salary(self):\n",
    "        self.annual = self.obj_salary.get_annual_salary()+self.bonus\n",
    "        \n",
    "    def get_total_annual_salary(self):\n",
    "        return \"The annual salary for the employee is \" ,self.obj_salary.get_currency(),\":\",self.annual,\"with the payment as\",self.obj_salary.get_types(),\"where the bonus is :\",self.bonus\n",
    "        "
   ]
  },
  {
   "cell_type": "code",
   "execution_count": 42,
   "id": "502ced0c",
   "metadata": {},
   "outputs": [],
   "source": [
    "obj1=Salary(10000.0,\"$\",'Cash')"
   ]
  },
  {
   "cell_type": "code",
   "execution_count": 43,
   "id": "88ed8f53",
   "metadata": {},
   "outputs": [
    {
     "data": {
      "text/plain": [
       "120000.0"
      ]
     },
     "execution_count": 43,
     "metadata": {},
     "output_type": "execute_result"
    }
   ],
   "source": [
    "obj1.get_annual_salary()"
   ]
  },
  {
   "cell_type": "code",
   "execution_count": 44,
   "id": "89be5ca7",
   "metadata": {},
   "outputs": [],
   "source": [
    "obj2=Employee(10000.0,\"$\",\"Cash\",500)"
   ]
  },
  {
   "cell_type": "code",
   "execution_count": 45,
   "id": "dede4888",
   "metadata": {},
   "outputs": [],
   "source": [
    "obj2.set_total_annual_salary()"
   ]
  },
  {
   "cell_type": "code",
   "execution_count": 46,
   "id": "92318b73",
   "metadata": {},
   "outputs": [
    {
     "data": {
      "text/plain": [
       "('The annual salary for the employee is ',\n",
       " '$',\n",
       " ':',\n",
       " 120500.0,\n",
       " 'with the payment as',\n",
       " 'Cash',\n",
       " 'where the bonus is :',\n",
       " 500)"
      ]
     },
     "execution_count": 46,
     "metadata": {},
     "output_type": "execute_result"
    }
   ],
   "source": [
    "obj2.get_total_annual_salary()"
   ]
  },
  {
   "cell_type": "code",
   "execution_count": null,
   "id": "09ebc7fe",
   "metadata": {},
   "outputs": [],
   "source": []
  }
 ],
 "metadata": {
  "kernelspec": {
   "display_name": "Python 3",
   "language": "python",
   "name": "python3"
  },
  "language_info": {
   "codemirror_mode": {
    "name": "ipython",
    "version": 3
   },
   "file_extension": ".py",
   "mimetype": "text/x-python",
   "name": "python",
   "nbconvert_exporter": "python",
   "pygments_lexer": "ipython3",
   "version": "3.8.8"
  }
 },
 "nbformat": 4,
 "nbformat_minor": 5
}
