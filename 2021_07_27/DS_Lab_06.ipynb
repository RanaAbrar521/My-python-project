{
 "cells": [
  {
   "cell_type": "markdown",
   "id": "21aa6203",
   "metadata": {},
   "source": [
    "Q1. Create a class MyType with the following Magic Function\n",
    "1. Constructor\n",
    "a. Initialize an Object with following parameters\n",
    "i. a\n",
    "ii. b\n",
    "\n",
    "2. new:\n",
    "a. Create an object of MyType. Make sure if the value of `a` >500 then don’t\n",
    "create an object\n",
    "\n",
    "3. add:\n",
    "a. Let suppose you create two myType objects\n",
    "i. T1 = myType(1,2)\n",
    "ii. T2 = myType(2,3)\n",
    "iii. When you run this add function it should add the corresponding\n",
    "elements of each object i.e t1 first element 1 should be added to t2\n",
    "first element 2 and so on\n",
    "iv. Final Result this function should return (3,5)\n",
    "v. Note Final Result is just a sample output\n",
    "\n",
    "4. sub\n",
    "a. Same process as add function just replace addition with subtraction\n",
    "b. Final result should be (-1,-1)\n",
    "c. Note Final Result is just a sample output\n",
    "5. gt\n",
    "a. This is the greater function “>”\n",
    "b. Should Return True or False\n",
    "c. If Both elements of first elements are greater then second element, then\n",
    "return True else False\n",
    "\n",
    "6. lt\n",
    "a. This is the less function “<”\n",
    "b. Should Return True or False\n",
    "c. If Both elements of first elements are less then second element, then return\n",
    "True else False"
   ]
  },
  {
   "cell_type": "code",
   "execution_count": 1,
   "id": "5669699f",
   "metadata": {},
   "outputs": [],
   "source": [
    "class myType:\n",
    "    \n",
    "    def __new__(cls,a,b):\n",
    "        if a <= 500:\n",
    "            inst = object.__new__(cls)\n",
    "            return inst\n",
    "    \n",
    "    def __init__(self, a, b):\n",
    "        self.a = a\n",
    "        self.b = b\n",
    "        \n",
    "    def __add__(self, t2):\n",
    "        return (self.a + t2.a) , (self.b + t2.b)\n",
    "    \n",
    "    def __sub__(self, t2):\n",
    "        return (self.a - t2.a) , (self.b - t2.b)\n",
    "    \n",
    "    def __gt__(self, t2):\n",
    "        if (self.a > t2.a) and (self.b > t2.b):\n",
    "            return True\n",
    "        else:\n",
    "            return False\n",
    "    \n",
    "    def __lt__(self, t2):\n",
    "        if (self.a < t2.a) and (self.b < t2.b):\n",
    "            return True\n",
    "        else:\n",
    "            return False"
   ]
  },
  {
   "cell_type": "code",
   "execution_count": 2,
   "id": "c9fa41b0",
   "metadata": {},
   "outputs": [],
   "source": [
    "t1 = myType(1,2)\n",
    "t2 = myType(2,3)"
   ]
  },
  {
   "cell_type": "code",
   "execution_count": 3,
   "id": "06a062dc",
   "metadata": {},
   "outputs": [
    {
     "data": {
      "text/plain": [
       "<__main__.myType at 0x2848e4566d0>"
      ]
     },
     "execution_count": 3,
     "metadata": {},
     "output_type": "execute_result"
    }
   ],
   "source": [
    "t1"
   ]
  },
  {
   "cell_type": "code",
   "execution_count": 4,
   "id": "5e322527",
   "metadata": {},
   "outputs": [
    {
     "data": {
      "text/plain": [
       "<__main__.myType at 0x2848e456a00>"
      ]
     },
     "execution_count": 4,
     "metadata": {},
     "output_type": "execute_result"
    }
   ],
   "source": [
    "t2"
   ]
  },
  {
   "cell_type": "code",
   "execution_count": 5,
   "id": "7b5ee2d2",
   "metadata": {},
   "outputs": [
    {
     "data": {
      "text/plain": [
       "(3, 5)"
      ]
     },
     "execution_count": 5,
     "metadata": {},
     "output_type": "execute_result"
    }
   ],
   "source": [
    "myType.__add__(t1,t2)"
   ]
  },
  {
   "cell_type": "code",
   "execution_count": 6,
   "id": "a039ce65",
   "metadata": {},
   "outputs": [
    {
     "data": {
      "text/plain": [
       "(-1, -1)"
      ]
     },
     "execution_count": 6,
     "metadata": {},
     "output_type": "execute_result"
    }
   ],
   "source": [
    "myType.__sub__(t1,t2)"
   ]
  },
  {
   "cell_type": "code",
   "execution_count": 7,
   "id": "fcab7230",
   "metadata": {},
   "outputs": [
    {
     "data": {
      "text/plain": [
       "False"
      ]
     },
     "execution_count": 7,
     "metadata": {},
     "output_type": "execute_result"
    }
   ],
   "source": [
    "myType.__gt__(t1,t2)"
   ]
  },
  {
   "cell_type": "code",
   "execution_count": 8,
   "id": "b298c132",
   "metadata": {},
   "outputs": [
    {
     "data": {
      "text/plain": [
       "True"
      ]
     },
     "execution_count": 8,
     "metadata": {},
     "output_type": "execute_result"
    }
   ],
   "source": [
    "myType.__lt__(t1,t2)"
   ]
  },
  {
   "cell_type": "code",
   "execution_count": null,
   "id": "845691a8",
   "metadata": {},
   "outputs": [],
   "source": []
  }
 ],
 "metadata": {
  "kernelspec": {
   "display_name": "Python 3 (ipykernel)",
   "language": "python",
   "name": "python3"
  },
  "language_info": {
   "codemirror_mode": {
    "name": "ipython",
    "version": 3
   },
   "file_extension": ".py",
   "mimetype": "text/x-python",
   "name": "python",
   "nbconvert_exporter": "python",
   "pygments_lexer": "ipython3",
   "version": "3.9.6"
  }
 },
 "nbformat": 4,
 "nbformat_minor": 5
}
