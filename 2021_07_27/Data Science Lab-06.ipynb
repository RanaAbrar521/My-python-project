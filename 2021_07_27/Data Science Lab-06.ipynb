{
 "cells": [
  {
   "cell_type": "markdown",
   "id": "87c122ff",
   "metadata": {},
   "source": [
    "# Q1. Create a class MyType with the following Magic Function\n",
    "1. Constructor \n",
    "a. Initialize an Object with following parameters\n",
    "i. a\n",
    "ii. b\n",
    "2. new:\n",
    "a. Create an object of MyType. Make sure if the value of `a` >500 then don’t \n",
    "create an object\n",
    "3. add:\n",
    "a. Let suppose you create two myType objects\n",
    "i. T1 = myType(1,2)\n",
    "ii. T2 = myType(2,3)\n",
    "iii. When you run this add function it should add the corresponding\n",
    "elements of each object i.e t1 first element 1 should be added to t2 \n",
    "first element 2 and so on \n",
    "iv. Final Result this function should return (3,5)\n",
    "v. Note Final Result is just a sample output\n",
    "4. sub\n",
    "a. Same process as add function just replace addition with subtraction\n",
    "b. Final result should be (-1,-1)\n",
    "c. Note Final Result is just a sample output\n",
    "5. gt\n",
    "a. This is the greater function “>”\n",
    "b. Should Return True or False\n",
    "c. If Both elements of first elements are greater then second element, then \n",
    "return True else False\n",
    "6. lt \n",
    "a. This is the less function “<”\n",
    "b. Should Return True or False\n",
    "c. If Both elements of first elements are less then second element, then return \n",
    "True else Fals"
   ]
  },
  {
   "cell_type": "code",
   "execution_count": null,
   "id": "28fd880d",
   "metadata": {},
   "outputs": [],
   "source": []
  },
  {
   "cell_type": "code",
   "execution_count": 33,
   "id": "2940160e",
   "metadata": {},
   "outputs": [],
   "source": [
    "class MyType:\n",
    "# constructor\n",
    "    def __init__(self, a, b):\n",
    "        print(\"init method is called\")\n",
    "        self.a = a\n",
    "        self.b = b\n",
    "        \n",
    "# new magic function\n",
    "    def __new__(cls,a,b):\n",
    "        print (\"new magic method is called\")\n",
    "        if a <= 500:\n",
    "            inst = object.__new__(cls)\n",
    "            return inst\n",
    "        \n",
    "# add magic function\n",
    "    def __add__(self,x):\n",
    "        #print(\"add fun is called\")\n",
    "        a_sum=self.a + x.a\n",
    "        b_sum=self.b + x.b\n",
    "        return (a_sum, b_sum)\n",
    "    \n",
    "# sub magic function\n",
    "    def __sub__(self,x):\n",
    "        a_sub=self.a - x.a\n",
    "        b_sub=self.b - x.b\n",
    "        x = a_sub, b_sub\n",
    "        return tuple(x)\n",
    "\n",
    "# gt magic function\n",
    "    def __gt__(self,x):\n",
    "       # print(\"geater than fun is called\")\n",
    "        if (self.a > x.a)  and (self.b > x.b):\n",
    "            return True\n",
    "        else:\n",
    "            return False\n",
    "        return True \n",
    "    \n",
    "# lt magic function\n",
    "    def __lt__(self,x):\n",
    "      #  print(\"less than fun is called\")\n",
    "        if (self.a < x.a)  and (self.b < x.b):\n",
    "            return True\n",
    "        else:\n",
    "            return False"
   ]
  },
  {
   "cell_type": "code",
   "execution_count": 34,
   "id": "acd6946b",
   "metadata": {},
   "outputs": [
    {
     "name": "stdout",
     "output_type": "stream",
     "text": [
      "new magic method is called\n"
     ]
    }
   ],
   "source": [
    "obj_chk = MyType(501,2)"
   ]
  },
  {
   "cell_type": "code",
   "execution_count": 35,
   "id": "6fd647ac",
   "metadata": {},
   "outputs": [
    {
     "name": "stdout",
     "output_type": "stream",
     "text": [
      "new magic method is called\n",
      "init method is called\n",
      "new magic method is called\n",
      "init method is called\n"
     ]
    }
   ],
   "source": [
    "obj = MyType(7,3)\n",
    "obj1 = MyType(5,2)\n"
   ]
  },
  {
   "cell_type": "code",
   "execution_count": 36,
   "id": "96cc9c9c",
   "metadata": {},
   "outputs": [
    {
     "name": "stdout",
     "output_type": "stream",
     "text": [
      "(12, 5)\n"
     ]
    }
   ],
   "source": [
    "add = obj + obj1\n",
    "print(add)"
   ]
  },
  {
   "cell_type": "code",
   "execution_count": 37,
   "id": "77077c88",
   "metadata": {},
   "outputs": [
    {
     "name": "stdout",
     "output_type": "stream",
     "text": [
      "(2, 1)\n"
     ]
    }
   ],
   "source": [
    "sub = obj - obj1\n",
    "print(sub)"
   ]
  },
  {
   "cell_type": "code",
   "execution_count": 38,
   "id": "fa421f3a",
   "metadata": {},
   "outputs": [
    {
     "name": "stdout",
     "output_type": "stream",
     "text": [
      "True\n"
     ]
    }
   ],
   "source": [
    "greater_than = obj > obj1\n",
    "print(greater_than)"
   ]
  },
  {
   "cell_type": "code",
   "execution_count": 39,
   "id": "658678e8",
   "metadata": {},
   "outputs": [
    {
     "name": "stdout",
     "output_type": "stream",
     "text": [
      "False\n"
     ]
    }
   ],
   "source": [
    "less_than = obj < obj1\n",
    "print(less_than)"
   ]
  },
  {
   "cell_type": "code",
   "execution_count": null,
   "id": "6a487b0a",
   "metadata": {},
   "outputs": [],
   "source": []
  }
 ],
 "metadata": {
  "kernelspec": {
   "display_name": "Python 3",
   "language": "python",
   "name": "python3"
  },
  "language_info": {
   "codemirror_mode": {
    "name": "ipython",
    "version": 3
   },
   "file_extension": ".py",
   "mimetype": "text/x-python",
   "name": "python",
   "nbconvert_exporter": "python",
   "pygments_lexer": "ipython3",
   "version": "3.8.8"
  }
 },
 "nbformat": 4,
 "nbformat_minor": 5
}
