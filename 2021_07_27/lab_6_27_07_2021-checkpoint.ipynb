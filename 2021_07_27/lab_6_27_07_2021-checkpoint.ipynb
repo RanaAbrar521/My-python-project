{
 "cells": [
  {
   "cell_type": "code",
   "execution_count": 4,
   "id": "969493b2",
   "metadata": {},
   "outputs": [],
   "source": [
    "### lab 6\n",
    "### create class MyType\n",
    "### create object with __new__ only if a<=500\n",
    "### user __add__ magic function to add t1 and t2\n",
    "### user __sub__ magic function to minus t1 and t2\n",
    "### user __gt__ magic function to see if t1 greater t2\n",
    "### if a in t1 > a in t2 and b in t1 > b in t2\n",
    "### return true\n",
    "### user __lt__ magic function to see t1 less t2\n",
    "### if a in t1 < a in t2 and b in t1 < b in t2\n",
    "### return true\n",
    "\n",
    "\n",
    "class MyType(object):\n",
    "    \n",
    "    def __new__(cls,a,b):\n",
    "        if a<=500:\n",
    "            print('new')\n",
    "            instance = object.__new__(cls)\n",
    "            return instance\n",
    "            \n",
    "    def __init__(self,a,b):\n",
    "        print('init')\n",
    "        self.a=a\n",
    "        self.b=b\n",
    "        \n",
    "    def __add__(self,other):\n",
    "        return self.a+other.a,self.b+other.b\n",
    "    \n",
    "    def __sub__(self,other):\n",
    "        return self.a-other.a,self.b-other.b\n",
    "    \n",
    "    def __gt__(self,other):\n",
    "        \n",
    "        print('this is for greater then function')\n",
    "        \n",
    "        print(self.a>other.a,self.b>other.b)\n",
    "        \n",
    "        if self.a > other.a & self.b > other.b :\n",
    "            return True\n",
    "        else:\n",
    "            return False\n",
    "        \n",
    "    \n",
    "    def __lt__(self,other):\n",
    "        print('this is for less then function')\n",
    "        \n",
    "        print(self.a<other.a,self.b<other.b)\n",
    "        \n",
    "        if self.a < other.a & self.b < other.b :\n",
    "            return True\n",
    "        else:\n",
    "            return False\n",
    "        "
   ]
  },
  {
   "cell_type": "code",
   "execution_count": 5,
   "id": "dafbe855",
   "metadata": {},
   "outputs": [
    {
     "name": "stdout",
     "output_type": "stream",
     "text": [
      "new\n",
      "init\n",
      "new\n",
      "init\n"
     ]
    }
   ],
   "source": [
    "t1=MyType(1,2)\n",
    "t2=MyType(2,3)"
   ]
  },
  {
   "cell_type": "code",
   "execution_count": 6,
   "id": "b3dfcb1a",
   "metadata": {},
   "outputs": [
    {
     "name": "stdout",
     "output_type": "stream",
     "text": [
      "(3, 5)\n",
      "(-1, -1)\n",
      "this is for greater then function\n",
      "False False\n",
      "False\n",
      "this is for less then function\n",
      "True True\n",
      "True\n"
     ]
    }
   ],
   "source": [
    "print(MyType.__add__(t1,t2))\n",
    "print(MyType.__sub__(t1,t2))\n",
    "print(MyType.__gt__(t1,t2))\n",
    "print(MyType.__lt__(t1,t2))"
   ]
  },
  {
   "cell_type": "code",
   "execution_count": null,
   "id": "471446b2",
   "metadata": {},
   "outputs": [],
   "source": []
  }
 ],
 "metadata": {
  "kernelspec": {
   "display_name": "Python 3",
   "language": "python",
   "name": "python3"
  },
  "language_info": {
   "codemirror_mode": {
    "name": "ipython",
    "version": 3
   },
   "file_extension": ".py",
   "mimetype": "text/x-python",
   "name": "python",
   "nbconvert_exporter": "python",
   "pygments_lexer": "ipython3",
   "version": "3.8.8"
  }
 },
 "nbformat": 4,
 "nbformat_minor": 5
}
