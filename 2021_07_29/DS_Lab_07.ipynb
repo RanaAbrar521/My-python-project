{
 "cells": [
  {
   "cell_type": "markdown",
   "id": "5193cd51-e70c-4fc4-af23-357022c539ce",
   "metadata": {},
   "source": [
    "Q1. Create a class singly LinkedList\n",
    "1. Contains\n",
    "a. Data\n",
    "b. Next\n",
    "2. Functions\n",
    "a. Add_in_begginning\n",
    "i. Receives New data\n",
    "ii. Add new Node in the start of the linked list\n",
    "b. Add_at_particular_position (Most Important)\n",
    "i. Add new data\n",
    "ii. Add Position value\n",
    "1. I.e if position value is 2 it means that add new node after 3\n",
    "rd\n",
    "\n",
    "node considering first node starts from 0\n",
    "th position\n",
    "\n",
    "c. Add_at_the_end\n",
    "i. Receives new data\n",
    "ii. Add new Node at the end of the linked list\n",
    "d. Print Entire LinkedList"
   ]
  },
  {
   "cell_type": "code",
   "execution_count": 1,
   "id": "58163dfa-8d38-4d43-b1de-31313c893ecd",
   "metadata": {
    "tags": []
   },
   "outputs": [],
   "source": [
    "# Creating Node\n",
    "class Node:\n",
    "    \n",
    "#     Initailizing Node\n",
    "    def __init__(self, data):\n",
    "        self.data = data\n",
    "        self.next = None\n",
    "        \n",
    "\n",
    "# Creating Singly Linked List\n",
    "class SinglyLinkedList:\n",
    "    \n",
    "#     Initializing the Head when none of the Nodes is created\n",
    "    def __init__(self):\n",
    "        self.head = None\n",
    "        \n",
    "#     Inserting Node at the beginning of the Linked List\n",
    "#     Create Node\n",
    "#     Assign the Head to this newly created Node\n",
    "    def add_in_beginning(self, new_data):\n",
    "        new_node = Node(new_data)\n",
    "        \n",
    "        new_node.next = self.head\n",
    "        self.head = new_node\n",
    "        print(\"Node Added Successfully in Empty Linked List\")\n",
    "    \n",
    "#     Inserting Node at any particular position in the Linked List\n",
    "#     Create Node\n",
    "#     Check for Less than ZERO\n",
    "#     Check for ZERO if true - Insert Node at the beginning of the Linked List\n",
    "#     Else Traverse through the list for given position\n",
    "#     Check if node is not None / Null and add node here by disconnecting the existing nodes\n",
    "    def add_at_particular_position(self, new_data, new_position):\n",
    "        new_node = Node(new_data)\n",
    "        \n",
    "        if self.head is None:\n",
    "            self.add_in_beginning(new_data)\n",
    "        else:\n",
    "            curr_node = self.head\n",
    "            curr_node_position = 0\n",
    "            while (curr_node_position != new_position):\n",
    "                if (curr_node):\n",
    "                    curr_node = curr_node.next\n",
    "                curr_node_position += 1\n",
    "\n",
    "            if (curr_node):\n",
    "                new_node.next = curr_node.next\n",
    "                curr_node.next = new_node\n",
    "                print(\"Node Added Successfully in existing Linked List\")\n",
    "            else:\n",
    "                print(\"Can't Add Node at this position.\")\n",
    "\n",
    "\n",
    "#     Check if the Head is None / Null and at Node here if True\n",
    "#     Otherwise Traverse till we reach at the end of the list by checking where the Next part of Node is None / Null\n",
    "\n",
    "    def add_at_the_end(self, new_data):\n",
    "        new_node = Node(new_data)\n",
    "        if self.head is None:\n",
    "            self.add_in_beginning(new_data)\n",
    "\n",
    "        else:\n",
    "            curr_node = self.head\n",
    "            while(curr_node.next is not None):\n",
    "                curr_node = curr_node.next\n",
    "            \n",
    "            curr_node.next = new_node\n",
    "            print(\"Node Added Successfully in existing Linked List\")\n",
    "\n",
    "\n",
    "#     Traverse the List starting from Head and print Data part of each Node\n",
    "\n",
    "    def print_linked_list(self):\n",
    "        curr_node = self.head\n",
    "        while(curr_node):\n",
    "            print(curr_node.data)\n",
    "            curr_node = curr_node.next"
   ]
  },
  {
   "cell_type": "code",
   "execution_count": 2,
   "id": "fdf19b48-980c-4b22-ad7b-d3f45e2a0c0d",
   "metadata": {},
   "outputs": [],
   "source": [
    "list_1 = SinglyLinkedList()"
   ]
  },
  {
   "cell_type": "code",
   "execution_count": 3,
   "id": "787798d6-4741-437c-a729-f1c3637155db",
   "metadata": {},
   "outputs": [],
   "source": [
    "list_1.print_linked_list()"
   ]
  },
  {
   "cell_type": "code",
   "execution_count": 4,
   "id": "1927c7e6-b74a-4837-a594-9e4c5d589fd4",
   "metadata": {},
   "outputs": [
    {
     "name": "stdout",
     "output_type": "stream",
     "text": [
      "Node Added Successfully in Empty Linked List\n",
      "Node Added Successfully in Empty Linked List\n",
      "Node Added Successfully in Empty Linked List\n",
      "Node Added Successfully in Empty Linked List\n"
     ]
    }
   ],
   "source": [
    "list_1.add_in_beginning(1)\n",
    "list_1.add_in_beginning(2)\n",
    "list_1.add_in_beginning(3)\n",
    "list_1.add_in_beginning(4)"
   ]
  },
  {
   "cell_type": "code",
   "execution_count": 5,
   "id": "d5e1a6ad-4796-45f3-ae59-7d616a9820f8",
   "metadata": {},
   "outputs": [
    {
     "name": "stdout",
     "output_type": "stream",
     "text": [
      "4\n",
      "3\n",
      "2\n",
      "1\n"
     ]
    }
   ],
   "source": [
    "list_1.print_linked_list()"
   ]
  },
  {
   "cell_type": "code",
   "execution_count": 6,
   "id": "3dabf398-8fef-4fd0-821c-e9112d4e13bd",
   "metadata": {},
   "outputs": [
    {
     "name": "stdout",
     "output_type": "stream",
     "text": [
      "Node Added Successfully in existing Linked List\n",
      "Node Added Successfully in existing Linked List\n",
      "Node Added Successfully in existing Linked List\n",
      "Node Added Successfully in existing Linked List\n"
     ]
    }
   ],
   "source": [
    "list_1.add_at_the_end(5)\n",
    "list_1.add_at_the_end(6)\n",
    "list_1.add_at_the_end(7)\n",
    "list_1.add_at_the_end(8)"
   ]
  },
  {
   "cell_type": "code",
   "execution_count": 7,
   "id": "e9e2084c-9148-49eb-9005-535e982af306",
   "metadata": {},
   "outputs": [
    {
     "name": "stdout",
     "output_type": "stream",
     "text": [
      "4\n",
      "3\n",
      "2\n",
      "1\n",
      "5\n",
      "6\n",
      "7\n",
      "8\n"
     ]
    }
   ],
   "source": [
    "list_1.print_linked_list()"
   ]
  },
  {
   "cell_type": "markdown",
   "id": "3c4cf1c2-c016-42e8-89f0-f0245fb0cd08",
   "metadata": {},
   "source": [
    "1-->2-->3-->8-->4-->5"
   ]
  },
  {
   "cell_type": "code",
   "execution_count": 8,
   "id": "8bbf44eb-f99e-43d7-addc-8f28adf01810",
   "metadata": {},
   "outputs": [
    {
     "name": "stdout",
     "output_type": "stream",
     "text": [
      "Node Added Successfully in existing Linked List\n"
     ]
    }
   ],
   "source": [
    "list_1.add_at_particular_position(10,1)"
   ]
  },
  {
   "cell_type": "code",
   "execution_count": 9,
   "id": "3b68b3c9-7eee-4d9a-b987-54ff2fd698ae",
   "metadata": {},
   "outputs": [
    {
     "name": "stdout",
     "output_type": "stream",
     "text": [
      "4\n",
      "3\n",
      "10\n",
      "2\n",
      "1\n",
      "5\n",
      "6\n",
      "7\n",
      "8\n"
     ]
    }
   ],
   "source": [
    "list_1.print_linked_list()"
   ]
  },
  {
   "cell_type": "code",
   "execution_count": 10,
   "id": "5d938ee1-b056-4ab3-85b0-6b9a56dae52a",
   "metadata": {},
   "outputs": [
    {
     "name": "stdout",
     "output_type": "stream",
     "text": [
      "Can't Add Node at this position.\n"
     ]
    }
   ],
   "source": [
    "list_1.add_at_particular_position(10,11)"
   ]
  },
  {
   "cell_type": "code",
   "execution_count": 11,
   "id": "42928509-ec8d-40c8-ba00-31a5f9031875",
   "metadata": {},
   "outputs": [
    {
     "name": "stdout",
     "output_type": "stream",
     "text": [
      "4\n",
      "3\n",
      "10\n",
      "2\n",
      "1\n",
      "5\n",
      "6\n",
      "7\n",
      "8\n"
     ]
    }
   ],
   "source": [
    "list_1.print_linked_list()"
   ]
  },
  {
   "cell_type": "code",
   "execution_count": 12,
   "id": "e2a27a30-3d4d-4c3f-bef2-7ac7b147c7fc",
   "metadata": {},
   "outputs": [
    {
     "name": "stdout",
     "output_type": "stream",
     "text": [
      "Node Added Successfully in existing Linked List\n"
     ]
    }
   ],
   "source": [
    "list_1.add_at_particular_position(1990,6)"
   ]
  },
  {
   "cell_type": "code",
   "execution_count": 13,
   "id": "fa27508d-dae6-464f-a78b-d659321ac08e",
   "metadata": {},
   "outputs": [
    {
     "name": "stdout",
     "output_type": "stream",
     "text": [
      "4\n",
      "3\n",
      "10\n",
      "2\n",
      "1\n",
      "5\n",
      "6\n",
      "1990\n",
      "7\n",
      "8\n"
     ]
    }
   ],
   "source": [
    "list_1.print_linked_list()"
   ]
  },
  {
   "cell_type": "code",
   "execution_count": null,
   "id": "208912e4-665f-4319-9c84-d34c0d5cc32d",
   "metadata": {},
   "outputs": [],
   "source": []
  }
 ],
 "metadata": {
  "kernelspec": {
   "display_name": "Python 3 (ipykernel)",
   "language": "python",
   "name": "python3"
  },
  "language_info": {
   "codemirror_mode": {
    "name": "ipython",
    "version": 3
   },
   "file_extension": ".py",
   "mimetype": "text/x-python",
   "name": "python",
   "nbconvert_exporter": "python",
   "pygments_lexer": "ipython3",
   "version": "3.9.6"
  }
 },
 "nbformat": 4,
 "nbformat_minor": 5
}
