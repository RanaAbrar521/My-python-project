{
 "cells": [
  {
   "cell_type": "markdown",
   "id": "bc2788b5",
   "metadata": {},
   "source": [
    "Q1. Create a class singly LinkedList\n",
    "1. Contains\n",
    "a. Data\n",
    "b. Next \n",
    "2. Functions\n",
    "a. Add_in_begginning\n",
    "i. Receives New data\n",
    "ii. Add new Node in the start of the linked list\n",
    "b. Add_at_particular_position (Most Important)\n",
    "i. Add new data\n",
    "ii. Add Position value\n",
    "1. I.e if position value is 2 it means that add new node after 3\n",
    "rd\n",
    "node considering first node starts from 0\n",
    "th position\n",
    "c. Add_at_the_end\n",
    "i. Receives new data\n",
    "ii. Add new Node at the end of the linked list\n",
    "d. Print Entire LinkedList"
   ]
  },
  {
   "cell_type": "code",
   "execution_count": 82,
   "id": "da1c2589",
   "metadata": {},
   "outputs": [],
   "source": [
    "class Node:\n",
    "    def __init__(self,data):\n",
    "        self.data = data\n",
    "        self.next = None\n",
    "class LinkedList:\n",
    "    def __init__(self):\n",
    "        self.head = None\n",
    "        \n",
    "    def add_node_at_begning(self,new_data):\n",
    "        new_node = Node(new_data)\n",
    "        self.head = new_node\n",
    "        new_node.next = self.head\n",
    "    \n",
    "    def add_at_particular_position(self,new_data, positional_value):\n",
    "    \n",
    "        new_node = Node(new_data)\n",
    "        if self.head is None:           \n",
    "            self.head = new_node\n",
    "            return\n",
    "        \n",
    "        prev= self.head\n",
    "        a = 1\n",
    "        while(prev):\n",
    "            \n",
    "            a +=1           \n",
    "            if a == positional_value:   \n",
    "                perv.next = new_node \n",
    "                new_node.next = prev.next  \n",
    "            prev = prev.next  \n",
    "            \n",
    "            \n",
    "        return\n",
    "     \n",
    "    def add_at_the_end(self,new_data):\n",
    "        \n",
    "        new_node = Node(new_data)\n",
    "        if self.head is None:           \n",
    "            self.head = new_node\n",
    "            return\n",
    "        else:           \n",
    "            last = self.head\n",
    "            while (last):          \n",
    "                last = last.next\n",
    "                last.next =  new_node\n",
    "\n",
    "        pass\n",
    "\n",
    "    def print_linklist(self): \n",
    "        ll= self.head\n",
    "        while (ll):\n",
    "            print(ll.data)  \n",
    "            ll = ll.next\n",
    "            #ll =+ 1\n",
    "\n",
    "   \n",
    " \n",
    "\n",
    "    "
   ]
  },
  {
   "cell_type": "code",
   "execution_count": 83,
   "id": "17429fe2",
   "metadata": {},
   "outputs": [],
   "source": [
    "a =LinkedList()\n",
    "a.add_node_at_begning(1)\n",
    "a.add_node_at_begning(2)\n",
    "a.add_node_at_begning(3)\n",
    "a.add_node_at_begning(4)\n"
   ]
  },
  {
   "cell_type": "code",
   "execution_count": null,
   "id": "705b0de4",
   "metadata": {},
   "outputs": [],
   "source": []
  },
  {
   "cell_type": "code",
   "execution_count": null,
   "id": "695e40e1",
   "metadata": {},
   "outputs": [],
   "source": []
  }
 ],
 "metadata": {
  "kernelspec": {
   "display_name": "Python 3",
   "language": "python",
   "name": "python3"
  },
  "language_info": {
   "codemirror_mode": {
    "name": "ipython",
    "version": 3
   },
   "file_extension": ".py",
   "mimetype": "text/x-python",
   "name": "python",
   "nbconvert_exporter": "python",
   "pygments_lexer": "ipython3",
   "version": "3.8.8"
  }
 },
 "nbformat": 4,
 "nbformat_minor": 5
}
