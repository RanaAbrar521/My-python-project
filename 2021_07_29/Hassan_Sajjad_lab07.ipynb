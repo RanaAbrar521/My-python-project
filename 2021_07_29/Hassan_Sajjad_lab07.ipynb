{
 "cells": [
  {
   "cell_type": "code",
   "execution_count": 23,
   "id": "f3b4da6c",
   "metadata": {},
   "outputs": [],
   "source": [
    "#class = Linkedlist\n",
    "\n",
    "#node= data,next\n",
    "#functions = \n",
    "#add_in_begginning\n",
    "#add_at_particular_position\n",
    "#add_at_the_end\n",
    "\n",
    "#print entire LinkedList\n"
   ]
  },
  {
   "cell_type": "code",
   "execution_count": 41,
   "id": "ec47f47b",
   "metadata": {},
   "outputs": [],
   "source": [
    "class Node:\n",
    "    def __init__(self,data):\n",
    "        self.data = data\n",
    "        self.next = None\n",
    "        \n",
    "class Linkedlist:\n",
    "    def __init__(self):\n",
    "        self.head = None\n",
    "        \n",
    "    def add_in_begginning(self,new_data):\n",
    "        new_node = Node(new_data)\n",
    "        new_node.next = self.head\n",
    "        self.head = new_node\n",
    "        \n",
    "    def add_at_particular_position(self,new_data,position):\n",
    "        new_node = Node(new_data)\n",
    "        if self.head == None:\n",
    "            self.add_in_begginning(new_data)\n",
    "        else:\n",
    "            temp = self.head        \n",
    "            count= 1\n",
    "            while(temp):\n",
    "                if position == count:\n",
    "                    temp_node = temp.next\n",
    "                    new_node.next = temp_node\n",
    "                    temp.next = new_node\n",
    "                count = count+1\n",
    "                temp =temp.next\n",
    "    \n",
    "    \n",
    "    def add_at_the_end(self,new_data):\n",
    "        new_node = Node(new_data)\n",
    "        if(self.head == None):\n",
    "            self.head = new_node\n",
    "        \n",
    "        temp = self.head\n",
    "        while(temp.next):\n",
    "            temp = temp.next\n",
    "        \n",
    "        temp.next = new_node\n",
    "      \n",
    "        \n",
    "    def print_Linkedlist(self):\n",
    "        l1 = self.head\n",
    "        while(l1):\n",
    "            print(l1.data)\n",
    "            l1=l1.next"
   ]
  },
  {
   "cell_type": "code",
   "execution_count": 42,
   "id": "fb7d1348",
   "metadata": {},
   "outputs": [],
   "source": [
    "l1 = Linkedlist()"
   ]
  },
  {
   "cell_type": "code",
   "execution_count": 43,
   "id": "b1afc90f",
   "metadata": {},
   "outputs": [],
   "source": [
    "l1.add_in_begginning(1)\n",
    "l1.add_in_begginning(2)\n"
   ]
  },
  {
   "cell_type": "code",
   "execution_count": 44,
   "id": "0a69721a",
   "metadata": {},
   "outputs": [
    {
     "name": "stdout",
     "output_type": "stream",
     "text": [
      "2\n",
      "1\n"
     ]
    }
   ],
   "source": [
    "l1.print_Linkedlist()"
   ]
  },
  {
   "cell_type": "code",
   "execution_count": 46,
   "id": "f3dc559e",
   "metadata": {},
   "outputs": [],
   "source": [
    "l1.add_at_the_end(2)"
   ]
  },
  {
   "cell_type": "code",
   "execution_count": 47,
   "id": "db259842",
   "metadata": {},
   "outputs": [
    {
     "name": "stdout",
     "output_type": "stream",
     "text": [
      "2\n",
      "1\n",
      "2\n"
     ]
    }
   ],
   "source": [
    "l1.print_Linkedlist()"
   ]
  },
  {
   "cell_type": "code",
   "execution_count": null,
   "id": "a185b28c",
   "metadata": {},
   "outputs": [],
   "source": []
  }
 ],
 "metadata": {
  "kernelspec": {
   "display_name": "Python 3 (ipykernel)",
   "language": "python",
   "name": "python3"
  },
  "language_info": {
   "codemirror_mode": {
    "name": "ipython",
    "version": 3
   },
   "file_extension": ".py",
   "mimetype": "text/x-python",
   "name": "python",
   "nbconvert_exporter": "python",
   "pygments_lexer": "ipython3",
   "version": "3.7.10"
  }
 },
 "nbformat": 4,
 "nbformat_minor": 5
}
