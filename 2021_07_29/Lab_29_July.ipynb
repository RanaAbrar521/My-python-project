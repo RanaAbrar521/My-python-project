{
 "cells": [
  {
   "cell_type": "code",
   "execution_count": 85,
   "id": "2ce1db78-0cf7-452e-acc2-5cfa9ccb3e40",
   "metadata": {},
   "outputs": [],
   "source": [
    "#creating class name Node\n",
    "class Node:\n",
    "    def __init__(self,data):\n",
    "        self.data = data\n",
    "        self.next = None\n",
    "#Now created another class LinkedList\n",
    "class LinkedList:\n",
    "    def __init__(self):\n",
    "        self.head = None\n",
    "    #getting data on start\n",
    "    def Add_in_begginning(self,new_data):\n",
    "        new_node = Node(new_data)\n",
    "        new_node.next = self.head\n",
    "        self.head = new_node\n",
    "    \n",
    "    #Getting data for the particular point in linked list\n",
    "    def Add_at_particular_position(self,new_data,Position_value):\n",
    "        new_node = Node(new_data)\n",
    "        Position_value.next = self.head\n",
    "        self.head = new_node\n",
    "        \n",
    "        \n",
    "        \n",
    "        \n",
    "    \n",
    "    \n",
    "    #Getting data for the end point in linked list\n",
    "    def Add_at_the_end(self,new_data):\n",
    "        new_node = Node(new_data)\n",
    "        #new_node.next = self.head\n",
    "        self.head = new_node\n",
    "        \n",
    "        \n",
    "    #Now printing the whole linked list    \n",
    "    def print_linkedlist(self):\n",
    "        P_ll = self.head\n",
    "        while (P_ll):\n",
    "            print(P_ll.data)\n",
    "            P_ll = P_ll.next\n",
    "        "
   ]
  },
  {
   "cell_type": "code",
   "execution_count": 86,
   "id": "c3bc59b0-1423-4a0d-9017-24eec294da55",
   "metadata": {},
   "outputs": [],
   "source": [
    "l = LinkedList()\n"
   ]
  },
  {
   "cell_type": "code",
   "execution_count": 87,
   "id": "90f3a530-ab54-44ed-b9d1-e52028f6b75c",
   "metadata": {},
   "outputs": [],
   "source": [
    "l.Add_in_begginning(0)\n",
    "l.Add_in_begginning(1)\n",
    "l.Add_in_begginning(2)\n",
    "l.Add_in_begginning(3)\n",
    "l.Add_in_begginning(4)\n"
   ]
  },
  {
   "cell_type": "code",
   "execution_count": 88,
   "id": "2f90a96e-75f7-41df-8183-5df4ad6ea77a",
   "metadata": {},
   "outputs": [
    {
     "name": "stdout",
     "output_type": "stream",
     "text": [
      "4\n",
      "3\n",
      "2\n",
      "1\n",
      "0\n"
     ]
    }
   ],
   "source": [
    "l.print_linkedlist()"
   ]
  },
  {
   "cell_type": "code",
   "execution_count": 89,
   "id": "377f4470-b83a-4e52-b108-7478c007cf4c",
   "metadata": {},
   "outputs": [],
   "source": [
    "#l.Add_at_particular_position(8,2)\n",
    "l.Add_at_the_end(7)"
   ]
  },
  {
   "cell_type": "code",
   "execution_count": 90,
   "id": "411b8638-9e9c-4f59-8a61-8ddc3f79a88c",
   "metadata": {},
   "outputs": [
    {
     "name": "stdout",
     "output_type": "stream",
     "text": [
      "7\n"
     ]
    }
   ],
   "source": [
    "l.print_linkedlist()"
   ]
  },
  {
   "cell_type": "code",
   "execution_count": null,
   "id": "aa55d6cc-1567-465b-8696-ee4681a584d4",
   "metadata": {},
   "outputs": [],
   "source": []
  },
  {
   "cell_type": "code",
   "execution_count": null,
   "id": "87b787d5-0f27-4a81-9a79-d43c30386ce9",
   "metadata": {},
   "outputs": [],
   "source": []
  }
 ],
 "metadata": {
  "kernelspec": {
   "display_name": "Python 3",
   "language": "python",
   "name": "python3"
  },
  "language_info": {
   "codemirror_mode": {
    "name": "ipython",
    "version": 3
   },
   "file_extension": ".py",
   "mimetype": "text/x-python",
   "name": "python",
   "nbconvert_exporter": "python",
   "pygments_lexer": "ipython3",
   "version": "3.8.8"
  }
 },
 "nbformat": 4,
 "nbformat_minor": 5
}
