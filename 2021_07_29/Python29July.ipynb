{
 "cells": [
  {
   "cell_type": "code",
   "execution_count": null,
   "id": "1e26b7ba",
   "metadata": {},
   "outputs": [],
   "source": [
    "## create class LinkedList\n",
    "    ##contains (data,next)\n",
    "    ##functions\n",
    "    ## 1. add_begginning(recieve new data , add new node in the start)\n",
    "    ## 2. add_position(add new data, add poition value)\n",
    "    ## 3. add_end(recieve new data, add new node in the end)\n",
    "    ## 4. print entire list"
   ]
  },
  {
   "cell_type": "code",
   "execution_count": 149,
   "id": "e0b50ff1",
   "metadata": {},
   "outputs": [],
   "source": [
    "class Node:\n",
    "    def __init__(self,data):\n",
    "        self.data = data\n",
    "        self.next = None\n",
    "\n",
    "class LinkedList:\n",
    "    def __init__(self):\n",
    "        self.head = None\n",
    "    \n",
    "    def add_begginning(self,new_data):\n",
    "        new_node = Node(new_data)\n",
    "        new_node.next = self.head\n",
    "        self.head = new_node\n",
    "        \n",
    "    def add_at_position(self,new_data,position_value):\n",
    "        new_node = Node(new_data)\n",
    "        x = self.head\n",
    "        cnt = 0\n",
    "        while(x.next):\n",
    "            x = x.next\n",
    "            cnt += 1\n",
    "            if (cnt == position_value):\n",
    "                new_node.next = x.next\n",
    "                x.next = new_node\n",
    "          \n",
    "    def add_end(self,new_data):\n",
    "        new_node = Node(new_data)\n",
    "        if self.head is None:\n",
    "            self.head = new_node\n",
    "        else:\n",
    "            x = self.head\n",
    "            while(x.next != None):\n",
    "                x = x.next\n",
    "            x.next = new_node\n",
    "        \n",
    "    def print_ll(self):\n",
    "        ll = self.head\n",
    "        while(ll):\n",
    "            print(ll.data)\n",
    "            ll=ll.next"
   ]
  },
  {
   "cell_type": "code",
   "execution_count": 150,
   "id": "ba322021",
   "metadata": {},
   "outputs": [],
   "source": [
    "llist = LinkedList()"
   ]
  },
  {
   "cell_type": "code",
   "execution_count": 151,
   "id": "9baed6e9",
   "metadata": {},
   "outputs": [],
   "source": [
    "llist.add_begginning(1)\n",
    "llist.add_begginning(2)\n",
    "llist.add_begginning(3)"
   ]
  },
  {
   "cell_type": "code",
   "execution_count": 152,
   "id": "aa916b2b",
   "metadata": {},
   "outputs": [],
   "source": [
    "llist.add_at_position(10,1)"
   ]
  },
  {
   "cell_type": "code",
   "execution_count": 153,
   "id": "76954a86",
   "metadata": {},
   "outputs": [],
   "source": [
    "llist.add_end(4)"
   ]
  },
  {
   "cell_type": "code",
   "execution_count": 154,
   "id": "cc808feb",
   "metadata": {},
   "outputs": [
    {
     "name": "stdout",
     "output_type": "stream",
     "text": [
      "3\n",
      "2\n",
      "10\n",
      "1\n",
      "4\n"
     ]
    }
   ],
   "source": [
    "llist.print_ll()"
   ]
  },
  {
   "cell_type": "code",
   "execution_count": null,
   "id": "60e93e48",
   "metadata": {},
   "outputs": [],
   "source": []
  }
 ],
 "metadata": {
  "kernelspec": {
   "display_name": "Python 3",
   "language": "python",
   "name": "python3"
  },
  "language_info": {
   "codemirror_mode": {
    "name": "ipython",
    "version": 3
   },
   "file_extension": ".py",
   "mimetype": "text/x-python",
   "name": "python",
   "nbconvert_exporter": "python",
   "pygments_lexer": "ipython3",
   "version": "3.7.10"
  }
 },
 "nbformat": 4,
 "nbformat_minor": 5
}
