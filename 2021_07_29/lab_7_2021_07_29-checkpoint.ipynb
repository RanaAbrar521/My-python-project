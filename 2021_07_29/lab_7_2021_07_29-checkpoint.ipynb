{
 "cells": [
  {
   "cell_type": "code",
   "execution_count": 62,
   "id": "ce0288f1",
   "metadata": {},
   "outputs": [],
   "source": [
    "### create class singlylinkedlist\n",
    "### take data and next\n",
    "### function add in beginning that will add node at beginning\n",
    "### function to add node at end\n",
    "### function to add at speicific position\n",
    "\n",
    "\n",
    "### creating class node\n",
    "class Node:\n",
    "    \n",
    "    ### constuctor\n",
    "    def __init__(self,data):\n",
    "        self.data=data\n",
    "        self.next=None\n",
    "        \n",
    "\n",
    "### creating class singlyLinkedList\n",
    "class SinglyLinkedList:\n",
    "    \n",
    "    ### constructor\n",
    "    def __init__(self):\n",
    "        \n",
    "        self.head=None\n",
    "        \n",
    "    def add_node_in_beginning(self,new_data):\n",
    "        new_node=Node(new_data)\n",
    "        new_node.next=self.head\n",
    "        self.head=new_node\n",
    "        \n",
    "    def add_node_in_end(self,new_data):\n",
    "        new_node=Node(new_data)\n",
    "        temp=self.head\n",
    "        while(temp.next):\n",
    "            temp=temp.next\n",
    "        temp.next=new_node\n",
    "        \n",
    "    def add_node_at_desired_location(self,new_data,position):\n",
    "        new_node=Node(new_data)\n",
    "            \n",
    "        if(position==1):\n",
    "                \n",
    "            new_node.next=self.head\n",
    "            self.head=new_node\n",
    "                \n",
    "                \n",
    "        elif(position>1):\n",
    "            \n",
    "            \n",
    "            new_node.next=self.head.next\n",
    "            self.head.next=new_node     \n",
    "        \n",
    "        \n",
    "    def print_add_beginning_linkedlist(self):\n",
    "        temp=self.head\n",
    "        while(temp):\n",
    "            print(temp.data)\n",
    "            temp=temp.next\n",
    "    \n",
    "       "
   ]
  },
  {
   "cell_type": "code",
   "execution_count": 73,
   "id": "c9d1e888",
   "metadata": {},
   "outputs": [],
   "source": [
    "L1=SinglyLinkedList()\n",
    "L1.add_node_in_beginning(1)\n",
    "L1.add_node_in_beginning(4)\n",
    "L1.add_node_in_beginning(2)\n",
    "L1.add_node_in_end(3)\n",
    "L1.add_node_in_end(4)\n",
    "L1.add_node_in_end(5)\n",
    "L1.add_node_in_end(3)\n",
    "L1.add_node_at_desired_location(8,5)"
   ]
  },
  {
   "cell_type": "code",
   "execution_count": 74,
   "id": "2e0095cf",
   "metadata": {},
   "outputs": [
    {
     "name": "stdout",
     "output_type": "stream",
     "text": [
      "2\n",
      "8\n",
      "4\n",
      "1\n",
      "3\n",
      "4\n",
      "5\n",
      "3\n"
     ]
    }
   ],
   "source": [
    "L1.print_add_beginning_linkedlist()"
   ]
  },
  {
   "cell_type": "code",
   "execution_count": null,
   "id": "ba331809",
   "metadata": {},
   "outputs": [],
   "source": []
  }
 ],
 "metadata": {
  "kernelspec": {
   "display_name": "Python 3",
   "language": "python",
   "name": "python3"
  },
  "language_info": {
   "codemirror_mode": {
    "name": "ipython",
    "version": 3
   },
   "file_extension": ".py",
   "mimetype": "text/x-python",
   "name": "python",
   "nbconvert_exporter": "python",
   "pygments_lexer": "ipython3",
   "version": "3.8.8"
  }
 },
 "nbformat": 4,
 "nbformat_minor": 5
}
