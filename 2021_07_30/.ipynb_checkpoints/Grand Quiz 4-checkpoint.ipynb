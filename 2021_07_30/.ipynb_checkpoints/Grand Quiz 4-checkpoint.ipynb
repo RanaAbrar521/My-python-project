{
 "cells": [
  {
   "cell_type": "markdown",
   "id": "70eb5d0b-a23d-48c4-a0e7-087586dddec3",
   "metadata": {},
   "source": [
    "Q10. Create a function remove_duplication that takes a list and remove duplication from list.\n",
    "You cannot use set function"
   ]
  },
  {
   "cell_type": "code",
   "execution_count": 1,
   "id": "0c8e85f8-127d-4469-879f-47e70d180cd8",
   "metadata": {},
   "outputs": [],
   "source": [
    "def remove_duplication (list1): # created the function to remove duplication\n",
    "    #We know set and dictionaries have no duplication\n",
    "    #we cant use set, but we will use dictionary\n",
    "    \n",
    "    dic_list = dict.fromkeys(list1) # this function will assign the elements of the list into new dictionary's keys\n",
    "    # dictionary doesnt accept duplication in keys so there is no duplicated keys\n",
    "    \n",
    "    newlist = list(dic_list)        # now convert it into the list\n",
    "    return newlist # returning new non duplicated list\n",
    "    "
   ]
  },
  {
   "cell_type": "code",
   "execution_count": 2,
   "id": "357328be-6e62-416f-9fcb-cdc2872e4895",
   "metadata": {},
   "outputs": [
    {
     "data": {
      "text/plain": [
       "['ali', 'bilal', 'asad']"
      ]
     },
     "execution_count": 2,
     "metadata": {},
     "output_type": "execute_result"
    }
   ],
   "source": [
    "#calling of the function and passing the list with duplication\n",
    "remove_duplication([\"ali\", \"bilal\", \"ali\",\"ali\",\"asad\"])"
   ]
  },
  {
   "cell_type": "markdown",
   "id": "e6827a02-61bf-48a7-b481-52922cbb08f7",
   "metadata": {},
   "source": [
    "Q9. Write a function backward_number. That a receives a number and return the number in backwards.\n",
    "\n",
    "Input = 1234\n",
    "\n",
    "Output = 4321"
   ]
  },
  {
   "cell_type": "code",
   "execution_count": 3,
   "id": "7bd28f20-568a-4327-85e2-7317c37746ba",
   "metadata": {},
   "outputs": [],
   "source": [
    "def backward_number(numbers): #function created receiving the numbers in integer\n",
    "    str_numbers = str(numbers)  #converting the int figure into str using str funciton\n",
    "    str_backward_numbers = str_numbers[::-1] #now i sliced the string start from the end and end at 0 index, start from -1 index and go one step backward\n",
    "    int_backward_numbers = int(str_backward_numbers) #converting into integer by using int function\n",
    "    return int_backward_numbers"
   ]
  },
  {
   "cell_type": "code",
   "execution_count": 4,
   "id": "ec79d8a1-2b07-4c43-95e1-9c708edc07ad",
   "metadata": {},
   "outputs": [
    {
     "data": {
      "text/plain": [
       "4321"
      ]
     },
     "execution_count": 4,
     "metadata": {},
     "output_type": "execute_result"
    }
   ],
   "source": [
    "backward_number(1234)"
   ]
  },
  {
   "cell_type": "markdown",
   "id": "0ac6acf9-6bf3-496b-ad67-a55d0d533f6d",
   "metadata": {},
   "source": [
    "Q8. Write a function get_indices that receives the list of integers nums and an integer target, return indices of\n",
    "the two numbers such that they add up to target. You may assume that each input would have exactly one\n",
    "solution, and you may not use the same element twice.\n",
    "You can return the answer in any order."
   ]
  },
  {
   "cell_type": "code",
   "execution_count": 11,
   "id": "951f09ce-234c-4ac3-b42a-583c651129a9",
   "metadata": {},
   "outputs": [],
   "source": [
    "def get_indices(nums, target): #creating the fucntion\n",
    "    #making the nested for loop to check between two indexes \n",
    "    for i in range(len(nums)) : \n",
    "        for j in range(len(nums)):\n",
    "            if nums[i] != nums[j] and nums[i] + nums[j] == target : #here it will check it will not use same element twice and achieve the target or not\n",
    "                #put the index numbers in list and return them\n",
    "                out_put_index = [i,j] \n",
    "                return out_put_index"
   ]
  },
  {
   "cell_type": "code",
   "execution_count": 13,
   "id": "331e7c8f-cb00-4830-9593-0e3772e3c64b",
   "metadata": {},
   "outputs": [
    {
     "data": {
      "text/plain": [
       "[0, 2]"
      ]
     },
     "execution_count": 13,
     "metadata": {},
     "output_type": "execute_result"
    }
   ],
   "source": [
    "get_indices([1,7,2,5,3,4],3) # passing the list with targeted number"
   ]
  },
  {
   "cell_type": "markdown",
   "id": "4277310a-6c58-4a1d-a34d-0fd56724a40c",
   "metadata": {},
   "source": [
    "Q1. Create a function add_numbers which takes 4 parameters\n",
    "    1. x (integer)\n",
    "    2. y (integer)\n",
    "    3. z (integer)\n",
    "    4. flag (Boolean)\n",
    "    \n",
    "z and flag are optional parameters.\n",
    "\n",
    "if function receives z then function should return the sum of x y and z else,\n",
    "return the sum of x and y.\n",
    "\n",
    "if flag is True also print the statement\n",
    "“Flag is True”"
   ]
  },
  {
   "cell_type": "code",
   "execution_count": 19,
   "id": "4cbc005e-8fac-47f6-bbc6-acd101bf5821",
   "metadata": {},
   "outputs": [],
   "source": [
    "def add_numbers(x,y,z=None,flag=None): #creating the function and make  z and flag optional by passing none\n",
    "    if z != None: # if we pass the value of z it will add all three int\n",
    "        sum=  x+y+z\n",
    "    else: # else it will add only two passed elements\n",
    "        sum= x+y\n",
    "    \n",
    "    if flag == True: # if the flag is passed with true parameter then it will print and return along with sum\n",
    "        flag = \"Flag is True\"\n",
    "\n",
    "        return sum, flag\n",
    "    else: #else it will return the sum\n",
    "        return sum"
   ]
  },
  {
   "cell_type": "code",
   "execution_count": 20,
   "id": "95a3c6a7-5091-427d-9775-bcefa0a7e4ec",
   "metadata": {},
   "outputs": [
    {
     "data": {
      "text/plain": [
       "(7, 'Flag is True')"
      ]
     },
     "execution_count": 20,
     "metadata": {},
     "output_type": "execute_result"
    }
   ],
   "source": [
    "add_numbers(1,2,4,True) # passing all four parameters"
   ]
  },
  {
   "cell_type": "code",
   "execution_count": 21,
   "id": "b947e14f-951b-47de-bdd6-215a9d07d660",
   "metadata": {},
   "outputs": [
    {
     "data": {
      "text/plain": [
       "7"
      ]
     },
     "execution_count": 21,
     "metadata": {},
     "output_type": "execute_result"
    }
   ],
   "source": [
    "add_numbers(1,2,4) # passing only three parameters"
   ]
  },
  {
   "cell_type": "code",
   "execution_count": 23,
   "id": "32ff6d11-811a-49c9-88fa-12deffd97fb3",
   "metadata": {},
   "outputs": [
    {
     "data": {
      "text/plain": [
       "3"
      ]
     },
     "execution_count": 23,
     "metadata": {},
     "output_type": "execute_result"
    }
   ],
   "source": [
    "add_numbers(1,2) # passing only two parameters"
   ]
  },
  {
   "cell_type": "markdown",
   "id": "01af33ca-84cd-4a20-8f28-53b2a6c51cf6",
   "metadata": {},
   "source": [
    "Q2. Write a function get_datetime(int) that takes a param number_of_days and\n",
    "if the number is divisible by 2 returns (current_datetime + number_of_days) and\n",
    "if number is divisible by 3 returns (current_datetime - number_of_days)\n",
    "else return current_datetime"
   ]
  },
  {
   "cell_type": "code",
   "execution_count": 28,
   "id": "b30a8bf7-bb97-46a0-b978-15f97803d845",
   "metadata": {},
   "outputs": [],
   "source": [
    "import datetime as dt #importing the library for date and time \n",
    "\n",
    "def get_datetime(number_of_days): #make the funtion taking param of number of days\n",
    "    current_datetime = dt.datetime.now() # by using libraay's function we import the current date and time\n",
    "    \n",
    "    if number_of_days % 2 ==0 : #here we check the param is divisble by 2 or not\n",
    "        \n",
    "        number_of_days = dt.timedelta(days =number_of_days) # use the function of the time delta to manipulate the date time\n",
    "        return (current_datetime + number_of_days) #addition into the current date \n",
    "    \n",
    "    if number_of_days % 3 ==0: #here we check the param is divisble by 3 or not\n",
    "        \n",
    "        number_of_days = dt.timedelta(days =number_of_days)\n",
    "        return (current_datetime - number_of_days) #substraction into the current date \n",
    "    \n",
    "    else: \n",
    "        return current_datetime"
   ]
  },
  {
   "cell_type": "code",
   "execution_count": 29,
   "id": "3cdc932f-a9f2-4d39-957f-ed692dead90c",
   "metadata": {},
   "outputs": [
    {
     "data": {
      "text/plain": [
       "datetime.datetime(2021, 8, 3, 15, 23, 47, 371430)"
      ]
     },
     "execution_count": 29,
     "metadata": {},
     "output_type": "execute_result"
    }
   ],
   "source": [
    "get_datetime(4) # for divisible by 2 "
   ]
  },
  {
   "cell_type": "code",
   "execution_count": 31,
   "id": "09452b1f-8ccd-464a-a6db-da8d2d8ebab2",
   "metadata": {},
   "outputs": [
    {
     "data": {
      "text/plain": [
       "datetime.datetime(2021, 7, 21, 15, 23, 53, 653477)"
      ]
     },
     "execution_count": 31,
     "metadata": {},
     "output_type": "execute_result"
    }
   ],
   "source": [
    "get_datetime(9) # for divisible by 3"
   ]
  },
  {
   "cell_type": "code",
   "execution_count": 32,
   "id": "b9335bd4-b4f5-42e5-ad30-526d80aae4b6",
   "metadata": {},
   "outputs": [
    {
     "data": {
      "text/plain": [
       "datetime.datetime(2021, 7, 30, 15, 23, 53, 861532)"
      ]
     },
     "execution_count": 32,
     "metadata": {},
     "output_type": "execute_result"
    }
   ],
   "source": [
    "get_datetime(11) # for not divisible both 2 and 3"
   ]
  },
  {
   "cell_type": "markdown",
   "id": "2ba10265-9a4e-421e-9968-8d50462aeb50",
   "metadata": {},
   "source": [
    "Q3. Write a function concat_lst that takes two list as a parameter and combine two list together into single list\n",
    "and should not contains duplicate values.\n",
    "You must use loop to solve this question"
   ]
  },
  {
   "cell_type": "code",
   "execution_count": 35,
   "id": "6aead225-a4ef-4934-96b4-4b70f94b9c4f",
   "metadata": {},
   "outputs": [],
   "source": [
    "def concat_lst(list1,list2): # creating the function taking two lists\n",
    "    for i in list2 : # run loop of all elements in list 2\n",
    "        list1.append(i) # and append them to the list1\n",
    "    \n",
    "    # to remove the duplicatin we use fromkeys function to make them dictionary keys and then make them list using list function    \n",
    "    concat = list (dict.fromkeys (list1))\n",
    "    return concat"
   ]
  },
  {
   "cell_type": "code",
   "execution_count": 36,
   "id": "02cded8c-a3ab-4298-9082-a967b0884264",
   "metadata": {},
   "outputs": [
    {
     "data": {
      "text/plain": [
       "['Naveed', 'Asad', 'Ahmad', 'Hamid']"
      ]
     },
     "execution_count": 36,
     "metadata": {},
     "output_type": "execute_result"
    }
   ],
   "source": [
    "concat_lst([\"Naveed\", \"Asad\"],[\"Ahmad\", \"Hamid\",\"Asad\"]) #passing to lists with duplicated values"
   ]
  },
  {
   "cell_type": "markdown",
   "id": "0af2bd08-cb6f-436b-80ec-10a971171525",
   "metadata": {},
   "source": [
    "Q4. Write a function string_case using map that takes list of characters and return\n",
    "List of tuples with containing lower and upper case of that character’s list\n",
    "Final Output must contain unique tuple element"
   ]
  },
  {
   "cell_type": "code",
   "execution_count": 43,
   "id": "afd6c59f-9c24-4d17-827c-4634e8acca4f",
   "metadata": {},
   "outputs": [],
   "source": [
    "# created the funtion of upper_and_lower_case return the upper and lower case, it will be used by map funciton in string_case function\n",
    "def upper_and_lower_case (ul): \n",
    "    return (ul.upper(), ul.lower()) # upper and lower function will make the case upper and lower\n",
    "\n",
    "def string_case (list_case):\n",
    "    #used the map function and then convert into the set to make it unique and then convert into tuple as required\n",
    "    return tuple (set (map (upper_and_lower_case,list_case))) "
   ]
  },
  {
   "cell_type": "code",
   "execution_count": 44,
   "id": "45b42674-d4f5-45b4-bab7-1154b2af26e7",
   "metadata": {},
   "outputs": [
    {
     "data": {
      "text/plain": [
       "(('Y', 'y'), ('F', 'f'), ('K', 'k'), ('L', 'l'))"
      ]
     },
     "execution_count": 44,
     "metadata": {},
     "output_type": "execute_result"
    }
   ],
   "source": [
    "string_case(['l','k','y','y','f'])"
   ]
  },
  {
   "cell_type": "markdown",
   "id": "7efe799c-813e-4254-a342-2e00a49374b2",
   "metadata": {},
   "source": [
    "Q5. Write a function get_city_mpg_avg, that groups the cars by number of cylinders, and\n",
    "finding the average cty mpg for each group.\n",
    "\n",
    "Output should be in the list of tuples.\n",
    "\n",
    "Output = [ (5,20),(4,18),(3,16) ]\n",
    "\n",
    "Note:\n",
    "    1. Use MPG.csv file\n",
    "    2. First index of tuple shows the number of cylinders and second index shows the average\n",
    "    3. Result should be sorted by first tuple index by using lambda functions"
   ]
  },
  {
   "cell_type": "code",
   "execution_count": 106,
   "id": "e86db77e-c47a-4e61-9040-2d272bdba02a",
   "metadata": {},
   "outputs": [],
   "source": [
    "import csv \n",
    "\n",
    "def unique_cylinder(mpg): #created the funtion to make the distinct cylinders\n",
    "    unique_cylinders = [] #creat the empty list to store types of cylinders in cars\n",
    "    for i in mpg :\n",
    "        unique_cylinders.append (i['cyl'])\n",
    "    return list(set(unique_cylinders))\n",
    "\n",
    "def get_city_mpg_avg (): #created the function\n",
    "    with open (\"mpg.csv\") as opened_csvfile: # opening and reading the file\n",
    "        mpg = list (csv.DictReader(opened_csvfile)) #converted into the dictionary and then into list\n",
    "        \n",
    "    #calling the  unique_cylinder funtion\n",
    "    cylinders = unique_cylinder(mpg)\n",
    "    Final_output = [] # making the empty list to append the final output\n",
    "    for j in cylinders :\n",
    "        sum_of_cty = 0\n",
    "        number_of_cars = 0\n",
    "        for k in mpg :\n",
    "            if k['cyl'] == j:\n",
    "                sum_of_cty = sum_of_cty + float (k['cty'])\n",
    "                number_of_cars += 1\n",
    "        Final_output.append((j,sum_of_cty/number_of_cars) )\n",
    "\n",
    "    Final_output.sort(key=lambda x:x[0])\n",
    "    return Final_output\n",
    "        \n",
    "        \n",
    "        \n",
    "\n",
    "        \n",
    "    \n",
    "    "
   ]
  },
  {
   "cell_type": "code",
   "execution_count": 107,
   "id": "e93643fa-cbb1-4915-935c-b617ebff49d9",
   "metadata": {},
   "outputs": [
    {
     "data": {
      "text/plain": [
       "[('4', 21.012345679012345),\n",
       " ('5', 20.5),\n",
       " ('6', 16.21518987341772),\n",
       " ('8', 12.571428571428571)]"
      ]
     },
     "execution_count": 107,
     "metadata": {},
     "output_type": "execute_result"
    }
   ],
   "source": [
    "get_city_mpg_avg()"
   ]
  },
  {
   "cell_type": "code",
   "execution_count": null,
   "id": "85ba170a-26af-4975-9b9a-e94f6bc9197d",
   "metadata": {},
   "outputs": [],
   "source": []
  },
  {
   "cell_type": "code",
   "execution_count": null,
   "id": "6734c1d4-1c28-4ac1-9bee-330b0940719a",
   "metadata": {},
   "outputs": [],
   "source": []
  }
 ],
 "metadata": {
  "kernelspec": {
   "display_name": "Python 3",
   "language": "python",
   "name": "python3"
  },
  "language_info": {
   "codemirror_mode": {
    "name": "ipython",
    "version": 3
   },
   "file_extension": ".py",
   "mimetype": "text/x-python",
   "name": "python",
   "nbconvert_exporter": "python",
   "pygments_lexer": "ipython3",
   "version": "3.8.8"
  }
 },
 "nbformat": 4,
 "nbformat_minor": 5
}
