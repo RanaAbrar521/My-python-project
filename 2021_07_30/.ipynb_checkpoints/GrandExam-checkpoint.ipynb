{
 "cells": [
  {
   "cell_type": "code",
   "execution_count": 90,
   "id": "fbdea5bc",
   "metadata": {},
   "outputs": [],
   "source": [
    "#Question 1\n",
    "\n",
    "##create a func add_numbers which takes 4 param\n",
    "## 1.x(int) 2.y(int) 3.z(int) 4.flag(bol)\n",
    "## if recieve z then add all three else return sum of x and y\n",
    "## if flag is true, print this (Flag is True)\n",
    "\n",
    "\n",
    "## creating function\n",
    "def add_numbers(x,y,z=None,flag=None):\n",
    "    if flag == True:\n",
    "        print(\"Flag is True\")\n",
    "    if z is not None: ## if the z is not NONE we perform this section\n",
    "        sum_all = x + y + z\n",
    "        return sum_all\n",
    "    else:\n",
    "        sum_two = x + y\n",
    "        return sum_two"
   ]
  },
  {
   "cell_type": "code",
   "execution_count": 91,
   "id": "f67ee7e9",
   "metadata": {},
   "outputs": [
    {
     "name": "stdout",
     "output_type": "stream",
     "text": [
      "Flag is True\n"
     ]
    },
    {
     "data": {
      "text/plain": [
       "8"
      ]
     },
     "execution_count": 91,
     "metadata": {},
     "output_type": "execute_result"
    }
   ],
   "source": [
    "add_numbers(1,2,5,True)"
   ]
  },
  {
   "cell_type": "code",
   "execution_count": 119,
   "id": "b67beb11",
   "metadata": {},
   "outputs": [
    {
     "name": "stdout",
     "output_type": "stream",
     "text": [
      "Please add Number of Days: 24\n",
      "2021-08-23\n"
     ]
    }
   ],
   "source": [
    "# Question 2 \n",
    "\n",
    "## func get_datetime takes param (number_of_days)\n",
    "## if number % 2 = current date + number_of_days\n",
    "## elif number % 3 = current date - number_of_days\n",
    "## else return current date\n",
    "\n",
    "\n",
    "\n",
    "#Importing datetime and time libraries\n",
    "import datetime as dt\n",
    "import time as tm\n",
    "\n",
    "#Creating function with the param\n",
    "def get_datetime(number_of_days):\n",
    "    todays_date = dt.date.today()\n",
    "    number_of_days = int(input(\"Please add Number of Days: \")) ## taking days input\n",
    "    if number_of_days % 2 == 0: ## dividing it by 2\n",
    "           return (todays_date + dt.timedelta(days=number_of_days))\n",
    "    elif number_of_days % 3 == 0: ## dividing it by 3\n",
    "           return (todays_date - dt.timedelta(days=number_of_days))\n",
    "    else:\n",
    "        return todays_date\n",
    "    \n",
    "print (get_datetime(number_of_days))"
   ]
  },
  {
   "cell_type": "code",
   "execution_count": 96,
   "id": "a18c3870",
   "metadata": {},
   "outputs": [],
   "source": [
    "# Question 3\n",
    "\n",
    "## func concat_lst, takes 2 list as param\n",
    "## combine 2 list \n",
    "## remove duplicate\n",
    "\n",
    "# creating Function \n",
    "def concat_lst(x=[],y=[]):\n",
    "    x = [1, 4, 5, 6, 5] #list 1\n",
    "    y = [3, 5, 7, 2, 5] # list 2\n",
    "   \n",
    "    for i in range (len(y)): # loop runing till the the length of y list\n",
    "        x.append(y[i]) #appending the values of y list in x list\n",
    "        \n",
    "    return x"
   ]
  },
  {
   "cell_type": "code",
   "execution_count": 97,
   "id": "2dd3e67b",
   "metadata": {},
   "outputs": [
    {
     "data": {
      "text/plain": [
       "[1, 4, 5, 6, 5, 3, 5, 7, 2, 5]"
      ]
     },
     "execution_count": 97,
     "metadata": {},
     "output_type": "execute_result"
    }
   ],
   "source": [
    "concat_lst(x=[1, 4, 5, 6, 5] , y= [3, 5, 7, 2, 5])"
   ]
  },
  {
   "cell_type": "code",
   "execution_count": 98,
   "id": "cb8e9a65",
   "metadata": {},
   "outputs": [
    {
     "data": {
      "text/plain": [
       "(('f', 'F'), ('b', 'B'), ('a', 'A'))"
      ]
     },
     "execution_count": 98,
     "metadata": {},
     "output_type": "execute_result"
    }
   ],
   "source": [
    "# Question 4 \n",
    "## funct string_case , takes a param\n",
    "## using map takes a list of characters\n",
    "## return list of Tuples with lower and Upper case of list.\n",
    "## output must be unique\n",
    "\n",
    "\n",
    "# creating the function\n",
    "def string_case(newList):\n",
    "    x=tuple(set(map(upperLower,newList))) #creating tuples using map and making them unique\n",
    "    return x\n",
    "# creating Case Specific Function\n",
    "def upperLower(r):\n",
    "    return r.lower(),r.upper() # converting lower to upper and vice versa\n",
    "string_case(['f','b','a','a'])"
   ]
  },
  {
   "cell_type": "code",
   "execution_count": 99,
   "id": "1d2e99de",
   "metadata": {},
   "outputs": [],
   "source": [
    "# Question 5 \n",
    "\n",
    "## func get_city_avg_mpg\n",
    "## groups cars by num of cylinders\n",
    "## find the avg cty mpg for each group of cylinders\n",
    "\n",
    "import csv \n",
    "\n",
    "#creating function for separating cylinders from the csv\n",
    "def cyl(mpg):\n",
    "    cyl = []\n",
    "    for i in mpg:\n",
    "        cyl.append(i['cyl'])\n",
    "    return list(set(cyl)) #removing duplication and sorting \n",
    "\n",
    "#creating main function\n",
    "def get_city_avg_mpg():\n",
    "    #reading the CSV file\n",
    "    with open('mpg.csv') as csv_file:\n",
    "        mpg = list(csv.DictReader(csv_file))\n",
    "        \n",
    "    cyli = cyl(mpg)\n",
    "    final_list = []\n",
    "    #loop to get the value of cyl on each index\n",
    "    for i in cyli:\n",
    "        #\n",
    "        total_sum = 0\n",
    "        #counter for the vehicles\n",
    "        counter = 0\n",
    "        for j in mpg:\n",
    "            if j ['cyl'] == i:\n",
    "                total_sum = total_sum + int(j['cty'])\n",
    "                counter += 1 \n",
    "        final_list.append((i,total_sum/counter)) ##appending in the list and taking avg\n",
    "    final_list.sort(key = lambda x: x[0]) #sorting using lambda function\n",
    "    return final_list"
   ]
  },
  {
   "cell_type": "code",
   "execution_count": 100,
   "id": "57a4990d",
   "metadata": {},
   "outputs": [
    {
     "data": {
      "text/plain": [
       "[('4', 21.012345679012345),\n",
       " ('5', 20.5),\n",
       " ('6', 16.21518987341772),\n",
       " ('8', 12.571428571428571)]"
      ]
     },
     "execution_count": 100,
     "metadata": {},
     "output_type": "execute_result"
    }
   ],
   "source": [
    "get_city_avg_mpg()"
   ]
  },
  {
   "cell_type": "code",
   "execution_count": 101,
   "id": "7b81731a",
   "metadata": {},
   "outputs": [],
   "source": [
    "# Question 6\n",
    "\n",
    "## create func get_hwy_mpg_avg\n",
    "## find avg for each class vehicle\n",
    "## use mpg.csv \n",
    "## sort result in ascending order\n",
    "\n",
    "\n",
    "import csv\n",
    "\n",
    "def v_class(mpg):\n",
    "    v_class=[]\n",
    "    for i in mpg:\n",
    "        v_class.append(i['class'])\n",
    "    return list(set(v_class))\n",
    "\n",
    "def get_hwy_mpg_avg():\n",
    "        #reading the CSV file\n",
    "    with open('mpg.csv') as csv_file:\n",
    "        mpg = list(csv.DictReader(csv_file))\n",
    "        \n",
    "    hwy_avg = hwy(mpg)\n",
    "    vehical_class = v_class(mpg)\n",
    "    final_list = []\n",
    "    \n",
    "    for i in vehical_class:\n",
    "        total_sum = 0\n",
    "        counter = 0 \n",
    "        for j in mpg:\n",
    "            if j['class'] == i:\n",
    "                total_sum = total_sum + int(j['hwy'])\n",
    "                counter += 1\n",
    "        final_list.append((i,total_sum/counter))\n",
    "        final_list.sort(key = lambda x: x[1]) #sorting using lambda function\n",
    "    return final_list\n",
    "                \n",
    "        "
   ]
  },
  {
   "cell_type": "code",
   "execution_count": 102,
   "id": "ab0903be",
   "metadata": {},
   "outputs": [
    {
     "data": {
      "text/plain": [
       "[('pickup', 16.87878787878788),\n",
       " ('suv', 18.129032258064516),\n",
       " ('minivan', 22.363636363636363),\n",
       " ('2seater', 24.8),\n",
       " ('midsize', 27.29268292682927),\n",
       " ('subcompact', 28.142857142857142),\n",
       " ('compact', 28.29787234042553)]"
      ]
     },
     "execution_count": 102,
     "metadata": {},
     "output_type": "execute_result"
    }
   ],
   "source": [
    "get_hwy_mpg_avg()"
   ]
  },
  {
   "cell_type": "code",
   "execution_count": 232,
   "id": "227c8b49",
   "metadata": {},
   "outputs": [],
   "source": [
    "# Question 7\n",
    "\n",
    "class Student:\n",
    "\n",
    "    ##initializing the constructor\n",
    "    def __init__(self,name,batch_no,address,age,father_name,city):\n",
    "        self.name = name\n",
    "        self.batch_no = batch_no\n",
    "        self.address = address\n",
    "        self.age = age\n",
    "        self.father_name = father_name\n",
    "        self.city = city\n",
    "    \n",
    "    #creating magic function to take control over the class object\n",
    "    def __new__(cls,name,batch_no,address,age,father_name,city):\n",
    "        if age <= '18':\n",
    "            inst = object.__new__(cls)\n",
    "            return inst\n",
    "        elif city == 'lahore' or 'faisalabad' or 'karachi' :\n",
    "            inst = object.__new__(cls)\n",
    "            return inst\n",
    "        else:\n",
    "            pass\n",
    "   # creating setters\n",
    "    def set_name(self,name):\n",
    "        self.name = str(name)\n",
    "    def set_name(self,batch_no):\n",
    "        self.batch_no = int(batch_no)\n",
    "    def set_name(self,address):\n",
    "        self.address = str(address)\n",
    "    def set_name(self,age):\n",
    "        self.age = int(age)\n",
    "    def set_name(self,father_name):\n",
    "        self.father_name = str(father_name)\n",
    "    def set_name(self,city):\n",
    "        self.city = str(city)\n",
    "    # Creating getters\n",
    "    def get_name(self):\n",
    "        return self.name\n",
    "    def get_name(self):\n",
    "        return self.batch_no\n",
    "    def get_name(self):\n",
    "        return self.address\n",
    "    def get_name(self):\n",
    "        return self.age\n",
    "    def get_name(self):\n",
    "        return self.father_name\n",
    "    def get_name(self):\n",
    "        return self.city\n",
    "#creating DevnationStudents child class of Student class\n",
    "class DevnationStudents(Student):\n",
    "    #initializing constructor\n",
    "    def __init__(self,name,batch_no,address,age,father_name,city,courses=[],marks=[]):\n",
    "        super().__init__(name,batch_no,address,age,father_name,city)\n",
    "        self.courses = courses\n",
    "        self.marks = marks \n",
    "    #creating setter for courses\n",
    "    def set_courses(self,courses):\n",
    "        for i in courses:\n",
    "            if i not in self.courses:\n",
    "                self.courses.append(i)\n",
    "    #creating getter for marks\n",
    "    def set_marks(self,courses,marks):\n",
    "        if courses in self.courses:\n",
    "            if courses not in self.marks:\n",
    "                self.marks.append({'course':courses,'marks':marks})\n",
    "    #creating getters\n",
    "    def get_courses(self):\n",
    "        return self.courses\n",
    "    \n",
    "    def get_marks(self):\n",
    "        return self.marks\n",
    "        "
   ]
  },
  {
   "cell_type": "code",
   "execution_count": 233,
   "id": "1c46a499",
   "metadata": {},
   "outputs": [],
   "source": [
    "data = DevnationStudents('hamza','20','Johar Town','23','M.Afzal','Lahore')"
   ]
  },
  {
   "cell_type": "code",
   "execution_count": 234,
   "id": "ddfccb3e",
   "metadata": {},
   "outputs": [
    {
     "data": {
      "text/plain": [
       "['datascience', 'FullStack']"
      ]
     },
     "execution_count": 234,
     "metadata": {},
     "output_type": "execute_result"
    }
   ],
   "source": [
    "data.set_courses(['datascience','FullStack'])\n",
    "data.get_courses()"
   ]
  },
  {
   "cell_type": "code",
   "execution_count": 235,
   "id": "8d56e1e7",
   "metadata": {},
   "outputs": [
    {
     "data": {
      "text/plain": [
       "['datascience', 'FullStack', 'python']"
      ]
     },
     "execution_count": 235,
     "metadata": {},
     "output_type": "execute_result"
    }
   ],
   "source": [
    "data.set_courses(['python'])\n",
    "data.get_courses()"
   ]
  },
  {
   "cell_type": "code",
   "execution_count": 236,
   "id": "cccc12ba",
   "metadata": {},
   "outputs": [
    {
     "data": {
      "text/plain": [
       "[{'course': 'datascience', 'marks': 10}]"
      ]
     },
     "execution_count": 236,
     "metadata": {},
     "output_type": "execute_result"
    }
   ],
   "source": [
    "data.set_marks('datascience',10)\n",
    "data.get_marks()"
   ]
  },
  {
   "cell_type": "code",
   "execution_count": 109,
   "id": "1c53051d",
   "metadata": {},
   "outputs": [],
   "source": [
    "# Question 8\n",
    "\n",
    "## func get_indices\n",
    "## recieves a list and a target\n",
    "## return indices of 2 num that add up to target\n",
    "\n",
    "## creating function\n",
    "def get_indices(nums:[],target):\n",
    "    for i in range (len(nums)): # starting the loop from the first index\n",
    "        for j in range (i+1, len(nums)): #incrementing and taking second num\n",
    "            if nums[i] + nums[j] == target: # checking if values on the particular index adds up to Target\n",
    "                return [i,j] # returning the index values of the adding up values"
   ]
  },
  {
   "cell_type": "code",
   "execution_count": 110,
   "id": "16988949",
   "metadata": {},
   "outputs": [
    {
     "data": {
      "text/plain": [
       "[0, 2]"
      ]
     },
     "execution_count": 110,
     "metadata": {},
     "output_type": "execute_result"
    }
   ],
   "source": [
    "get_indices([3,6,11,15],14)"
   ]
  },
  {
   "cell_type": "code",
   "execution_count": 111,
   "id": "66cdbd52",
   "metadata": {},
   "outputs": [],
   "source": [
    "# Question 9 \n",
    "\n",
    "## func backward_number\n",
    "## returns number reverse\n",
    "\n",
    "## creating the function\n",
    "def backward_number():\n",
    "    num = int(input(\"Enter Number: \")) ##taking user input\n",
    "    x = 0 \n",
    "    while(num is not 0): #starting the loop if number is not Zero\n",
    "        rem = num % 10 # taking reminder of number by taking module\n",
    "        x = (x*10) + rem #multiplying the x value with 10 and adding up the Reminder value\n",
    "        num = num // 10 ## we use this to make our result in form of integer\n",
    "    print(x)"
   ]
  },
  {
   "cell_type": "code",
   "execution_count": 112,
   "id": "3316f03b",
   "metadata": {},
   "outputs": [
    {
     "name": "stdout",
     "output_type": "stream",
     "text": [
      "Enter Number: 1234\n",
      "4321\n"
     ]
    }
   ],
   "source": [
    "backward_number()"
   ]
  },
  {
   "cell_type": "code",
   "execution_count": 113,
   "id": "10b2fa47",
   "metadata": {},
   "outputs": [],
   "source": [
    "# Question 10\n",
    "\n",
    "## func remove_duplication\n",
    "## remove the duplicate numbers from the list\n",
    "\n",
    "def remove_duplication():\n",
    "    lst= [1,3,6,2,1,6,3,5,7]\n",
    "    new_list = []\n",
    "    \n",
    "    for i in lst:\n",
    "        if i not in (new_list):\n",
    "            new_list.append(i)\n",
    "    print(new_list)"
   ]
  },
  {
   "cell_type": "code",
   "execution_count": 114,
   "id": "6feaac19",
   "metadata": {},
   "outputs": [
    {
     "name": "stdout",
     "output_type": "stream",
     "text": [
      "[1, 3, 6, 2, 5, 7]\n"
     ]
    }
   ],
   "source": [
    "remove_duplication()"
   ]
  },
  {
   "cell_type": "code",
   "execution_count": null,
   "id": "f1fa2ad0",
   "metadata": {},
   "outputs": [],
   "source": []
  }
 ],
 "metadata": {
  "kernelspec": {
   "display_name": "Python 3",
   "language": "python",
   "name": "python3"
  },
  "language_info": {
   "codemirror_mode": {
    "name": "ipython",
    "version": 3
   },
   "file_extension": ".py",
   "mimetype": "text/x-python",
   "name": "python",
   "nbconvert_exporter": "python",
   "pygments_lexer": "ipython3",
   "version": "3.7.10"
  }
 },
 "nbformat": 4,
 "nbformat_minor": 5
}
