{
 "cells": [
  {
   "cell_type": "markdown",
   "id": "5987db4a",
   "metadata": {},
   "source": [
    "# Grand Quiz\n"
   ]
  },
  {
   "cell_type": "markdown",
   "id": "9d844f8e",
   "metadata": {},
   "source": [
    "Q1. Create a function add_numbers which takes 4 parameters\n",
    "1. x (integer)\n",
    "2. y (integer)\n",
    "3. z (integer)\n",
    "4. flag (Boolean)\n",
    "z and flag are  parameters \n",
    "if function receives z then function should return the sum of x y and z else\n",
    "return the sum of x and y\n",
    "if flag is True also print the statement \n",
    "“Flag is True”"
   ]
  },
  {
   "cell_type": "code",
   "execution_count": 1,
   "id": "af905b24",
   "metadata": {},
   "outputs": [],
   "source": [
    "# sum \n",
    "# if-else\n",
    "# flag, z optional\n",
    "#nested if else\n",
    "\n",
    "def add_numbers(x,y, flag = False , z=None):    # function defination \n",
    "    if (z is not None): \n",
    "        if flag == True:     \n",
    "            print(\"Flag is True\") \n",
    "        return (x+y+z)\n",
    "    \n",
    "    else:\n",
    "        if flag == True:\n",
    "            print(\"Flag is True\")\n",
    "        return x+y"
   ]
  },
  {
   "cell_type": "code",
   "execution_count": null,
   "id": "34cd3cac",
   "metadata": {},
   "outputs": [],
   "source": [
    "a = add_numbers(2,3)"
   ]
  },
  {
   "cell_type": "markdown",
   "id": "f9c37ddd",
   "metadata": {},
   "source": [
    "Q2. Write a function get_datetime(int) that takes a param number_of_days and \n",
    "if the number is divisible by 2 returns (current_datetime + number_of_days) and\n",
    "if number is divisible by 3 returns (current_datetime - number_of_days)\n",
    "else return current_datetime\n"
   ]
  },
  {
   "cell_type": "code",
   "execution_count": null,
   "id": "9e1c0d41",
   "metadata": {},
   "outputs": [],
   "source": [
    "# function name = get_datetime(number_of_days)\n",
    "# if number_of_days % 2 == 0:\n",
    "#return (current_datetime + number_of_days)\n",
    "#elif (number_of_days % 2 == 0:)\n",
    "#(current_datetime - number_of_days)"
   ]
  },
  {
   "cell_type": "code",
   "execution_count": 19,
   "id": "a36761e6",
   "metadata": {},
   "outputs": [
    {
     "data": {
      "text/plain": [
       "datetime.datetime(2021, 7, 21, 1, 11, 26, 30016)"
      ]
     },
     "execution_count": 19,
     "metadata": {},
     "output_type": "execute_result"
    }
   ],
   "source": [
    "import datetime as dt\n",
    "def get_date(number_of_days):\n",
    "    if number_of_days % 2 == 0:\n",
    "        return dt.datetime.today() + dt.timedelta(number_of_days)\n",
    "    elif  number_of_days % 3 == 0:\n",
    "        return dt.datetime.today() - dt.timedelta(number_of_days)\n",
    "    else:\n",
    "        return dt.datetime.today()\n",
    "get_date(9)"
   ]
  },
  {
   "cell_type": "markdown",
   "id": "e12fb455",
   "metadata": {},
   "source": [
    "Q3. Write a function concat_lst that takes two list as a parameter and combine two list together into single list \n",
    "and should not contains duplicate values.\n",
    "You must use loop to solve this question"
   ]
  },
  {
   "cell_type": "code",
   "execution_count": 20,
   "id": "d6276683",
   "metadata": {},
   "outputs": [],
   "source": [
    "#fun name =  concat_lst\n",
    "# param = 2 list \n",
    "# loops\n",
    "# concate 2 list\n",
    "\n",
    "def concat_lst(list_one,list_two):\n",
    "    concate_list = list_one + list_two\n",
    "    x = []\n",
    "    for i in concate_list:    \n",
    "        if (i not in x):\n",
    "            x.append(i)\n",
    "        concate_list = x\n",
    "    return concate_list"
   ]
  },
  {
   "cell_type": "code",
   "execution_count": 24,
   "id": "33c22d8a",
   "metadata": {},
   "outputs": [
    {
     "name": "stdout",
     "output_type": "stream",
     "text": [
      "[1, 2, 3, 4, 5]\n"
     ]
    }
   ],
   "source": [
    "a = concat_lst([1,2,3],[2,3,4,5])\n",
    "print(a)"
   ]
  },
  {
   "cell_type": "markdown",
   "id": "82fb0b3c",
   "metadata": {},
   "source": [
    "Q4. Write a function string_case using map that takes list of characters and return\n",
    "List of tuples with containing lower and upper case of that character’s list\n",
    "Final Output must contain unique tuple element"
   ]
  },
  {
   "cell_type": "code",
   "execution_count": 25,
   "id": "f19fa886",
   "metadata": {},
   "outputs": [
    {
     "data": {
      "text/plain": [
       "[('R', 'r'), ('I', 'i'), ('Q', 'q'), ('A', 'a')]"
      ]
     },
     "execution_count": 25,
     "metadata": {},
     "output_type": "execute_result"
    }
   ],
   "source": [
    "def string_case(list_of_char):\n",
    "    a = set(map(upper_lower,list_of_char))\n",
    "    y = []\n",
    "    for i in a:\n",
    "        y.append(i)\n",
    "    return y\n",
    "\n",
    "def upper_lower(x):\n",
    "    return x.upper(),x.lower()\n",
    "\n",
    "    \n",
    "string_case(['i','q','r','a','q'])"
   ]
  },
  {
   "cell_type": "markdown",
   "id": "8c23a51e",
   "metadata": {},
   "source": [
    "Q5. Write a function get_city_mpg_avg, that groups the cars by number of cylinders, and\n",
    "finding the average cty mpg for each group.\n",
    "Output should be in the list of tuples\n",
    "Output = [ (5,20),(4,18),(3,16) ]\n",
    "Note:\n",
    "1. Use MPG.csv file\n",
    "2. First index of tuple shows the number of cylinders and second index shows the average\n",
    "3. Result should be sorted by first tuple index by using lambda functions\n"
   ]
  },
  {
   "cell_type": "code",
   "execution_count": 32,
   "id": "ff80dcb4",
   "metadata": {},
   "outputs": [
    {
     "data": {
      "text/plain": [
       "[('4', 21.012345679012345),\n",
       " ('5', 20.5),\n",
       " ('6', 16.21518987341772),\n",
       " ('8', 12.571428571428571)]"
      ]
     },
     "execution_count": 32,
     "metadata": {},
     "output_type": "execute_result"
    }
   ],
   "source": [
    "import csv\n",
    "with open('mpg.csv') as csv_file:   \n",
    "      mpg=list(csv.DictReader(csv_file))\n",
    "def unique_cyl(mpg):\n",
    "    cylinders = []\n",
    "    for i in mpg:\n",
    "        cylinders.append(i['cyl'])\n",
    "        #print(cylinders)\n",
    "    return set(cylinders)\n",
    "def get_cty_mpg_avg():\n",
    "    with open('mpg.csv') as csv_file:\n",
    "        mpg=list(csv.DictReader(csv_file))\n",
    "    z =unique_cyl(mpg)\n",
    "    result=[]\n",
    "    for i in z:\n",
    "        add =0\n",
    "        count=0\n",
    "        for j in mpg:\n",
    "            if j['cyl']==i:\n",
    "                add = add + float(j['cty'])\n",
    "                \n",
    "                count = count+1\n",
    "                avg = add / count\n",
    "        result.append((i,avg))  \n",
    "        result.sort(key=lambda x:x[0])\n",
    "    # final_result=list(result)\n",
    "    return result\n",
    "get_cty_mpg_avg()"
   ]
  },
  {
   "cell_type": "code",
   "execution_count": null,
   "id": "ddf4f8c2",
   "metadata": {},
   "outputs": [],
   "source": []
  },
  {
   "cell_type": "markdown",
   "id": "7f75693d",
   "metadata": {},
   "source": [
    "Q6. Write a function get_hwy_mpg_avg find the average hwy mpg for each class of vehicle\n",
    " Hwy mpg means highway mileage \n",
    "1. Use MPG.csv file\n",
    "2. Hwy mpg is found as hwy column in a file\n",
    "3. Vehicle class is found as class column in a file\n",
    "4. Sort Hwy Mpg in ascending order\n",
    "Output sample: [('pickup', 16.88),('suv', 18.13),('minivan', 22.36),('2seater', 24.80),('midsize', 27.29),\n",
    "('subcompact', 28.14), ('compact', 28.30)]"
   ]
  },
  {
   "cell_type": "code",
   "execution_count": 34,
   "id": "5d7c4a42",
   "metadata": {},
   "outputs": [
    {
     "data": {
      "text/plain": [
       "[('suv', 18.129032258064516),\n",
       " ('compact', 28.29787234042553),\n",
       " ('midsize', 27.29268292682927),\n",
       " ('2seater', 24.8),\n",
       " ('subcompact', 28.142857142857142),\n",
       " ('pickup', 16.87878787878788),\n",
       " ('minivan', 22.363636363636363)]"
      ]
     },
     "execution_count": 34,
     "metadata": {},
     "output_type": "execute_result"
    }
   ],
   "source": [
    "import csv\n",
    "with open('mpg.csv') as csv_file:   \n",
    "      mpg=list(csv.DictReader(csv_file))\n",
    "def unique_cyl(mpg):\n",
    "    vehicle = []\n",
    "    for b in mpg:\n",
    "        vehicle.append(b['class'])\n",
    "        \n",
    "    return vehicle\n",
    "unique_cyl(mpg)\n",
    "\n",
    "def get_hwy_mpg_avg():\n",
    "    with open('mpg.csv') as csv_file:\n",
    "        mpg=list(csv.DictReader(csv_file))\n",
    "    z =unique_cyl(mpg)   \n",
    "    result = []\n",
    "    for i in z:\n",
    "        add = 0\n",
    "        count=0\n",
    "        for j in mpg:\n",
    "            if j['class']==i:\n",
    "                add = add + float(j['hwy'])\n",
    "                count += 1\n",
    "                   \n",
    "        result.append((i , add/count))  \n",
    "        result.sort(key=lambda x:x[1])\n",
    "        final_result=set(result)\n",
    "    return list(final_result)\n",
    "get_hwy_mpg_avg()"
   ]
  },
  {
   "cell_type": "code",
   "execution_count": null,
   "id": "bce88e2a",
   "metadata": {},
   "outputs": [],
   "source": []
  },
  {
   "cell_type": "code",
   "execution_count": null,
   "id": "28085a98",
   "metadata": {},
   "outputs": [],
   "source": []
  },
  {
   "cell_type": "markdown",
   "id": "aadff69a",
   "metadata": {},
   "source": [
    "Create a class Student with the following getters and setters\n",
    "1. Constructor\n",
    "a. Create an Object with following parameters\n",
    "i. Name\n",
    "ii. Batch No\n",
    "iii. Address\n",
    "iv. Age\n",
    "v. Father Name\n",
    "vi. City\n",
    "2. New \n",
    "a. Students with age more than 18 are not allowed in the school\n",
    "b. Students of Lahore Islamabad Faisalabad Karachi are allowed\n",
    "3. Setters\n",
    "a. Name (str)\n",
    "b. Batch no (int)\n",
    "c. Address (str)\n",
    "d. Age (str)\n",
    "e. Father name (str)\n",
    "f. City (str)\n",
    "4. Getters\n",
    "a. Name \n",
    "b. Batch no \n",
    "c. Address \n",
    "d. Age\n",
    "e. Father name\n",
    "f. City\n",
    "5. Create a new class called DevnationStudents which is a child class of Student\n",
    "a. Write a constructor that\n",
    "i. That calls the Parent Class Constructor\n",
    "ii. Also save courses and marks as empty list in the child constructor\n",
    "b. Write setter functions\n",
    "i. Add courses\n",
    "1. Takes a list of courses\n",
    "2. Add only those courses in the list which are not already in the\n",
    "ii. Add courses_marks\n",
    "1. This takes the list of dictionaries\n",
    "2. If the particular exists in the courses lists then the particular dictionary \n",
    "should be added in the marks list\n",
    "3. Marks list should not contains duplicate entries of same courses\n",
    "c. Write getter functions\n",
    "i. Get courses\n",
    "ii. Get Mark"
   ]
  },
  {
   "cell_type": "code",
   "execution_count": 35,
   "id": "6f129350",
   "metadata": {},
   "outputs": [],
   "source": [
    "class Student:\n",
    "    \n",
    "    def __init(self,name,batch_no, address, age,father_name, city):\n",
    "        self.name = name\n",
    "        self.batch_no = batch_no\n",
    "        self.address = address\n",
    "        self.age = age\n",
    "        self.father_name = father_name\n",
    "        self.city = city\n",
    "# new magic function\n",
    "    def __new__(cls,name,batch_no, address, age,father_name, city):\n",
    "        print (\"new magic method is called\")\n",
    "        a = list([ 'Lahore', 'Islamabad' , 'Faisalabad', 'Karachi' ])\n",
    "        if (age <= 18) and (city in a) :\n",
    "            inst = object.__new__(cls)\n",
    "            return inst\n",
    "#setters   \n",
    "\n",
    "    def set_name(self,name):\n",
    "        self.name= name \n",
    "    def set_batch_no(self,batch_no):\n",
    "        self.batch_no = batch_no      \n",
    "    def set_address(self,address):\n",
    "        self.address =address\n",
    "    def set_age(self,age):\n",
    "        self.age =age\n",
    "    def set_father_name(self,father_name):\n",
    "        self.father_name =father_name\n",
    "    def set_city(self,city):\n",
    "        return city\n",
    "# getters\n",
    "    def get_name():\n",
    "        return name\n",
    "    def get_batch_no():\n",
    "        return batch_no\n",
    "    def get_address():\n",
    "        return address\n",
    "    def get_age():\n",
    "        return age\n",
    "    def get_father_name():\n",
    "        return father_name\n",
    "    def get_city():\n",
    "        return city\n",
    "\n",
    "    \n",
    "\n",
    "    \n",
    "class DevnationStudents(Student):\n",
    "    def __init__(self,courses = [], marks = []):\n",
    "        super().__init__(self,name,batch_no, address, age,father_name, city)\n",
    "        self.courses =[]\n",
    "        self.marks = []\n",
    "            \n",
    "    def set_add_course(self,list_of_courses):\n",
    "        x = []\n",
    "        for i in list_of_courses:\n",
    "            if i not in x:\n",
    "                x.append(i)\n",
    "                return x \n",
    "    def set_courses_marks1(list_of_dictionaries):\n",
    "        marks_list = []\n",
    "        for i in list_of_dictionaries:\n",
    "            if i in list_of_courses:   # add dict to list\n",
    "                marks_list.append(i)\n",
    "                print (marks_list)\n",
    "        return marks_list\n",
    "\n",
    "\n",
    "# getters\n",
    "    def get_courses(self):\n",
    "        return self.courses\n",
    "    \n",
    "    def get_marks(self):\n",
    "        return self.marks\n",
    "                \n",
    "            \n",
    "\n"
   ]
  },
  {
   "cell_type": "code",
   "execution_count": null,
   "id": "b68c6bbf",
   "metadata": {},
   "outputs": [],
   "source": []
  },
  {
   "cell_type": "code",
   "execution_count": null,
   "id": "62654efb",
   "metadata": {},
   "outputs": [],
   "source": [
    "\n"
   ]
  },
  {
   "cell_type": "markdown",
   "id": "244dd7fa",
   "metadata": {},
   "source": [
    "Q8. Write a function get_indices that receives the list of integers nums and an integer target, return indices of \n",
    "the two numbers such that they add up to target. You may assume that each input would have exactly one \n",
    "solution, and you may not use the same element twice.\n",
    "You can return the answer in any order.\n",
    "Example 1:\n",
    "Input: nums = [2,7,11,15], target = 9\n",
    "Output: [0,1]\n",
    "Output: Because nums[0] + nums[1] == 9, we return [0, 1].\n",
    "Example 2:\n",
    "Input: nums = [3,2,4], target = 6\n",
    "Output: [1,2]"
   ]
  },
  {
   "cell_type": "code",
   "execution_count": 36,
   "id": "19acf1d7",
   "metadata": {},
   "outputs": [
    {
     "data": {
      "text/plain": [
       "(1, 2)"
      ]
     },
     "execution_count": 36,
     "metadata": {},
     "output_type": "execute_result"
    }
   ],
   "source": [
    "list_of_integer = [2,7,11,15]\n",
    "def get_indices(list_of_integer, target):\n",
    "    for i in range(len(list_of_integer)):\n",
    "        for j in range(i+1,len(list_of_integer)):\n",
    "            if list_of_integer[i] + list_of_integer[j] == target:\n",
    "                # a = list_of_integer[i] + list_of_integer[j]\n",
    "                return i,j\n",
    "      \n",
    "     \n",
    "    \n",
    "get_indices([3,2,4], 6) "
   ]
  },
  {
   "cell_type": "markdown",
   "id": "37972249",
   "metadata": {},
   "source": [
    "Q9. Write a function backward_number. That a receives a number and return the number in backwards\n",
    "Input = 1234\n",
    "Output = 4321"
   ]
  },
  {
   "cell_type": "code",
   "execution_count": 38,
   "id": "a535f97a",
   "metadata": {},
   "outputs": [
    {
     "data": {
      "text/plain": [
       "4521"
      ]
     },
     "execution_count": 38,
     "metadata": {},
     "output_type": "execute_result"
    }
   ],
   "source": [
    "def backward_number(num):\n",
    "    revse_number = 0 \n",
    "    while (num > 0):  \n",
    "        # Logic  \n",
    "        remainder = num % 10  \n",
    "        revse_number = (revse_number * 10) + remainder  \n",
    "        num = num // 10  \n",
    "    return revse_number   \n",
    "\n",
    "backward_number(1254)"
   ]
  },
  {
   "cell_type": "markdown",
   "id": "36acd812",
   "metadata": {},
   "source": [
    "Q10. Create a function remove_duplication that takes a list and remove duplication from list.\n",
    " You cannot use set function"
   ]
  },
  {
   "cell_type": "code",
   "execution_count": 39,
   "id": "accd0022",
   "metadata": {},
   "outputs": [
    {
     "name": "stdout",
     "output_type": "stream",
     "text": [
      "[1, 2, 3, 4]\n"
     ]
    }
   ],
   "source": [
    "def remove_duplication(our_list):\n",
    "    x = []\n",
    "    for i in our_list:\n",
    "        if i not in x:\n",
    "            x.append(i)\n",
    "    return x   \n",
    "\n",
    "a = remove_duplication([1,2,3,3,4])   \n",
    "print(a)"
   ]
  },
  {
   "cell_type": "code",
   "execution_count": null,
   "id": "6d7cf0ca",
   "metadata": {},
   "outputs": [],
   "source": []
  }
 ],
 "metadata": {
  "kernelspec": {
   "display_name": "Python 3",
   "language": "python",
   "name": "python3"
  },
  "language_info": {
   "codemirror_mode": {
    "name": "ipython",
    "version": 3
   },
   "file_extension": ".py",
   "mimetype": "text/x-python",
   "name": "python",
   "nbconvert_exporter": "python",
   "pygments_lexer": "ipython3",
   "version": "3.8.8"
  }
 },
 "nbformat": 4,
 "nbformat_minor": 5
}
