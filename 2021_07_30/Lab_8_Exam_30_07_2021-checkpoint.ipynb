{
 "cells": [
  {
   "cell_type": "code",
   "execution_count": 11,
   "id": "ef8c033e",
   "metadata": {},
   "outputs": [
    {
     "name": "stdout",
     "output_type": "stream",
     "text": [
      "flag is True\n"
     ]
    },
    {
     "data": {
      "text/plain": [
       "50"
      ]
     },
     "execution_count": 11,
     "metadata": {},
     "output_type": "execute_result"
    }
   ],
   "source": [
    "### LAB 8 QUESTION#1\n",
    "\n",
    "### function add_numbers\n",
    "### takes 4 parameters\n",
    "### z and boolean are optional\n",
    "### sum x + y + x\n",
    "### if flag is true then return true statement\n",
    "\n",
    "\n",
    "def add_numbers(x,y,z=0,flag=None):\n",
    "    \n",
    "    ### we add the three numbers, since z is 0 so if we dont pass value of z it will add with 0 thus no effect on result :D\n",
    "    add=x+y+z\n",
    "    \n",
    "    ### here we are just saying if the flag is true we call the statement :D\n",
    "    if flag is True:\n",
    "        print(\"flag is True\")\n",
    "      \n",
    "    ### here we return our result :D\n",
    "    return add\n",
    "    \n",
    "        \n",
    "add_numbers(2,3,45,True)"
   ]
  },
  {
   "cell_type": "code",
   "execution_count": 18,
   "id": "ebd49ab4",
   "metadata": {},
   "outputs": [
    {
     "name": "stdout",
     "output_type": "stream",
     "text": [
      "since it is divisible by 2 so we add\n"
     ]
    },
    {
     "data": {
      "text/plain": [
       "datetime.date(2021, 8, 17)"
      ]
     },
     "execution_count": 18,
     "metadata": {},
     "output_type": "execute_result"
    }
   ],
   "source": [
    "### LAB 8 QUESTION#2\n",
    "\n",
    "### function dateTime\n",
    "### takes parameter number_of_days\n",
    "### if number is divisible by 2 the current_date + number_of_days\n",
    "### else number is divisible by 3 the current_date - number_of_days\n",
    "### since the question does not say if the number is divisible by both 2 and 3 so i will not be doing that part\n",
    "\n",
    "import datetime as dt\n",
    "\n",
    "from datetime import timedelta\n",
    "\n",
    "def get_datetime(number_of_days):\n",
    "    \n",
    "    ### here we initialize the current date in current_date variable\n",
    "    current_date = dt.date.today()\n",
    "    \n",
    "    ### here we check if number_of_days is divisible by 2\n",
    "    if number_of_days % 2 == 0:\n",
    "        print('since it is divisible by 2 so we add')\n",
    "        return current_date + timedelta(days=number_of_days)\n",
    "    \n",
    "     ### here we check if number_of_days is divisible by 3\n",
    "    elif number_of_days % 3 == 0:\n",
    "        print('since it is divisible by 3 so we minus')\n",
    "        return current_date - timedelta(days=number_of_days)\n",
    "    \n",
    "     ### here if both conditions are false then we run this\n",
    "    else:\n",
    "        print('since it is false for both condition we just return the regular date')\n",
    "        return current_date\n",
    "\n",
    "get_datetime(18)"
   ]
  },
  {
   "cell_type": "code",
   "execution_count": 64,
   "id": "3e5ac0a0",
   "metadata": {},
   "outputs": [
    {
     "data": {
      "text/plain": [
       "[1, 2, 3, 4, 5, 6, 7, 8]"
      ]
     },
     "execution_count": 64,
     "metadata": {},
     "output_type": "execute_result"
    }
   ],
   "source": [
    "### LAB 8 QUESTION#3\n",
    "\n",
    "### create function concat_lst\n",
    "### take 2 lists and concat them\n",
    "### loop should be used\n",
    "\n",
    "\n",
    "### here we create our function\n",
    "def concat_lst(list1,list2):\n",
    "    \n",
    "    ### since we cannot jsut add them and loop is required we traverse in list2\n",
    "    for i in list2:\n",
    "        \n",
    "        ### while traversing in list2 we keep appending elements of list1 in list2 thus concat them\n",
    "        list1.append(i)\n",
    "        \n",
    "    ### here we return our result\n",
    "    return list1\n",
    "\n",
    "concat_lst([1,2,3,4],[5,6,7,8])"
   ]
  },
  {
   "cell_type": "code",
   "execution_count": 24,
   "id": "49d47730",
   "metadata": {},
   "outputs": [
    {
     "data": {
      "text/plain": [
       "(('B', 'b'), ('C', 'c'), ('A', 'a'))"
      ]
     },
     "execution_count": 24,
     "metadata": {},
     "output_type": "execute_result"
    }
   ],
   "source": [
    "### LAB 8 QUESTION#4\n",
    "\n",
    "### create function string_case\n",
    "### get both upper case and lower case of each element in list\n",
    "### must contain only unique values\n",
    "\n",
    "### here we create our function\n",
    "def string_case(myList):\n",
    "    \n",
    "    ### since our result needs to be mapped and must return tuple of tuples so we apply this map function\n",
    "    ### here upperLower function is creating upper and lower for each element and set will only take the unqiue ones\n",
    "    res = tuple(set(map(upperLower,myList)))\n",
    "    \n",
    "    ### here we return our result\n",
    "    return res\n",
    "\n",
    "### this function is what to be mapped with the list\n",
    "def upperLower(n):\n",
    "    \n",
    "    ### here we are just taking upper and lower of each character\n",
    "    return n.upper(),n.lower()\n",
    "\n",
    "string_case(['a','b','c','c'])"
   ]
  },
  {
   "cell_type": "code",
   "execution_count": 30,
   "id": "1a03f8b8",
   "metadata": {},
   "outputs": [],
   "source": [
    "### LAB 8 QUESTION#5\n",
    "\n",
    "### here we import csv\n",
    "import csv\n",
    "\n",
    "### here we create a function to get unique cylinders\n",
    "def unique_cyl(w):\n",
    "    cylinders=[]\n",
    "    for i in w:\n",
    "        cylinders.append(i['cyl'])\n",
    "    return list(cylinders)\n"
   ]
  },
  {
   "cell_type": "code",
   "execution_count": 36,
   "id": "a215e703",
   "metadata": {},
   "outputs": [
    {
     "data": {
      "text/plain": [
       "{('4', 21.012345679012345),\n",
       " ('5', 20.5),\n",
       " ('6', 16.21518987341772),\n",
       " ('8', 12.571428571428571)}"
      ]
     },
     "execution_count": 36,
     "metadata": {},
     "output_type": "execute_result"
    }
   ],
   "source": [
    "def get_cty_mpg_avg():\n",
    "    \n",
    "    ### here we are calling the csv\n",
    "    with open('mpg.csv') as csv_file:\n",
    "        mpg=list(csv.DictReader(csv_file))\n",
    "    f=unique_cyl(mpg)\n",
    "    \n",
    "    ### we will store the new result here\n",
    "    result=[]\n",
    "    \n",
    "    ### we traverse list for unqiue cylinders\n",
    "    for c in f:\n",
    "        sum_val=0\n",
    "        count=0\n",
    "        \n",
    "        ### we traverse and check if cylinder is present in mpg\n",
    "        for i in mpg:\n",
    "            ### if it is, then cty will be added in sum and count will increase in order to find average\n",
    "            if i['cyl']==c:\n",
    "                \n",
    "                sum_val=sum_val+float(i['cty'])\n",
    "                count=count+1\n",
    "        ### here we append the unqiue cylinder and take average of cty and print it        \n",
    "        result.append((c,sum_val/count))\n",
    "        \n",
    "        ### here we sort the lsit that came \n",
    "        result.sort(key=lambda x:x[0])\n",
    "    \n",
    "    ### here we have our answer\n",
    "    return set(result)\n",
    "\n",
    "\n",
    "get_cty_mpg_avg()"
   ]
  },
  {
   "cell_type": "code",
   "execution_count": 37,
   "id": "7bedf59e",
   "metadata": {},
   "outputs": [],
   "source": [
    "### LAB 8 QUESTION#6\n",
    "\n",
    "import csv\n",
    "\n",
    "### here we create a function to get unique cylinders\n",
    "def unique_cyl(w):\n",
    "    cylinders=[]\n",
    "    for i in w:\n",
    "        cylinders.append(i['class'])\n",
    "    return list(cylinders)"
   ]
  },
  {
   "cell_type": "code",
   "execution_count": 38,
   "id": "8dc138f8",
   "metadata": {},
   "outputs": [
    {
     "data": {
      "text/plain": [
       "{('2seater', 24.8),\n",
       " ('compact', 28.29787234042553),\n",
       " ('midsize', 27.29268292682927),\n",
       " ('minivan', 22.363636363636363),\n",
       " ('pickup', 16.87878787878788),\n",
       " ('subcompact', 28.142857142857142),\n",
       " ('suv', 18.129032258064516)}"
      ]
     },
     "execution_count": 38,
     "metadata": {},
     "output_type": "execute_result"
    }
   ],
   "source": [
    "def get_cty_mpg_avg():\n",
    "    ### here we are calling the csv\n",
    "    with open('mpg.csv') as csv_file:\n",
    "        mpg=list(csv.DictReader(csv_file))\n",
    "    f=unique_cyl(mpg)\n",
    "    ### we will store the new result here\n",
    "    result=[]\n",
    "    \n",
    "    ### we traverse list for unqiue class\n",
    "    for c in f:\n",
    "        sum_val=0\n",
    "        count=0\n",
    "        \n",
    "        ### we traverse and check if class is present in mpg\n",
    "        for i in mpg:\n",
    "            ### if it is, then hwy will be added in sum and count will increase in order to find average\n",
    "            if i['class']==c:\n",
    "                sum_val=sum_val+float(i['hwy'])\n",
    "                count=count+1\n",
    "                \n",
    "        ### here we append the unqiue class and take average of hwy and print it\n",
    "        result.append((c,sum_val/count))\n",
    "        \n",
    "        ### here we sort the list that came\n",
    "        result.sort(key=lambda x:x[0])\n",
    "    \n",
    "    return set(result)\n",
    "\n",
    "\n",
    "get_cty_mpg_avg()"
   ]
  },
  {
   "cell_type": "code",
   "execution_count": 52,
   "id": "f87b0643",
   "metadata": {},
   "outputs": [
    {
     "data": {
      "text/plain": [
       "[2, 4]"
      ]
     },
     "execution_count": 52,
     "metadata": {},
     "output_type": "execute_result"
    }
   ],
   "source": [
    "### LAB 8 QUESTION#8\n",
    "\n",
    "### create function get_indicies\n",
    "### take a list and a target\n",
    "### if any two indexes that add up to equal the target show them\n",
    "\n",
    "### here we create our function\n",
    "def get_indicies(myList,target):\n",
    "    \n",
    "    ### here we traverse till the end of myList\n",
    "    for i in range(0,len(myList)):\n",
    "        \n",
    "        ### here we make it 2d array so that each index can be compared with all indexes to match result with target\n",
    "        for j in range(i+1,len(myList)):\n",
    "            \n",
    "            ### since i is 0 and j is 1 so we add them and if they equal to target we return their indexes. i and j increase\n",
    "            if myList[i]+myList[j] == target:\n",
    "                \n",
    "                ### here we return our indexes if coniditon is true\n",
    "                return [i,j]\n",
    "               \n",
    "    ### here we return our result            \n",
    "    return myList\n",
    "\n",
    "get_indicies([1,4,7,3,6],13)"
   ]
  },
  {
   "cell_type": "code",
   "execution_count": 66,
   "id": "1b52b6c1",
   "metadata": {},
   "outputs": [],
   "source": [
    "### LAB 8 QUESTION#7\n",
    "\n",
    "\n",
    "### we create class Student\n",
    "class Student(object):\n",
    "    \n",
    "    ### here we have taken over the control of new function. only students who are less then 18 years and from these \n",
    "    ### 4 cities can go to school\n",
    "    def __new__(cls,name,batch_no,address,age,father_name,city):\n",
    "        \n",
    "        if (age<=18) & (city=='Lahore' or city=='Karachi' or city == 'Islamabad' or city== 'Faisalabad'):\n",
    "            instance=object.__new__(cls)\n",
    "            return instance\n",
    "            \n",
    "    \n",
    "    def __init__(self,name,batch_no,address,age,father_name,city):\n",
    "        self.name=name\n",
    "        self.batch_no=batch_no\n",
    "        self.address=address\n",
    "        self.age=age\n",
    "        self.father_name=father_name\n",
    "        self.city=city\n",
    "        \n",
    "    def set_name(self,name):\n",
    "        self.name=name\n",
    "    \n",
    "    def set_batch_no(self,batch_no):\n",
    "        self.batch_no=batch_no\n",
    "        \n",
    "    def set_address(self,address):\n",
    "        self.address=address\n",
    "        \n",
    "    def set_age(self,age):\n",
    "        self.age=age\n",
    "        \n",
    "    def set_father_name(self,father_name):\n",
    "        self.father_name=father_name\n",
    "        \n",
    "    def set_city(self,city):\n",
    "        self.city=city\n",
    "        \n",
    "    def get_name(self):\n",
    "        return self.name\n",
    "    \n",
    "    def get_batch_no(self):\n",
    "        return self.batch_no\n",
    "    \n",
    "    def get_address(self):\n",
    "        return self.address\n",
    "    \n",
    "    def get_age(self):\n",
    "        return self.age\n",
    "    \n",
    "    def get_father_name(self):\n",
    "        return self.father_name\n",
    "    \n",
    "    def get_city(self):\n",
    "        return self.city\n",
    "    \n",
    "    \n",
    "class Devnation(Student):\n",
    "    \n",
    "    def __init__(self,name,batch_no,address,age,father_name,city,courses=[],marks=[]):\n",
    "        super().__init__(name,batch_no,address,age,father_name,city)\n",
    "        self.courses=courses\n",
    "        self.marks=marks\n",
    "        self.courses_score=[]\n",
    "        \n",
    "    def add_courses(self,courses):\n",
    "        \n",
    "        for i in courses:\n",
    "            if i not in self.courses:\n",
    "                self.courses.append(i)\n",
    "                \n",
    "    def add_courses_score(self,courses,courses_score):\n",
    "        \n",
    "        if courses in self.courses:\n",
    "            \n",
    "            if courses not in self.courses_score:\n",
    "                self.courses_score.append({'course':courses,'marks':courses_score})\n",
    "        \n",
    "        else:\n",
    "            print('course not found')\n",
    "            \n",
    "        \n",
    "                \n",
    "                \n",
    "    def get_courses(self):\n",
    "        return self.courses\n",
    "    \n",
    "    def get_marks(self):\n",
    "        return self.courses_score"
   ]
  },
  {
   "cell_type": "code",
   "execution_count": 67,
   "id": "24119174",
   "metadata": {},
   "outputs": [
    {
     "data": {
      "text/plain": [
       "[{'course': 'Java', 'marks': 30}]"
      ]
     },
     "execution_count": 67,
     "metadata": {},
     "output_type": "execute_result"
    }
   ],
   "source": [
    "obj1=Devnation('zaid',3,'johar town',17,'sultan','Lahore')\n",
    "obj1.add_courses(['Datascience','C++','Java'])\n",
    "obj1.get_courses()\n",
    "obj1.add_courses(['C++'])\n",
    "obj1.get_courses()\n",
    "obj1.add_courses(['Java'])\n",
    "obj1.get_courses()\n",
    "obj1.add_courses_score('Java',30)\n",
    "obj1.get_marks()\n",
    "\n"
   ]
  },
  {
   "cell_type": "code",
   "execution_count": 68,
   "id": "380f7a27",
   "metadata": {},
   "outputs": [
    {
     "data": {
      "text/plain": [
       "987326"
      ]
     },
     "execution_count": 68,
     "metadata": {},
     "output_type": "execute_result"
    }
   ],
   "source": [
    "### LAB 8 QUESTION#9\n",
    "\n",
    "### create function backward_number\n",
    "### take a number\n",
    "### print reverse of it\n",
    "\n",
    "\n",
    "### here we create our function\n",
    "def backward_number(number):\n",
    "    \n",
    "    ### let our number to explain this code is 12345\n",
    "    \n",
    "    ### here we need a varaible to store the result of backward number\n",
    "    reverse=0\n",
    "    \n",
    "    ### here we will loop over the number till our number becomes 0\n",
    "    while(number > 0):\n",
    "        ### here we take normal remainder of number as taking mod will return remainder\n",
    "        ### remainder = 12345 % 10\n",
    "        ### remainder = 5\n",
    "        remainder = number % 10\n",
    "        \n",
    "        ### here for reverse now we will use this formula to store the remainder and add it to reverse\n",
    "        ### since here reverse is 0 so reverse = 0*10 + 5\n",
    "        ### so reverse becomes 5\n",
    "        reverse= reverse*10 + remainder\n",
    "        \n",
    "        ### here we are dividing number by 10 so that our number gets reduced by 1 number\n",
    "        ### we use // so that our answer comes in integer. since our answer will come in float so we need this\n",
    "        number = number // 10\n",
    "    \n",
    "    ### here we return our backward number\n",
    "    return reverse\n",
    "backward_number(623789)"
   ]
  },
  {
   "cell_type": "code",
   "execution_count": 59,
   "id": "d240489d",
   "metadata": {},
   "outputs": [
    {
     "data": {
      "text/plain": [
       "[1, 3, 4, 5, 2, 6, 7]"
      ]
     },
     "execution_count": 59,
     "metadata": {},
     "output_type": "execute_result"
    }
   ],
   "source": [
    "### LAB 8 QUESTION#10\n",
    "\n",
    "### create function remove_duplication\n",
    "### it takes my list as parameter\n",
    "### we cannot use set function here\n",
    "### remove duplicates\n",
    "\n",
    "\n",
    "### here we create our function\n",
    "def remove_duplication(myList):\n",
    "    \n",
    "    ### since we cannot use set so we need to store the unique values in a new list so we make a newlist which is empty\n",
    "    newList =[]\n",
    "    \n",
    "    ### here we traverse in myList \n",
    "    for i in myList:\n",
    "        ### here we compare that if an element is not present in the newList then it will be appended to it\n",
    "        ### for example if we have 1 it will see if 1 exists in newList if yes then it will ignore it and if no then appened\n",
    "        if i not in newList:\n",
    "            newList.append(i)\n",
    "            \n",
    "    ### here we return our new list which has unique values        \n",
    "    return newList\n",
    "remove_duplication([1,3,4,5,3,2,1,5,6,7,3])"
   ]
  },
  {
   "cell_type": "code",
   "execution_count": null,
   "id": "84c03d72",
   "metadata": {},
   "outputs": [],
   "source": []
  }
 ],
 "metadata": {
  "kernelspec": {
   "display_name": "Python 3",
   "language": "python",
   "name": "python3"
  },
  "language_info": {
   "codemirror_mode": {
    "name": "ipython",
    "version": 3
   },
   "file_extension": ".py",
   "mimetype": "text/x-python",
   "name": "python",
   "nbconvert_exporter": "python",
   "pygments_lexer": "ipython3",
   "version": "3.8.8"
  }
 },
 "nbformat": 4,
 "nbformat_minor": 5
}
