{
 "cells": [
  {
   "cell_type": "code",
   "execution_count": 14,
   "id": "021cc4b2-665f-424f-82f9-da71e92709d5",
   "metadata": {},
   "outputs": [],
   "source": [
    "#creating class name Node\n",
    "class Node:\n",
    "    def __init__(self,data):\n",
    "        self.data = data\n",
    "        self.next = None\n",
    "        self.prev = None\n",
    "#Now created another class DoublyLinkedList\n",
    "class DoublyLinkedList:\n",
    "    def __init__(self):\n",
    "        self.head = None\n",
    "    #getting data on start\n",
    "    def Add_in_begginning(self,new_data):\n",
    "        new_node = Node(new_data)\n",
    "        new_node.next = self.head\n",
    "        if self.head is not None:\n",
    "            self.head.prev = new_node\n",
    "        self.head = new_node\n",
    "    \n",
    "    #Getting data for the particular point in Doubly Linked List\n",
    "    def Add_at_particular_position(self,new_data,Position_value):\n",
    "        new_node = Node(new_data)\n",
    "        if self.head == None :\n",
    "            self.Add_in_begginning(new_data)\n",
    "        else :\n",
    "            temp = self.head\n",
    "            count = 1\n",
    "            while (temp):\n",
    "                if Position_value == count:\n",
    "                    temp_node = temp.next\n",
    "                    new_node.next = temp_node\n",
    "                    temp_node.prev = new_node\n",
    "                    \n",
    "                    temp.next = new_node\n",
    "                    new_node.prev = temp\n",
    "    \n",
    "                count +=1\n",
    "                temp = temp.next\n",
    "\n",
    "    \n",
    "    #Getting data for the end point in linked list\n",
    "    def Add_at_the_end(self,new_data):\n",
    "        new_node = Node(new_data)\n",
    "        if self.head == None:\n",
    "            self.head = new_node\n",
    "            return\n",
    "        else:\n",
    "            temp = self.head\n",
    "            while(temp.next != None):\n",
    "                temp = temp.next            \n",
    "            temp.next = new_node\n",
    "            new_node.prev = temp\n",
    "            \n",
    "        \n",
    "    #Now printing the whole linked list    \n",
    "    def print_DoublyLinkedList(self):\n",
    "        temp = self.head\n",
    "        while (temp):\n",
    "            print(temp.data)\n",
    "            temp = temp.next\n",
    "        "
   ]
  },
  {
   "cell_type": "code",
   "execution_count": 15,
   "id": "eb42de90-1495-409f-af7b-e76953cd7ce1",
   "metadata": {},
   "outputs": [],
   "source": [
    "dll = DoublyLinkedList()"
   ]
  },
  {
   "cell_type": "code",
   "execution_count": 16,
   "id": "67f213e7-79bf-4345-b2dd-5a3ed189cdbe",
   "metadata": {},
   "outputs": [],
   "source": [
    "dll.Add_in_begginning(0)\n",
    "dll.Add_in_begginning(1)\n",
    "dll.Add_in_begginning(2)\n",
    "dll.Add_in_begginning(3)\n",
    "dll.Add_in_begginning(4)\n"
   ]
  },
  {
   "cell_type": "code",
   "execution_count": 17,
   "id": "a34f4505-14e5-483b-8276-d1197db7f98d",
   "metadata": {},
   "outputs": [
    {
     "name": "stdout",
     "output_type": "stream",
     "text": [
      "4\n",
      "3\n",
      "2\n",
      "1\n",
      "0\n"
     ]
    }
   ],
   "source": [
    "dll.print_DoublyLinkedList()"
   ]
  },
  {
   "cell_type": "code",
   "execution_count": 18,
   "id": "ad757e5e-b5e1-4cf5-92d6-7050a512212b",
   "metadata": {},
   "outputs": [],
   "source": [
    "dll.Add_at_particular_position(7,3)"
   ]
  },
  {
   "cell_type": "code",
   "execution_count": 19,
   "id": "b4546fd0-f225-4af1-8c41-76aa8c651546",
   "metadata": {},
   "outputs": [
    {
     "name": "stdout",
     "output_type": "stream",
     "text": [
      "4\n",
      "3\n",
      "2\n",
      "7\n",
      "1\n",
      "0\n"
     ]
    }
   ],
   "source": [
    "dll.print_DoublyLinkedList()"
   ]
  },
  {
   "cell_type": "code",
   "execution_count": 20,
   "id": "ae57dcaa-73dd-4ba5-bf20-52716bc224c8",
   "metadata": {},
   "outputs": [],
   "source": [
    "dll.Add_at_the_end(9)"
   ]
  },
  {
   "cell_type": "code",
   "execution_count": 21,
   "id": "70de798b-7f81-4404-b8c2-c7039b03e4d5",
   "metadata": {},
   "outputs": [
    {
     "name": "stdout",
     "output_type": "stream",
     "text": [
      "4\n",
      "3\n",
      "2\n",
      "7\n",
      "1\n",
      "0\n",
      "9\n"
     ]
    }
   ],
   "source": [
    "dll.print_DoublyLinkedList()"
   ]
  },
  {
   "cell_type": "code",
   "execution_count": null,
   "id": "aa116878-894f-4cac-b479-6b1f592144e4",
   "metadata": {},
   "outputs": [],
   "source": []
  }
 ],
 "metadata": {
  "kernelspec": {
   "display_name": "Python 3",
   "language": "python",
   "name": "python3"
  },
  "language_info": {
   "codemirror_mode": {
    "name": "ipython",
    "version": 3
   },
   "file_extension": ".py",
   "mimetype": "text/x-python",
   "name": "python",
   "nbconvert_exporter": "python",
   "pygments_lexer": "ipython3",
   "version": "3.8.8"
  }
 },
 "nbformat": 4,
 "nbformat_minor": 5
}
