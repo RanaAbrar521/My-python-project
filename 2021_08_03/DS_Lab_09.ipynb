{
 "cells": [
  {
   "cell_type": "markdown",
   "id": "26225edc-8e53-4504-97cd-06d111711b72",
   "metadata": {},
   "source": [
    "Q1. Create a class DoublyLinkedList\n",
    "1. Contains\n",
    "a. Data\n",
    "b. Next\n",
    "c. Prev\n",
    "2. Functions\n",
    "a. Add_in_begginning\n",
    "i. Receives New data\n",
    "ii. Add new Node in the start of the linked list\n",
    "b. Add_at_particular_position (Most Important)\n",
    "i. Add new data\n",
    "ii. Add Position value\n",
    "1. I.e if position value is 2 it means that add new node after 3rd\n",
    "node considering first node starts from 0th position\n",
    "\n",
    "c. Add_at_the_end\n",
    "i. Receives new data\n",
    "ii. Add new Node at the end of the linked list\n",
    "d. Print Entire LinkedList"
   ]
  },
  {
   "cell_type": "code",
   "execution_count": 1,
   "id": "1b081a64-a963-4a51-88cf-87a4577ae24d",
   "metadata": {
    "tags": []
   },
   "outputs": [],
   "source": [
    "# Creating Node\n",
    "class Node:\n",
    "    \n",
    "#     Initailizing Node\n",
    "    def __init__(self, data):\n",
    "        self.data = data\n",
    "        self.next = None\n",
    "        self.prev = None\n",
    "        \n",
    "\n",
    "# Creating Doubly Linked List\n",
    "class DoublyLinkedList:\n",
    "    \n",
    "#     Initializing the Head when none of the Nodes is created\n",
    "    def __init__(self):\n",
    "        self.head = None\n",
    "\n",
    "#    Adding in the beginning \n",
    "    def add_in_beginning(self, new_data):\n",
    "        new_node = Node(new_data)\n",
    "        new_node.next = self.head\n",
    "        if self.head is not None:\n",
    "            self.head.prev = new_node\n",
    "            print(\"Node Added Successfully\")\n",
    "\n",
    "        self.head = new_node\n",
    "\n",
    "#    Adding new node at a particular position\n",
    "    def add_at_particular_position(self, new_data, new_position):\n",
    "        new_node = Node(new_data)\n",
    "        \n",
    "        if self.head is None:\n",
    "            self.add_in_beginning(new_data)\n",
    "        else:\n",
    "            curr_node = self.head\n",
    "            curr_node_position = 0\n",
    "            while (curr_node_position != new_position):\n",
    "                if (curr_node):\n",
    "                    curr_node = curr_node.next\n",
    "                curr_node_position += 1\n",
    "\n",
    "            if (curr_node):\n",
    "                new_node.next = curr_node.next\n",
    "                new_node.prev = curr_node\n",
    "                curr_node.next = new_node\n",
    "                print(\"Node Added Successfully\")\n",
    "            else:\n",
    "                print(\"Can't Add Node at this position.\")\n",
    "\n",
    "\n",
    "#     Check if the Head is None / Null and at Node here if True\n",
    "#     Otherwise Traverse till we reach at the end of the list by checking where the Next part of Node is None / Null\n",
    "\n",
    "    def add_at_the_end(self, new_data):\n",
    "        new_node = Node(new_data)\n",
    "        if self.head == None:\n",
    "            self.head = new_node\n",
    "\n",
    "        else:\n",
    "            curr_node = self.head\n",
    "            while(curr_node.next is not None):\n",
    "                curr_node = curr_node.next\n",
    "            \n",
    "            curr_node.next = new_node\n",
    "            new_node.prev = curr_node\n",
    "            print(\"Node Added Successfully\")\n",
    "\n",
    "#     Traverse the List starting from Head and print Data part of each Node\n",
    "\n",
    "    def print_linked_list(self):\n",
    "        curr_node = self.head\n",
    "        while(curr_node):\n",
    "            print(curr_node.data)\n",
    "            curr_node = curr_node.next"
   ]
  },
  {
   "cell_type": "code",
   "execution_count": 2,
   "id": "ec8490ad-f210-412a-b0bc-895dc3f2c727",
   "metadata": {},
   "outputs": [],
   "source": [
    "list_1 = DoublyLinkedList()"
   ]
  },
  {
   "cell_type": "code",
   "execution_count": 3,
   "id": "c1f8f8f7-71d1-4906-9291-b5be77ea78b6",
   "metadata": {},
   "outputs": [],
   "source": [
    "list_1.print_linked_list()"
   ]
  },
  {
   "cell_type": "code",
   "execution_count": 4,
   "id": "f696b8d3-3863-415b-80cb-66f0636fc1bd",
   "metadata": {},
   "outputs": [
    {
     "name": "stdout",
     "output_type": "stream",
     "text": [
      "Node Added Successfully\n",
      "Node Added Successfully\n",
      "Node Added Successfully\n"
     ]
    }
   ],
   "source": [
    "list_1.add_in_beginning(1)\n",
    "list_1.add_in_beginning(2)\n",
    "list_1.add_in_beginning(3)\n",
    "list_1.add_in_beginning(4)"
   ]
  },
  {
   "cell_type": "code",
   "execution_count": 5,
   "id": "d36e03e3-c71d-4850-b411-e0e4f570a3d7",
   "metadata": {},
   "outputs": [
    {
     "name": "stdout",
     "output_type": "stream",
     "text": [
      "4\n",
      "3\n",
      "2\n",
      "1\n"
     ]
    }
   ],
   "source": [
    "list_1.print_linked_list()"
   ]
  },
  {
   "cell_type": "code",
   "execution_count": 6,
   "id": "82260596-ea13-44a7-9881-e20776645125",
   "metadata": {},
   "outputs": [
    {
     "name": "stdout",
     "output_type": "stream",
     "text": [
      "Node Added Successfully\n"
     ]
    }
   ],
   "source": [
    "list_1.add_at_the_end(9)"
   ]
  },
  {
   "cell_type": "code",
   "execution_count": 7,
   "id": "e8b83813-fd0a-49ff-a9a4-bcead40f02e1",
   "metadata": {},
   "outputs": [
    {
     "name": "stdout",
     "output_type": "stream",
     "text": [
      "4\n",
      "3\n",
      "2\n",
      "1\n",
      "9\n"
     ]
    }
   ],
   "source": [
    "list_1.print_linked_list()"
   ]
  },
  {
   "cell_type": "code",
   "execution_count": 8,
   "id": "c6a5d835-49b3-4619-8103-338838f68cad",
   "metadata": {},
   "outputs": [
    {
     "name": "stdout",
     "output_type": "stream",
     "text": [
      "Node Added Successfully\n"
     ]
    }
   ],
   "source": [
    "list_1.add_at_particular_position(302,2)"
   ]
  },
  {
   "cell_type": "code",
   "execution_count": 9,
   "id": "a1797164-a5c7-4c30-9f77-a5a521a5bfc0",
   "metadata": {},
   "outputs": [
    {
     "name": "stdout",
     "output_type": "stream",
     "text": [
      "4\n",
      "3\n",
      "2\n",
      "302\n",
      "1\n",
      "9\n"
     ]
    }
   ],
   "source": [
    "list_1.print_linked_list()"
   ]
  },
  {
   "cell_type": "code",
   "execution_count": null,
   "id": "c96abb33-ba29-49e7-8c5d-fb8b86794bf4",
   "metadata": {},
   "outputs": [],
   "source": []
  }
 ],
 "metadata": {
  "kernelspec": {
   "display_name": "Python 3 (ipykernel)",
   "language": "python",
   "name": "python3"
  },
  "language_info": {
   "codemirror_mode": {
    "name": "ipython",
    "version": 3
   },
   "file_extension": ".py",
   "mimetype": "text/x-python",
   "name": "python",
   "nbconvert_exporter": "python",
   "pygments_lexer": "ipython3",
   "version": "3.9.6"
  }
 },
 "nbformat": 4,
 "nbformat_minor": 5
}
