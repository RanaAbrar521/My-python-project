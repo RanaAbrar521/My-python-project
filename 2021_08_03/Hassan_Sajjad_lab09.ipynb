{
 "cells": [
  {
   "cell_type": "code",
   "execution_count": null,
   "id": "0cf9bedf",
   "metadata": {},
   "outputs": [],
   "source": [
    "#class = DoubleyLinkedlist\n",
    "\n",
    "#node= data,next,prev\n",
    "#functions = \n",
    "#add_in_begginning\n",
    "#add_at_particular_position\n",
    "#add_at_the_end\n",
    "\n",
    "#print entire LinkedList"
   ]
  },
  {
   "cell_type": "code",
   "execution_count": 60,
   "id": "dc3aa9b6",
   "metadata": {},
   "outputs": [],
   "source": [
    "class Node:\n",
    "    def __init__(self,data):\n",
    "        self.data = data\n",
    "        self.next = None\n",
    "        self.prev = None\n",
    "        \n",
    "class DoubleyLinkedlist:\n",
    "    def __init__(self):\n",
    "        self.head = None\n",
    "        \n",
    "    def add_in_begginning(self,new_data):\n",
    "        new_node = Node(new_data)\n",
    "        new_node.next = self.head\n",
    "        if self.head is not None:\n",
    "            self.head.prev = new_node\n",
    "        \n",
    "        self.head = new_node\n",
    "    \n",
    "    def add_at_particular_position(self,new_data,position):\n",
    "        new_node = Node(new_data)\n",
    "        if self.head == None:\n",
    "            self.add_in_begginning(new_data)\n",
    "        else:\n",
    "            temp = self.head        \n",
    "            count= 1\n",
    "            while(temp):\n",
    "                if position == count:\n",
    "                    temp_node = temp.next\n",
    "                    new_node.prev = temp\n",
    "                    new_node.next = temp_node\n",
    "                    temp.next = new_node\n",
    "                count = count+1\n",
    "                temp =temp.next\n",
    "    \n",
    "    \n",
    "    def add_at_the_end(self,new_data):\n",
    "        new_node = Node(new_data)\n",
    "        if(self.head == None):\n",
    "            self.head = new_node\n",
    "        \n",
    "        temp = self.head\n",
    "        while(temp.next):\n",
    "            temp = temp.next\n",
    "        \n",
    "        temp.next = new_node\n",
    "        new_node.prev = temp\n",
    "        \n",
    "    \n",
    "        \n",
    "    def print_Linkedlist(self):\n",
    "        l1 = self.head\n",
    "        while(l1):\n",
    "            print(l1.data)\n",
    "            l1=l1.next"
   ]
  },
  {
   "cell_type": "code",
   "execution_count": 61,
   "id": "b0dad0aa",
   "metadata": {},
   "outputs": [],
   "source": [
    "obj = DoubleyLinkedlist()"
   ]
  },
  {
   "cell_type": "code",
   "execution_count": 62,
   "id": "8ab1b1ee",
   "metadata": {},
   "outputs": [],
   "source": [
    "obj.add_in_begginning(2)\n",
    "obj.add_in_begginning(3)"
   ]
  },
  {
   "cell_type": "code",
   "execution_count": 63,
   "id": "3a0bb807",
   "metadata": {},
   "outputs": [
    {
     "name": "stdout",
     "output_type": "stream",
     "text": [
      "3\n",
      "2\n"
     ]
    }
   ],
   "source": [
    "obj.print_Linkedlist()"
   ]
  },
  {
   "cell_type": "code",
   "execution_count": 64,
   "id": "c18198d5",
   "metadata": {},
   "outputs": [],
   "source": [
    "obj.add_at_the_end(3)"
   ]
  },
  {
   "cell_type": "code",
   "execution_count": 65,
   "id": "1956fed9",
   "metadata": {},
   "outputs": [
    {
     "name": "stdout",
     "output_type": "stream",
     "text": [
      "3\n",
      "2\n",
      "3\n"
     ]
    }
   ],
   "source": [
    "obj.print_Linkedlist()"
   ]
  },
  {
   "cell_type": "code",
   "execution_count": 66,
   "id": "2310fa90",
   "metadata": {},
   "outputs": [],
   "source": [
    "obj.add_at_particular_position(2,3)"
   ]
  },
  {
   "cell_type": "code",
   "execution_count": 67,
   "id": "7bb0ff5c",
   "metadata": {},
   "outputs": [
    {
     "name": "stdout",
     "output_type": "stream",
     "text": [
      "3\n",
      "2\n",
      "3\n",
      "2\n"
     ]
    }
   ],
   "source": [
    "obj.print_Linkedlist()"
   ]
  },
  {
   "cell_type": "code",
   "execution_count": null,
   "id": "ebfb531a",
   "metadata": {},
   "outputs": [],
   "source": []
  },
  {
   "cell_type": "code",
   "execution_count": null,
   "id": "7ecf4672",
   "metadata": {},
   "outputs": [],
   "source": []
  }
 ],
 "metadata": {
  "kernelspec": {
   "display_name": "Python 3 (ipykernel)",
   "language": "python",
   "name": "python3"
  },
  "language_info": {
   "codemirror_mode": {
    "name": "ipython",
    "version": 3
   },
   "file_extension": ".py",
   "mimetype": "text/x-python",
   "name": "python",
   "nbconvert_exporter": "python",
   "pygments_lexer": "ipython3",
   "version": "3.7.10"
  }
 },
 "nbformat": 4,
 "nbformat_minor": 5
}
