{
 "cells": [
  {
   "cell_type": "code",
   "execution_count": 117,
   "id": "acc1a851",
   "metadata": {},
   "outputs": [],
   "source": [
    "### Doubly Linked List\n",
    "\n",
    "class Node:\n",
    "    \n",
    "    def __init__(self,data):\n",
    "        self.data=data\n",
    "        self.next=None\n",
    "        self.prev=None\n",
    "        \n",
    "\n",
    "class DoublyLinkedList:\n",
    "    \n",
    "    def __init__(self):\n",
    "        self.head=None\n",
    "        \n",
    "    def add_node_beginning(self,new_data):\n",
    "        new_node = Node(new_data)\n",
    "        new_node.next = self.head\n",
    "        \n",
    "        if self.head is not None:\n",
    "            self.head.prev=new_node\n",
    "        \n",
    "        self.head=new_node\n",
    "        \n",
    "    def add_node_in_particular_position(self,new_data,position):\n",
    "        new_node=Node(new_data)\n",
    "        if self.head == None:\n",
    "            self.add_node_beginning(new_data)\n",
    "            \n",
    "        else:\n",
    "            temp=self.head\n",
    "            count=1\n",
    "            while(temp):\n",
    "                if position == count:\n",
    "                    temp_node=temp.next\n",
    "                    new_node.next=temp_node\n",
    "                    temp_node.prev=new_node\n",
    "                    temp.next=new_node\n",
    "                    new_node.prev=temp\n",
    "                count+=1\n",
    "                temp=temp.next\n",
    "                \n",
    "            \n",
    "        \n",
    "    def add_node_end(self,new_data):\n",
    "        new_node = Node(new_data)\n",
    "        \n",
    "        if(self.head == None):\n",
    "            self.head=new_node\n",
    "         \n",
    "        temp= self.head\n",
    "        while(temp.next):\n",
    "            temp=temp.next\n",
    "           \n",
    "        temp.next=new_node\n",
    "        new_node.prev=temp\n",
    "        \n",
    "    def print_doubly_linked_list(self):\n",
    "        temp=self.head\n",
    "        while(temp):\n",
    "            print(temp.data)\n",
    "            temp=temp.next"
   ]
  },
  {
   "cell_type": "code",
   "execution_count": 118,
   "id": "ff24cd26",
   "metadata": {},
   "outputs": [],
   "source": [
    "obj5=DoublyLinkedList()"
   ]
  },
  {
   "cell_type": "code",
   "execution_count": 119,
   "id": "664dea91",
   "metadata": {},
   "outputs": [],
   "source": [
    "obj5.add_node_beginning(1)\n"
   ]
  },
  {
   "cell_type": "code",
   "execution_count": 120,
   "id": "7e5da55e",
   "metadata": {},
   "outputs": [],
   "source": [
    "obj5.add_node_beginning(2)\n"
   ]
  },
  {
   "cell_type": "code",
   "execution_count": 121,
   "id": "6699b9fa",
   "metadata": {},
   "outputs": [],
   "source": [
    "obj5.add_node_beginning(3)\n"
   ]
  },
  {
   "cell_type": "code",
   "execution_count": 122,
   "id": "5156082a",
   "metadata": {},
   "outputs": [],
   "source": [
    "obj5.add_node_end(7)\n"
   ]
  },
  {
   "cell_type": "code",
   "execution_count": 123,
   "id": "476a717b",
   "metadata": {},
   "outputs": [],
   "source": [
    "obj5.add_node_end(8)\n"
   ]
  },
  {
   "cell_type": "code",
   "execution_count": 124,
   "id": "909715b2",
   "metadata": {},
   "outputs": [],
   "source": [
    "obj5.add_node_end(9)\n"
   ]
  },
  {
   "cell_type": "code",
   "execution_count": 125,
   "id": "9403360e",
   "metadata": {},
   "outputs": [],
   "source": [
    "obj5.add_node_in_particular_position(4,3)"
   ]
  },
  {
   "cell_type": "code",
   "execution_count": 126,
   "id": "e4d55271",
   "metadata": {},
   "outputs": [
    {
     "name": "stdout",
     "output_type": "stream",
     "text": [
      "3\n",
      "2\n",
      "1\n",
      "4\n",
      "7\n",
      "8\n",
      "9\n"
     ]
    }
   ],
   "source": [
    "obj5.print_doubly_linked_list()"
   ]
  },
  {
   "cell_type": "code",
   "execution_count": null,
   "id": "509940d9",
   "metadata": {},
   "outputs": [],
   "source": []
  }
 ],
 "metadata": {
  "kernelspec": {
   "display_name": "Python 3",
   "language": "python",
   "name": "python3"
  },
  "language_info": {
   "codemirror_mode": {
    "name": "ipython",
    "version": 3
   },
   "file_extension": ".py",
   "mimetype": "text/x-python",
   "name": "python",
   "nbconvert_exporter": "python",
   "pygments_lexer": "ipython3",
   "version": "3.8.8"
  }
 },
 "nbformat": 4,
 "nbformat_minor": 5
}
