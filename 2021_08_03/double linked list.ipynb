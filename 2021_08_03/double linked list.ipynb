{
 "cells": [
  {
   "cell_type": "code",
   "execution_count": 110,
   "id": "0c78f5f0",
   "metadata": {},
   "outputs": [],
   "source": [
    "class Node:\n",
    "    def __init__(self, data):\n",
    "        self.data = data\n",
    "        self.next = None\n",
    "        self.prev = None    \n",
    "class DoublyLinkedList:\n",
    "    def __init__(self):\n",
    "        self.head = None\n",
    "        \n",
    "\n",
    "    def add_in_begginning(self, new_data):\n",
    "        new_node = Node(new_data)\n",
    "\n",
    "        new_node.next = self.head\n",
    "        if self.head is not None:\n",
    "            self.head.prev = new_node\n",
    "        self.head = new_node\n",
    "    \n",
    "        new_node.prev = None\n",
    "        \n",
    "    def add_at_particular_position(self,new_data,position):\n",
    "        new_node = Node(new_data)\n",
    "        \n",
    "        if self.head == None:\n",
    "            self.head = new_data\n",
    "        else:\n",
    "            p = None\n",
    "            temp = self.head\n",
    "            counter = 1\n",
    "            while(temp):\n",
    "                if position == counter:\n",
    "                    p = temp\n",
    "                    new_node.next = p.next\n",
    "                    p.next = new_node\n",
    "                    return new_node\n",
    "                    temp.prev = new_node.next\n",
    "                counter += 1\n",
    "                temp = temp.next\n",
    "\n",
    "            \n",
    "        \n",
    "    def add_at_the_end(self,new_data):\n",
    "        if self.head == None:\n",
    "            self.head = new_data\n",
    "        else:\n",
    "            new_node = Node(data = new_data)\n",
    "            temp = self.head \n",
    "            self.head.prev = new_node\n",
    "            self.head = new_node\n",
    "                   \n",
    "        \n",
    "    def Print_Entire_LinkedList(self):\n",
    "        temp = self.head\n",
    "        while (temp):           \n",
    "            print(temp.data)            \n",
    "            temp = temp.next"
   ]
  },
  {
   "cell_type": "code",
   "execution_count": 111,
   "id": "43751fa5",
   "metadata": {},
   "outputs": [],
   "source": [
    "x = DoublyLinkedList()\n"
   ]
  },
  {
   "cell_type": "code",
   "execution_count": 112,
   "id": "65abd7f4",
   "metadata": {},
   "outputs": [],
   "source": [
    "x.add_in_begginning(3)\n",
    "x.add_in_begginning(4)\n",
    "x.add_in_begginning(5)\n",
    "x.add_in_begginning(6)\n",
    "x.add_in_begginning(7)"
   ]
  },
  {
   "cell_type": "code",
   "execution_count": null,
   "id": "ceff04f8",
   "metadata": {},
   "outputs": [],
   "source": []
  },
  {
   "cell_type": "code",
   "execution_count": 113,
   "id": "897ab3d9",
   "metadata": {},
   "outputs": [
    {
     "name": "stdout",
     "output_type": "stream",
     "text": [
      "7\n",
      "6\n",
      "5\n",
      "4\n",
      "3\n"
     ]
    }
   ],
   "source": [
    "x.Print_Entire_LinkedList()"
   ]
  },
  {
   "cell_type": "code",
   "execution_count": 114,
   "id": "e5c8d2ce",
   "metadata": {},
   "outputs": [
    {
     "data": {
      "text/plain": [
       "<__main__.Node at 0x1ab91d77d90>"
      ]
     },
     "execution_count": 114,
     "metadata": {},
     "output_type": "execute_result"
    }
   ],
   "source": [
    "x.add_at_particular_position(9,2)"
   ]
  },
  {
   "cell_type": "code",
   "execution_count": 115,
   "id": "4cce6018",
   "metadata": {},
   "outputs": [
    {
     "name": "stdout",
     "output_type": "stream",
     "text": [
      "7\n",
      "6\n",
      "9\n",
      "5\n",
      "4\n",
      "3\n"
     ]
    }
   ],
   "source": [
    "x.Print_Entire_LinkedList()"
   ]
  },
  {
   "cell_type": "code",
   "execution_count": null,
   "id": "9effca54",
   "metadata": {},
   "outputs": [],
   "source": []
  }
 ],
 "metadata": {
  "kernelspec": {
   "display_name": "Python 3",
   "language": "python",
   "name": "python3"
  },
  "language_info": {
   "codemirror_mode": {
    "name": "ipython",
    "version": 3
   },
   "file_extension": ".py",
   "mimetype": "text/x-python",
   "name": "python",
   "nbconvert_exporter": "python",
   "pygments_lexer": "ipython3",
   "version": "3.8.8"
  }
 },
 "nbformat": 4,
 "nbformat_minor": 5
}
