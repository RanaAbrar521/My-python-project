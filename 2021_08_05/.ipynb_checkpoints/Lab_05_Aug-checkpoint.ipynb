{
 "cells": [
  {
   "cell_type": "code",
   "execution_count": 77,
   "id": "a6a1b1db-0f21-4f94-9514-bd6bd67fdab9",
   "metadata": {},
   "outputs": [],
   "source": [
    "#creating class name Node\n",
    "class Node:\n",
    "    def __init__(self,data):\n",
    "        self.data = data\n",
    "        self.next = None\n",
    "\n",
    "#Now created another class CircularLinkedList\n",
    "class CircularLinkedList:\n",
    "    def __init__(self):\n",
    "        self.head = None\n",
    "        \n",
    "    #getting data on start\n",
    "    def add_in_begginning(self,new_data):\n",
    "        new_node = Node(new_data)\n",
    "        temp = self.head\n",
    "        new_node.next = self.head\n",
    "        \n",
    "        if self.head is None :\n",
    "            new_node.next= new_node\n",
    "            self.head = new_node\n",
    "\n",
    "        else:\n",
    "            while (temp.next != self.head):\n",
    "                temp = temp.next\n",
    "            temp.next = new_node\n",
    "\n",
    "\n",
    "            \n",
    "    \n",
    "    #Getting data for the particular point in Circular Linked List\n",
    "    def add_at_particular_position(self,new_data,Position_value):\n",
    "        new_node = Node(new_data)\n",
    "        if self.head is None :\n",
    "            self.head = new_node\n",
    "            new_node.next = self.head\n",
    "            \n",
    "        else :\n",
    "            temp = self.head\n",
    "            count = 1\n",
    "            while (temp):\n",
    "                if Position_value == count:\n",
    "                    temp_node = temp.next\n",
    "                    new_node.next = temp_node          \n",
    "                    temp.next = new_node\n",
    "                    break\n",
    "    \n",
    "                temp = temp.next\n",
    "                count +=1\n",
    "        \n",
    "    \n",
    "    #Getting data for the end point in linked list\n",
    "    def add_at_the_end(self,new_data):\n",
    "        new_node = Node(new_data)\n",
    "        if self.head == None:\n",
    "            self.head = new_node\n",
    "            new_node.next = self.head\n",
    "            return\n",
    "        else:\n",
    "            temp = self.head\n",
    "            while(temp.next != None):\n",
    "                temp = temp.next            \n",
    "            temp.next = new_node\n",
    "            \n",
    "        \n",
    "    #Now printing the whole linked list    \n",
    "    def print_CircularLinkedList(self):\n",
    "        temp = self.head\n",
    "        if self.head is not None:\n",
    "            while (True):\n",
    "                print(temp.data)\n",
    "                temp = temp.next\n",
    "                if  temp == self.head:\n",
    "                    break\n",
    "        "
   ]
  },
  {
   "cell_type": "code",
   "execution_count": 78,
   "id": "d0e5740a-4405-424e-a8c6-716bd5ceef0a",
   "metadata": {},
   "outputs": [],
   "source": [
    "cll = CircularLinkedList()"
   ]
  },
  {
   "cell_type": "code",
   "execution_count": 79,
   "id": "57c24ae1-4f33-4a88-ad9a-368d1a312573",
   "metadata": {},
   "outputs": [],
   "source": [
    "cll.add_in_begginning(0)\n",
    "cll.add_in_begginning(1)\n",
    "cll.add_in_begginning(2)\n",
    "cll.add_in_begginning(3)\n",
    "cll.add_in_begginning(4)"
   ]
  },
  {
   "cell_type": "code",
   "execution_count": 80,
   "id": "7324638f-75a5-48a2-84b1-29474aa5b54c",
   "metadata": {},
   "outputs": [
    {
     "name": "stdout",
     "output_type": "stream",
     "text": [
      "0\n",
      "1\n",
      "2\n",
      "3\n",
      "4\n"
     ]
    }
   ],
   "source": [
    "cll.print_CircularLinkedList()"
   ]
  },
  {
   "cell_type": "code",
   "execution_count": 81,
   "id": "15a959c9-9d57-4a2a-a07a-73aa3a60b0e7",
   "metadata": {},
   "outputs": [],
   "source": [
    "cll.add_at_particular_position(68,1)\n",
    "cll.add_at_particular_position(53,2)"
   ]
  },
  {
   "cell_type": "code",
   "execution_count": 82,
   "id": "c61524f2-321c-43be-8222-0bbce964cb3e",
   "metadata": {},
   "outputs": [
    {
     "name": "stdout",
     "output_type": "stream",
     "text": [
      "0\n",
      "68\n",
      "53\n",
      "1\n",
      "2\n",
      "3\n",
      "4\n"
     ]
    }
   ],
   "source": [
    "cll.print_CircularLinkedList()"
   ]
  },
  {
   "cell_type": "code",
   "execution_count": null,
   "id": "20e10ded-437d-4fd9-90e4-f5d39169bec2",
   "metadata": {},
   "outputs": [],
   "source": []
  },
  {
   "cell_type": "code",
   "execution_count": null,
   "id": "d8107817-e35b-4a14-b9dd-b6b940cbb94c",
   "metadata": {},
   "outputs": [],
   "source": []
  }
 ],
 "metadata": {
  "kernelspec": {
   "display_name": "Python 3",
   "language": "python",
   "name": "python3"
  },
  "language_info": {
   "codemirror_mode": {
    "name": "ipython",
    "version": 3
   },
   "file_extension": ".py",
   "mimetype": "text/x-python",
   "name": "python",
   "nbconvert_exporter": "python",
   "pygments_lexer": "ipython3",
   "version": "3.7.10"
  }
 },
 "nbformat": 4,
 "nbformat_minor": 5
}
