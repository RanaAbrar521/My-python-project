{
 "cells": [
  {
   "cell_type": "markdown",
   "id": "b90ebec2-3737-4945-90a8-2f1fca8c06ed",
   "metadata": {},
   "source": [
    "Q1. Create a class singly CircularLinkedList\n",
    "1. Contains\n",
    "a. Data\n",
    "b. Next\n",
    "2. Functions\n",
    "a. Add_in_begginning (Most Important)\n",
    "i. Receives New data\n",
    "ii. Add new Node in the start of the linked list\n",
    "b. Add_at_particular_position\n",
    "i. Add new data\n",
    "ii. Add Position value\n",
    "1. I.e if position value is 2 it means that add new node after 3rd\n",
    "node considering first node starts from 1\n",
    "th position\n",
    "\n",
    "c. Add_at_the_end\n",
    "i. Receives new data\n",
    "ii. Add new Node at the end of the linked list\n",
    "d. Print Entire LinkedList"
   ]
  },
  {
   "cell_type": "code",
   "execution_count": 1,
   "id": "7e15c4c2-c35b-41a9-90b1-33b074c2b2b2",
   "metadata": {},
   "outputs": [],
   "source": [
    "# Creating Node\n",
    "class Node:\n",
    "    \n",
    "#     Initailizing Node\n",
    "    def __init__(self, data):\n",
    "        self.data = data\n",
    "        self.next = None\n",
    "        \n",
    "\n",
    "# Creating Circular Linked List\n",
    "class CircularLinkedList:\n",
    "    \n",
    "#     Initializing the Head when none of the Nodes is created\n",
    "    def __init__(self):\n",
    "        self.head = None\n",
    "        \n",
    "    \n",
    "    def check_empty(self, new_node):\n",
    "        self.head = new_node\n",
    "        new_node.next = self.head\n",
    "        print(\"Node Added Successfully in the empty list\")\n",
    "            \n",
    "        \n",
    "    def add_in_beginning(self, new_data):\n",
    "        new_node = Node(new_data)\n",
    "        \n",
    "        if self.head is None:\n",
    "            self.check_empty(new_node)\n",
    "        else:\n",
    "            curr_node = self.head\n",
    "            while(curr_node.next != self.head):\n",
    "                curr_node = curr_node.next\n",
    "            \n",
    "            curr_node.next = new_node\n",
    "            new_node.next = self.head\n",
    "            self.head = new_node\n",
    "            print(\"Node Added Successfully in the existing list\")\n",
    "    \n",
    "    \n",
    "    def add_at_particular_position(self, new_data, new_position):\n",
    "        new_node = Node(new_data)\n",
    "        \n",
    "        if self.head is None:\n",
    "            self.check_Empty(new_node)\n",
    "        else:\n",
    "            temp = self.head\n",
    "            curr_position = 1\n",
    "            while (temp):\n",
    "                if (curr_position == new_position):\n",
    "                    temp_node = temp.next\n",
    "                    new_node.next = temp_node\n",
    "                    temp.next = new_node\n",
    "                    print(\"Node Added Successfully in the existing list\")\n",
    "                    break\n",
    "                temp = temp.next\n",
    "                curr_position += 1\n",
    "\n",
    "\n",
    "    def add_at_the_end(self, new_data):\n",
    "        new_node = Node(new_data)\n",
    "        \n",
    "        if self.head is None:\n",
    "            self.check_Empty(new_node)\n",
    "\n",
    "        else:\n",
    "            curr_node = self.head\n",
    "            while(curr_node.next != self.head):\n",
    "                curr_node = curr_node.next\n",
    "            \n",
    "            curr_node.next = new_node\n",
    "            new_node.next = self.head\n",
    "            print(\"Node Added Successfully in the existing list\")\n",
    "\n",
    "#     Traverse the List starting from Head and print Data part of each Node\n",
    "\n",
    "    def print_linked_list(self):\n",
    "        curr_node = self.head\n",
    "        if self.head is not None:\n",
    "            while(True):\n",
    "                print(curr_node.data)\n",
    "                curr_node = curr_node.next\n",
    "                if curr_node == self.head:\n",
    "                    break"
   ]
  },
  {
   "cell_type": "code",
   "execution_count": 2,
   "id": "239b1ce9-b91f-4aec-91aa-a2efdd46572a",
   "metadata": {},
   "outputs": [],
   "source": [
    "list_1 = CircularLinkedList()"
   ]
  },
  {
   "cell_type": "code",
   "execution_count": 3,
   "id": "8bfa2113-db16-4df4-ba57-5ea9271bb5bf",
   "metadata": {},
   "outputs": [],
   "source": [
    "list_1.print_linked_list()"
   ]
  },
  {
   "cell_type": "code",
   "execution_count": 4,
   "id": "5683caf7-b35e-4712-b0da-04a8bf2978a3",
   "metadata": {},
   "outputs": [
    {
     "name": "stdout",
     "output_type": "stream",
     "text": [
      "Node Added Successfully in the empty list\n",
      "Node Added Successfully in the existing list\n",
      "Node Added Successfully in the existing list\n",
      "Node Added Successfully in the existing list\n"
     ]
    }
   ],
   "source": [
    "list_1.add_in_beginning(1)\n",
    "list_1.add_in_beginning(2)\n",
    "list_1.add_in_beginning(3)\n",
    "list_1.add_in_beginning(4)"
   ]
  },
  {
   "cell_type": "code",
   "execution_count": 5,
   "id": "b0c03662-2a7a-46d6-97c1-6e2e33daa7fb",
   "metadata": {},
   "outputs": [
    {
     "name": "stdout",
     "output_type": "stream",
     "text": [
      "4\n",
      "3\n",
      "2\n",
      "1\n"
     ]
    }
   ],
   "source": [
    "list_1.print_linked_list()"
   ]
  },
  {
   "cell_type": "code",
   "execution_count": 6,
   "id": "34bf556a-ce9b-49ff-b937-b9040c1ab8fe",
   "metadata": {},
   "outputs": [
    {
     "name": "stdout",
     "output_type": "stream",
     "text": [
      "Node Added Successfully in the existing list\n",
      "Node Added Successfully in the existing list\n",
      "Node Added Successfully in the existing list\n",
      "Node Added Successfully in the existing list\n"
     ]
    }
   ],
   "source": [
    "list_1.add_at_the_end(5)\n",
    "list_1.add_at_the_end(6)\n",
    "list_1.add_at_the_end(7)\n",
    "list_1.add_at_the_end(8)"
   ]
  },
  {
   "cell_type": "code",
   "execution_count": 7,
   "id": "2f43f535-b919-46af-b77f-c39438965788",
   "metadata": {},
   "outputs": [
    {
     "name": "stdout",
     "output_type": "stream",
     "text": [
      "4\n",
      "3\n",
      "2\n",
      "1\n",
      "5\n",
      "6\n",
      "7\n",
      "8\n"
     ]
    }
   ],
   "source": [
    "list_1.print_linked_list()"
   ]
  },
  {
   "cell_type": "code",
   "execution_count": 8,
   "id": "687abf82-174f-447b-9588-09fe182915cc",
   "metadata": {},
   "outputs": [
    {
     "name": "stdout",
     "output_type": "stream",
     "text": [
      "Node Added Successfully in the existing list\n"
     ]
    }
   ],
   "source": [
    "list_1.add_at_particular_position(30,1)"
   ]
  },
  {
   "cell_type": "code",
   "execution_count": 9,
   "id": "a863a9db-aa9c-4eb1-ac58-9f7c50901e1c",
   "metadata": {},
   "outputs": [
    {
     "name": "stdout",
     "output_type": "stream",
     "text": [
      "4\n",
      "30\n",
      "3\n",
      "2\n",
      "1\n",
      "5\n",
      "6\n",
      "7\n",
      "8\n"
     ]
    }
   ],
   "source": [
    "list_1.print_linked_list()"
   ]
  },
  {
   "cell_type": "code",
   "execution_count": 10,
   "id": "8ce10c3c-d6ec-48eb-a495-5f7e033b873e",
   "metadata": {},
   "outputs": [
    {
     "name": "stdout",
     "output_type": "stream",
     "text": [
      "Node Added Successfully in the existing list\n"
     ]
    }
   ],
   "source": [
    "list_1.add_at_particular_position(10,2)"
   ]
  },
  {
   "cell_type": "code",
   "execution_count": 11,
   "id": "e27290b1-8abb-4dc2-8258-dbf287a10b68",
   "metadata": {},
   "outputs": [
    {
     "name": "stdout",
     "output_type": "stream",
     "text": [
      "4\n",
      "30\n",
      "10\n",
      "3\n",
      "2\n",
      "1\n",
      "5\n",
      "6\n",
      "7\n",
      "8\n"
     ]
    }
   ],
   "source": [
    "list_1.print_linked_list()"
   ]
  },
  {
   "cell_type": "code",
   "execution_count": 12,
   "id": "657ced5a-17d1-43bf-ae71-52d57e841dba",
   "metadata": {},
   "outputs": [
    {
     "name": "stdout",
     "output_type": "stream",
     "text": [
      "Node Added Successfully in the existing list\n"
     ]
    }
   ],
   "source": [
    "list_1.add_at_particular_position(1990,6)"
   ]
  },
  {
   "cell_type": "code",
   "execution_count": 13,
   "id": "67643969-1252-450e-b6f5-ed7805c32ee9",
   "metadata": {},
   "outputs": [
    {
     "name": "stdout",
     "output_type": "stream",
     "text": [
      "4\n",
      "30\n",
      "10\n",
      "3\n",
      "2\n",
      "1\n",
      "1990\n",
      "5\n",
      "6\n",
      "7\n",
      "8\n"
     ]
    }
   ],
   "source": [
    "list_1.print_linked_list()"
   ]
  },
  {
   "cell_type": "code",
   "execution_count": null,
   "id": "cc7bc1ea-bdf7-4e22-9cd8-8c406fe42da6",
   "metadata": {},
   "outputs": [],
   "source": []
  }
 ],
 "metadata": {
  "kernelspec": {
   "display_name": "Python 3 (ipykernel)",
   "language": "python",
   "name": "python3"
  },
  "language_info": {
   "codemirror_mode": {
    "name": "ipython",
    "version": 3
   },
   "file_extension": ".py",
   "mimetype": "text/x-python",
   "name": "python",
   "nbconvert_exporter": "python",
   "pygments_lexer": "ipython3",
   "version": "3.9.6"
  }
 },
 "nbformat": 4,
 "nbformat_minor": 5
}
