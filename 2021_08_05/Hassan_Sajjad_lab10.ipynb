{
 "cells": [
  {
   "cell_type": "code",
   "execution_count": null,
   "id": "cecf8828",
   "metadata": {},
   "outputs": [],
   "source": [
    "#class = CircularLinkedlist\n",
    "\n",
    "#node= data,next\n",
    "#functions = \n",
    "#add_in_begginning\n",
    "#add_at_particular_position\n",
    "#add_at_the_end\n",
    "\n",
    "#print entire LinkedList"
   ]
  },
  {
   "cell_type": "code",
   "execution_count": 93,
   "id": "3f3db9c4",
   "metadata": {},
   "outputs": [],
   "source": [
    "class Node:\n",
    "    def __init__(self,data):\n",
    "        self.data = data \n",
    "        self.next = None\n",
    "        \n",
    "class CircularLinkedlist:\n",
    "    def __init__(self):\n",
    "        self.head = None\n",
    "    \n",
    "    def add_in_begginning(self,new_data):\n",
    "        new_node = Node(new_data)\n",
    "        new_node.next = self.head\n",
    "        temp = self.head\n",
    "        if(self.head is not None):\n",
    "            while(temp.next != self.head):\n",
    "                temp=temp.next\n",
    "                \n",
    "            temp.next=new_node\n",
    "        \n",
    "        else:\n",
    "            new_node.next = new_node\n",
    "    \n",
    "    def add_at_particular_position(self,new_data,position):\n",
    "        new_node = Node(new_data)\n",
    "        if self.head is None:\n",
    "            self.head = new_node\n",
    "            self.next = new_node\n",
    "        else:\n",
    "            temp = self.head\n",
    "            count = 1\n",
    "            while(temp):\n",
    "                if position == count:\n",
    "                    temp_node = temp.next\n",
    "                    new_node.next = temp_node\n",
    "                    temp.next = new_node\n",
    "                    break\n",
    "                temp = temp.next\n",
    "                count += 1\n",
    "                \n",
    "    def add_at_the_end(self,new_data):\n",
    "        new_node = Node(new_data)\n",
    "        temp = self.head\n",
    "        while(temp):\n",
    "            if temp.next == self.head:\n",
    "                temp.next = new_node\n",
    "                new_node.next = self.head\n",
    "                break\n",
    "            temp = temp.next\n",
    "    \n",
    "    def print_CircularLinkedlist(self):\n",
    "        l1 = self.head\n",
    "        if self.head is  None:\n",
    "            while(True):\n",
    "                print(l1.data)\n",
    "                l1=l1.next\n",
    "                if l1==self.head:\n",
    "                    break\n",
    "            "
   ]
  },
  {
   "cell_type": "code",
   "execution_count": 102,
   "id": "73ca7138",
   "metadata": {},
   "outputs": [],
   "source": [
    "obj = CircularLinkedlist()"
   ]
  },
  {
   "cell_type": "code",
   "execution_count": 103,
   "id": "16b3290a",
   "metadata": {},
   "outputs": [],
   "source": [
    "obj.add_in_begginning(2)\n",
    "obj.add_in_begginning(3)"
   ]
  },
  {
   "cell_type": "code",
   "execution_count": 104,
   "id": "ac182e83",
   "metadata": {},
   "outputs": [
    {
     "ename": "AttributeError",
     "evalue": "'NoneType' object has no attribute 'data'",
     "output_type": "error",
     "traceback": [
      "\u001b[1;31m---------------------------------------------------------------------------\u001b[0m",
      "\u001b[1;31mAttributeError\u001b[0m                            Traceback (most recent call last)",
      "\u001b[1;32m~\\AppData\\Local\\Temp/ipykernel_14848/3232864500.py\u001b[0m in \u001b[0;36m<module>\u001b[1;34m\u001b[0m\n\u001b[1;32m----> 1\u001b[1;33m \u001b[0mobj\u001b[0m\u001b[1;33m.\u001b[0m\u001b[0mprint_CircularLinkedlist\u001b[0m\u001b[1;33m(\u001b[0m\u001b[1;33m)\u001b[0m\u001b[1;33m\u001b[0m\u001b[1;33m\u001b[0m\u001b[0m\n\u001b[0m",
      "\u001b[1;32m~\\AppData\\Local\\Temp/ipykernel_14848/558603089.py\u001b[0m in \u001b[0;36mprint_CircularLinkedlist\u001b[1;34m(self)\u001b[0m\n\u001b[0;32m     52\u001b[0m         \u001b[1;32mif\u001b[0m \u001b[0mself\u001b[0m\u001b[1;33m.\u001b[0m\u001b[0mhead\u001b[0m \u001b[1;32mis\u001b[0m \u001b[1;32mNone\u001b[0m\u001b[1;33m:\u001b[0m\u001b[1;33m\u001b[0m\u001b[1;33m\u001b[0m\u001b[0m\n\u001b[0;32m     53\u001b[0m             \u001b[1;32mwhile\u001b[0m\u001b[1;33m(\u001b[0m\u001b[1;32mTrue\u001b[0m\u001b[1;33m)\u001b[0m\u001b[1;33m:\u001b[0m\u001b[1;33m\u001b[0m\u001b[1;33m\u001b[0m\u001b[0m\n\u001b[1;32m---> 54\u001b[1;33m                 \u001b[0mprint\u001b[0m\u001b[1;33m(\u001b[0m\u001b[0ml1\u001b[0m\u001b[1;33m.\u001b[0m\u001b[0mdata\u001b[0m\u001b[1;33m)\u001b[0m\u001b[1;33m\u001b[0m\u001b[1;33m\u001b[0m\u001b[0m\n\u001b[0m\u001b[0;32m     55\u001b[0m                 \u001b[0ml1\u001b[0m\u001b[1;33m=\u001b[0m\u001b[0ml1\u001b[0m\u001b[1;33m.\u001b[0m\u001b[0mnext\u001b[0m\u001b[1;33m\u001b[0m\u001b[1;33m\u001b[0m\u001b[0m\n\u001b[0;32m     56\u001b[0m                 \u001b[1;32mif\u001b[0m \u001b[0ml1\u001b[0m\u001b[1;33m==\u001b[0m\u001b[0mself\u001b[0m\u001b[1;33m.\u001b[0m\u001b[0mhead\u001b[0m\u001b[1;33m:\u001b[0m\u001b[1;33m\u001b[0m\u001b[1;33m\u001b[0m\u001b[0m\n",
      "\u001b[1;31mAttributeError\u001b[0m: 'NoneType' object has no attribute 'data'"
     ]
    }
   ],
   "source": [
    "obj.print_CircularLinkedlist()"
   ]
  },
  {
   "cell_type": "code",
   "execution_count": 97,
   "id": "ca919e72",
   "metadata": {},
   "outputs": [],
   "source": [
    "obj.add_at_the_end(2)"
   ]
  },
  {
   "cell_type": "code",
   "execution_count": 98,
   "id": "653859ac",
   "metadata": {},
   "outputs": [
    {
     "ename": "AttributeError",
     "evalue": "'NoneType' object has no attribute 'data'",
     "output_type": "error",
     "traceback": [
      "\u001b[1;31m---------------------------------------------------------------------------\u001b[0m",
      "\u001b[1;31mAttributeError\u001b[0m                            Traceback (most recent call last)",
      "\u001b[1;32m~\\AppData\\Local\\Temp/ipykernel_14848/3232864500.py\u001b[0m in \u001b[0;36m<module>\u001b[1;34m\u001b[0m\n\u001b[1;32m----> 1\u001b[1;33m \u001b[0mobj\u001b[0m\u001b[1;33m.\u001b[0m\u001b[0mprint_CircularLinkedlist\u001b[0m\u001b[1;33m(\u001b[0m\u001b[1;33m)\u001b[0m\u001b[1;33m\u001b[0m\u001b[1;33m\u001b[0m\u001b[0m\n\u001b[0m",
      "\u001b[1;32m~\\AppData\\Local\\Temp/ipykernel_14848/558603089.py\u001b[0m in \u001b[0;36mprint_CircularLinkedlist\u001b[1;34m(self)\u001b[0m\n\u001b[0;32m     52\u001b[0m         \u001b[1;32mif\u001b[0m \u001b[0mself\u001b[0m\u001b[1;33m.\u001b[0m\u001b[0mhead\u001b[0m \u001b[1;32mis\u001b[0m \u001b[1;32mNone\u001b[0m\u001b[1;33m:\u001b[0m\u001b[1;33m\u001b[0m\u001b[1;33m\u001b[0m\u001b[0m\n\u001b[0;32m     53\u001b[0m             \u001b[1;32mwhile\u001b[0m\u001b[1;33m(\u001b[0m\u001b[1;32mTrue\u001b[0m\u001b[1;33m)\u001b[0m\u001b[1;33m:\u001b[0m\u001b[1;33m\u001b[0m\u001b[1;33m\u001b[0m\u001b[0m\n\u001b[1;32m---> 54\u001b[1;33m                 \u001b[0mprint\u001b[0m\u001b[1;33m(\u001b[0m\u001b[0ml1\u001b[0m\u001b[1;33m.\u001b[0m\u001b[0mdata\u001b[0m\u001b[1;33m)\u001b[0m\u001b[1;33m\u001b[0m\u001b[1;33m\u001b[0m\u001b[0m\n\u001b[0m\u001b[0;32m     55\u001b[0m                 \u001b[0ml1\u001b[0m\u001b[1;33m=\u001b[0m\u001b[0ml1\u001b[0m\u001b[1;33m.\u001b[0m\u001b[0mnext\u001b[0m\u001b[1;33m\u001b[0m\u001b[1;33m\u001b[0m\u001b[0m\n\u001b[0;32m     56\u001b[0m                 \u001b[1;32mif\u001b[0m \u001b[0ml1\u001b[0m\u001b[1;33m==\u001b[0m\u001b[0mself\u001b[0m\u001b[1;33m.\u001b[0m\u001b[0mhead\u001b[0m\u001b[1;33m:\u001b[0m\u001b[1;33m\u001b[0m\u001b[1;33m\u001b[0m\u001b[0m\n",
      "\u001b[1;31mAttributeError\u001b[0m: 'NoneType' object has no attribute 'data'"
     ]
    }
   ],
   "source": [
    "obj.print_CircularLinkedlist()"
   ]
  },
  {
   "cell_type": "code",
   "execution_count": 99,
   "id": "cc86547e",
   "metadata": {},
   "outputs": [],
   "source": [
    "obj.add_at_particular_position(2,3)"
   ]
  },
  {
   "cell_type": "code",
   "execution_count": 101,
   "id": "b2cb8cb6",
   "metadata": {},
   "outputs": [],
   "source": [
    "obj.print_CircularLinkedlist()"
   ]
  },
  {
   "cell_type": "code",
   "execution_count": null,
   "id": "578898db",
   "metadata": {},
   "outputs": [],
   "source": []
  }
 ],
 "metadata": {
  "kernelspec": {
   "display_name": "Python 3 (ipykernel)",
   "language": "python",
   "name": "python3"
  },
  "language_info": {
   "codemirror_mode": {
    "name": "ipython",
    "version": 3
   },
   "file_extension": ".py",
   "mimetype": "text/x-python",
   "name": "python",
   "nbconvert_exporter": "python",
   "pygments_lexer": "ipython3",
   "version": "3.7.10"
  }
 },
 "nbformat": 4,
 "nbformat_minor": 5
}
