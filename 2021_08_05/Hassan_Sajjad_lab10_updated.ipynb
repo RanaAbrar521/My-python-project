{
 "cells": [
  {
   "cell_type": "code",
   "execution_count": null,
   "id": "bcc3aee8",
   "metadata": {},
   "outputs": [],
   "source": [
    "#class = CircularLinkedlist\n",
    "\n",
    "#node= data,next\n",
    "#functions = \n",
    "#add_in_begginning\n",
    "#add_at_particular_position\n",
    "#add_at_the_end\n",
    "\n",
    "#print entire LinkedList"
   ]
  },
  {
   "cell_type": "code",
   "execution_count": 161,
   "id": "e5e375fc",
   "metadata": {},
   "outputs": [],
   "source": [
    "class Node:\n",
    "    def __init__(self,data):\n",
    "        self.data = data \n",
    "        self.next = None\n",
    "        \n",
    "class CircularLinkedlist:\n",
    "    def __init__(self):\n",
    "        self.head = None\n",
    "    \n",
    "    def add_in_begginning(self,new_data):\n",
    "        new_node = Node(new_data)\n",
    "        new_node.next = self.head\n",
    "        temp = self.head\n",
    "        if(self.head is not None):\n",
    "            while(temp.next != self.head):\n",
    "                temp=temp.next\n",
    "                \n",
    "            temp.next=new_node\n",
    "        \n",
    "        else:\n",
    "            new_node.next = new_node\n",
    "            self.head = new_node\n",
    "    def add_at_particular_position(self,new_data,position):\n",
    "        new_node = Node(new_data)\n",
    "        if self.head is None:\n",
    "            self.head = new_node\n",
    "            self.next = new_node\n",
    "        else:\n",
    "            temp = self.head\n",
    "            count = 1\n",
    "            while(temp):\n",
    "                if position == count:\n",
    "                    temp_node = temp.next\n",
    "                    new_node.next = temp_node\n",
    "                    temp.next = new_node\n",
    "                    break\n",
    "                temp = temp.next\n",
    "                count += 1\n",
    "                \n",
    "            \n",
    "    def add_at_the_end(self,new_data):\n",
    "        new_node = Node(new_data)\n",
    "        if(self.head == None):\n",
    "            self.head = new_node\n",
    "        \n",
    "        temp = self.head\n",
    "        while(temp.next):\n",
    "            temp = temp.next\n",
    "        \n",
    "        temp.next = new_node\n",
    "        new_node.prev = temp\n",
    "    \n",
    "    def print_CircularLinkedlist(self):\n",
    "        l1 = self.head\n",
    "        if self.head is not None:\n",
    "            while(True):\n",
    "                print(l1.data)\n",
    "                l1=l1.next\n",
    "                if l1==self.head:\n",
    "                    break\n",
    "            "
   ]
  },
  {
   "cell_type": "code",
   "execution_count": 162,
   "id": "d4ad5791",
   "metadata": {},
   "outputs": [],
   "source": [
    "obj = CircularLinkedlist()"
   ]
  },
  {
   "cell_type": "code",
   "execution_count": 163,
   "id": "881e80b4",
   "metadata": {},
   "outputs": [],
   "source": [
    "obj.add_in_begginning(2)\n",
    "obj.add_in_begginning(3)"
   ]
  },
  {
   "cell_type": "code",
   "execution_count": 164,
   "id": "ea3663ed",
   "metadata": {},
   "outputs": [
    {
     "name": "stdout",
     "output_type": "stream",
     "text": [
      "2\n",
      "3\n"
     ]
    }
   ],
   "source": [
    "obj.print_CircularLinkedlist()"
   ]
  },
  {
   "cell_type": "code",
   "execution_count": 168,
   "id": "da8b9171",
   "metadata": {},
   "outputs": [],
   "source": [
    "obj.add_at_the_end(2)"
   ]
  },
  {
   "cell_type": "code",
   "execution_count": null,
   "id": "846dab86",
   "metadata": {},
   "outputs": [],
   "source": [
    "obj.print_CircularLinkedlist()"
   ]
  },
  {
   "cell_type": "code",
   "execution_count": 166,
   "id": "0241de09",
   "metadata": {},
   "outputs": [],
   "source": [
    "obj.add_at_particular_position(2,3)"
   ]
  },
  {
   "cell_type": "code",
   "execution_count": 167,
   "id": "45020409",
   "metadata": {},
   "outputs": [
    {
     "name": "stdout",
     "output_type": "stream",
     "text": [
      "2\n",
      "2\n",
      "3\n"
     ]
    }
   ],
   "source": [
    "obj.print_CircularLinkedlist()"
   ]
  },
  {
   "cell_type": "code",
   "execution_count": null,
   "id": "5de4ee19",
   "metadata": {},
   "outputs": [],
   "source": []
  },
  {
   "cell_type": "code",
   "execution_count": null,
   "id": "28ed2068",
   "metadata": {},
   "outputs": [],
   "source": []
  }
 ],
 "metadata": {
  "kernelspec": {
   "display_name": "Python 3 (ipykernel)",
   "language": "python",
   "name": "python3"
  },
  "language_info": {
   "codemirror_mode": {
    "name": "ipython",
    "version": 3
   },
   "file_extension": ".py",
   "mimetype": "text/x-python",
   "name": "python",
   "nbconvert_exporter": "python",
   "pygments_lexer": "ipython3",
   "version": "3.7.10"
  }
 },
 "nbformat": 4,
 "nbformat_minor": 5
}
