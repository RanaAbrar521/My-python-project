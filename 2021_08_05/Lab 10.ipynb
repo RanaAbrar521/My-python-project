{
 "cells": [
  {
   "cell_type": "code",
   "execution_count": 163,
   "id": "128c8fb0",
   "metadata": {},
   "outputs": [],
   "source": [
    "class Node:\n",
    "    def __init__(self,data):\n",
    "        self.data =data\n",
    "        self.next =None\n",
    "        \n",
    "class CircularLinkList():\n",
    "    def __init__(self):\n",
    "        self.head = None\n",
    "        \n",
    "    def add_at_start(self,data):\n",
    "        new_node = Node(data)\n",
    "        temp = self.head\n",
    "        new_node.next = self.head\n",
    "        \n",
    "        \n",
    "        if self.head is not None:\n",
    "            while(temp.next != self.head):\n",
    "                temp=temp.next\n",
    "            temp.next =new_node \n",
    "         \n",
    "        else:        \n",
    "            new_node.next=new_node\n",
    "            self.head = new_node\n",
    "            \n",
    "            \n",
    "    def add_at_position(self,data,position):\n",
    "        new_node = Node(data)\n",
    "#         self.head = new_node\n",
    "#         new_node.next = new_node\n",
    "        \n",
    "        if self.head is None: \n",
    "            self.head = new_node\n",
    "            new_node.next = self.head\n",
    "        else:\n",
    "            temp = self.head\n",
    "            counter = 1\n",
    "            while(temp):\n",
    "                if(position == counter):\n",
    "                    temp_node = temp.next\n",
    "                    new_node.next = temp_node\n",
    "                    temp.next = new_node\n",
    "                    break\n",
    "                \n",
    "                counter += 1\n",
    "                temp = temp.next\n",
    "        \n",
    "        \n",
    "    def add_at_end(self,data):\n",
    "        new_node = Node(data)\n",
    "        temp = self.head\n",
    "        while(temp):\n",
    "            if temp.next == self.head:\n",
    "                temp.next = new_node\n",
    "                new_node.next = self.head\n",
    "                break\n",
    "            temp = temp.next\n",
    "        \n",
    "\n",
    "            \n",
    "    def print_circular_linked_list(self):\n",
    "\n",
    "        temp=self.head\n",
    "        if self.head is not None:\n",
    "            while (True):\n",
    "                print(temp.data)\n",
    "                temp=temp.next\n",
    "                if temp==self.head:\n",
    "                    break\n",
    "                    \n"
   ]
  },
  {
   "cell_type": "code",
   "execution_count": 164,
   "id": "6d63e76b",
   "metadata": {},
   "outputs": [
    {
     "name": "stdout",
     "output_type": "stream",
     "text": [
      "3\n",
      "2\n",
      "1\n",
      "9\n"
     ]
    }
   ],
   "source": [
    "ll = CircularLinkList()\n",
    "ll.add_at_start(3)\n",
    "ll.add_at_start(2)\n",
    "ll.add_at_start(1)\n",
    "#ll.add_at_position(4,0)\n",
    "ll.add_at_end(9)\n",
    "ll.print_circular_linked_list()"
   ]
  },
  {
   "cell_type": "code",
   "execution_count": 146,
   "id": "befa6980",
   "metadata": {},
   "outputs": [],
   "source": [
    "ll.add_at_end(9)"
   ]
  },
  {
   "cell_type": "code",
   "execution_count": 147,
   "id": "6651a9b3",
   "metadata": {},
   "outputs": [
    {
     "name": "stdout",
     "output_type": "stream",
     "text": [
      "3\n",
      "2\n",
      "1\n",
      "9\n"
     ]
    }
   ],
   "source": [
    "ll.print_circular_linked_list()"
   ]
  },
  {
   "cell_type": "code",
   "execution_count": null,
   "id": "6472e8cf",
   "metadata": {},
   "outputs": [],
   "source": []
  },
  {
   "cell_type": "code",
   "execution_count": 129,
   "id": "9a22a46c",
   "metadata": {},
   "outputs": [],
   "source": [
    "class Node:\n",
    "    \n",
    "    def __init__(self,data):\n",
    "        \n",
    "        self.data=data\n",
    "        self.next=None\n",
    "        \n",
    "class CircularLinkedList:\n",
    "    \n",
    "    def __init__(self):\n",
    "        self.head=None\n",
    "        \n",
    "    def add_node_at_beginning(self,new_data):\n",
    "        \n",
    "        new_node = Node(new_data)\n",
    "        \n",
    "        new_node.next=self.head\n",
    "        temp=self.head\n",
    "        \n",
    "        \n",
    "        if(self.head is not None):\n",
    "            while(temp.next != self.head):\n",
    "                temp=temp.next\n",
    "            \n",
    "            temp.next=new_node\n",
    "            \n",
    "        else:\n",
    "            new_node.next = new_node\n",
    "            self.head=new_node\n",
    "           \n",
    "        \n",
    "        \n",
    "    def add_node_to_desired_place(self,new_data,position):\n",
    "        \n",
    "        new_node=Node(new_data)\n",
    "        \n",
    "        if self.head == None:\n",
    "            \n",
    "            self.head = new_node\n",
    "            new_node.next=self.head\n",
    "            \n",
    "        else:\n",
    "            temp=self.head\n",
    "            count=1\n",
    "            while(temp):\n",
    "                \n",
    "                if position == count:\n",
    "                    \n",
    "                    temp_node=temp.next\n",
    "                    new_node.next=temp_node\n",
    "                    temp.next=new_node\n",
    "                    break\n",
    "                count = count + 1\n",
    "                temp = temp.next\n",
    "        \n",
    "        \n",
    "    def add_node_at_end(self,new_data):\n",
    "        \n",
    "        new_node = Node(new_data)\n",
    "        temp=self.head\n",
    "        \n",
    "        while(temp):\n",
    "            if temp.next == self.head:\n",
    "                temp.next = new_node\n",
    "                new_node.next = self.head\n",
    "                break\n",
    "            temp = temp.next\n",
    "        \n",
    "        \n",
    "    def print_circular_linked_list(self):\n",
    "        \n",
    "        temp=self.head\n",
    "        if self.head is not None:\n",
    "            while (temp):\n",
    "                print(temp.data)\n",
    "                temp=temp.next\n",
    "                if temp==self.head:\n",
    "                    break"
   ]
  },
  {
   "cell_type": "code",
   "execution_count": 130,
   "id": "637a3b9d",
   "metadata": {},
   "outputs": [
    {
     "name": "stdout",
     "output_type": "stream",
     "text": [
      "3\n",
      "2\n",
      "4\n",
      "1\n"
     ]
    }
   ],
   "source": [
    "ll = CircularLinkedList()\n",
    "ll.add_node_at_beginning(3)\n",
    "ll.add_node_at_beginning(2)\n",
    "ll.add_node_at_end(1)\n",
    "\n",
    "ll.add_node_to_desired_place(4,2)\n",
    "ll.print_circular_linked_list()"
   ]
  },
  {
   "cell_type": "code",
   "execution_count": null,
   "id": "4e95dcd1",
   "metadata": {},
   "outputs": [],
   "source": []
  }
 ],
 "metadata": {
  "kernelspec": {
   "display_name": "Python 3",
   "language": "python",
   "name": "python3"
  },
  "language_info": {
   "codemirror_mode": {
    "name": "ipython",
    "version": 3
   },
   "file_extension": ".py",
   "mimetype": "text/x-python",
   "name": "python",
   "nbconvert_exporter": "python",
   "pygments_lexer": "ipython3",
   "version": "3.8.8"
  }
 },
 "nbformat": 4,
 "nbformat_minor": 5
}
