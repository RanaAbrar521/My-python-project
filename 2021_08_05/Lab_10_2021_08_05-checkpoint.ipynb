{
 "cells": [
  {
   "cell_type": "code",
   "execution_count": 395,
   "id": "414b7e32",
   "metadata": {},
   "outputs": [],
   "source": [
    "### Circular Linked List\n",
    "\n",
    "class Node:\n",
    "    \n",
    "    def __init__(self,data):\n",
    "        \n",
    "        self.data=data\n",
    "        self.next=None\n",
    "        \n",
    "class CircularLinkedList:\n",
    "    \n",
    "    def __init__(self):\n",
    "        self.head=None\n",
    "        \n",
    "    def add_node_at_beginning(self,new_data):\n",
    "        \n",
    "        new_node = Node(new_data)\n",
    "        \n",
    "        new_node.next=self.head\n",
    "        temp=self.head\n",
    "        \n",
    "        \n",
    "        if(self.head is not None):\n",
    "            while(temp.next != self.head):\n",
    "                temp=temp.next\n",
    "            \n",
    "            temp.next=new_node\n",
    "            \n",
    "        else:\n",
    "            new_node.next = new_node\n",
    "            self.head=new_node\n",
    "           \n",
    "        \n",
    "        \n",
    "    def add_node_to_desired_place(self,new_data,position):\n",
    "        \n",
    "        new_node=Node(new_data)\n",
    "        \n",
    "        if self.head == None:\n",
    "            \n",
    "            self.head = new_node\n",
    "            new_node.next=self.head\n",
    "            \n",
    "        else:\n",
    "            temp=self.head\n",
    "            count=1\n",
    "            while(temp):\n",
    "                \n",
    "                if position == count:\n",
    "                    \n",
    "                    temp_node=temp.next\n",
    "                    new_node.next=temp_node\n",
    "                    temp.next=new_node\n",
    "                    break\n",
    "                count = count + 1\n",
    "                temp = temp.next\n",
    "        \n",
    "        \n",
    "    def add_node_at_end(self,new_data):\n",
    "        \n",
    "        new_node = Node(new_data)\n",
    "        temp=self.head\n",
    "        \n",
    "        while(temp):\n",
    "            if temp.next == self.head:\n",
    "                temp.next = new_node\n",
    "                new_node.next = self.head\n",
    "                break\n",
    "            temp = temp.next\n",
    "        \n",
    "        \n",
    "    def print_circular_linked_list(self):\n",
    "        \n",
    "        temp=self.head\n",
    "        if self.head is not None:\n",
    "            while (temp):\n",
    "                print(temp.data)\n",
    "                temp=temp.next\n",
    "                if temp==self.head:\n",
    "                    break\n",
    "            "
   ]
  },
  {
   "cell_type": "code",
   "execution_count": 396,
   "id": "c1348474",
   "metadata": {},
   "outputs": [],
   "source": [
    "obj1=CircularLinkedList()"
   ]
  },
  {
   "cell_type": "code",
   "execution_count": 397,
   "id": "d31671c3",
   "metadata": {},
   "outputs": [],
   "source": [
    "obj1.add_node_at_beginning(8)"
   ]
  },
  {
   "cell_type": "code",
   "execution_count": 398,
   "id": "57f90721",
   "metadata": {},
   "outputs": [],
   "source": [
    "obj1.add_node_at_beginning(7)\n"
   ]
  },
  {
   "cell_type": "code",
   "execution_count": 399,
   "id": "0320e038",
   "metadata": {},
   "outputs": [],
   "source": [
    "obj1.add_node_at_beginning(12)"
   ]
  },
  {
   "cell_type": "code",
   "execution_count": 400,
   "id": "8bdf31f7",
   "metadata": {},
   "outputs": [],
   "source": [
    "obj1.add_node_at_beginning(7)"
   ]
  },
  {
   "cell_type": "code",
   "execution_count": 401,
   "id": "ed5a5a81",
   "metadata": {},
   "outputs": [],
   "source": [
    "obj1.add_node_at_beginning(9)"
   ]
  },
  {
   "cell_type": "code",
   "execution_count": 402,
   "id": "d4082f2e",
   "metadata": {},
   "outputs": [],
   "source": [
    "obj1.add_node_at_beginning(11)"
   ]
  },
  {
   "cell_type": "code",
   "execution_count": 403,
   "id": "446580dd",
   "metadata": {},
   "outputs": [],
   "source": [
    "obj1.add_node_at_end(2)"
   ]
  },
  {
   "cell_type": "code",
   "execution_count": 404,
   "id": "71232a21",
   "metadata": {},
   "outputs": [],
   "source": [
    "obj1.add_node_at_end(1)"
   ]
  },
  {
   "cell_type": "code",
   "execution_count": 405,
   "id": "2b8ef946",
   "metadata": {},
   "outputs": [],
   "source": [
    "obj1.add_node_at_end(9)"
   ]
  },
  {
   "cell_type": "code",
   "execution_count": 406,
   "id": "cbbeffdb",
   "metadata": {},
   "outputs": [],
   "source": [
    "obj1.add_node_to_desired_place(6,1)"
   ]
  },
  {
   "cell_type": "code",
   "execution_count": 407,
   "id": "f845df04",
   "metadata": {},
   "outputs": [
    {
     "name": "stdout",
     "output_type": "stream",
     "text": [
      "8\n",
      "6\n",
      "7\n",
      "12\n",
      "7\n",
      "9\n",
      "11\n",
      "2\n",
      "1\n",
      "9\n"
     ]
    }
   ],
   "source": [
    "obj1.print_circular_linked_list()"
   ]
  },
  {
   "cell_type": "code",
   "execution_count": null,
   "id": "f346e5cc",
   "metadata": {},
   "outputs": [],
   "source": []
  },
  {
   "cell_type": "code",
   "execution_count": null,
   "id": "319163c7",
   "metadata": {},
   "outputs": [],
   "source": []
  }
 ],
 "metadata": {
  "kernelspec": {
   "display_name": "Python 3",
   "language": "python",
   "name": "python3"
  },
  "language_info": {
   "codemirror_mode": {
    "name": "ipython",
    "version": 3
   },
   "file_extension": ".py",
   "mimetype": "text/x-python",
   "name": "python",
   "nbconvert_exporter": "python",
   "pygments_lexer": "ipython3",
   "version": "3.8.8"
  }
 },
 "nbformat": 4,
 "nbformat_minor": 5
}
