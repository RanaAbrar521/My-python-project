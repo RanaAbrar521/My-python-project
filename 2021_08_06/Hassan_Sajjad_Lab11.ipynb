{
 "cells": [
  {
   "cell_type": "code",
   "execution_count": 1,
   "id": "eb32caab",
   "metadata": {},
   "outputs": [],
   "source": [
    "#Q1\n",
    "def add_numbers(x,y,z=None,flag=None):\n",
    "    if flag:\n",
    "        print(\"Flag is True\")\n",
    "    if z:\n",
    "        return x+y+z\n",
    "    else:\n",
    "        x+y"
   ]
  },
  {
   "cell_type": "code",
   "execution_count": 4,
   "id": "cf4317e5",
   "metadata": {},
   "outputs": [
    {
     "name": "stdout",
     "output_type": "stream",
     "text": [
      "Flag is True\n"
     ]
    },
    {
     "data": {
      "text/plain": [
       "9"
      ]
     },
     "execution_count": 4,
     "metadata": {},
     "output_type": "execute_result"
    }
   ],
   "source": [
    "add_numbers(2,2,5,flag=True)"
   ]
  },
  {
   "cell_type": "code",
   "execution_count": 12,
   "id": "63f32dfd",
   "metadata": {},
   "outputs": [],
   "source": [
    "#Q2\n",
    "import datetime as dt\n",
    "import time as tm\n",
    "def get_datatime(no_of_days):\n",
    "    if no_of_days % 2:\n",
    "        return dt.datetime.today() + dt.timedelta(days= no_of_days)\n",
    "    if no_of_days % 3:\n",
    "        return dt.datetime.today() - dt.timedelta(days= no_of_days)\n",
    "    else:\n",
    "        return dt.datetime.today()"
   ]
  },
  {
   "cell_type": "code",
   "execution_count": 13,
   "id": "2c8bc7a9",
   "metadata": {},
   "outputs": [
    {
     "data": {
      "text/plain": [
       "datetime.datetime(2021, 8, 30, 8, 36, 28, 410157)"
      ]
     },
     "execution_count": 13,
     "metadata": {},
     "output_type": "execute_result"
    }
   ],
   "source": [
    "get_datatime(23)"
   ]
  },
  {
   "cell_type": "code",
   "execution_count": 19,
   "id": "b892357b",
   "metadata": {},
   "outputs": [],
   "source": [
    "#Q3\n",
    "def concat_lst(l1,l2):\n",
    "    x=[]\n",
    "    for y in l1:\n",
    "        if y not in x:\n",
    "            x.append(y)\n",
    "    for i in l2:\n",
    "        if i not in x:\n",
    "            x.append(i)\n",
    "    return x"
   ]
  },
  {
   "cell_type": "code",
   "execution_count": 20,
   "id": "da5cebf1",
   "metadata": {},
   "outputs": [
    {
     "data": {
      "text/plain": [
       "[2, 4, 6, 3, 9]"
      ]
     },
     "execution_count": 20,
     "metadata": {},
     "output_type": "execute_result"
    }
   ],
   "source": [
    "concat_lst([2,4,6,3,3],[3,4,9])"
   ]
  },
  {
   "cell_type": "code",
   "execution_count": 22,
   "id": "5886e52c",
   "metadata": {},
   "outputs": [],
   "source": [
    "#Q4\n",
    "def string_case(my_list):\n",
    "    return list(set(map(lower_upper,my_list)))\n",
    "def lower_upper(x):\n",
    "    return x.upper(),x.lower()"
   ]
  },
  {
   "cell_type": "code",
   "execution_count": 23,
   "id": "5d07e303",
   "metadata": {},
   "outputs": [
    {
     "data": {
      "text/plain": [
       "[('A', 'a'), ('V', 'v'), ('C', 'c')]"
      ]
     },
     "execution_count": 23,
     "metadata": {},
     "output_type": "execute_result"
    }
   ],
   "source": [
    "string_case(['a','a','c','v'])"
   ]
  },
  {
   "cell_type": "code",
   "execution_count": 37,
   "id": "f6735f8d",
   "metadata": {},
   "outputs": [],
   "source": [
    "#Q5\n",
    "import csv\n",
    "def get_city_mpg_avg():\n",
    "    with open(\"mpg.csv\") as csv_file:\n",
    "        mpg = list(csv.DictReader(csv_file))\n",
    "    a = set(i['cyl'] for i in mpg)\n",
    "    find_data=[]\n",
    "    for c in a:\n",
    "        sum_val=0\n",
    "        count=0\n",
    "        \n",
    "        for d in mpg:\n",
    "            if d['cyl'] == c:\n",
    "                sum_val+=float(d['cty'])\n",
    "                count=count+1\n",
    "            \n",
    "        find_data.append((c,sum_val/count))\n",
    "    find_data.sort(key=lambda x:x[0])\n",
    "    return find_data"
   ]
  },
  {
   "cell_type": "code",
   "execution_count": 38,
   "id": "fd2156c2",
   "metadata": {},
   "outputs": [
    {
     "data": {
      "text/plain": [
       "[('4', 21.012345679012345),\n",
       " ('5', 20.5),\n",
       " ('6', 16.21518987341772),\n",
       " ('8', 12.571428571428571)]"
      ]
     },
     "execution_count": 38,
     "metadata": {},
     "output_type": "execute_result"
    }
   ],
   "source": [
    " get_city_mpg_avg()"
   ]
  },
  {
   "cell_type": "code",
   "execution_count": 41,
   "id": "9822855b",
   "metadata": {},
   "outputs": [],
   "source": [
    "#Q6\n",
    "import csv\n",
    "\n",
    "def get_cty_mpg_avg():\n",
    "    \n",
    "    with open('mpg.csv') as csvfile:\n",
    "        mpg=list(csv.DictReader(csvfile))\n",
    "    \n",
    "    a = set(i['class'] for i in mpg)\n",
    "    find_data=[]\n",
    "    for c in a:\n",
    "        sum_val=0\n",
    "        count=0\n",
    "        \n",
    "        for d in mpg:\n",
    "            if d['class'] == c:\n",
    "                sum_val+=float(d['hwy'])\n",
    "                count=count+1\n",
    "            \n",
    "        find_data.append((c,sum_val/count))\n",
    "    find_data.sort(key=lambda x:x[1])\n",
    "    return find_data\n",
    "    \n"
   ]
  },
  {
   "cell_type": "code",
   "execution_count": 42,
   "id": "713156c0",
   "metadata": {},
   "outputs": [
    {
     "data": {
      "text/plain": [
       "[('pickup', 16.87878787878788),\n",
       " ('suv', 18.129032258064516),\n",
       " ('minivan', 22.363636363636363),\n",
       " ('2seater', 24.8),\n",
       " ('midsize', 27.29268292682927),\n",
       " ('subcompact', 28.142857142857142),\n",
       " ('compact', 28.29787234042553)]"
      ]
     },
     "execution_count": 42,
     "metadata": {},
     "output_type": "execute_result"
    }
   ],
   "source": [
    "get_cty_mpg_avg()"
   ]
  },
  {
   "cell_type": "code",
   "execution_count": 320,
   "id": "b6bc8627",
   "metadata": {},
   "outputs": [],
   "source": [
    "#Q7\n",
    "\n",
    "class Student:\n",
    "\n",
    "    def __init__(self,name,batch,address,age,father_name,city):\n",
    "        self.name=name\n",
    "        self.batch = batch\n",
    "        self.address = address\n",
    "        self.age = age\n",
    "        self.father_name = father_name\n",
    "        self.city = city\n",
    "        \n",
    "    def __new__(cls,name,batch,address,age,father_name,city):\n",
    "        if age <= 18: \n",
    "            ins=object.__new__(cls)\n",
    "            return ins\n",
    "        elif  city=='Lahore' or city=='Karachi' or city == 'Islamabad' or city== 'Faisalabad':\n",
    "            ins=object.__new__(cls)\n",
    "            return ins\n",
    "            \n",
    "        \n",
    "    \n",
    "    \n",
    "    def set_name(self,name):\n",
    "        self.name=name\n",
    "        \n",
    "    def set_batch(self,batch): \n",
    "        self.batch=batch\n",
    "        \n",
    "    def set_address(self,address):\n",
    "        self.address=address\n",
    "        \n",
    "    def set_age(self,age):\n",
    "        self.age=age\n",
    "        \n",
    "    def set_father_name(self,father_name):\n",
    "        self.father_name=father_name\n",
    "        \n",
    "    def set_city(self,city):\n",
    "        self.city = city\n",
    "    \n",
    "    def get_name(self):\n",
    "        return self.name\n",
    "    \n",
    "    def get_batch(self):\n",
    "        return self.batch\n",
    "    \n",
    "    def get_address(self):\n",
    "        return self.address\n",
    "    \n",
    "    def get_age(self):\n",
    "        return self.age\n",
    "    \n",
    "    def get_father_name(self):\n",
    "        return self.father_name\n",
    "    \n",
    "    def get_city(self):\n",
    "        return self.city\n",
    "\n",
    "class DevnationStudents(Student):\n",
    "    def __init__(self,name,batch,address,age,father_name,city,courses=[],marks=[]):\n",
    "        super().__init__(name,batch,address,age,father_name,city)\n",
    "        self.courses=courses\n",
    "        self.marks=marks\n",
    "    \n",
    "    def add_courses(self,courses):\n",
    "        \n",
    "        for i in courses:\n",
    "            if i not in self.courses:\n",
    "                self.courses.append(i)\n",
    "        \n",
    "    def set_marks(self,courses,marks):\n",
    "        if courses in self.courses:\n",
    "            if courses not in self.marks:\n",
    "                self.marks.append({'course':courses,'marks':marks})\n",
    "        \n",
    "        \n",
    "    def get_add_course(self):\n",
    "        return self.courses\n",
    "    \n",
    "    def get_add_course_marks(self):\n",
    "        return self.marks"
   ]
  },
  {
   "cell_type": "code",
   "execution_count": null,
   "id": "2c1ee0ef",
   "metadata": {},
   "outputs": [],
   "source": [
    "\n"
   ]
  },
  {
   "cell_type": "code",
   "execution_count": null,
   "id": "8d29886c",
   "metadata": {},
   "outputs": [],
   "source": []
  },
  {
   "cell_type": "code",
   "execution_count": 321,
   "id": "4b8e273c",
   "metadata": {},
   "outputs": [],
   "source": [
    "s= Student('ali',3,'muslim town',17,'ahsan','Lahore')\n"
   ]
  },
  {
   "cell_type": "code",
   "execution_count": 322,
   "id": "570506df",
   "metadata": {},
   "outputs": [],
   "source": [
    "s.set_name(\"ali\")"
   ]
  },
  {
   "cell_type": "code",
   "execution_count": 323,
   "id": "e6c806e3",
   "metadata": {},
   "outputs": [
    {
     "data": {
      "text/plain": [
       "'ali'"
      ]
     },
     "execution_count": 323,
     "metadata": {},
     "output_type": "execute_result"
    }
   ],
   "source": [
    "s.name"
   ]
  },
  {
   "cell_type": "code",
   "execution_count": null,
   "id": "035b3e96",
   "metadata": {},
   "outputs": [],
   "source": []
  },
  {
   "cell_type": "code",
   "execution_count": 324,
   "id": "0ceb95d0",
   "metadata": {},
   "outputs": [],
   "source": [
    "s.set_city(\"Lahore\")"
   ]
  },
  {
   "cell_type": "code",
   "execution_count": 325,
   "id": "53ea34b1",
   "metadata": {},
   "outputs": [
    {
     "data": {
      "text/plain": [
       "'Lahore'"
      ]
     },
     "execution_count": 325,
     "metadata": {},
     "output_type": "execute_result"
    }
   ],
   "source": [
    "s.get_city()"
   ]
  },
  {
   "cell_type": "code",
   "execution_count": 326,
   "id": "16d0aa59",
   "metadata": {},
   "outputs": [
    {
     "data": {
      "text/plain": [
       "['python']"
      ]
     },
     "execution_count": 326,
     "metadata": {},
     "output_type": "execute_result"
    }
   ],
   "source": [
    "d = DevnationStudents(\"ali\",\"2\",\"Lahore\",23,\"daddy\",\"lahore\")\n",
    "\n",
    "d.add_courses(['python'])\n",
    "d.get_add_course()"
   ]
  },
  {
   "cell_type": "code",
   "execution_count": 327,
   "id": "44496ac2",
   "metadata": {},
   "outputs": [
    {
     "data": {
      "text/plain": [
       "['python', 'datascience', 'FullStack']"
      ]
     },
     "execution_count": 327,
     "metadata": {},
     "output_type": "execute_result"
    }
   ],
   "source": [
    "data.set_courses(['datascience','FullStack'])\n",
    "data.get_courses()"
   ]
  },
  {
   "cell_type": "code",
   "execution_count": 328,
   "id": "7e637f47",
   "metadata": {},
   "outputs": [
    {
     "data": {
      "text/plain": [
       "[]"
      ]
     },
     "execution_count": 328,
     "metadata": {},
     "output_type": "execute_result"
    }
   ],
   "source": [
    "d.set_marks('datascience',10)\n",
    "d.get_add_course_marks()"
   ]
  },
  {
   "cell_type": "code",
   "execution_count": null,
   "id": "ad9eeaee",
   "metadata": {},
   "outputs": [],
   "source": []
  },
  {
   "cell_type": "code",
   "execution_count": 241,
   "id": "e56f362d",
   "metadata": {},
   "outputs": [],
   "source": [
    "#Q8:\n",
    "def get_indices(nums:[],target):\n",
    "    for i in range (len(nums)):\n",
    "        for j in range (i+1, len(nums)):\n",
    "            if nums[i] + nums[j] == target: \n",
    "                return [i,j] "
   ]
  },
  {
   "cell_type": "code",
   "execution_count": 242,
   "id": "58beed0e",
   "metadata": {},
   "outputs": [
    {
     "data": {
      "text/plain": [
       "[0, 2]"
      ]
     },
     "execution_count": 242,
     "metadata": {},
     "output_type": "execute_result"
    }
   ],
   "source": [
    "get_indices([3,6,11,15],14)"
   ]
  },
  {
   "cell_type": "code",
   "execution_count": 252,
   "id": "ca7bfa65",
   "metadata": {},
   "outputs": [],
   "source": [
    "#Q9\n",
    "def backward_number(num):\n",
    "    return int(str(num)[::-1])"
   ]
  },
  {
   "cell_type": "code",
   "execution_count": 253,
   "id": "0c164d5d",
   "metadata": {},
   "outputs": [
    {
     "data": {
      "text/plain": [
       "5254"
      ]
     },
     "execution_count": 253,
     "metadata": {},
     "output_type": "execute_result"
    }
   ],
   "source": [
    " backward_number(4525)"
   ]
  },
  {
   "cell_type": "code",
   "execution_count": null,
   "id": "5650de79",
   "metadata": {},
   "outputs": [],
   "source": [
    "#Q10"
   ]
  },
  {
   "cell_type": "code",
   "execution_count": 254,
   "id": "e9258b95",
   "metadata": {},
   "outputs": [],
   "source": [
    "def remove_duplication(l1):\n",
    "    \n",
    "    x =[]\n",
    "     \n",
    "    for i in l1:\n",
    "        \n",
    "        if i not in x:\n",
    "            x.append(i)\n",
    "              \n",
    "    return x"
   ]
  },
  {
   "cell_type": "code",
   "execution_count": 255,
   "id": "89731b14",
   "metadata": {},
   "outputs": [
    {
     "data": {
      "text/plain": [
       "[1, 2, 5, 6, 7, 3]"
      ]
     },
     "execution_count": 255,
     "metadata": {},
     "output_type": "execute_result"
    }
   ],
   "source": [
    "remove_duplication([1,2,2,2,1,5,6,7,3])"
   ]
  },
  {
   "cell_type": "code",
   "execution_count": null,
   "id": "2d73873a",
   "metadata": {},
   "outputs": [],
   "source": []
  },
  {
   "cell_type": "code",
   "execution_count": null,
   "id": "0fcc39a0",
   "metadata": {},
   "outputs": [],
   "source": []
  }
 ],
 "metadata": {
  "kernelspec": {
   "display_name": "Python 3 (ipykernel)",
   "language": "python",
   "name": "python3"
  },
  "language_info": {
   "codemirror_mode": {
    "name": "ipython",
    "version": 3
   },
   "file_extension": ".py",
   "mimetype": "text/x-python",
   "name": "python",
   "nbconvert_exporter": "python",
   "pygments_lexer": "ipython3",
   "version": "3.7.10"
  }
 },
 "nbformat": 4,
 "nbformat_minor": 5
}
