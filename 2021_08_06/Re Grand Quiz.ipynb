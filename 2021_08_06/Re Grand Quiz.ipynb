{
 "cells": [
  {
   "cell_type": "markdown",
   "id": "8cdf3b42",
   "metadata": {},
   "source": [
    "Q1:\n",
    "    "
   ]
  },
  {
   "cell_type": "code",
   "execution_count": 257,
   "id": "826c9f21",
   "metadata": {},
   "outputs": [
    {
     "name": "stdout",
     "output_type": "stream",
     "text": [
      "Flag is True\n"
     ]
    },
    {
     "data": {
      "text/plain": [
       "9"
      ]
     },
     "execution_count": 257,
     "metadata": {},
     "output_type": "execute_result"
    }
   ],
   "source": [
    "def add_numbers(x,y,flag = None,z = None):\n",
    "    if flag:\n",
    "        print(\"Flag is True\")\n",
    "    if z:\n",
    "        return x+y+z\n",
    "    else:\n",
    "        return x+y\n",
    "    \n",
    "add_numbers(2,3, flag = True, z =4)"
   ]
  },
  {
   "cell_type": "markdown",
   "id": "482ec63f",
   "metadata": {},
   "source": [
    "q2"
   ]
  },
  {
   "cell_type": "code",
   "execution_count": 258,
   "id": "6df85d9c",
   "metadata": {},
   "outputs": [
    {
     "name": "stdout",
     "output_type": "stream",
     "text": [
      "2021-08-11 11:26:28.672328\n"
     ]
    }
   ],
   "source": [
    "import datetime as dt\n",
    "from datetime import timedelta\n",
    "def get_datetime(days):\n",
    "    if days % 2 ==0:\n",
    "        print(dt.datetime.today() + timedelta(days))\n",
    "    elif days % 3 ==0:\n",
    "        print(dt.datetime.today() - timedelta(days))\n",
    "    else:\n",
    "        return dt.datetime.today()\n",
    "get_datetime(4)"
   ]
  },
  {
   "cell_type": "markdown",
   "id": "fd43d712",
   "metadata": {},
   "source": [
    "Q3"
   ]
  },
  {
   "cell_type": "code",
   "execution_count": 266,
   "id": "019360d1",
   "metadata": {},
   "outputs": [
    {
     "data": {
      "text/plain": [
       "[1, 2, 3, 4, 5]"
      ]
     },
     "execution_count": 266,
     "metadata": {},
     "output_type": "execute_result"
    }
   ],
   "source": [
    "def concat_lst(l1,l2):\n",
    "    final_list =[]\n",
    "    for i in l1:\n",
    "        if i not in final_list:\n",
    "            final_list.append(i)\n",
    "        \n",
    "    for i in l2:\n",
    "        if i not in final_list:\n",
    "            final_list.append(i)\n",
    "    return final_list\n",
    "\n",
    "concat_lst([1,2,3],[3,4,5])"
   ]
  },
  {
   "cell_type": "markdown",
   "id": "db9f1170",
   "metadata": {},
   "source": [
    "Q4 Q4. Write a function string_case using map that takes list of characters and return\n",
    "List of tuples with containing lower and upper case of that character’s list\n",
    "Final Output must contain unique tuple element"
   ]
  },
  {
   "cell_type": "code",
   "execution_count": 269,
   "id": "96b8e54b",
   "metadata": {},
   "outputs": [
    {
     "data": {
      "text/plain": [
       "[('A', 'a'), ('B', 'b'), ('C', 'c')]"
      ]
     },
     "execution_count": 269,
     "metadata": {},
     "output_type": "execute_result"
    }
   ],
   "source": [
    "def upper_lower(x):\n",
    "    return x.upper(),x.lower()\n",
    "\n",
    "def string_case(list_of_characters):\n",
    "    a= set(map(upper_lower,list_of_characters))\n",
    "    return list(a)\n",
    "\n",
    "string_case(['a','b','c'])"
   ]
  },
  {
   "cell_type": "markdown",
   "id": "1aac23f1",
   "metadata": {},
   "source": [
    "Q5. Write a function get_city_mpg_avg, that groups the cars by number of cylinders, and\n",
    "finding the average cty mpg for each group.\n",
    "Output should be in the list of tuples\n",
    "Output = [ (5,20),(4,18),(3,16) ]\n",
    "Note:\n",
    "1. Use MPG.csv file\n",
    "2. First index of tuple shows the number of cylinders and second index shows the average\n",
    "3. Result should be sorted by first tuple index by using lambda functions"
   ]
  },
  {
   "cell_type": "code",
   "execution_count": 85,
   "id": "901daec3",
   "metadata": {},
   "outputs": [
    {
     "data": {
      "text/plain": [
       "[('4', 21.012345679012345),\n",
       " ('5', 20.5),\n",
       " ('6', 16.21518987341772),\n",
       " ('8', 12.571428571428571)]"
      ]
     },
     "execution_count": 85,
     "metadata": {},
     "output_type": "execute_result"
    }
   ],
   "source": [
    "import csv\n",
    "with open('mpg.csv') as csv_file:   \n",
    "      mpg=list(csv.DictReader(csv_file))\n",
    "        \n",
    "def get_city_mpg_avg():\n",
    "    \n",
    "    cylinders = set(i['cyl'] for i in mpg)\n",
    "        \n",
    "    result=[]\n",
    "    for i in cylinders:\n",
    "        add =0\n",
    "        count=0\n",
    "        for j in mpg:\n",
    "            if j['cyl']==i:\n",
    "                add = add + float(j['cty'])\n",
    "                \n",
    "                count = count+1\n",
    "                avg = add / count\n",
    "        result.append((i,avg))  \n",
    "        result.sort(key=lambda x:x[0])\n",
    "    return result\n",
    "\n",
    "get_city_mpg_avg()     "
   ]
  },
  {
   "cell_type": "markdown",
   "id": "aa901cdc",
   "metadata": {},
   "source": [
    "Q6. Write a function get_hwy_mpg_avg find the average hwy mpg for each class of vehicle Hwy mpg means highway mileage\n",
    "\n",
    "Use MPG.csv file\n",
    "Hwy mpg is found as hwy column in a file\n",
    "Vehicle class is found as class column in a file\n",
    "Sort Hwy Mpg in ascending order Output sample: [('pickup', 16.88),('suv', 18.13),('minivan', 22.36),('2seater', 24.80),('midsize', 27.29), ('subcompact', 28.14), ('compact', 28.30)]"
   ]
  },
  {
   "cell_type": "code",
   "execution_count": 270,
   "id": "4b43b61f",
   "metadata": {},
   "outputs": [
    {
     "data": {
      "text/plain": [
       "[('pickup', 16.87878787878788),\n",
       " ('suv', 18.129032258064516),\n",
       " ('minivan', 22.363636363636363),\n",
       " ('2seater', 24.8),\n",
       " ('midsize', 27.29268292682927),\n",
       " ('subcompact', 28.142857142857142),\n",
       " ('compact', 28.29787234042553)]"
      ]
     },
     "execution_count": 270,
     "metadata": {},
     "output_type": "execute_result"
    }
   ],
   "source": [
    "with open('mpg.csv') as csv_file:\n",
    "    mpg=list(csv.DictReader(csv_file))\n",
    "def get_hwy_mpg_avg():\n",
    "    vehicle = set(i['class'] for i in mpg)   \n",
    "    result = []\n",
    "    for i in vehicle:\n",
    "        add = 0\n",
    "        count=0\n",
    "        for j in mpg:\n",
    "            if j['class']==i:\n",
    "                add = add + float(j['hwy'])\n",
    "                count += 1\n",
    "                   \n",
    "        result.append((i , add/count))  \n",
    "    result.sort(key=lambda x:x[1])\n",
    "    #final_result=set(result)\n",
    "    return list(result)\n",
    "get_hwy_mpg_avg()"
   ]
  },
  {
   "cell_type": "markdown",
   "id": "d24d4118",
   "metadata": {},
   "source": [
    "Create a class Student with the following getters and setters\n",
    "1. Constructor\n",
    "a. Create an Object with following parameters\n",
    "i. Name\n",
    "ii. Batch No\n",
    "iii. Address\n",
    "iv. Age\n",
    "v. Father Name\n",
    "vi. City\n",
    "2. New \n",
    "a. Students with age more than 18 are not allowed in the school\n",
    "b. Students of Lahore Islamabad Faisalabad Karachi are allowed\n",
    "3. Setters\n",
    "a. Name (str)\n",
    "b. Batch no (int)\n",
    "c. Address (str)\n",
    "d. Age (str)\n",
    "e. Father name (str)\n",
    "f. City (str)\n",
    "4. Getters\n",
    "a. Name \n",
    "b. Batch no \n",
    "c. Address \n",
    "d. Age\n",
    "e. Father name\n",
    "f. City\n",
    "5. Create a new class called DevnationStudents which is a child class of Student\n",
    "a. Write a constructor that\n",
    "i. That calls the Parent Class Constructor\n",
    "ii. Also save courses and marks as empty list in the child constructor\n",
    "b. Write setter functions\n",
    "i. Add courses\n",
    "1. Takes a list of courses\n",
    "2. Add only those courses in the list which are not already in the\n",
    "ii. Add courses_marks\n",
    "1. This takes the list of dictionaries\n",
    "2. If the particular exists in the courses lists then the particular dictionary \n",
    "should be added in the marks list\n",
    "3. Marks list should not contains duplicate entries of same courses\n",
    "c. Write getter functions\n",
    "i. Get courses\n",
    "ii. Get Mark"
   ]
  },
  {
   "cell_type": "code",
   "execution_count": 283,
   "id": "ab31e7de",
   "metadata": {},
   "outputs": [],
   "source": [
    "class Student:\n",
    "    \n",
    "    def __init(self,name,batch_no, address, age,father_name, city):\n",
    "        self.name = name\n",
    "        self.batch_no = batch_no\n",
    "        self.address = address\n",
    "        self.age = age\n",
    "        self.father_name = father_name\n",
    "        self.city = city\n",
    "# new magic function\n",
    "    def __new__(cls,name,batch_no , address, age ,father_name , city ):\n",
    "        print (\"new magic method is called\")\n",
    "        a = list([ 'Lahore', 'Islamabad' , 'Faisalabad', 'Karachi' ])\n",
    "        if (age <= 18) and (city in a) :\n",
    "            inst = object.__new__(cls)\n",
    "           # instance = super(Student, cls).__new__(cls)\n",
    "            return inst\n",
    "#setters   \n",
    "\n",
    "    def set_name(self,name):\n",
    "        self.name= name \n",
    "    def set_batch_no(self,batch_no):\n",
    "        self.batch_no = batch_no      \n",
    "    def set_address(self,address):\n",
    "        self.address =address\n",
    "    def set_age(self,age):\n",
    "        self.age =age\n",
    "    def set_father_name(self,father_name):\n",
    "        self.father_name =father_name\n",
    "    def set_city(self,city):\n",
    "        return city\n",
    "# getters\n",
    "    def get_name(self):\n",
    "        return name\n",
    "    def get_batch_no(self):\n",
    "        return batch_no\n",
    "    def get_address(self):\n",
    "        return address\n",
    "    def get_age(self):\n",
    "        return age\n",
    "    def get_father_name(self):\n",
    "        return father_name\n",
    "    def get_city(self):\n",
    "        return city\n",
    "\n",
    "    \n",
    "\n",
    "    \n",
    "class DevnationStudents(Student):\n",
    "    def __init__(self,name,batch_no, address, age,father_name, city,courses =[], marks_list = []):\n",
    "        Student.__init__(self)\n",
    "        self.name = name\n",
    "        self.batch_no = batch_no\n",
    "        self.address = address\n",
    "        self.age = age\n",
    "        self.father_name = father_name\n",
    "        self.city = city\n",
    "        self.courses =courses\n",
    "        self.marks_list = marks_list\n",
    "            \n",
    "    def set_add_course(self,list_of_courses):\n",
    "        for i in list_of_courses:\n",
    "            if i not in self.courses:\n",
    "                self.courses.append(i)\n",
    "            \n",
    "\n",
    "\n",
    "    def set_courses_marks1(self,list_of_dictionaries):\n",
    "        for i in list_of_dictionaries:\n",
    "#             print('hi')\n",
    "            if i[\"course\"] in self.courses:   # add dict to list\n",
    "#                 print('hi')\n",
    "                self.marks_list.append(i)\n",
    "#                 print('hi')\n",
    "            \n",
    "                \n",
    "                \n",
    "                \n",
    "# getters\n",
    "    def get_courses(self):\n",
    "        return self.courses\n",
    "    \n",
    "    def get_marks(self):\n",
    "        return self.marks_list\n",
    "                    "
   ]
  },
  {
   "cell_type": "code",
   "execution_count": 284,
   "id": "5915ad33",
   "metadata": {},
   "outputs": [
    {
     "name": "stdout",
     "output_type": "stream",
     "text": [
      "new magic method is called\n"
     ]
    },
    {
     "data": {
      "text/plain": [
       "['python', 'stat']"
      ]
     },
     "execution_count": 284,
     "metadata": {},
     "output_type": "execute_result"
    }
   ],
   "source": [
    "x = DevnationStudents('iqra',3,'swl',15, 'Mahmood','Islamabad' )\n",
    "\n",
    "x.set_add_course(['python','stat'])\n",
    "x.get_courses()"
   ]
  },
  {
   "cell_type": "code",
   "execution_count": 285,
   "id": "6d07df02",
   "metadata": {},
   "outputs": [
    {
     "data": {
      "text/plain": [
       "['python', 'stat', 'java', 'c++']"
      ]
     },
     "execution_count": 285,
     "metadata": {},
     "output_type": "execute_result"
    }
   ],
   "source": [
    "x.set_add_course(['python','stat','java', 'c++'])\n",
    "x.get_courses()"
   ]
  },
  {
   "cell_type": "code",
   "execution_count": null,
   "id": "b1d0cdb1",
   "metadata": {},
   "outputs": [],
   "source": []
  },
  {
   "cell_type": "markdown",
   "id": "b68787ca",
   "metadata": {},
   "source": [
    "Q8 Write a function get_indices that receives the list of integers nums and an integer target, return indices of\n",
    "the two numbers such that they add up to target. You may assume that each input would have exactly one\n",
    "solution, and you may not use the same element twice."
   ]
  },
  {
   "cell_type": "code",
   "execution_count": 69,
   "id": "7d7c212e",
   "metadata": {},
   "outputs": [
    {
     "data": {
      "text/plain": [
       "(2, 3)"
      ]
     },
     "execution_count": 69,
     "metadata": {},
     "output_type": "execute_result"
    }
   ],
   "source": [
    "def get_indices(list_of_integer, target):\n",
    "    for i in range(len (list_of_integer)):\n",
    "        for j in range(i+1,len (list_of_integer)):\n",
    "            if i + j == target:\n",
    "                return i, j \n",
    "            \n",
    "get_indices([1,2,3,4,],5)            "
   ]
  },
  {
   "cell_type": "markdown",
   "id": "7e831057",
   "metadata": {},
   "source": [
    "Q9. Write a function backward_number. That a receives a number and return the number in backwards\n",
    "Input = 1234\n",
    "Output = 4321\n"
   ]
  },
  {
   "cell_type": "code",
   "execution_count": 55,
   "id": "fc1169dc",
   "metadata": {},
   "outputs": [
    {
     "data": {
      "text/plain": [
       "321"
      ]
     },
     "execution_count": 55,
     "metadata": {},
     "output_type": "execute_result"
    }
   ],
   "source": [
    "def backward_number(num):\n",
    "    number = str(num)\n",
    "    return int(number[::-1])\n",
    "backward_number(123)"
   ]
  },
  {
   "cell_type": "markdown",
   "id": "f34f5074",
   "metadata": {},
   "source": [
    "Q10. Create a function remove_duplication that takes a list and remove duplication from list.\n",
    "You cannot use set function"
   ]
  },
  {
   "cell_type": "code",
   "execution_count": 56,
   "id": "5f851a45",
   "metadata": {},
   "outputs": [
    {
     "data": {
      "text/plain": [
       "[1, 2, 3, 4]"
      ]
     },
     "execution_count": 56,
     "metadata": {},
     "output_type": "execute_result"
    }
   ],
   "source": [
    "def remove_duplication(our_list):\n",
    "    final_list = []\n",
    "    for i in our_list:\n",
    "        if i not in final_list:\n",
    "            final_list.append(i)\n",
    "    return final_list\n",
    "\n",
    "remove_duplication([1,2,3,4,3])"
   ]
  }
 ],
 "metadata": {
  "kernelspec": {
   "display_name": "Python 3",
   "language": "python",
   "name": "python3"
  },
  "language_info": {
   "codemirror_mode": {
    "name": "ipython",
    "version": 3
   },
   "file_extension": ".py",
   "mimetype": "text/x-python",
   "name": "python",
   "nbconvert_exporter": "python",
   "pygments_lexer": "ipython3",
   "version": "3.8.8"
  }
 },
 "nbformat": 4,
 "nbformat_minor": 5
}
