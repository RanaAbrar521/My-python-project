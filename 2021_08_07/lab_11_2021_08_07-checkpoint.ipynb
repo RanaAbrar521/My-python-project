{
 "cells": [
  {
   "cell_type": "code",
   "execution_count": 3,
   "id": "6c704858",
   "metadata": {},
   "outputs": [
    {
     "name": "stdout",
     "output_type": "stream",
     "text": [
      "flag is true\n"
     ]
    },
    {
     "data": {
      "text/plain": [
       "7"
      ]
     },
     "execution_count": 3,
     "metadata": {},
     "output_type": "execute_result"
    }
   ],
   "source": [
    "### Q1\n",
    "\n",
    "def add_numbers(x,y,z=None,flag=None):\n",
    "    \n",
    "    if flag:\n",
    "        print('flag is true')\n",
    "        \n",
    "    if z is not None:\n",
    "        return x+y+z\n",
    "    else:\n",
    "        return x+y\n",
    "    \n",
    "add_numbers(3,4,flag=True)"
   ]
  },
  {
   "cell_type": "code",
   "execution_count": 7,
   "id": "24fc54bf",
   "metadata": {},
   "outputs": [
    {
     "data": {
      "text/plain": [
       "datetime.datetime(2021, 8, 17, 0, 27, 17, 392872)"
      ]
     },
     "execution_count": 7,
     "metadata": {},
     "output_type": "execute_result"
    }
   ],
   "source": [
    "### Q2\n",
    "\n",
    "import datetime as dt\n",
    "from datetime import timedelta\n",
    "\n",
    "def get_datetime(number_of_days):\n",
    "    \n",
    "    current_datetime = dt.datetime.today()\n",
    "    \n",
    "    if number_of_days % 2 == 0 :\n",
    "        \n",
    "        return current_datetime + timedelta(days=number_of_days)\n",
    "    \n",
    "    elif number_of_days % 3 == 0 :\n",
    "        \n",
    "        return current_datetime - timedelta(days=number_of_days)\n",
    "    \n",
    "    else : \n",
    "        \n",
    "        return current_datetime\n",
    "    \n",
    "get_datetime(10)\n",
    "    "
   ]
  },
  {
   "cell_type": "code",
   "execution_count": 15,
   "id": "cd8a52ac",
   "metadata": {},
   "outputs": [
    {
     "data": {
      "text/plain": [
       "[1, 2, 3, 4, 5, 6, 7]"
      ]
     },
     "execution_count": 15,
     "metadata": {},
     "output_type": "execute_result"
    }
   ],
   "source": [
    "### Q3\n",
    "\n",
    "def concat_lst(list1,list2=None):\n",
    "    \n",
    "    x=[]\n",
    "    \n",
    "    for i in list1:\n",
    "        if i not in x:\n",
    "            x.append(i) \n",
    "    \n",
    "    for i in list2:\n",
    "        if i not in x:\n",
    "            x.append(i) \n",
    "    return x\n",
    "            \n",
    "concat_lst([1,2,2,3,4],[5,5,6,4,7])"
   ]
  },
  {
   "cell_type": "code",
   "execution_count": 16,
   "id": "b7246296",
   "metadata": {},
   "outputs": [
    {
     "data": {
      "text/plain": [
       "[('A', 'a'), ('B', 'b'), ('C', 'c')]"
      ]
     },
     "execution_count": 16,
     "metadata": {},
     "output_type": "execute_result"
    }
   ],
   "source": [
    "### Q4\n",
    "\n",
    "def string_case(myList):\n",
    "    \n",
    "    res = list(set(map(upperLower,myList)))\n",
    "    return res\n",
    "\n",
    "def upperLower(n):\n",
    "    return n.upper(),n.lower()\n",
    "\n",
    "string_case(['a','b','c'])"
   ]
  },
  {
   "cell_type": "code",
   "execution_count": 20,
   "id": "3cca876f",
   "metadata": {},
   "outputs": [
    {
     "data": {
      "text/plain": [
       "[('4', 21.012345679012345),\n",
       " ('5', 20.5),\n",
       " ('6', 16.21518987341772),\n",
       " ('8', 12.571428571428571)]"
      ]
     },
     "execution_count": 20,
     "metadata": {},
     "output_type": "execute_result"
    }
   ],
   "source": [
    "### Q5\n",
    "\n",
    "import csv\n",
    "\n",
    "def get_cty_mpg_avg():\n",
    "    \n",
    "    with open('mpg.csv') as csvfile:\n",
    "        mpg=list(csv.DictReader(csvfile))\n",
    "    \n",
    "    a = set(i['cyl'] for i in mpg)\n",
    "    find_res=[]\n",
    "    for c in a:\n",
    "        sum_val=0\n",
    "        count=0\n",
    "        \n",
    "        for d in mpg:\n",
    "            if d['cyl'] == c:\n",
    "                sum_val+=float(d['cty'])\n",
    "                count=count+1\n",
    "            \n",
    "        find_res.append((c,sum_val/count))\n",
    "    find_res.sort(key=lambda x:x[0])\n",
    "    return find_res\n",
    "    \n",
    "get_cty_mpg_avg()\n",
    "    "
   ]
  },
  {
   "cell_type": "code",
   "execution_count": 24,
   "id": "5a68b538",
   "metadata": {},
   "outputs": [
    {
     "data": {
      "text/plain": [
       "[('pickup', 16.87878787878788),\n",
       " ('suv', 18.129032258064516),\n",
       " ('minivan', 22.363636363636363),\n",
       " ('2seater', 24.8),\n",
       " ('midsize', 27.29268292682927),\n",
       " ('subcompact', 28.142857142857142),\n",
       " ('compact', 28.29787234042553)]"
      ]
     },
     "execution_count": 24,
     "metadata": {},
     "output_type": "execute_result"
    }
   ],
   "source": [
    "### Q6\n",
    "\n",
    "import csv\n",
    "\n",
    "def get_cty_mpg_avg():\n",
    "    \n",
    "    with open('mpg.csv') as csvfile:\n",
    "        mpg=list(csv.DictReader(csvfile))\n",
    "    \n",
    "    a = set(i['class'] for i in mpg)\n",
    "    find_res=[]\n",
    "    for c in a:\n",
    "        sum_val=0\n",
    "        count=0\n",
    "        \n",
    "        for d in mpg:\n",
    "            if d['class'] == c:\n",
    "                sum_val+=float(d['hwy'])\n",
    "                count=count+1\n",
    "            \n",
    "        find_res.append((c,sum_val/count))\n",
    "    find_res.sort(key=lambda x:x[1])\n",
    "    return find_res\n",
    "    \n",
    "get_cty_mpg_avg()"
   ]
  },
  {
   "cell_type": "code",
   "execution_count": 25,
   "id": "6020a844",
   "metadata": {},
   "outputs": [],
   "source": [
    "### Q7\n",
    "\n",
    "class Student(object):\n",
    "    \n",
    "    def __new__(cls,name,batch_no,address,age,father_name,city):\n",
    "        \n",
    "        if (age<=18) & (city=='Lahore' or city=='Karachi' or city == 'Islamabad' or city== 'Faisalabad'):\n",
    "            instance=object.__new__(cls)\n",
    "            return instance\n",
    "            \n",
    "    \n",
    "    def __init__(self,name,batch_no,address,age,father_name,city):\n",
    "        self.name=name\n",
    "        self.batch_no=batch_no\n",
    "        self.address=address\n",
    "        self.age=age\n",
    "        self.father_name=father_name\n",
    "        self.city=city\n",
    "        \n",
    "    def set_name(self,name):\n",
    "        self.name=name\n",
    "    \n",
    "    def set_batch_no(self,batch_no):\n",
    "        self.batch_no=batch_no\n",
    "        \n",
    "    def set_address(self,address):\n",
    "        self.address=address\n",
    "        \n",
    "    def set_age(self,age):\n",
    "        self.age=age\n",
    "        \n",
    "    def set_father_name(self,father_name):\n",
    "        self.father_name=father_name\n",
    "        \n",
    "    def set_city(self,city):\n",
    "        self.city=city\n",
    "        \n",
    "    def get_name(self):\n",
    "        return self.name\n",
    "    \n",
    "    def get_batch_no(self):\n",
    "        return self.batch_no\n",
    "    \n",
    "    def get_address(self):\n",
    "        return self.address\n",
    "    \n",
    "    def get_age(self):\n",
    "        return self.age\n",
    "    \n",
    "    def get_father_name(self):\n",
    "        return self.father_name\n",
    "    \n",
    "    def get_city(self):\n",
    "        return self.city\n",
    "    \n",
    "    \n",
    "class Devnation(Student):\n",
    "    \n",
    "    def __init__(self,name,batch_no,address,age,father_name,city,courses=[],marks=[]):\n",
    "        super().__init__(name,batch_no,address,age,father_name,city)\n",
    "        self.courses=courses\n",
    "        self.marks=marks\n",
    "        self.courses_score=[]\n",
    "        \n",
    "    def add_courses(self,courses):\n",
    "        \n",
    "        for i in courses:\n",
    "            if i not in self.courses:\n",
    "                self.courses.append(i)\n",
    "                \n",
    "    def add_courses_score(self,courses,courses_score):\n",
    "        \n",
    "        if courses in self.courses:\n",
    "            \n",
    "            if courses not in self.courses_score:\n",
    "                self.courses_score.append({'course':courses,'marks':courses_score})\n",
    "        \n",
    "        else:\n",
    "            print('course not found')       \n",
    "                \n",
    "    def get_courses(self):\n",
    "        return self.courses\n",
    "    \n",
    "    def get_marks(self):\n",
    "        return self.courses_score"
   ]
  },
  {
   "cell_type": "code",
   "execution_count": 26,
   "id": "306fd90c",
   "metadata": {},
   "outputs": [
    {
     "data": {
      "text/plain": [
       "[{'course': 'Java', 'marks': 30}]"
      ]
     },
     "execution_count": 26,
     "metadata": {},
     "output_type": "execute_result"
    }
   ],
   "source": [
    "obj1=Devnation('zaid',3,'johar town',17,'sultan','Lahore')\n",
    "obj1.add_courses(['Datascience','C++','Java'])\n",
    "obj1.get_courses()\n",
    "obj1.add_courses(['C++'])\n",
    "obj1.get_courses()\n",
    "obj1.add_courses(['Java'])\n",
    "obj1.get_courses()\n",
    "obj1.add_courses_score('Java',30)\n",
    "obj1.get_marks()"
   ]
  },
  {
   "cell_type": "code",
   "execution_count": 21,
   "id": "d3ceb391",
   "metadata": {},
   "outputs": [
    {
     "data": {
      "text/plain": [
       "[2, 4]"
      ]
     },
     "execution_count": 21,
     "metadata": {},
     "output_type": "execute_result"
    }
   ],
   "source": [
    "### Q8\n",
    "\n",
    "def get_indicies(myList,target):\n",
    "    \n",
    "    for i in range(0,len(myList)):\n",
    "        \n",
    "        for j in range(i+1,len(myList)):\n",
    "            \n",
    "            if myList[i]+myList[j] == target:\n",
    "               \n",
    "                return [i,j]\n",
    "                           \n",
    "    return myList\n",
    "\n",
    "get_indicies([1,4,7,3,6],13)"
   ]
  },
  {
   "cell_type": "code",
   "execution_count": 22,
   "id": "f72de37b",
   "metadata": {},
   "outputs": [
    {
     "data": {
      "text/plain": [
       "987326"
      ]
     },
     "execution_count": 22,
     "metadata": {},
     "output_type": "execute_result"
    }
   ],
   "source": [
    "### Q9 \n",
    "\n",
    "def backward_number(number):\n",
    "    \n",
    "    reverse=0\n",
    "    \n",
    "    while(number > 0):\n",
    "        \n",
    "        remainder = number % 10\n",
    "        \n",
    "        reverse= reverse*10 + remainder\n",
    "        \n",
    "        number = number // 10\n",
    "    \n",
    "    return reverse\n",
    "backward_number(623789)"
   ]
  },
  {
   "cell_type": "code",
   "execution_count": 23,
   "id": "d725332b",
   "metadata": {},
   "outputs": [
    {
     "data": {
      "text/plain": [
       "[1, 3, 4, 5, 2, 6, 7]"
      ]
     },
     "execution_count": 23,
     "metadata": {},
     "output_type": "execute_result"
    }
   ],
   "source": [
    "### Q10\n",
    "\n",
    "def remove_duplication(myList):\n",
    "    \n",
    "    newList =[]\n",
    "     \n",
    "    for i in myList:\n",
    "        \n",
    "        if i not in newList:\n",
    "            newList.append(i)\n",
    "              \n",
    "    return newList\n",
    "remove_duplication([1,3,4,5,3,2,1,5,6,7,3])"
   ]
  },
  {
   "cell_type": "code",
   "execution_count": null,
   "id": "b4253c2a",
   "metadata": {},
   "outputs": [],
   "source": []
  }
 ],
 "metadata": {
  "kernelspec": {
   "display_name": "Python 3",
   "language": "python",
   "name": "python3"
  },
  "language_info": {
   "codemirror_mode": {
    "name": "ipython",
    "version": 3
   },
   "file_extension": ".py",
   "mimetype": "text/x-python",
   "name": "python",
   "nbconvert_exporter": "python",
   "pygments_lexer": "ipython3",
   "version": "3.8.8"
  }
 },
 "nbformat": 4,
 "nbformat_minor": 5
}
