{
 "cells": [
  {
   "cell_type": "code",
   "execution_count": 158,
   "id": "52b29d68",
   "metadata": {},
   "outputs": [],
   "source": [
    "#stack class\n",
    "#functions"
   ]
  },
  {
   "cell_type": "code",
   "execution_count": 240,
   "id": "99e80313",
   "metadata": {},
   "outputs": [],
   "source": [
    "class Stack:\n",
    "    def __init__(self):\n",
    "        self.items = []\n",
    "    \n",
    "    def push(self,item):\n",
    "        return self.items.insert(0,item)\n",
    "    def pop(self):\n",
    "        return self.items.pop(0)\n",
    "    def peak(self):\n",
    "        return self.items[0]\n",
    "    def print_stack(self):\n",
    "        return self.items\n",
    "    def size(self):\n",
    "        return len(self.items)\n",
    "    \n",
    "    def is_empty(self):\n",
    "        return self.items == []\n",
    "            \n",
    "    def push_without_using_insert(self,data):\n",
    "        a = data + self.items\n",
    "        return a\n",
    "            "
   ]
  },
  {
   "cell_type": "code",
   "execution_count": 241,
   "id": "3f6cabbb",
   "metadata": {},
   "outputs": [],
   "source": [
    "obj = Stack()"
   ]
  },
  {
   "cell_type": "code",
   "execution_count": 242,
   "id": "b22cef2e",
   "metadata": {},
   "outputs": [],
   "source": [
    "obj.push(12)\n",
    "obj.push(1)\n",
    "obj.push(52)\n",
    "obj.push(82)"
   ]
  },
  {
   "cell_type": "code",
   "execution_count": 243,
   "id": "0d1ea557",
   "metadata": {},
   "outputs": [
    {
     "data": {
      "text/plain": [
       "[82, 52, 1, 12]"
      ]
     },
     "execution_count": 243,
     "metadata": {},
     "output_type": "execute_result"
    }
   ],
   "source": [
    "obj.print_stack()"
   ]
  },
  {
   "cell_type": "code",
   "execution_count": 244,
   "id": "770399c6",
   "metadata": {},
   "outputs": [
    {
     "data": {
      "text/plain": [
       "4"
      ]
     },
     "execution_count": 244,
     "metadata": {},
     "output_type": "execute_result"
    }
   ],
   "source": [
    "obj.size()"
   ]
  },
  {
   "cell_type": "code",
   "execution_count": 245,
   "id": "0b39e2ca",
   "metadata": {},
   "outputs": [
    {
     "data": {
      "text/plain": [
       "82"
      ]
     },
     "execution_count": 245,
     "metadata": {},
     "output_type": "execute_result"
    }
   ],
   "source": [
    "obj.pop()"
   ]
  },
  {
   "cell_type": "code",
   "execution_count": 246,
   "id": "437c952c",
   "metadata": {},
   "outputs": [
    {
     "data": {
      "text/plain": [
       "3"
      ]
     },
     "execution_count": 246,
     "metadata": {},
     "output_type": "execute_result"
    }
   ],
   "source": [
    "obj.size()"
   ]
  },
  {
   "cell_type": "code",
   "execution_count": 247,
   "id": "f757e9fd",
   "metadata": {},
   "outputs": [
    {
     "data": {
      "text/plain": [
       "False"
      ]
     },
     "execution_count": 247,
     "metadata": {},
     "output_type": "execute_result"
    }
   ],
   "source": [
    "obj.is_empty()"
   ]
  },
  {
   "cell_type": "code",
   "execution_count": 248,
   "id": "e27e3051",
   "metadata": {},
   "outputs": [
    {
     "data": {
      "text/plain": [
       "[52, 1, 12]"
      ]
     },
     "execution_count": 248,
     "metadata": {},
     "output_type": "execute_result"
    }
   ],
   "source": [
    "obj.print_stack()"
   ]
  },
  {
   "cell_type": "code",
   "execution_count": 249,
   "id": "c05af80b",
   "metadata": {},
   "outputs": [
    {
     "data": {
      "text/plain": [
       "52"
      ]
     },
     "execution_count": 249,
     "metadata": {},
     "output_type": "execute_result"
    }
   ],
   "source": [
    "obj.peak()"
   ]
  },
  {
   "cell_type": "code",
   "execution_count": 250,
   "id": "0c7c6ecc",
   "metadata": {},
   "outputs": [
    {
     "data": {
      "text/plain": [
       "[5, 52, 1, 12]"
      ]
     },
     "execution_count": 250,
     "metadata": {},
     "output_type": "execute_result"
    }
   ],
   "source": [
    "obj.push_without_using_insert([5])"
   ]
  },
  {
   "cell_type": "code",
   "execution_count": 251,
   "id": "5f19dcc3",
   "metadata": {},
   "outputs": [
    {
     "data": {
      "text/plain": [
       "[52, 1, 12]"
      ]
     },
     "execution_count": 251,
     "metadata": {},
     "output_type": "execute_result"
    }
   ],
   "source": [
    "obj.print_stack()"
   ]
  },
  {
   "cell_type": "code",
   "execution_count": null,
   "id": "02a0c1f2",
   "metadata": {},
   "outputs": [],
   "source": []
  },
  {
   "cell_type": "code",
   "execution_count": null,
   "id": "946dba45",
   "metadata": {},
   "outputs": [],
   "source": []
  },
  {
   "cell_type": "code",
   "execution_count": null,
   "id": "35f44114",
   "metadata": {},
   "outputs": [],
   "source": []
  }
 ],
 "metadata": {
  "kernelspec": {
   "display_name": "Python 3 (ipykernel)",
   "language": "python",
   "name": "python3"
  },
  "language_info": {
   "codemirror_mode": {
    "name": "ipython",
    "version": 3
   },
   "file_extension": ".py",
   "mimetype": "text/x-python",
   "name": "python",
   "nbconvert_exporter": "python",
   "pygments_lexer": "ipython3",
   "version": "3.7.10"
  }
 },
 "nbformat": 4,
 "nbformat_minor": 5
}
