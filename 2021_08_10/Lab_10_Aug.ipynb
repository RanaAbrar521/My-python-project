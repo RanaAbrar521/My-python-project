{
 "cells": [
  {
   "cell_type": "code",
   "execution_count": 183,
   "id": "d26616e3-fab0-42d3-9608-84e211aee981",
   "metadata": {},
   "outputs": [],
   "source": [
    "class stack:\n",
    "    def __init__(self):\n",
    "        self.items = []\n",
    "    \n",
    "    def push (self, item):\n",
    "        self.items.insert(0,item)\n",
    "        \n",
    "    def pop (self):\n",
    "        if len(self.items) != 0:\n",
    "            \n",
    "            return self.items.pop(0)\n",
    "        else: \n",
    "            return (\"Stack is empty\")\n",
    "            \n",
    "    \n",
    "    def peek(self):\n",
    "        \n",
    "        if len(self.items) != 0:\n",
    "            \n",
    "            return self.items[0]\n",
    "        else: \n",
    "            return (\"Stack is empty\")\n",
    "        \n",
    "        \n",
    "    \n",
    "    def size (self):\n",
    "        return len(self.items)\n",
    "    \n",
    "    def print_stack(self):\n",
    "        return self.items\n",
    "    \n",
    "    def push_without_using_insert (self,item):\n",
    "        \n",
    "        item = [item] # storing into the list\n",
    "        self.items = item + self.items #  adding both list\n",
    "        \n",
    "    def is_empty(self):\n",
    "        if len(self.items) != 0:\n",
    "            return (\"Stack is not empty\")\n",
    "        else:\n",
    "            return (\"Stack is empty\")\n",
    "             \n",
    "         "
   ]
  },
  {
   "cell_type": "code",
   "execution_count": 184,
   "id": "3f76b8c7-3aef-4c10-8adb-99d2da3c724f",
   "metadata": {},
   "outputs": [],
   "source": [
    "s = stack()"
   ]
  },
  {
   "cell_type": "code",
   "execution_count": 185,
   "id": "4e1950c3-671a-4050-b202-087de0c00cef",
   "metadata": {},
   "outputs": [],
   "source": [
    "s.push(1)\n",
    "s.push(2)\n",
    "s.push(3)\n",
    "s.push(7)\n",
    "s.push(9)"
   ]
  },
  {
   "cell_type": "code",
   "execution_count": 186,
   "id": "e44edc67-b777-486c-a1bb-b9a90ac77def",
   "metadata": {},
   "outputs": [
    {
     "data": {
      "text/plain": [
       "[9, 7, 3, 2, 1]"
      ]
     },
     "execution_count": 186,
     "metadata": {},
     "output_type": "execute_result"
    }
   ],
   "source": [
    "s.print_stack()"
   ]
  },
  {
   "cell_type": "code",
   "execution_count": 187,
   "id": "c48adc97-db13-4f50-a3f0-bc67bac6b1a7",
   "metadata": {},
   "outputs": [
    {
     "data": {
      "text/plain": [
       "9"
      ]
     },
     "execution_count": 187,
     "metadata": {},
     "output_type": "execute_result"
    }
   ],
   "source": [
    "s.pop()"
   ]
  },
  {
   "cell_type": "code",
   "execution_count": 188,
   "id": "26525fb7-5aef-4b9d-bff2-ec20e02b53ca",
   "metadata": {},
   "outputs": [
    {
     "data": {
      "text/plain": [
       "[7, 3, 2, 1]"
      ]
     },
     "execution_count": 188,
     "metadata": {},
     "output_type": "execute_result"
    }
   ],
   "source": [
    "s.print_stack()"
   ]
  },
  {
   "cell_type": "code",
   "execution_count": 189,
   "id": "5b6f548e-3bf6-4e90-b5d6-5b8a9977b447",
   "metadata": {},
   "outputs": [
    {
     "data": {
      "text/plain": [
       "7"
      ]
     },
     "execution_count": 189,
     "metadata": {},
     "output_type": "execute_result"
    }
   ],
   "source": [
    "s.peek()"
   ]
  },
  {
   "cell_type": "code",
   "execution_count": 190,
   "id": "50107676-1c06-4319-90be-e9c0a2a295ad",
   "metadata": {},
   "outputs": [
    {
     "data": {
      "text/plain": [
       "4"
      ]
     },
     "execution_count": 190,
     "metadata": {},
     "output_type": "execute_result"
    }
   ],
   "source": [
    "s.size()"
   ]
  },
  {
   "cell_type": "code",
   "execution_count": 191,
   "id": "8b72b1cc-f0e7-43e7-9ba7-e6f64a7cad19",
   "metadata": {},
   "outputs": [
    {
     "data": {
      "text/plain": [
       "'Stack is not empty'"
      ]
     },
     "execution_count": 191,
     "metadata": {},
     "output_type": "execute_result"
    }
   ],
   "source": [
    "s.is_empty()"
   ]
  },
  {
   "cell_type": "code",
   "execution_count": 192,
   "id": "fc17ceeb-788b-401d-be52-16619b0d3dfb",
   "metadata": {},
   "outputs": [],
   "source": [
    "s.push_without_using_insert(9)"
   ]
  },
  {
   "cell_type": "code",
   "execution_count": 193,
   "id": "e2faa243-c371-4b26-b269-d9180c6b8c98",
   "metadata": {},
   "outputs": [
    {
     "data": {
      "text/plain": [
       "[9, 7, 3, 2, 1]"
      ]
     },
     "execution_count": 193,
     "metadata": {},
     "output_type": "execute_result"
    }
   ],
   "source": [
    "s.print_stack()"
   ]
  },
  {
   "cell_type": "code",
   "execution_count": 194,
   "id": "a43660ba-ef77-4c8f-b86e-f7b7a40450ce",
   "metadata": {},
   "outputs": [],
   "source": [
    "s.push_without_using_insert(11)"
   ]
  },
  {
   "cell_type": "code",
   "execution_count": 195,
   "id": "df63d52f-aa00-4bcd-8977-7d4d1b9114dc",
   "metadata": {},
   "outputs": [
    {
     "data": {
      "text/plain": [
       "[11, 9, 7, 3, 2, 1]"
      ]
     },
     "execution_count": 195,
     "metadata": {},
     "output_type": "execute_result"
    }
   ],
   "source": [
    "s.print_stack()"
   ]
  },
  {
   "cell_type": "code",
   "execution_count": 196,
   "id": "809c9b75-4868-4add-a068-e8890c25c13f",
   "metadata": {},
   "outputs": [
    {
     "data": {
      "text/plain": [
       "1"
      ]
     },
     "execution_count": 196,
     "metadata": {},
     "output_type": "execute_result"
    }
   ],
   "source": [
    "s.pop()\n",
    "s.pop()\n",
    "s.pop()\n",
    "s.pop()\n",
    "s.pop()\n",
    "s.pop()\n"
   ]
  },
  {
   "cell_type": "code",
   "execution_count": 197,
   "id": "bbcf8c2f-d28d-4651-89c3-245f96ed95ed",
   "metadata": {},
   "outputs": [
    {
     "data": {
      "text/plain": [
       "[]"
      ]
     },
     "execution_count": 197,
     "metadata": {},
     "output_type": "execute_result"
    }
   ],
   "source": [
    "s.print_stack()"
   ]
  },
  {
   "cell_type": "code",
   "execution_count": 198,
   "id": "e89220a7-399c-4639-adf0-00211852b540",
   "metadata": {},
   "outputs": [
    {
     "data": {
      "text/plain": [
       "0"
      ]
     },
     "execution_count": 198,
     "metadata": {},
     "output_type": "execute_result"
    }
   ],
   "source": [
    "s.size()"
   ]
  },
  {
   "cell_type": "code",
   "execution_count": 199,
   "id": "83938970-06b2-4cc5-a3f1-a22d4f20c41e",
   "metadata": {},
   "outputs": [
    {
     "data": {
      "text/plain": [
       "'Stack is empty'"
      ]
     },
     "execution_count": 199,
     "metadata": {},
     "output_type": "execute_result"
    }
   ],
   "source": [
    "s.is_empty()"
   ]
  },
  {
   "cell_type": "code",
   "execution_count": 200,
   "id": "bc8869a7-dd40-4f4b-a0f6-823de98225f9",
   "metadata": {},
   "outputs": [
    {
     "data": {
      "text/plain": [
       "'Stack is empty'"
      ]
     },
     "execution_count": 200,
     "metadata": {},
     "output_type": "execute_result"
    }
   ],
   "source": [
    "s.pop()"
   ]
  },
  {
   "cell_type": "code",
   "execution_count": 201,
   "id": "b85f5c8b-6ea3-4870-b0ab-291027e537f8",
   "metadata": {},
   "outputs": [
    {
     "data": {
      "text/plain": [
       "'Stack is empty'"
      ]
     },
     "execution_count": 201,
     "metadata": {},
     "output_type": "execute_result"
    }
   ],
   "source": [
    "s.peek()"
   ]
  },
  {
   "cell_type": "code",
   "execution_count": null,
   "id": "d378884b-6686-4851-9c57-2d076d845da6",
   "metadata": {},
   "outputs": [],
   "source": []
  }
 ],
 "metadata": {
  "kernelspec": {
   "display_name": "Python 3",
   "language": "python",
   "name": "python3"
  },
  "language_info": {
   "codemirror_mode": {
    "name": "ipython",
    "version": 3
   },
   "file_extension": ".py",
   "mimetype": "text/x-python",
   "name": "python",
   "nbconvert_exporter": "python",
   "pygments_lexer": "ipython3",
   "version": "3.8.8"
  }
 },
 "nbformat": 4,
 "nbformat_minor": 5
}
