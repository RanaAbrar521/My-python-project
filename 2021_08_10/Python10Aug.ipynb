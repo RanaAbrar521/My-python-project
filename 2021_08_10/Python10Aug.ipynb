{
 "cells": [
  {
   "cell_type": "code",
   "execution_count": 725,
   "id": "7b86cb55",
   "metadata": {},
   "outputs": [],
   "source": [
    "# Stack\n",
    "\n",
    "class stack:\n",
    "    def __init__(self):\n",
    "        self.items = []\n",
    "    \n",
    "    def push(self,item):\n",
    "        self.items.insert(0,item)\n",
    "        \n",
    "    def pop(self):\n",
    "        if self.isEmpty == []:\n",
    "            print (\"Empty List\")\n",
    "        else:\n",
    "            return self.items.pop(0)\n",
    "        \n",
    "    def peek(self):\n",
    "        if self.isEmpty == []:\n",
    "            print (\"Empty List\")\n",
    "        else:\n",
    "            return self.items[0]\n",
    "    \n",
    "    def size(self):\n",
    "        return len(self.items)\n",
    "    \n",
    "    def print_stack(self):\n",
    "        return self.items\n",
    "    \n",
    "    def isEmpty(self):\n",
    "        return self.items == []\n",
    "    \n",
    "    def push_without_using_insert(self,item):\n",
    "            new_list = [item]\n",
    "            self.items = new_list + self.items"
   ]
  },
  {
   "cell_type": "code",
   "execution_count": 726,
   "id": "11cc3fe5",
   "metadata": {},
   "outputs": [],
   "source": [
    "a=stack()"
   ]
  },
  {
   "cell_type": "code",
   "execution_count": 727,
   "id": "a6f3a0fa",
   "metadata": {},
   "outputs": [],
   "source": [
    "a.push(10)\n",
    "a.push(20)\n",
    "a.push(30)"
   ]
  },
  {
   "cell_type": "code",
   "execution_count": 728,
   "id": "ed9e2c5d",
   "metadata": {},
   "outputs": [
    {
     "data": {
      "text/plain": [
       "[30, 20, 10]"
      ]
     },
     "execution_count": 728,
     "metadata": {},
     "output_type": "execute_result"
    }
   ],
   "source": [
    "a.print_stack()"
   ]
  },
  {
   "cell_type": "code",
   "execution_count": 729,
   "id": "81ef7938",
   "metadata": {},
   "outputs": [
    {
     "data": {
      "text/plain": [
       "3"
      ]
     },
     "execution_count": 729,
     "metadata": {},
     "output_type": "execute_result"
    }
   ],
   "source": [
    "a.size()"
   ]
  },
  {
   "cell_type": "code",
   "execution_count": 730,
   "id": "501ed770",
   "metadata": {},
   "outputs": [],
   "source": [
    "a.push_without_using_insert(40)\n",
    "a.push_without_using_insert(50)\n",
    "a.push_without_using_insert(60)"
   ]
  },
  {
   "cell_type": "code",
   "execution_count": 731,
   "id": "3628e0b9",
   "metadata": {},
   "outputs": [
    {
     "data": {
      "text/plain": [
       "[60, 50, 40, 30, 20, 10]"
      ]
     },
     "execution_count": 731,
     "metadata": {},
     "output_type": "execute_result"
    }
   ],
   "source": [
    "a.print_stack()"
   ]
  },
  {
   "cell_type": "code",
   "execution_count": 732,
   "id": "81025cb0",
   "metadata": {},
   "outputs": [
    {
     "data": {
      "text/plain": [
       "60"
      ]
     },
     "execution_count": 732,
     "metadata": {},
     "output_type": "execute_result"
    }
   ],
   "source": [
    "a.pop()"
   ]
  },
  {
   "cell_type": "code",
   "execution_count": 733,
   "id": "b138610d",
   "metadata": {},
   "outputs": [
    {
     "data": {
      "text/plain": [
       "50"
      ]
     },
     "execution_count": 733,
     "metadata": {},
     "output_type": "execute_result"
    }
   ],
   "source": [
    "a.peek()"
   ]
  },
  {
   "cell_type": "code",
   "execution_count": 734,
   "id": "8b46f025",
   "metadata": {},
   "outputs": [
    {
     "data": {
      "text/plain": [
       "[50, 40, 30, 20, 10]"
      ]
     },
     "execution_count": 734,
     "metadata": {},
     "output_type": "execute_result"
    }
   ],
   "source": [
    "a.print_stack()"
   ]
  },
  {
   "cell_type": "code",
   "execution_count": 735,
   "id": "58c39c45",
   "metadata": {},
   "outputs": [
    {
     "data": {
      "text/plain": [
       "10"
      ]
     },
     "execution_count": 735,
     "metadata": {},
     "output_type": "execute_result"
    }
   ],
   "source": [
    "a.pop()\n",
    "a.pop()\n",
    "a.pop()\n",
    "a.pop()\n",
    "a.pop()"
   ]
  },
  {
   "cell_type": "code",
   "execution_count": 736,
   "id": "9f8a8f35",
   "metadata": {},
   "outputs": [
    {
     "data": {
      "text/plain": [
       "True"
      ]
     },
     "execution_count": 736,
     "metadata": {},
     "output_type": "execute_result"
    }
   ],
   "source": [
    "a.isEmpty()"
   ]
  },
  {
   "cell_type": "code",
   "execution_count": null,
   "id": "65898459",
   "metadata": {},
   "outputs": [],
   "source": []
  }
 ],
 "metadata": {
  "kernelspec": {
   "display_name": "Python 3",
   "language": "python",
   "name": "python3"
  },
  "language_info": {
   "codemirror_mode": {
    "name": "ipython",
    "version": 3
   },
   "file_extension": ".py",
   "mimetype": "text/x-python",
   "name": "python",
   "nbconvert_exporter": "python",
   "pygments_lexer": "ipython3",
   "version": "3.7.10"
  }
 },
 "nbformat": 4,
 "nbformat_minor": 5
}
