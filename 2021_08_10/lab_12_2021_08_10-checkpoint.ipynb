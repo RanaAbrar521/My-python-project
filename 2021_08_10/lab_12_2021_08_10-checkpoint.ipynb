{
 "cells": [
  {
   "cell_type": "code",
   "execution_count": 242,
   "id": "5da79fce",
   "metadata": {},
   "outputs": [],
   "source": [
    "\n",
    "\n",
    "class Stack:\n",
    "    \n",
    "    def __init__(self):\n",
    "        self.items=[]\n",
    "        \n",
    "    def push(self,items):\n",
    "        self.items.insert(0,items)\n",
    "        \n",
    "    def pop(self):\n",
    "        if self.isEmpty():\n",
    "            \n",
    "            print('cannot pop as stack is empty')\n",
    "            \n",
    "        else:\n",
    "            \n",
    "            return self.items.pop(0)\n",
    "        \n",
    "    def peek(self):\n",
    "        if self.isEmpty():\n",
    "            print('nothing in stack')\n",
    "        else:\n",
    "            return self.items[0]\n",
    "    \n",
    "    def size(self):\n",
    "        return len(self.items)\n",
    "    \n",
    "    def print_stack(self):\n",
    "        if self.isEmpty():\n",
    "            print('stack is empty cannot push or pop')\n",
    "        \n",
    "        else:\n",
    "            return self.items\n",
    "    \n",
    "    def push_without_insert(self,items):\n",
    "        \n",
    "        insertion_list = [items]\n",
    "            \n",
    "        self.items = insertion_list + self.items\n",
    "                \n",
    "        return self.items\n",
    "        \n",
    "    \n",
    "    def isEmpty(self):\n",
    "        return len(self.items) == 0"
   ]
  },
  {
   "cell_type": "code",
   "execution_count": 243,
   "id": "6cb3fd86",
   "metadata": {},
   "outputs": [],
   "source": [
    "obj1 = Stack()"
   ]
  },
  {
   "cell_type": "code",
   "execution_count": 244,
   "id": "3869776b",
   "metadata": {},
   "outputs": [
    {
     "name": "stdout",
     "output_type": "stream",
     "text": [
      "stack is empty cannot push or pop\n"
     ]
    }
   ],
   "source": [
    "obj1.print_stack()"
   ]
  },
  {
   "cell_type": "code",
   "execution_count": 245,
   "id": "a024b58e",
   "metadata": {},
   "outputs": [],
   "source": [
    "obj1.push(6)"
   ]
  },
  {
   "cell_type": "code",
   "execution_count": 246,
   "id": "d2034b8f",
   "metadata": {},
   "outputs": [
    {
     "data": {
      "text/plain": [
       "[6]"
      ]
     },
     "execution_count": 246,
     "metadata": {},
     "output_type": "execute_result"
    }
   ],
   "source": [
    "obj1.print_stack()"
   ]
  },
  {
   "cell_type": "code",
   "execution_count": 247,
   "id": "c0a13124",
   "metadata": {},
   "outputs": [
    {
     "data": {
      "text/plain": [
       "6"
      ]
     },
     "execution_count": 247,
     "metadata": {},
     "output_type": "execute_result"
    }
   ],
   "source": [
    "obj1.pop()"
   ]
  },
  {
   "cell_type": "code",
   "execution_count": 248,
   "id": "c2787631",
   "metadata": {},
   "outputs": [
    {
     "name": "stdout",
     "output_type": "stream",
     "text": [
      "stack is empty cannot push or pop\n"
     ]
    }
   ],
   "source": [
    "obj1.print_stack()"
   ]
  },
  {
   "cell_type": "code",
   "execution_count": 249,
   "id": "5268e939",
   "metadata": {},
   "outputs": [
    {
     "name": "stdout",
     "output_type": "stream",
     "text": [
      "cannot pop as stack is empty\n"
     ]
    }
   ],
   "source": [
    "obj1.pop()"
   ]
  },
  {
   "cell_type": "code",
   "execution_count": 250,
   "id": "2ea99b41",
   "metadata": {},
   "outputs": [],
   "source": [
    "obj1.push(6)"
   ]
  },
  {
   "cell_type": "code",
   "execution_count": 251,
   "id": "6925ea88",
   "metadata": {},
   "outputs": [],
   "source": [
    "obj1.push(7)"
   ]
  },
  {
   "cell_type": "code",
   "execution_count": 252,
   "id": "851f6e45",
   "metadata": {},
   "outputs": [
    {
     "data": {
      "text/plain": [
       "[8, 7, 6]"
      ]
     },
     "execution_count": 252,
     "metadata": {},
     "output_type": "execute_result"
    }
   ],
   "source": [
    "obj1.push_without_insert(8)"
   ]
  },
  {
   "cell_type": "code",
   "execution_count": 253,
   "id": "f1265e77",
   "metadata": {},
   "outputs": [
    {
     "data": {
      "text/plain": [
       "[9, 8, 7, 6]"
      ]
     },
     "execution_count": 253,
     "metadata": {},
     "output_type": "execute_result"
    }
   ],
   "source": [
    "obj1.push_without_insert(9)"
   ]
  },
  {
   "cell_type": "code",
   "execution_count": 254,
   "id": "9633b72c",
   "metadata": {},
   "outputs": [
    {
     "data": {
      "text/plain": [
       "[10, 9, 8, 7, 6]"
      ]
     },
     "execution_count": 254,
     "metadata": {},
     "output_type": "execute_result"
    }
   ],
   "source": [
    "obj1.push_without_insert(10)"
   ]
  },
  {
   "cell_type": "code",
   "execution_count": 255,
   "id": "4e5038a9",
   "metadata": {},
   "outputs": [
    {
     "data": {
      "text/plain": [
       "[12, 10, 9, 8, 7, 6]"
      ]
     },
     "execution_count": 255,
     "metadata": {},
     "output_type": "execute_result"
    }
   ],
   "source": [
    "obj1.push_without_insert(12)"
   ]
  },
  {
   "cell_type": "code",
   "execution_count": 256,
   "id": "3f8d6e93",
   "metadata": {},
   "outputs": [
    {
     "data": {
      "text/plain": [
       "[12, 10, 9, 8, 7, 6]"
      ]
     },
     "execution_count": 256,
     "metadata": {},
     "output_type": "execute_result"
    }
   ],
   "source": [
    "obj1.print_stack()"
   ]
  },
  {
   "cell_type": "code",
   "execution_count": null,
   "id": "1b1a7d8a",
   "metadata": {},
   "outputs": [],
   "source": []
  },
  {
   "cell_type": "code",
   "execution_count": null,
   "id": "683125ec",
   "metadata": {},
   "outputs": [],
   "source": []
  }
 ],
 "metadata": {
  "kernelspec": {
   "display_name": "Python 3",
   "language": "python",
   "name": "python3"
  },
  "language_info": {
   "codemirror_mode": {
    "name": "ipython",
    "version": 3
   },
   "file_extension": ".py",
   "mimetype": "text/x-python",
   "name": "python",
   "nbconvert_exporter": "python",
   "pygments_lexer": "ipython3",
   "version": "3.8.8"
  }
 },
 "nbformat": 4,
 "nbformat_minor": 5
}
