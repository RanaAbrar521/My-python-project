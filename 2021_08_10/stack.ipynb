{
 "cells": [
  {
   "cell_type": "markdown",
   "id": "88b9bbda",
   "metadata": {},
   "source": [
    "# Q1. Create a class Stack Contains\n",
    "\n",
    "a. Items\n",
    "2. Functions\n",
    "a. push\n",
    "i. insert the item at start of the stack\n",
    "b. pop\n",
    "i. Pop first element from the stack\n",
    "c. peak\n",
    "i. Returns top element of the stack\n",
    "d. print_stack\n",
    "i. Display the entire\n",
    "e. size\n",
    "i. Return total number of items in the stack\n",
    "f. push_without_using_insert\n",
    "i. Insert the item at start of the stack without using .insert method of\n",
    "string\n",
    "\n",
    "Note: Not a single function should crash on an empty stack"
   ]
  },
  {
   "cell_type": "code",
   "execution_count": null,
   "id": "09003d19",
   "metadata": {},
   "outputs": [],
   "source": []
  },
  {
   "cell_type": "code",
   "execution_count": 17,
   "id": "bb99501d",
   "metadata": {},
   "outputs": [],
   "source": [
    "#stack class\n",
    "\n",
    "class Stack:\n",
    "#constructors\n",
    "    def __init__(self,items = 0):\n",
    "        self.items = []\n",
    "\n",
    "#function to push data   \n",
    "    def push(self,data):\n",
    "        return self.items.insert(0,data)\n",
    "    \n",
    "#function to pop(delete) data from top   \n",
    "    def pop(self, x=0):\n",
    "        if self.isEmpty():\n",
    "            pass        \n",
    "        else:\n",
    "            return self.items.pop(x)\n",
    "    \n",
    "# function to return element from peak    \n",
    "    def peak(self):\n",
    "        if self.isEmpty():\n",
    "            pass\n",
    "        else:\n",
    "            return self.items[0]\n",
    "        \n",
    "# function to print entire stack\n",
    "    def print_stack(self):\n",
    "        if self.isEmpty():\n",
    "            pass\n",
    "        else:\n",
    "            return self.items\n",
    "\n",
    "# function to print stack size    \n",
    "    def size(self):\n",
    "        if self.isEmpty():\n",
    "            pass\n",
    "        else:\n",
    "            return len(self.items)\n",
    "\n",
    "# function to print without using insert       \n",
    "    def push_without_using_insert(self, data ):\n",
    "        x = data + self.items\n",
    "        return x\n",
    "\n",
    "    \n",
    "# function to check either stack is empty or not   \n",
    "    def isEmpty(self):\n",
    "        if len(self.items) == 0:\n",
    "            return (\"Empty stack\")\n",
    "    \n",
    "         "
   ]
  },
  {
   "cell_type": "code",
   "execution_count": 18,
   "id": "e45cf423",
   "metadata": {},
   "outputs": [],
   "source": [
    "s = Stack()\n"
   ]
  },
  {
   "cell_type": "code",
   "execution_count": 78,
   "id": "0e68eedf",
   "metadata": {},
   "outputs": [],
   "source": [
    "s.push(1)\n",
    "s.push(2)\n",
    "s.push(3)\n",
    "s.push(4)\n",
    "s.push(5)"
   ]
  },
  {
   "cell_type": "code",
   "execution_count": 19,
   "id": "f916db9d",
   "metadata": {},
   "outputs": [],
   "source": [
    "s.pop()"
   ]
  },
  {
   "cell_type": "code",
   "execution_count": 4,
   "id": "cf970fcd",
   "metadata": {},
   "outputs": [],
   "source": [
    "s.print_stack()"
   ]
  },
  {
   "cell_type": "code",
   "execution_count": 5,
   "id": "5f79bf61",
   "metadata": {},
   "outputs": [],
   "source": [
    "s.peak()"
   ]
  },
  {
   "cell_type": "code",
   "execution_count": 6,
   "id": "a3ed4956",
   "metadata": {},
   "outputs": [],
   "source": [
    "s.size()"
   ]
  },
  {
   "cell_type": "code",
   "execution_count": 7,
   "id": "3f73db7c",
   "metadata": {},
   "outputs": [
    {
     "data": {
      "text/plain": [
       "[9]"
      ]
     },
     "execution_count": 7,
     "metadata": {},
     "output_type": "execute_result"
    }
   ],
   "source": [
    "s.push_without_using_insert([9])"
   ]
  },
  {
   "cell_type": "code",
   "execution_count": null,
   "id": "6885cbfe",
   "metadata": {},
   "outputs": [],
   "source": []
  },
  {
   "cell_type": "code",
   "execution_count": null,
   "id": "57b3c61e",
   "metadata": {},
   "outputs": [],
   "source": []
  }
 ],
 "metadata": {
  "kernelspec": {
   "display_name": "Python 3",
   "language": "python",
   "name": "python3"
  },
  "language_info": {
   "codemirror_mode": {
    "name": "ipython",
    "version": 3
   },
   "file_extension": ".py",
   "mimetype": "text/x-python",
   "name": "python",
   "nbconvert_exporter": "python",
   "pygments_lexer": "ipython3",
   "version": "3.8.8"
  },
  "widgets": {
   "application/vnd.jupyter.widget-state+json": {
    "state": {},
    "version_major": 2,
    "version_minor": 0
   }
  }
 },
 "nbformat": 4,
 "nbformat_minor": 5
}
