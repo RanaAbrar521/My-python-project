{
 "cells": [
  {
   "cell_type": "code",
   "execution_count": 1,
   "id": "3f8d93cc-4fc1-458d-8343-eb7f9017867d",
   "metadata": {},
   "outputs": [],
   "source": [
    "class Queue:\n",
    "    def __init__(self):\n",
    "        self.items = []\n",
    "    \n",
    "    def enqueue (self, item):\n",
    "        self.items.insert(0,item)\n",
    "        \n",
    "    def dequeue (self):\n",
    "        if len(self.items) != 0:\n",
    "            \n",
    "            return self.items.pop(-1)\n",
    "        else: \n",
    "            return (\"Queue is empty\")      \n",
    "    \n",
    "    def peek(self):\n",
    "        \n",
    "        if len(self.items) != 0:\n",
    "            \n",
    "            return self.items[-1]\n",
    "        else: \n",
    "            return (\"Queue is empty\")\n",
    "        \n",
    "    \n",
    "    def size (self):\n",
    "        return len(self.items)\n",
    "    \n",
    "    def print_queue(self):\n",
    "        if len(self.items) != 0: \n",
    "            for i in self.items:\n",
    "                print(i)\n",
    "        else:\n",
    "            return (\"Queue is empty\")\n",
    "    \n",
    "    def enqueue_without_using_insert (self,item):\n",
    "        \n",
    "        item = [item] # storing into the list\n",
    "        self.items = item + self.items #  adding both list\n",
    "        \n",
    "    def is_empty(self):\n",
    "        if len(self.items) != 0:\n",
    "            return (\"Queue is not empty\")\n",
    "        else:\n",
    "            return (\"Queue is empty\")\n",
    "             \n",
    "         "
   ]
  },
  {
   "cell_type": "code",
   "execution_count": 2,
   "id": "3fa640cb-73ae-4dd5-95ff-5480783b6a5b",
   "metadata": {},
   "outputs": [],
   "source": [
    "q = Queue()"
   ]
  },
  {
   "cell_type": "code",
   "execution_count": 3,
   "id": "f41fe5ea-1040-4324-abb7-04bc6b71db24",
   "metadata": {},
   "outputs": [],
   "source": [
    "q.enqueue(\"Ali\")\n",
    "q.enqueue(\"Asad\")\n",
    "q.enqueue(\"Hamid\")\n",
    "q.enqueue(\"Ashiq\")"
   ]
  },
  {
   "cell_type": "code",
   "execution_count": 4,
   "id": "521ff5bd-9ef0-415b-8e3c-b9c911fbad08",
   "metadata": {},
   "outputs": [
    {
     "name": "stdout",
     "output_type": "stream",
     "text": [
      "Ashiq\n",
      "Hamid\n",
      "Asad\n",
      "Ali\n"
     ]
    }
   ],
   "source": [
    "q.print_queue()"
   ]
  },
  {
   "cell_type": "code",
   "execution_count": 5,
   "id": "7e596ff3-14e3-4fbc-8372-0538ea159bfe",
   "metadata": {},
   "outputs": [
    {
     "data": {
      "text/plain": [
       "'Ali'"
      ]
     },
     "execution_count": 5,
     "metadata": {},
     "output_type": "execute_result"
    }
   ],
   "source": [
    "q.peek()"
   ]
  },
  {
   "cell_type": "code",
   "execution_count": 6,
   "id": "6bef038b-3c1a-44f8-8846-b630deedafb8",
   "metadata": {},
   "outputs": [
    {
     "data": {
      "text/plain": [
       "'Ali'"
      ]
     },
     "execution_count": 6,
     "metadata": {},
     "output_type": "execute_result"
    }
   ],
   "source": [
    "q.dequeue()"
   ]
  },
  {
   "cell_type": "code",
   "execution_count": 7,
   "id": "8fa364f7-0e7b-4342-b8d5-d855df41ff45",
   "metadata": {},
   "outputs": [
    {
     "name": "stdout",
     "output_type": "stream",
     "text": [
      "Ashiq\n",
      "Hamid\n",
      "Asad\n"
     ]
    }
   ],
   "source": [
    "q.print_queue()"
   ]
  },
  {
   "cell_type": "code",
   "execution_count": 8,
   "id": "9993eaf4-1f5d-4590-8890-e86bc35ac959",
   "metadata": {},
   "outputs": [],
   "source": [
    "q.enqueue_without_using_insert(\"Arslan\")"
   ]
  },
  {
   "cell_type": "code",
   "execution_count": 9,
   "id": "db67d7e7-1b28-410f-bb61-cb35d0318e84",
   "metadata": {},
   "outputs": [
    {
     "name": "stdout",
     "output_type": "stream",
     "text": [
      "Arslan\n",
      "Ashiq\n",
      "Hamid\n",
      "Asad\n"
     ]
    }
   ],
   "source": [
    "q.print_queue()"
   ]
  },
  {
   "cell_type": "code",
   "execution_count": 10,
   "id": "f1902d85-c902-4173-8b6f-974f5efa5eb2",
   "metadata": {},
   "outputs": [
    {
     "data": {
      "text/plain": [
       "'Asad'"
      ]
     },
     "execution_count": 10,
     "metadata": {},
     "output_type": "execute_result"
    }
   ],
   "source": [
    "q.dequeue()"
   ]
  },
  {
   "cell_type": "code",
   "execution_count": 11,
   "id": "ae731032-4707-46a2-83d0-8934f0f690ec",
   "metadata": {},
   "outputs": [
    {
     "data": {
      "text/plain": [
       "'Arslan'"
      ]
     },
     "execution_count": 11,
     "metadata": {},
     "output_type": "execute_result"
    }
   ],
   "source": [
    "q.dequeue()\n",
    "q.dequeue()\n",
    "q.dequeue()"
   ]
  },
  {
   "cell_type": "code",
   "execution_count": 12,
   "id": "d05f6d14-5069-437b-b7c9-6b3b72140189",
   "metadata": {},
   "outputs": [
    {
     "data": {
      "text/plain": [
       "'Queue is empty'"
      ]
     },
     "execution_count": 12,
     "metadata": {},
     "output_type": "execute_result"
    }
   ],
   "source": [
    "q.dequeue()"
   ]
  },
  {
   "cell_type": "code",
   "execution_count": 13,
   "id": "7b91679a-f6ae-46d0-9d22-4b11508d13d3",
   "metadata": {},
   "outputs": [
    {
     "data": {
      "text/plain": [
       "0"
      ]
     },
     "execution_count": 13,
     "metadata": {},
     "output_type": "execute_result"
    }
   ],
   "source": [
    "q.size()"
   ]
  },
  {
   "cell_type": "code",
   "execution_count": 14,
   "id": "00202418-ed32-410e-8379-5f8146b24fad",
   "metadata": {},
   "outputs": [],
   "source": [
    "q.enqueue_without_using_insert(\"Kashaf\")"
   ]
  },
  {
   "cell_type": "code",
   "execution_count": 15,
   "id": "d0734cc4-48ae-4f64-9001-a14de7ef8586",
   "metadata": {},
   "outputs": [],
   "source": [
    "q.enqueue_without_using_insert(\"Arham\")"
   ]
  },
  {
   "cell_type": "code",
   "execution_count": 16,
   "id": "d29efeb1-b684-4d13-87d9-90a1f1583c5d",
   "metadata": {},
   "outputs": [],
   "source": [
    "q.enqueue_without_using_insert(\"Maham\")\n",
    "q.enqueue_without_using_insert(\"Hafsa\")\n",
    "q.enqueue_without_using_insert(\"Asim\")"
   ]
  },
  {
   "cell_type": "code",
   "execution_count": 17,
   "id": "aca0085d-da27-4445-be22-568cdab46623",
   "metadata": {},
   "outputs": [
    {
     "name": "stdout",
     "output_type": "stream",
     "text": [
      "Asim\n",
      "Hafsa\n",
      "Maham\n",
      "Arham\n",
      "Kashaf\n"
     ]
    }
   ],
   "source": [
    "q.print_queue()"
   ]
  },
  {
   "cell_type": "code",
   "execution_count": 18,
   "id": "ee6308dd-c33f-4539-956f-223321547fd5",
   "metadata": {},
   "outputs": [
    {
     "data": {
      "text/plain": [
       "'Queue is not empty'"
      ]
     },
     "execution_count": 18,
     "metadata": {},
     "output_type": "execute_result"
    }
   ],
   "source": [
    "q.is_empty()"
   ]
  },
  {
   "cell_type": "code",
   "execution_count": 19,
   "id": "c2cd7982-ef20-4b80-aa91-785d0898698c",
   "metadata": {},
   "outputs": [
    {
     "data": {
      "text/plain": [
       "'Kashaf'"
      ]
     },
     "execution_count": 19,
     "metadata": {},
     "output_type": "execute_result"
    }
   ],
   "source": [
    "q.dequeue()"
   ]
  },
  {
   "cell_type": "code",
   "execution_count": 20,
   "id": "494159ea-26d2-4753-85ae-b6a9979954c3",
   "metadata": {},
   "outputs": [
    {
     "data": {
      "text/plain": [
       "'Asim'"
      ]
     },
     "execution_count": 20,
     "metadata": {},
     "output_type": "execute_result"
    }
   ],
   "source": [
    "q.dequeue()\n",
    "q.dequeue()\n",
    "q.dequeue()\n",
    "q.dequeue()"
   ]
  },
  {
   "cell_type": "code",
   "execution_count": 21,
   "id": "55c69755-86cc-446d-a2bd-ffa83e96299a",
   "metadata": {},
   "outputs": [
    {
     "data": {
      "text/plain": [
       "'Queue is empty'"
      ]
     },
     "execution_count": 21,
     "metadata": {},
     "output_type": "execute_result"
    }
   ],
   "source": [
    "q.print_queue()"
   ]
  },
  {
   "cell_type": "code",
   "execution_count": 22,
   "id": "dae768b9-8160-489e-960f-9fb5ab6601b6",
   "metadata": {},
   "outputs": [
    {
     "data": {
      "text/plain": [
       "'Queue is empty'"
      ]
     },
     "execution_count": 22,
     "metadata": {},
     "output_type": "execute_result"
    }
   ],
   "source": [
    "q.is_empty()"
   ]
  }
 ],
 "metadata": {
  "kernelspec": {
   "display_name": "Python 3",
   "language": "python",
   "name": "python3"
  },
  "language_info": {
   "codemirror_mode": {
    "name": "ipython",
    "version": 3
   },
   "file_extension": ".py",
   "mimetype": "text/x-python",
   "name": "python",
   "nbconvert_exporter": "python",
   "pygments_lexer": "ipython3",
   "version": "3.7.10"
  }
 },
 "nbformat": 4,
 "nbformat_minor": 5
}
