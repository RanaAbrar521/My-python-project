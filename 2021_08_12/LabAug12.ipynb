{
 "cells": [
  {
   "cell_type": "code",
   "execution_count": 290,
   "id": "34c40b5d",
   "metadata": {},
   "outputs": [],
   "source": [
    "class Queue:\n",
    "    def __init__(self):\n",
    "        self.items = []\n",
    "        \n",
    "    def enqueue(self,item):\n",
    "        self.items.insert(0,item)\n",
    "        \n",
    "    def dequeue(self):\n",
    "        if self.isEmpty() is False:\n",
    "            return self.items.pop(0)\n",
    "\n",
    "    def peek(self):\n",
    "        if self.isEmpty() is False:\n",
    "            return self.items[0]\n",
    "    \n",
    "    def size(self):\n",
    "        if self.isEmpty() is False:\n",
    "            return len(self.items)\n",
    "\n",
    "    def print_queue(self):\n",
    "        if self.isEmpty() is False:\n",
    "            for i in self.items:\n",
    "                print(i)\n",
    "            \n",
    "    def isEmpty(self):\n",
    "        return self.items == []        \n",
    "            \n",
    "    def enqueue_without_using_insert(self,item):\n",
    "            new_list = [item]\n",
    "            self.items = new_list + self.items"
   ]
  },
  {
   "cell_type": "code",
   "execution_count": 291,
   "id": "e59ac8e1",
   "metadata": {},
   "outputs": [],
   "source": [
    "a=Queue()"
   ]
  },
  {
   "cell_type": "code",
   "execution_count": 292,
   "id": "f5f710eb",
   "metadata": {},
   "outputs": [],
   "source": [
    "a.enqueue(10)\n",
    "a.enqueue(15)\n",
    "a.enqueue(20)"
   ]
  },
  {
   "cell_type": "code",
   "execution_count": 293,
   "id": "5689b9ba",
   "metadata": {},
   "outputs": [
    {
     "name": "stdout",
     "output_type": "stream",
     "text": [
      "20\n",
      "15\n",
      "10\n"
     ]
    }
   ],
   "source": [
    "a.print_queue()"
   ]
  },
  {
   "cell_type": "code",
   "execution_count": 294,
   "id": "0db80f47",
   "metadata": {},
   "outputs": [
    {
     "data": {
      "text/plain": [
       "20"
      ]
     },
     "execution_count": 294,
     "metadata": {},
     "output_type": "execute_result"
    }
   ],
   "source": [
    "a.peek()"
   ]
  },
  {
   "cell_type": "code",
   "execution_count": 295,
   "id": "0d62b10e",
   "metadata": {},
   "outputs": [],
   "source": [
    "a.enqueue_without_using_insert(55)"
   ]
  },
  {
   "cell_type": "code",
   "execution_count": 296,
   "id": "a81b64a1",
   "metadata": {},
   "outputs": [
    {
     "name": "stdout",
     "output_type": "stream",
     "text": [
      "55\n",
      "20\n",
      "15\n",
      "10\n"
     ]
    }
   ],
   "source": [
    "a.print_queue()"
   ]
  },
  {
   "cell_type": "code",
   "execution_count": 297,
   "id": "fc6e7b22",
   "metadata": {},
   "outputs": [
    {
     "data": {
      "text/plain": [
       "False"
      ]
     },
     "execution_count": 297,
     "metadata": {},
     "output_type": "execute_result"
    }
   ],
   "source": [
    "a.isEmpty()"
   ]
  },
  {
   "cell_type": "code",
   "execution_count": 298,
   "id": "cdb1e262",
   "metadata": {},
   "outputs": [
    {
     "data": {
      "text/plain": [
       "55"
      ]
     },
     "execution_count": 298,
     "metadata": {},
     "output_type": "execute_result"
    }
   ],
   "source": [
    "a.dequeue()\n"
   ]
  },
  {
   "cell_type": "code",
   "execution_count": 299,
   "id": "3f23f87e",
   "metadata": {},
   "outputs": [
    {
     "name": "stdout",
     "output_type": "stream",
     "text": [
      "20\n",
      "15\n",
      "10\n"
     ]
    }
   ],
   "source": [
    "a.print_queue()"
   ]
  },
  {
   "cell_type": "code",
   "execution_count": 300,
   "id": "7cc3e23c",
   "metadata": {},
   "outputs": [
    {
     "data": {
      "text/plain": [
       "20"
      ]
     },
     "execution_count": 300,
     "metadata": {},
     "output_type": "execute_result"
    }
   ],
   "source": [
    "a.dequeue()"
   ]
  },
  {
   "cell_type": "code",
   "execution_count": 301,
   "id": "9cc2c8ee",
   "metadata": {},
   "outputs": [
    {
     "data": {
      "text/plain": [
       "False"
      ]
     },
     "execution_count": 301,
     "metadata": {},
     "output_type": "execute_result"
    }
   ],
   "source": [
    "a.isEmpty()"
   ]
  },
  {
   "cell_type": "code",
   "execution_count": null,
   "id": "64fe207c",
   "metadata": {},
   "outputs": [],
   "source": []
  }
 ],
 "metadata": {
  "kernelspec": {
   "display_name": "Python 3",
   "language": "python",
   "name": "python3"
  },
  "language_info": {
   "codemirror_mode": {
    "name": "ipython",
    "version": 3
   },
   "file_extension": ".py",
   "mimetype": "text/x-python",
   "name": "python",
   "nbconvert_exporter": "python",
   "pygments_lexer": "ipython3",
   "version": "3.7.10"
  }
 },
 "nbformat": 4,
 "nbformat_minor": 5
}
