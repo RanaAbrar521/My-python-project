{
 "cells": [
  {
   "cell_type": "code",
   "execution_count": 302,
   "id": "b9a4fb2b",
   "metadata": {},
   "outputs": [],
   "source": [
    "class Queue:\n",
    "    def __init__(self):\n",
    "        self.items = []\n",
    "        \n",
    "    def enqueue(self,item):\n",
    "        self.items.insert(0,item)\n",
    "        \n",
    "    def dequeue(self):\n",
    "        if self.isEmpty() is False:\n",
    "            return self.items.pop(-1)\n",
    "\n",
    "    def peek(self):\n",
    "        if self.isEmpty() is False:\n",
    "            return self.items[-1]\n",
    "    \n",
    "    def size(self):\n",
    "        if self.isEmpty() is False:\n",
    "            return len(self.items)\n",
    "\n",
    "    def print_queue(self):\n",
    "        if self.isEmpty() is False:\n",
    "            for i in self.items:\n",
    "                print(i)\n",
    "            \n",
    "    def isEmpty(self):\n",
    "        return self.items == []        \n",
    "            \n",
    "    def enqueue_without_using_insert(self,item):\n",
    "            new_list = [item]\n",
    "            self.items = new_list + self.items"
   ]
  },
  {
   "cell_type": "code",
   "execution_count": 303,
   "id": "7ac51ab0",
   "metadata": {},
   "outputs": [],
   "source": [
    "a=Queue()"
   ]
  },
  {
   "cell_type": "code",
   "execution_count": 304,
   "id": "631715c9",
   "metadata": {},
   "outputs": [],
   "source": [
    "a.enqueue(10)\n",
    "a.enqueue(15)\n",
    "a.enqueue(20)"
   ]
  },
  {
   "cell_type": "code",
   "execution_count": 305,
   "id": "208bebbc",
   "metadata": {},
   "outputs": [
    {
     "name": "stdout",
     "output_type": "stream",
     "text": [
      "20\n",
      "15\n",
      "10\n"
     ]
    }
   ],
   "source": [
    "a.print_queue()"
   ]
  },
  {
   "cell_type": "code",
   "execution_count": 306,
   "id": "294237bd",
   "metadata": {},
   "outputs": [
    {
     "data": {
      "text/plain": [
       "10"
      ]
     },
     "execution_count": 306,
     "metadata": {},
     "output_type": "execute_result"
    }
   ],
   "source": [
    "a.peek()"
   ]
  },
  {
   "cell_type": "code",
   "execution_count": 307,
   "id": "a571ae51",
   "metadata": {},
   "outputs": [],
   "source": [
    "a.enqueue_without_using_insert(55)"
   ]
  },
  {
   "cell_type": "code",
   "execution_count": 308,
   "id": "e88be3be",
   "metadata": {},
   "outputs": [
    {
     "name": "stdout",
     "output_type": "stream",
     "text": [
      "55\n",
      "20\n",
      "15\n",
      "10\n"
     ]
    }
   ],
   "source": [
    "a.print_queue()"
   ]
  },
  {
   "cell_type": "code",
   "execution_count": 309,
   "id": "9a67ccf8",
   "metadata": {},
   "outputs": [
    {
     "data": {
      "text/plain": [
       "False"
      ]
     },
     "execution_count": 309,
     "metadata": {},
     "output_type": "execute_result"
    }
   ],
   "source": [
    "a.isEmpty()"
   ]
  },
  {
   "cell_type": "code",
   "execution_count": 310,
   "id": "3669a924",
   "metadata": {},
   "outputs": [
    {
     "data": {
      "text/plain": [
       "10"
      ]
     },
     "execution_count": 310,
     "metadata": {},
     "output_type": "execute_result"
    }
   ],
   "source": [
    "a.dequeue()\n"
   ]
  },
  {
   "cell_type": "code",
   "execution_count": 311,
   "id": "736cce63",
   "metadata": {},
   "outputs": [
    {
     "name": "stdout",
     "output_type": "stream",
     "text": [
      "55\n",
      "20\n",
      "15\n"
     ]
    }
   ],
   "source": [
    "a.print_queue()"
   ]
  },
  {
   "cell_type": "code",
   "execution_count": 312,
   "id": "0734b602",
   "metadata": {},
   "outputs": [
    {
     "data": {
      "text/plain": [
       "15"
      ]
     },
     "execution_count": 312,
     "metadata": {},
     "output_type": "execute_result"
    }
   ],
   "source": [
    "a.dequeue()"
   ]
  },
  {
   "cell_type": "code",
   "execution_count": 313,
   "id": "96a02c5a",
   "metadata": {},
   "outputs": [
    {
     "data": {
      "text/plain": [
       "False"
      ]
     },
     "execution_count": 313,
     "metadata": {},
     "output_type": "execute_result"
    }
   ],
   "source": [
    "a.isEmpty()"
   ]
  },
  {
   "cell_type": "code",
   "execution_count": null,
   "id": "2f1d823f",
   "metadata": {},
   "outputs": [],
   "source": []
  }
 ],
 "metadata": {
  "kernelspec": {
   "display_name": "Python 3",
   "language": "python",
   "name": "python3"
  },
  "language_info": {
   "codemirror_mode": {
    "name": "ipython",
    "version": 3
   },
   "file_extension": ".py",
   "mimetype": "text/x-python",
   "name": "python",
   "nbconvert_exporter": "python",
   "pygments_lexer": "ipython3",
   "version": "3.7.10"
  }
 },
 "nbformat": 4,
 "nbformat_minor": 5
}
