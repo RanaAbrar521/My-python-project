{
 "cells": [
  {
   "cell_type": "code",
   "execution_count": 6,
   "id": "f9ef9c77",
   "metadata": {},
   "outputs": [
    {
     "name": "stdout",
     "output_type": "stream",
     "text": [
      "Patient's BMI is: 0.000367\n",
      "Patient's BMI is: 0.000297\n",
      "Patient's BMI is: 0.000076\n"
     ]
    }
   ],
   "source": [
    "#Q1\n",
    "\n",
    "patients = [[70, 1.8], [80, 1.9], [150, 1.7]]\n",
    "def calculate_bmi(weight, height):\n",
    "    return weight / (height ** 2)\n",
    "for patient in patients:\n",
    "    weight, height = patient\n",
    "    bmi = calculate_bmi(height, weight)\n",
    "    print(\"Patient's BMI is: %f\" % bmi)"
   ]
  },
  {
   "cell_type": "code",
   "execution_count": 12,
   "id": "c36f2b0d",
   "metadata": {},
   "outputs": [
    {
     "name": "stdout",
     "output_type": "stream",
     "text": [
      "Hello, possible pirate! What's the password?New\n",
      "Greetings, hater of pirates!\n"
     ]
    }
   ],
   "source": [
    "#Q2\n",
    "\n",
    "greeting = input(\"Hello, possible pirate! What's the password?\")\n",
    "if ('Arrr') in greeting:\n",
    "    print(\"Go away, pirate.\")\n",
    "else:\n",
    "    print(\"Greetings, hater of pirates!\")"
   ]
  },
  {
   "cell_type": "code",
   "execution_count": 68,
   "id": "e128c893",
   "metadata": {},
   "outputs": [
    {
     "name": "stdout",
     "output_type": "stream",
     "text": [
      "Charles Dickens died in 1870\n",
      "William Thackeray died in 1863\n",
      "Anthony Trollope died in 1882\n",
      "Gerard Manley Hopkins died in 1889\n"
     ]
    }
   ],
   "source": [
    "#Q3\n",
    "\n",
    "authors = {\n",
    "\"Charles Dickens\": \"1870\",\n",
    "\"William Thackeray\": \"1863\",\n",
    "\"Anthony Trollope\": \"1882\",\n",
    "\"Gerard Manley Hopkins\": \"1889\"\n",
    "}\n",
    "for author in authors:\n",
    "    print (\"%s\" % author + \" died in \" + authors[author])\n"
   ]
  },
  {
   "cell_type": "code",
   "execution_count": 35,
   "id": "0e8dbf7b",
   "metadata": {},
   "outputs": [
    {
     "name": "stdout",
     "output_type": "stream",
     "text": [
      "Greetings! What is your year of origin? 1999\n",
      "That's totally the present!\n"
     ]
    }
   ],
   "source": [
    "#Q4\n",
    "\n",
    "year = int(input(\"Greetings! What is your year of origin? \"))\n",
    "if year <= 1900:\n",
    "    print ('Woah, thats the past!')\n",
    "elif year > 1900 & year < 2020:\n",
    "    print (\"That's totally the present!\")\n",
    "else:\n",
    "    print (\"Far out, that's the future!!\")"
   ]
  },
  {
   "cell_type": "code",
   "execution_count": 40,
   "id": "9f1e09e8",
   "metadata": {},
   "outputs": [
    {
     "name": "stdout",
     "output_type": "stream",
     "text": [
      "My name is Brandon Walsh\n",
      "My name is Ethan Reed\n"
     ]
    }
   ],
   "source": [
    "#Q5\n",
    "\n",
    "class Person:\n",
    "    def __init__(self, first_name, last_name):\n",
    "        self.first = first_name\n",
    "        self.last = last_name\n",
    "    def speak(self):\n",
    "        print(\"My name is \" + self.first + \" \" + self.last)\n",
    "me = Person(\"Brandon\", \"Walsh\")\n",
    "you = Person(\"Ethan\", \"Reed\")\n",
    "me.speak()\n",
    "you.speak()"
   ]
  },
  {
   "cell_type": "code",
   "execution_count": 71,
   "id": "38f264f1",
   "metadata": {},
   "outputs": [
    {
     "name": "stdout",
     "output_type": "stream",
     "text": [
      "Input exam grade one: 10\n",
      "Input exam grade two: 90\n",
      "Input exam grade three: 99\n",
      "Exam: [10, 90, 99]\n",
      "Average: 66.33333333333333\n",
      "Grade: D\n",
      "Student is passing.\n"
     ]
    }
   ],
   "source": [
    "#Q6\n",
    "\n",
    "exam_one = int(input(\"Input exam grade one: \"))\n",
    "exam_two = int(input(\"Input exam grade two: \"))\n",
    "exam_3 = int(input(\"Input exam grade three: \"))\n",
    "grades = [exam_one, exam_two, exam_3]\n",
    "sum = 0\n",
    "for grade in grades:\n",
    "    sum = sum + grade\n",
    "    avg = sum / len(grades)\n",
    "    if avg >= 90:\n",
    "        letter_grade = \"A\"\n",
    "    elif avg >= 80 and avg < 90:\n",
    "        letter_grade = \"B\"\n",
    "    elif avg > 69 and avg < 80:\n",
    "        letter_grade = \"C\"\n",
    "    elif avg <= 69 and avg >= 65:\n",
    "        letter_grade = \"D\"\n",
    "    else:\n",
    "        letter_grade = \"F\"\n",
    "\n",
    "print(\"Exam: \" + str(grades))\n",
    "print(\"Average: \" + str(avg))\n",
    "print(\"Grade: \" + letter_grade)\n",
    "if letter_grade == \"F\":\n",
    "    print (\"Student is failing.\")\n",
    "else:\n",
    "    print (\"Student is passing.\")"
   ]
  },
  {
   "cell_type": "code",
   "execution_count": null,
   "id": "90d46f06",
   "metadata": {},
   "outputs": [],
   "source": []
  }
 ],
 "metadata": {
  "kernelspec": {
   "display_name": "Python 3",
   "language": "python",
   "name": "python3"
  },
  "language_info": {
   "codemirror_mode": {
    "name": "ipython",
    "version": 3
   },
   "file_extension": ".py",
   "mimetype": "text/x-python",
   "name": "python",
   "nbconvert_exporter": "python",
   "pygments_lexer": "ipython3",
   "version": "3.8.8"
  }
 },
 "nbformat": 4,
 "nbformat_minor": 5
}
