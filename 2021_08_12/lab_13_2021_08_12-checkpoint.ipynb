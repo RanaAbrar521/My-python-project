{
 "cells": [
  {
   "cell_type": "code",
   "execution_count": 21,
   "id": "5a115ac9",
   "metadata": {},
   "outputs": [],
   "source": [
    "\n",
    "\n",
    "class Queue:\n",
    "    \n",
    "    def __init__(self):\n",
    "        \n",
    "        self.items = []\n",
    "        \n",
    "    def enqueue(self,item):\n",
    "        \n",
    "        return self.items.insert(0,item)\n",
    "    \n",
    "    def dequeue(self):\n",
    "        \n",
    "        if self.isEmpty():\n",
    "        \n",
    "            return self.items.pop() ### since pop will elimnate last value by default we dont need to assign anything inside\n",
    "    \n",
    "    def peek(self):\n",
    "        \n",
    "        if self.isEmpty():\n",
    "        \n",
    "            return self.items[-1]\n",
    "    \n",
    "    def print_queue(self):\n",
    "        \n",
    "        if self.isEmpty():\n",
    "        \n",
    "            for item in self.items:\n",
    "            \n",
    "                print(item)\n",
    "    \n",
    "    def size(self):\n",
    "        \n",
    "        return len(self.items)\n",
    "    \n",
    "    def enqueue_without_using_insert(self,item):\n",
    "        \n",
    "        lst = [item]\n",
    "        \n",
    "        self.items = lst + self.items\n",
    "        \n",
    "    def isEmpty(self):\n",
    "        \n",
    "        return self.size() > 0\n",
    "        \n",
    "        \n",
    "    "
   ]
  },
  {
   "cell_type": "code",
   "execution_count": 22,
   "id": "44333dae",
   "metadata": {},
   "outputs": [],
   "source": [
    "obj = Queue()"
   ]
  },
  {
   "cell_type": "code",
   "execution_count": 23,
   "id": "cdeab9da",
   "metadata": {},
   "outputs": [],
   "source": [
    "obj.enqueue(6)"
   ]
  },
  {
   "cell_type": "code",
   "execution_count": 24,
   "id": "c7503939",
   "metadata": {},
   "outputs": [],
   "source": [
    "obj.enqueue(8)"
   ]
  },
  {
   "cell_type": "code",
   "execution_count": 25,
   "id": "31846090",
   "metadata": {},
   "outputs": [
    {
     "data": {
      "text/plain": [
       "6"
      ]
     },
     "execution_count": 25,
     "metadata": {},
     "output_type": "execute_result"
    }
   ],
   "source": [
    "obj.dequeue()"
   ]
  },
  {
   "cell_type": "code",
   "execution_count": 26,
   "id": "de2133b8",
   "metadata": {},
   "outputs": [
    {
     "name": "stdout",
     "output_type": "stream",
     "text": [
      "8\n"
     ]
    }
   ],
   "source": [
    "obj.print_queue()"
   ]
  },
  {
   "cell_type": "code",
   "execution_count": 27,
   "id": "7d1b1449",
   "metadata": {},
   "outputs": [
    {
     "data": {
      "text/plain": [
       "8"
      ]
     },
     "execution_count": 27,
     "metadata": {},
     "output_type": "execute_result"
    }
   ],
   "source": [
    "obj.dequeue()"
   ]
  },
  {
   "cell_type": "code",
   "execution_count": 28,
   "id": "25d841e3",
   "metadata": {},
   "outputs": [],
   "source": [
    "obj.print_queue()"
   ]
  },
  {
   "cell_type": "code",
   "execution_count": 29,
   "id": "670e4ba7",
   "metadata": {},
   "outputs": [],
   "source": [
    "obj.enqueue(6)\n"
   ]
  },
  {
   "cell_type": "code",
   "execution_count": 30,
   "id": "f8f18b1d",
   "metadata": {},
   "outputs": [],
   "source": [
    "obj.enqueue(8)"
   ]
  },
  {
   "cell_type": "code",
   "execution_count": 31,
   "id": "8b4f4184",
   "metadata": {},
   "outputs": [],
   "source": [
    "obj.enqueue(10)"
   ]
  },
  {
   "cell_type": "code",
   "execution_count": 32,
   "id": "e95e85ff",
   "metadata": {},
   "outputs": [],
   "source": [
    "obj.enqueue_without_using_insert(11)"
   ]
  },
  {
   "cell_type": "code",
   "execution_count": 33,
   "id": "866c4c89",
   "metadata": {},
   "outputs": [],
   "source": [
    "obj.enqueue_without_using_insert(43)"
   ]
  },
  {
   "cell_type": "code",
   "execution_count": 34,
   "id": "b8989103",
   "metadata": {},
   "outputs": [
    {
     "data": {
      "text/plain": [
       "6"
      ]
     },
     "execution_count": 34,
     "metadata": {},
     "output_type": "execute_result"
    }
   ],
   "source": [
    "obj.peek()"
   ]
  },
  {
   "cell_type": "code",
   "execution_count": 35,
   "id": "fc9e0ea3",
   "metadata": {},
   "outputs": [
    {
     "name": "stdout",
     "output_type": "stream",
     "text": [
      "43\n",
      "11\n",
      "10\n",
      "8\n",
      "6\n"
     ]
    }
   ],
   "source": [
    "obj.print_queue()"
   ]
  },
  {
   "cell_type": "code",
   "execution_count": 36,
   "id": "6f3f6a12",
   "metadata": {},
   "outputs": [
    {
     "data": {
      "text/plain": [
       "5"
      ]
     },
     "execution_count": 36,
     "metadata": {},
     "output_type": "execute_result"
    }
   ],
   "source": [
    "obj.size()"
   ]
  },
  {
   "cell_type": "code",
   "execution_count": 37,
   "id": "0692802d",
   "metadata": {},
   "outputs": [
    {
     "data": {
      "text/plain": [
       "6"
      ]
     },
     "execution_count": 37,
     "metadata": {},
     "output_type": "execute_result"
    }
   ],
   "source": [
    "obj.dequeue()"
   ]
  },
  {
   "cell_type": "code",
   "execution_count": 38,
   "id": "c8ba3ffb",
   "metadata": {},
   "outputs": [
    {
     "name": "stdout",
     "output_type": "stream",
     "text": [
      "43\n",
      "11\n",
      "10\n",
      "8\n"
     ]
    }
   ],
   "source": [
    "obj.print_queue()"
   ]
  },
  {
   "cell_type": "code",
   "execution_count": 39,
   "id": "48db7ee3",
   "metadata": {},
   "outputs": [
    {
     "data": {
      "text/plain": [
       "8"
      ]
     },
     "execution_count": 39,
     "metadata": {},
     "output_type": "execute_result"
    }
   ],
   "source": [
    "obj.peek()"
   ]
  },
  {
   "cell_type": "code",
   "execution_count": 40,
   "id": "2995699c",
   "metadata": {},
   "outputs": [
    {
     "data": {
      "text/plain": [
       "4"
      ]
     },
     "execution_count": 40,
     "metadata": {},
     "output_type": "execute_result"
    }
   ],
   "source": [
    "obj.size()"
   ]
  },
  {
   "cell_type": "code",
   "execution_count": null,
   "id": "c26d30dc",
   "metadata": {},
   "outputs": [],
   "source": []
  }
 ],
 "metadata": {
  "kernelspec": {
   "display_name": "Python 3",
   "language": "python",
   "name": "python3"
  },
  "language_info": {
   "codemirror_mode": {
    "name": "ipython",
    "version": 3
   },
   "file_extension": ".py",
   "mimetype": "text/x-python",
   "name": "python",
   "nbconvert_exporter": "python",
   "pygments_lexer": "ipython3",
   "version": "3.8.8"
  }
 },
 "nbformat": 4,
 "nbformat_minor": 5
}
