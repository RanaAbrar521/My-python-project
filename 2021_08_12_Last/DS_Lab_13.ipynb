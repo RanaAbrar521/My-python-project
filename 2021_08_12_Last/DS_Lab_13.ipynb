{
 "cells": [
  {
   "cell_type": "markdown",
   "id": "60ec5ba3-39cc-4971-a6ed-5e331f495869",
   "metadata": {},
   "source": [
    "## Q1.\n",
    "Create a class Queue Contains\n",
    "\n",
    "a. Items\n",
    "2. Functions\n",
    "a. enqueue\n",
    "i. insert the item at start of the queue\n",
    "b. dequeue\n",
    "i. dequeue the first element from the queue\n",
    "c. peak\n",
    "i. Returns top element of the queue\n",
    "d. print_stack\n",
    "i. Display the entire queue\n",
    "e. size\n",
    "i. Return total number of items in the queue\n",
    "f. dequeue_without_using_insert\n",
    "i. Insert the item at start of the queue without using .insert method of\n",
    "string\n",
    "\n",
    "Note: Not a single function should crash on an empty Queue"
   ]
  },
  {
   "cell_type": "code",
   "execution_count": 1,
   "id": "15723778-5613-4406-9681-a222adbebdfa",
   "metadata": {},
   "outputs": [],
   "source": [
    "class Queue:\n",
    "    def __init__(self):\n",
    "        self.items = []\n",
    "    \n",
    "    def enqueue(self, item):\n",
    "        self.items.insert(0, item)\n",
    "    \n",
    "    def dequeue(self):\n",
    "        if self.is_empty() is False:\n",
    "            return self.items.pop(-1)\n",
    "    \n",
    "    def peak(self):\n",
    "        if self.is_empty() is False:\n",
    "            return self.items[-1]\n",
    "            \n",
    "    \n",
    "    def print_queue(self):\n",
    "        if self.is_empty() is False:\n",
    "            for ele in self.items:\n",
    "                print(f\"{ele}   \", end=\"\")\n",
    "    \n",
    "    def size(self):\n",
    "        return len(self.items)\n",
    "    \n",
    "    def enqueue_without_using_insert(self, item):\n",
    "        new_list = [item]\n",
    "\n",
    "        for existing_ele in self.items:\n",
    "            new_list.append(existing_ele)\n",
    "            \n",
    "        self.items = new_list\n",
    "    \n",
    "    def is_empty(self):\n",
    "        if len(self.items):\n",
    "            return False\n",
    "        else:\n",
    "            return True"
   ]
  },
  {
   "cell_type": "code",
   "execution_count": 2,
   "id": "125a46b0-d554-472b-906d-b6eb3578f2c4",
   "metadata": {},
   "outputs": [],
   "source": [
    "queue_1 = Queue()"
   ]
  },
  {
   "cell_type": "code",
   "execution_count": 3,
   "id": "312449b2-7f89-4e89-9de0-30ad11ebb733",
   "metadata": {},
   "outputs": [],
   "source": [
    "queue_1.print_queue()"
   ]
  },
  {
   "cell_type": "code",
   "execution_count": 4,
   "id": "86138b5b-852b-4bb1-a4af-049a07c18765",
   "metadata": {},
   "outputs": [
    {
     "data": {
      "text/plain": [
       "True"
      ]
     },
     "execution_count": 4,
     "metadata": {},
     "output_type": "execute_result"
    }
   ],
   "source": [
    "queue_1.is_empty()"
   ]
  },
  {
   "cell_type": "code",
   "execution_count": 5,
   "id": "1fdb60b3-3739-43d8-ac7f-45ef619861f6",
   "metadata": {},
   "outputs": [],
   "source": [
    "queue_1.peak()"
   ]
  },
  {
   "cell_type": "code",
   "execution_count": 6,
   "id": "32fbc86e-1f8c-4113-a9f3-082749bb31f2",
   "metadata": {},
   "outputs": [
    {
     "data": {
      "text/plain": [
       "0"
      ]
     },
     "execution_count": 6,
     "metadata": {},
     "output_type": "execute_result"
    }
   ],
   "source": [
    "queue_1.size()"
   ]
  },
  {
   "cell_type": "code",
   "execution_count": 7,
   "id": "02feccc3-2009-4fcc-873f-390a76028351",
   "metadata": {},
   "outputs": [],
   "source": [
    "queue_1.enqueue(\"A\")"
   ]
  },
  {
   "cell_type": "code",
   "execution_count": 8,
   "id": "6736faef-167a-4e19-a926-f4147497235e",
   "metadata": {},
   "outputs": [
    {
     "name": "stdout",
     "output_type": "stream",
     "text": [
      "A   "
     ]
    }
   ],
   "source": [
    "queue_1.print_queue()"
   ]
  },
  {
   "cell_type": "code",
   "execution_count": 9,
   "id": "2b69ff7e-c246-4a70-9e92-5e367ffc9ae0",
   "metadata": {},
   "outputs": [],
   "source": [
    "queue_1.enqueue(\"B\")"
   ]
  },
  {
   "cell_type": "code",
   "execution_count": 10,
   "id": "4bd590df-04dd-438f-908a-561425b8358e",
   "metadata": {},
   "outputs": [
    {
     "name": "stdout",
     "output_type": "stream",
     "text": [
      "B   A   "
     ]
    }
   ],
   "source": [
    "queue_1.print_queue()"
   ]
  },
  {
   "cell_type": "code",
   "execution_count": 11,
   "id": "7ba04816-32aa-49da-b8fb-496b27bf79c1",
   "metadata": {},
   "outputs": [],
   "source": [
    "queue_1.enqueue(\"C\")"
   ]
  },
  {
   "cell_type": "code",
   "execution_count": 12,
   "id": "8872c862-4eda-4451-b233-1354f3bdbb0c",
   "metadata": {},
   "outputs": [
    {
     "name": "stdout",
     "output_type": "stream",
     "text": [
      "C   B   A   "
     ]
    }
   ],
   "source": [
    "queue_1.print_queue()"
   ]
  },
  {
   "cell_type": "code",
   "execution_count": 13,
   "id": "7d34e0e0-a463-4e70-a214-f1aeeac46c41",
   "metadata": {},
   "outputs": [],
   "source": [
    "queue_1.enqueue_without_using_insert(\"X\")"
   ]
  },
  {
   "cell_type": "code",
   "execution_count": 14,
   "id": "d23ca6e8-6e27-48fd-a570-e83fd76b417b",
   "metadata": {},
   "outputs": [
    {
     "name": "stdout",
     "output_type": "stream",
     "text": [
      "X   C   B   A   "
     ]
    }
   ],
   "source": [
    "queue_1.print_queue()"
   ]
  },
  {
   "cell_type": "code",
   "execution_count": 15,
   "id": "641bdf4c-51d4-4929-8c37-1b92b7ab5069",
   "metadata": {},
   "outputs": [],
   "source": [
    "queue_1.enqueue_without_using_insert(\"Y\")"
   ]
  },
  {
   "cell_type": "code",
   "execution_count": 16,
   "id": "05f28712-c903-45d4-abaf-96d4883dcd8f",
   "metadata": {},
   "outputs": [
    {
     "name": "stdout",
     "output_type": "stream",
     "text": [
      "Y   X   C   B   A   "
     ]
    }
   ],
   "source": [
    "queue_1.print_queue()"
   ]
  },
  {
   "cell_type": "code",
   "execution_count": 17,
   "id": "c0db55e8-35fb-499b-ba77-243a4c07fca7",
   "metadata": {},
   "outputs": [],
   "source": [
    "queue_1.enqueue_without_using_insert(\"Z\")"
   ]
  },
  {
   "cell_type": "code",
   "execution_count": 18,
   "id": "cd5976f8-a744-4ad9-a88e-ea20f0596ec7",
   "metadata": {},
   "outputs": [
    {
     "name": "stdout",
     "output_type": "stream",
     "text": [
      "Z   Y   X   C   B   A   "
     ]
    }
   ],
   "source": [
    "queue_1.print_queue()"
   ]
  },
  {
   "cell_type": "code",
   "execution_count": 19,
   "id": "9cb0d8a2-a918-4f5b-abea-4243dd3ef653",
   "metadata": {},
   "outputs": [],
   "source": [
    "queue_1.enqueue(\"D\")"
   ]
  },
  {
   "cell_type": "code",
   "execution_count": 20,
   "id": "5403228e-fcad-4d13-aa0f-d01c2b75a247",
   "metadata": {},
   "outputs": [
    {
     "name": "stdout",
     "output_type": "stream",
     "text": [
      "D   Z   Y   X   C   B   A   "
     ]
    }
   ],
   "source": [
    "queue_1.print_queue()"
   ]
  },
  {
   "cell_type": "code",
   "execution_count": 21,
   "id": "f2713fc1-7a3c-4d6b-8e1a-598f1a34d656",
   "metadata": {},
   "outputs": [
    {
     "data": {
      "text/plain": [
       "'A'"
      ]
     },
     "execution_count": 21,
     "metadata": {},
     "output_type": "execute_result"
    }
   ],
   "source": [
    "queue_1.dequeue()"
   ]
  },
  {
   "cell_type": "code",
   "execution_count": 22,
   "id": "f715e69c-2c48-4445-bb06-f558c0735282",
   "metadata": {},
   "outputs": [
    {
     "name": "stdout",
     "output_type": "stream",
     "text": [
      "D   Z   Y   X   C   B   "
     ]
    }
   ],
   "source": [
    "queue_1.print_queue()"
   ]
  },
  {
   "cell_type": "code",
   "execution_count": 23,
   "id": "8c917e6b-0521-4784-8f48-19d9d838b7b1",
   "metadata": {},
   "outputs": [
    {
     "data": {
      "text/plain": [
       "'B'"
      ]
     },
     "execution_count": 23,
     "metadata": {},
     "output_type": "execute_result"
    }
   ],
   "source": [
    "queue_1.dequeue()"
   ]
  },
  {
   "cell_type": "code",
   "execution_count": 24,
   "id": "ba885447-43f0-40e8-be9c-3ab9ade51539",
   "metadata": {},
   "outputs": [
    {
     "name": "stdout",
     "output_type": "stream",
     "text": [
      "D   Z   Y   X   C   "
     ]
    }
   ],
   "source": [
    "queue_1.print_queue()"
   ]
  },
  {
   "cell_type": "code",
   "execution_count": 25,
   "id": "2c4ddcf5-852e-49b1-8cca-77fa6271ec32",
   "metadata": {},
   "outputs": [
    {
     "data": {
      "text/plain": [
       "5"
      ]
     },
     "execution_count": 25,
     "metadata": {},
     "output_type": "execute_result"
    }
   ],
   "source": [
    "queue_1.size()"
   ]
  },
  {
   "cell_type": "code",
   "execution_count": 26,
   "id": "08aa7cdd-57e0-4957-af53-01d4b6d3a896",
   "metadata": {},
   "outputs": [
    {
     "data": {
      "text/plain": [
       "False"
      ]
     },
     "execution_count": 26,
     "metadata": {},
     "output_type": "execute_result"
    }
   ],
   "source": [
    "queue_1.is_empty()"
   ]
  },
  {
   "cell_type": "code",
   "execution_count": null,
   "id": "7754c777-f466-42d2-8fe7-19aa4e2ac731",
   "metadata": {},
   "outputs": [],
   "source": [
    "queue_1.peak()"
   ]
  },
  {
   "cell_type": "code",
   "execution_count": null,
   "id": "ef7e304b-e2b8-42c8-85b1-ec5dfd31957f",
   "metadata": {},
   "outputs": [],
   "source": []
  }
 ],
 "metadata": {
  "kernelspec": {
   "display_name": "Python 3",
   "language": "python",
   "name": "python3"
  },
  "language_info": {
   "codemirror_mode": {
    "name": "ipython",
    "version": 3
   },
   "file_extension": ".py",
   "mimetype": "text/x-python",
   "name": "python",
   "nbconvert_exporter": "python",
   "pygments_lexer": "ipython3",
   "version": "3.8.8"
  }
 },
 "nbformat": 4,
 "nbformat_minor": 5
}
