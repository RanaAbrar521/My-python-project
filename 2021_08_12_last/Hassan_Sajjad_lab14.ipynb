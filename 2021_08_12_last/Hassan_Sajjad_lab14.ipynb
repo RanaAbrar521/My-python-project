{
 "cells": [
  {
   "cell_type": "code",
   "execution_count": 136,
   "id": "c405e1f3",
   "metadata": {},
   "outputs": [],
   "source": [
    "class Queue:\n",
    "    def __init__(self):\n",
    "        self.items = []\n",
    "    \n",
    "    def enqueue(self,item):\n",
    "        return self.items.insert(0,item)\n",
    "    def dequeue(self):\n",
    "        if self.is_empty() is False:\n",
    "            return self.items.pop(-1)\n",
    "    def peak(self):\n",
    "        if self.is_empty() is False:\n",
    "            return self.items[-1]\n",
    "    def print_queue(self):\n",
    "        if self.is_empty() is False:\n",
    "            for i in self.items:\n",
    "                print(i)\n",
    "    def size(self):\n",
    "        return len(self.items)\n",
    "    \n",
    "    def is_empty(self):\n",
    "        return self.items == []\n",
    "            \n",
    "    def enqueue_without_using_insert(self,data):\n",
    "        data = [data]\n",
    "        self.items = data + self.items\n",
    "        \n",
    "            "
   ]
  },
  {
   "cell_type": "code",
   "execution_count": null,
   "id": "9abdd2cd",
   "metadata": {},
   "outputs": [],
   "source": []
  },
  {
   "cell_type": "code",
   "execution_count": 137,
   "id": "e2ada979",
   "metadata": {},
   "outputs": [],
   "source": [
    "obj = Queue()"
   ]
  },
  {
   "cell_type": "code",
   "execution_count": 138,
   "id": "17cf8c7b",
   "metadata": {},
   "outputs": [],
   "source": [
    "obj.enqueue(2)\n",
    "obj.enqueue(6)\n",
    "obj.enqueue(5)\n",
    "obj.enqueue(4)\n",
    "obj.enqueue(1)"
   ]
  },
  {
   "cell_type": "code",
   "execution_count": 139,
   "id": "afb36d5b",
   "metadata": {},
   "outputs": [
    {
     "name": "stdout",
     "output_type": "stream",
     "text": [
      "1\n",
      "4\n",
      "5\n",
      "6\n",
      "2\n"
     ]
    }
   ],
   "source": [
    "obj.print_queue()"
   ]
  },
  {
   "cell_type": "code",
   "execution_count": 140,
   "id": "a463885d",
   "metadata": {},
   "outputs": [
    {
     "data": {
      "text/plain": [
       "5"
      ]
     },
     "execution_count": 140,
     "metadata": {},
     "output_type": "execute_result"
    }
   ],
   "source": [
    "obj.size()"
   ]
  },
  {
   "cell_type": "code",
   "execution_count": 141,
   "id": "2a799c88",
   "metadata": {},
   "outputs": [
    {
     "data": {
      "text/plain": [
       "2"
      ]
     },
     "execution_count": 141,
     "metadata": {},
     "output_type": "execute_result"
    }
   ],
   "source": [
    "obj.peak()"
   ]
  },
  {
   "cell_type": "code",
   "execution_count": 142,
   "id": "3d3b2164",
   "metadata": {},
   "outputs": [
    {
     "data": {
      "text/plain": [
       "2"
      ]
     },
     "execution_count": 142,
     "metadata": {},
     "output_type": "execute_result"
    }
   ],
   "source": [
    "obj.dequeue()"
   ]
  },
  {
   "cell_type": "code",
   "execution_count": 143,
   "id": "1ebfef2c",
   "metadata": {},
   "outputs": [
    {
     "data": {
      "text/plain": [
       "False"
      ]
     },
     "execution_count": 143,
     "metadata": {},
     "output_type": "execute_result"
    }
   ],
   "source": [
    "obj.is_empty()"
   ]
  },
  {
   "cell_type": "code",
   "execution_count": 144,
   "id": "6486ed4b",
   "metadata": {},
   "outputs": [],
   "source": [
    "obj.enqueue_without_using_insert(2)"
   ]
  },
  {
   "cell_type": "code",
   "execution_count": 145,
   "id": "d5475b39",
   "metadata": {},
   "outputs": [
    {
     "name": "stdout",
     "output_type": "stream",
     "text": [
      "2\n",
      "1\n",
      "4\n",
      "5\n",
      "6\n"
     ]
    }
   ],
   "source": [
    "obj.print_queue()"
   ]
  },
  {
   "cell_type": "code",
   "execution_count": 146,
   "id": "49e82670",
   "metadata": {},
   "outputs": [
    {
     "data": {
      "text/plain": [
       "6"
      ]
     },
     "execution_count": 146,
     "metadata": {},
     "output_type": "execute_result"
    }
   ],
   "source": [
    "obj.dequeue()"
   ]
  },
  {
   "cell_type": "code",
   "execution_count": 147,
   "id": "ee4286cb",
   "metadata": {},
   "outputs": [
    {
     "data": {
      "text/plain": [
       "4"
      ]
     },
     "execution_count": 147,
     "metadata": {},
     "output_type": "execute_result"
    }
   ],
   "source": [
    "obj.size()"
   ]
  },
  {
   "cell_type": "code",
   "execution_count": null,
   "id": "34ec2c9d",
   "metadata": {},
   "outputs": [],
   "source": []
  }
 ],
 "metadata": {
  "kernelspec": {
   "display_name": "Python 3 (ipykernel)",
   "language": "python",
   "name": "python3"
  },
  "language_info": {
   "codemirror_mode": {
    "name": "ipython",
    "version": 3
   },
   "file_extension": ".py",
   "mimetype": "text/x-python",
   "name": "python",
   "nbconvert_exporter": "python",
   "pygments_lexer": "ipython3",
   "version": "3.7.10"
  }
 },
 "nbformat": 4,
 "nbformat_minor": 5
}
