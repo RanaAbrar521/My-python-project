{
 "cells": [
  {
   "cell_type": "code",
   "execution_count": null,
   "metadata": {},
   "outputs": [],
   "source": [
    "#Questions\n",
    "# NO1 : Difference Between Casting and Parsing\n",
    "# NO2 : Why Capital E doesn't work in some editors\n",
    "# NO3 : Complex Data Type\n",
    "# NO4 : Is all methods Should Be learn of all strings\n",
    "\n"
   ]
  },
  {
   "cell_type": "code",
   "execution_count": 19,
   "metadata": {},
   "outputs": [],
   "source": [
    "# # NO-1\n",
    "# Write a function get_date(int) that takes a param number_of_days and if the number is\n",
    "# odd return (current_date + number_of_days) else return (current_date - number_of_days)"
   ]
  },
  {
   "cell_type": "code",
   "execution_count": 52,
   "metadata": {},
   "outputs": [],
   "source": [
    "from datetime import date\n",
    "today = date.today()\n",
    "def get_date(number_of_days):\n",
    "    if number_of_days % 2 != 0:\n",
    "        return ( int(today.strftime('%Y%m%d')) + number_of_days )\n",
    "    else:\n",
    "        return ( int(today.strftime('%Y%m%d')) - number_of_days )\n",
    "\n",
    "    "
   ]
  },
  {
   "cell_type": "code",
   "execution_count": 53,
   "metadata": {},
   "outputs": [
    {
     "data": {
      "text/plain": [
       "20210629"
      ]
     },
     "execution_count": 53,
     "metadata": {},
     "output_type": "execute_result"
    }
   ],
   "source": [
    "get_date(78)"
   ]
  },
  {
   "cell_type": "code",
   "execution_count": 49,
   "metadata": {},
   "outputs": [],
   "source": [
    "# No-2\n",
    "# Write a function stringify using map that takes a list of strings and a function and\n",
    "# converts each string into separate string"
   ]
  },
  {
   "cell_type": "code",
   "execution_count": 82,
   "metadata": {},
   "outputs": [],
   "source": [
    "input=['Noctis','Luna','Alaster','King of Light','Oracle','Divergent Warlock']\n",
    "def new(String):\n",
    "        str(input)\n",
    "        return [ char for char in String]"
   ]
  },
  {
   "cell_type": "code",
   "execution_count": 93,
   "metadata": {},
   "outputs": [],
   "source": [
    "def stringify():\n",
    "    result = map(new,input)\n",
    "    print(list(result))\n",
    "    "
   ]
  },
  {
   "cell_type": "code",
   "execution_count": 94,
   "metadata": {},
   "outputs": [
    {
     "name": "stdout",
     "output_type": "stream",
     "text": [
      "[['N', 'o', 'c', 't', 'i', 's'], ['L', 'u', 'n', 'a'], ['A', 'l', 'a', 's', 't', 'e', 'r'], ['K', 'i', 'n', 'g', ' ', 'o', 'f', ' ', 'L', 'i', 'g', 'h', 't'], ['O', 'r', 'a', 'c', 'l', 'e'], ['D', 'i', 'v', 'e', 'r', 'g', 'e', 'n', 't', ' ', 'W', 'a', 'r', 'l', 'o', 'c', 'k']]\n"
     ]
    }
   ],
   "source": [
    "stringify()"
   ]
  },
  {
   "cell_type": "code",
   "execution_count": 95,
   "metadata": {},
   "outputs": [],
   "source": [
    "# NO:3\n",
    "# Write a function string_case(list) using map that takes list of characters and return\n",
    "# tuples of tuple with containing lower and upper case of that character’s list\n",
    "# Final Output must contains unique tuples"
   ]
  },
  {
   "cell_type": "code",
   "execution_count": 100,
   "metadata": {},
   "outputs": [
    {
     "data": {
      "text/plain": [
       "('1', 'd', 's', 'v')"
      ]
     },
     "execution_count": 100,
     "metadata": {},
     "output_type": "execute_result"
    }
   ],
   "source": [
    "List = ['A','L','A','S','T','E','R']\n",
    "def string_case(list):\n",
    "    map()\n",
    "    return tuple(list)\n",
    "list = ['1','d','s','v']\n",
    "string_case(list)\n"
   ]
  },
  {
   "cell_type": "code",
   "execution_count": null,
   "metadata": {},
   "outputs": [],
   "source": []
  },
  {
   "cell_type": "code",
   "execution_count": 41,
   "metadata": {},
   "outputs": [],
   "source": [
    "# NO-4\n",
    "# Write a function str_join(list,str) that receives two parameters\n",
    "# 1. List of strings\n",
    "# 2. Single_string value\n",
    "# By using lambda and map create a new list that concatenates the list elements with a\n",
    "# string parameter"
   ]
  },
  {
   "cell_type": "code",
   "execution_count": 80,
   "metadata": {},
   "outputs": [],
   "source": [
    "list = ['a','b','c']\n",
    "String= ['@']\n",
    "def str_join(list,String):\n",
    "    concatenates=String.join(list)\n",
    "    print(concatenates)\n",
    "    function_lambda=lambda list,String:(String.join(list))\n",
    "    print(function_lambda)"
   ]
  },
  {
   "cell_type": "code",
   "execution_count": 82,
   "metadata": {},
   "outputs": [
    {
     "name": "stdout",
     "output_type": "stream",
     "text": [
      "a,@b,@c\n",
      "<function str_join.<locals>.<lambda> at 0x7f51df65ab80>\n"
     ]
    }
   ],
   "source": [
    "# str_join( ['1', '2', '3', ''],'A, ')\n",
    "var = str_join(['a','b','c'],',@')\n"
   ]
  },
  {
   "cell_type": "code",
   "execution_count": null,
   "metadata": {},
   "outputs": [],
   "source": [
    "# No-5 \n",
    "# Write a function get_city_mpg_avg, that groups the cars by number of cylinders, and\n",
    "# finding the average cty mpg for each group.\n",
    "# Output should be in the list of tuples"
   ]
  },
  {
   "cell_type": "code",
   "execution_count": 51,
   "metadata": {},
   "outputs": [],
   "source": [
    "# Function \n",
    "def get_city_mpg_avg():\n",
    "# 1. Receive Input\n",
    "    Miles_Driven = float(input('Enter the Miles Driven'))\n",
    "    Gallons_of_Gas_Used = float(input(\"Enter the Gallons of string\"))\n",
    "    float(Miles_Driven)\n",
    "    float(Gallons_of_Gas_Used)\n",
    "# 2. Process (Calculate stuff)\n",
    "    mpg = Miles_Driven / Gallons_of_Gas_Used\n",
    "# 3. Output Info\n",
    "    print(\"The Miles Per Gallon of Gas in A Car is \", mpg)\n"
   ]
  },
  {
   "cell_type": "code",
   "execution_count": 52,
   "metadata": {},
   "outputs": [
    {
     "name": "stdout",
     "output_type": "stream",
     "text": [
      "Enter the Miles Driven78\n",
      "Enter the Gallons of string78\n",
      "The Miles Per Gallon of Gas in A Car is  1.0\n"
     ]
    }
   ],
   "source": [
    "get_city_mpg_avg()"
   ]
  },
  {
   "cell_type": "code",
   "execution_count": 84,
   "metadata": {},
   "outputs": [],
   "source": [
    "# N0-6 \n",
    "# Write a function find_indexes(list,int) takes a list and integer value,\n",
    "# if the value exists in the list return the list containing all the index where that integer exists\n",
    "# else return “value don’t exist”"
   ]
  },
  {
   "cell_type": "code",
   "execution_count": 5,
   "metadata": {},
   "outputs": [],
   "source": [
    "def find_indexes(List,Int):\n",
    "    if Int in List:\n",
    "        return List == List.index(Int)\n",
    "    else:\n",
    "        return \"Value Don't Exist\"\n",
    "List = [3,344,75,86,31,31,37,65,56]"
   ]
  },
  {
   "cell_type": "code",
   "execution_count": 6,
   "metadata": {},
   "outputs": [
    {
     "data": {
      "text/plain": [
       "\"Value Don't Exist\""
      ]
     },
     "execution_count": 6,
     "metadata": {},
     "output_type": "execute_result"
    }
   ],
   "source": [
    "find_indexes(List,91)"
   ]
  },
  {
   "cell_type": "code",
   "execution_count": 7,
   "metadata": {},
   "outputs": [],
   "source": [
    "# NO:7\n",
    "# Let’s say this is the dictionary and I want you to get country name so we will pass list of keys\n",
    "# like this. [‘address’, ‘addressCountry’, ‘name’], function should return “New Zealand”. Your\n",
    "# function should be generaic, we can pass any dictionary and any list of keys according to\n",
    "# that and if the data doesn’t exist then return default value we pass when we call the\n",
    "# function."
   ]
  },
  {
   "cell_type": "code",
   "execution_count": 37,
   "metadata": {},
   "outputs": [],
   "source": [
    "Dict = {\"@context\":\"http:\\u002F\\u002Fschema.org\",\"@type\":\"LodgingBusiness\",\"name\":\"SeabreezeHolidayPark\",\"url\":\"\\u002FHotel_Review-g4475485-d2207450-Reviews-Seabreeze_Holiday_Park-Whenuakite_Coromandel_Peninsula_Waikato_Region_North_Island.html\",\"image\":\"https:\\\n",
    "u002F\\u002Fmedia-cdn.tripadvisor.com\\u002Fmedia\\u002Fphoto-s\\u002F09\\u002F66\\u002Fa0\\u002F92\\u002Fseabreeze-holiday-park.jpg\",\"priceRange\":\"$(Based on Average Nightly Rates for a Standard Room from ourPartners)\",\"aggregateRating\":{\"@type\":\"AggregateRating\",\"ratingValue\":\"3.5\",\"reviewCount\":\"152\"},\"address\":{\"@type\":\"PostalAddress\",\"streetAddress\":\"1043 Tairua Whitianga RoadSh25\",\"addressLocality\":\"Whenuakite\",\"addressRegion\":\"NorthIsland\",\"postalCode\":\"3591\",\"addressCountry\":{\"@type\":\"Country\",\"name\":\"NewZealand\"}}}"
   ]
  },
  {
   "cell_type": "code",
   "execution_count": 38,
   "metadata": {},
   "outputs": [],
   "source": [
    "def Get_Data_From_Dict(Dict):\n",
    "    for item in Dict['address']:\n",
    "        for i in item:\n",
    "            for j in i:\n",
    "                if Dict['address']['addressCountry']['name'] == 'NewZealand':\n",
    "                    return \"NewZealand\"\n",
    "                else:\n",
    "                    return \"Not Exist\"\n",
    "#     if Dict['address']['addressCountry']['name'] == 'NewZealand':\n",
    "#         return \"NewZealand\"\n"
   ]
  },
  {
   "cell_type": "code",
   "execution_count": 39,
   "metadata": {},
   "outputs": [
    {
     "data": {
      "text/plain": [
       "'NewZealand'"
      ]
     },
     "execution_count": 39,
     "metadata": {},
     "output_type": "execute_result"
    }
   ],
   "source": [
    "Get_Data_From_Dict(Dict)"
   ]
  },
  {
   "cell_type": "code",
   "execution_count": null,
   "metadata": {},
   "outputs": [],
   "source": []
  },
  {
   "cell_type": "code",
   "execution_count": null,
   "metadata": {},
   "outputs": [],
   "source": []
  }
 ],
 "metadata": {
  "kernelspec": {
   "display_name": "Python 3",
   "language": "python",
   "name": "python3"
  },
  "language_info": {
   "codemirror_mode": {
    "name": "ipython",
    "version": 3
   },
   "file_extension": ".py",
   "mimetype": "text/x-python",
   "name": "python",
   "nbconvert_exporter": "python",
   "pygments_lexer": "ipython3",
   "version": "3.8.5"
  }
 },
 "nbformat": 4,
 "nbformat_minor": 4
}
