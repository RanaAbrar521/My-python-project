{
 "cells": [
  {
   "cell_type": "code",
   "execution_count": 12,
   "metadata": {},
   "outputs": [],
   "source": [
    "class Student:\n",
    "    def __init__(self,name,batch,address,courses=[],score=[]):\n",
    "        self.name=name\n",
    "        self.batch=batch\n",
    "        self.address=address\n",
    "        self.courses=courses\n",
    "        self.score=score\n",
    "        \n",
    "        \n",
    "    def set_name(self,name):\n",
    "        self.name=name\n",
    "        \n",
    "    def set_batch(self,batch): \n",
    "        self.batch=batch\n",
    "        \n",
    "    def set_address(self,address):\n",
    "        self.address=address\n",
    "    \n",
    "    def set_courses(self,courses):\n",
    "        self.courses=courses    \n",
    "        \n",
    "    def set_score(self,score):\n",
    "        self.score=score\n",
    "        if courses in score:\n",
    "            courses.append([{\"course\": \"datascience\",\"marks\":30},{\"course\":\"python\",\"marks\":30}])\n",
    "        else:\n",
    "            print(\"Not in the list\")\n",
    "            \n",
    "        \n",
    "        \n",
    "        \n",
    "    \n",
    "    def get_name(self):\n",
    "        return self.name\n",
    "    \n",
    "    def get_batch(self):\n",
    "        return self.batch\n",
    "    \n",
    "    def get_address(self):\n",
    "        return self.address\n",
    "    \n",
    "    def get_courses(self):\n",
    "        return self.courses\n",
    "    \n",
    "    def get_score(self):\n",
    "        return self.score\n",
    "\n",
    "        "
   ]
  },
  {
   "cell_type": "code",
   "execution_count": 13,
   "metadata": {},
   "outputs": [],
   "source": [
    "obj = Student(\"AqibRehman\",2,\"House No 1376\",[\"DataScience\"],56) "
   ]
  },
  {
   "cell_type": "code",
   "execution_count": 14,
   "metadata": {},
   "outputs": [],
   "source": [
    "# ,name,batch,address,courses=[],score=[]"
   ]
  },
  {
   "cell_type": "code",
   "execution_count": 17,
   "metadata": {},
   "outputs": [],
   "source": [
    "obj.set_name(\"Aqib Rehman\")\n",
    "obj.set_batch(1)\n",
    "obj.set_address(\"Kamalia\")\n",
    "obj.set_courses(['bio','physics'])\n",
    "obj.set_score([{\"courses\": 'bio',\" marks\":30},{\"courses\":'physics',\"marks\":30} ])"
   ]
  },
  {
   "cell_type": "code",
   "execution_count": 10,
   "metadata": {},
   "outputs": [],
   "source": [
    "# # # If the course name does not existing the\n",
    "# # courses list,then it should not be inserted in \n",
    "# courses_scores list of dictionaries"
   ]
  },
  {
   "cell_type": "code",
   "execution_count": null,
   "metadata": {},
   "outputs": [],
   "source": []
  }
 ],
 "metadata": {
  "kernelspec": {
   "display_name": "Python 3",
   "language": "python",
   "name": "python3"
  },
  "language_info": {
   "codemirror_mode": {
    "name": "ipython",
    "version": 3
   },
   "file_extension": ".py",
   "mimetype": "text/x-python",
   "name": "python",
   "nbconvert_exporter": "python",
   "pygments_lexer": "ipython3",
   "version": "3.8.5"
  }
 },
 "nbformat": 4,
 "nbformat_minor": 4
}
