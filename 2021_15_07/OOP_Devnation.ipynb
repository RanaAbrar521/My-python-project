{
 "cells": [
  {
   "cell_type": "code",
   "execution_count": 1,
   "metadata": {},
   "outputs": [],
   "source": [
    "# # Q1. Create a class Student with the following getters and setters\n",
    "# 1. Constructor\n",
    "# a. Create an Object with following parameters\n",
    "# i. Name\n",
    "# ii. Batch No\n",
    "# iii. Address\n",
    "# iv. Courses (save empty List)\n",
    "# v. Courses_score (Save empty List)\n",
    "# 2. Setters\n",
    "# a. Name (Str)\n",
    "# b. Batch No (Int)\n",
    "# c. Courses (list)\n",
    "# d. Address (str)\n",
    "# e. Courses scores (list of dictionaries) (Bonus)\n",
    "# i. [{“course”: datascience,” marks”:30},{“course”:python,”marks”:30} ]\n",
    "# ii. If the course name does not exist in the courses list, then it should not\n",
    "# be inserted in courses_scores list of dictionaries\n",
    "# 3. Getters\n",
    "# a. Name\n",
    "# b. Batch No\n",
    "# c. Courses\n",
    "# d. Address\n",
    "# e. Courses Scores (Bonus)"
   ]
  },
  {
   "cell_type": "code",
   "execution_count": 11,
   "metadata": {},
   "outputs": [],
   "source": [
    "class Student:\n",
    "    def __init__(self,name,batch,address,courses=[],course_score=[]):\n",
    "        self.name = name\n",
    "        self.batch = batch\n",
    "        self.address = address\n",
    "        self.courses = courses\n",
    "        self.course_score = course_score\n",
    "  # Setters Functions\n",
    "    def set_name(self,name):\n",
    "        self.name = name \n",
    "    def set_batch(self,batch):\n",
    "        self.batch = batch\n",
    "    def set_address(self,address):\n",
    "        self.address = address\n",
    "    def set_courses(self,courses):\n",
    "        self.courses = courses\n",
    "    def set_courses_score(self,courses_score):\n",
    "        if courses in courses_score:\n",
    "            courses.append([{\"course\": \"datascience\",\"marks\":30},{\"course\":\"python\",\"marks\":30}])\n",
    "        else:\n",
    "            print(\"Not Exist in the List\")\n",
    "        #Getters\n",
    "    def get_name(self):\n",
    "        return self.name\n",
    "    def get_batch(self):\n",
    "         return self.batch\n",
    "    def get_addres(self):\n",
    "        return self.address\n",
    "    def get_courses(self):\n",
    "        return self.courses\n",
    "    def get_courses_score(self):\n",
    "        return self.course_score\n",
    "    "
   ]
  },
  {
   "cell_type": "code",
   "execution_count": null,
   "metadata": {},
   "outputs": [],
   "source": [
    "   "
   ]
  },
  {
   "cell_type": "code",
   "execution_count": 12,
   "metadata": {},
   "outputs": [],
   "source": [
    "obj = Student('Aqib',2,\"islamabad\")"
   ]
  },
  {
   "cell_type": "code",
   "execution_count": 61,
   "metadata": {},
   "outputs": [],
   "source": [
    "obj.set_name(\"Aqib Rehman PirZada\")\n",
    "obj.set_batch(2)\n",
    "obj.set_address(\"Kamalia City House No 1376/B\")\n",
    "obj.set_courses(['Python','Stat','Nlp','ML' ])\n",
    "obj.set_courses_score([{\"course\":'Python','marks':14},{\"course\":'Nlp','marks':64},{\"course\":'Stat','marks':34}])"
   ]
  },
  {
   "cell_type": "code",
   "execution_count": null,
   "metadata": {},
   "outputs": [],
   "source": [
    "obj.get_name()"
   ]
  },
  {
   "cell_type": "code",
   "execution_count": null,
   "metadata": {},
   "outputs": [],
   "source": [
    "obj.get_addres()"
   ]
  },
  {
   "cell_type": "code",
   "execution_count": null,
   "metadata": {},
   "outputs": [],
   "source": [
    "obj.get_batch()"
   ]
  },
  {
   "cell_type": "code",
   "execution_count": null,
   "metadata": {},
   "outputs": [],
   "source": [
    "obj.get_courses()"
   ]
  },
  {
   "cell_type": "code",
   "execution_count": null,
   "metadata": {},
   "outputs": [],
   "source": [
    "obj.get_courses_score()"
   ]
  },
  {
   "cell_type": "code",
   "execution_count": 62,
   "metadata": {},
   "outputs": [],
   "source": [
    "class DevnationStudent(Student):\n",
    "    def __init__(self,name,batch,address,courses=[],course_score=[]):\n",
    "        Student.__init__(self,'aqib',2,'isb',[],[])\n",
    "#         self.name = name\n",
    "#         self.batch = batch\n",
    "#         self.address = address\n",
    "#         self.courses = courses\n",
    "#         self.course_score = course_score"
   ]
  },
  {
   "cell_type": "code",
   "execution_count": 63,
   "metadata": {},
   "outputs": [],
   "source": [
    "const = DevnationStudent('Aqib',2,'isb')"
   ]
  },
  {
   "cell_type": "code",
   "execution_count": 64,
   "metadata": {},
   "outputs": [],
   "source": [
    "dic = [{'course':'datascience','marks':50},{'course':'Fullstack','marks':50}]\n",
    "# Setter Function \n",
    "def set_courses(self,courses):\n",
    "    if [\"datascience\",\"Full stack\"] in courses:\n",
    "        courses.append(['Fullstack','C++'])\n",
    "def set_courses_score(self,courses_score):\n",
    "    self.courses_score = courses_score \n",
    "    if dic in courses:\n",
    "        courses_score.append(dic)\n",
    "#duplicate"
   ]
  },
  {
   "cell_type": "code",
   "execution_count": 65,
   "metadata": {},
   "outputs": [],
   "source": [
    "#Getter of The Courses\n",
    "def get_courses(self):\n",
    "    return self.courses\n",
    "#Getter of The Marks OR The Score\n",
    "# Use Set for Avoiding The Replica's\n",
    "def get_courses_score(self):\n",
    "    return set(self.course_score)\n",
    "    "
   ]
  },
  {
   "cell_type": "code",
   "execution_count": 66,
   "metadata": {},
   "outputs": [
    {
     "data": {
      "text/plain": [
       "[]"
      ]
     },
     "execution_count": 66,
     "metadata": {},
     "output_type": "execute_result"
    }
   ],
   "source": [
    "const.get_courses()\n",
    "const.get_courses_score()"
   ]
  },
  {
   "cell_type": "code",
   "execution_count": null,
   "metadata": {},
   "outputs": [],
   "source": []
  }
 ],
 "metadata": {
  "kernelspec": {
   "display_name": "Python 3",
   "language": "python",
   "name": "python3"
  },
  "language_info": {
   "codemirror_mode": {
    "name": "ipython",
    "version": 3
   },
   "file_extension": ".py",
   "mimetype": "text/x-python",
   "name": "python",
   "nbconvert_exporter": "python",
   "pygments_lexer": "ipython3",
   "version": "3.8.5"
  }
 },
 "nbformat": 4,
 "nbformat_minor": 4
}
