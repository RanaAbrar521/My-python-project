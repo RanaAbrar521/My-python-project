{
 "cells": [
  {
   "cell_type": "code",
   "execution_count": 5,
   "metadata": {},
   "outputs": [],
   "source": [
    "# # Create a class Salary with the following getters and setters\n",
    "# 1. Constructor\n",
    "# a. Create an Object with following parameters\n",
    "# i. Monthly income\n",
    "# ii. Currency\n",
    "# iii. Type (Cash or cheque)"
   ]
  },
  {
   "cell_type": "code",
   "execution_count": 7,
   "metadata": {},
   "outputs": [],
   "source": [
    "class Salary:\n",
    "    def __init__(self,Monthly_income,Currency,Type):\n",
    "        self.Monthly_income = Monthly_income\n",
    "        self.Currency = Currency\n",
    "        self.Type = Type\n",
    "# Setters\n",
    "# a. Monthly income (Float)\n",
    "# b. Currency (string)\n",
    "# c. Type (string)\n",
    "    def set_Monthly_income(self,Monthly_income):\n",
    "        self.Monthly_income = Monthly_income\n",
    "    def set_Currency(self,Currency):\n",
    "        self.Currency = Currency\n",
    "    def set_Type(self,Type):\n",
    "        self.Type = Type\n",
    "#         Getters\n",
    "# a. Monthly income (Float)\n",
    "# b. Currency (string)\n",
    "# c. Type (string)\n",
    "# d. Annual Income\n",
    "    def Get_Monthly_income(self):\n",
    "        return self.Monthly_income\n",
    "    def Get_Currency(self):\n",
    "        return self.Currency\n",
    "    def Get_Type(self):\n",
    "        return self.Type\n",
    "    def Get_Annual_Income(self):\n",
    "        return (self.Monthly_income *12)\n",
    "obj1 = Salary(50000,'Euro','Cash')\n",
    "obj1.set_Monthly_income(5000)\n",
    "obj1.set_Currency('Euro')\n",
    "obj1.set_Type('Cash')\n"
   ]
  },
  {
   "cell_type": "code",
   "execution_count": 26,
   "metadata": {},
   "outputs": [],
   "source": [
    "#     Create a new class called Employee which has-a `Salary`\n",
    "# a. Write a constructor that takes\n",
    "# i. Monthly_income\n",
    "# ii. Currency\n",
    "# iii. Type\n",
    "# iv. Bonus\n",
    "# v. Annual Salary with empty value\n",
    "# vi. Also creates a Salary object and initialize with Monthly_income\n",
    "class Employe:\n",
    "    def __init__(self,Monthly_income,Currency,Type,Bonus,Annual_Salary):\n",
    "        self.salary = Salary(Monthly_income,Currency,Type)\n",
    "        self.Bonus = Bonus\n",
    "        self.Annual_Salary = Annual_Salary\n",
    "    def set_Annual_Salary(self,Annual_Salary):\n",
    "        self.Annual_Salary = Annual_Salary\n",
    "    def Get_Total_Annual_Salary(self):\n",
    "        return (f' Your Annual Salary is = {self.Annual_Salary+self.Bonus}€ Euros Including Bonus')\n",
    "    "
   ]
  },
  {
   "cell_type": "code",
   "execution_count": 27,
   "metadata": {},
   "outputs": [],
   "source": [
    " obj2 = Employe(50000,'euro','Cash',2500,None)"
   ]
  },
  {
   "cell_type": "code",
   "execution_count": 32,
   "metadata": {},
   "outputs": [],
   "source": [
    "obj2.set_Annual_Salary(50000)"
   ]
  },
  {
   "cell_type": "code",
   "execution_count": 33,
   "metadata": {},
   "outputs": [
    {
     "data": {
      "text/plain": [
       "' Your Annual Salary is = 52500€ Euros Including Bonus'"
      ]
     },
     "execution_count": 33,
     "metadata": {},
     "output_type": "execute_result"
    }
   ],
   "source": [
    "obj2.Get_Total_Annual_Salary()"
   ]
  },
  {
   "cell_type": "code",
   "execution_count": null,
   "metadata": {},
   "outputs": [],
   "source": [
    "    "
   ]
  },
  {
   "cell_type": "code",
   "execution_count": 29,
   "metadata": {},
   "outputs": [],
   "source": []
  },
  {
   "cell_type": "code",
   "execution_count": null,
   "metadata": {},
   "outputs": [],
   "source": []
  }
 ],
 "metadata": {
  "kernelspec": {
   "display_name": "Python 3",
   "language": "python",
   "name": "python3"
  },
  "language_info": {
   "codemirror_mode": {
    "name": "ipython",
    "version": 3
   },
   "file_extension": ".py",
   "mimetype": "text/x-python",
   "name": "python",
   "nbconvert_exporter": "python",
   "pygments_lexer": "ipython3",
   "version": "3.8.5"
  }
 },
 "nbformat": 4,
 "nbformat_minor": 4
}
