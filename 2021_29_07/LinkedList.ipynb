{
 "cells": [
  {
   "cell_type": "code",
   "execution_count": 19,
   "metadata": {},
   "outputs": [
    {
     "name": "stdout",
     "output_type": "stream",
     "text": [
      "77\n"
     ]
    }
   ],
   "source": [
    "class Node:\n",
    "  #I Make the Constructor First; of the class Node\n",
    "  def __init__(self, data): \n",
    "    self.data = data\n",
    "    self.next = None\n",
    "\n",
    "# This is my Linked List Class  \n",
    "class LinkedList:\n",
    "    def __init__(self):\n",
    "        self.head = None\n",
    "    def Add_in_begginning(self,new_data):\n",
    "        new_node = Node(new_data)\n",
    "        new_node.next = self.head\n",
    "        self.head = new_node\n",
    "        \n",
    "    def Add_at_particular_position(HEADNOD,POS,data):\n",
    "        header = HEADNOD\n",
    "        if (POS < 1):\n",
    "            print(\"The Position is not correct\")\n",
    "\n",
    "        if POS == 1:\n",
    "            newNode = Node(data)\n",
    "            newNode.nextNode = HEADNOD\n",
    "            header = newNode\n",
    "        else:\n",
    "            while (POS != 0):\n",
    "                POS -= 1\n",
    "                if (POS == 1):\n",
    "                    newNode = getNode(data)\n",
    "                    newNode.nextNode = HEADNOD.nextNode\n",
    "                    HEADNOD.nextNode = newNode\n",
    "                    break\n",
    "                HEADNOD = HEADNOD.nextNode\n",
    "                if HEADNOD == None:\n",
    "                    break\n",
    "            if POS != 1:\n",
    "                print(\"position is not correct\")\n",
    "        return header\n",
    "        \n",
    "    def Add_at_the_end(self,New_Data):\n",
    "        New_Node = Node(New_Data)\n",
    "        New_Node.next = self.head\n",
    "        self.head = New_Node\n",
    "LL = LinkedList()\n",
    "LL.head = Node(77)\n",
    "print(LL.head.data)"
   ]
  },
  {
   "cell_type": "code",
   "execution_count": null,
   "metadata": {},
   "outputs": [],
   "source": []
  }
 ],
 "metadata": {
  "kernelspec": {
   "display_name": "Python 3",
   "language": "python",
   "name": "python3"
  },
  "language_info": {
   "codemirror_mode": {
    "name": "ipython",
    "version": 3
   },
   "file_extension": ".py",
   "mimetype": "text/x-python",
   "name": "python",
   "nbconvert_exporter": "python",
   "pygments_lexer": "ipython3",
   "version": "3.8.5"
  }
 },
 "nbformat": 4,
 "nbformat_minor": 4
}
