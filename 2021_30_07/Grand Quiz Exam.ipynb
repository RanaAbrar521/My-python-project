{
 "cells": [
  {
   "cell_type": "markdown",
   "metadata": {},
   "source": [
    "# Q:No-1 "
   ]
  },
  {
   "cell_type": "code",
   "execution_count": 1,
   "metadata": {},
   "outputs": [],
   "source": [
    "# Q1. Create a function add_numbers which takes 4 parameters \n",
    "# 1. x (integer) \n",
    "# 2. y (integer) \n",
    "# 3. z (integer) \n",
    "# 4. flag (Boolean) \n",
    "# z and flag are optional parameters  \n",
    "# if function receives z then function should return the sum of x y and z else \n",
    "# return the sum of x and y  \n",
    " \n",
    "# if flag is True also print the statement  \n",
    "# “Flag is True”"
   ]
  },
  {
   "cell_type": "code",
   "execution_count": 11,
   "metadata": {},
   "outputs": [],
   "source": [
    "value = True\n",
    "def add_numbers(x,y,z,flag):\n",
    "    if z == True or False:\n",
    "        return x + y\n",
    "    if flag == True:\n",
    "        return \"Flag is True\""
   ]
  },
  {
   "cell_type": "code",
   "execution_count": 12,
   "metadata": {},
   "outputs": [
    {
     "name": "stdout",
     "output_type": "stream",
     "text": [
      "Flag is True\n"
     ]
    }
   ],
   "source": [
    "print(add_numbers(46,75,False,True))"
   ]
  },
  {
   "cell_type": "code",
   "execution_count": 13,
   "metadata": {},
   "outputs": [],
   "source": [
    "# Q2. Write a function get_datetime(int) that takes a param number_of_days and  \n",
    "# if the number is divisible by 2 returns (current_datetime + number_of_days) and \n",
    "# if number is divisible by 3 returns (current_datetime - number_of_days) \n",
    "# else return current_datetime"
   ]
  },
  {
   "cell_type": "code",
   "execution_count": 30,
   "metadata": {},
   "outputs": [],
   "source": [
    "import datetime \n",
    "today = datetime. datetime(2020, 2, 19, 12, 0, 0)\n",
    "\n",
    "def get_datetime(number_of_days):\n",
    "    if number_of_days / 2:\n",
    "        return today + number_of_days\n",
    "    elif number_of_days / 3:\n",
    "        return today - number_of_days\n",
    "    else:\n",
    "        return today "
   ]
  },
  {
   "cell_type": "code",
   "execution_count": 33,
   "metadata": {},
   "outputs": [],
   "source": [
    "get_datetime(4)"
   ]
  },
  {
   "cell_type": "code",
   "execution_count": 34,
   "metadata": {},
   "outputs": [],
   "source": [
    "# Q3. Write a function concat_lst that takes two list as a parameter and combine two list together into single list \n",
    "# and should not contains duplicate values. \n",
    "# You must use loop to solve this question"
   ]
  },
  {
   "cell_type": "code",
   "execution_count": 67,
   "metadata": {},
   "outputs": [],
   "source": [
    "list_one = [0, 1, 2, 3,3,5,5, 4]\n",
    "list_two = [5, 6, 7, 8, 7,4,5,5,9]\n",
    "\n",
    "result = []\n",
    "def concat_list(one,two):\n",
    "    for element in list_one:\n",
    "        result.append(element)\n",
    "\n",
    "    for element in list_two:\n",
    "        result.append(element)\n",
    "    print('List Before Removing the Duplicates',str(result))\n",
    "    res = []\n",
    "    [res.append(x) for x in result if x not in res]\n",
    "  \n",
    "    print (\"The List After Removing Duplicates : \" + str(res))\n",
    "#     print(result)\n"
   ]
  },
  {
   "cell_type": "code",
   "execution_count": 68,
   "metadata": {},
   "outputs": [
    {
     "name": "stdout",
     "output_type": "stream",
     "text": [
      "List Before Removing the Duplicates [0, 1, 2, 3, 3, 5, 5, 4, 5, 6, 7, 8, 7, 4, 5, 5, 9]\n",
      "The List After Removing Duplicates : [0, 1, 2, 3, 5, 4, 6, 7, 8, 9]\n"
     ]
    }
   ],
   "source": [
    "concat_list(list_one,list_two)"
   ]
  },
  {
   "cell_type": "code",
   "execution_count": 69,
   "metadata": {},
   "outputs": [],
   "source": [
    "# Q4. Write a function string_case using map that takes list of characters and return \n",
    "# List of tuples with containing lower and upper case of that character’s list \n",
    "# Final Output must contain unique tuple element\n"
   ]
  },
  {
   "cell_type": "code",
   "execution_count": null,
   "metadata": {},
   "outputs": [],
   "source": [
    "List = ['A','R','P','Z','a','r','p','z']\n",
    "def string_case():\n",
    "    return list(map(tuple,List))\n",
    "result = string_case()\n",
    "print(set(result))"
   ]
  },
  {
   "cell_type": "code",
   "execution_count": 72,
   "metadata": {},
   "outputs": [],
   "source": [
    "# # Q7. Create a class Student with the following getters and setters \n",
    "# Constructor \n",
    "# a. Create an Object with following parameters \n",
    "# i. Name \n",
    "# ii. Batch No \n",
    "# iii. Address \n",
    "# iv. Age \n",
    "# v. Father Name \n",
    "# vi. City "
   ]
  },
  {
   "cell_type": "code",
   "execution_count": 14,
   "metadata": {},
   "outputs": [],
   "source": [
    "class Student:\n",
    "    def __init__(self,Name,Batch_No,Address,Age,Father_Name,City):\n",
    "        self.Name = Name\n",
    "        self.Batch_No = Batch_No\n",
    "        self.Address = Address\n",
    "        self.Age = Age\n",
    "        self.Father_Name = Father_Name\n",
    "        self.City = City\n",
    "        # setter method\n",
    "    def set_name(self, Name):\n",
    "        self.Name = Name\n",
    "    def set_batch_no(self,Batch_No):\n",
    "        self.Batch_No = Batch_No\n",
    "    def set_address(self,Address):\n",
    "        self.Address = Address\n",
    "    def set_age(self,Age):\n",
    "        self.Age = Age\n",
    "    def set_father(self, Father_Name):\n",
    "        self.Father_Name = Father_Name\n",
    "    def set_city(self,City):\n",
    "        self.City = City\n",
    "        # Getter\n",
    "    def get_name(self):\n",
    "        return self.Name\n",
    "    def get_batch_no(self):\n",
    "        return self.Batch_No\n",
    "    def get_address(self):\n",
    "        return self.Address\n",
    "    def get_age(self):\n",
    "        return self.Age\n",
    "    def get_father(self):\n",
    "        return self.Father_Name\n",
    "    def get_city(self):\n",
    "        return self.City\n",
    "class DevNation(Student):\n",
    "    def __init__(self,Name,Batch_No,Address,Age,Father_Name,City,Courses=[],Marks=[]):\n",
    "                super().__init__(Name,Batch_No,Address,Age,Father_Name,City)\n",
    "# Setters\n",
    "    def set_courses(self,Courses):\n",
    "        return self.Courses\n",
    "    def courses_marks(self,Marks):\n",
    "        return self.Marks\n",
    "        if Courses in Marks:\n",
    "            Courses.append([{\"course\": \"datascience\",\"marks\":30},{\"course\":\"python\",\"marks\":30}])\n",
    "        else:\n",
    "            print(\"Not in the list\")\n",
    "\n",
    "\n",
    "    # Getters\n",
    "    def get_courses(self):\n",
    "        return self.Courses\n",
    "    \n",
    "    def get_marks(self):\n",
    "        return self.Marks\n",
    "# obj = Student(\"AqibRehman\",2,'house no 3',22,'Abdul Rehman',\"Islamabad\")\n",
    "# obj2 = DevNation(\"AqibRehman\",2,'house no 3',22,'Abdul Rehman',\"Islamabad\")\n"
   ]
  },
  {
   "cell_type": "code",
   "execution_count": null,
   "metadata": {},
   "outputs": [],
   "source": [
    "# Q8.  Write a function get_indices that receives the list of integers nums and an integer target, return indices of \n",
    "# the two numbers such that they add up to target. You may assume that each input would have exactly one \n",
    "# solution, and you may not use the same element twice."
   ]
  },
  {
   "cell_type": "code",
   "execution_count": 32,
   "metadata": {},
   "outputs": [],
   "source": [
    "lst = [2,4,5,6,3,9,8,1,3]\n",
    "def get_indices(num,target):\n",
    "    res_list = [i for i in range(len(lst)) if lst[i] == 3]\n",
    "    return res_list"
   ]
  },
  {
   "cell_type": "code",
   "execution_count": 33,
   "metadata": {},
   "outputs": [
    {
     "data": {
      "text/plain": [
       "[4, 8]"
      ]
     },
     "execution_count": 33,
     "metadata": {},
     "output_type": "execute_result"
    }
   ],
   "source": [
    "get_indices(lst,5)"
   ]
  },
  {
   "cell_type": "code",
   "execution_count": null,
   "metadata": {},
   "outputs": [],
   "source": [
    "# Q9.Write a function backward_number. That a receives a number and return the number in backwards "
   ]
  },
  {
   "cell_type": "code",
   "execution_count": null,
   "metadata": {},
   "outputs": [],
   "source": [
    "def revers_number():\n",
    "    Number_Input = int(input('Enter any number'))\n",
    "    Invert = 0\n",
    "    while (Number_Input>0):\n",
    "        Invert = (Invert*10) + Number_Input % 10\n",
    "        Number_Input = Number_Input//10\n",
    "    return \"\\n Reverse of entered number is = %d\" %Invert\n"
   ]
  },
  {
   "cell_type": "code",
   "execution_count": null,
   "metadata": {},
   "outputs": [],
   "source": [
    "print(revers_number())"
   ]
  },
  {
   "cell_type": "code",
   "execution_count": null,
   "metadata": {},
   "outputs": [],
   "source": [
    "# Q10. Create a function remove_duplication that takes a list and remove duplication from list."
   ]
  },
  {
   "cell_type": "code",
   "execution_count": null,
   "metadata": {},
   "outputs": [],
   "source": [
    "param_list = ['A','Q','I','B','R','D','B','C','A','R','J','k','J']\n",
    "def Remove_Duplication(List):\n",
    "    \n",
    "    print (\"The original list is : \" + str(List))\n",
    "\n",
    "\n",
    "    New_List = []\n",
    "    [New_List.append(entity) for entity in List if entity not in New_List]\n",
    "\n",
    "    # printing list after removal\n",
    "    print (\"The list after removing duplicates : \" +str(New_List))\n"
   ]
  },
  {
   "cell_type": "code",
   "execution_count": null,
   "metadata": {},
   "outputs": [],
   "source": [
    "print(Remove_Duplication(param_list))"
   ]
  },
  {
   "cell_type": "code",
   "execution_count": null,
   "metadata": {},
   "outputs": [],
   "source": []
  }
 ],
 "metadata": {
  "kernelspec": {
   "display_name": "Python 3",
   "language": "python",
   "name": "python3"
  },
  "language_info": {
   "codemirror_mode": {
    "name": "ipython",
    "version": 3
   },
   "file_extension": ".py",
   "mimetype": "text/x-python",
   "name": "python",
   "nbconvert_exporter": "python",
   "pygments_lexer": "ipython3",
   "version": "3.8.5"
  }
 },
 "nbformat": 4,
 "nbformat_minor": 4
}
