{
 "cells": [
  {
   "cell_type": "code",
   "execution_count": 6,
   "id": "568a9d49-435e-4e89-8bc5-e25ce2bf2198",
   "metadata": {},
   "outputs": [],
   "source": [
    "class Queue:\n",
    "    \n",
    "    def __init__(self):\n",
    "        self.items = []\n",
    "        \n",
    "    def size(self):\n",
    "        return len(self.items)\n",
    "        \n",
    "    def isnotempty(self):\n",
    "        return self.size() > 0\n",
    "        \n",
    "    def enqueue(self,item):\n",
    "        self.items.insert(0,item)\n",
    "        \n",
    "    def dequeue(self):\n",
    "        if self.isnotempty():\n",
    "            return self.items.pop()\n",
    "        \n",
    "    def peak(self):\n",
    "        if self.isnotempty():\n",
    "            return self.items[-1]\n",
    "        \n",
    "    def printstack(self):\n",
    "        if self.isnotempty():\n",
    "            return self.items\n",
    "        else:\n",
    "            print(\"stack is empty\")\n",
    "            \n",
    "    def enqueue_without_using_insert(self,item):\n",
    "        new_list = [item]\n",
    "        self.items = new_list + self.items"
   ]
  },
  {
   "cell_type": "code",
   "execution_count": 21,
   "id": "fabb35a8-5684-46c0-b0f7-0543d4508a5f",
   "metadata": {},
   "outputs": [],
   "source": [
    "ob = Queue()"
   ]
  },
  {
   "cell_type": "code",
   "execution_count": 22,
   "id": "ef4e5e37-1a98-4f83-be61-650d32da831d",
   "metadata": {},
   "outputs": [],
   "source": [
    "ob.enqueue(5)\n",
    "ob.enqueue(8)\n",
    "ob.enqueue(21)\n"
   ]
  },
  {
   "cell_type": "code",
   "execution_count": 23,
   "id": "0cf2f589-2024-4f3e-9897-0258a9c5d245",
   "metadata": {},
   "outputs": [
    {
     "data": {
      "text/plain": [
       "[21, 8, 5]"
      ]
     },
     "execution_count": 23,
     "metadata": {},
     "output_type": "execute_result"
    }
   ],
   "source": [
    "ob.printstack()"
   ]
  },
  {
   "cell_type": "code",
   "execution_count": 24,
   "id": "e034063e-ad7f-4ce0-ad38-a87cfcc24e05",
   "metadata": {},
   "outputs": [],
   "source": [
    "ob.enqueue_without_using_insert(29)"
   ]
  },
  {
   "cell_type": "code",
   "execution_count": 25,
   "id": "bc92d359-003b-4c8b-bfb0-20e925e99ab4",
   "metadata": {},
   "outputs": [
    {
     "data": {
      "text/plain": [
       "[29, 21, 8, 5]"
      ]
     },
     "execution_count": 25,
     "metadata": {},
     "output_type": "execute_result"
    }
   ],
   "source": [
    "ob.printstack()"
   ]
  },
  {
   "cell_type": "code",
   "execution_count": 26,
   "id": "ddf878f8-5bb1-4eee-83be-77cc702c51d3",
   "metadata": {},
   "outputs": [
    {
     "data": {
      "text/plain": [
       "5"
      ]
     },
     "execution_count": 26,
     "metadata": {},
     "output_type": "execute_result"
    }
   ],
   "source": [
    "ob.peak()"
   ]
  },
  {
   "cell_type": "code",
   "execution_count": 27,
   "id": "9ee076e0-efc0-4cde-bfdc-04bf6f00aef4",
   "metadata": {},
   "outputs": [
    {
     "data": {
      "text/plain": [
       "5"
      ]
     },
     "execution_count": 27,
     "metadata": {},
     "output_type": "execute_result"
    }
   ],
   "source": [
    "ob.dequeue()"
   ]
  },
  {
   "cell_type": "code",
   "execution_count": null,
   "id": "fdec95df-1ed5-489f-a1cd-0df69d734887",
   "metadata": {},
   "outputs": [],
   "source": []
  }
 ],
 "metadata": {
  "kernelspec": {
   "display_name": "Python 3 (ipykernel)",
   "language": "python",
   "name": "python3"
  },
  "language_info": {
   "codemirror_mode": {
    "name": "ipython",
    "version": 3
   },
   "file_extension": ".py",
   "mimetype": "text/x-python",
   "name": "python",
   "nbconvert_exporter": "python",
   "pygments_lexer": "ipython3",
   "version": "3.7.5"
  }
 },
 "nbformat": 4,
 "nbformat_minor": 5
}
