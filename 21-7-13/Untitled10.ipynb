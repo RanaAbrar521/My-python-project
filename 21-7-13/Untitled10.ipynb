{
 "cells": [
  {
   "cell_type": "code",
   "execution_count": 245,
   "id": "5d70c04d-a8ef-40bf-bdf2-84518d977fa7",
   "metadata": {},
   "outputs": [],
   "source": [
    "class Students:\n",
    "    def __init__(self,name,batch_no,adress,courses=[],courses_score=[]):\n",
    "        self.name=name\n",
    "        self.batch_no=batch_no\n",
    "        self.adress=adress\n",
    "        self.courses=courses\n",
    "        self.courses_score=courses_score\n",
    "        \n",
    "    def get_name(self):\n",
    "        return self.name\n",
    "    def get_batch_no(self):\n",
    "        return self.batch_no\n",
    "    def get_adress(self):\n",
    "        return self.adress\n",
    "    def get_courses(self):\n",
    "        return self.courses\n",
    "    def get_courses_score(self):\n",
    "        return self.courses_score\n",
    "        \n",
    "         \n",
    "    def set_name(self,x):\n",
    "        self.name=x\n",
    "    def set_batch_no(self,x):\n",
    "        self.batch_no=x\n",
    "    def set_adress(self,x):\n",
    "        self.adress=x\n",
    "    def set_courses(self,x):\n",
    "        self.courses=x\n",
    "    def set_courses_score(self,key,x):\n",
    "        if key in self.courses:\n",
    "            y={\"course\":key, \"marks\":x}\n",
    "            self.courses_score.append(y)\n",
    "        else:\n",
    "            return ('course does not exist')\n",
    "    "
   ]
  },
  {
   "cell_type": "code",
   "execution_count": null,
   "id": "a3dc1677-e9bc-42f0-b3ea-350ba3a21195",
   "metadata": {},
   "outputs": [],
   "source": []
  },
  {
   "cell_type": "code",
   "execution_count": null,
   "id": "5a92a406-2bed-4d6f-a303-6a52cf5fe203",
   "metadata": {},
   "outputs": [],
   "source": []
  },
  {
   "cell_type": "code",
   "execution_count": null,
   "id": "3719cca9-3cb9-4fee-ae58-aa5e49123591",
   "metadata": {},
   "outputs": [],
   "source": []
  },
  {
   "cell_type": "code",
   "execution_count": 246,
   "id": "0cd9d591-6d40-4de9-934b-c06e4903a6e1",
   "metadata": {},
   "outputs": [],
   "source": [
    "a = Students('Zeeshan','datascience','gulberg3',['java','css','c++'])"
   ]
  },
  {
   "cell_type": "code",
   "execution_count": 247,
   "id": "5ff7a3f1-63fc-461b-bb4c-a665d4c9bab6",
   "metadata": {},
   "outputs": [
    {
     "data": {
      "text/plain": [
       "'Zeeshan'"
      ]
     },
     "execution_count": 247,
     "metadata": {},
     "output_type": "execute_result"
    }
   ],
   "source": [
    "a.get_name()"
   ]
  },
  {
   "cell_type": "code",
   "execution_count": 248,
   "id": "51eb501d-bc44-4b16-bdbc-39f469284217",
   "metadata": {},
   "outputs": [
    {
     "data": {
      "text/plain": [
       "'datascience'"
      ]
     },
     "execution_count": 248,
     "metadata": {},
     "output_type": "execute_result"
    }
   ],
   "source": [
    "a.get_batch_no()"
   ]
  },
  {
   "cell_type": "code",
   "execution_count": 249,
   "id": "03a7c4ce-c8e6-435c-baa7-77f2fcc34df8",
   "metadata": {},
   "outputs": [],
   "source": [
    "a.set_batch_no('Python')"
   ]
  },
  {
   "cell_type": "code",
   "execution_count": 250,
   "id": "76201aa8-096d-48da-8bbe-b27ad70f6ddf",
   "metadata": {},
   "outputs": [
    {
     "data": {
      "text/plain": [
       "['java', 'css', 'c++']"
      ]
     },
     "execution_count": 250,
     "metadata": {},
     "output_type": "execute_result"
    }
   ],
   "source": [
    "a.get_courses()"
   ]
  },
  {
   "cell_type": "code",
   "execution_count": null,
   "id": "6ae4a6c3-4374-48d0-b1c5-55968a92f7fb",
   "metadata": {},
   "outputs": [],
   "source": []
  },
  {
   "cell_type": "code",
   "execution_count": 254,
   "id": "c48827be-eee1-44e9-add7-fc433d77a123",
   "metadata": {},
   "outputs": [
    {
     "data": {
      "text/plain": [
       "'course does not exist'"
      ]
     },
     "execution_count": 254,
     "metadata": {},
     "output_type": "execute_result"
    }
   ],
   "source": [
    "a.set_courses_score('html',31)"
   ]
  },
  {
   "cell_type": "code",
   "execution_count": 251,
   "id": "cae5a317-91a5-4400-9b69-8cc0adf0b7b1",
   "metadata": {},
   "outputs": [],
   "source": [
    "a.set_courses_score('java',25)"
   ]
  },
  {
   "cell_type": "code",
   "execution_count": 253,
   "id": "fa3d532e-fdbd-4059-8b31-625646a2ad24",
   "metadata": {},
   "outputs": [
    {
     "data": {
      "text/plain": [
       "[{'course': 'java', 'marks': 25}]"
      ]
     },
     "execution_count": 253,
     "metadata": {},
     "output_type": "execute_result"
    }
   ],
   "source": [
    "a.get_courses_score()"
   ]
  },
  {
   "cell_type": "code",
   "execution_count": null,
   "id": "4a1ae074-11f9-4500-949c-fe6912fa7e82",
   "metadata": {},
   "outputs": [],
   "source": []
  },
  {
   "cell_type": "code",
   "execution_count": null,
   "id": "b7a0ae19-a5a6-4836-88e1-a316735d6134",
   "metadata": {},
   "outputs": [],
   "source": []
  }
 ],
 "metadata": {
  "kernelspec": {
   "display_name": "Python 3 (ipykernel)",
   "language": "python",
   "name": "python3"
  },
  "language_info": {
   "codemirror_mode": {
    "name": "ipython",
    "version": 3
   },
   "file_extension": ".py",
   "mimetype": "text/x-python",
   "name": "python",
   "nbconvert_exporter": "python",
   "pygments_lexer": "ipython3",
   "version": "3.7.5"
  }
 },
 "nbformat": 4,
 "nbformat_minor": 5
}
