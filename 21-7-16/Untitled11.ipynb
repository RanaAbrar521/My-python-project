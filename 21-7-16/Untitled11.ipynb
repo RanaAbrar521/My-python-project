{
 "cells": [
  {
   "cell_type": "code",
   "execution_count": 147,
   "id": "af7d9c1c-a7dd-4ad6-943a-5662ebfc7673",
   "metadata": {},
   "outputs": [],
   "source": [
    "class Salary:\n",
    "    ##constructor\n",
    "    def __init__(self,monthly_income,currency,_type):\n",
    "        self.monthly_income=monthly_income\n",
    "        self.currency=currency\n",
    "        self._type=_type\n",
    "        \n",
    "    ##setters\n",
    "    \n",
    "    def set_monthly_income(self,x):\n",
    "        self.monthly_income=float(x)\n",
    "        \n",
    "    def set_currency(self,x):\n",
    "        self.currency=str(x)\n",
    "    \n",
    "    def set_type(self,x):\n",
    "        self._type=str(x)\n",
    "        \n",
    "        ##Getters\n",
    "        \n",
    "    def get_monthly_income(self):\n",
    "        return self.monthly_income\n",
    "    \n",
    "    def get_currency(self):\n",
    "        return self.currency\n",
    "    \n",
    "    def get_type(self):\n",
    "        return self._type\n",
    "    \n",
    "    def get_annual_income(self):\n",
    "        return self.monthly_income*12\n",
    "    \n",
    "    ##Class Employee\n",
    "    ##constructor\n",
    "    \n",
    "class Employee:\n",
    "    def __init__(self, monthly_income, currency, _type, bonus, annual_salary=0):\n",
    "        self.class_Salary=Salary(monthly_income,currency,_type)\n",
    "        self.bonus=bonus\n",
    "        self.annual_salary=annual_salary\n",
    "        \n",
    "        ##setter\n",
    "        \n",
    "    def set_annual_salary(self):\n",
    "        y=self.class_Salary.get_annual_income()\n",
    "        self.annual_salary = y + self.bonus\n",
    "        return self.annual_salary\n",
    "        \n",
    "        ##getter\n",
    "        \n",
    "    def get_annual_salary(self):\n",
    "        return f\"annual salary is'{self.annual_salary} {self.class_Salary.get_currency()} 'including'{self.bonus}'Annual Bonus\"\n",
    "            "
   ]
  },
  {
   "cell_type": "code",
   "execution_count": 148,
   "id": "253b9321-abcd-46e3-bb55-33d563687d06",
   "metadata": {},
   "outputs": [],
   "source": [
    "a=Salary(50000,'Pkr','Cash')"
   ]
  },
  {
   "cell_type": "code",
   "execution_count": 149,
   "id": "1f6b0793-e035-49a5-8b51-2daf54562166",
   "metadata": {},
   "outputs": [
    {
     "data": {
      "text/plain": [
       "600000"
      ]
     },
     "execution_count": 149,
     "metadata": {},
     "output_type": "execute_result"
    }
   ],
   "source": [
    "a.get_annual_income()"
   ]
  },
  {
   "cell_type": "code",
   "execution_count": null,
   "id": "c068d89c-6ca6-483b-a8d2-d3730580a8b8",
   "metadata": {},
   "outputs": [],
   "source": []
  },
  {
   "cell_type": "code",
   "execution_count": 150,
   "id": "77a0b6eb-88b0-43c7-8dd1-25b2b9f7ab9f",
   "metadata": {},
   "outputs": [],
   "source": [
    "b=Employee(50000,'pkr','cash',5000)"
   ]
  },
  {
   "cell_type": "code",
   "execution_count": 151,
   "id": "c3fd146d-2794-4463-b602-b6c6a594e00d",
   "metadata": {},
   "outputs": [
    {
     "data": {
      "text/plain": [
       "<__main__.Employee at 0x1d6c6d7f208>"
      ]
     },
     "execution_count": 151,
     "metadata": {},
     "output_type": "execute_result"
    }
   ],
   "source": [
    "Employee(5000,'pkr','cash',500)"
   ]
  },
  {
   "cell_type": "code",
   "execution_count": 152,
   "id": "2d275a3f-994c-4dbc-bbd1-80e23186e049",
   "metadata": {},
   "outputs": [
    {
     "data": {
      "text/plain": [
       "605000"
      ]
     },
     "execution_count": 152,
     "metadata": {},
     "output_type": "execute_result"
    }
   ],
   "source": [
    "b.set_annual_salary()"
   ]
  },
  {
   "cell_type": "code",
   "execution_count": 153,
   "id": "2df6a5a5-d808-4630-a5ee-5d4bea0e72a8",
   "metadata": {},
   "outputs": [
    {
     "data": {
      "text/plain": [
       "\"annual salary is'605000 pkr 'including'5000'Annual Bonus\""
      ]
     },
     "execution_count": 153,
     "metadata": {},
     "output_type": "execute_result"
    }
   ],
   "source": [
    "b.get_annual_salary()"
   ]
  },
  {
   "cell_type": "code",
   "execution_count": null,
   "id": "ee7fb3f3-e1f7-475d-a83e-b75624ae4fda",
   "metadata": {},
   "outputs": [],
   "source": []
  }
 ],
 "metadata": {
  "kernelspec": {
   "display_name": "Python 3 (ipykernel)",
   "language": "python",
   "name": "python3"
  },
  "language_info": {
   "codemirror_mode": {
    "name": "ipython",
    "version": 3
   },
   "file_extension": ".py",
   "mimetype": "text/x-python",
   "name": "python",
   "nbconvert_exporter": "python",
   "pygments_lexer": "ipython3",
   "version": "3.7.5"
  }
 },
 "nbformat": 4,
 "nbformat_minor": 5
}
