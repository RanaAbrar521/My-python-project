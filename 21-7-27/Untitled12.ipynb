{
 "cells": [
  {
   "cell_type": "code",
   "execution_count": 64,
   "id": "474802fe-923a-42b1-95ff-406029c50b9d",
   "metadata": {},
   "outputs": [],
   "source": [
    "class myType:\n",
    "    \n",
    "    def __new__(cls,a,b):\n",
    "        if a<500:\n",
    "            inst=object.__new__(cls)\n",
    "            return inst\n",
    "        \n",
    "    def __init__(self, a, b):\n",
    "        self.a = a\n",
    "        self.b = b\n",
    "    \n",
    "    def __add__(self, other):\n",
    "        x = self.a + other.a\n",
    "        y = self.b + other.b\n",
    "        return (x,y)\n",
    "    \n",
    "    def __sub__(self, other):\n",
    "        x = self.a - other.a\n",
    "        y = self.b - other.b\n",
    "        return (x,y)\n",
    "    \n",
    "    def __gt__(self, other):\n",
    "        if self.a > other.a and self.b > other.b:\n",
    "            return True\n",
    "        else:\n",
    "            return False\n",
    "    \n",
    "    def __lt__(self, other):\n",
    "        if self.a < other.a and self.b < other.b:\n",
    "            return True\n",
    "        else:\n",
    "            return False"
   ]
  },
  {
   "cell_type": "code",
   "execution_count": 65,
   "id": "72012e7f-6101-420b-b916-2d68d413252e",
   "metadata": {},
   "outputs": [],
   "source": [
    "T1 = myType(412,94)"
   ]
  },
  {
   "cell_type": "code",
   "execution_count": 66,
   "id": "a73fe140-f07f-4363-9f24-8c79f39d825a",
   "metadata": {},
   "outputs": [],
   "source": [
    "T2 = myType(55,349)"
   ]
  },
  {
   "cell_type": "code",
   "execution_count": 67,
   "id": "1e0048a9-5d53-4594-aa04-27071db2a2b4",
   "metadata": {},
   "outputs": [
    {
     "data": {
      "text/plain": [
       "(467, 443)"
      ]
     },
     "execution_count": 67,
     "metadata": {},
     "output_type": "execute_result"
    }
   ],
   "source": [
    "myType.__add__(T1,T2)"
   ]
  },
  {
   "cell_type": "code",
   "execution_count": 68,
   "id": "6aa3b356-8075-4972-8e7e-101aa84e4e29",
   "metadata": {},
   "outputs": [
    {
     "data": {
      "text/plain": [
       "(357, -255)"
      ]
     },
     "execution_count": 68,
     "metadata": {},
     "output_type": "execute_result"
    }
   ],
   "source": [
    "myType.__sub__(T1,T2)"
   ]
  },
  {
   "cell_type": "code",
   "execution_count": 69,
   "id": "670fdf0c-f577-45f0-a328-473375980b19",
   "metadata": {},
   "outputs": [
    {
     "data": {
      "text/plain": [
       "False"
      ]
     },
     "execution_count": 69,
     "metadata": {},
     "output_type": "execute_result"
    }
   ],
   "source": [
    "myType.__gt__(T1,T2)"
   ]
  },
  {
   "cell_type": "code",
   "execution_count": 70,
   "id": "bc67a1db-370c-4a0d-9e89-d79f493975bd",
   "metadata": {},
   "outputs": [
    {
     "data": {
      "text/plain": [
       "False"
      ]
     },
     "execution_count": 70,
     "metadata": {},
     "output_type": "execute_result"
    }
   ],
   "source": [
    "myType.__lt__(T1,T2)"
   ]
  },
  {
   "cell_type": "code",
   "execution_count": null,
   "id": "13c6b107-549c-4ded-b813-35a4c643877d",
   "metadata": {},
   "outputs": [],
   "source": []
  }
 ],
 "metadata": {
  "kernelspec": {
   "display_name": "Python 3 (ipykernel)",
   "language": "python",
   "name": "python3"
  },
  "language_info": {
   "codemirror_mode": {
    "name": "ipython",
    "version": 3
   },
   "file_extension": ".py",
   "mimetype": "text/x-python",
   "name": "python",
   "nbconvert_exporter": "python",
   "pygments_lexer": "ipython3",
   "version": "3.7.5"
  }
 },
 "nbformat": 4,
 "nbformat_minor": 5
}
