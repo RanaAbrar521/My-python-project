{
 "cells": [
  {
   "cell_type": "code",
   "execution_count": 124,
   "id": "2141060b-cc61-454a-a642-097049b6773a",
   "metadata": {},
   "outputs": [],
   "source": [
    "class Node:\n",
    "    def __init__(self, data):\n",
    "        self.data = data\n",
    "        self.next = None\n",
    "class LinkedList:\n",
    "    \n",
    "    def __init__(self):\n",
    "        self.head = None\n",
    "        \n",
    "    def add_in_beginning(self,new_data):\n",
    "        new_node = Node(new_data)\n",
    "        new_node.next = self.head\n",
    "        self.head = new_node\n",
    "    \n",
    "    def print_linkedlist(self):\n",
    "        ll = self.head\n",
    "        while(ll):\n",
    "            print(ll.data)\n",
    "            ll = ll.next\n",
    "    \n",
    "    def add_at_the_end(self, new_data):\n",
    "        new_node = Node(new_data)\n",
    "        if self.head is None:\n",
    "            self.head = new_node\n",
    "        else:\n",
    "            last = self.head\n",
    "            while(last.next):\n",
    "                last = last.next\n",
    "            last.next = new_node\n",
    "            \n",
    "    def add_at_particular_position(self, new_data, p_value):\n",
    "        new_node = Node(new_data)\n",
    "        mid = self.head\n",
    "        counter = 0\n",
    "        while(mid.next):\n",
    "            mid = mid.next\n",
    "            counter += 1\n",
    "            if counter == p_value:\n",
    "                new_node.next = mid.next\n",
    "                mid.next = new_node\n",
    "        \n",
    "        "
   ]
  },
  {
   "cell_type": "code",
   "execution_count": 125,
   "id": "b355000f-41c3-492b-b04b-dce0baaad5e0",
   "metadata": {},
   "outputs": [],
   "source": [
    "l1 = LinkedList()"
   ]
  },
  {
   "cell_type": "code",
   "execution_count": 132,
   "id": "561cf876-e7d0-4457-96ae-310e4b39c9d1",
   "metadata": {},
   "outputs": [],
   "source": [
    "l1.add_in_beginning(1)\n",
    "l1.add_in_beginning(2)\n",
    "l1.add_in_beginning(3)\n"
   ]
  },
  {
   "cell_type": "code",
   "execution_count": 133,
   "id": "accfddbd-78de-4570-8b08-fd9235aaa678",
   "metadata": {},
   "outputs": [
    {
     "name": "stdout",
     "output_type": "stream",
     "text": [
      "3\n",
      "2\n",
      "1\n",
      "3\n",
      "2\n",
      "1\n",
      "3\n",
      "2\n",
      "1\n",
      "9\n",
      "7\n"
     ]
    }
   ],
   "source": [
    "l1.print_linkedlist()"
   ]
  },
  {
   "cell_type": "code",
   "execution_count": 134,
   "id": "26115aee-f6c3-44f4-a8ce-5dfa795ce465",
   "metadata": {},
   "outputs": [],
   "source": [
    "l1.add_at_the_end(7)"
   ]
  },
  {
   "cell_type": "code",
   "execution_count": 135,
   "id": "de587126-6c9d-4ea3-bba8-5a78b1773e1b",
   "metadata": {},
   "outputs": [],
   "source": [
    "l1.add_at_particular_position(55,3)"
   ]
  },
  {
   "cell_type": "code",
   "execution_count": 136,
   "id": "b2eae8a6-46ac-4c1d-80fa-e51ffc1d5685",
   "metadata": {},
   "outputs": [
    {
     "name": "stdout",
     "output_type": "stream",
     "text": [
      "3\n",
      "2\n",
      "1\n",
      "3\n",
      "55\n",
      "2\n",
      "1\n",
      "3\n",
      "2\n",
      "1\n",
      "9\n",
      "7\n",
      "7\n"
     ]
    }
   ],
   "source": [
    "l1.print_linkedlist()"
   ]
  },
  {
   "cell_type": "code",
   "execution_count": null,
   "id": "36200cb4-fcd7-4412-aa3b-6c4348b333ec",
   "metadata": {},
   "outputs": [],
   "source": []
  }
 ],
 "metadata": {
  "kernelspec": {
   "display_name": "Python 3 (ipykernel)",
   "language": "python",
   "name": "python3"
  },
  "language_info": {
   "codemirror_mode": {
    "name": "ipython",
    "version": 3
   },
   "file_extension": ".py",
   "mimetype": "text/x-python",
   "name": "python",
   "nbconvert_exporter": "python",
   "pygments_lexer": "ipython3",
   "version": "3.7.5"
  }
 },
 "nbformat": 4,
 "nbformat_minor": 5
}
