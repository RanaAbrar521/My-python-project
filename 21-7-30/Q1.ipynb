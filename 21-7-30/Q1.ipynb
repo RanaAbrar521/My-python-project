{
 "cells": [
  {
   "cell_type": "code",
   "execution_count": 13,
   "id": "3bab1259-1c4b-4c2d-a0b2-6671ae427d9b",
   "metadata": {},
   "outputs": [],
   "source": [
    "def add_numbers(x,y,z=0,flag=False):\n",
    "    if flag is True:\n",
    "        print(\"flag is True\")\n",
    "    if z == 0:\n",
    "        return (x + y)\n",
    "    else:\n",
    "        return (x + y + z)\n",
    "    \n",
    "    "
   ]
  },
  {
   "cell_type": "code",
   "execution_count": 14,
   "id": "e3592fc6-2b3e-4db1-8810-a5f198e21c53",
   "metadata": {},
   "outputs": [
    {
     "name": "stdout",
     "output_type": "stream",
     "text": [
      "flag is True\n"
     ]
    },
    {
     "data": {
      "text/plain": [
       "16"
      ]
     },
     "execution_count": 14,
     "metadata": {},
     "output_type": "execute_result"
    }
   ],
   "source": [
    "add_numbers(4,5,7,True)"
   ]
  },
  {
   "cell_type": "code",
   "execution_count": null,
   "id": "e2a62615-d880-4b26-85d1-f717cafc82f3",
   "metadata": {},
   "outputs": [],
   "source": []
  }
 ],
 "metadata": {
  "kernelspec": {
   "display_name": "Python 3 (ipykernel)",
   "language": "python",
   "name": "python3"
  },
  "language_info": {
   "codemirror_mode": {
    "name": "ipython",
    "version": 3
   },
   "file_extension": ".py",
   "mimetype": "text/x-python",
   "name": "python",
   "nbconvert_exporter": "python",
   "pygments_lexer": "ipython3",
   "version": "3.7.5"
  }
 },
 "nbformat": 4,
 "nbformat_minor": 5
}
