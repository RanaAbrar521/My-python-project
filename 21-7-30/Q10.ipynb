{
 "cells": [
  {
   "cell_type": "code",
   "execution_count": 1,
   "id": "f7b94b9c-2bf9-4773-b71b-8584b862e564",
   "metadata": {},
   "outputs": [],
   "source": [
    "def remove_duplication(x):\n",
    "    new_list=[]\n",
    "    for i in x:\n",
    "        if i not in new_list:\n",
    "            new_list.append(i)\n",
    "    return new_list"
   ]
  },
  {
   "cell_type": "code",
   "execution_count": 2,
   "id": "1a993857-71fd-4322-bf9c-d93bdd8a18bb",
   "metadata": {},
   "outputs": [],
   "source": [
    "s1=[1,1,1,2,3,4,4,5,6]"
   ]
  },
  {
   "cell_type": "code",
   "execution_count": 3,
   "id": "724dada5-b3d9-46d8-a088-76365ef401ef",
   "metadata": {},
   "outputs": [
    {
     "data": {
      "text/plain": [
       "[1, 2, 3, 4, 5, 6]"
      ]
     },
     "execution_count": 3,
     "metadata": {},
     "output_type": "execute_result"
    }
   ],
   "source": [
    "remove_duplication(s1)"
   ]
  },
  {
   "cell_type": "code",
   "execution_count": null,
   "id": "68528088-64f8-453b-9c52-b84d3670918c",
   "metadata": {},
   "outputs": [],
   "source": []
  }
 ],
 "metadata": {
  "kernelspec": {
   "display_name": "Python 3 (ipykernel)",
   "language": "python",
   "name": "python3"
  },
  "language_info": {
   "codemirror_mode": {
    "name": "ipython",
    "version": 3
   },
   "file_extension": ".py",
   "mimetype": "text/x-python",
   "name": "python",
   "nbconvert_exporter": "python",
   "pygments_lexer": "ipython3",
   "version": "3.7.5"
  }
 },
 "nbformat": 4,
 "nbformat_minor": 5
}
