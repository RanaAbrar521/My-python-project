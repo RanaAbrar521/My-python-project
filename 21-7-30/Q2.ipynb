{
 "cells": [
  {
   "cell_type": "code",
   "execution_count": 7,
   "id": "b67c3a8e-8d48-47cd-8211-86d8334ed099",
   "metadata": {},
   "outputs": [],
   "source": [
    "import time as tm\n",
    "import datetime as dt\n",
    "from datetime import timedelta "
   ]
  },
  {
   "cell_type": "code",
   "execution_count": 15,
   "id": "76a47240-c5ce-4357-ab7b-45f21e6e2be8",
   "metadata": {},
   "outputs": [],
   "source": [
    "def get_datetime(number_of_days):\n",
    "    if number_of_days %2 == 0:\n",
    "        return (dt.date.today() + timedelta(number_of_days))\n",
    "    elif number_of_days %3 == 0:\n",
    "        return (dt.date.today() - timedelta(number_of_days))\n",
    "    else:\n",
    "        return dt.date.today()"
   ]
  },
  {
   "cell_type": "code",
   "execution_count": 16,
   "id": "9f7bfb4f-73bf-4441-a4a2-1be062ff3c7f",
   "metadata": {},
   "outputs": [
    {
     "data": {
      "text/plain": [
       "datetime.date(2021, 7, 21)"
      ]
     },
     "execution_count": 16,
     "metadata": {},
     "output_type": "execute_result"
    }
   ],
   "source": [
    "get_datetime(9)"
   ]
  },
  {
   "cell_type": "code",
   "execution_count": null,
   "id": "bb8f7ada-9ffd-41e4-8cff-bbdcfa9a312c",
   "metadata": {},
   "outputs": [],
   "source": []
  }
 ],
 "metadata": {
  "kernelspec": {
   "display_name": "Python 3 (ipykernel)",
   "language": "python",
   "name": "python3"
  },
  "language_info": {
   "codemirror_mode": {
    "name": "ipython",
    "version": 3
   },
   "file_extension": ".py",
   "mimetype": "text/x-python",
   "name": "python",
   "nbconvert_exporter": "python",
   "pygments_lexer": "ipython3",
   "version": "3.7.5"
  }
 },
 "nbformat": 4,
 "nbformat_minor": 5
}
