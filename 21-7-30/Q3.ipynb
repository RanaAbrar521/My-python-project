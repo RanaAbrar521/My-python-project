{
 "cells": [
  {
   "cell_type": "code",
   "execution_count": 9,
   "id": "d3d6e2cb-e029-47eb-b277-3b90f1ea5062",
   "metadata": {},
   "outputs": [],
   "source": [
    "def concat_list(x,y):\n",
    "    for i in x:\n",
    "        y.append(i)\n",
    "        \n",
    "    new_list=[]\n",
    "    for i in y:\n",
    "        if i not in new_list:\n",
    "            new_list.append(i)\n",
    "    return new_list"
   ]
  },
  {
   "cell_type": "code",
   "execution_count": 10,
   "id": "20379623-a657-4fd7-9be7-b77fec86d438",
   "metadata": {},
   "outputs": [],
   "source": [
    "sample1=[1,2,3,4,5,6]\n",
    "sample2=[4,5,6,7,8,9,10]"
   ]
  },
  {
   "cell_type": "code",
   "execution_count": 12,
   "id": "040a116a-6f3e-4492-9658-c6f1919a048e",
   "metadata": {},
   "outputs": [
    {
     "data": {
      "text/plain": [
       "[4, 5, 6, 7, 8, 9, 10, 1, 2, 3]"
      ]
     },
     "execution_count": 12,
     "metadata": {},
     "output_type": "execute_result"
    }
   ],
   "source": [
    "concat_list(sample1,sample2)"
   ]
  },
  {
   "cell_type": "code",
   "execution_count": null,
   "id": "9be6700c-ed5a-48c7-9ede-c881bf6ac1e8",
   "metadata": {},
   "outputs": [],
   "source": []
  }
 ],
 "metadata": {
  "kernelspec": {
   "display_name": "Python 3 (ipykernel)",
   "language": "python",
   "name": "python3"
  },
  "language_info": {
   "codemirror_mode": {
    "name": "ipython",
    "version": 3
   },
   "file_extension": ".py",
   "mimetype": "text/x-python",
   "name": "python",
   "nbconvert_exporter": "python",
   "pygments_lexer": "ipython3",
   "version": "3.7.5"
  }
 },
 "nbformat": 4,
 "nbformat_minor": 5
}
