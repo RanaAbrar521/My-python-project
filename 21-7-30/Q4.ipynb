{
 "cells": [
  {
   "cell_type": "code",
   "execution_count": 61,
   "id": "97585f2f-862a-42f1-8211-625c3d913c72",
   "metadata": {},
   "outputs": [],
   "source": [
    "def string_case(x):\n",
    "    a = x.lower()\n",
    "    b = x.upper()\n",
    "    c = a+b\n",
    "    return c"
   ]
  },
  {
   "cell_type": "code",
   "execution_count": 62,
   "id": "661b70f9-f259-4c71-a97e-2967660aad5e",
   "metadata": {},
   "outputs": [],
   "source": [
    "sample= [\"a\",\"a\",\"B\",\"C\",\"F\"]"
   ]
  },
  {
   "cell_type": "code",
   "execution_count": 64,
   "id": "8249edab-31a3-4562-affb-ad91ffd46078",
   "metadata": {},
   "outputs": [
    {
     "data": {
      "text/plain": [
       "('bB', 'fF', 'cC', 'aA')"
      ]
     },
     "execution_count": 64,
     "metadata": {},
     "output_type": "execute_result"
    }
   ],
   "source": [
    "tuple(set(map(string_case,sample)))"
   ]
  },
  {
   "cell_type": "code",
   "execution_count": null,
   "id": "a60ae954-1cb3-47f3-b4f7-695157558bf0",
   "metadata": {},
   "outputs": [],
   "source": []
  }
 ],
 "metadata": {
  "kernelspec": {
   "display_name": "Python 3 (ipykernel)",
   "language": "python",
   "name": "python3"
  },
  "language_info": {
   "codemirror_mode": {
    "name": "ipython",
    "version": 3
   },
   "file_extension": ".py",
   "mimetype": "text/x-python",
   "name": "python",
   "nbconvert_exporter": "python",
   "pygments_lexer": "ipython3",
   "version": "3.7.5"
  }
 },
 "nbformat": 4,
 "nbformat_minor": 5
}
