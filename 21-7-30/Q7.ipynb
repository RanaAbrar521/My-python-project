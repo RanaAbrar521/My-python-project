{
 "cells": [
  {
   "cell_type": "code",
   "execution_count": 48,
   "id": "825b5d01-0386-4d61-8d23-84e46a20e89e",
   "metadata": {},
   "outputs": [],
   "source": [
    "class Students:\n",
    "    def __new__(cls,name,batch_no,adress,age,fathers_name,city):\n",
    "        accepted_cities = ['Islamabad','Karachi','Faisalabad','Lahore']\n",
    "        if age<=18 and city in accepted_cities:\n",
    "            inst=object.__new__(cls)\n",
    "            return inst\n",
    "            \n",
    "    def __init__(self,name,batch_no,adress,age,fathers_name,city):\n",
    "        self.name=name\n",
    "        self.batch_no=batch_no\n",
    "        self.adress=adress\n",
    "        self.age=age\n",
    "        self.fathers_name=fathers_name\n",
    "        self.city=city\n",
    "        \n",
    "    def get_name(self):\n",
    "        return self.name\n",
    "    def get_batch_no(self):\n",
    "        return self.batch_no\n",
    "    def get_adress(self):\n",
    "        return self.adress\n",
    "    def get_age(self):\n",
    "        return self.age\n",
    "    def get_fathers_name(self):\n",
    "        return self.fathers_name\n",
    "    def get_city(self):\n",
    "        return self.city\n",
    "        \n",
    "         \n",
    "    def set_name(self,x):\n",
    "        self.name=x\n",
    "    def set_batch_no(self,x):\n",
    "        self.batch_no=x\n",
    "    def set_adress(self,x):\n",
    "        self.adress=x\n",
    "    def set_age(self,x):\n",
    "        self.age=x\n",
    "    def set_fathers_name(self,x):\n",
    "        self.fathers_name = x\n",
    "    def set_city(self,x):\n",
    "        self.city = x\n",
    "        \n",
    "class DevnationStudents:\n",
    "    def __init__(self,name,batch_no,adress,age,fathers_name,city,courses=[],course_marks=[]):\n",
    "        self.class_Students = Students(name,batch_no,adress,age,fathers_name,city)\n",
    "        self.courses = courses\n",
    "        self.course_marks = course_marks\n",
    "        \n",
    "    def set_courses(self,x):\n",
    "        self.courses=x\n",
    "    def set_course_marks(self,key,x):\n",
    "        if key in self.courses:\n",
    "            y={\"course\":key, \"marks\":x}\n",
    "            self.course_marks.append(y)\n",
    "    \n",
    "    def get_courses(self):\n",
    "        return self.courses\n",
    "    def get_course_marks(self):\n",
    "        return self.course_marks\n",
    "    "
   ]
  },
  {
   "cell_type": "code",
   "execution_count": 49,
   "id": "fe117ae1-2886-4a14-b6ba-8352d19134b8",
   "metadata": {},
   "outputs": [],
   "source": [
    "T1 = DevnationStudents('z','d','e',21,'f','Karachi',['s','f','g'],[45,78,31])"
   ]
  },
  {
   "cell_type": "code",
   "execution_count": 50,
   "id": "3ec998b3-bcf6-4a17-ba8f-84d4142b47e7",
   "metadata": {},
   "outputs": [
    {
     "data": {
      "text/plain": [
       "['s', 'f', 'g']"
      ]
     },
     "execution_count": 50,
     "metadata": {},
     "output_type": "execute_result"
    }
   ],
   "source": [
    "T1.get_courses()"
   ]
  },
  {
   "cell_type": "code",
   "execution_count": 51,
   "id": "9330d222-f01c-483b-af3a-4d1b9cc6299d",
   "metadata": {},
   "outputs": [
    {
     "data": {
      "text/plain": [
       "[45, 78, 31]"
      ]
     },
     "execution_count": 51,
     "metadata": {},
     "output_type": "execute_result"
    }
   ],
   "source": [
    "T1.get_course_marks()"
   ]
  },
  {
   "cell_type": "code",
   "execution_count": 52,
   "id": "a655122f-5284-47e9-b3eb-67ad7dedb0bd",
   "metadata": {},
   "outputs": [],
   "source": [
    "T1.set_course_marks('s',91)"
   ]
  },
  {
   "cell_type": "code",
   "execution_count": 53,
   "id": "a67c7e3c-5b47-4d66-96fb-62f583ab5d74",
   "metadata": {},
   "outputs": [
    {
     "data": {
      "text/plain": [
       "[45, 78, 31, {'course': 's', 'marks': 91}]"
      ]
     },
     "execution_count": 53,
     "metadata": {},
     "output_type": "execute_result"
    }
   ],
   "source": [
    "T1.get_course_marks()"
   ]
  },
  {
   "cell_type": "code",
   "execution_count": 55,
   "id": "f73e5d24-5885-4ea9-9359-6f30fbaec18b",
   "metadata": {},
   "outputs": [],
   "source": [
    "T2 = Students('a','b','c',21,'e','f')"
   ]
  },
  {
   "cell_type": "code",
   "execution_count": 56,
   "id": "100aa9df-d840-454d-8fe5-7c08e0af9684",
   "metadata": {},
   "outputs": [
    {
     "ename": "AttributeError",
     "evalue": "'NoneType' object has no attribute 'get_name'",
     "output_type": "error",
     "traceback": [
      "\u001b[1;31m---------------------------------------------------------------------------\u001b[0m",
      "\u001b[1;31mAttributeError\u001b[0m                            Traceback (most recent call last)",
      "\u001b[1;32m~\\AppData\\Local\\Temp/ipykernel_18352/1760115731.py\u001b[0m in \u001b[0;36m<module>\u001b[1;34m\u001b[0m\n\u001b[1;32m----> 1\u001b[1;33m \u001b[0mT2\u001b[0m\u001b[1;33m.\u001b[0m\u001b[0mget_name\u001b[0m\u001b[1;33m(\u001b[0m\u001b[1;33m)\u001b[0m\u001b[1;33m\u001b[0m\u001b[1;33m\u001b[0m\u001b[0m\n\u001b[0m",
      "\u001b[1;31mAttributeError\u001b[0m: 'NoneType' object has no attribute 'get_name'"
     ]
    }
   ],
   "source": [
    "T2.get_name()"
   ]
  },
  {
   "cell_type": "code",
   "execution_count": null,
   "id": "bf46d022-4112-4ae8-bc52-3d11183c53ec",
   "metadata": {},
   "outputs": [],
   "source": []
  }
 ],
 "metadata": {
  "kernelspec": {
   "display_name": "Python 3 (ipykernel)",
   "language": "python",
   "name": "python3"
  },
  "language_info": {
   "codemirror_mode": {
    "name": "ipython",
    "version": 3
   },
   "file_extension": ".py",
   "mimetype": "text/x-python",
   "name": "python",
   "nbconvert_exporter": "python",
   "pygments_lexer": "ipython3",
   "version": "3.7.5"
  }
 },
 "nbformat": 4,
 "nbformat_minor": 5
}
