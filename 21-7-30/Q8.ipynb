{
 "cells": [
  {
   "cell_type": "code",
   "execution_count": 36,
   "id": "53b66307-905b-4256-8e53-747f35553d5c",
   "metadata": {},
   "outputs": [],
   "source": [
    "def get_indices(x,y):\n",
    "    for i in range(len(x)+1):\n",
    "        for j in range(len(x)):\n",
    "            if i==j:\n",
    "                continue\n",
    "            if (x[i] + x[j]) == y:\n",
    "                return [i,j]\n",
    "            "
   ]
  },
  {
   "cell_type": "code",
   "execution_count": 37,
   "id": "fe342e41-f7fa-46a5-80ef-d136086b8808",
   "metadata": {},
   "outputs": [],
   "source": [
    "nums = [2,7,10,11]\n",
    "target = 21"
   ]
  },
  {
   "cell_type": "code",
   "execution_count": null,
   "id": "89f24d28-0043-4843-a10d-a24a8f743577",
   "metadata": {},
   "outputs": [],
   "source": []
  },
  {
   "cell_type": "code",
   "execution_count": 38,
   "id": "2e3b1084-8298-4184-8f64-b7b427a849d6",
   "metadata": {},
   "outputs": [
    {
     "data": {
      "text/plain": [
       "[2, 3]"
      ]
     },
     "execution_count": 38,
     "metadata": {},
     "output_type": "execute_result"
    }
   ],
   "source": [
    "get_indices(nums,target)"
   ]
  },
  {
   "cell_type": "code",
   "execution_count": null,
   "id": "74168a69-5245-4f30-acdd-c28acda643cd",
   "metadata": {},
   "outputs": [],
   "source": []
  }
 ],
 "metadata": {
  "kernelspec": {
   "display_name": "Python 3 (ipykernel)",
   "language": "python",
   "name": "python3"
  },
  "language_info": {
   "codemirror_mode": {
    "name": "ipython",
    "version": 3
   },
   "file_extension": ".py",
   "mimetype": "text/x-python",
   "name": "python",
   "nbconvert_exporter": "python",
   "pygments_lexer": "ipython3",
   "version": "3.7.5"
  }
 },
 "nbformat": 4,
 "nbformat_minor": 5
}
