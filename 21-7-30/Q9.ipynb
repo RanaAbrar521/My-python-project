{
 "cells": [
  {
   "cell_type": "code",
   "execution_count": 3,
   "id": "0b0eecf3-6ab0-4506-9e76-9bb20e1f9a70",
   "metadata": {},
   "outputs": [],
   "source": [
    "def backward_number(x):\n",
    "    end=0\n",
    "    while(x>0):\n",
    "        remainder = x%10\n",
    "        end = (end*10) + remainder\n",
    "        x = x//10\n",
    "    \n",
    "    return end"
   ]
  },
  {
   "cell_type": "code",
   "execution_count": 4,
   "id": "bc8f7c07-6535-447d-a97f-980267f4d419",
   "metadata": {},
   "outputs": [
    {
     "data": {
      "text/plain": [
       "194576"
      ]
     },
     "execution_count": 4,
     "metadata": {},
     "output_type": "execute_result"
    }
   ],
   "source": [
    "backward_number(675491)"
   ]
  },
  {
   "cell_type": "code",
   "execution_count": null,
   "id": "32d92682-d5dc-467a-bccc-64c9e3dd9d7e",
   "metadata": {},
   "outputs": [],
   "source": []
  }
 ],
 "metadata": {
  "kernelspec": {
   "display_name": "Python 3 (ipykernel)",
   "language": "python",
   "name": "python3"
  },
  "language_info": {
   "codemirror_mode": {
    "name": "ipython",
    "version": 3
   },
   "file_extension": ".py",
   "mimetype": "text/x-python",
   "name": "python",
   "nbconvert_exporter": "python",
   "pygments_lexer": "ipython3",
   "version": "3.7.5"
  }
 },
 "nbformat": 4,
 "nbformat_minor": 5
}
