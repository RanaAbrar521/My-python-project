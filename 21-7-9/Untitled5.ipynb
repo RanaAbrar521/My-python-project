{
 "cells": [
  {
   "cell_type": "code",
   "execution_count": 3,
   "id": "7ad4ec25-6a19-4200-a0bb-2f29628468ef",
   "metadata": {},
   "outputs": [
    {
     "data": {
      "text/plain": [
       "{'ds2': 'data science'}"
      ]
     },
     "execution_count": 3,
     "metadata": {},
     "output_type": "execute_result"
    }
   ],
   "source": [
    "my_dict={'ds':{'ds1':{'ds2':'data science'}}}\n",
    "my_dict['ds']['ds1']"
   ]
  },
  {
   "cell_type": "code",
   "execution_count": 28,
   "id": "8d0087fc-6878-45ff-8a11-f1195e31c942",
   "metadata": {},
   "outputs": [],
   "source": [
    "def get_dict_data(x,parameters):\n",
    "    for items in x:\n",
    "        if items == parameters:\n",
    "            return items\n",
    "        else:\n",
    "            return ('Not found')\n",
    "        \n"
   ]
  },
  {
   "cell_type": "code",
   "execution_count": 29,
   "id": "81e979df-ea60-48cb-a66b-417f5c487598",
   "metadata": {},
   "outputs": [
    {
     "data": {
      "text/plain": [
       "'Default'"
      ]
     },
     "execution_count": 29,
     "metadata": {},
     "output_type": "execute_result"
    }
   ],
   "source": [
    "get_dict_data(my_dict,['ds'])"
   ]
  },
  {
   "cell_type": "code",
   "execution_count": null,
   "id": "63fc417e-31c3-4e1b-8808-469bb80542de",
   "metadata": {},
   "outputs": [],
   "source": []
  }
 ],
 "metadata": {
  "kernelspec": {
   "display_name": "Python 3 (ipykernel)",
   "language": "python",
   "name": "python3"
  },
  "language_info": {
   "codemirror_mode": {
    "name": "ipython",
    "version": 3
   },
   "file_extension": ".py",
   "mimetype": "text/x-python",
   "name": "python",
   "nbconvert_exporter": "python",
   "pygments_lexer": "ipython3",
   "version": "3.7.5"
  }
 },
 "nbformat": 4,
 "nbformat_minor": 5
}
