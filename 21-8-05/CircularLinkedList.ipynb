{
 "cells": [
  {
   "cell_type": "code",
   "execution_count": 58,
   "id": "599466d1-6cc0-4a41-9deb-62e47c4abbb9",
   "metadata": {},
   "outputs": [],
   "source": [
    "class Node:\n",
    "    def __init__(self, data):\n",
    "        self.data = data\n",
    "        self.next = None\n",
    "        \n",
    "class CircularLinkedList:\n",
    "    def __init__(self):\n",
    "        self.head = None\n",
    "        \n",
    "    def add_at_the_beginning(self,new_data):\n",
    "        new_node = Node(new_data)\n",
    "        new_node.next = self.head\n",
    "        \n",
    "        variable = self.head\n",
    "        \n",
    "        if self.head is None:\n",
    "            new_node.next = new_node\n",
    "            self.head = new_node\n",
    "            \n",
    "        else:\n",
    "            while(variable.next != self.head):\n",
    "                variable = variable.next\n",
    "                \n",
    "            variable.next = new_node\n",
    "            \n",
    "    def add_at_particular_position(self, new_data, p_value):\n",
    "        new_node = Node(new_data)            \n",
    "        \n",
    "        mid = self.head\n",
    "        counter = 0\n",
    "        while(mid):\n",
    "            if counter == p_value:\n",
    "                new_node.next = mid.next\n",
    "                mid.next = new_node\n",
    "                break\n",
    "            mid = mid.next\n",
    "            counter += 1\n",
    "        \n",
    "                \n",
    "    def add_at_the_end(self, new_data):\n",
    "        new_node = Node(new_data)\n",
    "        last = self.head\n",
    "        while(last):\n",
    "            if last.next == self.head:\n",
    "                last.next = new_node\n",
    "                new_node.next = self.head\n",
    "                break\n",
    "            last = last.next\n",
    "                \n",
    "            \n",
    "    def print_circular_linked_list(self):\n",
    "        cl = self.head\n",
    "        while(cl):\n",
    "            print(cl.data)\n",
    "            cl = cl.next\n",
    "            if cl == self.head:\n",
    "                break"
   ]
  },
  {
   "cell_type": "code",
   "execution_count": 59,
   "id": "2ddcef54-c62e-4315-930f-8d64762fbfd2",
   "metadata": {},
   "outputs": [],
   "source": [
    "obj1=CircularLinkedList()"
   ]
  },
  {
   "cell_type": "code",
   "execution_count": 60,
   "id": "f1d05832-aed4-4997-be0e-96869b4c965f",
   "metadata": {},
   "outputs": [],
   "source": [
    "obj1.add_at_the_beginning(11)"
   ]
  },
  {
   "cell_type": "code",
   "execution_count": 61,
   "id": "1caf9c02-d475-477c-9a18-7d2fa72b7dfb",
   "metadata": {},
   "outputs": [],
   "source": [
    "obj1.add_at_the_beginning(12)"
   ]
  },
  {
   "cell_type": "code",
   "execution_count": 62,
   "id": "ea82ac89-e5eb-48f9-8084-97b545181e5d",
   "metadata": {},
   "outputs": [],
   "source": [
    "obj1.add_at_the_beginning(13)"
   ]
  },
  {
   "cell_type": "code",
   "execution_count": 67,
   "id": "d880b43b-9e5e-4b2c-8fcf-368f594d11ea",
   "metadata": {},
   "outputs": [
    {
     "name": "stdout",
     "output_type": "stream",
     "text": [
      "11\n",
      "12\n",
      "13\n",
      "19\n",
      "2\n",
      "21\n",
      "7\n"
     ]
    }
   ],
   "source": [
    "obj1.print_circular_linked_list()"
   ]
  },
  {
   "cell_type": "code",
   "execution_count": 63,
   "id": "af953368-99e2-45a1-863b-efd6dcf389e7",
   "metadata": {},
   "outputs": [],
   "source": [
    "obj1.add_at_the_end(2)"
   ]
  },
  {
   "cell_type": "code",
   "execution_count": 64,
   "id": "29e4e9e4-2ec9-4672-8a51-d8fadb0bee7c",
   "metadata": {},
   "outputs": [],
   "source": [
    "obj1.add_at_the_end(7)"
   ]
  },
  {
   "cell_type": "code",
   "execution_count": 65,
   "id": "85712ffc-f596-4e8d-93e6-73ff25a8f5cd",
   "metadata": {},
   "outputs": [],
   "source": [
    "obj1.add_at_particular_position(19,2)"
   ]
  },
  {
   "cell_type": "code",
   "execution_count": 66,
   "id": "24fb9656-2e7a-459e-8824-766dbb32e4a4",
   "metadata": {},
   "outputs": [],
   "source": [
    "obj1.add_at_particular_position(21,4)"
   ]
  },
  {
   "cell_type": "code",
   "execution_count": null,
   "id": "ce4e1caa-b95c-46c9-9895-aa6b89c2cd67",
   "metadata": {},
   "outputs": [],
   "source": []
  }
 ],
 "metadata": {
  "kernelspec": {
   "display_name": "Python 3 (ipykernel)",
   "language": "python",
   "name": "python3"
  },
  "language_info": {
   "codemirror_mode": {
    "name": "ipython",
    "version": 3
   },
   "file_extension": ".py",
   "mimetype": "text/x-python",
   "name": "python",
   "nbconvert_exporter": "python",
   "pygments_lexer": "ipython3",
   "version": "3.7.5"
  }
 },
 "nbformat": 4,
 "nbformat_minor": 5
}
