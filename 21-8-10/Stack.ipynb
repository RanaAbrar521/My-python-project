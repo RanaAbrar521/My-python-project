{
 "cells": [
  {
   "cell_type": "code",
   "execution_count": 78,
   "id": "13c296df-4c9f-483d-81ac-e50a9bd258ad",
   "metadata": {},
   "outputs": [],
   "source": [
    "class Stack:\n",
    "    def __init__(self):\n",
    "        self.items = []\n",
    "        \n",
    "    def isEmpty(self):\n",
    "        return len(self.items) == 0\n",
    "        \n",
    "    def push(self,item):\n",
    "        self.items.insert(0,item)\n",
    "        \n",
    "    def pop(self):\n",
    "        if self.isEmpty():\n",
    "            print('cannot pop an empty stack')\n",
    "        else:\n",
    "            return self.items.pop(0)\n",
    "        \n",
    "    def peak(self):\n",
    "        if self.isEmpty():\n",
    "            print('cannot peak an empty stack')\n",
    "        else:\n",
    "            return self.items[0]\n",
    "            \n",
    "    def size(self):\n",
    "        return len(self.items)\n",
    "    \n",
    "    def push_without_using_insert(self,item):\n",
    "        new_list = [item]\n",
    "        self.items = new_list + self.items\n",
    "    \n",
    "    def print_stack(self):\n",
    "        if self.isEmpty():\n",
    "            print(\"stack is empty\")\n",
    "        else:\n",
    "            return self.items"
   ]
  },
  {
   "cell_type": "code",
   "execution_count": 79,
   "id": "71805f55-729f-45b9-9055-0ca63970cabb",
   "metadata": {},
   "outputs": [],
   "source": [
    "ob=Stack()"
   ]
  },
  {
   "cell_type": "code",
   "execution_count": 80,
   "id": "c0bff041-b1f2-40f9-b072-d7ef78c8777c",
   "metadata": {},
   "outputs": [
    {
     "name": "stdout",
     "output_type": "stream",
     "text": [
      "stack is empty\n"
     ]
    }
   ],
   "source": [
    "ob.print_stack()"
   ]
  },
  {
   "cell_type": "code",
   "execution_count": 81,
   "id": "a5f08931-dbb9-4650-a781-e502149c9bb5",
   "metadata": {},
   "outputs": [],
   "source": [
    "ob.push(6)"
   ]
  },
  {
   "cell_type": "code",
   "execution_count": 87,
   "id": "65e7cc8d-edc7-4e60-8d70-3bb23d0b383c",
   "metadata": {},
   "outputs": [
    {
     "data": {
      "text/plain": [
       "[131, 19, 18]"
      ]
     },
     "execution_count": 87,
     "metadata": {},
     "output_type": "execute_result"
    }
   ],
   "source": [
    "ob.print_stack()"
   ]
  },
  {
   "cell_type": "code",
   "execution_count": 83,
   "id": "8c7ea2d4-84ca-435d-8446-5efc8841a1cc",
   "metadata": {},
   "outputs": [
    {
     "data": {
      "text/plain": [
       "6"
      ]
     },
     "execution_count": 83,
     "metadata": {},
     "output_type": "execute_result"
    }
   ],
   "source": [
    "ob.pop()"
   ]
  },
  {
   "cell_type": "code",
   "execution_count": 86,
   "id": "562cec8a-9422-4761-b301-14200a76ab7e",
   "metadata": {},
   "outputs": [],
   "source": [
    "ob.push_without_using_insert(131)"
   ]
  },
  {
   "cell_type": "code",
   "execution_count": null,
   "id": "369dff63-409a-43c8-b16a-3ffe4ae9ab6c",
   "metadata": {},
   "outputs": [],
   "source": []
  }
 ],
 "metadata": {
  "kernelspec": {
   "display_name": "Python 3 (ipykernel)",
   "language": "python",
   "name": "python3"
  },
  "language_info": {
   "codemirror_mode": {
    "name": "ipython",
    "version": 3
   },
   "file_extension": ".py",
   "mimetype": "text/x-python",
   "name": "python",
   "nbconvert_exporter": "python",
   "pygments_lexer": "ipython3",
   "version": "3.7.5"
  }
 },
 "nbformat": 4,
 "nbformat_minor": 5
}
