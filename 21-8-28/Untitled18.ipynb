{
 "cells": [
  {
   "cell_type": "code",
   "execution_count": 130,
   "id": "ee054497-ba44-4b6a-9cf0-7e04b713cc3e",
   "metadata": {},
   "outputs": [],
   "source": [
    "import pandas as pd\n",
    "import numpy as np\n",
    "import matplotlib.pyplot as plt\n",
    "%matplotlib inline\n",
    "import seaborn as sns\n"
   ]
  },
  {
   "cell_type": "code",
   "execution_count": null,
   "id": "0f01e382-6853-40b1-9ded-61dc64d823e4",
   "metadata": {},
   "outputs": [],
   "source": []
  },
  {
   "cell_type": "code",
   "execution_count": 131,
   "id": "0bc5cef6-7dd2-4f09-a7c4-2c92e839c319",
   "metadata": {},
   "outputs": [],
   "source": [
    "b17 = pd.read_csv('coinmarketcap_06122017.csv')"
   ]
  },
  {
   "cell_type": "markdown",
   "id": "53c27d72-f099-48ec-96c5-10fe2b00de3d",
   "metadata": {},
   "source": [
    "Q1"
   ]
  },
  {
   "cell_type": "code",
   "execution_count": 160,
   "id": "3f6a14cc-9f58-4931-916c-082400d18bb1",
   "metadata": {},
   "outputs": [
    {
     "data": {
      "text/plain": [
       "0       False\n",
       "1       False\n",
       "2       False\n",
       "3       False\n",
       "4       False\n",
       "        ...  \n",
       "1026    False\n",
       "1027    False\n",
       "1028    False\n",
       "1029    False\n",
       "1030    False\n",
       "Name: id, Length: 1031, dtype: bool"
      ]
     },
     "execution_count": 160,
     "metadata": {},
     "output_type": "execute_result"
    }
   ],
   "source": [
    "b17['id'].isnull()"
   ]
  },
  {
   "cell_type": "code",
   "execution_count": 133,
   "id": "fa416335-071f-4881-810f-8daf8e13b2ba",
   "metadata": {},
   "outputs": [
    {
     "data": {
      "text/plain": [
       "0       False\n",
       "1       False\n",
       "2       False\n",
       "3       False\n",
       "4       False\n",
       "        ...  \n",
       "1321     True\n",
       "1322     True\n",
       "1323     True\n",
       "1324     True\n",
       "1325     True\n",
       "Name: market_cap_usd, Length: 1326, dtype: bool"
      ]
     },
     "execution_count": 133,
     "metadata": {},
     "output_type": "execute_result"
    }
   ],
   "source": [
    "b17['market_cap_usd'].isnull()"
   ]
  },
  {
   "cell_type": "code",
   "execution_count": 134,
   "id": "88ee58b8-9362-42b3-84eb-d03d5f6a78bd",
   "metadata": {},
   "outputs": [
    {
     "data": {
      "text/plain": [
       "1031"
      ]
     },
     "execution_count": 134,
     "metadata": {},
     "output_type": "execute_result"
    }
   ],
   "source": [
    "b17['market_cap_usd'].count()"
   ]
  },
  {
   "cell_type": "code",
   "execution_count": 135,
   "id": "d7c76d79-2eb5-4e12-95ca-a4036d8c32a5",
   "metadata": {},
   "outputs": [],
   "source": [
    "b17.dropna(subset = ['market_cap_usd'],inplace = True)"
   ]
  },
  {
   "cell_type": "markdown",
   "id": "e9d5113c-e042-4cd7-97d9-6de29846749a",
   "metadata": {},
   "source": [
    "Q2"
   ]
  },
  {
   "cell_type": "code",
   "execution_count": 136,
   "id": "6ae046d1-bf18-4818-a8fa-9cdd9a224cf5",
   "metadata": {},
   "outputs": [],
   "source": [
    "b17.sort_values(by = 'market_cap_usd', ascending = False, inplace = True)"
   ]
  },
  {
   "cell_type": "code",
   "execution_count": 137,
   "id": "e2791a7e-5752-4b23-8d1d-da7e6cdd78dd",
   "metadata": {},
   "outputs": [],
   "source": [
    "b17['percent share'] = (b17['market_cap_usd']/b17['market_cap_usd'].sum())*100"
   ]
  },
  {
   "cell_type": "code",
   "execution_count": 138,
   "id": "ed2446ef-7eba-4ac8-ae84-6725804e87cc",
   "metadata": {},
   "outputs": [
    {
     "data": {
      "text/html": [
       "<div>\n",
       "<style scoped>\n",
       "    .dataframe tbody tr th:only-of-type {\n",
       "        vertical-align: middle;\n",
       "    }\n",
       "\n",
       "    .dataframe tbody tr th {\n",
       "        vertical-align: top;\n",
       "    }\n",
       "\n",
       "    .dataframe thead th {\n",
       "        text-align: right;\n",
       "    }\n",
       "</style>\n",
       "<table border=\"1\" class=\"dataframe\">\n",
       "  <thead>\n",
       "    <tr style=\"text-align: right;\">\n",
       "      <th></th>\n",
       "      <th>Unnamed: 0</th>\n",
       "      <th>24h_volume_usd</th>\n",
       "      <th>available_supply</th>\n",
       "      <th>id</th>\n",
       "      <th>last_updated</th>\n",
       "      <th>market_cap_usd</th>\n",
       "      <th>max_supply</th>\n",
       "      <th>name</th>\n",
       "      <th>percent_change_1h</th>\n",
       "      <th>percent_change_24h</th>\n",
       "      <th>percent_change_7d</th>\n",
       "      <th>price_btc</th>\n",
       "      <th>price_usd</th>\n",
       "      <th>rank</th>\n",
       "      <th>symbol</th>\n",
       "      <th>total_supply</th>\n",
       "      <th>percent share</th>\n",
       "    </tr>\n",
       "  </thead>\n",
       "  <tbody>\n",
       "    <tr>\n",
       "      <th>0</th>\n",
       "      <td>0</td>\n",
       "      <td>9.007640e+09</td>\n",
       "      <td>1.672352e+07</td>\n",
       "      <td>bitcoin</td>\n",
       "      <td>1512549554</td>\n",
       "      <td>2.130493e+11</td>\n",
       "      <td>2.100000e+07</td>\n",
       "      <td>Bitcoin</td>\n",
       "      <td>0.12</td>\n",
       "      <td>7.33</td>\n",
       "      <td>17.45</td>\n",
       "      <td>1.000000</td>\n",
       "      <td>12739.500000</td>\n",
       "      <td>1</td>\n",
       "      <td>BTC</td>\n",
       "      <td>1.672352e+07</td>\n",
       "      <td>56.918669</td>\n",
       "    </tr>\n",
       "    <tr>\n",
       "      <th>1</th>\n",
       "      <td>1</td>\n",
       "      <td>1.551330e+09</td>\n",
       "      <td>9.616537e+07</td>\n",
       "      <td>ethereum</td>\n",
       "      <td>1512549553</td>\n",
       "      <td>4.352945e+10</td>\n",
       "      <td>NaN</td>\n",
       "      <td>Ethereum</td>\n",
       "      <td>-0.18</td>\n",
       "      <td>-3.93</td>\n",
       "      <td>-7.33</td>\n",
       "      <td>0.036177</td>\n",
       "      <td>452.652000</td>\n",
       "      <td>2</td>\n",
       "      <td>ETH</td>\n",
       "      <td>9.616537e+07</td>\n",
       "      <td>11.629410</td>\n",
       "    </tr>\n",
       "    <tr>\n",
       "      <th>2</th>\n",
       "      <td>2</td>\n",
       "      <td>1.111350e+09</td>\n",
       "      <td>1.684044e+07</td>\n",
       "      <td>bitcoin-cash</td>\n",
       "      <td>1512549578</td>\n",
       "      <td>2.529585e+10</td>\n",
       "      <td>2.100000e+07</td>\n",
       "      <td>Bitcoin Cash</td>\n",
       "      <td>1.65</td>\n",
       "      <td>-5.51</td>\n",
       "      <td>-4.75</td>\n",
       "      <td>0.120050</td>\n",
       "      <td>1502.090000</td>\n",
       "      <td>3</td>\n",
       "      <td>BCH</td>\n",
       "      <td>1.684044e+07</td>\n",
       "      <td>6.758088</td>\n",
       "    </tr>\n",
       "    <tr>\n",
       "      <th>3</th>\n",
       "      <td>3</td>\n",
       "      <td>2.936090e+09</td>\n",
       "      <td>2.779530e+09</td>\n",
       "      <td>iota</td>\n",
       "      <td>1512549571</td>\n",
       "      <td>1.475225e+10</td>\n",
       "      <td>2.779530e+09</td>\n",
       "      <td>IOTA</td>\n",
       "      <td>-2.38</td>\n",
       "      <td>83.35</td>\n",
       "      <td>255.82</td>\n",
       "      <td>0.000424</td>\n",
       "      <td>5.307460</td>\n",
       "      <td>4</td>\n",
       "      <td>MIOTA</td>\n",
       "      <td>2.779530e+09</td>\n",
       "      <td>3.941238</td>\n",
       "    </tr>\n",
       "    <tr>\n",
       "      <th>4</th>\n",
       "      <td>4</td>\n",
       "      <td>2.315050e+08</td>\n",
       "      <td>3.873915e+10</td>\n",
       "      <td>ripple</td>\n",
       "      <td>1512549541</td>\n",
       "      <td>9.365343e+09</td>\n",
       "      <td>1.000000e+11</td>\n",
       "      <td>Ripple</td>\n",
       "      <td>0.56</td>\n",
       "      <td>-3.70</td>\n",
       "      <td>-14.79</td>\n",
       "      <td>0.000019</td>\n",
       "      <td>0.241754</td>\n",
       "      <td>5</td>\n",
       "      <td>XRP</td>\n",
       "      <td>9.999309e+10</td>\n",
       "      <td>2.502063</td>\n",
       "    </tr>\n",
       "  </tbody>\n",
       "</table>\n",
       "</div>"
      ],
      "text/plain": [
       "   Unnamed: 0  24h_volume_usd  available_supply            id  last_updated  \\\n",
       "0           0    9.007640e+09      1.672352e+07       bitcoin    1512549554   \n",
       "1           1    1.551330e+09      9.616537e+07      ethereum    1512549553   \n",
       "2           2    1.111350e+09      1.684044e+07  bitcoin-cash    1512549578   \n",
       "3           3    2.936090e+09      2.779530e+09          iota    1512549571   \n",
       "4           4    2.315050e+08      3.873915e+10        ripple    1512549541   \n",
       "\n",
       "   market_cap_usd    max_supply          name  percent_change_1h  \\\n",
       "0    2.130493e+11  2.100000e+07       Bitcoin               0.12   \n",
       "1    4.352945e+10           NaN      Ethereum              -0.18   \n",
       "2    2.529585e+10  2.100000e+07  Bitcoin Cash               1.65   \n",
       "3    1.475225e+10  2.779530e+09          IOTA              -2.38   \n",
       "4    9.365343e+09  1.000000e+11        Ripple               0.56   \n",
       "\n",
       "   percent_change_24h  percent_change_7d  price_btc     price_usd  rank  \\\n",
       "0                7.33              17.45   1.000000  12739.500000     1   \n",
       "1               -3.93              -7.33   0.036177    452.652000     2   \n",
       "2               -5.51              -4.75   0.120050   1502.090000     3   \n",
       "3               83.35             255.82   0.000424      5.307460     4   \n",
       "4               -3.70             -14.79   0.000019      0.241754     5   \n",
       "\n",
       "  symbol  total_supply  percent share  \n",
       "0    BTC  1.672352e+07      56.918669  \n",
       "1    ETH  9.616537e+07      11.629410  \n",
       "2    BCH  1.684044e+07       6.758088  \n",
       "3  MIOTA  2.779530e+09       3.941238  \n",
       "4    XRP  9.999309e+10       2.502063  "
      ]
     },
     "execution_count": 138,
     "metadata": {},
     "output_type": "execute_result"
    }
   ],
   "source": [
    "b17.head()"
   ]
  },
  {
   "cell_type": "markdown",
   "id": "3573d36c-b21f-4d21-a2ff-648ce59d65cf",
   "metadata": {},
   "source": [
    "Q3"
   ]
  },
  {
   "cell_type": "code",
   "execution_count": 139,
   "id": "df3ceedb-cc89-4283-aada-cea339791246",
   "metadata": {},
   "outputs": [
    {
     "data": {
      "text/plain": [
       "<AxesSubplot:xlabel='id', ylabel='percent share'>"
      ]
     },
     "execution_count": 139,
     "metadata": {},
     "output_type": "execute_result"
    },
    {
     "data": {
      "image/png": "[encoded data removed]",
      "text/plain": [
       "<Figure size 864x432 with 1 Axes>"
      ]
     },
     "metadata": {
      "needs_background": "light"
     },
     "output_type": "display_data"
    }
   ],
   "source": [
    "b17.head(15).plot(kind = 'bar', x ='id' , y ='percent share', ylabel = 'percent share', figsize= (12,6))"
   ]
  },
  {
   "cell_type": "markdown",
   "id": "6a07af44-df77-4d7c-88d8-9a3558b1d50f",
   "metadata": {},
   "source": [
    "Q4"
   ]
  },
  {
   "cell_type": "code",
   "execution_count": 140,
   "id": "560531f6-9037-4d4b-b9d8-1e87d994af6b",
   "metadata": {},
   "outputs": [
    {
     "data": {
      "text/plain": [
       "<AxesSubplot:xlabel='id', ylabel='USD'>"
      ]
     },
     "execution_count": 140,
     "metadata": {},
     "output_type": "execute_result"
    },
    {
     "data": {
      "image/png": "[encoded data removed]",
      "text/plain": [
       "<Figure size 864x432 with 1 Axes>"
      ]
     },
     "metadata": {
      "needs_background": "light"
     },
     "output_type": "display_data"
    }
   ],
   "source": [
    "b17.head(15).plot(kind = 'bar', x ='id' , y ='market_cap_usd', logy = True, ylabel = 'USD', figsize = (12,6))"
   ]
  },
  {
   "cell_type": "markdown",
   "id": "3367c91e-4b22-469b-9ac6-182a4d90cbb3",
   "metadata": {},
   "source": [
    "Q5"
   ]
  },
  {
   "cell_type": "code",
   "execution_count": 141,
   "id": "249d1e14-a8bb-4089-b7a5-99cb9205b981",
   "metadata": {},
   "outputs": [],
   "source": [
    "pch = b17.sort_values(by = 'percent_change_24h', ascending = False)\n",
    "pcw = b17.sort_values(by = 'percent_change_7d', ascending = False)"
   ]
  },
  {
   "cell_type": "code",
   "execution_count": 144,
   "id": "8aec5afd-8b07-4365-b26a-449c9ec6d10c",
   "metadata": {},
   "outputs": [],
   "source": [
    "volatilityh = b17[['id','percent_change_24h','percent_change_7d']]"
   ]
  },
  {
   "cell_type": "code",
   "execution_count": 145,
   "id": "951bb6d8-7da1-4c2a-b7a7-f9c564b804e9",
   "metadata": {},
   "outputs": [
    {
     "name": "stderr",
     "output_type": "stream",
     "text": [
      "c:\\users\\omen\\appdata\\local\\programs\\python\\python37\\lib\\site-packages\\pandas\\util\\_decorators.py:311: SettingWithCopyWarning: \n",
      "A value is trying to be set on a copy of a slice from a DataFrame\n",
      "\n",
      "See the caveats in the documentation: https://pandas.pydata.org/pandas-docs/stable/user_guide/indexing.html#returning-a-view-versus-a-copy\n",
      "  return func(*args, **kwargs)\n"
     ]
    }
   ],
   "source": [
    "volatilityh.sort_values(by = 'percent_change_24h', ascending = False, inplace = True)"
   ]
  },
  {
   "cell_type": "code",
   "execution_count": 146,
   "id": "c1167519-4542-455f-b11f-2ff41371ae00",
   "metadata": {},
   "outputs": [
    {
     "data": {
      "text/html": [
       "<div>\n",
       "<style scoped>\n",
       "    .dataframe tbody tr th:only-of-type {\n",
       "        vertical-align: middle;\n",
       "    }\n",
       "\n",
       "    .dataframe tbody tr th {\n",
       "        vertical-align: top;\n",
       "    }\n",
       "\n",
       "    .dataframe thead th {\n",
       "        text-align: right;\n",
       "    }\n",
       "</style>\n",
       "<table border=\"1\" class=\"dataframe\">\n",
       "  <thead>\n",
       "    <tr style=\"text-align: right;\">\n",
       "      <th></th>\n",
       "      <th>id</th>\n",
       "      <th>percent_change_24h</th>\n",
       "      <th>percent_change_7d</th>\n",
       "    </tr>\n",
       "  </thead>\n",
       "  <tbody>\n",
       "    <tr>\n",
       "      <th>134</th>\n",
       "      <td>fedoracoin</td>\n",
       "      <td>833.01</td>\n",
       "      <td>92.10</td>\n",
       "    </tr>\n",
       "    <tr>\n",
       "      <th>832</th>\n",
       "      <td>cashcoin</td>\n",
       "      <td>457.86</td>\n",
       "      <td>374.30</td>\n",
       "    </tr>\n",
       "    <tr>\n",
       "      <th>149</th>\n",
       "      <td>bitzeny</td>\n",
       "      <td>416.04</td>\n",
       "      <td>3360.71</td>\n",
       "    </tr>\n",
       "    <tr>\n",
       "      <th>697</th>\n",
       "      <td>beatcoin</td>\n",
       "      <td>295.49</td>\n",
       "      <td>132.79</td>\n",
       "    </tr>\n",
       "    <tr>\n",
       "      <th>630</th>\n",
       "      <td>eaglecoin</td>\n",
       "      <td>272.50</td>\n",
       "      <td>114.73</td>\n",
       "    </tr>\n",
       "    <tr>\n",
       "      <th>303</th>\n",
       "      <td>asiacoin</td>\n",
       "      <td>267.20</td>\n",
       "      <td>521.47</td>\n",
       "    </tr>\n",
       "    <tr>\n",
       "      <th>635</th>\n",
       "      <td>comet</td>\n",
       "      <td>252.07</td>\n",
       "      <td>560.46</td>\n",
       "    </tr>\n",
       "    <tr>\n",
       "      <th>735</th>\n",
       "      <td>coimatic-2</td>\n",
       "      <td>244.26</td>\n",
       "      <td>132.24</td>\n",
       "    </tr>\n",
       "    <tr>\n",
       "      <th>890</th>\n",
       "      <td>coexistcoin</td>\n",
       "      <td>230.87</td>\n",
       "      <td>142.78</td>\n",
       "    </tr>\n",
       "    <tr>\n",
       "      <th>531</th>\n",
       "      <td>britcoin</td>\n",
       "      <td>223.31</td>\n",
       "      <td>272.18</td>\n",
       "    </tr>\n",
       "  </tbody>\n",
       "</table>\n",
       "</div>"
      ],
      "text/plain": [
       "              id  percent_change_24h  percent_change_7d\n",
       "134   fedoracoin              833.01              92.10\n",
       "832     cashcoin              457.86             374.30\n",
       "149      bitzeny              416.04            3360.71\n",
       "697     beatcoin              295.49             132.79\n",
       "630    eaglecoin              272.50             114.73\n",
       "303     asiacoin              267.20             521.47\n",
       "635        comet              252.07             560.46\n",
       "735   coimatic-2              244.26             132.24\n",
       "890  coexistcoin              230.87             142.78\n",
       "531     britcoin              223.31             272.18"
      ]
     },
     "execution_count": 146,
     "metadata": {},
     "output_type": "execute_result"
    }
   ],
   "source": [
    "volatilityh.head(10)"
   ]
  },
  {
   "cell_type": "code",
   "execution_count": 147,
   "id": "88c22521-6c11-4f0c-a231-0433f0e7bdd1",
   "metadata": {},
   "outputs": [],
   "source": [
    "volatilityd = volatility.sort_values(by = 'percent_change_7d', ascending = False)"
   ]
  },
  {
   "cell_type": "code",
   "execution_count": 148,
   "id": "5a480e46-2fab-41c7-afb5-0e066dc5422f",
   "metadata": {},
   "outputs": [],
   "source": [
    "volatilityd.dropna(inplace = True)"
   ]
  },
  {
   "cell_type": "code",
   "execution_count": 149,
   "id": "d1b2dd0e-f808-49c9-af84-7217a90655d6",
   "metadata": {},
   "outputs": [],
   "source": [
    "top_10_losers_24h = volatilityh.nsmallest(10,'percent_change_24h')"
   ]
  },
  {
   "cell_type": "code",
   "execution_count": 150,
   "id": "0af41ac9-15e5-4a30-b5fe-9cd42f900ddd",
   "metadata": {},
   "outputs": [],
   "source": [
    "top_10_losers_7d = volatilityd.nsmallest(10,'percent_change_7d')"
   ]
  },
  {
   "cell_type": "code",
   "execution_count": 151,
   "id": "c314090e-0eff-4289-9e88-ad10f0d50425",
   "metadata": {},
   "outputs": [
    {
     "data": {
      "text/html": [
       "<div>\n",
       "<style scoped>\n",
       "    .dataframe tbody tr th:only-of-type {\n",
       "        vertical-align: middle;\n",
       "    }\n",
       "\n",
       "    .dataframe tbody tr th {\n",
       "        vertical-align: top;\n",
       "    }\n",
       "\n",
       "    .dataframe thead th {\n",
       "        text-align: right;\n",
       "    }\n",
       "</style>\n",
       "<table border=\"1\" class=\"dataframe\">\n",
       "  <thead>\n",
       "    <tr style=\"text-align: right;\">\n",
       "      <th></th>\n",
       "      <th>id</th>\n",
       "      <th>percent_change_24h</th>\n",
       "      <th>percent_change_7d</th>\n",
       "    </tr>\n",
       "  </thead>\n",
       "  <tbody>\n",
       "    <tr>\n",
       "      <th>149</th>\n",
       "      <td>bitzeny</td>\n",
       "      <td>416.04</td>\n",
       "      <td>3360.71</td>\n",
       "    </tr>\n",
       "    <tr>\n",
       "      <th>390</th>\n",
       "      <td>bitcoin-red</td>\n",
       "      <td>-29.87</td>\n",
       "      <td>693.37</td>\n",
       "    </tr>\n",
       "    <tr>\n",
       "      <th>635</th>\n",
       "      <td>comet</td>\n",
       "      <td>252.07</td>\n",
       "      <td>560.46</td>\n",
       "    </tr>\n",
       "    <tr>\n",
       "      <th>88</th>\n",
       "      <td>yoyow</td>\n",
       "      <td>119.59</td>\n",
       "      <td>547.12</td>\n",
       "    </tr>\n",
       "    <tr>\n",
       "      <th>555</th>\n",
       "      <td>erc20</td>\n",
       "      <td>-8.34</td>\n",
       "      <td>545.73</td>\n",
       "    </tr>\n",
       "    <tr>\n",
       "      <th>498</th>\n",
       "      <td>petrodollar</td>\n",
       "      <td>-76.55</td>\n",
       "      <td>542.96</td>\n",
       "    </tr>\n",
       "    <tr>\n",
       "      <th>303</th>\n",
       "      <td>asiacoin</td>\n",
       "      <td>267.20</td>\n",
       "      <td>521.47</td>\n",
       "    </tr>\n",
       "    <tr>\n",
       "      <th>738</th>\n",
       "      <td>litebitcoin</td>\n",
       "      <td>-39.85</td>\n",
       "      <td>474.80</td>\n",
       "    </tr>\n",
       "    <tr>\n",
       "      <th>403</th>\n",
       "      <td>luxcoin</td>\n",
       "      <td>-8.52</td>\n",
       "      <td>403.73</td>\n",
       "    </tr>\n",
       "    <tr>\n",
       "      <th>734</th>\n",
       "      <td>veros</td>\n",
       "      <td>46.83</td>\n",
       "      <td>395.53</td>\n",
       "    </tr>\n",
       "  </tbody>\n",
       "</table>\n",
       "</div>"
      ],
      "text/plain": [
       "              id  percent_change_24h  percent_change_7d\n",
       "149      bitzeny              416.04            3360.71\n",
       "390  bitcoin-red              -29.87             693.37\n",
       "635        comet              252.07             560.46\n",
       "88         yoyow              119.59             547.12\n",
       "555        erc20               -8.34             545.73\n",
       "498  petrodollar              -76.55             542.96\n",
       "303     asiacoin              267.20             521.47\n",
       "738  litebitcoin              -39.85             474.80\n",
       "403      luxcoin               -8.52             403.73\n",
       "734        veros               46.83             395.53"
      ]
     },
     "execution_count": 151,
     "metadata": {},
     "output_type": "execute_result"
    }
   ],
   "source": [
    "volatilityd.head(10)"
   ]
  },
  {
   "cell_type": "markdown",
   "id": "d7d996a7-07de-4067-a119-da0c7ac21724",
   "metadata": {},
   "source": [
    "Q6"
   ]
  },
  {
   "cell_type": "code",
   "execution_count": 143,
   "id": "0df8b7e6-ab91-46d7-9323-5cb211f3edc1",
   "metadata": {},
   "outputs": [
    {
     "data": {
      "text/plain": [
       "Text(0, 0.5, 'Percentage Change')"
      ]
     },
     "execution_count": 143,
     "metadata": {},
     "output_type": "execute_result"
    },
    {
     "data": {
      "image/png": "[encoded data removed]",
      "text/plain": [
       "<Figure size 864x432 with 1 Axes>"
      ]
     },
     "metadata": {
      "needs_background": "light"
     },
     "output_type": "display_data"
    }
   ],
   "source": [
    "pch.head(15).plot(kind = 'bar', x ='id' , y ='percent_change_24h', figsize=(12,6))\n",
    "plt.title(\"Currency Market Cap Change in 24 hours (Winners)\")\n",
    "plt.xlabel(\"Crypto Currency\")\n",
    "plt.ylabel(\"Percentage Change\")"
   ]
  },
  {
   "cell_type": "code",
   "execution_count": 152,
   "id": "9ba20ff5-b3e8-46fb-bfe4-3b7e312caff0",
   "metadata": {},
   "outputs": [
    {
     "data": {
      "image/png": "[encoded data removed]",
      "text/plain": [
       "<Figure size 864x432 with 1 Axes>"
      ]
     },
     "metadata": {
      "needs_background": "light"
     },
     "output_type": "display_data"
    }
   ],
   "source": [
    "\n",
    "\n",
    "top_10_losers_24h.plot(kind = 'bar', x ='id' , y ='percent_change_24h', figsize = (12,6))\n",
    "plt.title(\"Currency Market Cap Change in 24 hours (Losers)\")\n",
    "plt.xlabel(\"Crypto Currency\")\n",
    "plt.ylabel(\"Percentage Change\")\n",
    "plt.show()"
   ]
  },
  {
   "cell_type": "markdown",
   "id": "f0c0b43f-f6df-43e2-9aff-ef54fdb7aae6",
   "metadata": {},
   "source": [
    "Q7"
   ]
  },
  {
   "cell_type": "code",
   "execution_count": 142,
   "id": "ab5e056b-bb02-4cb4-9986-742db249ede3",
   "metadata": {},
   "outputs": [
    {
     "data": {
      "text/plain": [
       "Text(0, 0.5, 'Percentage Change')"
      ]
     },
     "execution_count": 142,
     "metadata": {},
     "output_type": "execute_result"
    },
    {
     "data": {
      "image/png": "[encoded data removed]",
      "text/plain": [
       "<Figure size 864x432 with 1 Axes>"
      ]
     },
     "metadata": {
      "needs_background": "light"
     },
     "output_type": "display_data"
    }
   ],
   "source": [
    "pcw.head(15).plot(kind = 'bar', x ='id' , y ='percent_change_7d',figsize = (12,6))\n",
    "plt.title(\"Currency Market Cap Change in 7 Days (Winners)\")\n",
    "plt.xlabel(\"Crypto Currency\")\n",
    "plt.ylabel(\"Percentage Change\")"
   ]
  },
  {
   "cell_type": "code",
   "execution_count": 153,
   "id": "5ed3b01f-9ace-4465-b3f1-fbee823f89f8",
   "metadata": {},
   "outputs": [
    {
     "data": {
      "image/png": "[encoded data removed]",
      "text/plain": [
       "<Figure size 864x432 with 1 Axes>"
      ]
     },
     "metadata": {
      "needs_background": "light"
     },
     "output_type": "display_data"
    }
   ],
   "source": [
    "top_10_losers_7d.plot(kind = 'bar', x ='id' , y ='percent_change_7d', figsize = (12,6))\n",
    "plt.title(\"Currency Market Cap Change in 7 Days (Losers)\")\n",
    "plt.xlabel(\"Crypto Currency\")\n",
    "plt.ylabel(\"Percentage Change\")\n",
    "plt.show()"
   ]
  },
  {
   "cell_type": "markdown",
   "id": "e57712f6-501e-46ba-b6fd-ee1010493e0a",
   "metadata": {},
   "source": [
    "Q8"
   ]
  },
  {
   "cell_type": "code",
   "execution_count": 154,
   "id": "d718e0d3-fd98-458a-99b3-def3cb01da81",
   "metadata": {},
   "outputs": [],
   "source": [
    "smallest = b17.nsmallest(10,'market_cap_usd')\n",
    "largest = b17.nlargest(10,'market_cap_usd')"
   ]
  },
  {
   "cell_type": "code",
   "execution_count": 157,
   "id": "75656ec7-bce2-4a37-b93f-a5cd18d95625",
   "metadata": {},
   "outputs": [
    {
     "data": {
      "text/html": [
       "<div>\n",
       "<style scoped>\n",
       "    .dataframe tbody tr th:only-of-type {\n",
       "        vertical-align: middle;\n",
       "    }\n",
       "\n",
       "    .dataframe tbody tr th {\n",
       "        vertical-align: top;\n",
       "    }\n",
       "\n",
       "    .dataframe thead th {\n",
       "        text-align: right;\n",
       "    }\n",
       "</style>\n",
       "<table border=\"1\" class=\"dataframe\">\n",
       "  <thead>\n",
       "    <tr style=\"text-align: right;\">\n",
       "      <th></th>\n",
       "      <th>id</th>\n",
       "      <th>market_cap_usd</th>\n",
       "    </tr>\n",
       "  </thead>\n",
       "  <tbody>\n",
       "    <tr>\n",
       "      <th>1030</th>\n",
       "      <td>applecoin-apw</td>\n",
       "      <td>10.0</td>\n",
       "    </tr>\n",
       "    <tr>\n",
       "      <th>1029</th>\n",
       "      <td>falcoin</td>\n",
       "      <td>23.0</td>\n",
       "    </tr>\n",
       "    <tr>\n",
       "      <th>1028</th>\n",
       "      <td>caliphcoin</td>\n",
       "      <td>100.0</td>\n",
       "    </tr>\n",
       "    <tr>\n",
       "      <th>1027</th>\n",
       "      <td>environ</td>\n",
       "      <td>136.0</td>\n",
       "    </tr>\n",
       "    <tr>\n",
       "      <th>1026</th>\n",
       "      <td>future-digital-currency</td>\n",
       "      <td>251.0</td>\n",
       "    </tr>\n",
       "    <tr>\n",
       "      <th>1025</th>\n",
       "      <td>mantracoin</td>\n",
       "      <td>514.0</td>\n",
       "    </tr>\n",
       "    <tr>\n",
       "      <th>1024</th>\n",
       "      <td>digital-money-bits</td>\n",
       "      <td>515.0</td>\n",
       "    </tr>\n",
       "    <tr>\n",
       "      <th>758</th>\n",
       "      <td>abncoin</td>\n",
       "      <td>856.0</td>\n",
       "    </tr>\n",
       "    <tr>\n",
       "      <th>1023</th>\n",
       "      <td>digital-credits</td>\n",
       "      <td>2187.0</td>\n",
       "    </tr>\n",
       "    <tr>\n",
       "      <th>1022</th>\n",
       "      <td>swaptoken</td>\n",
       "      <td>2288.0</td>\n",
       "    </tr>\n",
       "  </tbody>\n",
       "</table>\n",
       "</div>"
      ],
      "text/plain": [
       "                           id  market_cap_usd\n",
       "1030            applecoin-apw            10.0\n",
       "1029                  falcoin            23.0\n",
       "1028               caliphcoin           100.0\n",
       "1027                  environ           136.0\n",
       "1026  future-digital-currency           251.0\n",
       "1025               mantracoin           514.0\n",
       "1024       digital-money-bits           515.0\n",
       "758                   abncoin           856.0\n",
       "1023          digital-credits          2187.0\n",
       "1022                swaptoken          2288.0"
      ]
     },
     "metadata": {},
     "output_type": "display_data"
    }
   ],
   "source": [
    "display(smallest[['id', 'market_cap_usd']])"
   ]
  },
  {
   "cell_type": "code",
   "execution_count": 158,
   "id": "c8ffb161-208a-4a28-ac4a-47cdac30b1a8",
   "metadata": {},
   "outputs": [
    {
     "data": {
      "text/html": [
       "<div>\n",
       "<style scoped>\n",
       "    .dataframe tbody tr th:only-of-type {\n",
       "        vertical-align: middle;\n",
       "    }\n",
       "\n",
       "    .dataframe tbody tr th {\n",
       "        vertical-align: top;\n",
       "    }\n",
       "\n",
       "    .dataframe thead th {\n",
       "        text-align: right;\n",
       "    }\n",
       "</style>\n",
       "<table border=\"1\" class=\"dataframe\">\n",
       "  <thead>\n",
       "    <tr style=\"text-align: right;\">\n",
       "      <th></th>\n",
       "      <th>id</th>\n",
       "      <th>market_cap_usd</th>\n",
       "    </tr>\n",
       "  </thead>\n",
       "  <tbody>\n",
       "    <tr>\n",
       "      <th>0</th>\n",
       "      <td>bitcoin</td>\n",
       "      <td>2.130493e+11</td>\n",
       "    </tr>\n",
       "    <tr>\n",
       "      <th>1</th>\n",
       "      <td>ethereum</td>\n",
       "      <td>4.352945e+10</td>\n",
       "    </tr>\n",
       "    <tr>\n",
       "      <th>2</th>\n",
       "      <td>bitcoin-cash</td>\n",
       "      <td>2.529585e+10</td>\n",
       "    </tr>\n",
       "    <tr>\n",
       "      <th>3</th>\n",
       "      <td>iota</td>\n",
       "      <td>1.475225e+10</td>\n",
       "    </tr>\n",
       "    <tr>\n",
       "      <th>4</th>\n",
       "      <td>ripple</td>\n",
       "      <td>9.365343e+09</td>\n",
       "    </tr>\n",
       "    <tr>\n",
       "      <th>5</th>\n",
       "      <td>dash</td>\n",
       "      <td>5.794076e+09</td>\n",
       "    </tr>\n",
       "    <tr>\n",
       "      <th>6</th>\n",
       "      <td>litecoin</td>\n",
       "      <td>5.634498e+09</td>\n",
       "    </tr>\n",
       "    <tr>\n",
       "      <th>7</th>\n",
       "      <td>bitcoin-gold</td>\n",
       "      <td>4.920065e+09</td>\n",
       "    </tr>\n",
       "    <tr>\n",
       "      <th>8</th>\n",
       "      <td>monero</td>\n",
       "      <td>4.331688e+09</td>\n",
       "    </tr>\n",
       "    <tr>\n",
       "      <th>9</th>\n",
       "      <td>cardano</td>\n",
       "      <td>3.231420e+09</td>\n",
       "    </tr>\n",
       "  </tbody>\n",
       "</table>\n",
       "</div>"
      ],
      "text/plain": [
       "             id  market_cap_usd\n",
       "0       bitcoin    2.130493e+11\n",
       "1      ethereum    4.352945e+10\n",
       "2  bitcoin-cash    2.529585e+10\n",
       "3          iota    1.475225e+10\n",
       "4        ripple    9.365343e+09\n",
       "5          dash    5.794076e+09\n",
       "6      litecoin    5.634498e+09\n",
       "7  bitcoin-gold    4.920065e+09\n",
       "8        monero    4.331688e+09\n",
       "9       cardano    3.231420e+09"
      ]
     },
     "metadata": {},
     "output_type": "display_data"
    }
   ],
   "source": [
    "display(largest[['id', 'market_cap_usd']])"
   ]
  },
  {
   "cell_type": "code",
   "execution_count": null,
   "id": "dce734a8-19f6-4300-ae9b-6abe0b1face4",
   "metadata": {},
   "outputs": [],
   "source": []
  }
 ],
 "metadata": {
  "kernelspec": {
   "display_name": "Python 3 (ipykernel)",
   "language": "python",
   "name": "python3"
  },
  "language_info": {
   "codemirror_mode": {
    "name": "ipython",
    "version": 3
   },
   "file_extension": ".py",
   "mimetype": "text/x-python",
   "name": "python",
   "nbconvert_exporter": "python",
   "pygments_lexer": "ipython3",
   "version": "3.7.5"
  }
 },
 "nbformat": 4,
 "nbformat_minor": 5
}
