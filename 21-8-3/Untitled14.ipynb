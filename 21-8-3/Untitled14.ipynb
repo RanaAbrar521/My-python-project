{
 "cells": [
  {
   "cell_type": "code",
   "execution_count": 2,
   "id": "6853a45a-6f34-4fab-bec1-b6150525634d",
   "metadata": {},
   "outputs": [],
   "source": [
    "class Node:\n",
    "    def __init__(self, data):\n",
    "        self.data = data\n",
    "        self.next = None\n",
    "        self.prev = None\n",
    "class DoublyLinkedList:\n",
    "    \n",
    "    def __init__(self):\n",
    "        self.head = None\n",
    "        \n",
    "    def add_in_beginning(self,new_data):\n",
    "        new_node = Node(new_data)\n",
    "        new_node.next = self.head\n",
    "        if self.head is not None:\n",
    "            self.head.prev = new_node\n",
    "            \n",
    "        self.head = new_node\n",
    "    \n",
    "    def print_doubly_linkedlist(self):\n",
    "        ll = self.head\n",
    "        while(ll):\n",
    "            print(ll.data)\n",
    "            ll = ll.next\n",
    "    \n",
    "    def add_at_the_end(self, new_data):\n",
    "        new_node = Node(new_data)\n",
    "        if self.head is None:\n",
    "            self.head = new_node\n",
    "            new_node.prev = self.head\n",
    "        else:\n",
    "            last = self.head\n",
    "            while(last.next):\n",
    "                last = last.next\n",
    "            last.next = new_node\n",
    "            new_node.prev = last\n",
    "            \n",
    "    def add_at_particular_position(self, new_data, p_value):\n",
    "        new_node = Node(new_data)\n",
    "        if self.head is None:\n",
    "            self.add_in_beginning(new_data)\n",
    "            \n",
    "        else:\n",
    "            mid = self.head\n",
    "            counter = 0\n",
    "            while(mid.next):\n",
    "                mid = mid.next\n",
    "                counter += 1\n",
    "                if counter == p_value:\n",
    "                    new_node.next = mid.next\n",
    "                    mid.next = new_node\n",
    "                    new_node.prev = mid\n",
    "            if counter < p_value:\n",
    "                print(\"Can't Add Node here\")\n",
    "            \n",
    "        "
   ]
  },
  {
   "cell_type": "code",
   "execution_count": 23,
   "id": "7374c442-bbb7-4dfd-8601-6dc5481432f4",
   "metadata": {},
   "outputs": [],
   "source": [
    "dl = DoublyLinkedList()"
   ]
  },
  {
   "cell_type": "code",
   "execution_count": 12,
   "id": "cbffc3d2-f80b-48e9-a6ef-716cd1e0e2de",
   "metadata": {},
   "outputs": [],
   "source": [
    "dl.add_in_beginning(7)\n",
    "dl.add_in_beginning(5)\n",
    "dl.add_in_beginning(8)\n",
    "dl.add_in_beginning(14)\n",
    "dl.add_in_beginning(3)\n"
   ]
  },
  {
   "cell_type": "code",
   "execution_count": 25,
   "id": "fd8abd9e-651a-4217-b711-ce8073a2fdc6",
   "metadata": {},
   "outputs": [
    {
     "name": "stdout",
     "output_type": "stream",
     "text": [
      "31\n"
     ]
    }
   ],
   "source": [
    "dl.print_doubly_linkedlist()"
   ]
  },
  {
   "cell_type": "code",
   "execution_count": 21,
   "id": "a82f8e3c-07cc-438c-be74-a9fd255f877a",
   "metadata": {},
   "outputs": [],
   "source": [
    "dl.add_at_the_end(20)"
   ]
  },
  {
   "cell_type": "code",
   "execution_count": 24,
   "id": "ba356776-8e5a-48fa-86fa-ac0f1faa9d03",
   "metadata": {},
   "outputs": [],
   "source": [
    "dl.add_at_particular_position(31,8)"
   ]
  },
  {
   "cell_type": "code",
   "execution_count": null,
   "id": "dc56a887-3642-44c0-bbbb-3efa434e8e3d",
   "metadata": {},
   "outputs": [],
   "source": []
  }
 ],
 "metadata": {
  "kernelspec": {
   "display_name": "Python 3 (ipykernel)",
   "language": "python",
   "name": "python3"
  },
  "language_info": {
   "codemirror_mode": {
    "name": "ipython",
    "version": 3
   },
   "file_extension": ".py",
   "mimetype": "text/x-python",
   "name": "python",
   "nbconvert_exporter": "python",
   "pygments_lexer": "ipython3",
   "version": "3.7.5"
  }
 },
 "nbformat": 4,
 "nbformat_minor": 5
}
