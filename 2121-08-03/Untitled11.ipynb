{
 "cells": [
  {
   "cell_type": "markdown",
   "id": "67460421",
   "metadata": {},
   "source": [
    "Q1. Create a class singly DoublyLinkedList\n",
    "1. Contains\n",
    "a. Data\n",
    "b. Next\n",
    "c. Prev\n",
    "2. Functions\n",
    "a. Add_in_begginning\n",
    "i. Receives New data\n",
    "ii. Add new Node in the start of the linked list\n",
    "b. Add_at_particular_position (Most Important)\n",
    "i. Add new data\n",
    "ii. Add Position value\n",
    "1. I.e if position value is 2 it means that add new node after 3rd\n",
    "node considering first node starts from 0th position\n",
    "\n",
    "c. Add_at_the_end\n",
    "i. Receives new data\n",
    "ii. Add new Node at the end of the linked list\n",
    "d. Print Entire LinkedList"
   ]
  },
  {
   "cell_type": "code",
   "execution_count": 10,
   "id": "d65c3bd6",
   "metadata": {},
   "outputs": [],
   "source": [
    "class node:\n",
    "    def __init__(self,data):\n",
    "        self.data=data\n",
    "        self.next=None\n",
    "        self.prev=None\n",
    "class doublyLinkedList:\n",
    "    def __init__(self):\n",
    "        self.head=None\n",
    "        \n",
    "    def add_new_node_in_beginnig(self,new_data):\n",
    "        new_node = node(new_data)\n",
    "        new_node.next = self.head\n",
    "        if self.head is not None:\n",
    "            self.head.prev=new_node\n",
    "        self.head = new_node\n",
    "        \n",
    "    def add_node_at_particular_position(self,new_data,position):\n",
    "        new_node = node(new_data)\n",
    "        if self.head is None:\n",
    "            self.add_new_node_in_beginnig(new_data)\n",
    "            \n",
    "        else:\n",
    "            temp = self.head\n",
    "            count_val = 1\n",
    "        while(temp):\n",
    "            if position == count_val:\n",
    "                temp_node = temp.next\n",
    "                new_node.next = temp_node\n",
    "                temp.next = temp_node\n",
    "                \n",
    "        count_val += 1\n",
    "        temp = temp.next\n",
    "        \n",
    "        \n",
    "    def add_node_at_end(self,new_data):\n",
    "        \n",
    "        if self.head is None:\n",
    "            self.head.prev = new_node\n",
    "        else:\n",
    "            temp = self.head\n",
    "            while(temp != None):\n",
    "                temp = temp.next\n",
    "                temp.next = temp_node\n",
    "                \n",
    "    def print_doublyLinkedList(self):\n",
    "        temp = self.head\n",
    "        while(temp):\n",
    "            print(temp.data)\n",
    "            temp = temp.next           \n",
    "                \n",
    "                \n",
    "            \n",
    "            \n",
    "            \n",
    "            \n",
    "        "
   ]
  },
  {
   "cell_type": "code",
   "execution_count": 11,
   "id": "f7568146",
   "metadata": {},
   "outputs": [],
   "source": [
    "list1 = doublyLinkedList()\n"
   ]
  },
  {
   "cell_type": "code",
   "execution_count": 12,
   "id": "37b916b0",
   "metadata": {},
   "outputs": [],
   "source": [
    "list1.add_new_node_in_beginnig(1)\n",
    "list1.add_new_node_in_beginnig(2)\n",
    "list1.add_new_node_in_beginnig(3)\n",
    "list1.add_new_node_in_beginnig(4)\n",
    "                              "
   ]
  },
  {
   "cell_type": "code",
   "execution_count": null,
   "id": "7b1a058a",
   "metadata": {},
   "outputs": [],
   "source": []
  }
 ],
 "metadata": {
  "kernelspec": {
   "display_name": "Python 3",
   "language": "python",
   "name": "python3"
  },
  "language_info": {
   "codemirror_mode": {
    "name": "ipython",
    "version": 3
   },
   "file_extension": ".py",
   "mimetype": "text/x-python",
   "name": "python",
   "nbconvert_exporter": "python",
   "pygments_lexer": "ipython3",
   "version": "3.8.8"
  }
 },
 "nbformat": 4,
 "nbformat_minor": 5
}
