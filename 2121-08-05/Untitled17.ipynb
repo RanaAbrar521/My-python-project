{
 "cells": [
  {
   "cell_type": "code",
   "execution_count": null,
   "id": "9e3f5655",
   "metadata": {},
   "outputs": [],
   "source": [
    "class node:\n",
    "    def __init__(self,data):\n",
    "        self.data = data\n",
    "        self.next = None\n",
    "    \n",
    "class circularLinkedList:\n",
    "    def __init__(self):\n",
    "        self.head = None\n",
    "    def add_at_beg(self,new_data):\n",
    "        new_node = node(new_data)\n",
    "        new_node.next = self.head\n",
    "        self.head = new_node\n",
    "        \n",
    "        \n",
    "        \n",
    "    def add_at_particular(self,new_data,position):\n",
    "        new_node = node(new_data)\n",
    "        if self.head is None:\n",
    "            self.head = new_node\n",
    "            new_node.next =  self.head\n",
    "            \n",
    "        else:\n",
    "            temp = self.head\n",
    "            count_val = 1\n",
    "            while(temp):\n",
    "                if position == count_val:\n",
    "                    temp_node = temp.next\n",
    "                    new_node.next = temp_node\n",
    "                    temp.node = new_node\n",
    "                    \n",
    "                count_val += 1\n",
    "                temp = temp.next\n",
    "                \n",
    "    def add_at_end(self,new_data):\n",
    "        new_node = node(new_data)\n",
    "        if self.head == None:\n",
    "            self.head = new_node\n",
    "        else:\n",
    "            temp = self.head\n",
    "        while (temp.next != 0):\n",
    "            temp = temp.next\n",
    "            temp.next = new_node\n",
    "                \n",
    "        \n",
    "    \n",
    "    def print_linkedList(self):\n",
    "        temp = self.head\n",
    "        if self.head is not None:\n",
    "            while(temp):\n",
    "                print (temp.data)\n",
    "                temp = temp.next\n",
    "                \n",
    "                if temp == self.head:\n",
    "                \n",
    "                 break\n",
    "            "
   ]
  },
  {
   "cell_type": "code",
   "execution_count": null,
   "id": "8eb97ed2",
   "metadata": {},
   "outputs": [],
   "source": [
    "list1 =  circularLinkedList()"
   ]
  },
  {
   "cell_type": "code",
   "execution_count": null,
   "id": "d0d0c9e0",
   "metadata": {},
   "outputs": [],
   "source": [
    "list1.add_at_particular(13,1)"
   ]
  },
  {
   "cell_type": "code",
   "execution_count": 4,
   "id": "e64aba98",
   "metadata": {},
   "outputs": [
    {
     "name": "stdout",
     "output_type": "stream",
     "text": [
      "13\n"
     ]
    }
   ],
   "source": [
    "list1.print_linkedList()"
   ]
  },
  {
   "cell_type": "code",
   "execution_count": null,
   "id": "4d040da1",
   "metadata": {},
   "outputs": [],
   "source": []
  }
 ],
 "metadata": {
  "kernelspec": {
   "display_name": "Python 3",
   "language": "python",
   "name": "python3"
  },
  "language_info": {
   "codemirror_mode": {
    "name": "ipython",
    "version": 3
   },
   "file_extension": ".py",
   "mimetype": "text/x-python",
   "name": "python",
   "nbconvert_exporter": "python",
   "pygments_lexer": "ipython3",
   "version": "3.8.8"
  }
 },
 "nbformat": 4,
 "nbformat_minor": 5
}
