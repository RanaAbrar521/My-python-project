{
 "cells": [
  {
   "cell_type": "markdown",
   "id": "a4fb36c8",
   "metadata": {},
   "source": [
    "# Q1. Create a function add_numbers which takes 4 parameters\n",
    "1. x (integer)\n",
    "2. y (integer)\n",
    "3. z (integer)\n",
    "4. flag (Boolean)\n",
    "z and flag are optional parameters\n",
    "if function receives z then function should return the sum of x y and z else\n",
    "return the sum of x and y\n",
    "if flag is True also print the statement\n",
    "“Flag is True”"
   ]
  },
  {
   "cell_type": "code",
   "execution_count": 1,
   "id": "c435f48e",
   "metadata": {},
   "outputs": [],
   "source": [
    "def add_numbers(x,y,z=None,flag=None):\n",
    "    if flag is True:\n",
    "        print (\"Flag is True\")\n",
    "    if z:\n",
    "        return x+y+z\n",
    "    else:\n",
    "        return x+y\n",
    "     "
   ]
  },
  {
   "cell_type": "code",
   "execution_count": 2,
   "id": "7029fb5a",
   "metadata": {},
   "outputs": [
    {
     "name": "stdout",
     "output_type": "stream",
     "text": [
      "Flag is True\n"
     ]
    },
    {
     "data": {
      "text/plain": [
       "9"
      ]
     },
     "execution_count": 2,
     "metadata": {},
     "output_type": "execute_result"
    }
   ],
   "source": [
    "add_numbers(2,3,4,flag = True)"
   ]
  },
  {
   "cell_type": "markdown",
   "id": "b75eb8ae",
   "metadata": {},
   "source": [
    "# Q2. Write a function get_datetime(int) that takes a param number_of_days and if the number is divisible by 2 returns (current_datetime + number_of_days) and if number is divisible by 3 returns (current_datetime - number_of_days) else return current_datetime"
   ]
  },
  {
   "cell_type": "code",
   "execution_count": 3,
   "id": "064cf795",
   "metadata": {},
   "outputs": [],
   "source": [
    "import datetime as dt"
   ]
  },
  {
   "cell_type": "code",
   "execution_count": 4,
   "id": "a8ac5088",
   "metadata": {},
   "outputs": [],
   "source": [
    "def get_datetime(number_of_days):\n",
    "    \n",
    "    current_datetime = dt.datetime.today()\n",
    "    \n",
    "    if number_of_days % 2 :\n",
    "        return current_datetime + dt.timedelta(days=number_of_days)\n",
    "    \n",
    "    elif number_of_days % 3 :\n",
    "        return current_datetime - dt.timedelta(days=number_of_days)\n",
    "    \n",
    "    else:\n",
    "        return current_datetime\n",
    "    \n",
    "\n",
    "    \n",
    "    "
   ]
  },
  {
   "cell_type": "code",
   "execution_count": 5,
   "id": "6af2daa7",
   "metadata": {},
   "outputs": [
    {
     "data": {
      "text/plain": [
       "datetime.datetime(2021, 8, 4, 21, 58, 34, 586970)"
      ]
     },
     "execution_count": 5,
     "metadata": {},
     "output_type": "execute_result"
    }
   ],
   "source": [
    "get_datetime(2)"
   ]
  },
  {
   "cell_type": "code",
   "execution_count": 6,
   "id": "61e1afa4",
   "metadata": {},
   "outputs": [
    {
     "data": {
      "text/plain": [
       "datetime.datetime(2021, 8, 13, 21, 58, 34, 603925)"
      ]
     },
     "execution_count": 6,
     "metadata": {},
     "output_type": "execute_result"
    }
   ],
   "source": [
    "get_datetime(7)"
   ]
  },
  {
   "cell_type": "code",
   "execution_count": 7,
   "id": "9af944b1",
   "metadata": {},
   "outputs": [
    {
     "data": {
      "text/plain": [
       "datetime.datetime(2021, 8, 9, 21, 58, 34, 621968)"
      ]
     },
     "execution_count": 7,
     "metadata": {},
     "output_type": "execute_result"
    }
   ],
   "source": [
    "get_datetime(3)"
   ]
  },
  {
   "cell_type": "code",
   "execution_count": 8,
   "id": "6b0298a0",
   "metadata": {},
   "outputs": [
    {
     "data": {
      "text/plain": [
       "datetime.datetime(2021, 8, 6, 21, 58, 34, 637836)"
      ]
     },
     "execution_count": 8,
     "metadata": {},
     "output_type": "execute_result"
    }
   ],
   "source": [
    "dt.datetime.today()"
   ]
  },
  {
   "cell_type": "markdown",
   "id": "294cc339",
   "metadata": {},
   "source": [
    "# Q3. Write a function concat_lst that takes two list as a parameter and combine two list together into single list\n",
    "and should not contains duplicate values.\n",
    "You must use loop to solve this question"
   ]
  },
  {
   "cell_type": "code",
   "execution_count": 12,
   "id": "f4bcdeab",
   "metadata": {},
   "outputs": [],
   "source": [
    "def concat_lst(lst1,lst2):\n",
    "     \n",
    "    \n",
    "    for x in lst2:\n",
    "        if x not in lst1:\n",
    "            lst1.append(x)\n",
    "        \n",
    "    print (lst1)\n",
    "    "
   ]
  },
  {
   "cell_type": "code",
   "execution_count": 13,
   "id": "8561353a",
   "metadata": {},
   "outputs": [
    {
     "name": "stdout",
     "output_type": "stream",
     "text": [
      "[1, 2, 3, 4, 5, 6]\n"
     ]
    }
   ],
   "source": [
    "concat_lst([1,2,3,4],[3,4,5,6])"
   ]
  },
  {
   "cell_type": "markdown",
   "id": "744ab17f",
   "metadata": {},
   "source": [
    "# Q4. Write a function string_case using map that takes list of characters and return\n",
    "List of tuples with containing lower and upper case of that character’s list\n",
    "Final Output must contain unique tuple element"
   ]
  },
  {
   "cell_type": "code",
   "execution_count": 15,
   "id": "ae5b02cf",
   "metadata": {},
   "outputs": [],
   "source": [
    "def string_case(my_list):\n",
    "    return list(set(map(lower_upper,my_list)))\n",
    "def lower_upper(x):\n",
    "    return x.upper(),x.lower()"
   ]
  },
  {
   "cell_type": "code",
   "execution_count": 16,
   "id": "503ea670",
   "metadata": {},
   "outputs": [
    {
     "data": {
      "text/plain": [
       "[('A', 'a'), ('B', 'b'), ('D', 'd'), ('C', 'c')]"
      ]
     },
     "execution_count": 16,
     "metadata": {},
     "output_type": "execute_result"
    }
   ],
   "source": [
    "string_case([\"a\",'B',\"c\",\"D\"])"
   ]
  },
  {
   "cell_type": "markdown",
   "id": "ebc516ba",
   "metadata": {},
   "source": [
    "# Q7. Create a class Student with the following getters and setters\n",
    "1. Constructor\n",
    "a. Create an Object with following parameters\n",
    "i. Name\n",
    "ii. Batch No\n",
    "iii. Address\n",
    "iv. Age\n",
    "v. Father Name\n",
    "vi. City\n",
    "\n",
    "2. New\n",
    "a. Students with age more than 18 are not allowed in the school\n",
    "b. Students of Lahore Islamabad Faisalabad Karachi are allowed\n",
    "3. Setters\n",
    "a. Name (str)\n",
    "b. Batch no (int)\n",
    "c. Address (str)\n",
    "d. Age (str)\n",
    "e. Father name (str)\n",
    "f. City (str)\n",
    "4. Getters\n",
    "a. Name\n",
    "b. Batch no\n",
    "c. Address\n",
    "d. Age\n",
    "e. Father name\n",
    "f. City\n",
    "5. Create a new class called DevnationStudents which is a child class of Student\n",
    "a. Write a constructor that\n",
    "i. That calls the Parent Class Constructor\n",
    "ii. Also save courses and marks as empty list in the child constructor\n",
    "b. Write setter functions\n",
    "i. Add courses\n",
    "1. Takes a list of courses\n",
    "2. Add only those courses in the list which are not already in the\n",
    "ii. Add courses_marks\n",
    "1. This takes the list of dictionaries\n",
    "2. If the particular exists in the courses lists then the particular dictionary\n",
    "should be added in the marks list\n",
    "3. Marks list should not contains duplicate entries of same courses\n",
    "\n",
    "c. Write getter functions\n",
    "i. Get courses\n",
    "ii. Get Marks"
   ]
  },
  {
   "cell_type": "code",
   "execution_count": 33,
   "id": "8070920b",
   "metadata": {},
   "outputs": [],
   "source": [
    "class Student:\n",
    "    def __new__(cls,name,batch_no,address,age,father_name,city):\n",
    "        if age<18 :\n",
    "            \n",
    "            if city == \"Lahore\" or city == \"Islamabad\" or city == \"Karachi \" or city == \"Faslabad\":\n",
    "                \n",
    "                inst = object.__new__(cls)\n",
    "                \n",
    "                return inst\n",
    "class Student:            \n",
    "    def __init__(self,name,batch_no,address,age,father_name,city):\n",
    "        self.name=name\n",
    "        self.batch_no=batch_no\n",
    "        self.address=address\n",
    "        self.age=age\n",
    "        self.father_name=father_name\n",
    "        self.city=city\n",
    "        \n",
    "    def set_name(self,name):\n",
    "        self.name=name\n",
    "        \n",
    "    def set_batch_no(self,batch_no):\n",
    "        self.batch_no=batch_no\n",
    "        \n",
    "    def set_address(self,address):\n",
    "        self.address=address\n",
    "        \n",
    "    def set_age(self,age):\n",
    "         self.age=age\n",
    "        \n",
    "    def set_father_name(self,father_name):\n",
    "        self.father_name=father_name\n",
    "        \n",
    "    def set_city(self,city):\n",
    "        self.city=city\n",
    "        \n",
    "    def get_name(self):\n",
    "        return self.name\n",
    "    \n",
    "    def get_batch_no(self):\n",
    "        return self.batch_no\n",
    "    \n",
    "    def get_address(self):\n",
    "        return self.address\n",
    "    \n",
    "    def get_age(self):\n",
    "         return self.age\n",
    "        \n",
    "    def get_father_name(self):\n",
    "        return self.father_name\n",
    "        \n",
    "    def get_city(self):\n",
    "        return self.city\n",
    "    \n",
    "class DevnationStudents(Student):\n",
    "    def __init__(self,name,batch_no,address,age,father_name,city,courses=[],marks=[]):\n",
    "        super().__init__(name,batch_no,address,age,father_name,city)\n",
    "        self.courses=courses\n",
    "        self.marks=marks\n",
    "        \n",
    "    def set_courses(self,courses):\n",
    "        \n",
    "        for x in courses:\n",
    "            if x not in self.courses:\n",
    "                self.courses.append(x)\n",
    "                \n",
    "    def set_marks(self,courses,marks):\n",
    "        \n",
    "        for x in courses:\n",
    "            if x in self.courses:\n",
    "                self.marks.append({\"courses\":x,\"marks\":marks})\n",
    "            else:\n",
    "                print(\"not found\")\n",
    "                \n",
    "    def get_courses(self):\n",
    "        return self.courses\n",
    "    def get_marks(self):\n",
    "        return self.marks\n",
    "        "
   ]
  },
  {
   "cell_type": "code",
   "execution_count": 34,
   "id": "acd861df",
   "metadata": {},
   "outputs": [
    {
     "data": {
      "text/plain": [
       "['datascience', 'c++', 'fullstack']"
      ]
     },
     "execution_count": 34,
     "metadata": {},
     "output_type": "execute_result"
    }
   ],
   "source": [
    "obj= DevnationStudents (\"AbdulRehman\",3,\"CTN\",17,\"Shoukat_Ali\",\"Karachi\")\n",
    "obj.set_courses({'datascience','fullstack','c++'})\n",
    "obj.get_courses()"
   ]
  },
  {
   "cell_type": "code",
   "execution_count": 35,
   "id": "41affe4b",
   "metadata": {},
   "outputs": [
    {
     "data": {
      "text/plain": [
       "['datascience', 'c++', 'fullstack', 'python', 'java']"
      ]
     },
     "execution_count": 35,
     "metadata": {},
     "output_type": "execute_result"
    }
   ],
   "source": [
    "obj.set_courses({'java','python'})\n",
    "obj.get_courses()"
   ]
  },
  {
   "cell_type": "code",
   "execution_count": 36,
   "id": "eedefe41",
   "metadata": {},
   "outputs": [
    {
     "data": {
      "text/plain": [
       "['datascience', 'c++', 'fullstack', 'python', 'java', 'script']"
      ]
     },
     "execution_count": 36,
     "metadata": {},
     "output_type": "execute_result"
    }
   ],
   "source": [
    "obj.set_courses({'java','python','script'})\n",
    "obj.get_courses()"
   ]
  },
  {
   "cell_type": "code",
   "execution_count": 37,
   "id": "cf099c4e",
   "metadata": {},
   "outputs": [
    {
     "data": {
      "text/plain": [
       "[{'courses': 'java', 'marks': 40}]"
      ]
     },
     "execution_count": 37,
     "metadata": {},
     "output_type": "execute_result"
    }
   ],
   "source": [
    "obj.set_marks([\"java\"],40)\n",
    "obj.get_marks()"
   ]
  },
  {
   "cell_type": "code",
   "execution_count": 38,
   "id": "af614f3d",
   "metadata": {},
   "outputs": [
    {
     "data": {
      "text/plain": [
       "[{'courses': 'java', 'marks': 40}, {'courses': 'datascience', 'marks': 40}]"
      ]
     },
     "execution_count": 38,
     "metadata": {},
     "output_type": "execute_result"
    }
   ],
   "source": [
    "obj.set_marks([\"datascience\"],40)\n",
    "obj.get_marks()"
   ]
  },
  {
   "cell_type": "markdown",
   "id": "381d2249",
   "metadata": {},
   "source": [
    "# Q8. Write a function get_indices that receives the list of integers nums and an integer target, return indices of\n",
    "the two numbers such that they add up to target. You may assume that each input would have exactly one\n",
    "solution, and you may not use the same element twice.\n",
    "You can return the answer in any order."
   ]
  },
  {
   "cell_type": "code",
   "execution_count": 39,
   "id": "ae3d7008",
   "metadata": {},
   "outputs": [],
   "source": [
    "def get_indices(int_list, target):\n",
    "    \n",
    "    for num_idx_1 in range(0, len(int_list)):\n",
    "        for num_idx_2 in range(0, len(int_list)):\n",
    "            if (int_list[num_idx_1] + int_list[num_idx_2]) == target:\n",
    "                return num_idx_1, num_idx_2\n",
    "            else:\n",
    "                continue"
   ]
  },
  {
   "cell_type": "code",
   "execution_count": 40,
   "id": "aadd77d7",
   "metadata": {},
   "outputs": [
    {
     "data": {
      "text/plain": [
       "[0, 3]"
      ]
     },
     "execution_count": 40,
     "metadata": {},
     "output_type": "execute_result"
    }
   ],
   "source": [
    "int_list = [13,2,19,7,11,15]\n",
    "target_num = 20\n",
    "\n",
    "result = list(get_indices(int_list, target_num))\n",
    "result"
   ]
  },
  {
   "cell_type": "markdown",
   "id": "cd36bc46",
   "metadata": {},
   "source": [
    "# Q9. Write a function backward_number. That a receives a number and return the number in backwards\n",
    "Input = 1234\n",
    "Output = 4321"
   ]
  },
  {
   "cell_type": "code",
   "execution_count": 41,
   "id": "0685df24",
   "metadata": {},
   "outputs": [],
   "source": [
    "def backward_number(num):\n",
    "    rev_no = 0\n",
    "    while (num!=0):\n",
    "        reminder = num % 10\n",
    "        rev_no = (rev_no*10) + reminder\n",
    "        num = num // 10\n",
    "        \n",
    "    return rev_no"
   ]
  },
  {
   "cell_type": "code",
   "execution_count": 42,
   "id": "11ec143a",
   "metadata": {},
   "outputs": [
    {
     "data": {
      "text/plain": [
       "4321"
      ]
     },
     "execution_count": 42,
     "metadata": {},
     "output_type": "execute_result"
    }
   ],
   "source": [
    "backward_number(1234)"
   ]
  },
  {
   "cell_type": "markdown",
   "id": "0009a86a",
   "metadata": {},
   "source": [
    "# Q10\n",
    "Create a function remove_duplication that takes a list and remove duplication from list. You cannot use set function"
   ]
  },
  {
   "cell_type": "code",
   "execution_count": 43,
   "id": "51d0fa68",
   "metadata": {},
   "outputs": [
    {
     "name": "stdout",
     "output_type": "stream",
     "text": [
      "[1, 2, 3, 4, 5]\n"
     ]
    }
   ],
   "source": [
    "def remove_duplication(x):\n",
    "    return list (dict.fromkeys(x))\n",
    "\n",
    "my_list = remove_duplication([1,2,3,3,4,5,5]) \n",
    "print(my_list)"
   ]
  },
  {
   "cell_type": "markdown",
   "id": "e3ba0221",
   "metadata": {},
   "source": [
    "# Q5. Write a function get_city_mpg_avg, that groups the cars by number of cylinders, and\n",
    "finding the average cty mpg for each group. Output should be in the list of tuples Output = [ (5,20),(4,18),(3,16) ] Note:\n",
    "\n",
    "Use MPG.csv file\n",
    "First index of tuple shows the number of cylinders and second index shows the average\n",
    "Result should be sorted by first tuple index by using lambda functions"
   ]
  },
  {
   "cell_type": "code",
   "execution_count": 66,
   "id": "67bce929",
   "metadata": {},
   "outputs": [],
   "source": [
    "import csv\n",
    "\n",
    "def get_cty_mpg_avg():\n",
    "    with open('mpg.csv') as csvfile:\n",
    "        mpg=list(csv.DictReader(csvfile))\n",
    "    a = set(i['cyl'] for i in mpg)\n",
    "    find_res=[]\n",
    "    for c in a:\n",
    "        sum_val=0\n",
    "        count=0\n",
    "        for d in mpg:\n",
    "            if d['cyl'] == c:\n",
    "                sum_val+=float(d['cty'])\n",
    "                count=count+1\n",
    "            \n",
    "        find_res.append((c,sum_val/count))\n",
    "    find_res.sort(key=lambda x:x[0])\n",
    "    return find_res\n",
    " "
   ]
  },
  {
   "cell_type": "code",
   "execution_count": 67,
   "id": "fbe3ab6a",
   "metadata": {},
   "outputs": [
    {
     "data": {
      "text/plain": [
       "[('4', 21.012345679012345),\n",
       " ('5', 20.5),\n",
       " ('6', 16.21518987341772),\n",
       " ('8', 12.571428571428571)]"
      ]
     },
     "execution_count": 67,
     "metadata": {},
     "output_type": "execute_result"
    }
   ],
   "source": [
    "get_cty_mpg_avg()"
   ]
  },
  {
   "cell_type": "code",
   "execution_count": 65,
   "id": "b27c5fd3",
   "metadata": {},
   "outputs": [
    {
     "data": {
      "text/plain": [
       "[{'': '1',\n",
       "  'manufacturer': 'audi',\n",
       "  'model': 'a4',\n",
       "  'displ': '1.8',\n",
       "  'year': '1999',\n",
       "  'cyl': '4',\n",
       "  'trans': 'auto(l5)',\n",
       "  'drv': 'f',\n",
       "  'cty': '18',\n",
       "  'hwy': '29',\n",
       "  'fl': 'p',\n",
       "  'class': 'compact'},\n",
       " {'': '2',\n",
       "  'manufacturer': 'audi',\n",
       "  'model': 'a4',\n",
       "  'displ': '1.8',\n",
       "  'year': '1999',\n",
       "  'cyl': '4',\n",
       "  'trans': 'manual(m5)',\n",
       "  'drv': 'f',\n",
       "  'cty': '21',\n",
       "  'hwy': '29',\n",
       "  'fl': 'p',\n",
       "  'class': 'compact'}]"
      ]
     },
     "execution_count": 65,
     "metadata": {},
     "output_type": "execute_result"
    }
   ],
   "source": [
    "mpg[:2]"
   ]
  },
  {
   "cell_type": "markdown",
   "id": "28d2d1a4",
   "metadata": {},
   "source": [
    "# Q6. Write a function get_hwy_mpg_avg find the average hwy mpg for each class of vehicle\n",
    "Hwy mpg means highway mileage\n",
    "1. Use MPG.csv file\n",
    "2. Hwy mpg is found as hwy column in a file\n",
    "3. Vehicle class is found as class column in a file\n",
    "4. Sort Hwy Mpg in ascending order"
   ]
  },
  {
   "cell_type": "code",
   "execution_count": 68,
   "id": "17bb5946",
   "metadata": {},
   "outputs": [],
   "source": [
    "import csv\n",
    "\n",
    "def get_cty_mpg_avg():\n",
    "    with open('mpg.csv') as csvfile:\n",
    "        mpg=list(csv.DictReader(csvfile))\n",
    "    a = set(i['class'] for i in mpg)\n",
    "    find_res=[]\n",
    "    for c in a:\n",
    "        sum_val=0\n",
    "        count=0\n",
    "        for d in mpg:\n",
    "            if d['class'] == c:\n",
    "                sum_val+=float(d['hwy'])\n",
    "                count=count+1\n",
    "        find_res.append((c,sum_val/count))\n",
    "    find_res.sort(key=lambda x:x[1])\n",
    "    return find_res"
   ]
  },
  {
   "cell_type": "code",
   "execution_count": 69,
   "id": "74dddb02",
   "metadata": {},
   "outputs": [
    {
     "data": {
      "text/plain": [
       "[('pickup', 16.87878787878788),\n",
       " ('suv', 18.129032258064516),\n",
       " ('minivan', 22.363636363636363),\n",
       " ('2seater', 24.8),\n",
       " ('midsize', 27.29268292682927),\n",
       " ('subcompact', 28.142857142857142),\n",
       " ('compact', 28.29787234042553)]"
      ]
     },
     "execution_count": 69,
     "metadata": {},
     "output_type": "execute_result"
    }
   ],
   "source": [
    "get_cty_mpg_avg()"
   ]
  },
  {
   "cell_type": "code",
   "execution_count": null,
   "id": "74879b25",
   "metadata": {},
   "outputs": [],
   "source": []
  }
 ],
 "metadata": {
  "kernelspec": {
   "display_name": "Python 3",
   "language": "python",
   "name": "python3"
  },
  "language_info": {
   "codemirror_mode": {
    "name": "ipython",
    "version": 3
   },
   "file_extension": ".py",
   "mimetype": "text/x-python",
   "name": "python",
   "nbconvert_exporter": "python",
   "pygments_lexer": "ipython3",
   "version": "3.8.8"
  }
 },
 "nbformat": 4,
 "nbformat_minor": 5
}
