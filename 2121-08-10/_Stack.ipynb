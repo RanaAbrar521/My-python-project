{
 "cells": [
  {
   "cell_type": "markdown",
   "id": "fa46bf44",
   "metadata": {},
   "source": [
    "Q1. Create a class Stack Contains\n",
    "\n",
    "a. Items\n",
    "2. Functions\n",
    "a. push\n",
    "i. insert the item at start of the stack\n",
    "b. pop\n",
    "i. Pop first element from the stack\n",
    "c. peak\n",
    "i. Returns top element of the stack\n",
    "d. print_stack\n",
    "i. Display the entire\n",
    "e. size\n",
    "i. Return total number of items in the stack\n",
    "f. push_without_using_insert\n",
    "i. Insert the item at start of the stack without using .insert method of\n",
    "string\n",
    "\n",
    "Note: Not a single function should crash on an empty stack"
   ]
  },
  {
   "cell_type": "code",
   "execution_count": 46,
   "id": "6a758648",
   "metadata": {},
   "outputs": [],
   "source": [
    "class stack:\n",
    "    \n",
    "    def __init__(self):\n",
    "        self.items = []\n",
    "        \n",
    "    def push(self,items):\n",
    "        self.items.insert(0,items)\n",
    "    \n",
    "    def pop(self):\n",
    "        return self.items.pop(0)\n",
    "    \n",
    "    def peek(self):\n",
    "        return self.items[0]\n",
    "    \n",
    "    def size(self):\n",
    "        return len(self.items)\n",
    "    \n",
    "    def print_stack(self):\n",
    "        print (self.items)\n",
    "        \n",
    "    def push_without_using_insert(self,items):\n",
    "        list_2 = [items]\n",
    "        self.items = list_2 + self.items  \n",
    "    \n",
    "    def is_empty(self):\n",
    "        return self.items == []\n",
    "    \n",
    "    \n",
    "    \n",
    "    "
   ]
  },
  {
   "cell_type": "code",
   "execution_count": 47,
   "id": "d6b20ade",
   "metadata": {},
   "outputs": [],
   "source": [
    "s = stack()"
   ]
  },
  {
   "cell_type": "code",
   "execution_count": 52,
   "id": "dfe1c9dd",
   "metadata": {},
   "outputs": [],
   "source": [
    "s.push(9)"
   ]
  },
  {
   "cell_type": "code",
   "execution_count": 53,
   "id": "cb3ff00a",
   "metadata": {},
   "outputs": [
    {
     "name": "stdout",
     "output_type": "stream",
     "text": [
      "[9, 8, 7]\n"
     ]
    }
   ],
   "source": [
    "s.print_stack()"
   ]
  },
  {
   "cell_type": "code",
   "execution_count": 54,
   "id": "7f15361e",
   "metadata": {},
   "outputs": [
    {
     "data": {
      "text/plain": [
       "9"
      ]
     },
     "execution_count": 54,
     "metadata": {},
     "output_type": "execute_result"
    }
   ],
   "source": [
    "s.peek()"
   ]
  },
  {
   "cell_type": "code",
   "execution_count": 55,
   "id": "d2ddfbb5",
   "metadata": {},
   "outputs": [
    {
     "data": {
      "text/plain": [
       "9"
      ]
     },
     "execution_count": 55,
     "metadata": {},
     "output_type": "execute_result"
    }
   ],
   "source": [
    "s.pop()"
   ]
  },
  {
   "cell_type": "code",
   "execution_count": 56,
   "id": "a39e5c95",
   "metadata": {},
   "outputs": [
    {
     "data": {
      "text/plain": [
       "2"
      ]
     },
     "execution_count": 56,
     "metadata": {},
     "output_type": "execute_result"
    }
   ],
   "source": [
    "s.size()"
   ]
  },
  {
   "cell_type": "code",
   "execution_count": 57,
   "id": "141e6866",
   "metadata": {},
   "outputs": [
    {
     "data": {
      "text/plain": [
       "False"
      ]
     },
     "execution_count": 57,
     "metadata": {},
     "output_type": "execute_result"
    }
   ],
   "source": [
    "s.is_empty()"
   ]
  },
  {
   "cell_type": "code",
   "execution_count": 58,
   "id": "b1a5d7b9",
   "metadata": {},
   "outputs": [],
   "source": [
    "s.push_without_using_insert(6)"
   ]
  },
  {
   "cell_type": "code",
   "execution_count": 59,
   "id": "2f453697",
   "metadata": {},
   "outputs": [
    {
     "name": "stdout",
     "output_type": "stream",
     "text": [
      "[6, 8, 7]\n"
     ]
    }
   ],
   "source": [
    "s.print_stack()"
   ]
  },
  {
   "cell_type": "code",
   "execution_count": null,
   "id": "e57dac03",
   "metadata": {},
   "outputs": [],
   "source": []
  }
 ],
 "metadata": {
  "kernelspec": {
   "display_name": "Python 3",
   "language": "python",
   "name": "python3"
  },
  "language_info": {
   "codemirror_mode": {
    "name": "ipython",
    "version": 3
   },
   "file_extension": ".py",
   "mimetype": "text/x-python",
   "name": "python",
   "nbconvert_exporter": "python",
   "pygments_lexer": "ipython3",
   "version": "3.8.8"
  }
 },
 "nbformat": 4,
 "nbformat_minor": 5
}
