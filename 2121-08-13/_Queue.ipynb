{
 "cells": [
  {
   "cell_type": "markdown",
   "id": "331407b7",
   "metadata": {},
   "source": [
    "Q1. Create a class Queue Contains\n",
    "\n",
    "a. Items\n",
    "2. Functions\n",
    "a. enqueue\n",
    "i. insert the item at start of the queue\n",
    "b. dequeue\n",
    "i. dequeue the first element from the queue\n",
    "c. peak\n",
    "i. Returns top element of the queue\n",
    "d. print_stack\n",
    "i. Display the entire queue\n",
    "e. size\n",
    "i. Return total number of items in the queue\n",
    "f. dequeue_without_using_insert\n",
    "i. Insert the item at start of the queue without using .insert method of\n",
    "string\n",
    "\n",
    "Note: Not a single function should crash on an empty stack"
   ]
  },
  {
   "cell_type": "code",
   "execution_count": 32,
   "id": "7dc446f9",
   "metadata": {},
   "outputs": [],
   "source": [
    "class queue:\n",
    "    def __init__(self):\n",
    "        self.items = []\n",
    "        \n",
    "    def enqueue(self,items):\n",
    "        self.items.insert(0,items)\n",
    "        \n",
    "    def dequeue(self):\n",
    "        if self.size() > 0:\n",
    "            return self.items.pop()\n",
    "            \n",
    "    def peak(self):\n",
    "        if self.size() > 0:\n",
    "            return self.items[-1]\n",
    "    \n",
    "    def print_queue(self):\n",
    "        for i in self.items:\n",
    "            print(i)\n",
    "            \n",
    "    def size(self):\n",
    "        return len(self.items)\n",
    "    \n",
    "    def enqueue_without_using_insert(self,items):\n",
    "        final_lst = []\n",
    "        final_lst.append(items)\n",
    "        for i in self.items:\n",
    "            final_lst.append(i)\n",
    "            self.items = final_lst "
   ]
  },
  {
   "cell_type": "code",
   "execution_count": 33,
   "id": "8dd9da0f",
   "metadata": {},
   "outputs": [],
   "source": [
    "s = queue()"
   ]
  },
  {
   "cell_type": "code",
   "execution_count": 42,
   "id": "f0a1c55d",
   "metadata": {},
   "outputs": [],
   "source": [
    "s.enqueue(4)"
   ]
  },
  {
   "cell_type": "code",
   "execution_count": 43,
   "id": "9eafa1db",
   "metadata": {},
   "outputs": [
    {
     "name": "stdout",
     "output_type": "stream",
     "text": [
      "4\n",
      "5\n",
      "6\n",
      "7\n",
      "8\n"
     ]
    }
   ],
   "source": [
    "s.print_queue()"
   ]
  },
  {
   "cell_type": "code",
   "execution_count": 44,
   "id": "8f705cb8",
   "metadata": {},
   "outputs": [
    {
     "data": {
      "text/plain": [
       "8"
      ]
     },
     "execution_count": 44,
     "metadata": {},
     "output_type": "execute_result"
    }
   ],
   "source": [
    "s.dequeue()"
   ]
  },
  {
   "cell_type": "code",
   "execution_count": 45,
   "id": "881fa8ad",
   "metadata": {},
   "outputs": [
    {
     "name": "stdout",
     "output_type": "stream",
     "text": [
      "4\n",
      "5\n",
      "6\n",
      "7\n"
     ]
    }
   ],
   "source": [
    "s.print_queue()"
   ]
  },
  {
   "cell_type": "code",
   "execution_count": 46,
   "id": "132ee509",
   "metadata": {},
   "outputs": [
    {
     "data": {
      "text/plain": [
       "7"
      ]
     },
     "execution_count": 46,
     "metadata": {},
     "output_type": "execute_result"
    }
   ],
   "source": [
    "s.peak()"
   ]
  },
  {
   "cell_type": "code",
   "execution_count": 47,
   "id": "91163af8",
   "metadata": {},
   "outputs": [
    {
     "data": {
      "text/plain": [
       "4"
      ]
     },
     "execution_count": 47,
     "metadata": {},
     "output_type": "execute_result"
    }
   ],
   "source": [
    "s.size()"
   ]
  },
  {
   "cell_type": "code",
   "execution_count": 48,
   "id": "ce9361ae",
   "metadata": {},
   "outputs": [],
   "source": [
    "s.enqueue_without_using_insert(9)"
   ]
  },
  {
   "cell_type": "code",
   "execution_count": 49,
   "id": "629b740c",
   "metadata": {},
   "outputs": [
    {
     "name": "stdout",
     "output_type": "stream",
     "text": [
      "9\n",
      "4\n",
      "5\n",
      "6\n",
      "7\n"
     ]
    }
   ],
   "source": [
    "s.print_queue()"
   ]
  },
  {
   "cell_type": "code",
   "execution_count": null,
   "id": "d8484a5a",
   "metadata": {},
   "outputs": [],
   "source": []
  }
 ],
 "metadata": {
  "kernelspec": {
   "display_name": "Python 3",
   "language": "python",
   "name": "python3"
  },
  "language_info": {
   "codemirror_mode": {
    "name": "ipython",
    "version": 3
   },
   "file_extension": ".py",
   "mimetype": "text/x-python",
   "name": "python",
   "nbconvert_exporter": "python",
   "pygments_lexer": "ipython3",
   "version": "3.8.8"
  }
 },
 "nbformat": 4,
 "nbformat_minor": 5
}
