{
 "cells": [
  {
   "cell_type": "markdown",
   "id": "df511a13-49b4-4c16-9469-21b607006ef3",
   "metadata": {},
   "source": [
    "Data Science Lab-08"
   ]
  },
  {
   "cell_type": "markdown",
   "id": "3b6ad0b7-dfec-436b-805d-8444b6da0d62",
   "metadata": {},
   "source": [
    "  # QUESTION #01\n",
    " Create a function add_numbers which takes 4 parameters\n",
    "1. x (integer)\n",
    "2. y (integer)\n",
    "3. z (integer)\n",
    "4. flag (Boolean)\n",
    "z and flag are optional parameters\n",
    "if function receives z then function should return the sum of x y and z else\n",
    "return the sum of x and y"
   ]
  },
  {
   "cell_type": "code",
   "execution_count": 37,
   "id": "e2888319-571f-455c-8130-a400e72ae676",
   "metadata": {},
   "outputs": [],
   "source": [
    "def add_numbers(x,y,z=None,flag= None):\n",
    "    if flag == True:\n",
    "        print(\"flag is true\")\n",
    "    if z is None:\n",
    "        return x+y\n",
    "    else:\n",
    "        return x+y+z"
   ]
  },
  {
   "cell_type": "code",
   "execution_count": 38,
   "id": "c6ebbd29-aa2d-450c-8bb9-1f3effba5cdd",
   "metadata": {},
   "outputs": [
    {
     "data": {
      "text/plain": [
       "13"
      ]
     },
     "execution_count": 38,
     "metadata": {},
     "output_type": "execute_result"
    }
   ],
   "source": [
    "add_numbers(6,7)"
   ]
  },
  {
   "cell_type": "markdown",
   "id": "59706e9e-d223-40db-90e9-0191ae059bb7",
   "metadata": {},
   "source": [
    "Question#02\n",
    "Write a function get_datetime(int) that takes a param number_of_days and\n",
    "if the number is divisible by 2 returns (current_datetime + number_of_days) and\n",
    "if number is divisible by 3 returns (current_datetime - number_of_days)\n",
    "else return current_datetime"
   ]
  },
  {
   "cell_type": "code",
   "execution_count": 56,
   "id": "d710446c-cdf6-4204-9c87-7661b3717daf",
   "metadata": {},
   "outputs": [],
   "source": [
    "import datetime as dt\n",
    "import time as tm\n",
    "def get_datetime(num_of_days):\n",
    "    if (num_of_days % 2) == 0:\n",
    "        return dt.datetime.today() + dt.timedelta(days=num_of_days)\n",
    "    elif (num_of_days % 3) == 0:\n",
    "        return dt.datetime.today() - dt.timedelta(days=num_of_days)\n",
    "    else:\n",
    "        return dt.datetime.today()"
   ]
  },
  {
   "cell_type": "code",
   "execution_count": 59,
   "id": "37225feb-e7a9-44d5-9116-bb25d5e9e313",
   "metadata": {},
   "outputs": [
    {
     "name": "stdout",
     "output_type": "stream",
     "text": [
      "2021-08-03 11:38:22.734428\n",
      "2021-07-21 11:38:22.735431\n"
     ]
    }
   ],
   "source": [
    "print(get_datetime(4))\n",
    "print(get_datetime(9))"
   ]
  },
  {
   "cell_type": "markdown",
   "id": "4a9224ae-72c2-479d-aee0-69bbd88ce049",
   "metadata": {},
   "source": [
    "Question #03\n",
    "Write a function concat_lst that takes two list as a parameter and combine two list together into single \n",
    "and should not contains duplicate values\n",
    "You must use loop to solve this question"
   ]
  },
  {
   "cell_type": "code",
   "execution_count": 50,
   "id": "676047ab-f4fc-4118-8c11-e71dd58c4eea",
   "metadata": {},
   "outputs": [],
   "source": [
    "def concat_lst(list_1, list_2):\n",
    "    for number in lst_2:\n",
    "        list_1.append(number)\n",
    "    return list(set(list_1))"
   ]
  },
  {
   "cell_type": "code",
   "execution_count": 51,
   "id": "55740a05-1173-44f1-a9be-4209cfd872a7",
   "metadata": {},
   "outputs": [
    {
     "data": {
      "text/plain": [
       "[1, 2, 3, 4, 5, 6, 7, 9, 10, 12]"
      ]
     },
     "execution_count": 51,
     "metadata": {},
     "output_type": "execute_result"
    }
   ],
   "source": [
    "list_L1 = [4,5,3,4,5,6,7]\n",
    "list_L2 = [5,2,7,1,9,10,12]\n",
    "\n",
    "result_list = concat_lst(list_L1,list_L2)\n",
    "result_list"
   ]
  },
  {
   "cell_type": "markdown",
   "id": "ccc24915-620f-45e0-b3db-f2d03880110c",
   "metadata": {},
   "source": [
    "Question#04\n",
    ". Write a function string_case using map that takes list of characters and return\n",
    "List of tuples with containing lower and upper case of that character’s list\n",
    "Final Output must contain unique tuple element "
   ]
  },
  {
   "cell_type": "code",
   "execution_count": 54,
   "id": "09b8b665-b5ad-41bb-8489-913a01b7be1e",
   "metadata": {},
   "outputs": [],
   "source": [
    "def string_case(the_list):\n",
    "    return list(set(map(lower_upper,the_list)))\n",
    "def convert_lower_upper(x):\n",
    "    return x.upper(),x.lower()\n"
   ]
  },
  {
   "cell_type": "code",
   "execution_count": 55,
   "id": "6aff4b5e-734f-4feb-b55a-4c8a58cac09c",
   "metadata": {},
   "outputs": [
    {
     "data": {
      "text/plain": [
       "[('C', 'c'), ('A', 'a'), ('D', 'd'), ('B', 'b')]"
      ]
     },
     "execution_count": 55,
     "metadata": {},
     "output_type": "execute_result"
    }
   ],
   "source": [
    "string_case([\"a\",'B',\"c\",\"D\"])"
   ]
  },
  {
   "cell_type": "markdown",
   "id": "e128db23-65d0-4c49-abb8-e7176f81ae22",
   "metadata": {},
   "source": [
    "Question#05\n",
    "Write a function get_city_mpg_avg, that groups the cars by number of cylinders, and\n",
    "finding the average cty mpg for each group.\n",
    "Output should be in the list of tuples\n"
   ]
  },
  {
   "cell_type": "code",
   "execution_count": 41,
   "id": "14a6a064-4b05-46e9-9306-cfc19f993960",
   "metadata": {},
   "outputs": [
    {
     "data": {
      "text/plain": [
       "[('8', 12.571428571428571),\n",
       " ('4', 21.012345679012345),\n",
       " ('5', 20.5),\n",
       " ('6', 16.21518987341772)]"
      ]
     },
     "execution_count": 41,
     "metadata": {},
     "output_type": "execute_result"
    }
   ],
   "source": [
    "import csv\n",
    "def unique_cyl(w):\n",
    "    cylinders=[]\n",
    "    for i in w:\n",
    "        cylinders.append(i['cyl'])\n",
    "    return list(cylinders)\n",
    "\n",
    "def get_cty_mpg_avg():\n",
    "    with open('mpg.csv') as csv_file:\n",
    "        mpg=list(csv.DictReader(csv_file))\n",
    "    f=unique_cyl(mpg)\n",
    "    result=[]\n",
    "    for c in f:\n",
    "        sum_val=0\n",
    "        count=0\n",
    "        for i in mpg:\n",
    "            if i['cyl']==c:\n",
    "                sum_val=sum_val+float(i['cty'])\n",
    "                count=count+1\n",
    "        result.append((c,sum_val/count))\n",
    "        result.sort(key=lambda x:x[0])\n",
    "    r=list(set(result))\n",
    "    return r\n",
    "get_cty_mpg_avg()"
   ]
  },
  {
   "cell_type": "markdown",
   "id": "e253d120-31b8-48ac-8973-993663df51f1",
   "metadata": {},
   "source": [
    "Question#06\n",
    "Write a function get_hwy_mpg_avg find the average hwy mpg for each class of vehicle\n",
    " Hwy mpg means highway mileage"
   ]
  },
  {
   "cell_type": "code",
   "execution_count": 44,
   "id": "b2eafbda-8a35-491a-8b2c-6db13090269f",
   "metadata": {},
   "outputs": [
    {
     "data": {
      "text/plain": [
       "[('2seater', 24.8),\n",
       " ('midsize', 27.29268292682927),\n",
       " ('minivan', 22.363636363636363),\n",
       " ('pickup', 16.87878787878788),\n",
       " ('subcompact', 28.142857142857142),\n",
       " ('compact', 28.29787234042553),\n",
       " ('suv', 18.129032258064516)]"
      ]
     },
     "execution_count": 44,
     "metadata": {},
     "output_type": "execute_result"
    }
   ],
   "source": [
    "import csv\n",
    "def unique_cyl(w):\n",
    "    classes =[]\n",
    "    for i in w:\n",
    "        classes.append(i['class'])\n",
    "    return list(classes)\n",
    "\n",
    "def get_cty_mpg_avg():\n",
    "    with open('mpg.csv') as csv_file:\n",
    "        mpg=list(csv.DictReader(csv_file))\n",
    "    f=unique_cyl(mpg)\n",
    "    result=[]\n",
    "    for cl in f:\n",
    "        sum_val=0\n",
    "        count=0\n",
    "        for i in mpg:\n",
    "            if i['class']==cl:\n",
    "                sum_val=sum_val+float(i['hwy'])\n",
    "                count=count+1\n",
    "        result.append((cl,sum_val/count))\n",
    "        result.sort(key=lambda x:x[1])\n",
    "    r=list(set(result))\n",
    "    return r\n",
    "get_cty_mpg_avg()"
   ]
  },
  {
   "cell_type": "markdown",
   "id": "4edcd615-66c6-42f5-a06a-e717e0cefdcc",
   "metadata": {},
   "source": [
    " QUESTION #07"
   ]
  },
  {
   "cell_type": "code",
   "execution_count": 26,
   "id": "c61213c6-c0e0-448b-bfd3-5e148964e6fa",
   "metadata": {},
   "outputs": [],
   "source": [
    "class Student:\n",
    "    \n",
    "    def __new__(cls, name, batch_no, address,age,father_name,city):\n",
    "        if age <= 18 and (city == \"Lahore\" or city == \"Islamabad\" or city == \"Faisalabad\" or city == \"Karachi\"):\n",
    "            inst = object.__new__(cls)\n",
    "            return inst\n",
    "        \n",
    "#class constructor\n",
    "    def __init__(self, name, batch_no, address,age,father_name,city):\n",
    "        self.name = name\n",
    "        self.batch_no = batch_no\n",
    "        self.address = address\n",
    "        self.age = age\n",
    "        self.father_name = father_name\n",
    "        self.city = city\n",
    "        \n",
    "#Setters functions\n",
    "    def set_name(self,name):\n",
    "        self.name = str(name)    \n",
    "    def set_batch_no(self,batch_no):\n",
    "        self.batch_no = int(batch_no)   \n",
    "    def set_address(self,address):\n",
    "        self.address = str(address)\n",
    "    def set_age(self,age):\n",
    "        self.age = int(age)\n",
    "    def set_father_name(self,father_name):\n",
    "        self.father_name = str(father_name)\n",
    "    def set_city(self,city):\n",
    "        self.city = str(city)\n",
    "        \n",
    "#Getters functions\n",
    "    def get_name(self):\n",
    "        return self.name    \n",
    "    def get_batch_no(self):\n",
    "        return self.batch_no   \n",
    "    def get_address(self):\n",
    "        return self.address\n",
    "    def get_age(self):\n",
    "        return self.age\n",
    "    def get_father_name(self):\n",
    "        return self.father_name\n",
    "    def get_city(self):\n",
    "        return self.city\n",
    "    \n",
    "# create child class DevnationStudents    \n",
    "class DevnationStudents(Student):\n",
    " # Constructor\n",
    "    def __init__(self, name, batch_no, address,age,father_name,city,courses=[], marks=[]):\n",
    "        super().__init__(name, batch_no, address,age,father_name,city)\n",
    "        self.courses = courses\n",
    "        self.marks = marks\n",
    "        self.courses_marks_list = []\n",
    "\n",
    "# Setter\n",
    "    def set_add_course(self, courses_list):\n",
    "        for course in courses_list:\n",
    "            if course not in self.courses:\n",
    "                self.courses.append(course)    \n",
    "    def check_duplicate(self, value):\n",
    "        flag = False\n",
    "        for existing_dict in self.courses_marks_list:\n",
    "            if existing_dict[\"course\"] == value:\n",
    "                flag = True\n",
    "        return flag\n",
    "    def set_courses_marks(self, course_marks_list):\n",
    "        for new_dict in course_marks_list:\n",
    "            if new_dict[\"course\"] in self.courses:\n",
    "                if (self.check_duplicate(new_dict[\"course\"])):\n",
    "                    continue\n",
    "                else:\n",
    "                    self.courses_marks_list.append(new_dict)\n",
    "    \n",
    "#Getter\n",
    "    def get_course(self):\n",
    "        return self.courses    \n",
    "    def get_course_marks(self):\n",
    "        return self.courses_marks_list\n",
    "        \n",
    "    "
   ]
  },
  {
   "cell_type": "code",
   "execution_count": 29,
   "id": "ae11c6ac-4041-482e-8b22-96812ec8f4c9",
   "metadata": {},
   "outputs": [],
   "source": [
    "obj = DevnationStudents(\"rana abrar\", 10, \"okara\", 22 ,\"Rana iqbal\",\"okara cantt\")"
   ]
  },
  {
   "cell_type": "code",
   "execution_count": null,
   "id": "33baaed5-388e-489b-8054-f96be63daf99",
   "metadata": {},
   "outputs": [],
   "source": [
    "obj.get_course()"
   ]
  },
  {
   "cell_type": "code",
   "execution_count": 29,
   "id": "2b90b3ef-756b-4655-a409-58eb01808ba7",
   "metadata": {},
   "outputs": [],
   "source": [
    "obj.set_add_course([\"C#\", \"Python\", \"SRE\"])"
   ]
  },
  {
   "cell_type": "code",
   "execution_count": 30,
   "id": "f197eaa5-6e6e-4734-a2d8-ce0aacc80e03",
   "metadata": {},
   "outputs": [
    {
     "data": {
      "text/plain": [
       "['C#', 'Python', 'SRE']"
      ]
     },
     "execution_count": 30,
     "metadata": {},
     "output_type": "execute_result"
    }
   ],
   "source": [
    "obj.get_course()"
   ]
  },
  {
   "cell_type": "code",
   "execution_count": 31,
   "id": "0c268081-c38a-4fd7-b115-8e2ba4c8df31",
   "metadata": {},
   "outputs": [],
   "source": [
    "obj.set_courses_marks([{\"course\": \"Python\", \"marks\": \"90\"},{\"course\": \"java\", \"marks\": \"80\"}])"
   ]
  },
  {
   "cell_type": "code",
   "execution_count": 32,
   "id": "bd8872e2-8d92-447d-91af-b7f948713148",
   "metadata": {},
   "outputs": [
    {
     "data": {
      "text/plain": [
       "[{'course': 'Python', 'marks': '90'}]"
      ]
     },
     "execution_count": 32,
     "metadata": {},
     "output_type": "execute_result"
    }
   ],
   "source": [
    "obj.get_course_marks()"
   ]
  },
  {
   "cell_type": "code",
   "execution_count": 33,
   "id": "75b3b015-5432-4cf4-9f5f-2889d7758dec",
   "metadata": {},
   "outputs": [],
   "source": [
    "obj.set_courses_marks([{\"course\": \"C#\", \"marks\": \"90\"},{\"course\": \"Python\", \"marks\": \"80\"}])"
   ]
  },
  {
   "cell_type": "code",
   "execution_count": 34,
   "id": "410fd2b8-191a-4a42-aae9-cba0eec2fd1f",
   "metadata": {},
   "outputs": [
    {
     "data": {
      "text/plain": [
       "[{'course': 'Python', 'marks': '90'}, {'course': 'C#', 'marks': '90'}]"
      ]
     },
     "execution_count": 34,
     "metadata": {},
     "output_type": "execute_result"
    }
   ],
   "source": [
    "obj.get_course_marks()"
   ]
  },
  {
   "cell_type": "markdown",
   "id": "662134ec-b48e-48fe-a2e5-8462a1514f34",
   "metadata": {},
   "source": [
    "QUESTION#08\n",
    "#Write a function get_indices that receives the list of integers nums and an integer target, return indices of\n",
    "#the two numbers such that they add up to target. You may assume that each input would have exactly one\n",
    "#solution, and you may not use the same element twice"
   ]
  },
  {
   "cell_type": "code",
   "execution_count": 47,
   "id": "7622a3e9-0225-4b50-9d17-1c9014e4f4a2",
   "metadata": {},
   "outputs": [],
   "source": [
    "   def get_indices(self, nums, target):\n",
    "        if target \n",
    "    "
   ]
  },
  {
   "cell_type": "markdown",
   "id": "9f23b36d-2dd3-456f-8ca5-9df208e59bba",
   "metadata": {},
   "source": [
    "question#9\n",
    "Write a function backward_number. That a receives a number and return the number in backwards\n",
    "Input = 1234\n",
    "Output = 4321"
   ]
  },
  {
   "cell_type": "code",
   "execution_count": 10,
   "id": "5f3fa44c-9974-420b-9d7d-8cfd8d15c53a",
   "metadata": {},
   "outputs": [
    {
     "name": "stdin",
     "output_type": "stream",
     "text": [
      "enter number :  123\n"
     ]
    },
    {
     "name": "stdout",
     "output_type": "stream",
     "text": [
      "Reverse number is  :  321\n"
     ]
    }
   ],
   "source": [
    "def backward_number(num):\n",
    "    rev = 0\n",
    "    while(num != 0):\n",
    "        reminder = num % 10\n",
    "        rev = (rev * 10 ) + reminder\n",
    "        num = num // 10 \n",
    "    print (\"Reverse number is  : \" , rev )\n",
    " \n",
    " num=input(\"enter number : \")\n",
    "reverse(int(num))\n"
   ]
  },
  {
   "cell_type": "markdown",
   "id": "26b70915-df73-411a-8f6a-a577e0c1c50a",
   "metadata": {},
   "source": [
    "Question#10\n",
    "Create a function remove_duplication that takes a list and remove duplication from list.\n",
    " You cannot use set function"
   ]
  },
  {
   "cell_type": "code",
   "execution_count": 46,
   "id": "7d00ed41-9612-431d-b49f-88f9476d2a12",
   "metadata": {},
   "outputs": [
    {
     "name": "stdout",
     "output_type": "stream",
     "text": [
      "['a', 'b', 'c', 1, 2]\n"
     ]
    }
   ],
   "source": [
    "mylist = [\"a\",\"b\",\"b\",\"c\",\"a\",1,2,2]\n",
    "def remove_duplicate(x):\n",
    "    return list(dict.fromkeys(x))\n",
    "list_result=remove_duplicate(mylist)\n",
    "print(list_result)"
   ]
  },
  {
   "cell_type": "code",
   "execution_count": null,
   "id": "0e738aa2-80c4-460c-88b9-64d4e8a09050",
   "metadata": {},
   "outputs": [],
   "source": []
  }
 ],
 "metadata": {
  "kernelspec": {
   "display_name": "Python 3",
   "language": "python",
   "name": "python3"
  },
  "language_info": {
   "codemirror_mode": {
    "name": "ipython",
    "version": 3
   },
   "file_extension": ".py",
   "mimetype": "text/x-python",
   "name": "python",
   "nbconvert_exporter": "python",
   "pygments_lexer": "ipython3",
   "version": "3.8.8"
  }
 },
 "nbformat": 4,
 "nbformat_minor": 5
}
