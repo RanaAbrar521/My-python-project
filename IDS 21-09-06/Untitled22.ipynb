{
 "cells": [
  {
   "cell_type": "code",
   "execution_count": 1,
   "id": "42702453-db5b-4cb6-a792-035a434a0c43",
   "metadata": {},
   "outputs": [],
   "source": [
    "import pandas as pd\n",
    "import numpy as np"
   ]
  },
  {
   "cell_type": "code",
   "execution_count": 4,
   "id": "dbd3f718-9ee5-4502-9e87-1f3a6f1ace16",
   "metadata": {},
   "outputs": [],
   "source": [
    "pulls = pd.read_csv('pulls.csv')"
   ]
  },
  {
   "cell_type": "code",
   "execution_count": 8,
   "id": "9d4f9119-c8ac-435e-ab74-69bc9718b364",
   "metadata": {},
   "outputs": [],
   "source": [
    "pull_files = pd.read_csv('pull_files.csv')"
   ]
  },
  {
   "cell_type": "code",
   "execution_count": 9,
   "id": "76f5d87a-9e7e-474b-8393-b080a06f1c18",
   "metadata": {},
   "outputs": [
    {
     "data": {
      "text/html": [
       "<div>\n",
       "<style scoped>\n",
       "    .dataframe tbody tr th:only-of-type {\n",
       "        vertical-align: middle;\n",
       "    }\n",
       "\n",
       "    .dataframe tbody tr th {\n",
       "        vertical-align: top;\n",
       "    }\n",
       "\n",
       "    .dataframe thead th {\n",
       "        text-align: right;\n",
       "    }\n",
       "</style>\n",
       "<table border=\"1\" class=\"dataframe\">\n",
       "  <thead>\n",
       "    <tr style=\"text-align: right;\">\n",
       "      <th></th>\n",
       "      <th>pid</th>\n",
       "      <th>user</th>\n",
       "      <th>date</th>\n",
       "    </tr>\n",
       "  </thead>\n",
       "  <tbody>\n",
       "    <tr>\n",
       "      <th>0</th>\n",
       "      <td>163314316</td>\n",
       "      <td>hrhino</td>\n",
       "      <td>2018-01-16T23:29:16Z</td>\n",
       "    </tr>\n",
       "    <tr>\n",
       "      <th>1</th>\n",
       "      <td>163061502</td>\n",
       "      <td>joroKr21</td>\n",
       "      <td>2018-01-15T23:44:52Z</td>\n",
       "    </tr>\n",
       "    <tr>\n",
       "      <th>2</th>\n",
       "      <td>163057333</td>\n",
       "      <td>mkeskells</td>\n",
       "      <td>2018-01-15T23:05:06Z</td>\n",
       "    </tr>\n",
       "    <tr>\n",
       "      <th>3</th>\n",
       "      <td>162985594</td>\n",
       "      <td>lrytz</td>\n",
       "      <td>2018-01-15T15:52:39Z</td>\n",
       "    </tr>\n",
       "    <tr>\n",
       "      <th>4</th>\n",
       "      <td>162838837</td>\n",
       "      <td>zuvizudar</td>\n",
       "      <td>2018-01-14T19:16:16Z</td>\n",
       "    </tr>\n",
       "    <tr>\n",
       "      <th>...</th>\n",
       "      <td>...</td>\n",
       "      <td>...</td>\n",
       "      <td>...</td>\n",
       "    </tr>\n",
       "    <tr>\n",
       "      <th>6195</th>\n",
       "      <td>547941</td>\n",
       "      <td>xeno-by</td>\n",
       "      <td>2011-12-01T16:16:42Z</td>\n",
       "    </tr>\n",
       "    <tr>\n",
       "      <th>6196</th>\n",
       "      <td>547354</td>\n",
       "      <td>szeiger</td>\n",
       "      <td>2011-12-01T14:03:23Z</td>\n",
       "    </tr>\n",
       "    <tr>\n",
       "      <th>6197</th>\n",
       "      <td>547150</td>\n",
       "      <td>odersky</td>\n",
       "      <td>2011-12-01T12:39:40Z</td>\n",
       "    </tr>\n",
       "    <tr>\n",
       "      <th>6198</th>\n",
       "      <td>547003</td>\n",
       "      <td>robinst</td>\n",
       "      <td>2011-12-01T11:42:26Z</td>\n",
       "    </tr>\n",
       "    <tr>\n",
       "      <th>6199</th>\n",
       "      <td>546847</td>\n",
       "      <td>odersky</td>\n",
       "      <td>2011-12-01T10:41:01Z</td>\n",
       "    </tr>\n",
       "  </tbody>\n",
       "</table>\n",
       "<p>6200 rows × 3 columns</p>\n",
       "</div>"
      ],
      "text/plain": [
       "            pid       user                  date\n",
       "0     163314316     hrhino  2018-01-16T23:29:16Z\n",
       "1     163061502   joroKr21  2018-01-15T23:44:52Z\n",
       "2     163057333  mkeskells  2018-01-15T23:05:06Z\n",
       "3     162985594      lrytz  2018-01-15T15:52:39Z\n",
       "4     162838837  zuvizudar  2018-01-14T19:16:16Z\n",
       "...         ...        ...                   ...\n",
       "6195     547941    xeno-by  2011-12-01T16:16:42Z\n",
       "6196     547354    szeiger  2011-12-01T14:03:23Z\n",
       "6197     547150    odersky  2011-12-01T12:39:40Z\n",
       "6198     547003    robinst  2011-12-01T11:42:26Z\n",
       "6199     546847    odersky  2011-12-01T10:41:01Z\n",
       "\n",
       "[6200 rows x 3 columns]"
      ]
     },
     "execution_count": 9,
     "metadata": {},
     "output_type": "execute_result"
    }
   ],
   "source": [
    "pulls"
   ]
  },
  {
   "cell_type": "code",
   "execution_count": 10,
   "id": "c050c50b-832a-4ef1-8c72-5496b122ab8e",
   "metadata": {},
   "outputs": [
    {
     "data": {
      "text/html": [
       "<div>\n",
       "<style scoped>\n",
       "    .dataframe tbody tr th:only-of-type {\n",
       "        vertical-align: middle;\n",
       "    }\n",
       "\n",
       "    .dataframe tbody tr th {\n",
       "        vertical-align: top;\n",
       "    }\n",
       "\n",
       "    .dataframe thead th {\n",
       "        text-align: right;\n",
       "    }\n",
       "</style>\n",
       "<table border=\"1\" class=\"dataframe\">\n",
       "  <thead>\n",
       "    <tr style=\"text-align: right;\">\n",
       "      <th></th>\n",
       "      <th>pid</th>\n",
       "      <th>file</th>\n",
       "    </tr>\n",
       "  </thead>\n",
       "  <tbody>\n",
       "    <tr>\n",
       "      <th>0</th>\n",
       "      <td>163314316</td>\n",
       "      <td>test/files/pos/t5638/Among.java</td>\n",
       "    </tr>\n",
       "    <tr>\n",
       "      <th>1</th>\n",
       "      <td>163314316</td>\n",
       "      <td>test/files/pos/t5638/Usage.scala</td>\n",
       "    </tr>\n",
       "    <tr>\n",
       "      <th>2</th>\n",
       "      <td>163314316</td>\n",
       "      <td>test/files/pos/t9291.scala</td>\n",
       "    </tr>\n",
       "    <tr>\n",
       "      <th>3</th>\n",
       "      <td>163314316</td>\n",
       "      <td>test/files/run/t8348.check</td>\n",
       "    </tr>\n",
       "    <tr>\n",
       "      <th>4</th>\n",
       "      <td>163314316</td>\n",
       "      <td>test/files/run/t8348/TableColumn.java</td>\n",
       "    </tr>\n",
       "    <tr>\n",
       "      <th>...</th>\n",
       "      <td>...</td>\n",
       "      <td>...</td>\n",
       "    </tr>\n",
       "    <tr>\n",
       "      <th>85583</th>\n",
       "      <td>547354</td>\n",
       "      <td>test/files/run/bitsets.check</td>\n",
       "    </tr>\n",
       "    <tr>\n",
       "      <th>85584</th>\n",
       "      <td>547354</td>\n",
       "      <td>test/files/run/bitsets.scala</td>\n",
       "    </tr>\n",
       "    <tr>\n",
       "      <th>85585</th>\n",
       "      <td>547150</td>\n",
       "      <td>src/compiler/scala/tools/nsc/transform/LiftCod...</td>\n",
       "    </tr>\n",
       "    <tr>\n",
       "      <th>85586</th>\n",
       "      <td>547150</td>\n",
       "      <td>src/library/scala/reflect/api/Trees.scala</td>\n",
       "    </tr>\n",
       "    <tr>\n",
       "      <th>85587</th>\n",
       "      <td>547003</td>\n",
       "      <td>README.rst</td>\n",
       "    </tr>\n",
       "  </tbody>\n",
       "</table>\n",
       "<p>85588 rows × 2 columns</p>\n",
       "</div>"
      ],
      "text/plain": [
       "             pid                                               file\n",
       "0      163314316                    test/files/pos/t5638/Among.java\n",
       "1      163314316                   test/files/pos/t5638/Usage.scala\n",
       "2      163314316                         test/files/pos/t9291.scala\n",
       "3      163314316                         test/files/run/t8348.check\n",
       "4      163314316              test/files/run/t8348/TableColumn.java\n",
       "...          ...                                                ...\n",
       "85583     547354                       test/files/run/bitsets.check\n",
       "85584     547354                       test/files/run/bitsets.scala\n",
       "85585     547150  src/compiler/scala/tools/nsc/transform/LiftCod...\n",
       "85586     547150          src/library/scala/reflect/api/Trees.scala\n",
       "85587     547003                                         README.rst\n",
       "\n",
       "[85588 rows x 2 columns]"
      ]
     },
     "execution_count": 10,
     "metadata": {},
     "output_type": "execute_result"
    }
   ],
   "source": [
    "pull_files"
   ]
  },
  {
   "cell_type": "code",
   "execution_count": 57,
   "id": "df4ed2a1-705e-4537-8fb7-9aabc926affe",
   "metadata": {},
   "outputs": [],
   "source": [
    "merged_df = pd.merge(pulls,pull_files,how = 'outer', on = 'pid')"
   ]
  },
  {
   "cell_type": "code",
   "execution_count": 58,
   "id": "08680555-a11e-4993-8de0-aeb3d5008451",
   "metadata": {},
   "outputs": [
    {
     "data": {
      "text/html": [
       "<div>\n",
       "<style scoped>\n",
       "    .dataframe tbody tr th:only-of-type {\n",
       "        vertical-align: middle;\n",
       "    }\n",
       "\n",
       "    .dataframe tbody tr th {\n",
       "        vertical-align: top;\n",
       "    }\n",
       "\n",
       "    .dataframe thead th {\n",
       "        text-align: right;\n",
       "    }\n",
       "</style>\n",
       "<table border=\"1\" class=\"dataframe\">\n",
       "  <thead>\n",
       "    <tr style=\"text-align: right;\">\n",
       "      <th></th>\n",
       "      <th>pid</th>\n",
       "      <th>user</th>\n",
       "      <th>date</th>\n",
       "      <th>file</th>\n",
       "    </tr>\n",
       "  </thead>\n",
       "  <tbody>\n",
       "    <tr>\n",
       "      <th>0</th>\n",
       "      <td>163314316</td>\n",
       "      <td>hrhino</td>\n",
       "      <td>2018-01-16T23:29:16Z</td>\n",
       "      <td>test/files/pos/t5638/Among.java</td>\n",
       "    </tr>\n",
       "    <tr>\n",
       "      <th>1</th>\n",
       "      <td>163314316</td>\n",
       "      <td>hrhino</td>\n",
       "      <td>2018-01-16T23:29:16Z</td>\n",
       "      <td>test/files/pos/t5638/Usage.scala</td>\n",
       "    </tr>\n",
       "    <tr>\n",
       "      <th>2</th>\n",
       "      <td>163314316</td>\n",
       "      <td>hrhino</td>\n",
       "      <td>2018-01-16T23:29:16Z</td>\n",
       "      <td>test/files/pos/t9291.scala</td>\n",
       "    </tr>\n",
       "    <tr>\n",
       "      <th>3</th>\n",
       "      <td>163314316</td>\n",
       "      <td>hrhino</td>\n",
       "      <td>2018-01-16T23:29:16Z</td>\n",
       "      <td>test/files/run/t8348.check</td>\n",
       "    </tr>\n",
       "    <tr>\n",
       "      <th>4</th>\n",
       "      <td>163314316</td>\n",
       "      <td>hrhino</td>\n",
       "      <td>2018-01-16T23:29:16Z</td>\n",
       "      <td>test/files/run/t8348/TableColumn.java</td>\n",
       "    </tr>\n",
       "    <tr>\n",
       "      <th>...</th>\n",
       "      <td>...</td>\n",
       "      <td>...</td>\n",
       "      <td>...</td>\n",
       "      <td>...</td>\n",
       "    </tr>\n",
       "    <tr>\n",
       "      <th>85604</th>\n",
       "      <td>547354</td>\n",
       "      <td>szeiger</td>\n",
       "      <td>2011-12-01T14:03:23Z</td>\n",
       "      <td>test/files/run/bitsets.scala</td>\n",
       "    </tr>\n",
       "    <tr>\n",
       "      <th>85605</th>\n",
       "      <td>547150</td>\n",
       "      <td>odersky</td>\n",
       "      <td>2011-12-01T12:39:40Z</td>\n",
       "      <td>src/compiler/scala/tools/nsc/transform/LiftCod...</td>\n",
       "    </tr>\n",
       "    <tr>\n",
       "      <th>85606</th>\n",
       "      <td>547150</td>\n",
       "      <td>odersky</td>\n",
       "      <td>2011-12-01T12:39:40Z</td>\n",
       "      <td>src/library/scala/reflect/api/Trees.scala</td>\n",
       "    </tr>\n",
       "    <tr>\n",
       "      <th>85607</th>\n",
       "      <td>547003</td>\n",
       "      <td>robinst</td>\n",
       "      <td>2011-12-01T11:42:26Z</td>\n",
       "      <td>README.rst</td>\n",
       "    </tr>\n",
       "    <tr>\n",
       "      <th>85608</th>\n",
       "      <td>546847</td>\n",
       "      <td>odersky</td>\n",
       "      <td>2011-12-01T10:41:01Z</td>\n",
       "      <td>NaN</td>\n",
       "    </tr>\n",
       "  </tbody>\n",
       "</table>\n",
       "<p>85609 rows × 4 columns</p>\n",
       "</div>"
      ],
      "text/plain": [
       "             pid     user                  date  \\\n",
       "0      163314316   hrhino  2018-01-16T23:29:16Z   \n",
       "1      163314316   hrhino  2018-01-16T23:29:16Z   \n",
       "2      163314316   hrhino  2018-01-16T23:29:16Z   \n",
       "3      163314316   hrhino  2018-01-16T23:29:16Z   \n",
       "4      163314316   hrhino  2018-01-16T23:29:16Z   \n",
       "...          ...      ...                   ...   \n",
       "85604     547354  szeiger  2011-12-01T14:03:23Z   \n",
       "85605     547150  odersky  2011-12-01T12:39:40Z   \n",
       "85606     547150  odersky  2011-12-01T12:39:40Z   \n",
       "85607     547003  robinst  2011-12-01T11:42:26Z   \n",
       "85608     546847  odersky  2011-12-01T10:41:01Z   \n",
       "\n",
       "                                                    file  \n",
       "0                        test/files/pos/t5638/Among.java  \n",
       "1                       test/files/pos/t5638/Usage.scala  \n",
       "2                             test/files/pos/t9291.scala  \n",
       "3                             test/files/run/t8348.check  \n",
       "4                  test/files/run/t8348/TableColumn.java  \n",
       "...                                                  ...  \n",
       "85604                       test/files/run/bitsets.scala  \n",
       "85605  src/compiler/scala/tools/nsc/transform/LiftCod...  \n",
       "85606          src/library/scala/reflect/api/Trees.scala  \n",
       "85607                                         README.rst  \n",
       "85608                                                NaN  \n",
       "\n",
       "[85609 rows x 4 columns]"
      ]
     },
     "execution_count": 58,
     "metadata": {},
     "output_type": "execute_result"
    }
   ],
   "source": [
    "merged_df"
   ]
  },
  {
   "cell_type": "code",
   "execution_count": 59,
   "id": "e8c444ee-0faf-47e1-b138-0d31e8bd05c3",
   "metadata": {},
   "outputs": [],
   "source": [
    "merged_df['date'] = pd.to_datetime(merged_df['date'])"
   ]
  },
  {
   "cell_type": "code",
   "execution_count": 60,
   "id": "c1c38d4b-aba4-4348-bb5b-eefc2930636e",
   "metadata": {},
   "outputs": [],
   "source": [
    "merged_df['date'] = merged_df['date'].dt.tz_convert('UTC')"
   ]
  },
  {
   "cell_type": "code",
   "execution_count": 61,
   "id": "89c1274e-132d-4dbb-9787-d69ea1354e29",
   "metadata": {},
   "outputs": [
    {
     "data": {
      "text/html": [
       "<div>\n",
       "<style scoped>\n",
       "    .dataframe tbody tr th:only-of-type {\n",
       "        vertical-align: middle;\n",
       "    }\n",
       "\n",
       "    .dataframe tbody tr th {\n",
       "        vertical-align: top;\n",
       "    }\n",
       "\n",
       "    .dataframe thead th {\n",
       "        text-align: right;\n",
       "    }\n",
       "</style>\n",
       "<table border=\"1\" class=\"dataframe\">\n",
       "  <thead>\n",
       "    <tr style=\"text-align: right;\">\n",
       "      <th></th>\n",
       "      <th>pid</th>\n",
       "      <th>user</th>\n",
       "      <th>date</th>\n",
       "      <th>file</th>\n",
       "    </tr>\n",
       "  </thead>\n",
       "  <tbody>\n",
       "    <tr>\n",
       "      <th>0</th>\n",
       "      <td>163314316</td>\n",
       "      <td>hrhino</td>\n",
       "      <td>2018-01-16 23:29:16+00:00</td>\n",
       "      <td>test/files/pos/t5638/Among.java</td>\n",
       "    </tr>\n",
       "    <tr>\n",
       "      <th>1</th>\n",
       "      <td>163314316</td>\n",
       "      <td>hrhino</td>\n",
       "      <td>2018-01-16 23:29:16+00:00</td>\n",
       "      <td>test/files/pos/t5638/Usage.scala</td>\n",
       "    </tr>\n",
       "    <tr>\n",
       "      <th>2</th>\n",
       "      <td>163314316</td>\n",
       "      <td>hrhino</td>\n",
       "      <td>2018-01-16 23:29:16+00:00</td>\n",
       "      <td>test/files/pos/t9291.scala</td>\n",
       "    </tr>\n",
       "    <tr>\n",
       "      <th>3</th>\n",
       "      <td>163314316</td>\n",
       "      <td>hrhino</td>\n",
       "      <td>2018-01-16 23:29:16+00:00</td>\n",
       "      <td>test/files/run/t8348.check</td>\n",
       "    </tr>\n",
       "    <tr>\n",
       "      <th>4</th>\n",
       "      <td>163314316</td>\n",
       "      <td>hrhino</td>\n",
       "      <td>2018-01-16 23:29:16+00:00</td>\n",
       "      <td>test/files/run/t8348/TableColumn.java</td>\n",
       "    </tr>\n",
       "    <tr>\n",
       "      <th>...</th>\n",
       "      <td>...</td>\n",
       "      <td>...</td>\n",
       "      <td>...</td>\n",
       "      <td>...</td>\n",
       "    </tr>\n",
       "    <tr>\n",
       "      <th>85604</th>\n",
       "      <td>547354</td>\n",
       "      <td>szeiger</td>\n",
       "      <td>2011-12-01 14:03:23+00:00</td>\n",
       "      <td>test/files/run/bitsets.scala</td>\n",
       "    </tr>\n",
       "    <tr>\n",
       "      <th>85605</th>\n",
       "      <td>547150</td>\n",
       "      <td>odersky</td>\n",
       "      <td>2011-12-01 12:39:40+00:00</td>\n",
       "      <td>src/compiler/scala/tools/nsc/transform/LiftCod...</td>\n",
       "    </tr>\n",
       "    <tr>\n",
       "      <th>85606</th>\n",
       "      <td>547150</td>\n",
       "      <td>odersky</td>\n",
       "      <td>2011-12-01 12:39:40+00:00</td>\n",
       "      <td>src/library/scala/reflect/api/Trees.scala</td>\n",
       "    </tr>\n",
       "    <tr>\n",
       "      <th>85607</th>\n",
       "      <td>547003</td>\n",
       "      <td>robinst</td>\n",
       "      <td>2011-12-01 11:42:26+00:00</td>\n",
       "      <td>README.rst</td>\n",
       "    </tr>\n",
       "    <tr>\n",
       "      <th>85608</th>\n",
       "      <td>546847</td>\n",
       "      <td>odersky</td>\n",
       "      <td>2011-12-01 10:41:01+00:00</td>\n",
       "      <td>NaN</td>\n",
       "    </tr>\n",
       "  </tbody>\n",
       "</table>\n",
       "<p>85609 rows × 4 columns</p>\n",
       "</div>"
      ],
      "text/plain": [
       "             pid     user                      date  \\\n",
       "0      163314316   hrhino 2018-01-16 23:29:16+00:00   \n",
       "1      163314316   hrhino 2018-01-16 23:29:16+00:00   \n",
       "2      163314316   hrhino 2018-01-16 23:29:16+00:00   \n",
       "3      163314316   hrhino 2018-01-16 23:29:16+00:00   \n",
       "4      163314316   hrhino 2018-01-16 23:29:16+00:00   \n",
       "...          ...      ...                       ...   \n",
       "85604     547354  szeiger 2011-12-01 14:03:23+00:00   \n",
       "85605     547150  odersky 2011-12-01 12:39:40+00:00   \n",
       "85606     547150  odersky 2011-12-01 12:39:40+00:00   \n",
       "85607     547003  robinst 2011-12-01 11:42:26+00:00   \n",
       "85608     546847  odersky 2011-12-01 10:41:01+00:00   \n",
       "\n",
       "                                                    file  \n",
       "0                        test/files/pos/t5638/Among.java  \n",
       "1                       test/files/pos/t5638/Usage.scala  \n",
       "2                             test/files/pos/t9291.scala  \n",
       "3                             test/files/run/t8348.check  \n",
       "4                  test/files/run/t8348/TableColumn.java  \n",
       "...                                                  ...  \n",
       "85604                       test/files/run/bitsets.scala  \n",
       "85605  src/compiler/scala/tools/nsc/transform/LiftCod...  \n",
       "85606          src/library/scala/reflect/api/Trees.scala  \n",
       "85607                                         README.rst  \n",
       "85608                                                NaN  \n",
       "\n",
       "[85609 rows x 4 columns]"
      ]
     },
     "execution_count": 61,
     "metadata": {},
     "output_type": "execute_result"
    }
   ],
   "source": [
    "merged_df"
   ]
  },
  {
   "cell_type": "code",
   "execution_count": 64,
   "id": "fe685b55-36b9-442b-9e32-4a0c8f985172",
   "metadata": {},
   "outputs": [],
   "source": [
    "merged_df['month'] = merged_df['date'].dt.month"
   ]
  },
  {
   "cell_type": "code",
   "execution_count": 66,
   "id": "07cfcfc3-cf22-4225-9d98-c9822a040528",
   "metadata": {},
   "outputs": [],
   "source": [
    "merged_df['year']= merged_df['date'].dt.year"
   ]
  },
  {
   "cell_type": "code",
   "execution_count": 101,
   "id": "fc13f2f4-7212-49ba-8847-ca05ca2f5c2a",
   "metadata": {},
   "outputs": [
    {
     "data": {
      "text/html": [
       "<div>\n",
       "<style scoped>\n",
       "    .dataframe tbody tr th:only-of-type {\n",
       "        vertical-align: middle;\n",
       "    }\n",
       "\n",
       "    .dataframe tbody tr th {\n",
       "        vertical-align: top;\n",
       "    }\n",
       "\n",
       "    .dataframe thead th {\n",
       "        text-align: right;\n",
       "    }\n",
       "</style>\n",
       "<table border=\"1\" class=\"dataframe\">\n",
       "  <thead>\n",
       "    <tr style=\"text-align: right;\">\n",
       "      <th></th>\n",
       "      <th>pid</th>\n",
       "      <th>user</th>\n",
       "      <th>date</th>\n",
       "      <th>file</th>\n",
       "      <th>month</th>\n",
       "      <th>year</th>\n",
       "    </tr>\n",
       "  </thead>\n",
       "  <tbody>\n",
       "    <tr>\n",
       "      <th>0</th>\n",
       "      <td>163314316</td>\n",
       "      <td>hrhino</td>\n",
       "      <td>2018-01-16 23:29:16+00:00</td>\n",
       "      <td>test/files/pos/t5638/Among.java</td>\n",
       "      <td>1</td>\n",
       "      <td>2018</td>\n",
       "    </tr>\n",
       "    <tr>\n",
       "      <th>1</th>\n",
       "      <td>163314316</td>\n",
       "      <td>hrhino</td>\n",
       "      <td>2018-01-16 23:29:16+00:00</td>\n",
       "      <td>test/files/pos/t5638/Usage.scala</td>\n",
       "      <td>1</td>\n",
       "      <td>2018</td>\n",
       "    </tr>\n",
       "    <tr>\n",
       "      <th>2</th>\n",
       "      <td>163314316</td>\n",
       "      <td>hrhino</td>\n",
       "      <td>2018-01-16 23:29:16+00:00</td>\n",
       "      <td>test/files/pos/t9291.scala</td>\n",
       "      <td>1</td>\n",
       "      <td>2018</td>\n",
       "    </tr>\n",
       "    <tr>\n",
       "      <th>3</th>\n",
       "      <td>163314316</td>\n",
       "      <td>hrhino</td>\n",
       "      <td>2018-01-16 23:29:16+00:00</td>\n",
       "      <td>test/files/run/t8348.check</td>\n",
       "      <td>1</td>\n",
       "      <td>2018</td>\n",
       "    </tr>\n",
       "    <tr>\n",
       "      <th>4</th>\n",
       "      <td>163314316</td>\n",
       "      <td>hrhino</td>\n",
       "      <td>2018-01-16 23:29:16+00:00</td>\n",
       "      <td>test/files/run/t8348/TableColumn.java</td>\n",
       "      <td>1</td>\n",
       "      <td>2018</td>\n",
       "    </tr>\n",
       "    <tr>\n",
       "      <th>5</th>\n",
       "      <td>163314316</td>\n",
       "      <td>hrhino</td>\n",
       "      <td>2018-01-16 23:29:16+00:00</td>\n",
       "      <td>test/files/run/t8348/TableColumnImpl.java</td>\n",
       "      <td>1</td>\n",
       "      <td>2018</td>\n",
       "    </tr>\n",
       "    <tr>\n",
       "      <th>6</th>\n",
       "      <td>163314316</td>\n",
       "      <td>hrhino</td>\n",
       "      <td>2018-01-16 23:29:16+00:00</td>\n",
       "      <td>test/files/run/t8348/Test.scala</td>\n",
       "      <td>1</td>\n",
       "      <td>2018</td>\n",
       "    </tr>\n",
       "    <tr>\n",
       "      <th>7</th>\n",
       "      <td>163061502</td>\n",
       "      <td>joroKr21</td>\n",
       "      <td>2018-01-15 23:44:52+00:00</td>\n",
       "      <td>src/library/scala/concurrent/Lock.scala</td>\n",
       "      <td>1</td>\n",
       "      <td>2018</td>\n",
       "    </tr>\n",
       "    <tr>\n",
       "      <th>8</th>\n",
       "      <td>163057333</td>\n",
       "      <td>mkeskells</td>\n",
       "      <td>2018-01-15 23:05:06+00:00</td>\n",
       "      <td>src/compiler/scala/tools/nsc/profile/AsyncHelp...</td>\n",
       "      <td>1</td>\n",
       "      <td>2018</td>\n",
       "    </tr>\n",
       "    <tr>\n",
       "      <th>9</th>\n",
       "      <td>163057333</td>\n",
       "      <td>mkeskells</td>\n",
       "      <td>2018-01-15 23:05:06+00:00</td>\n",
       "      <td>src/compiler/scala/tools/nsc/profile/Profiler....</td>\n",
       "      <td>1</td>\n",
       "      <td>2018</td>\n",
       "    </tr>\n",
       "    <tr>\n",
       "      <th>10</th>\n",
       "      <td>162985594</td>\n",
       "      <td>lrytz</td>\n",
       "      <td>2018-01-15 15:52:39+00:00</td>\n",
       "      <td>src/compiler/scala/tools/nsc/backend/jvm/BCode...</td>\n",
       "      <td>1</td>\n",
       "      <td>2018</td>\n",
       "    </tr>\n",
       "    <tr>\n",
       "      <th>11</th>\n",
       "      <td>162985594</td>\n",
       "      <td>lrytz</td>\n",
       "      <td>2018-01-15 15:52:39+00:00</td>\n",
       "      <td>src/compiler/scala/tools/nsc/symtab/classfile/...</td>\n",
       "      <td>1</td>\n",
       "      <td>2018</td>\n",
       "    </tr>\n",
       "    <tr>\n",
       "      <th>12</th>\n",
       "      <td>162985594</td>\n",
       "      <td>lrytz</td>\n",
       "      <td>2018-01-15 15:52:39+00:00</td>\n",
       "      <td>src/reflect/scala/reflect/internal/pickling/By...</td>\n",
       "      <td>1</td>\n",
       "      <td>2018</td>\n",
       "    </tr>\n",
       "    <tr>\n",
       "      <th>13</th>\n",
       "      <td>162838837</td>\n",
       "      <td>zuvizudar</td>\n",
       "      <td>2018-01-14 19:16:16+00:00</td>\n",
       "      <td>src/compiler/scala/reflect/reify/phases/Calcul...</td>\n",
       "      <td>1</td>\n",
       "      <td>2018</td>\n",
       "    </tr>\n",
       "    <tr>\n",
       "      <th>14</th>\n",
       "      <td>162765232</td>\n",
       "      <td>howtonotwin</td>\n",
       "      <td>2018-01-13 04:37:17+00:00</td>\n",
       "      <td>src/library/scala/Predef.scala</td>\n",
       "      <td>1</td>\n",
       "      <td>2018</td>\n",
       "    </tr>\n",
       "  </tbody>\n",
       "</table>\n",
       "</div>"
      ],
      "text/plain": [
       "          pid         user                      date  \\\n",
       "0   163314316       hrhino 2018-01-16 23:29:16+00:00   \n",
       "1   163314316       hrhino 2018-01-16 23:29:16+00:00   \n",
       "2   163314316       hrhino 2018-01-16 23:29:16+00:00   \n",
       "3   163314316       hrhino 2018-01-16 23:29:16+00:00   \n",
       "4   163314316       hrhino 2018-01-16 23:29:16+00:00   \n",
       "5   163314316       hrhino 2018-01-16 23:29:16+00:00   \n",
       "6   163314316       hrhino 2018-01-16 23:29:16+00:00   \n",
       "7   163061502     joroKr21 2018-01-15 23:44:52+00:00   \n",
       "8   163057333    mkeskells 2018-01-15 23:05:06+00:00   \n",
       "9   163057333    mkeskells 2018-01-15 23:05:06+00:00   \n",
       "10  162985594        lrytz 2018-01-15 15:52:39+00:00   \n",
       "11  162985594        lrytz 2018-01-15 15:52:39+00:00   \n",
       "12  162985594        lrytz 2018-01-15 15:52:39+00:00   \n",
       "13  162838837    zuvizudar 2018-01-14 19:16:16+00:00   \n",
       "14  162765232  howtonotwin 2018-01-13 04:37:17+00:00   \n",
       "\n",
       "                                                 file  month  year  \n",
       "0                     test/files/pos/t5638/Among.java      1  2018  \n",
       "1                    test/files/pos/t5638/Usage.scala      1  2018  \n",
       "2                          test/files/pos/t9291.scala      1  2018  \n",
       "3                          test/files/run/t8348.check      1  2018  \n",
       "4               test/files/run/t8348/TableColumn.java      1  2018  \n",
       "5           test/files/run/t8348/TableColumnImpl.java      1  2018  \n",
       "6                     test/files/run/t8348/Test.scala      1  2018  \n",
       "7             src/library/scala/concurrent/Lock.scala      1  2018  \n",
       "8   src/compiler/scala/tools/nsc/profile/AsyncHelp...      1  2018  \n",
       "9   src/compiler/scala/tools/nsc/profile/Profiler....      1  2018  \n",
       "10  src/compiler/scala/tools/nsc/backend/jvm/BCode...      1  2018  \n",
       "11  src/compiler/scala/tools/nsc/symtab/classfile/...      1  2018  \n",
       "12  src/reflect/scala/reflect/internal/pickling/By...      1  2018  \n",
       "13  src/compiler/scala/reflect/reify/phases/Calcul...      1  2018  \n",
       "14                     src/library/scala/Predef.scala      1  2018  "
      ]
     },
     "execution_count": 101,
     "metadata": {},
     "output_type": "execute_result"
    }
   ],
   "source": [
    "merged_df.head(15)"
   ]
  },
  {
   "cell_type": "code",
   "execution_count": 74,
   "id": "2e111892-5fa0-4923-9845-d508b3969196",
   "metadata": {},
   "outputs": [
    {
     "data": {
      "text/plain": [
       "<AxesSubplot:xlabel='year,month'>"
      ]
     },
     "execution_count": 74,
     "metadata": {},
     "output_type": "execute_result"
    },
    {
     "data": {
      "image/png": "[encoded data removed]",
      "text/plain": [
       "<Figure size 1728x864 with 1 Axes>"
      ]
     },
     "metadata": {
      "needs_background": "light"
     },
     "output_type": "display_data"
    }
   ],
   "source": [
    "merged_df.groupby(['year','month'])['pid'].count().plot(figsize=(24,12))"
   ]
  },
  {
   "cell_type": "code",
   "execution_count": 84,
   "id": "7d586192-1365-4727-90d3-2c1e7b75ce2a",
   "metadata": {},
   "outputs": [
    {
     "data": {
      "text/plain": [
       "<AxesSubplot:ylabel='Frequency'>"
      ]
     },
     "execution_count": 84,
     "metadata": {},
     "output_type": "execute_result"
    },
    {
     "data": {
      "image/png": "[encoded data removed]",
      "text/plain": [
       "<Figure size 864x432 with 1 Axes>"
      ]
     },
     "metadata": {
      "needs_background": "light"
     },
     "output_type": "display_data"
    }
   ],
   "source": [
    "merged_df.groupby(['user'])['pid'].count().plot(kind = 'hist', bins = 30, figsize = (12,6))"
   ]
  },
  {
   "cell_type": "code",
   "execution_count": 95,
   "id": "c6786b10-31e3-4a1a-8cc7-283e3104169a",
   "metadata": {},
   "outputs": [
    {
     "data": {
      "text/plain": [
       "0                       test/files/pos/t5638/Among.java\n",
       "4                 test/files/run/t8348/TableColumn.java\n",
       "6                       test/files/run/t8348/Test.scala\n",
       "5             test/files/run/t8348/TableColumnImpl.java\n",
       "1                      test/files/pos/t5638/Usage.scala\n",
       "3                            test/files/run/t8348.check\n",
       "2                            test/files/pos/t9291.scala\n",
       "7               src/library/scala/concurrent/Lock.scala\n",
       "8     src/compiler/scala/tools/nsc/profile/AsyncHelp...\n",
       "9     src/compiler/scala/tools/nsc/profile/Profiler....\n",
       "10    src/compiler/scala/tools/nsc/backend/jvm/BCode...\n",
       "11    src/compiler/scala/tools/nsc/symtab/classfile/...\n",
       "12    src/reflect/scala/reflect/internal/pickling/By...\n",
       "13    src/compiler/scala/reflect/reify/phases/Calcul...\n",
       "14                       src/library/scala/Predef.scala\n",
       "Name: file, dtype: object"
      ]
     },
     "execution_count": 95,
     "metadata": {},
     "output_type": "execute_result"
    }
   ],
   "source": [
    "merged_df.sort_values(by = ['date'],ascending=False).head(15)['file']"
   ]
  },
  {
   "cell_type": "code",
   "execution_count": 118,
   "id": "4f634f13-8854-4f6c-8f99-96b452d32fec",
   "metadata": {},
   "outputs": [
    {
     "data": {
      "text/plain": [
       "user\n",
       "xeno-by     11\n",
       "retronym     5\n",
       "soc          4\n",
       "dtype: int64"
      ]
     },
     "execution_count": 118,
     "metadata": {},
     "output_type": "execute_result"
    }
   ],
   "source": [
    "merged_df[merged_df['file'] == 'src/compiler/scala/reflect/reify/phases/Calculate.scala'].value_counts('user')[0:3]"
   ]
  },
  {
   "cell_type": "code",
   "execution_count": 142,
   "id": "d26afe23-e3a7-44c0-8c6a-c22a127d7344",
   "metadata": {},
   "outputs": [
    {
     "data": {
      "text/plain": [
       "date                       user        \n",
       "2018-01-14 19:16:16+00:00  zuvizudar       1\n",
       "2014-10-16 10:23:42+00:00  retronym        1\n",
       "2014-02-01 01:19:58+00:00  xeno-by         1\n",
       "2013-12-06 10:04:43+00:00  retronym        1\n",
       "2013-04-23 15:47:45+00:00  soc             1\n",
       "2013-04-22 13:56:06+00:00  bjornregnell    1\n",
       "2013-04-09 06:13:57+00:00  retronym        1\n",
       "2013-04-08 07:07:45+00:00  retronym        1\n",
       "2013-03-25 02:48:48+00:00  starblood       1\n",
       "2013-02-24 21:43:43+00:00  retronym        1\n",
       "Name: user, dtype: int64"
      ]
     },
     "execution_count": 142,
     "metadata": {},
     "output_type": "execute_result"
    }
   ],
   "source": [
    "merged_df[merged_df['file'] == 'src/compiler/scala/reflect/reify/phases/Calculate.scala'].groupby(['date'])['user'].value_counts().sort_index(ascending = False)[0:10]"
   ]
  },
  {
   "cell_type": "code",
   "execution_count": 151,
   "id": "41a68292-879a-4b23-b8cf-6f3050ca6f29",
   "metadata": {},
   "outputs": [
    {
     "data": {
      "text/plain": [
       "<AxesSubplot:xlabel='year,user'>"
      ]
     },
     "execution_count": 151,
     "metadata": {},
     "output_type": "execute_result"
    },
    {
     "data": {
      "image/png": "[encoded data removed]",
      "text/plain": [
       "<Figure size 1728x864 with 1 Axes>"
      ]
     },
     "metadata": {
      "needs_background": "light"
     },
     "output_type": "display_data"
    }
   ],
   "source": [
    "merged_df[merged_df['user'] == 'xeno-by'].groupby('year')['user'].value_counts().plot(figsize = (24,12))"
   ]
  },
  {
   "cell_type": "code",
   "execution_count": 153,
   "id": "b95af3d9-fc6d-481b-9fcd-c51a0c5d4ad9",
   "metadata": {},
   "outputs": [
    {
     "data": {
      "text/plain": [
       "year  user   \n",
       "2015  xeno-by       9\n",
       "2014  xeno-by    1211\n",
       "2013  xeno-by    2873\n",
       "2012  xeno-by    8409\n",
       "2011  xeno-by     147\n",
       "Name: user, dtype: int64"
      ]
     },
     "execution_count": 153,
     "metadata": {},
     "output_type": "execute_result"
    }
   ],
   "source": [
    "merged_df[merged_df['user'] == 'xeno-by'].groupby('year')['user'].value_counts().sort_index(ascending=False)"
   ]
  },
  {
   "cell_type": "code",
   "execution_count": 152,
   "id": "6ef9fb07-ce77-47e1-a5c9-c2817aa8ed2b",
   "metadata": {},
   "outputs": [
    {
     "data": {
      "text/plain": [
       "<AxesSubplot:xlabel='year,user'>"
      ]
     },
     "execution_count": 152,
     "metadata": {},
     "output_type": "execute_result"
    },
    {
     "data": {
      "image/png": "[encoded data removed]",
      "text/plain": [
       "<Figure size 1728x864 with 1 Axes>"
      ]
     },
     "metadata": {
      "needs_background": "light"
     },
     "output_type": "display_data"
    }
   ],
   "source": [
    "merged_df[merged_df['user'] == 'retronym'].groupby('year')['user'].value_counts().plot(figsize = (24,12))"
   ]
  },
  {
   "cell_type": "code",
   "execution_count": 154,
   "id": "831ee60e-ca38-428c-95b4-308e4e32f7c2",
   "metadata": {},
   "outputs": [
    {
     "data": {
      "text/plain": [
       "year  user    \n",
       "2017  retronym    1129\n",
       "2016  retronym    1387\n",
       "2015  retronym    1785\n",
       "2014  retronym    2136\n",
       "2013  retronym    4260\n",
       "2012  retronym     737\n",
       "Name: user, dtype: int64"
      ]
     },
     "execution_count": 154,
     "metadata": {},
     "output_type": "execute_result"
    }
   ],
   "source": [
    "merged_df[merged_df['user'] == 'retronym'].groupby('year')['user'].value_counts().sort_index(ascending=False)"
   ]
  }
 ],
 "metadata": {
  "kernelspec": {
   "display_name": "Python 3 (ipykernel)",
   "language": "python",
   "name": "python3"
  },
  "language_info": {
   "codemirror_mode": {
    "name": "ipython",
    "version": 3
   },
   "file_extension": ".py",
   "mimetype": "text/x-python",
   "name": "python",
   "nbconvert_exporter": "python",
   "pygments_lexer": "ipython3",
   "version": "3.7.5"
  }
 },
 "nbformat": 4,
 "nbformat_minor": 5
}
