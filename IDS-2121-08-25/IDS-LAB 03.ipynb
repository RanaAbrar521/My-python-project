{
 "cells": [
  {
   "cell_type": "code",
   "execution_count": 1,
   "id": "be28bab0",
   "metadata": {},
   "outputs": [],
   "source": [
    "import pandas as pd\n",
    "import seaborn as sns\n",
    "import numpy as np\n",
    "import matplotlib.pyplot as plt\n",
    "df = pd.read_csv('nobel.csv')"
   ]
  },
  {
   "cell_type": "markdown",
   "id": "4564de69",
   "metadata": {},
   "source": [
    "# 1..."
   ]
  },
  {
   "cell_type": "code",
   "execution_count": 19,
   "id": "8bd8955a",
   "metadata": {},
   "outputs": [
    {
     "data": {
      "text/html": [
       "<div>\n",
       "<style scoped>\n",
       "    .dataframe tbody tr th:only-of-type {\n",
       "        vertical-align: middle;\n",
       "    }\n",
       "\n",
       "    .dataframe tbody tr th {\n",
       "        vertical-align: top;\n",
       "    }\n",
       "\n",
       "    .dataframe thead th {\n",
       "        text-align: right;\n",
       "    }\n",
       "</style>\n",
       "<table border=\"1\" class=\"dataframe\">\n",
       "  <thead>\n",
       "    <tr style=\"text-align: right;\">\n",
       "      <th></th>\n",
       "      <th>year</th>\n",
       "      <th>category</th>\n",
       "      <th>prize</th>\n",
       "      <th>motivation</th>\n",
       "      <th>prize_share</th>\n",
       "      <th>laureate_id</th>\n",
       "      <th>laureate_type</th>\n",
       "      <th>full_name</th>\n",
       "      <th>birth_date</th>\n",
       "      <th>birth_city</th>\n",
       "      <th>birth_country</th>\n",
       "      <th>sex</th>\n",
       "      <th>organization_name</th>\n",
       "      <th>organization_city</th>\n",
       "      <th>organization_country</th>\n",
       "      <th>death_date</th>\n",
       "      <th>death_city</th>\n",
       "      <th>death_country</th>\n",
       "      <th>usa_winner</th>\n",
       "      <th>decade</th>\n",
       "    </tr>\n",
       "  </thead>\n",
       "  <tbody>\n",
       "    <tr>\n",
       "      <th>0</th>\n",
       "      <td>1901</td>\n",
       "      <td>Chemistry</td>\n",
       "      <td>The Nobel Prize in Chemistry 1901</td>\n",
       "      <td>\"in recognition of the extraordinary services ...</td>\n",
       "      <td>1/1</td>\n",
       "      <td>160</td>\n",
       "      <td>Individual</td>\n",
       "      <td>Jacobus Henricus van 't Hoff</td>\n",
       "      <td>1852-08-30</td>\n",
       "      <td>Rotterdam</td>\n",
       "      <td>Netherlands</td>\n",
       "      <td>Male</td>\n",
       "      <td>Berlin University</td>\n",
       "      <td>Berlin</td>\n",
       "      <td>Germany</td>\n",
       "      <td>1911-03-01</td>\n",
       "      <td>Berlin</td>\n",
       "      <td>Germany</td>\n",
       "      <td>False</td>\n",
       "      <td>1900</td>\n",
       "    </tr>\n",
       "    <tr>\n",
       "      <th>1</th>\n",
       "      <td>1901</td>\n",
       "      <td>Literature</td>\n",
       "      <td>The Nobel Prize in Literature 1901</td>\n",
       "      <td>\"in special recognition of his poetic composit...</td>\n",
       "      <td>1/1</td>\n",
       "      <td>569</td>\n",
       "      <td>Individual</td>\n",
       "      <td>Sully Prudhomme</td>\n",
       "      <td>1839-03-16</td>\n",
       "      <td>Paris</td>\n",
       "      <td>France</td>\n",
       "      <td>Male</td>\n",
       "      <td>NaN</td>\n",
       "      <td>NaN</td>\n",
       "      <td>NaN</td>\n",
       "      <td>1907-09-07</td>\n",
       "      <td>Châtenay</td>\n",
       "      <td>France</td>\n",
       "      <td>False</td>\n",
       "      <td>1900</td>\n",
       "    </tr>\n",
       "    <tr>\n",
       "      <th>2</th>\n",
       "      <td>1901</td>\n",
       "      <td>Medicine</td>\n",
       "      <td>The Nobel Prize in Physiology or Medicine 1901</td>\n",
       "      <td>\"for his work on serum therapy, especially its...</td>\n",
       "      <td>1/1</td>\n",
       "      <td>293</td>\n",
       "      <td>Individual</td>\n",
       "      <td>Emil Adolf von Behring</td>\n",
       "      <td>1854-03-15</td>\n",
       "      <td>Hansdorf (Lawice)</td>\n",
       "      <td>Prussia (Poland)</td>\n",
       "      <td>Male</td>\n",
       "      <td>Marburg University</td>\n",
       "      <td>Marburg</td>\n",
       "      <td>Germany</td>\n",
       "      <td>1917-03-31</td>\n",
       "      <td>Marburg</td>\n",
       "      <td>Germany</td>\n",
       "      <td>False</td>\n",
       "      <td>1900</td>\n",
       "    </tr>\n",
       "  </tbody>\n",
       "</table>\n",
       "</div>"
      ],
      "text/plain": [
       "   year    category                                           prize  \\\n",
       "0  1901   Chemistry               The Nobel Prize in Chemistry 1901   \n",
       "1  1901  Literature              The Nobel Prize in Literature 1901   \n",
       "2  1901    Medicine  The Nobel Prize in Physiology or Medicine 1901   \n",
       "\n",
       "                                          motivation prize_share  laureate_id  \\\n",
       "0  \"in recognition of the extraordinary services ...         1/1          160   \n",
       "1  \"in special recognition of his poetic composit...         1/1          569   \n",
       "2  \"for his work on serum therapy, especially its...         1/1          293   \n",
       "\n",
       "  laureate_type                     full_name  birth_date         birth_city  \\\n",
       "0    Individual  Jacobus Henricus van 't Hoff  1852-08-30          Rotterdam   \n",
       "1    Individual               Sully Prudhomme  1839-03-16              Paris   \n",
       "2    Individual        Emil Adolf von Behring  1854-03-15  Hansdorf (Lawice)   \n",
       "\n",
       "      birth_country   sex   organization_name organization_city  \\\n",
       "0       Netherlands  Male   Berlin University            Berlin   \n",
       "1            France  Male                 NaN               NaN   \n",
       "2  Prussia (Poland)  Male  Marburg University           Marburg   \n",
       "\n",
       "  organization_country  death_date death_city death_country  usa_winner  \\\n",
       "0              Germany  1911-03-01     Berlin       Germany       False   \n",
       "1                  NaN  1907-09-07   Châtenay        France       False   \n",
       "2              Germany  1917-03-31    Marburg       Germany       False   \n",
       "\n",
       "   decade  \n",
       "0    1900  \n",
       "1    1900  \n",
       "2    1900  "
      ]
     },
     "execution_count": 19,
     "metadata": {},
     "output_type": "execute_result"
    }
   ],
   "source": [
    "def Question_1():\n",
    "    return df.head(3)\n",
    "Question_1()"
   ]
  },
  {
   "cell_type": "markdown",
   "id": "0d0f5e91",
   "metadata": {},
   "source": [
    "# 2..."
   ]
  },
  {
   "cell_type": "code",
   "execution_count": 3,
   "id": "6afd0302",
   "metadata": {},
   "outputs": [
    {
     "data": {
      "text/plain": [
       "('Male', 'United States of America')"
      ]
     },
     "execution_count": 3,
     "metadata": {},
     "output_type": "execute_result"
    }
   ],
   "source": [
    "def Question_2():\n",
    "    sex = df.value_counts('sex').idxmax()\n",
    "    country = df.value_counts('birth_country').idxmax()\n",
    "    return sex,country\n",
    "Question_2()"
   ]
  },
  {
   "cell_type": "markdown",
   "id": "a321bde8",
   "metadata": {},
   "source": [
    "# 3..."
   ]
  },
  {
   "cell_type": "code",
   "execution_count": 11,
   "id": "b1eab009",
   "metadata": {},
   "outputs": [
    {
     "data": {
      "text/html": [
       "<div>\n",
       "<style scoped>\n",
       "    .dataframe tbody tr th:only-of-type {\n",
       "        vertical-align: middle;\n",
       "    }\n",
       "\n",
       "    .dataframe tbody tr th {\n",
       "        vertical-align: top;\n",
       "    }\n",
       "\n",
       "    .dataframe thead th {\n",
       "        text-align: right;\n",
       "    }\n",
       "</style>\n",
       "<table border=\"1\" class=\"dataframe\">\n",
       "  <thead>\n",
       "    <tr style=\"text-align: right;\">\n",
       "      <th></th>\n",
       "      <th>decade</th>\n",
       "      <th>usa_winner</th>\n",
       "    </tr>\n",
       "  </thead>\n",
       "  <tbody>\n",
       "    <tr>\n",
       "      <th>0</th>\n",
       "      <td>1900</td>\n",
       "      <td>0.017544</td>\n",
       "    </tr>\n",
       "    <tr>\n",
       "      <th>1</th>\n",
       "      <td>1910</td>\n",
       "      <td>0.075000</td>\n",
       "    </tr>\n",
       "    <tr>\n",
       "      <th>2</th>\n",
       "      <td>1920</td>\n",
       "      <td>0.074074</td>\n",
       "    </tr>\n",
       "    <tr>\n",
       "      <th>3</th>\n",
       "      <td>1930</td>\n",
       "      <td>0.250000</td>\n",
       "    </tr>\n",
       "    <tr>\n",
       "      <th>4</th>\n",
       "      <td>1940</td>\n",
       "      <td>0.302326</td>\n",
       "    </tr>\n",
       "    <tr>\n",
       "      <th>5</th>\n",
       "      <td>1950</td>\n",
       "      <td>0.291667</td>\n",
       "    </tr>\n",
       "    <tr>\n",
       "      <th>6</th>\n",
       "      <td>1960</td>\n",
       "      <td>0.265823</td>\n",
       "    </tr>\n",
       "    <tr>\n",
       "      <th>7</th>\n",
       "      <td>1970</td>\n",
       "      <td>0.317308</td>\n",
       "    </tr>\n",
       "    <tr>\n",
       "      <th>8</th>\n",
       "      <td>1980</td>\n",
       "      <td>0.319588</td>\n",
       "    </tr>\n",
       "    <tr>\n",
       "      <th>9</th>\n",
       "      <td>1990</td>\n",
       "      <td>0.403846</td>\n",
       "    </tr>\n",
       "    <tr>\n",
       "      <th>10</th>\n",
       "      <td>2000</td>\n",
       "      <td>0.422764</td>\n",
       "    </tr>\n",
       "    <tr>\n",
       "      <th>11</th>\n",
       "      <td>2010</td>\n",
       "      <td>0.292683</td>\n",
       "    </tr>\n",
       "  </tbody>\n",
       "</table>\n",
       "</div>"
      ],
      "text/plain": [
       "    decade  usa_winner\n",
       "0     1900    0.017544\n",
       "1     1910    0.075000\n",
       "2     1920    0.074074\n",
       "3     1930    0.250000\n",
       "4     1940    0.302326\n",
       "5     1950    0.291667\n",
       "6     1960    0.265823\n",
       "7     1970    0.317308\n",
       "8     1980    0.319588\n",
       "9     1990    0.403846\n",
       "10    2000    0.422764\n",
       "11    2010    0.292683"
      ]
     },
     "execution_count": 11,
     "metadata": {},
     "output_type": "execute_result"
    }
   ],
   "source": [
    "def Question_3():    \n",
    "    df['usa_winner'] = df['birth_country'] == 'United States of America'\n",
    "    df['decade'] = df['year'].apply(lambda year: year - (year % 10))\n",
    "    USA_Winners = df.groupby(['decade'], as_index=False)['usa_winner'].mean()\n",
    "    return USA_Winners\n",
    "Question_3()"
   ]
  },
  {
   "cell_type": "markdown",
   "id": "4e63f888",
   "metadata": {},
   "source": [
    "# 4..."
   ]
  },
  {
   "cell_type": "code",
   "execution_count": 18,
   "id": "9a0162bc",
   "metadata": {},
   "outputs": [
    {
     "data": {
      "image/png": "[encoded data removed]",
      "text/plain": [
       "<Figure size 432x288 with 1 Axes>"
      ]
     },
     "metadata": {},
     "output_type": "display_data"
    }
   ],
   "source": [
    "def Question_4():\n",
    "    from matplotlib.ticker import PercentFormatter\n",
    "    return sns.lineplot(x='decade', y='usa_winner', data=df).yaxis.set_major_formatter(PercentFormatter())\n",
    "Question_4()"
   ]
  },
  {
   "cell_type": "markdown",
   "id": "eee6f92c",
   "metadata": {},
   "source": [
    "# 5..."
   ]
  },
  {
   "cell_type": "code",
   "execution_count": 26,
   "id": "872add2f",
   "metadata": {},
   "outputs": [
    {
     "data": {
      "text/plain": [
       "Medicine      12\n",
       "Chemistry     12\n",
       "Literature    12\n",
       "Peace         12\n",
       "Physics       12\n",
       "Economics      6\n",
       "Name: category, dtype: int64"
      ]
     },
     "execution_count": 26,
     "metadata": {},
     "output_type": "execute_result"
    }
   ],
   "source": [
    "def Question_5():   \n",
    "    df['female_winner'] = df['sex'] == 'Female'\n",
    "    female_winners = df.groupby(['decade', 'category'], as_index=False)['female_winner'].mean()\n",
    "    return female_winners['category'].value_counts()\n",
    "Question_5()"
   ]
  },
  {
   "cell_type": "markdown",
   "id": "a6056083",
   "metadata": {},
   "source": [
    "# 6..."
   ]
  },
  {
   "cell_type": "code",
   "execution_count": 67,
   "id": "09033e90",
   "metadata": {},
   "outputs": [
    {
     "data": {
      "text/html": [
       "<div>\n",
       "<style scoped>\n",
       "    .dataframe tbody tr th:only-of-type {\n",
       "        vertical-align: middle;\n",
       "    }\n",
       "\n",
       "    .dataframe tbody tr th {\n",
       "        vertical-align: top;\n",
       "    }\n",
       "\n",
       "    .dataframe thead th {\n",
       "        text-align: right;\n",
       "    }\n",
       "</style>\n",
       "<table border=\"1\" class=\"dataframe\">\n",
       "  <thead>\n",
       "    <tr style=\"text-align: right;\">\n",
       "      <th></th>\n",
       "      <th>category</th>\n",
       "      <th>full_name</th>\n",
       "    </tr>\n",
       "  </thead>\n",
       "  <tbody>\n",
       "    <tr>\n",
       "      <th>19</th>\n",
       "      <td>Physics</td>\n",
       "      <td>Marie Curie, née Sklodowska</td>\n",
       "    </tr>\n",
       "  </tbody>\n",
       "</table>\n",
       "</div>"
      ],
      "text/plain": [
       "   category                    full_name\n",
       "19  Physics  Marie Curie, née Sklodowska"
      ]
     },
     "execution_count": 67,
     "metadata": {},
     "output_type": "execute_result"
    }
   ],
   "source": [
    "def Question_6(): \n",
    "    return df[df['sex'] == 'Female'].nsmallest(1,'year').iloc[:,[1,7]]\n",
    "Question_6()"
   ]
  },
  {
   "cell_type": "markdown",
   "id": "4e58df30",
   "metadata": {},
   "source": [
    "# 7..."
   ]
  },
  {
   "cell_type": "code",
   "execution_count": 96,
   "id": "ffff5a4a",
   "metadata": {},
   "outputs": [
    {
     "data": {
      "text/plain": [
       "19                           Marie Curie, née Sklodowska\n",
       "62                           Marie Curie, née Sklodowska\n",
       "89     Comité international de la Croix Rouge (Intern...\n",
       "215    Comité international de la Croix Rouge (Intern...\n",
       "278                                   Linus Carl Pauling\n",
       "283    Office of the United Nations High Commissioner...\n",
       "298                                         John Bardeen\n",
       "306                                     Frederick Sanger\n",
       "340                                   Linus Carl Pauling\n",
       "348    Comité international de la Croix Rouge (Intern...\n",
       "424                                         John Bardeen\n",
       "505                                     Frederick Sanger\n",
       "523    Office of the United Nations High Commissioner...\n",
       "Name: full_name, dtype: object"
      ]
     },
     "execution_count": 96,
     "metadata": {},
     "output_type": "execute_result"
    }
   ],
   "source": [
    "def Question_7():\n",
    "    return df.groupby('full_name').filter(lambda x: len(x)>1).loc[:,'full_name']\n",
    "Question_7()"
   ]
  },
  {
   "cell_type": "markdown",
   "id": "6c4fa671",
   "metadata": {},
   "source": [
    "# 11..."
   ]
  },
  {
   "cell_type": "code",
   "execution_count": 111,
   "id": "e7c18147",
   "metadata": {},
   "outputs": [
    {
     "data": {
      "text/plain": [
       "885    Malala Yousafzai\n",
       "Name: full_name, dtype: object"
      ]
     },
     "execution_count": 111,
     "metadata": {},
     "output_type": "execute_result"
    }
   ],
   "source": [
    "def Question_11():\n",
    "    df['birth_date'] =  pd.to_datetime(df['birth_date'] )\n",
    "    df['age'] = df['year'] - df['birth_date'].dt.year\n",
    "    return df.nsmallest(1, 'age').loc[:,'full_name']\n",
    "Question_11()"
   ]
  },
  {
   "cell_type": "code",
   "execution_count": null,
   "id": "7dfe6217",
   "metadata": {},
   "outputs": [],
   "source": []
  }
 ],
 "metadata": {
  "kernelspec": {
   "display_name": "Python 3",
   "language": "python",
   "name": "python3"
  },
  "language_info": {
   "codemirror_mode": {
    "name": "ipython",
    "version": 3
   },
   "file_extension": ".py",
   "mimetype": "text/x-python",
   "name": "python",
   "nbconvert_exporter": "python",
   "pygments_lexer": "ipython3",
   "version": "3.8.8"
  }
 },
 "nbformat": 4,
 "nbformat_minor": 5
}
