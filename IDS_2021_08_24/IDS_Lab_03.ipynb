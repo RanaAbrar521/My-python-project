{
 "cells": [
  {
   "cell_type": "code",
   "execution_count": 1,
   "id": "ed4f483a-9563-4069-a88a-b57d780f8967",
   "metadata": {},
   "outputs": [],
   "source": [
    "import pandas as pd\n",
    "import numpy as np\n",
    "import seaborn as sns\n",
    "import warnings\n",
    "import matplotlib as plt\n",
    "from matplotlib.ticker import PercentFormatter\n",
    "sns.set_style(\"whitegrid\")\n",
    "warnings.filterwarnings('ignore')\n",
    "\n",
    "df = pd.read_csv('nobel.csv')"
   ]
  },
  {
   "cell_type": "markdown",
   "id": "ddbb14b9-a020-46bb-8870-7dba42e5abfe",
   "metadata": {},
   "source": [
    "## Q1"
   ]
  },
  {
   "cell_type": "code",
   "execution_count": 2,
   "id": "ff1aa9ff-5e00-4f6a-92b2-482751291bb5",
   "metadata": {},
   "outputs": [],
   "source": [
    "def answer_one():\n",
    "    return df.head(2)"
   ]
  },
  {
   "cell_type": "code",
   "execution_count": 3,
   "id": "1a12c65b-1f8f-4f35-9666-f60dbd5037cc",
   "metadata": {},
   "outputs": [
    {
     "data": {
      "text/html": [
       "<div>\n",
       "<style scoped>\n",
       "    .dataframe tbody tr th:only-of-type {\n",
       "        vertical-align: middle;\n",
       "    }\n",
       "\n",
       "    .dataframe tbody tr th {\n",
       "        vertical-align: top;\n",
       "    }\n",
       "\n",
       "    .dataframe thead th {\n",
       "        text-align: right;\n",
       "    }\n",
       "</style>\n",
       "<table border=\"1\" class=\"dataframe\">\n",
       "  <thead>\n",
       "    <tr style=\"text-align: right;\">\n",
       "      <th></th>\n",
       "      <th>year</th>\n",
       "      <th>category</th>\n",
       "      <th>prize</th>\n",
       "      <th>motivation</th>\n",
       "      <th>prize_share</th>\n",
       "      <th>laureate_id</th>\n",
       "      <th>laureate_type</th>\n",
       "      <th>full_name</th>\n",
       "      <th>birth_date</th>\n",
       "      <th>birth_city</th>\n",
       "      <th>birth_country</th>\n",
       "      <th>sex</th>\n",
       "      <th>organization_name</th>\n",
       "      <th>organization_city</th>\n",
       "      <th>organization_country</th>\n",
       "      <th>death_date</th>\n",
       "      <th>death_city</th>\n",
       "      <th>death_country</th>\n",
       "    </tr>\n",
       "  </thead>\n",
       "  <tbody>\n",
       "    <tr>\n",
       "      <th>0</th>\n",
       "      <td>1901</td>\n",
       "      <td>Chemistry</td>\n",
       "      <td>The Nobel Prize in Chemistry 1901</td>\n",
       "      <td>\"in recognition of the extraordinary services ...</td>\n",
       "      <td>1/1</td>\n",
       "      <td>160</td>\n",
       "      <td>Individual</td>\n",
       "      <td>Jacobus Henricus van 't Hoff</td>\n",
       "      <td>1852-08-30</td>\n",
       "      <td>Rotterdam</td>\n",
       "      <td>Netherlands</td>\n",
       "      <td>Male</td>\n",
       "      <td>Berlin University</td>\n",
       "      <td>Berlin</td>\n",
       "      <td>Germany</td>\n",
       "      <td>1911-03-01</td>\n",
       "      <td>Berlin</td>\n",
       "      <td>Germany</td>\n",
       "    </tr>\n",
       "    <tr>\n",
       "      <th>1</th>\n",
       "      <td>1901</td>\n",
       "      <td>Literature</td>\n",
       "      <td>The Nobel Prize in Literature 1901</td>\n",
       "      <td>\"in special recognition of his poetic composit...</td>\n",
       "      <td>1/1</td>\n",
       "      <td>569</td>\n",
       "      <td>Individual</td>\n",
       "      <td>Sully Prudhomme</td>\n",
       "      <td>1839-03-16</td>\n",
       "      <td>Paris</td>\n",
       "      <td>France</td>\n",
       "      <td>Male</td>\n",
       "      <td>NaN</td>\n",
       "      <td>NaN</td>\n",
       "      <td>NaN</td>\n",
       "      <td>1907-09-07</td>\n",
       "      <td>Châtenay</td>\n",
       "      <td>France</td>\n",
       "    </tr>\n",
       "  </tbody>\n",
       "</table>\n",
       "</div>"
      ],
      "text/plain": [
       "   year    category                               prize  \\\n",
       "0  1901   Chemistry   The Nobel Prize in Chemistry 1901   \n",
       "1  1901  Literature  The Nobel Prize in Literature 1901   \n",
       "\n",
       "                                          motivation prize_share  laureate_id  \\\n",
       "0  \"in recognition of the extraordinary services ...         1/1          160   \n",
       "1  \"in special recognition of his poetic composit...         1/1          569   \n",
       "\n",
       "  laureate_type                     full_name  birth_date birth_city  \\\n",
       "0    Individual  Jacobus Henricus van 't Hoff  1852-08-30  Rotterdam   \n",
       "1    Individual               Sully Prudhomme  1839-03-16      Paris   \n",
       "\n",
       "  birth_country   sex  organization_name organization_city  \\\n",
       "0   Netherlands  Male  Berlin University            Berlin   \n",
       "1        France  Male                NaN               NaN   \n",
       "\n",
       "  organization_country  death_date death_city death_country  \n",
       "0              Germany  1911-03-01     Berlin       Germany  \n",
       "1                  NaN  1907-09-07   Châtenay        France  "
      ]
     },
     "execution_count": 3,
     "metadata": {},
     "output_type": "execute_result"
    }
   ],
   "source": [
    "answer_one()"
   ]
  },
  {
   "cell_type": "markdown",
   "id": "81e800e9-31ee-47cd-9a83-86d7346756cf",
   "metadata": {},
   "source": [
    "## Q2"
   ]
  },
  {
   "cell_type": "code",
   "execution_count": 4,
   "id": "97a27493-91d2-4be5-8a47-d5a2f787fc4e",
   "metadata": {},
   "outputs": [],
   "source": [
    "def answer_two():\n",
    "    return df['sex'].value_counts().idxmax(), df['birth_country'].value_counts().idxmax()"
   ]
  },
  {
   "cell_type": "code",
   "execution_count": 5,
   "id": "4ff61a1c-b740-4b28-bb1d-8c4c3b40d168",
   "metadata": {},
   "outputs": [
    {
     "data": {
      "text/plain": [
       "('Male', 'United States of America')"
      ]
     },
     "execution_count": 5,
     "metadata": {},
     "output_type": "execute_result"
    }
   ],
   "source": [
    "answer_two()"
   ]
  },
  {
   "cell_type": "markdown",
   "id": "f58cc4b3-8445-42eb-add0-d573a94b96f5",
   "metadata": {},
   "source": [
    "## Q3"
   ]
  },
  {
   "cell_type": "code",
   "execution_count": 6,
   "id": "0f4f56c1-8769-4355-8853-8706fc14b6e1",
   "metadata": {},
   "outputs": [],
   "source": [
    "def answer_three():\n",
    "    df['usa_winner'] = df['birth_country'] == 'United States of America'\n",
    "    df['decade'] = df['year'].apply(lambda year: year - (year % 10))\n",
    "    \n",
    "    usa_prop_per_decade = df['usa_winner'].groupby(df['decade']).mean()\n",
    "    usa_prop_per_decade = usa_prop_per_decade.to_frame('proportion')\n",
    "    usa_prop_per_decade['decade'] = usa_prop_per_decade.index\n",
    "    usa_prop_per_decade.reset_index(drop=True, inplace=True)\n",
    "\n",
    "    return df['usa_winner'].mean(), usa_prop_per_decade.loc[usa_prop_per_decade['proportion'] > 0.10, 'decade'].iloc[0]"
   ]
  },
  {
   "cell_type": "code",
   "execution_count": 7,
   "id": "5299e04f-bb62-48be-b7f1-1c77733bbc6e",
   "metadata": {},
   "outputs": [
    {
     "data": {
      "text/plain": [
       "(0.2843029637760702, 1930)"
      ]
     },
     "execution_count": 7,
     "metadata": {},
     "output_type": "execute_result"
    }
   ],
   "source": [
    "answer_three()"
   ]
  },
  {
   "cell_type": "markdown",
   "id": "2e18167c-b5cc-44e1-bd7b-7335f6fdb5c9",
   "metadata": {},
   "source": [
    "## Q4"
   ]
  },
  {
   "cell_type": "code",
   "execution_count": 8,
   "id": "b82c1e9c-e20a-4042-bf85-1862879dd10a",
   "metadata": {},
   "outputs": [],
   "source": [
    "def answer_four():\n",
    "    sns.lineplot(x='decade', y='usa_winner', data=df).yaxis.set_major_formatter(PercentFormatter())"
   ]
  },
  {
   "cell_type": "code",
   "execution_count": 9,
   "id": "1d11f254-297d-4504-8f2a-8c1f066c8905",
   "metadata": {},
   "outputs": [
    {
     "data": {
      "image/png": "[encoded data removed]",
      "text/plain": [
       "<Figure size 432x288 with 1 Axes>"
      ]
     },
     "metadata": {},
     "output_type": "display_data"
    }
   ],
   "source": [
    "answer_four()"
   ]
  },
  {
   "cell_type": "markdown",
   "id": "f3d7feb9-87cb-4e57-8712-90315a9fab51",
   "metadata": {},
   "source": [
    "## Q5"
   ]
  },
  {
   "cell_type": "code",
   "execution_count": 10,
   "id": "68080b59-1af1-450b-9115-870444de888f",
   "metadata": {},
   "outputs": [],
   "source": [
    "def answer_five():\n",
    "    df['female_winner'] = df['sex'] == 'Female'\n",
    "    female_winners = df.groupby(['decade', 'category'], as_index=False)['female_winner'].mean()\n",
    "    sns.lineplot(x='decade', y='female_winner', hue='category', data=female_winners)\n",
    "    return female_winners['category'].value_counts()"
   ]
  },
  {
   "cell_type": "code",
   "execution_count": 11,
   "id": "be24680e-32c4-45d6-8e1d-c6535f2653ce",
   "metadata": {},
   "outputs": [
    {
     "data": {
      "text/plain": [
       "Chemistry     12\n",
       "Literature    12\n",
       "Medicine      12\n",
       "Peace         12\n",
       "Physics       12\n",
       "Economics      6\n",
       "Name: category, dtype: int64"
      ]
     },
     "execution_count": 11,
     "metadata": {},
     "output_type": "execute_result"
    },
    {
     "data": {
      "image/png": "[encoded data removed]",
      "text/plain": [
       "<Figure size 432x288 with 1 Axes>"
      ]
     },
     "metadata": {},
     "output_type": "display_data"
    }
   ],
   "source": [
    "answer_five()"
   ]
  },
  {
   "cell_type": "markdown",
   "id": "4a49a3b6-44b1-4e39-884d-1877ae3fdcd0",
   "metadata": {},
   "source": [
    "## Q6"
   ]
  },
  {
   "cell_type": "code",
   "execution_count": 12,
   "id": "3679aeb4-7288-4a9b-86f2-06a51a82297b",
   "metadata": {},
   "outputs": [],
   "source": [
    "def answer_six():\n",
    "    return df[df['sex'] == 'Female'].sort_values('year').iloc[0].full_name"
   ]
  },
  {
   "cell_type": "code",
   "execution_count": 13,
   "id": "4364c773-8d99-4dbd-b371-259c46b7414b",
   "metadata": {},
   "outputs": [
    {
     "data": {
      "text/plain": [
       "'Marie Curie, née Sklodowska'"
      ]
     },
     "execution_count": 13,
     "metadata": {},
     "output_type": "execute_result"
    }
   ],
   "source": [
    "answer_six()"
   ]
  },
  {
   "cell_type": "markdown",
   "id": "f5ed2103-f05d-4d08-803b-046de0e30b78",
   "metadata": {},
   "source": [
    "## Q7"
   ]
  },
  {
   "cell_type": "code",
   "execution_count": 14,
   "id": "9a7c8b36-39d4-4301-94ec-48981af23037",
   "metadata": {},
   "outputs": [],
   "source": [
    "def answer_seven():\n",
    "    lucky_winners = df['full_name'].value_counts()\n",
    "    return (lucky_winners[lucky_winners > 1])"
   ]
  },
  {
   "cell_type": "code",
   "execution_count": 15,
   "id": "ccc90131-a2f6-4966-bab4-25e80ed76662",
   "metadata": {},
   "outputs": [
    {
     "data": {
      "text/plain": [
       "Comité international de la Croix Rouge (International Committee of the Red Cross)    3\n",
       "Office of the United Nations High Commissioner for Refugees (UNHCR)                  2\n",
       "John Bardeen                                                                         2\n",
       "Linus Carl Pauling                                                                   2\n",
       "Frederick Sanger                                                                     2\n",
       "Marie Curie, née Sklodowska                                                          2\n",
       "Name: full_name, dtype: int64"
      ]
     },
     "execution_count": 15,
     "metadata": {},
     "output_type": "execute_result"
    }
   ],
   "source": [
    "answer_seven()"
   ]
  },
  {
   "cell_type": "markdown",
   "id": "644c7a23-e10b-42bd-aef6-f8b6b6807b80",
   "metadata": {},
   "source": [
    "## Q8"
   ]
  },
  {
   "cell_type": "code",
   "execution_count": null,
   "id": "7c4408e4-cad7-4816-b049-a415f3978665",
   "metadata": {},
   "outputs": [],
   "source": [
    "def answer_eight():\n",
    "    all_data = merged_all_df_big\n",
    "    all_data[\"Population\"] = all_data['Energy Supply'] / all_data['Energy Supply per Capita']\n",
    "    all_data = all_data.sort_values(\"Population\", ascending=False)\n",
    "    return all_data.iloc[2]['Country']"
   ]
  },
  {
   "cell_type": "code",
   "execution_count": null,
   "id": "cc0526cd-b9ad-4412-9895-e71552b05d06",
   "metadata": {},
   "outputs": [],
   "source": [
    "answer_seven()"
   ]
  },
  {
   "cell_type": "markdown",
   "id": "4e7f369e-6751-4ee6-970c-3e442b6e5920",
   "metadata": {
    "tags": []
   },
   "source": [
    "## Q11"
   ]
  },
  {
   "cell_type": "code",
   "execution_count": 18,
   "id": "1d9315e8-7f23-48ec-ba86-eaa6b29e2c01",
   "metadata": {},
   "outputs": [],
   "source": [
    "def answer_eleven():\n",
    "    df['birth_date'] = pd.to_datetime(df['birth_date'])\n",
    "    df['age'] = df[\"year\"] - df[\"birth_date\"].dt.year\n",
    "    return df[df['sex'] == 'Female'].sort_values('age').iloc[0].full_name"
   ]
  },
  {
   "cell_type": "code",
   "execution_count": 19,
   "id": "d41c4bb4-dca9-4fd6-bf4c-dae67815cf05",
   "metadata": {},
   "outputs": [
    {
     "data": {
      "text/plain": [
       "'Malala Yousafzai'"
      ]
     },
     "execution_count": 19,
     "metadata": {},
     "output_type": "execute_result"
    }
   ],
   "source": [
    "answer_eleven()"
   ]
  }
 ],
 "metadata": {
  "kernelspec": {
   "display_name": "Python 3 (ipykernel)",
   "language": "python",
   "name": "python3"
  },
  "language_info": {
   "codemirror_mode": {
    "name": "ipython",
    "version": 3
   },
   "file_extension": ".py",
   "mimetype": "text/x-python",
   "name": "python",
   "nbconvert_exporter": "python",
   "pygments_lexer": "ipython3",
   "version": "3.9.6"
  }
 },
 "nbformat": 4,
 "nbformat_minor": 5
}
