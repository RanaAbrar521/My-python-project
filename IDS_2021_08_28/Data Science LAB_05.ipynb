{
 "cells": [
  {
   "cell_type": "code",
   "execution_count": 1,
   "id": "f464cc04",
   "metadata": {},
   "outputs": [],
   "source": [
    "import pandas as pd\n",
    "import matplotlib.pyplot as plt\n",
    "import numpy as np\n",
    "import numpy as np\n",
    "import seaborn as sns\n"
   ]
  },
  {
   "cell_type": "code",
   "execution_count": 2,
   "id": "449085e1",
   "metadata": {},
   "outputs": [],
   "source": [
    "df = pd.read_csv('coinmarketcap_06122017.csv')"
   ]
  },
  {
   "cell_type": "code",
   "execution_count": 3,
   "id": "46ef6374",
   "metadata": {},
   "outputs": [
    {
     "data": {
      "text/html": [
       "<div>\n",
       "<style scoped>\n",
       "    .dataframe tbody tr th:only-of-type {\n",
       "        vertical-align: middle;\n",
       "    }\n",
       "\n",
       "    .dataframe tbody tr th {\n",
       "        vertical-align: top;\n",
       "    }\n",
       "\n",
       "    .dataframe thead th {\n",
       "        text-align: right;\n",
       "    }\n",
       "</style>\n",
       "<table border=\"1\" class=\"dataframe\">\n",
       "  <thead>\n",
       "    <tr style=\"text-align: right;\">\n",
       "      <th></th>\n",
       "      <th>Unnamed: 0</th>\n",
       "      <th>24h_volume_usd</th>\n",
       "      <th>available_supply</th>\n",
       "      <th>id</th>\n",
       "      <th>last_updated</th>\n",
       "      <th>market_cap_usd</th>\n",
       "      <th>max_supply</th>\n",
       "      <th>name</th>\n",
       "      <th>percent_change_1h</th>\n",
       "      <th>percent_change_24h</th>\n",
       "      <th>percent_change_7d</th>\n",
       "      <th>price_btc</th>\n",
       "      <th>price_usd</th>\n",
       "      <th>rank</th>\n",
       "      <th>symbol</th>\n",
       "      <th>total_supply</th>\n",
       "    </tr>\n",
       "  </thead>\n",
       "  <tbody>\n",
       "    <tr>\n",
       "      <th>0</th>\n",
       "      <td>0</td>\n",
       "      <td>9.007640e+09</td>\n",
       "      <td>1.672352e+07</td>\n",
       "      <td>bitcoin</td>\n",
       "      <td>1512549554</td>\n",
       "      <td>2.130493e+11</td>\n",
       "      <td>2.100000e+07</td>\n",
       "      <td>Bitcoin</td>\n",
       "      <td>0.12</td>\n",
       "      <td>7.33</td>\n",
       "      <td>17.45</td>\n",
       "      <td>1.000000</td>\n",
       "      <td>12739.500000</td>\n",
       "      <td>1</td>\n",
       "      <td>BTC</td>\n",
       "      <td>1.672352e+07</td>\n",
       "    </tr>\n",
       "    <tr>\n",
       "      <th>1</th>\n",
       "      <td>1</td>\n",
       "      <td>1.551330e+09</td>\n",
       "      <td>9.616537e+07</td>\n",
       "      <td>ethereum</td>\n",
       "      <td>1512549553</td>\n",
       "      <td>4.352945e+10</td>\n",
       "      <td>NaN</td>\n",
       "      <td>Ethereum</td>\n",
       "      <td>-0.18</td>\n",
       "      <td>-3.93</td>\n",
       "      <td>-7.33</td>\n",
       "      <td>0.036177</td>\n",
       "      <td>452.652000</td>\n",
       "      <td>2</td>\n",
       "      <td>ETH</td>\n",
       "      <td>9.616537e+07</td>\n",
       "    </tr>\n",
       "    <tr>\n",
       "      <th>2</th>\n",
       "      <td>2</td>\n",
       "      <td>1.111350e+09</td>\n",
       "      <td>1.684044e+07</td>\n",
       "      <td>bitcoin-cash</td>\n",
       "      <td>1512549578</td>\n",
       "      <td>2.529585e+10</td>\n",
       "      <td>2.100000e+07</td>\n",
       "      <td>Bitcoin Cash</td>\n",
       "      <td>1.65</td>\n",
       "      <td>-5.51</td>\n",
       "      <td>-4.75</td>\n",
       "      <td>0.120050</td>\n",
       "      <td>1502.090000</td>\n",
       "      <td>3</td>\n",
       "      <td>BCH</td>\n",
       "      <td>1.684044e+07</td>\n",
       "    </tr>\n",
       "    <tr>\n",
       "      <th>3</th>\n",
       "      <td>3</td>\n",
       "      <td>2.936090e+09</td>\n",
       "      <td>2.779530e+09</td>\n",
       "      <td>iota</td>\n",
       "      <td>1512549571</td>\n",
       "      <td>1.475225e+10</td>\n",
       "      <td>2.779530e+09</td>\n",
       "      <td>IOTA</td>\n",
       "      <td>-2.38</td>\n",
       "      <td>83.35</td>\n",
       "      <td>255.82</td>\n",
       "      <td>0.000424</td>\n",
       "      <td>5.307460</td>\n",
       "      <td>4</td>\n",
       "      <td>MIOTA</td>\n",
       "      <td>2.779530e+09</td>\n",
       "    </tr>\n",
       "    <tr>\n",
       "      <th>4</th>\n",
       "      <td>4</td>\n",
       "      <td>2.315050e+08</td>\n",
       "      <td>3.873915e+10</td>\n",
       "      <td>ripple</td>\n",
       "      <td>1512549541</td>\n",
       "      <td>9.365343e+09</td>\n",
       "      <td>1.000000e+11</td>\n",
       "      <td>Ripple</td>\n",
       "      <td>0.56</td>\n",
       "      <td>-3.70</td>\n",
       "      <td>-14.79</td>\n",
       "      <td>0.000019</td>\n",
       "      <td>0.241754</td>\n",
       "      <td>5</td>\n",
       "      <td>XRP</td>\n",
       "      <td>9.999309e+10</td>\n",
       "    </tr>\n",
       "  </tbody>\n",
       "</table>\n",
       "</div>"
      ],
      "text/plain": [
       "   Unnamed: 0  24h_volume_usd  available_supply            id  last_updated  \\\n",
       "0           0    9.007640e+09      1.672352e+07       bitcoin    1512549554   \n",
       "1           1    1.551330e+09      9.616537e+07      ethereum    1512549553   \n",
       "2           2    1.111350e+09      1.684044e+07  bitcoin-cash    1512549578   \n",
       "3           3    2.936090e+09      2.779530e+09          iota    1512549571   \n",
       "4           4    2.315050e+08      3.873915e+10        ripple    1512549541   \n",
       "\n",
       "   market_cap_usd    max_supply          name  percent_change_1h  \\\n",
       "0    2.130493e+11  2.100000e+07       Bitcoin               0.12   \n",
       "1    4.352945e+10           NaN      Ethereum              -0.18   \n",
       "2    2.529585e+10  2.100000e+07  Bitcoin Cash               1.65   \n",
       "3    1.475225e+10  2.779530e+09          IOTA              -2.38   \n",
       "4    9.365343e+09  1.000000e+11        Ripple               0.56   \n",
       "\n",
       "   percent_change_24h  percent_change_7d  price_btc     price_usd  rank  \\\n",
       "0                7.33              17.45   1.000000  12739.500000     1   \n",
       "1               -3.93              -7.33   0.036177    452.652000     2   \n",
       "2               -5.51              -4.75   0.120050   1502.090000     3   \n",
       "3               83.35             255.82   0.000424      5.307460     4   \n",
       "4               -3.70             -14.79   0.000019      0.241754     5   \n",
       "\n",
       "  symbol  total_supply  \n",
       "0    BTC  1.672352e+07  \n",
       "1    ETH  9.616537e+07  \n",
       "2    BCH  1.684044e+07  \n",
       "3  MIOTA  2.779530e+09  \n",
       "4    XRP  9.999309e+10  "
      ]
     },
     "execution_count": 3,
     "metadata": {},
     "output_type": "execute_result"
    }
   ],
   "source": [
    "df.head()"
   ]
  },
  {
   "cell_type": "markdown",
   "id": "3934c4ac",
   "metadata": {},
   "source": [
    "# Question 3"
   ]
  },
  {
   "cell_type": "code",
   "execution_count": 4,
   "id": "97f9326f",
   "metadata": {},
   "outputs": [
    {
     "data": {
      "text/html": [
       "<div>\n",
       "<style scoped>\n",
       "    .dataframe tbody tr th:only-of-type {\n",
       "        vertical-align: middle;\n",
       "    }\n",
       "\n",
       "    .dataframe tbody tr th {\n",
       "        vertical-align: top;\n",
       "    }\n",
       "\n",
       "    .dataframe thead th {\n",
       "        text-align: right;\n",
       "    }\n",
       "</style>\n",
       "<table border=\"1\" class=\"dataframe\">\n",
       "  <thead>\n",
       "    <tr style=\"text-align: right;\">\n",
       "      <th></th>\n",
       "      <th>Unnamed: 0</th>\n",
       "      <th>24h_volume_usd</th>\n",
       "      <th>available_supply</th>\n",
       "      <th>id</th>\n",
       "      <th>last_updated</th>\n",
       "      <th>market_cap_usd</th>\n",
       "      <th>max_supply</th>\n",
       "      <th>name</th>\n",
       "      <th>percent_change_1h</th>\n",
       "      <th>percent_change_24h</th>\n",
       "      <th>percent_change_7d</th>\n",
       "      <th>price_btc</th>\n",
       "      <th>price_usd</th>\n",
       "      <th>rank</th>\n",
       "      <th>symbol</th>\n",
       "      <th>total_supply</th>\n",
       "    </tr>\n",
       "  </thead>\n",
       "  <tbody>\n",
       "    <tr>\n",
       "      <th>0</th>\n",
       "      <td>0</td>\n",
       "      <td>9.007640e+09</td>\n",
       "      <td>1.672352e+07</td>\n",
       "      <td>bitcoin</td>\n",
       "      <td>1512549554</td>\n",
       "      <td>2.130493e+11</td>\n",
       "      <td>2.100000e+07</td>\n",
       "      <td>Bitcoin</td>\n",
       "      <td>0.12</td>\n",
       "      <td>7.33</td>\n",
       "      <td>17.45</td>\n",
       "      <td>1.000000e+00</td>\n",
       "      <td>12739.500000</td>\n",
       "      <td>1</td>\n",
       "      <td>BTC</td>\n",
       "      <td>1.672352e+07</td>\n",
       "    </tr>\n",
       "    <tr>\n",
       "      <th>1</th>\n",
       "      <td>1</td>\n",
       "      <td>1.551330e+09</td>\n",
       "      <td>9.616537e+07</td>\n",
       "      <td>ethereum</td>\n",
       "      <td>1512549553</td>\n",
       "      <td>4.352945e+10</td>\n",
       "      <td>NaN</td>\n",
       "      <td>Ethereum</td>\n",
       "      <td>-0.18</td>\n",
       "      <td>-3.93</td>\n",
       "      <td>-7.33</td>\n",
       "      <td>3.617670e-02</td>\n",
       "      <td>452.652000</td>\n",
       "      <td>2</td>\n",
       "      <td>ETH</td>\n",
       "      <td>9.616537e+07</td>\n",
       "    </tr>\n",
       "    <tr>\n",
       "      <th>2</th>\n",
       "      <td>2</td>\n",
       "      <td>1.111350e+09</td>\n",
       "      <td>1.684044e+07</td>\n",
       "      <td>bitcoin-cash</td>\n",
       "      <td>1512549578</td>\n",
       "      <td>2.529585e+10</td>\n",
       "      <td>2.100000e+07</td>\n",
       "      <td>Bitcoin Cash</td>\n",
       "      <td>1.65</td>\n",
       "      <td>-5.51</td>\n",
       "      <td>-4.75</td>\n",
       "      <td>1.200500e-01</td>\n",
       "      <td>1502.090000</td>\n",
       "      <td>3</td>\n",
       "      <td>BCH</td>\n",
       "      <td>1.684044e+07</td>\n",
       "    </tr>\n",
       "    <tr>\n",
       "      <th>3</th>\n",
       "      <td>3</td>\n",
       "      <td>2.936090e+09</td>\n",
       "      <td>2.779530e+09</td>\n",
       "      <td>iota</td>\n",
       "      <td>1512549571</td>\n",
       "      <td>1.475225e+10</td>\n",
       "      <td>2.779530e+09</td>\n",
       "      <td>IOTA</td>\n",
       "      <td>-2.38</td>\n",
       "      <td>83.35</td>\n",
       "      <td>255.82</td>\n",
       "      <td>4.241800e-04</td>\n",
       "      <td>5.307460</td>\n",
       "      <td>4</td>\n",
       "      <td>MIOTA</td>\n",
       "      <td>2.779530e+09</td>\n",
       "    </tr>\n",
       "    <tr>\n",
       "      <th>4</th>\n",
       "      <td>4</td>\n",
       "      <td>2.315050e+08</td>\n",
       "      <td>3.873915e+10</td>\n",
       "      <td>ripple</td>\n",
       "      <td>1512549541</td>\n",
       "      <td>9.365343e+09</td>\n",
       "      <td>1.000000e+11</td>\n",
       "      <td>Ripple</td>\n",
       "      <td>0.56</td>\n",
       "      <td>-3.70</td>\n",
       "      <td>-14.79</td>\n",
       "      <td>1.932000e-05</td>\n",
       "      <td>0.241754</td>\n",
       "      <td>5</td>\n",
       "      <td>XRP</td>\n",
       "      <td>9.999309e+10</td>\n",
       "    </tr>\n",
       "    <tr>\n",
       "      <th>...</th>\n",
       "      <td>...</td>\n",
       "      <td>...</td>\n",
       "      <td>...</td>\n",
       "      <td>...</td>\n",
       "      <td>...</td>\n",
       "      <td>...</td>\n",
       "      <td>...</td>\n",
       "      <td>...</td>\n",
       "      <td>...</td>\n",
       "      <td>...</td>\n",
       "      <td>...</td>\n",
       "      <td>...</td>\n",
       "      <td>...</td>\n",
       "      <td>...</td>\n",
       "      <td>...</td>\n",
       "      <td>...</td>\n",
       "    </tr>\n",
       "    <tr>\n",
       "      <th>1026</th>\n",
       "      <td>1026</td>\n",
       "      <td>NaN</td>\n",
       "      <td>2.753201e+06</td>\n",
       "      <td>future-digital-currency</td>\n",
       "      <td>1512318861</td>\n",
       "      <td>2.510000e+02</td>\n",
       "      <td>NaN</td>\n",
       "      <td>Future Digital Currency</td>\n",
       "      <td>NaN</td>\n",
       "      <td>NaN</td>\n",
       "      <td>-3.55</td>\n",
       "      <td>8.000000e-09</td>\n",
       "      <td>0.000091</td>\n",
       "      <td>1027</td>\n",
       "      <td>FDC</td>\n",
       "      <td>1.002753e+09</td>\n",
       "    </tr>\n",
       "    <tr>\n",
       "      <th>1027</th>\n",
       "      <td>1027</td>\n",
       "      <td>5.108100e-01</td>\n",
       "      <td>1.327175e+08</td>\n",
       "      <td>environ</td>\n",
       "      <td>1512549571</td>\n",
       "      <td>1.360000e+02</td>\n",
       "      <td>NaN</td>\n",
       "      <td>Environ</td>\n",
       "      <td>-0.23</td>\n",
       "      <td>-0.02</td>\n",
       "      <td>-47.88</td>\n",
       "      <td>8.000000e-11</td>\n",
       "      <td>0.000001</td>\n",
       "      <td>1028</td>\n",
       "      <td>ENV</td>\n",
       "      <td>9.327175e+08</td>\n",
       "    </tr>\n",
       "    <tr>\n",
       "      <th>1028</th>\n",
       "      <td>1028</td>\n",
       "      <td>4.271860e+01</td>\n",
       "      <td>8.714000e+04</td>\n",
       "      <td>caliphcoin</td>\n",
       "      <td>1512549561</td>\n",
       "      <td>1.000000e+02</td>\n",
       "      <td>1.890000e+08</td>\n",
       "      <td>CaliphCoin</td>\n",
       "      <td>0.54</td>\n",
       "      <td>53.88</td>\n",
       "      <td>67.27</td>\n",
       "      <td>9.000000e-08</td>\n",
       "      <td>0.001145</td>\n",
       "      <td>1029</td>\n",
       "      <td>CALC</td>\n",
       "      <td>1.485871e+08</td>\n",
       "    </tr>\n",
       "    <tr>\n",
       "      <th>1029</th>\n",
       "      <td>1029</td>\n",
       "      <td>NaN</td>\n",
       "      <td>1.967660e+05</td>\n",
       "      <td>falcoin</td>\n",
       "      <td>1512481172</td>\n",
       "      <td>2.300000e+01</td>\n",
       "      <td>2.000000e+08</td>\n",
       "      <td>Falcoin</td>\n",
       "      <td>NaN</td>\n",
       "      <td>0.99</td>\n",
       "      <td>-71.64</td>\n",
       "      <td>1.000000e-08</td>\n",
       "      <td>0.000119</td>\n",
       "      <td>1030</td>\n",
       "      <td>FAL</td>\n",
       "      <td>1.701968e+08</td>\n",
       "    </tr>\n",
       "    <tr>\n",
       "      <th>1030</th>\n",
       "      <td>1030</td>\n",
       "      <td>1.718820e+02</td>\n",
       "      <td>7.924200e+04</td>\n",
       "      <td>applecoin-apw</td>\n",
       "      <td>1512549575</td>\n",
       "      <td>1.000000e+01</td>\n",
       "      <td>2.100000e+09</td>\n",
       "      <td>AppleCoin</td>\n",
       "      <td>0.54</td>\n",
       "      <td>6.27</td>\n",
       "      <td>17.44</td>\n",
       "      <td>1.000000e-08</td>\n",
       "      <td>0.000125</td>\n",
       "      <td>1031</td>\n",
       "      <td>APW</td>\n",
       "      <td>1.600079e+09</td>\n",
       "    </tr>\n",
       "  </tbody>\n",
       "</table>\n",
       "<p>1031 rows × 16 columns</p>\n",
       "</div>"
      ],
      "text/plain": [
       "      Unnamed: 0  24h_volume_usd  available_supply                       id  \\\n",
       "0              0    9.007640e+09      1.672352e+07                  bitcoin   \n",
       "1              1    1.551330e+09      9.616537e+07                 ethereum   \n",
       "2              2    1.111350e+09      1.684044e+07             bitcoin-cash   \n",
       "3              3    2.936090e+09      2.779530e+09                     iota   \n",
       "4              4    2.315050e+08      3.873915e+10                   ripple   \n",
       "...          ...             ...               ...                      ...   \n",
       "1026        1026             NaN      2.753201e+06  future-digital-currency   \n",
       "1027        1027    5.108100e-01      1.327175e+08                  environ   \n",
       "1028        1028    4.271860e+01      8.714000e+04               caliphcoin   \n",
       "1029        1029             NaN      1.967660e+05                  falcoin   \n",
       "1030        1030    1.718820e+02      7.924200e+04            applecoin-apw   \n",
       "\n",
       "      last_updated  market_cap_usd    max_supply                     name  \\\n",
       "0       1512549554    2.130493e+11  2.100000e+07                  Bitcoin   \n",
       "1       1512549553    4.352945e+10           NaN                 Ethereum   \n",
       "2       1512549578    2.529585e+10  2.100000e+07             Bitcoin Cash   \n",
       "3       1512549571    1.475225e+10  2.779530e+09                     IOTA   \n",
       "4       1512549541    9.365343e+09  1.000000e+11                   Ripple   \n",
       "...            ...             ...           ...                      ...   \n",
       "1026    1512318861    2.510000e+02           NaN  Future Digital Currency   \n",
       "1027    1512549571    1.360000e+02           NaN                  Environ   \n",
       "1028    1512549561    1.000000e+02  1.890000e+08               CaliphCoin   \n",
       "1029    1512481172    2.300000e+01  2.000000e+08                  Falcoin   \n",
       "1030    1512549575    1.000000e+01  2.100000e+09                AppleCoin   \n",
       "\n",
       "      percent_change_1h  percent_change_24h  percent_change_7d     price_btc  \\\n",
       "0                  0.12                7.33              17.45  1.000000e+00   \n",
       "1                 -0.18               -3.93              -7.33  3.617670e-02   \n",
       "2                  1.65               -5.51              -4.75  1.200500e-01   \n",
       "3                 -2.38               83.35             255.82  4.241800e-04   \n",
       "4                  0.56               -3.70             -14.79  1.932000e-05   \n",
       "...                 ...                 ...                ...           ...   \n",
       "1026                NaN                 NaN              -3.55  8.000000e-09   \n",
       "1027              -0.23               -0.02             -47.88  8.000000e-11   \n",
       "1028               0.54               53.88              67.27  9.000000e-08   \n",
       "1029                NaN                0.99             -71.64  1.000000e-08   \n",
       "1030               0.54                6.27              17.44  1.000000e-08   \n",
       "\n",
       "         price_usd  rank symbol  total_supply  \n",
       "0     12739.500000     1    BTC  1.672352e+07  \n",
       "1       452.652000     2    ETH  9.616537e+07  \n",
       "2      1502.090000     3    BCH  1.684044e+07  \n",
       "3         5.307460     4  MIOTA  2.779530e+09  \n",
       "4         0.241754     5    XRP  9.999309e+10  \n",
       "...            ...   ...    ...           ...  \n",
       "1026      0.000091  1027    FDC  1.002753e+09  \n",
       "1027      0.000001  1028    ENV  9.327175e+08  \n",
       "1028      0.001145  1029   CALC  1.485871e+08  \n",
       "1029      0.000119  1030    FAL  1.701968e+08  \n",
       "1030      0.000125  1031    APW  1.600079e+09  \n",
       "\n",
       "[1031 rows x 16 columns]"
      ]
     },
     "execution_count": 4,
     "metadata": {},
     "output_type": "execute_result"
    }
   ],
   "source": [
    "def answer_three():\n",
    "    return df[df['market_cap_usd'] > 0] \n",
    " \n",
    "answer_three()"
   ]
  },
  {
   "cell_type": "markdown",
   "id": "adf827b8",
   "metadata": {},
   "source": [
    "# Question 4"
   ]
  },
  {
   "cell_type": "code",
   "execution_count": 5,
   "id": "03ce9d58",
   "metadata": {},
   "outputs": [
    {
     "name": "stderr",
     "output_type": "stream",
     "text": [
      "<ipython-input-5-690031e113dd>:4: SettingWithCopyWarning: \n",
      "A value is trying to be set on a copy of a slice from a DataFrame.\n",
      "Try using .loc[row_indexer,col_indexer] = value instead\n",
      "\n",
      "See the caveats in the documentation: https://pandas.pydata.org/pandas-docs/stable/user_guide/indexing.html#returning-a-view-versus-a-copy\n",
      "  top10['percentage'] = (top10['market_cap_usd']/top10['market_cap_usd'].sum())* 100\n"
     ]
    },
    {
     "data": {
      "image/png": "[encoded data removed]",
      "text/plain": [
       "<Figure size 1152x504 with 1 Axes>"
      ]
     },
     "metadata": {
      "needs_background": "light"
     },
     "output_type": "display_data"
    }
   ],
   "source": [
    "def answer_four():\n",
    "    df.sort_values(by = 'market_cap_usd', ascending  =False, inplace = True)\n",
    "    top10 = df.head(10)\n",
    "    top10['percentage'] = (top10['market_cap_usd']/top10['market_cap_usd'].sum())* 100\n",
    "    top10.plot(kind = 'bar', x = 'id', y='percentage',figsize=(16, 7))\n",
    "    plt.xlabel('Name of Cryptocruncy')\n",
    "    plt.ylabel('Percentage')\n",
    "    plt.title('Comparison of top10 Cryptocruncies')\n",
    "    return plt.show()\n",
    "answer_four()"
   ]
  },
  {
   "cell_type": "markdown",
   "id": "82ef64bd",
   "metadata": {},
   "source": [
    "# Question 5"
   ]
  },
  {
   "cell_type": "code",
   "execution_count": 6,
   "id": "d77d20e8",
   "metadata": {},
   "outputs": [
    {
     "name": "stderr",
     "output_type": "stream",
     "text": [
      "<ipython-input-6-02b9b6c2256d>:4: SettingWithCopyWarning: \n",
      "A value is trying to be set on a copy of a slice from a DataFrame.\n",
      "Try using .loc[row_indexer,col_indexer] = value instead\n",
      "\n",
      "See the caveats in the documentation: https://pandas.pydata.org/pandas-docs/stable/user_guide/indexing.html#returning-a-view-versus-a-copy\n",
      "  top10['log10']  = np.log10(top10['market_cap_usd'])\n"
     ]
    },
    {
     "data": {
      "image/png": "[encoded data removed]",
      "text/plain": [
       "<Figure size 1152x504 with 1 Axes>"
      ]
     },
     "metadata": {
      "needs_background": "light"
     },
     "output_type": "display_data"
    }
   ],
   "source": [
    "def answer_five():\n",
    "    df.sort_values(by = 'market_cap_usd', ascending  =False, inplace = True)\n",
    "    top10 = df.head(10)\n",
    "    top10['log10']  = np.log10(top10['market_cap_usd'])\n",
    "    top10.plot(kind = 'bar', x = 'id', y='log10',figsize=(16, 7))\n",
    "    plt.xlabel('Name of Cryptocruncy')\n",
    "    plt.ylabel('Log10')\n",
    "    plt.title('Comparison of top10 Cryptocruncies')\n",
    "    return plt.show() \n",
    "answer_five()"
   ]
  },
  {
   "cell_type": "code",
   "execution_count": 7,
   "id": "c931bcf4",
   "metadata": {},
   "outputs": [
    {
     "name": "stderr",
     "output_type": "stream",
     "text": [
      "<ipython-input-7-137f7b2eea25>:4: SettingWithCopyWarning: \n",
      "A value is trying to be set on a copy of a slice from a DataFrame.\n",
      "Try using .loc[row_indexer,col_indexer] = value instead\n",
      "\n",
      "See the caveats in the documentation: https://pandas.pydata.org/pandas-docs/stable/user_guide/indexing.html#returning-a-view-versus-a-copy\n",
      "  top10['log10']  = np.log10(top10['market_cap_usd'])\n"
     ]
    },
    {
     "data": {
      "image/png": "[encoded data removed]",
      "text/plain": [
       "<Figure size 1152x576 with 1 Axes>"
      ]
     },
     "metadata": {
      "needs_background": "light"
     },
     "output_type": "display_data"
    }
   ],
   "source": [
    "def answer_five1():\n",
    "    df.sort_values(by = 'market_cap_usd', ascending  =False, inplace = True)\n",
    "    top10 = df.head(10)\n",
    "    top10['log10']  = np.log10(top10['market_cap_usd'])\n",
    "\n",
    "    \n",
    "\n",
    "    d = {'cryptocurrencies': ['Bitcoin','smart contracts','blockchain','Non-mineable ', 'Non-mineable','own color','own color',  'blockchain', 'own color','smart contracts'], 'id': top10['id'],'LOG10':top10['log10']}\n",
    "\n",
    "    final_df = pd.DataFrame(data=d)\n",
    "    result = final_df[['id', 'LOG10', 'cryptocurrencies']].groupby('cryptocurrencies').count()\n",
    "\n",
    "#     final_df.plot(kind = 'bar', x = 'id', y='LOG10',figsize=(16, 7), hue='cryptocurrencies', rot=0)\n",
    "\n",
    "    \n",
    "    plt.figure(figsize=(16, 8))  \n",
    "    plt.xlabel('Name of Cryptocruncy')\n",
    "    plt.ylabel('Log10')\n",
    "    plt.title('Comparison of top10 Cryptocruncies')\n",
    "    fg = sns.barplot(x='id', y='LOG10', hue='cryptocurrencies',  data=final_df)\n",
    "    return plt.show()\n",
    "answer_five1()\n",
    "  "
   ]
  },
  {
   "cell_type": "markdown",
   "id": "fc65f476",
   "metadata": {},
   "source": [
    "# Question 6"
   ]
  },
  {
   "cell_type": "code",
   "execution_count": 8,
   "id": "ef8feefe",
   "metadata": {},
   "outputs": [
    {
     "name": "stderr",
     "output_type": "stream",
     "text": [
      "C:\\Users\\DELL\\anaconda3\\lib\\site-packages\\pandas\\core\\arraylike.py:358: RuntimeWarning: invalid value encountered in sqrt\n",
      "  result = getattr(ufunc, method)(*inputs, **kwargs)\n"
     ]
    },
    {
     "data": {
      "image/png": "[encoded data removed]",
      "text/plain": [
       "<Figure size 1152x504 with 2 Axes>"
      ]
     },
     "metadata": {
      "needs_background": "light"
     },
     "output_type": "display_data"
    }
   ],
   "source": [
    "def answer_six():\n",
    "    df.sort_values(by = 'market_cap_usd', ascending  =False, inplace = True)\n",
    "    top10 = df.head(10)\n",
    "    daily_sd = np.sqrt(top10['percent_change_24h'])\n",
    "\n",
    "    d = {'percent_change_24h': top10['percent_change_24h'], 'percent_change_7d': top10['percent_change_7d'], 'volatility':daily_sd * np.sqrt(250)}\n",
    "\n",
    "    df1 = pd.DataFrame(data=d)\n",
    "    df1[['percent_change_24h', 'percent_change_7d']].plot(kind = 'bar', subplots=True, figsize=(16, 7))\n",
    "    return plt.show()\n",
    "answer_six()"
   ]
  },
  {
   "cell_type": "markdown",
   "id": "bf2a0f20",
   "metadata": {},
   "source": [
    "# Question 7"
   ]
  },
  {
   "cell_type": "code",
   "execution_count": 9,
   "id": "73155ee5",
   "metadata": {},
   "outputs": [
    {
     "data": {
      "text/plain": [
       "(<AxesSubplot:xlabel='ID'>, <AxesSubplot:xlabel='ID'>)"
      ]
     },
     "execution_count": 9,
     "metadata": {},
     "output_type": "execute_result"
    },
    {
     "data": {
      "image/png": "[encoded data removed]",
      "text/plain": [
       "<Figure size 1152x504 with 1 Axes>"
      ]
     },
     "metadata": {
      "needs_background": "light"
     },
     "output_type": "display_data"
    },
    {
     "data": {
      "image/png": "[encoded data removed]",
      "text/plain": [
       "<Figure size 1152x504 with 1 Axes>"
      ]
     },
     "metadata": {
      "needs_background": "light"
     },
     "output_type": "display_data"
    }
   ],
   "source": [
    "def answer_seven():\n",
    "    data = {'percent_change_24h': df['percent_change_24h'], 'percent_change_7d': df['percent_change_7d'], 'volatility':df['percent_change_24h'], 'ID': df['id']}\n",
    "\n",
    "    df1 = pd.DataFrame(data)\n",
    "    df1.sort_values(by = 'volatility', ascending  =False, inplace = True)\n",
    "\n",
    "    top_gainer = df1.head(10)\n",
    "    top_looser = df1.tail(10)\n",
    "    gainer_graph =top_gainer.plot(kind = 'bar', x = 'ID', y='volatility',figsize=(16, 7))\n",
    "    looser_graph =top_looser.plot(kind = 'bar', x = 'ID', y='volatility',figsize=(16, 7))\n",
    "    return gainer_graph, looser_graph\n",
    "answer_seven()"
   ]
  },
  {
   "cell_type": "markdown",
   "id": "b3d00ed8",
   "metadata": {},
   "source": [
    "# Question 8"
   ]
  },
  {
   "cell_type": "code",
   "execution_count": 10,
   "id": "e412e0d4",
   "metadata": {},
   "outputs": [
    {
     "data": {
      "text/plain": [
       "(<AxesSubplot:xlabel='ID'>, <AxesSubplot:xlabel='ID'>)"
      ]
     },
     "execution_count": 10,
     "metadata": {},
     "output_type": "execute_result"
    },
    {
     "data": {
      "image/png": "[encoded data removed]",
      "text/plain": [
       "<Figure size 1152x504 with 1 Axes>"
      ]
     },
     "metadata": {
      "needs_background": "light"
     },
     "output_type": "display_data"
    },
    {
     "data": {
      "image/png": "[encoded data removed]",
      "text/plain": [
       "<Figure size 1152x504 with 1 Axes>"
      ]
     },
     "metadata": {
      "needs_background": "light"
     },
     "output_type": "display_data"
    }
   ],
   "source": [
    "def answer_eight():\n",
    "    daily_sd = np.sqrt(df['percent_change_7d'])\n",
    "    data = {'percent_change_24h': df['percent_change_24h'], 'percent_change_7d': df['percent_change_7d'], 'volatility':daily_sd * np.sqrt(250), 'ID': df['id']}\n",
    "\n",
    "    new_data_frame = pd.DataFrame(data)\n",
    "    new_data_frame.sort_values(by = 'volatility', ascending  =False, inplace = True)\n",
    "\n",
    "    top_gainer = new_data_frame.head(10)\n",
    "    top_looser = new_data_frame.tail(10)\n",
    "    gainer_graph =top_gainer.plot(kind = 'bar', x = 'ID', y='volatility',figsize=(16, 7))\n",
    "    looser_graph =top_looser.plot(kind = 'bar', x = 'ID', y='volatility',figsize=(16, 7))\n",
    "    return gainer_graph, looser_graph\n",
    "answer_eight() "
   ]
  },
  {
   "cell_type": "code",
   "execution_count": null,
   "id": "90fb3bbe",
   "metadata": {},
   "outputs": [],
   "source": []
  },
  {
   "cell_type": "markdown",
   "id": "05005a3d",
   "metadata": {},
   "source": [
    "# Question 9\n",
    "\n",
    "According to Investopedia, large coin has market cap of $10 billion or more "
   ]
  },
  {
   "cell_type": "code",
   "execution_count": 11,
   "id": "27123ad2",
   "metadata": {},
   "outputs": [
    {
     "data": {
      "text/plain": [
       "0         bitcoin\n",
       "1        ethereum\n",
       "2    bitcoin-cash\n",
       "3            iota\n",
       "Name: id, dtype: object"
      ]
     },
     "execution_count": 11,
     "metadata": {},
     "output_type": "execute_result"
    }
   ],
   "source": [
    "def answer_nine():\n",
    "    df_top = df[df['market_cap_usd'] >= 10**10]\n",
    "\n",
    "    return df_top['id']\n",
    "answer_nine()"
   ]
  },
  {
   "cell_type": "code",
   "execution_count": null,
   "id": "0619730f",
   "metadata": {},
   "outputs": [],
   "source": []
  }
 ],
 "metadata": {
  "kernelspec": {
   "display_name": "Python 3",
   "language": "python",
   "name": "python3"
  },
  "language_info": {
   "codemirror_mode": {
    "name": "ipython",
    "version": 3
   },
   "file_extension": ".py",
   "mimetype": "text/x-python",
   "name": "python",
   "nbconvert_exporter": "python",
   "pygments_lexer": "ipython3",
   "version": "3.8.8"
  }
 },
 "nbformat": 4,
 "nbformat_minor": 5
}
