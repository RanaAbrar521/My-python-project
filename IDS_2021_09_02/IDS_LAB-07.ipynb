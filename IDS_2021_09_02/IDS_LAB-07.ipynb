{
 "cells": [
  {
   "cell_type": "code",
   "execution_count": 1,
   "id": "3ba01db9",
   "metadata": {},
   "outputs": [],
   "source": [
    "import pandas as pd\n",
    "import numpy as np\n",
    "import matplotlib.pyplot as plt\n",
    "import seaborn as sns "
   ]
  },
  {
   "cell_type": "code",
   "execution_count": 2,
   "id": "01a24aba",
   "metadata": {},
   "outputs": [],
   "source": [
    "df_pullfiles = pd.read_csv('pull_files.csv')\n",
    "df_pull = pd.read_csv('pulls.csv')"
   ]
  },
  {
   "cell_type": "code",
   "execution_count": 3,
   "id": "1bff38af",
   "metadata": {},
   "outputs": [
    {
     "data": {
      "text/html": [
       "<div>\n",
       "<style scoped>\n",
       "    .dataframe tbody tr th:only-of-type {\n",
       "        vertical-align: middle;\n",
       "    }\n",
       "\n",
       "    .dataframe tbody tr th {\n",
       "        vertical-align: top;\n",
       "    }\n",
       "\n",
       "    .dataframe thead th {\n",
       "        text-align: right;\n",
       "    }\n",
       "</style>\n",
       "<table border=\"1\" class=\"dataframe\">\n",
       "  <thead>\n",
       "    <tr style=\"text-align: right;\">\n",
       "      <th></th>\n",
       "      <th>pid</th>\n",
       "      <th>file</th>\n",
       "    </tr>\n",
       "  </thead>\n",
       "  <tbody>\n",
       "    <tr>\n",
       "      <th>0</th>\n",
       "      <td>163314316</td>\n",
       "      <td>test/files/pos/t5638/Among.java</td>\n",
       "    </tr>\n",
       "    <tr>\n",
       "      <th>1</th>\n",
       "      <td>163314316</td>\n",
       "      <td>test/files/pos/t5638/Usage.scala</td>\n",
       "    </tr>\n",
       "    <tr>\n",
       "      <th>2</th>\n",
       "      <td>163314316</td>\n",
       "      <td>test/files/pos/t9291.scala</td>\n",
       "    </tr>\n",
       "    <tr>\n",
       "      <th>3</th>\n",
       "      <td>163314316</td>\n",
       "      <td>test/files/run/t8348.check</td>\n",
       "    </tr>\n",
       "    <tr>\n",
       "      <th>4</th>\n",
       "      <td>163314316</td>\n",
       "      <td>test/files/run/t8348/TableColumn.java</td>\n",
       "    </tr>\n",
       "  </tbody>\n",
       "</table>\n",
       "</div>"
      ],
      "text/plain": [
       "         pid                                   file\n",
       "0  163314316        test/files/pos/t5638/Among.java\n",
       "1  163314316       test/files/pos/t5638/Usage.scala\n",
       "2  163314316             test/files/pos/t9291.scala\n",
       "3  163314316             test/files/run/t8348.check\n",
       "4  163314316  test/files/run/t8348/TableColumn.java"
      ]
     },
     "execution_count": 3,
     "metadata": {},
     "output_type": "execute_result"
    }
   ],
   "source": [
    "df_pullfiles.head()"
   ]
  },
  {
   "cell_type": "code",
   "execution_count": 4,
   "id": "37d9cf1a",
   "metadata": {},
   "outputs": [
    {
     "data": {
      "text/plain": [
       "<bound method DataFrame.info of             pid       user                  date\n",
       "0     163314316     hrhino  2018-01-16T23:29:16Z\n",
       "1     163061502   joroKr21  2018-01-15T23:44:52Z\n",
       "2     163057333  mkeskells  2018-01-15T23:05:06Z\n",
       "3     162985594      lrytz  2018-01-15T15:52:39Z\n",
       "4     162838837  zuvizudar  2018-01-14T19:16:16Z\n",
       "...         ...        ...                   ...\n",
       "6195     547941    xeno-by  2011-12-01T16:16:42Z\n",
       "6196     547354    szeiger  2011-12-01T14:03:23Z\n",
       "6197     547150    odersky  2011-12-01T12:39:40Z\n",
       "6198     547003    robinst  2011-12-01T11:42:26Z\n",
       "6199     546847    odersky  2011-12-01T10:41:01Z\n",
       "\n",
       "[6200 rows x 3 columns]>"
      ]
     },
     "execution_count": 4,
     "metadata": {},
     "output_type": "execute_result"
    }
   ],
   "source": [
    "df_pull.info"
   ]
  },
  {
   "cell_type": "code",
   "execution_count": 5,
   "id": "53b7f435",
   "metadata": {},
   "outputs": [
    {
     "data": {
      "text/html": [
       "<div>\n",
       "<style scoped>\n",
       "    .dataframe tbody tr th:only-of-type {\n",
       "        vertical-align: middle;\n",
       "    }\n",
       "\n",
       "    .dataframe tbody tr th {\n",
       "        vertical-align: top;\n",
       "    }\n",
       "\n",
       "    .dataframe thead th {\n",
       "        text-align: right;\n",
       "    }\n",
       "</style>\n",
       "<table border=\"1\" class=\"dataframe\">\n",
       "  <thead>\n",
       "    <tr style=\"text-align: right;\">\n",
       "      <th></th>\n",
       "      <th>pid</th>\n",
       "      <th>user</th>\n",
       "      <th>date</th>\n",
       "    </tr>\n",
       "  </thead>\n",
       "  <tbody>\n",
       "    <tr>\n",
       "      <th>0</th>\n",
       "      <td>163314316</td>\n",
       "      <td>hrhino</td>\n",
       "      <td>2018-01-16T23:29:16Z</td>\n",
       "    </tr>\n",
       "    <tr>\n",
       "      <th>1</th>\n",
       "      <td>163061502</td>\n",
       "      <td>joroKr21</td>\n",
       "      <td>2018-01-15T23:44:52Z</td>\n",
       "    </tr>\n",
       "    <tr>\n",
       "      <th>2</th>\n",
       "      <td>163057333</td>\n",
       "      <td>mkeskells</td>\n",
       "      <td>2018-01-15T23:05:06Z</td>\n",
       "    </tr>\n",
       "    <tr>\n",
       "      <th>3</th>\n",
       "      <td>162985594</td>\n",
       "      <td>lrytz</td>\n",
       "      <td>2018-01-15T15:52:39Z</td>\n",
       "    </tr>\n",
       "    <tr>\n",
       "      <th>4</th>\n",
       "      <td>162838837</td>\n",
       "      <td>zuvizudar</td>\n",
       "      <td>2018-01-14T19:16:16Z</td>\n",
       "    </tr>\n",
       "    <tr>\n",
       "      <th>...</th>\n",
       "      <td>...</td>\n",
       "      <td>...</td>\n",
       "      <td>...</td>\n",
       "    </tr>\n",
       "    <tr>\n",
       "      <th>6195</th>\n",
       "      <td>547941</td>\n",
       "      <td>xeno-by</td>\n",
       "      <td>2011-12-01T16:16:42Z</td>\n",
       "    </tr>\n",
       "    <tr>\n",
       "      <th>6196</th>\n",
       "      <td>547354</td>\n",
       "      <td>szeiger</td>\n",
       "      <td>2011-12-01T14:03:23Z</td>\n",
       "    </tr>\n",
       "    <tr>\n",
       "      <th>6197</th>\n",
       "      <td>547150</td>\n",
       "      <td>odersky</td>\n",
       "      <td>2011-12-01T12:39:40Z</td>\n",
       "    </tr>\n",
       "    <tr>\n",
       "      <th>6198</th>\n",
       "      <td>547003</td>\n",
       "      <td>robinst</td>\n",
       "      <td>2011-12-01T11:42:26Z</td>\n",
       "    </tr>\n",
       "    <tr>\n",
       "      <th>6199</th>\n",
       "      <td>546847</td>\n",
       "      <td>odersky</td>\n",
       "      <td>2011-12-01T10:41:01Z</td>\n",
       "    </tr>\n",
       "  </tbody>\n",
       "</table>\n",
       "<p>6200 rows × 3 columns</p>\n",
       "</div>"
      ],
      "text/plain": [
       "            pid       user                  date\n",
       "0     163314316     hrhino  2018-01-16T23:29:16Z\n",
       "1     163061502   joroKr21  2018-01-15T23:44:52Z\n",
       "2     163057333  mkeskells  2018-01-15T23:05:06Z\n",
       "3     162985594      lrytz  2018-01-15T15:52:39Z\n",
       "4     162838837  zuvizudar  2018-01-14T19:16:16Z\n",
       "...         ...        ...                   ...\n",
       "6195     547941    xeno-by  2011-12-01T16:16:42Z\n",
       "6196     547354    szeiger  2011-12-01T14:03:23Z\n",
       "6197     547150    odersky  2011-12-01T12:39:40Z\n",
       "6198     547003    robinst  2011-12-01T11:42:26Z\n",
       "6199     546847    odersky  2011-12-01T10:41:01Z\n",
       "\n",
       "[6200 rows x 3 columns]"
      ]
     },
     "execution_count": 5,
     "metadata": {},
     "output_type": "execute_result"
    }
   ],
   "source": [
    "df_pull"
   ]
  },
  {
   "cell_type": "code",
   "execution_count": 6,
   "id": "407c1bbf",
   "metadata": {},
   "outputs": [
    {
     "data": {
      "text/plain": [
       "pid      int64\n",
       "user    object\n",
       "date    object\n",
       "dtype: object"
      ]
     },
     "execution_count": 6,
     "metadata": {},
     "output_type": "execute_result"
    }
   ],
   "source": [
    "df_pull.dtypes"
   ]
  },
  {
   "cell_type": "code",
   "execution_count": 7,
   "id": "28a4c358",
   "metadata": {},
   "outputs": [
    {
     "ename": "NameError",
     "evalue": "name 'df' is not defined",
     "output_type": "error",
     "traceback": [
      "\u001b[1;31m---------------------------------------------------------------------------\u001b[0m",
      "\u001b[1;31mNameError\u001b[0m                                 Traceback (most recent call last)",
      "\u001b[1;32m<ipython-input-7-f5e26e25f87e>\u001b[0m in \u001b[0;36m<module>\u001b[1;34m\u001b[0m\n\u001b[1;32m----> 1\u001b[1;33m \u001b[0mdf\u001b[0m\u001b[1;33m[\u001b[0m\u001b[1;34m'date'\u001b[0m\u001b[1;33m]\u001b[0m \u001b[1;33m=\u001b[0m \u001b[0mpd\u001b[0m\u001b[1;33m.\u001b[0m\u001b[0mto_datetime\u001b[0m\u001b[1;33m(\u001b[0m\u001b[0mdf_pull\u001b[0m\u001b[1;33m[\u001b[0m\u001b[1;34m'date'\u001b[0m\u001b[1;33m]\u001b[0m\u001b[1;33m)\u001b[0m\u001b[1;33m\u001b[0m\u001b[1;33m\u001b[0m\u001b[0m\n\u001b[0m",
      "\u001b[1;31mNameError\u001b[0m: name 'df' is not defined"
     ]
    }
   ],
   "source": [
    "df['date'] = pd.to_datetime(df_pull['date'])"
   ]
  },
  {
   "cell_type": "code",
   "execution_count": null,
   "id": "995580ca",
   "metadata": {},
   "outputs": [],
   "source": [
    "df.dtypes"
   ]
  },
  {
   "cell_type": "code",
   "execution_count": null,
   "id": "e8ae1d90",
   "metadata": {},
   "outputs": [],
   "source": [
    "df = pd.merge(df_pullfiles, df_pull, how='inner', on='pid')"
   ]
  },
  {
   "cell_type": "code",
   "execution_count": null,
   "id": "bb8d9b93",
   "metadata": {},
   "outputs": [],
   "source": [
    "df"
   ]
  },
  {
   "cell_type": "code",
   "execution_count": null,
   "id": "c9c8e80f",
   "metadata": {},
   "outputs": [],
   "source": [
    "df['date'] = pd.to_datetime(df_pull['date'])"
   ]
  },
  {
   "cell_type": "code",
   "execution_count": null,
   "id": "c0d4320e",
   "metadata": {},
   "outputs": [],
   "source": [
    "df.dtypes"
   ]
  },
  {
   "cell_type": "code",
   "execution_count": null,
   "id": "f1b4520b",
   "metadata": {},
   "outputs": [],
   "source": [
    "def extract_month():\n",
    "    df['date'] =df['date'].dt.month_name()\n",
    "\n",
    "    return df\n",
    "extract_month()"
   ]
  },
  {
   "cell_type": "code",
   "execution_count": null,
   "id": "e90e3c0a",
   "metadata": {},
   "outputs": [],
   "source": [
    "sns.countplot(x = 'date', data = df);\n"
   ]
  },
  {
   "cell_type": "code",
   "execution_count": null,
   "id": "436638bd",
   "metadata": {},
   "outputs": [],
   "source": [
    "df"
   ]
  },
  {
   "cell_type": "code",
   "execution_count": null,
   "id": "63aa942a",
   "metadata": {},
   "outputs": [],
   "source": [
    "# dff.set_index('user')\n",
    "def answer_four():\n",
    "    result = df[['user','pid']].groupby('user').count()\n",
    "    result.sort_values(by = 'pid', ascending =False, inplace = True)\n",
    "    result = result.head(10)\n",
    "    return result.plot.bar(y='pid',figsize=(15, 8))\n",
    "    \n",
    "# result.plot.hist(by = 'pid', bins=12)\n",
    "# plt.hist(result, bins=5)\n",
    "answer_four()"
   ]
  },
  {
   "cell_type": "code",
   "execution_count": null,
   "id": "4c901ba8",
   "metadata": {},
   "outputs": [],
   "source": [
    "def answer_five():\n",
    "    result = df[['user','pid']].groupby('user').count()\n",
    "    result.sort_values(by = 'pid', ascending =False, inplace = True)\n",
    "    # result = result.head(10)\n",
    "    # result.plot.bar(y='pid',figsize=(15, 8))\n",
    "\n",
    "    result.plot.hist(by = 'pid', bins=12)\n",
    "    plt.title('Is the project welcoming to the new Contributors ?')\n",
    "    return plt.show()\n",
    "answer_five()"
   ]
  },
  {
   "cell_type": "code",
   "execution_count": null,
   "id": "ae15a8a4",
   "metadata": {},
   "outputs": [],
   "source": [
    "df.hist()"
   ]
  },
  {
   "cell_type": "code",
   "execution_count": null,
   "id": "410de25e",
   "metadata": {},
   "outputs": [],
   "source": [
    "def answer_six():\n",
    "    last_ten = df[['file','pid']].groupby('pid').count()\n",
    "    last_ten.sort_values(by = 'file', ascending =True, inplace = True)\n",
    "    return last_ten.head(10)\n",
    "answer_six()"
   ]
  },
  {
   "cell_type": "code",
   "execution_count": null,
   "id": "869fe27a",
   "metadata": {},
   "outputs": [],
   "source": [
    "def answer_seven():\n",
    "    file = 'src/compiler/scala/reflect/reify/phases/Calculate.scala'\n",
    "    x = df[df['file'] == file]\n",
    "    y = x[['file','user']].groupby('user').count()\n",
    "    y.sort_values(by = 'file', ascending =False, inplace = True)\n",
    "    return y[0:3]\n",
    "\n",
    "answer_seven()"
   ]
  },
  {
   "cell_type": "code",
   "execution_count": null,
   "id": "540de90e",
   "metadata": {},
   "outputs": [],
   "source": [
    "def answer_eight():\n",
    "    file = 'src/compiler/scala/reflect/reify/phases/Calculate.scala'\n",
    "    x = df[df['file'] == file]\n",
    "    \n",
    "    x.sort_values(by = 'date', ascending =True, inplace = True)\n",
    "    final =  x.head(10)\n",
    "    return final['user']\n",
    "answer_eight()"
   ]
  },
  {
   "cell_type": "code",
   "execution_count": null,
   "id": "c516b219",
   "metadata": {},
   "outputs": [],
   "source": [
    "df['user'].count()"
   ]
  },
  {
   "cell_type": "code",
   "execution_count": null,
   "id": "ed6ca690",
   "metadata": {},
   "outputs": [],
   "source": []
  }
 ],
 "metadata": {
  "kernelspec": {
   "display_name": "Python 3",
   "language": "python",
   "name": "python3"
  },
  "language_info": {
   "codemirror_mode": {
    "name": "ipython",
    "version": 3
   },
   "file_extension": ".py",
   "mimetype": "text/x-python",
   "name": "python",
   "nbconvert_exporter": "python",
   "pygments_lexer": "ipython3",
   "version": "3.8.8"
  }
 },
 "nbformat": 4,
 "nbformat_minor": 5
}
